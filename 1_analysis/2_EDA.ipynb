{
 "cells": [
  {
   "cell_type": "markdown",
   "metadata": {},
   "source": [
    "# 2. EDA"
   ]
  },
  {
   "cell_type": "code",
   "execution_count": 2,
   "metadata": {},
   "outputs": [],
   "source": [
    "import io\n",
    "import os\n",
    "import json\n",
    "import pandas as pd\n",
    "import numpy as np\n",
    "import random\n",
    "import distutils.dir_util\n",
    "from matplotlib import pyplot as plt\n",
    "import seaborn as sns\n",
    "import matplotlib.font_manager as fm\n",
    "from collections import Counter\n",
    "import string\n",
    "from datetime import datetime\n",
    "\n",
    "fe = fm.FontEntry(\n",
    "    fname=r'./font/NanumGothic.ttf', name='NanumGothic')                       \n",
    "fm.fontManager.ttflist.insert(0, fe)              # Matplotlib에 폰트 추가\n",
    "plt.rcParams.update({'font.size': 10, 'font.family': 'NanumGothic'}) "
   ]
  },
  {
   "cell_type": "code",
   "execution_count": 3,
   "metadata": {},
   "outputs": [],
   "source": [
    "playlists = pd.read_json('../0_data/playlists.json', typ = 'frame', encoding='utf-8')\n",
    "song_meta = pd.read_json('../0_data/song_meta.json', typ = 'frame', encoding='utf-8') \n",
    "genre_gn_all = pd.read_json('../0_data/genre_gn_all.json', typ = 'frame', encoding='utf-8', orient='index')"
   ]
  },
  {
   "cell_type": "markdown",
   "metadata": {},
   "source": [
    "## 1) Song Meta & Genre"
   ]
  },
  {
   "cell_type": "markdown",
   "metadata": {},
   "source": [
    "> Genre"
   ]
  },
  {
   "cell_type": "markdown",
   "metadata": {},
   "source": [
    "- 대분류 장르, 세부 장르 비교"
   ]
  },
  {
   "cell_type": "code",
   "execution_count": 7,
   "metadata": {},
   "outputs": [
    {
     "data": {
      "text/html": [
       "<div>\n",
       "<style scoped>\n",
       "    .dataframe tbody tr th:only-of-type {\n",
       "        vertical-align: middle;\n",
       "    }\n",
       "\n",
       "    .dataframe tbody tr th {\n",
       "        vertical-align: top;\n",
       "    }\n",
       "\n",
       "    .dataframe thead th {\n",
       "        text-align: right;\n",
       "    }\n",
       "</style>\n",
       "<table border=\"1\" class=\"dataframe\">\n",
       "  <thead>\n",
       "    <tr style=\"text-align: right;\">\n",
       "      <th></th>\n",
       "      <th>0</th>\n",
       "    </tr>\n",
       "  </thead>\n",
       "  <tbody>\n",
       "    <tr>\n",
       "      <th>GN0100</th>\n",
       "      <td>발라드</td>\n",
       "    </tr>\n",
       "    <tr>\n",
       "      <th>GN0101</th>\n",
       "      <td>세부장르전체</td>\n",
       "    </tr>\n",
       "    <tr>\n",
       "      <th>GN0102</th>\n",
       "      <td>'80</td>\n",
       "    </tr>\n",
       "    <tr>\n",
       "      <th>GN0103</th>\n",
       "      <td>'90</td>\n",
       "    </tr>\n",
       "    <tr>\n",
       "      <th>GN0104</th>\n",
       "      <td>'00</td>\n",
       "    </tr>\n",
       "  </tbody>\n",
       "</table>\n",
       "</div>"
      ],
      "text/plain": [
       "             0\n",
       "GN0100     발라드\n",
       "GN0101  세부장르전체\n",
       "GN0102     '80\n",
       "GN0103     '90\n",
       "GN0104     '00"
      ]
     },
     "execution_count": 7,
     "metadata": {},
     "output_type": "execute_result"
    }
   ],
   "source": [
    "# genre_gn_all 확인\n",
    "genre_gn_all.head()"
   ]
  },
  {
   "cell_type": "code",
   "execution_count": 8,
   "metadata": {},
   "outputs": [
    {
     "data": {
      "text/html": [
       "<div>\n",
       "<style scoped>\n",
       "    .dataframe tbody tr th:only-of-type {\n",
       "        vertical-align: middle;\n",
       "    }\n",
       "\n",
       "    .dataframe tbody tr th {\n",
       "        vertical-align: top;\n",
       "    }\n",
       "\n",
       "    .dataframe thead th {\n",
       "        text-align: right;\n",
       "    }\n",
       "</style>\n",
       "<table border=\"1\" class=\"dataframe\">\n",
       "  <thead>\n",
       "    <tr style=\"text-align: right;\">\n",
       "      <th></th>\n",
       "      <th>gnr_code</th>\n",
       "      <th>gnr_name</th>\n",
       "    </tr>\n",
       "  </thead>\n",
       "  <tbody>\n",
       "    <tr>\n",
       "      <th>0</th>\n",
       "      <td>GN0100</td>\n",
       "      <td>발라드</td>\n",
       "    </tr>\n",
       "    <tr>\n",
       "      <th>1</th>\n",
       "      <td>GN0101</td>\n",
       "      <td>세부장르전체</td>\n",
       "    </tr>\n",
       "    <tr>\n",
       "      <th>2</th>\n",
       "      <td>GN0102</td>\n",
       "      <td>'80</td>\n",
       "    </tr>\n",
       "    <tr>\n",
       "      <th>3</th>\n",
       "      <td>GN0103</td>\n",
       "      <td>'90</td>\n",
       "    </tr>\n",
       "    <tr>\n",
       "      <th>4</th>\n",
       "      <td>GN0104</td>\n",
       "      <td>'00</td>\n",
       "    </tr>\n",
       "  </tbody>\n",
       "</table>\n",
       "</div>"
      ],
      "text/plain": [
       "  gnr_code gnr_name\n",
       "0   GN0100      발라드\n",
       "1   GN0101   세부장르전체\n",
       "2   GN0102      '80\n",
       "3   GN0103      '90\n",
       "4   GN0104      '00"
      ]
     },
     "execution_count": 8,
     "metadata": {},
     "output_type": "execute_result"
    }
   ],
   "source": [
    "# genre_gn_all의 컬럼 네임 지정\n",
    "\n",
    "genre_gn_all = genre_gn_all.reset_index().rename(columns={'index':'gnr_code', 0:'gnr_name'})\n",
    "genre_gn_all.head()"
   ]
  },
  {
   "cell_type": "code",
   "execution_count": 9,
   "metadata": {},
   "outputs": [
    {
     "name": "stderr",
     "output_type": "stream",
     "text": [
      "C:\\Users\\cg063\\AppData\\Local\\Temp\\ipykernel_4088\\906477822.py:6: SettingWithCopyWarning: \n",
      "A value is trying to be set on a copy of a slice from a DataFrame\n",
      "\n",
      "See the caveats in the documentation: https://pandas.pydata.org/pandas-docs/stable/user_guide/indexing.html#returning-a-view-versus-a-copy\n",
      "  dtl_gnr_code.rename(columns = {'gnr_code' : 'dtl_gnr_code', 'gnr_name' : 'dtl_gnr_name'}, inplace = True)\n"
     ]
    },
    {
     "data": {
      "text/html": [
       "<div>\n",
       "<style scoped>\n",
       "    .dataframe tbody tr th:only-of-type {\n",
       "        vertical-align: middle;\n",
       "    }\n",
       "\n",
       "    .dataframe tbody tr th {\n",
       "        vertical-align: top;\n",
       "    }\n",
       "\n",
       "    .dataframe thead th {\n",
       "        text-align: right;\n",
       "    }\n",
       "</style>\n",
       "<table border=\"1\" class=\"dataframe\">\n",
       "  <thead>\n",
       "    <tr style=\"text-align: right;\">\n",
       "      <th></th>\n",
       "      <th>gnr_code</th>\n",
       "      <th>gnr_name</th>\n",
       "      <th>join_code</th>\n",
       "      <th>dtl_gnr_code</th>\n",
       "      <th>dtl_gnr_name</th>\n",
       "    </tr>\n",
       "  </thead>\n",
       "  <tbody>\n",
       "    <tr>\n",
       "      <th>0</th>\n",
       "      <td>GN0100</td>\n",
       "      <td>발라드</td>\n",
       "      <td>GN01</td>\n",
       "      <td>GN0101</td>\n",
       "      <td>세부장르전체</td>\n",
       "    </tr>\n",
       "    <tr>\n",
       "      <th>1</th>\n",
       "      <td>GN0100</td>\n",
       "      <td>발라드</td>\n",
       "      <td>GN01</td>\n",
       "      <td>GN0102</td>\n",
       "      <td>'80</td>\n",
       "    </tr>\n",
       "    <tr>\n",
       "      <th>2</th>\n",
       "      <td>GN0100</td>\n",
       "      <td>발라드</td>\n",
       "      <td>GN01</td>\n",
       "      <td>GN0103</td>\n",
       "      <td>'90</td>\n",
       "    </tr>\n",
       "    <tr>\n",
       "      <th>3</th>\n",
       "      <td>GN0100</td>\n",
       "      <td>발라드</td>\n",
       "      <td>GN01</td>\n",
       "      <td>GN0104</td>\n",
       "      <td>'00</td>\n",
       "    </tr>\n",
       "    <tr>\n",
       "      <th>4</th>\n",
       "      <td>GN0100</td>\n",
       "      <td>발라드</td>\n",
       "      <td>GN01</td>\n",
       "      <td>GN0105</td>\n",
       "      <td>'10-</td>\n",
       "    </tr>\n",
       "    <tr>\n",
       "      <th>...</th>\n",
       "      <td>...</td>\n",
       "      <td>...</td>\n",
       "      <td>...</td>\n",
       "      <td>...</td>\n",
       "      <td>...</td>\n",
       "    </tr>\n",
       "    <tr>\n",
       "      <th>220</th>\n",
       "      <td>GN2800</td>\n",
       "      <td>뮤직테라피</td>\n",
       "      <td>GN28</td>\n",
       "      <td>GN2806</td>\n",
       "      <td>반려동물</td>\n",
       "    </tr>\n",
       "    <tr>\n",
       "      <th>221</th>\n",
       "      <td>GN2900</td>\n",
       "      <td>뮤지컬</td>\n",
       "      <td>GN29</td>\n",
       "      <td>GN2901</td>\n",
       "      <td>세부장르전체</td>\n",
       "    </tr>\n",
       "    <tr>\n",
       "      <th>222</th>\n",
       "      <td>GN2900</td>\n",
       "      <td>뮤지컬</td>\n",
       "      <td>GN29</td>\n",
       "      <td>GN2902</td>\n",
       "      <td>국내뮤지컬</td>\n",
       "    </tr>\n",
       "    <tr>\n",
       "      <th>223</th>\n",
       "      <td>GN2900</td>\n",
       "      <td>뮤지컬</td>\n",
       "      <td>GN29</td>\n",
       "      <td>GN2903</td>\n",
       "      <td>국외뮤지컬</td>\n",
       "    </tr>\n",
       "    <tr>\n",
       "      <th>224</th>\n",
       "      <td>GN3000</td>\n",
       "      <td>크리스마스</td>\n",
       "      <td>GN30</td>\n",
       "      <td>NaN</td>\n",
       "      <td>NaN</td>\n",
       "    </tr>\n",
       "  </tbody>\n",
       "</table>\n",
       "<p>225 rows × 5 columns</p>\n",
       "</div>"
      ],
      "text/plain": [
       "    gnr_code gnr_name join_code dtl_gnr_code dtl_gnr_name\n",
       "0     GN0100      발라드      GN01       GN0101       세부장르전체\n",
       "1     GN0100      발라드      GN01       GN0102          '80\n",
       "2     GN0100      발라드      GN01       GN0103          '90\n",
       "3     GN0100      발라드      GN01       GN0104          '00\n",
       "4     GN0100      발라드      GN01       GN0105         '10-\n",
       "..       ...      ...       ...          ...          ...\n",
       "220   GN2800    뮤직테라피      GN28       GN2806         반려동물\n",
       "221   GN2900      뮤지컬      GN29       GN2901       세부장르전체\n",
       "222   GN2900      뮤지컬      GN29       GN2902        국내뮤지컬\n",
       "223   GN2900      뮤지컬      GN29       GN2903        국외뮤지컬\n",
       "224   GN3000    크리스마스      GN30          NaN          NaN\n",
       "\n",
       "[225 rows x 5 columns]"
      ]
     },
     "execution_count": 9,
     "metadata": {},
     "output_type": "execute_result"
    }
   ],
   "source": [
    "# 대분류 장르코드들만 뽑기\n",
    "gnr_code = genre_gn_all[genre_gn_all['gnr_code'].str[-2:]=='00']\n",
    "\n",
    "# 소분류 장르코드만 뽑기\n",
    "dtl_gnr_code = genre_gn_all[genre_gn_all['gnr_code'].str[-2:] != '00']\n",
    "dtl_gnr_code.rename(columns = {'gnr_code' : 'dtl_gnr_code', 'gnr_name' : 'dtl_gnr_name'}, inplace = True)\n",
    "\n",
    "# 대분류 장르코드와 소분류 장르코드 각각의 앞자리 네자리 공통코드 추출\n",
    "gnr_code = gnr_code.assign(join_code = gnr_code['gnr_code'].str[0:4])\n",
    "dtl_gnr_code = dtl_gnr_code.assign(join_code = dtl_gnr_code['dtl_gnr_code'].str[0:4])\n",
    "\n",
    "# join_code(네자리 공통코드) 기준으로 Merge\n",
    "gnr_code_tree = pd.merge(gnr_code, dtl_gnr_code, how = 'left', on = 'join_code')\n",
    "\n",
    "gnr_code_tree[['gnr_code', 'gnr_name', 'dtl_gnr_code', 'dtl_gnr_name']]\n",
    "gnr_code_tree"
   ]
  },
  {
   "cell_type": "code",
   "execution_count": 10,
   "metadata": {},
   "outputs": [
    {
     "data": {
      "text/html": [
       "<div>\n",
       "<style scoped>\n",
       "    .dataframe tbody tr th:only-of-type {\n",
       "        vertical-align: middle;\n",
       "    }\n",
       "\n",
       "    .dataframe tbody tr th {\n",
       "        vertical-align: top;\n",
       "    }\n",
       "\n",
       "    .dataframe thead th {\n",
       "        text-align: right;\n",
       "    }\n",
       "</style>\n",
       "<table border=\"1\" class=\"dataframe\">\n",
       "  <thead>\n",
       "    <tr style=\"text-align: right;\">\n",
       "      <th></th>\n",
       "      <th>gnr_name</th>\n",
       "      <th>dtl_gnr_name</th>\n",
       "    </tr>\n",
       "  </thead>\n",
       "  <tbody>\n",
       "    <tr>\n",
       "      <th>0</th>\n",
       "      <td>CCM</td>\n",
       "      <td>[세부장르전체, 국내CCM, 국외CCM, 워십, 찬송가, 성가, 연주곡, 어린이, ...</td>\n",
       "    </tr>\n",
       "    <tr>\n",
       "      <th>1</th>\n",
       "      <td>EDM</td>\n",
       "      <td>[세부장르전체, 하우스, 클럽, DJ]</td>\n",
       "    </tr>\n",
       "    <tr>\n",
       "      <th>2</th>\n",
       "      <td>J-POP</td>\n",
       "      <td>[세부장르전체, POP, 록, 일렉트로니카, 랩/힙합, R&amp;B/Soul, 시부야케이...</td>\n",
       "    </tr>\n",
       "    <tr>\n",
       "      <th>3</th>\n",
       "      <td>OST</td>\n",
       "      <td>[세부장르전체, 국내영화, 국외영화, 국내드라마, 국외드라마, 애니메이션/게임, 국...</td>\n",
       "    </tr>\n",
       "    <tr>\n",
       "      <th>4</th>\n",
       "      <td>POP</td>\n",
       "      <td>[세부장르전체, 얼터너티브팝, 올디스, 월드팝, '60-'70, '80-'90, '...</td>\n",
       "    </tr>\n",
       "    <tr>\n",
       "      <th>5</th>\n",
       "      <td>R&amp;B/Soul</td>\n",
       "      <td>[세부장르전체, 어반, R&amp;B, 세부장르전체, 컨템포러리 R&amp;B, 소울, 어반, '...</td>\n",
       "    </tr>\n",
       "    <tr>\n",
       "      <th>6</th>\n",
       "      <td>국악</td>\n",
       "      <td>[세부장르전체, 크로스오버, 국악가요, 민요, 판소리/단가, 풍물/사물놀이]</td>\n",
       "    </tr>\n",
       "    <tr>\n",
       "      <th>7</th>\n",
       "      <td>뉴에이지</td>\n",
       "      <td>[세부장르전체, 이지리스닝, J-Newage, 기능성음악, 기타, 피아노, 컴필레이션]</td>\n",
       "    </tr>\n",
       "    <tr>\n",
       "      <th>8</th>\n",
       "      <td>댄스</td>\n",
       "      <td>[세부장르전체, '80, '90, '00, '10-]</td>\n",
       "    </tr>\n",
       "    <tr>\n",
       "      <th>9</th>\n",
       "      <td>랩/힙합</td>\n",
       "      <td>[세부장르전체, 랩 스타일, 보컬 스타일, 언더그라운드 힙합, 시대별, 세부장르전체...</td>\n",
       "    </tr>\n",
       "    <tr>\n",
       "      <th>10</th>\n",
       "      <td>록/메탈</td>\n",
       "      <td>[세부장르전체, '70, '80, '90, '00, '10-, 세부장르전체, 모던록...</td>\n",
       "    </tr>\n",
       "    <tr>\n",
       "      <th>11</th>\n",
       "      <td>뮤지컬</td>\n",
       "      <td>[세부장르전체, 국내뮤지컬, 국외뮤지컬]</td>\n",
       "    </tr>\n",
       "    <tr>\n",
       "      <th>12</th>\n",
       "      <td>뮤직테라피</td>\n",
       "      <td>[세부장르전체, ASMR/자연, 힐링/명상/요가, 집중력, 숙면유도, 반려동물]</td>\n",
       "    </tr>\n",
       "    <tr>\n",
       "      <th>13</th>\n",
       "      <td>발라드</td>\n",
       "      <td>[세부장르전체, '80, '90, '00, '10-]</td>\n",
       "    </tr>\n",
       "    <tr>\n",
       "      <th>14</th>\n",
       "      <td>성인가요</td>\n",
       "      <td>[세부장르전체, 신세대트로트, 전설의트로트, 뽕짝트로트, 트로트메들리, 트로트'60...</td>\n",
       "    </tr>\n",
       "    <tr>\n",
       "      <th>15</th>\n",
       "      <td>아이돌</td>\n",
       "      <td>[세부장르전체, 남자 아이돌, 여자 아이돌, 랩/힙합, 발라드, 댄스]</td>\n",
       "    </tr>\n",
       "    <tr>\n",
       "      <th>16</th>\n",
       "      <td>어린이/태교</td>\n",
       "      <td>[유아동요, 창작동요, 영어동요, 영어동요, 영어동요, 영어동화, 만화, 자장가, ...</td>\n",
       "    </tr>\n",
       "    <tr>\n",
       "      <th>17</th>\n",
       "      <td>월드뮤직</td>\n",
       "      <td>[세부장르전체, 샹송/프렌치팝, 칸초네/이탈리안팝, 중국음악, 켈틱/아이리시, 브라...</td>\n",
       "    </tr>\n",
       "    <tr>\n",
       "      <th>18</th>\n",
       "      <td>인디음악</td>\n",
       "      <td>[세부장르전체, 포크, 록, 일렉, 힙합, 발라드, '90, '00, '10-]</td>\n",
       "    </tr>\n",
       "    <tr>\n",
       "      <th>19</th>\n",
       "      <td>일렉트로니카</td>\n",
       "      <td>[세부장르전체, 일렉트로니카, 하우스, 클럽뮤직, 일렉트로닉팝, '80, '90, ...</td>\n",
       "    </tr>\n",
       "    <tr>\n",
       "      <th>20</th>\n",
       "      <td>재즈</td>\n",
       "      <td>[세부장르전체, 보컬재즈, 애시드/퓨전/팝, Bop, 보사노바, J-Jazz, 라틴...</td>\n",
       "    </tr>\n",
       "    <tr>\n",
       "      <th>21</th>\n",
       "      <td>종교음악</td>\n",
       "      <td>[가톨릭, 불교]</td>\n",
       "    </tr>\n",
       "    <tr>\n",
       "      <th>22</th>\n",
       "      <td>크리스마스</td>\n",
       "      <td>[nan]</td>\n",
       "    </tr>\n",
       "    <tr>\n",
       "      <th>23</th>\n",
       "      <td>클래식</td>\n",
       "      <td>[세부장르전체, 관현악, 교향곡, 실내악, 협주곡, 독주곡, 오페라, 크로스오버, ...</td>\n",
       "    </tr>\n",
       "    <tr>\n",
       "      <th>24</th>\n",
       "      <td>포크/블루스</td>\n",
       "      <td>[세부장르전체, '60-'70, '80-'90, '00, '10-]</td>\n",
       "    </tr>\n",
       "    <tr>\n",
       "      <th>25</th>\n",
       "      <td>포크/블루스/컨트리</td>\n",
       "      <td>[세부장르전체, 포크, 블루스, 컨트리, '60-'70, '80-'90, '00-]</td>\n",
       "    </tr>\n",
       "  </tbody>\n",
       "</table>\n",
       "</div>"
      ],
      "text/plain": [
       "      gnr_name                                       dtl_gnr_name\n",
       "0          CCM  [세부장르전체, 국내CCM, 국외CCM, 워십, 찬송가, 성가, 연주곡, 어린이, ...\n",
       "1          EDM                              [세부장르전체, 하우스, 클럽, DJ]\n",
       "2        J-POP  [세부장르전체, POP, 록, 일렉트로니카, 랩/힙합, R&B/Soul, 시부야케이...\n",
       "3          OST  [세부장르전체, 국내영화, 국외영화, 국내드라마, 국외드라마, 애니메이션/게임, 국...\n",
       "4          POP  [세부장르전체, 얼터너티브팝, 올디스, 월드팝, '60-'70, '80-'90, '...\n",
       "5     R&B/Soul  [세부장르전체, 어반, R&B, 세부장르전체, 컨템포러리 R&B, 소울, 어반, '...\n",
       "6           국악         [세부장르전체, 크로스오버, 국악가요, 민요, 판소리/단가, 풍물/사물놀이]\n",
       "7         뉴에이지   [세부장르전체, 이지리스닝, J-Newage, 기능성음악, 기타, 피아노, 컴필레이션]\n",
       "8           댄스                      [세부장르전체, '80, '90, '00, '10-]\n",
       "9         랩/힙합  [세부장르전체, 랩 스타일, 보컬 스타일, 언더그라운드 힙합, 시대별, 세부장르전체...\n",
       "10        록/메탈  [세부장르전체, '70, '80, '90, '00, '10-, 세부장르전체, 모던록...\n",
       "11         뮤지컬                             [세부장르전체, 국내뮤지컬, 국외뮤지컬]\n",
       "12       뮤직테라피       [세부장르전체, ASMR/자연, 힐링/명상/요가, 집중력, 숙면유도, 반려동물]\n",
       "13         발라드                      [세부장르전체, '80, '90, '00, '10-]\n",
       "14        성인가요  [세부장르전체, 신세대트로트, 전설의트로트, 뽕짝트로트, 트로트메들리, 트로트'60...\n",
       "15         아이돌            [세부장르전체, 남자 아이돌, 여자 아이돌, 랩/힙합, 발라드, 댄스]\n",
       "16      어린이/태교  [유아동요, 창작동요, 영어동요, 영어동요, 영어동요, 영어동화, 만화, 자장가, ...\n",
       "17        월드뮤직  [세부장르전체, 샹송/프렌치팝, 칸초네/이탈리안팝, 중국음악, 켈틱/아이리시, 브라...\n",
       "18        인디음악       [세부장르전체, 포크, 록, 일렉, 힙합, 발라드, '90, '00, '10-]\n",
       "19      일렉트로니카  [세부장르전체, 일렉트로니카, 하우스, 클럽뮤직, 일렉트로닉팝, '80, '90, ...\n",
       "20          재즈  [세부장르전체, 보컬재즈, 애시드/퓨전/팝, Bop, 보사노바, J-Jazz, 라틴...\n",
       "21        종교음악                                          [가톨릭, 불교]\n",
       "22       크리스마스                                              [nan]\n",
       "23         클래식  [세부장르전체, 관현악, 교향곡, 실내악, 협주곡, 독주곡, 오페라, 크로스오버, ...\n",
       "24      포크/블루스              [세부장르전체, '60-'70, '80-'90, '00, '10-]\n",
       "25  포크/블루스/컨트리     [세부장르전체, 포크, 블루스, 컨트리, '60-'70, '80-'90, '00-]"
      ]
     },
     "execution_count": 10,
     "metadata": {},
     "output_type": "execute_result"
    }
   ],
   "source": [
    "# 대분류 장르에는 어떤 소분류 장르가 있는지 확인\n",
    "gnr_code_tree.groupby('gnr_name')['dtl_gnr_name'].apply(list).reset_index()"
   ]
  },
  {
   "cell_type": "markdown",
   "metadata": {},
   "source": [
    "-> 대분류 코드 중 일부 중복 :R&B/Soul(GN0400, GN1300), 록/메탈(GN0600, GN1000)  \n",
    "-> 대분류 코드 중 크리스마스(GN3000)는 소분류 코드 X"
   ]
  },
  {
   "cell_type": "markdown",
   "metadata": {},
   "source": [
    "> Song Meta "
   ]
  },
  {
   "cell_type": "markdown",
   "metadata": {},
   "source": [
    "- 오류 날짜 확인"
   ]
  },
  {
   "cell_type": "code",
   "execution_count": 11,
   "metadata": {},
   "outputs": [
    {
     "name": "stderr",
     "output_type": "stream",
     "text": [
      "C:\\Users\\cg063\\AppData\\Local\\Temp\\ipykernel_4088\\1253507143.py:3: SettingWithCopyWarning: \n",
      "A value is trying to be set on a copy of a slice from a DataFrame.\n",
      "Try using .loc[row_indexer,col_indexer] = value instead\n",
      "\n",
      "See the caveats in the documentation: https://pandas.pydata.org/pandas-docs/stable/user_guide/indexing.html#returning-a-view-versus-a-copy\n",
      "  song_issue_date['issue_date'] = song_issue_date['issue_date'].astype(str)\n",
      "C:\\Users\\cg063\\AppData\\Local\\Temp\\ipykernel_4088\\1253507143.py:6: SettingWithCopyWarning: \n",
      "A value is trying to be set on a copy of a slice from a DataFrame.\n",
      "Try using .loc[row_indexer,col_indexer] = value instead\n",
      "\n",
      "See the caveats in the documentation: https://pandas.pydata.org/pandas-docs/stable/user_guide/indexing.html#returning-a-view-versus-a-copy\n",
      "  song_issue_date['issue_year'] = song_issue_date['issue_date'].str[0:4]\n",
      "C:\\Users\\cg063\\AppData\\Local\\Temp\\ipykernel_4088\\1253507143.py:7: SettingWithCopyWarning: \n",
      "A value is trying to be set on a copy of a slice from a DataFrame\n",
      "\n",
      "See the caveats in the documentation: https://pandas.pydata.org/pandas-docs/stable/user_guide/indexing.html#returning-a-view-versus-a-copy\n",
      "  song_issue_date.rename(columns = {'id' : 'song_id'}, inplace = True)\n",
      "C:\\Users\\cg063\\AppData\\Local\\Temp\\ipykernel_4088\\1253507143.py:8: SettingWithCopyWarning: \n",
      "A value is trying to be set on a copy of a slice from a DataFrame.\n",
      "Try using .loc[row_indexer,col_indexer] = value instead\n",
      "\n",
      "See the caveats in the documentation: https://pandas.pydata.org/pandas-docs/stable/user_guide/indexing.html#returning-a-view-versus-a-copy\n",
      "  song_issue_date['song_id'] = song_issue_date['song_id'].astype(str)\n"
     ]
    },
    {
     "data": {
      "image/png": "[encoded data removed]",
      "text/plain": [
       "<Figure size 640x480 with 1 Axes>"
      ]
     },
     "metadata": {},
     "output_type": "display_data"
    }
   ],
   "source": [
    "# 1. 곡 아이디(id)와 발매일자(issue_date) 추출\n",
    "song_issue_date = song_meta[['id', 'issue_date']]\n",
    "song_issue_date['issue_date'] = song_issue_date['issue_date'].astype(str)\n",
    "\n",
    "# 2. issue_date의 앞자리 네 자리를 추출하여 발매년도(issue_year) 변수 생성\n",
    "song_issue_date['issue_year'] = song_issue_date['issue_date'].str[0:4]\n",
    "song_issue_date.rename(columns = {'id' : 'song_id'}, inplace = True)\n",
    "song_issue_date['song_id'] = song_issue_date['song_id'].astype(str)\n",
    "\n",
    "# 3. 1990년도~ 필터링\n",
    "song_issue_date_filter = song_issue_date[song_issue_date.issue_year >= '1990']\n",
    "\n",
    "# 4. 발매년도 별 곡 수 count 테이블 생성 : issue_year_song_cnt\n",
    "issue_year_song_cnt = song_issue_date_filter.groupby('issue_year').song_id.nunique().reset_index(name = 'song_cnt')\n",
    "\n",
    "# 5. plotting\n",
    "issue_year_song_cnt_plot = sns.barplot(x = 'issue_year', y = 'song_cnt', data = issue_year_song_cnt, color = 'grey')\n",
    "issue_year_song_cnt_plot.set_title('발매년도 별 곡 수 추이 (1990년~)')\n",
    "issue_year_song_cnt_plot.set_xlabel('발매년도')\n",
    "issue_year_song_cnt_plot.set_ylabel('곡 수')\n",
    "plt.xticks(rotation = 90)\n",
    "plt.show()"
   ]
  },
  {
   "cell_type": "code",
   "execution_count": 12,
   "metadata": {},
   "outputs": [
    {
     "data": {
      "text/html": [
       "<div>\n",
       "<style scoped>\n",
       "    .dataframe tbody tr th:only-of-type {\n",
       "        vertical-align: middle;\n",
       "    }\n",
       "\n",
       "    .dataframe tbody tr th {\n",
       "        vertical-align: top;\n",
       "    }\n",
       "\n",
       "    .dataframe thead th {\n",
       "        text-align: right;\n",
       "    }\n",
       "</style>\n",
       "<table border=\"1\" class=\"dataframe\">\n",
       "  <thead>\n",
       "    <tr style=\"text-align: right;\">\n",
       "      <th></th>\n",
       "      <th>song_gn_dtl_gnr_basket</th>\n",
       "      <th>issue_date</th>\n",
       "      <th>album_name</th>\n",
       "      <th>album_id</th>\n",
       "      <th>artist_id_basket</th>\n",
       "      <th>song_name</th>\n",
       "      <th>song_gn_gnr_basket</th>\n",
       "      <th>artist_name_basket</th>\n",
       "      <th>id</th>\n",
       "    </tr>\n",
       "  </thead>\n",
       "  <tbody>\n",
       "    <tr>\n",
       "      <th>141185</th>\n",
       "      <td>[GN1801]</td>\n",
       "      <td>20220113</td>\n",
       "      <td>고요한 밤바다 구경하기 [여수 바다]</td>\n",
       "      <td>10403230</td>\n",
       "      <td>[2737142]</td>\n",
       "      <td>잔잔한 바람이 불어와 (There is a gentle breeze)</td>\n",
       "      <td>[GN1800]</td>\n",
       "      <td>[무드홀릭 (Moodholic)]</td>\n",
       "      <td>141185</td>\n",
       "    </tr>\n",
       "    <tr>\n",
       "      <th>448286</th>\n",
       "      <td>[GN1801]</td>\n",
       "      <td>20220113</td>\n",
       "      <td>고요한 밤바다 구경하기 [여수 바다]</td>\n",
       "      <td>10403230</td>\n",
       "      <td>[2737142]</td>\n",
       "      <td>여수 바다 (Yeosu sea)</td>\n",
       "      <td>[GN1800]</td>\n",
       "      <td>[무드홀릭 (Moodholic)]</td>\n",
       "      <td>448286</td>\n",
       "    </tr>\n",
       "  </tbody>\n",
       "</table>\n",
       "</div>"
      ],
      "text/plain": [
       "       song_gn_dtl_gnr_basket  issue_date            album_name  album_id  \\\n",
       "141185               [GN1801]    20220113  고요한 밤바다 구경하기 [여수 바다]  10403230   \n",
       "448286               [GN1801]    20220113  고요한 밤바다 구경하기 [여수 바다]  10403230   \n",
       "\n",
       "       artist_id_basket                               song_name  \\\n",
       "141185        [2737142]  잔잔한 바람이 불어와 (There is a gentle breeze)   \n",
       "448286        [2737142]                       여수 바다 (Yeosu sea)   \n",
       "\n",
       "       song_gn_gnr_basket  artist_name_basket      id  \n",
       "141185           [GN1800]  [무드홀릭 (Moodholic)]  141185  \n",
       "448286           [GN1800]  [무드홀릭 (Moodholic)]  448286  "
      ]
     },
     "execution_count": 12,
     "metadata": {},
     "output_type": "execute_result"
    }
   ],
   "source": [
    "song_meta[song_meta['issue_date'] > 20200500]"
   ]
  },
  {
   "cell_type": "markdown",
   "metadata": {},
   "source": [
    "=> 오류 날짜 수정해야 함"
   ]
  },
  {
   "cell_type": "markdown",
   "metadata": {},
   "source": [
    "- 노래 별 장르 분포 화인"
   ]
  },
  {
   "cell_type": "code",
   "execution_count": 13,
   "metadata": {},
   "outputs": [
    {
     "data": {
      "image/png": "[encoded data removed]",
      "text/plain": [
       "<Figure size 6000x3000 with 1 Axes>"
      ]
     },
     "metadata": {},
     "output_type": "display_data"
    }
   ],
   "source": [
    "song_gnr = song_meta.explode('song_gn_gnr_basket').groupby('song_gn_gnr_basket')['id'].count().reset_index().rename(columns={'song_gn_gnr_basket':'song_gnr', 'id':'id_cnt'})\n",
    "\n",
    "plt.figure(figsize=(60, 30))\n",
    "plt.bar(song_gnr['song_gnr'], song_gnr['id_cnt'], width=0.4)\n",
    "plt.title('장르 별 노래 개수 분포')\n",
    "plt.rc('font', size=30)  \n",
    "plt.rc('xtick', labelsize=30) \n",
    "plt.rc('ytick', labelsize=20) \n"
   ]
  },
  {
   "cell_type": "code",
   "execution_count": 14,
   "metadata": {},
   "outputs": [
    {
     "data": {
      "text/html": [
       "<div>\n",
       "<style scoped>\n",
       "    .dataframe tbody tr th:only-of-type {\n",
       "        vertical-align: middle;\n",
       "    }\n",
       "\n",
       "    .dataframe tbody tr th {\n",
       "        vertical-align: top;\n",
       "    }\n",
       "\n",
       "    .dataframe thead th {\n",
       "        text-align: right;\n",
       "    }\n",
       "</style>\n",
       "<table border=\"1\" class=\"dataframe\">\n",
       "  <thead>\n",
       "    <tr style=\"text-align: right;\">\n",
       "      <th></th>\n",
       "      <th>song_gn_dtl_gnr_basket</th>\n",
       "      <th>issue_date</th>\n",
       "      <th>album_name</th>\n",
       "      <th>album_id</th>\n",
       "      <th>artist_id_basket</th>\n",
       "      <th>song_name</th>\n",
       "      <th>song_gn_gnr_basket</th>\n",
       "      <th>artist_name_basket</th>\n",
       "      <th>id</th>\n",
       "    </tr>\n",
       "  </thead>\n",
       "  <tbody>\n",
       "    <tr>\n",
       "      <th>262</th>\n",
       "      <td>[]</td>\n",
       "      <td>20150318</td>\n",
       "      <td>노년의 건강을 지켜주는 음악 처방전 (부제 : 휴식 때 들으면 좋은 음악친구)</td>\n",
       "      <td>2309524</td>\n",
       "      <td>[726909]</td>\n",
       "      <td>Bio Sound `Breathing &amp; Big Bell`</td>\n",
       "      <td>GN9000</td>\n",
       "      <td>[차병원]</td>\n",
       "      <td>262</td>\n",
       "    </tr>\n",
       "    <tr>\n",
       "      <th>916</th>\n",
       "      <td>[]</td>\n",
       "      <td>20170825</td>\n",
       "      <td>크리스마스의 기적</td>\n",
       "      <td>10090652</td>\n",
       "      <td>[750416]</td>\n",
       "      <td>Springtime In December</td>\n",
       "      <td>GN9000</td>\n",
       "      <td>[Larry Warren]</td>\n",
       "      <td>916</td>\n",
       "    </tr>\n",
       "    <tr>\n",
       "      <th>1074</th>\n",
       "      <td>[]</td>\n",
       "      <td>20131128</td>\n",
       "      <td>Open It Up</td>\n",
       "      <td>10008901</td>\n",
       "      <td>[1221466]</td>\n",
       "      <td>Open It Up</td>\n",
       "      <td>GN9000</td>\n",
       "      <td>[Tchengiz]</td>\n",
       "      <td>1074</td>\n",
       "    </tr>\n",
       "    <tr>\n",
       "      <th>2205</th>\n",
       "      <td>[]</td>\n",
       "      <td>20161130</td>\n",
       "      <td>크리스마스 하프 감성 연주곡 베스트</td>\n",
       "      <td>10019367</td>\n",
       "      <td>[923656]</td>\n",
       "      <td>고요한 밤 거룩한 밤 (Silent Night Holy Night) (크리스마스 하프)</td>\n",
       "      <td>GN9000</td>\n",
       "      <td>[크리스마스 캐롤송]</td>\n",
       "      <td>2205</td>\n",
       "    </tr>\n",
       "    <tr>\n",
       "      <th>3973</th>\n",
       "      <td>[]</td>\n",
       "      <td>20181210</td>\n",
       "      <td>크리스마스 재즈 캐롤 노래 연주곡 캐롤송 메들리</td>\n",
       "      <td>10230803</td>\n",
       "      <td>[2403083]</td>\n",
       "      <td>The First Noel (Jazz)</td>\n",
       "      <td>GN9000</td>\n",
       "      <td>[크리스마스]</td>\n",
       "      <td>3973</td>\n",
       "    </tr>\n",
       "    <tr>\n",
       "      <th>...</th>\n",
       "      <td>...</td>\n",
       "      <td>...</td>\n",
       "      <td>...</td>\n",
       "      <td>...</td>\n",
       "      <td>...</td>\n",
       "      <td>...</td>\n",
       "      <td>...</td>\n",
       "      <td>...</td>\n",
       "      <td>...</td>\n",
       "    </tr>\n",
       "    <tr>\n",
       "      <th>706172</th>\n",
       "      <td>[]</td>\n",
       "      <td>20190924</td>\n",
       "      <td>여행(Travel)</td>\n",
       "      <td>10331385</td>\n",
       "      <td>[2739231]</td>\n",
       "      <td>여행(Travel)</td>\n",
       "      <td>GN9000</td>\n",
       "      <td>[카무 (Kamoo)]</td>\n",
       "      <td>706172</td>\n",
       "    </tr>\n",
       "    <tr>\n",
       "      <th>706502</th>\n",
       "      <td>[]</td>\n",
       "      <td>20110831</td>\n",
       "      <td>엄마와 아가와의 행복한 대화 태교음악 뉴에이지</td>\n",
       "      <td>2009854</td>\n",
       "      <td>[561734]</td>\n",
       "      <td>Love Love Love</td>\n",
       "      <td>GN9000</td>\n",
       "      <td>[해피타임뮤직]</td>\n",
       "      <td>706502</td>\n",
       "    </tr>\n",
       "    <tr>\n",
       "      <th>706716</th>\n",
       "      <td>[]</td>\n",
       "      <td>20200109</td>\n",
       "      <td>Have It All</td>\n",
       "      <td>10373946</td>\n",
       "      <td>[2762722]</td>\n",
       "      <td>Have It All</td>\n",
       "      <td>GN9000</td>\n",
       "      <td>[Renegade]</td>\n",
       "      <td>706716</td>\n",
       "    </tr>\n",
       "    <tr>\n",
       "      <th>707201</th>\n",
       "      <td>[]</td>\n",
       "      <td>20200115</td>\n",
       "      <td>모두의 MR반주 123</td>\n",
       "      <td>10376105</td>\n",
       "      <td>[770787]</td>\n",
       "      <td>Into the Unknown (겨울왕국 2 OST) (Melody MR)</td>\n",
       "      <td>GN9000</td>\n",
       "      <td>[모두의MR]</td>\n",
       "      <td>707201</td>\n",
       "    </tr>\n",
       "    <tr>\n",
       "      <th>707869</th>\n",
       "      <td>[]</td>\n",
       "      <td>20170106</td>\n",
       "      <td>아기와 엄마가 함께 듣는 태교 음악 피아노 자장가 연주곡 베스트</td>\n",
       "      <td>10028977</td>\n",
       "      <td>[927524]</td>\n",
       "      <td>도레미송 (Doremi Song)</td>\n",
       "      <td>GN9000</td>\n",
       "      <td>[태교음악 베베]</td>\n",
       "      <td>707869</td>\n",
       "    </tr>\n",
       "  </tbody>\n",
       "</table>\n",
       "<p>1834 rows × 9 columns</p>\n",
       "</div>"
      ],
      "text/plain": [
       "       song_gn_dtl_gnr_basket  issue_date  \\\n",
       "262                        []    20150318   \n",
       "916                        []    20170825   \n",
       "1074                       []    20131128   \n",
       "2205                       []    20161130   \n",
       "3973                       []    20181210   \n",
       "...                       ...         ...   \n",
       "706172                     []    20190924   \n",
       "706502                     []    20110831   \n",
       "706716                     []    20200109   \n",
       "707201                     []    20200115   \n",
       "707869                     []    20170106   \n",
       "\n",
       "                                         album_name  album_id  \\\n",
       "262     노년의 건강을 지켜주는 음악 처방전 (부제 : 휴식 때 들으면 좋은 음악친구)   2309524   \n",
       "916                                       크리스마스의 기적  10090652   \n",
       "1074                                     Open It Up  10008901   \n",
       "2205                            크리스마스 하프 감성 연주곡 베스트  10019367   \n",
       "3973                     크리스마스 재즈 캐롤 노래 연주곡 캐롤송 메들리  10230803   \n",
       "...                                             ...       ...   \n",
       "706172                                   여행(Travel)  10331385   \n",
       "706502                    엄마와 아가와의 행복한 대화 태교음악 뉴에이지   2009854   \n",
       "706716                                  Have It All  10373946   \n",
       "707201                                 모두의 MR반주 123  10376105   \n",
       "707869          아기와 엄마가 함께 듣는 태교 음악 피아노 자장가 연주곡 베스트  10028977   \n",
       "\n",
       "       artist_id_basket                                         song_name  \\\n",
       "262            [726909]                  Bio Sound `Breathing & Big Bell`   \n",
       "916            [750416]                            Springtime In December   \n",
       "1074          [1221466]                                        Open It Up   \n",
       "2205           [923656]  고요한 밤 거룩한 밤 (Silent Night Holy Night) (크리스마스 하프)   \n",
       "3973          [2403083]                             The First Noel (Jazz)   \n",
       "...                 ...                                               ...   \n",
       "706172        [2739231]                                        여행(Travel)   \n",
       "706502         [561734]                                    Love Love Love   \n",
       "706716        [2762722]                                       Have It All   \n",
       "707201         [770787]         Into the Unknown (겨울왕국 2 OST) (Melody MR)   \n",
       "707869         [927524]                                도레미송 (Doremi Song)   \n",
       "\n",
       "       song_gn_gnr_basket artist_name_basket      id  \n",
       "262                GN9000              [차병원]     262  \n",
       "916                GN9000     [Larry Warren]     916  \n",
       "1074               GN9000         [Tchengiz]    1074  \n",
       "2205               GN9000        [크리스마스 캐롤송]    2205  \n",
       "3973               GN9000            [크리스마스]    3973  \n",
       "...                   ...                ...     ...  \n",
       "706172             GN9000       [카무 (Kamoo)]  706172  \n",
       "706502             GN9000           [해피타임뮤직]  706502  \n",
       "706716             GN9000         [Renegade]  706716  \n",
       "707201             GN9000            [모두의MR]  707201  \n",
       "707869             GN9000          [태교음악 베베]  707869  \n",
       "\n",
       "[1834 rows x 9 columns]"
      ]
     },
     "execution_count": 14,
     "metadata": {},
     "output_type": "execute_result"
    }
   ],
   "source": [
    "gnr_outlier = song_meta.explode('song_gn_gnr_basket')\n",
    "gnr_outlier[gnr_outlier['song_gn_gnr_basket'] == 'GN9000']"
   ]
  },
  {
   "cell_type": "markdown",
   "metadata": {},
   "source": [
    "=> GN9000 장르를 가진 song 삭제"
   ]
  },
  {
   "cell_type": "markdown",
   "metadata": {},
   "source": [
    "## 2) Playlists"
   ]
  },
  {
   "cell_type": "markdown",
   "metadata": {},
   "source": [
    "> playlist_title"
   ]
  },
  {
   "cell_type": "markdown",
   "metadata": {},
   "source": [
    "- 플레이리스트 내 곡들의 평균 발매일\n",
    "    - 가장 오래된 노래의 발매일, 가장 최신 노래의 발매일, 평균"
   ]
  },
  {
   "cell_type": "code",
   "execution_count": 15,
   "metadata": {},
   "outputs": [
    {
     "data": {
      "text/html": [
       "<div>\n",
       "<style scoped>\n",
       "    .dataframe tbody tr th:only-of-type {\n",
       "        vertical-align: middle;\n",
       "    }\n",
       "\n",
       "    .dataframe tbody tr th {\n",
       "        vertical-align: top;\n",
       "    }\n",
       "\n",
       "    .dataframe thead th {\n",
       "        text-align: right;\n",
       "    }\n",
       "</style>\n",
       "<table border=\"1\" class=\"dataframe\">\n",
       "  <thead>\n",
       "    <tr style=\"text-align: right;\">\n",
       "      <th></th>\n",
       "      <th>tags</th>\n",
       "      <th>id</th>\n",
       "      <th>plylst_title</th>\n",
       "      <th>songs_x</th>\n",
       "      <th>like_cnt</th>\n",
       "      <th>updt_date</th>\n",
       "      <th>issue_date</th>\n",
       "    </tr>\n",
       "  </thead>\n",
       "  <tbody>\n",
       "    <tr>\n",
       "      <th>0</th>\n",
       "      <td>[락]</td>\n",
       "      <td>61281</td>\n",
       "      <td>여행같은 음악</td>\n",
       "      <td>[525514, 129701, 383374, 562083, 297861, 13954...</td>\n",
       "      <td>71</td>\n",
       "      <td>2013-12-19 18:36:19.000</td>\n",
       "      <td>[20130506, 20130917, 19911021, 20000919, 20050...</td>\n",
       "    </tr>\n",
       "    <tr>\n",
       "      <th>1</th>\n",
       "      <td>[추억, 회상]</td>\n",
       "      <td>10532</td>\n",
       "      <td>요즘 너 말야</td>\n",
       "      <td>[432406, 675945, 497066, 120377, 389529, 24427...</td>\n",
       "      <td>1</td>\n",
       "      <td>2014-12-02 16:19:42.000</td>\n",
       "      <td>[20030314, 20061204, 20061204, 20071023, 20080...</td>\n",
       "    </tr>\n",
       "    <tr>\n",
       "      <th>2</th>\n",
       "      <td>[까페, 잔잔한]</td>\n",
       "      <td>76951</td>\n",
       "      <td>편하게, 잔잔하게 들을 수 있는 곡.-</td>\n",
       "      <td>[83116, 276692, 166267, 186301, 354465, 256598...</td>\n",
       "      <td>17</td>\n",
       "      <td>2017-08-28 07:09:34.000</td>\n",
       "      <td>[20081029, 20081029, 20140818, 20141126, 20141...</td>\n",
       "    </tr>\n",
       "    <tr>\n",
       "      <th>3</th>\n",
       "      <td>[연말, 눈오는날, 캐럴, 분위기, 따듯한, 크리스마스캐럴, 겨울노래, 크리스마스,...</td>\n",
       "      <td>147456</td>\n",
       "      <td>크리스마스 분위기에 흠뻑 취하고 싶을때</td>\n",
       "      <td>[394031, 195524, 540149, 287984, 440773, 10033...</td>\n",
       "      <td>33</td>\n",
       "      <td>2019-12-05 15:15:18.000</td>\n",
       "      <td>[20191115, 19981201, 20061124, 20101102, 20101...</td>\n",
       "    </tr>\n",
       "    <tr>\n",
       "      <th>4</th>\n",
       "      <td>[댄스]</td>\n",
       "      <td>27616</td>\n",
       "      <td>추억의 노래 ㅋ</td>\n",
       "      <td>[159327, 553610, 5130, 645103, 294435, 100657,...</td>\n",
       "      <td>9</td>\n",
       "      <td>2011-10-25 13:54:56.000</td>\n",
       "      <td>[20010619, 19970520, 19970514, 19940900, 20020...</td>\n",
       "    </tr>\n",
       "    <tr>\n",
       "      <th>...</th>\n",
       "      <td>...</td>\n",
       "      <td>...</td>\n",
       "      <td>...</td>\n",
       "      <td>...</td>\n",
       "      <td>...</td>\n",
       "      <td>...</td>\n",
       "      <td>...</td>\n",
       "    </tr>\n",
       "    <tr>\n",
       "      <th>115066</th>\n",
       "      <td>[록메탈, 밴드사운드, 록, 락메탈, 메탈, 락, extreme]</td>\n",
       "      <td>120325</td>\n",
       "      <td>METAL E'SM #2</td>\n",
       "      <td>[429629, 441511, 612106, 516359, 691768, 38714...</td>\n",
       "      <td>3</td>\n",
       "      <td>2020-04-17 04:31:11.000</td>\n",
       "      <td>[20040117, 20011108, 20011108, 20011108, 20001...</td>\n",
       "    </tr>\n",
       "    <tr>\n",
       "      <th>115067</th>\n",
       "      <td>[일렉]</td>\n",
       "      <td>106976</td>\n",
       "      <td>빠른 리스너를 위한 따끈따끈한 최신 인기 EDM 모음!</td>\n",
       "      <td>[321330, 216057, 534472, 240306, 331098, 23288...</td>\n",
       "      <td>13</td>\n",
       "      <td>2015-12-24 17:23:19.000</td>\n",
       "      <td>[20151208, 20151216, 20150224, 20150820, 20150...</td>\n",
       "    </tr>\n",
       "    <tr>\n",
       "      <th>115068</th>\n",
       "      <td>[담시, 가족, 눈물, 그리움, 주인공, 나의_이야기, 사랑, 친구]</td>\n",
       "      <td>11343</td>\n",
       "      <td>#1. 눈물이 앞을 가리는 나의_이야기</td>\n",
       "      <td>[50512, 249024, 250608, 371171, 229942, 694943...</td>\n",
       "      <td>4</td>\n",
       "      <td>2019-08-16 20:59:22.000</td>\n",
       "      <td>[20170216, 20190409, 20070608, 20080403, 20080...</td>\n",
       "    </tr>\n",
       "    <tr>\n",
       "      <th>115069</th>\n",
       "      <td>[잔잔한, 버스, 퇴근버스, Pop, 풍경, 퇴근길]</td>\n",
       "      <td>131982</td>\n",
       "      <td>퇴근 버스에서 편히 들으면서 하루를 마무리하기에 좋은 POP</td>\n",
       "      <td>[533534, 608114, 343608, 417140, 609009, 30217...</td>\n",
       "      <td>4</td>\n",
       "      <td>2019-10-25 23:40:42.000</td>\n",
       "      <td>[19980116, 20030407, 20060706, 20091016, 20100...</td>\n",
       "    </tr>\n",
       "    <tr>\n",
       "      <th>115070</th>\n",
       "      <td>[노래추천, 팝송추천, 팝송, 팝송모음]</td>\n",
       "      <td>100389</td>\n",
       "      <td>FAVORITE POPSONG!!!</td>\n",
       "      <td>[26008, 456354, 324105, 89871, 135272, 143548,...</td>\n",
       "      <td>17</td>\n",
       "      <td>2020-04-18 20:35:06.000</td>\n",
       "      <td>[19961001, 19950404, 19950404, 19951107, 19970...</td>\n",
       "    </tr>\n",
       "  </tbody>\n",
       "</table>\n",
       "<p>115071 rows × 7 columns</p>\n",
       "</div>"
      ],
      "text/plain": [
       "                                                     tags      id  \\\n",
       "0                                                     [락]   61281   \n",
       "1                                                [추억, 회상]   10532   \n",
       "2                                               [까페, 잔잔한]   76951   \n",
       "3       [연말, 눈오는날, 캐럴, 분위기, 따듯한, 크리스마스캐럴, 겨울노래, 크리스마스,...  147456   \n",
       "4                                                    [댄스]   27616   \n",
       "...                                                   ...     ...   \n",
       "115066               [록메탈, 밴드사운드, 록, 락메탈, 메탈, 락, extreme]  120325   \n",
       "115067                                               [일렉]  106976   \n",
       "115068             [담시, 가족, 눈물, 그리움, 주인공, 나의_이야기, 사랑, 친구]   11343   \n",
       "115069                      [잔잔한, 버스, 퇴근버스, Pop, 풍경, 퇴근길]  131982   \n",
       "115070                             [노래추천, 팝송추천, 팝송, 팝송모음]  100389   \n",
       "\n",
       "                             plylst_title  \\\n",
       "0                                 여행같은 음악   \n",
       "1                                 요즘 너 말야   \n",
       "2                   편하게, 잔잔하게 들을 수 있는 곡.-   \n",
       "3                   크리스마스 분위기에 흠뻑 취하고 싶을때   \n",
       "4                                추억의 노래 ㅋ   \n",
       "...                                   ...   \n",
       "115066                      METAL E'SM #2   \n",
       "115067     빠른 리스너를 위한 따끈따끈한 최신 인기 EDM 모음!   \n",
       "115068              #1. 눈물이 앞을 가리는 나의_이야기   \n",
       "115069  퇴근 버스에서 편히 들으면서 하루를 마무리하기에 좋은 POP   \n",
       "115070                FAVORITE POPSONG!!!   \n",
       "\n",
       "                                                  songs_x  like_cnt  \\\n",
       "0       [525514, 129701, 383374, 562083, 297861, 13954...        71   \n",
       "1       [432406, 675945, 497066, 120377, 389529, 24427...         1   \n",
       "2       [83116, 276692, 166267, 186301, 354465, 256598...        17   \n",
       "3       [394031, 195524, 540149, 287984, 440773, 10033...        33   \n",
       "4       [159327, 553610, 5130, 645103, 294435, 100657,...         9   \n",
       "...                                                   ...       ...   \n",
       "115066  [429629, 441511, 612106, 516359, 691768, 38714...         3   \n",
       "115067  [321330, 216057, 534472, 240306, 331098, 23288...        13   \n",
       "115068  [50512, 249024, 250608, 371171, 229942, 694943...         4   \n",
       "115069  [533534, 608114, 343608, 417140, 609009, 30217...         4   \n",
       "115070  [26008, 456354, 324105, 89871, 135272, 143548,...        17   \n",
       "\n",
       "                      updt_date  \\\n",
       "0       2013-12-19 18:36:19.000   \n",
       "1       2014-12-02 16:19:42.000   \n",
       "2       2017-08-28 07:09:34.000   \n",
       "3       2019-12-05 15:15:18.000   \n",
       "4       2011-10-25 13:54:56.000   \n",
       "...                         ...   \n",
       "115066  2020-04-17 04:31:11.000   \n",
       "115067  2015-12-24 17:23:19.000   \n",
       "115068  2019-08-16 20:59:22.000   \n",
       "115069  2019-10-25 23:40:42.000   \n",
       "115070  2020-04-18 20:35:06.000   \n",
       "\n",
       "                                               issue_date  \n",
       "0       [20130506, 20130917, 19911021, 20000919, 20050...  \n",
       "1       [20030314, 20061204, 20061204, 20071023, 20080...  \n",
       "2       [20081029, 20081029, 20140818, 20141126, 20141...  \n",
       "3       [20191115, 19981201, 20061124, 20101102, 20101...  \n",
       "4       [20010619, 19970520, 19970514, 19940900, 20020...  \n",
       "...                                                   ...  \n",
       "115066  [20040117, 20011108, 20011108, 20011108, 20001...  \n",
       "115067  [20151208, 20151216, 20150224, 20150820, 20150...  \n",
       "115068  [20170216, 20190409, 20070608, 20080403, 20080...  \n",
       "115069  [19980116, 20030407, 20060706, 20091016, 20100...  \n",
       "115070  [19961001, 19950404, 19950404, 19951107, 19970...  \n",
       "\n",
       "[115071 rows x 7 columns]"
      ]
     },
     "execution_count": 15,
     "metadata": {},
     "output_type": "execute_result"
    }
   ],
   "source": [
    "# 플레이리스트와 song_meta의 issue_date merge\n",
    "song_meta_issue_date = song_meta[['issue_date', 'id']]\n",
    "ply_song = playlists.explode('songs')\n",
    "ply_song_issue_date = pd.merge(ply_song, song_meta_issue_date, how='left', left_on='songs', right_on='id')\n",
    "\n",
    "# 플레이리스트 id 기준으로 songs, issue_date 하나의 리스트에 담기\n",
    "grouped_ply = ply_song_issue_date.groupby('id_x').agg({'songs': list, 'issue_date': list}).reset_index()\n",
    "\n",
    "# 플레이리스트 id 기준으로 원래 playlists와 merge\n",
    "playlists_date = pd.merge(playlists, grouped_ply, how='left', left_on='id', right_on='id_x')\n",
    "playlists_date = playlists_date[['tags', 'id', 'plylst_title', 'songs_x', 'like_cnt', 'updt_date', 'issue_date']]\n",
    "playlists_date"
   ]
  },
  {
   "cell_type": "code",
   "execution_count": 16,
   "metadata": {},
   "outputs": [
    {
     "data": {
      "text/html": [
       "<div>\n",
       "<style scoped>\n",
       "    .dataframe tbody tr th:only-of-type {\n",
       "        vertical-align: middle;\n",
       "    }\n",
       "\n",
       "    .dataframe tbody tr th {\n",
       "        vertical-align: top;\n",
       "    }\n",
       "\n",
       "    .dataframe thead th {\n",
       "        text-align: right;\n",
       "    }\n",
       "</style>\n",
       "<table border=\"1\" class=\"dataframe\">\n",
       "  <thead>\n",
       "    <tr style=\"text-align: right;\">\n",
       "      <th></th>\n",
       "      <th>tags</th>\n",
       "      <th>id</th>\n",
       "      <th>plylst_title</th>\n",
       "      <th>songs_x</th>\n",
       "      <th>like_cnt</th>\n",
       "      <th>updt_date</th>\n",
       "      <th>issue_date</th>\n",
       "      <th>date_old</th>\n",
       "      <th>date_new</th>\n",
       "    </tr>\n",
       "  </thead>\n",
       "  <tbody>\n",
       "    <tr>\n",
       "      <th>0</th>\n",
       "      <td>[락]</td>\n",
       "      <td>61281</td>\n",
       "      <td>여행같은 음악</td>\n",
       "      <td>[525514, 129701, 383374, 562083, 297861, 13954...</td>\n",
       "      <td>71</td>\n",
       "      <td>2013-12-19 18:36:19.000</td>\n",
       "      <td>[20130506, 20130917, 19911021, 20000919, 20050...</td>\n",
       "      <td>19911021</td>\n",
       "      <td>20131122</td>\n",
       "    </tr>\n",
       "    <tr>\n",
       "      <th>1</th>\n",
       "      <td>[추억, 회상]</td>\n",
       "      <td>10532</td>\n",
       "      <td>요즘 너 말야</td>\n",
       "      <td>[432406, 675945, 497066, 120377, 389529, 24427...</td>\n",
       "      <td>1</td>\n",
       "      <td>2014-12-02 16:19:42.000</td>\n",
       "      <td>[20030314, 20061204, 20061204, 20071023, 20080...</td>\n",
       "      <td>20030314</td>\n",
       "      <td>20141020</td>\n",
       "    </tr>\n",
       "    <tr>\n",
       "      <th>2</th>\n",
       "      <td>[까페, 잔잔한]</td>\n",
       "      <td>76951</td>\n",
       "      <td>편하게, 잔잔하게 들을 수 있는 곡.-</td>\n",
       "      <td>[83116, 276692, 166267, 186301, 354465, 256598...</td>\n",
       "      <td>17</td>\n",
       "      <td>2017-08-28 07:09:34.000</td>\n",
       "      <td>[20081029, 20081029, 20140818, 20141126, 20141...</td>\n",
       "      <td>20081029</td>\n",
       "      <td>20170110</td>\n",
       "    </tr>\n",
       "    <tr>\n",
       "      <th>3</th>\n",
       "      <td>[연말, 눈오는날, 캐럴, 분위기, 따듯한, 크리스마스캐럴, 겨울노래, 크리스마스,...</td>\n",
       "      <td>147456</td>\n",
       "      <td>크리스마스 분위기에 흠뻑 취하고 싶을때</td>\n",
       "      <td>[394031, 195524, 540149, 287984, 440773, 10033...</td>\n",
       "      <td>33</td>\n",
       "      <td>2019-12-05 15:15:18.000</td>\n",
       "      <td>[20191115, 19981201, 20061124, 20101102, 20101...</td>\n",
       "      <td>19981201</td>\n",
       "      <td>20191115</td>\n",
       "    </tr>\n",
       "    <tr>\n",
       "      <th>4</th>\n",
       "      <td>[댄스]</td>\n",
       "      <td>27616</td>\n",
       "      <td>추억의 노래 ㅋ</td>\n",
       "      <td>[159327, 553610, 5130, 645103, 294435, 100657,...</td>\n",
       "      <td>9</td>\n",
       "      <td>2011-10-25 13:54:56.000</td>\n",
       "      <td>[20010619, 19970520, 19970514, 19940900, 20020...</td>\n",
       "      <td>19940301</td>\n",
       "      <td>20090824</td>\n",
       "    </tr>\n",
       "    <tr>\n",
       "      <th>...</th>\n",
       "      <td>...</td>\n",
       "      <td>...</td>\n",
       "      <td>...</td>\n",
       "      <td>...</td>\n",
       "      <td>...</td>\n",
       "      <td>...</td>\n",
       "      <td>...</td>\n",
       "      <td>...</td>\n",
       "      <td>...</td>\n",
       "    </tr>\n",
       "    <tr>\n",
       "      <th>115066</th>\n",
       "      <td>[록메탈, 밴드사운드, 록, 락메탈, 메탈, 락, extreme]</td>\n",
       "      <td>120325</td>\n",
       "      <td>METAL E'SM #2</td>\n",
       "      <td>[429629, 441511, 612106, 516359, 691768, 38714...</td>\n",
       "      <td>3</td>\n",
       "      <td>2020-04-17 04:31:11.000</td>\n",
       "      <td>[20040117, 20011108, 20011108, 20011108, 20001...</td>\n",
       "      <td>19920609</td>\n",
       "      <td>20180101</td>\n",
       "    </tr>\n",
       "    <tr>\n",
       "      <th>115067</th>\n",
       "      <td>[일렉]</td>\n",
       "      <td>106976</td>\n",
       "      <td>빠른 리스너를 위한 따끈따끈한 최신 인기 EDM 모음!</td>\n",
       "      <td>[321330, 216057, 534472, 240306, 331098, 23288...</td>\n",
       "      <td>13</td>\n",
       "      <td>2015-12-24 17:23:19.000</td>\n",
       "      <td>[20151208, 20151216, 20150224, 20150820, 20150...</td>\n",
       "      <td>20150224</td>\n",
       "      <td>20151216</td>\n",
       "    </tr>\n",
       "    <tr>\n",
       "      <th>115068</th>\n",
       "      <td>[담시, 가족, 눈물, 그리움, 주인공, 나의_이야기, 사랑, 친구]</td>\n",
       "      <td>11343</td>\n",
       "      <td>#1. 눈물이 앞을 가리는 나의_이야기</td>\n",
       "      <td>[50512, 249024, 250608, 371171, 229942, 694943...</td>\n",
       "      <td>4</td>\n",
       "      <td>2019-08-16 20:59:22.000</td>\n",
       "      <td>[20170216, 20190409, 20070608, 20080403, 20080...</td>\n",
       "      <td>20070608</td>\n",
       "      <td>20190409</td>\n",
       "    </tr>\n",
       "    <tr>\n",
       "      <th>115069</th>\n",
       "      <td>[잔잔한, 버스, 퇴근버스, Pop, 풍경, 퇴근길]</td>\n",
       "      <td>131982</td>\n",
       "      <td>퇴근 버스에서 편히 들으면서 하루를 마무리하기에 좋은 POP</td>\n",
       "      <td>[533534, 608114, 343608, 417140, 609009, 30217...</td>\n",
       "      <td>4</td>\n",
       "      <td>2019-10-25 23:40:42.000</td>\n",
       "      <td>[19980116, 20030407, 20060706, 20091016, 20100...</td>\n",
       "      <td>19980116</td>\n",
       "      <td>20190621</td>\n",
       "    </tr>\n",
       "    <tr>\n",
       "      <th>115070</th>\n",
       "      <td>[노래추천, 팝송추천, 팝송, 팝송모음]</td>\n",
       "      <td>100389</td>\n",
       "      <td>FAVORITE POPSONG!!!</td>\n",
       "      <td>[26008, 456354, 324105, 89871, 135272, 143548,...</td>\n",
       "      <td>17</td>\n",
       "      <td>2020-04-18 20:35:06.000</td>\n",
       "      <td>[19961001, 19950404, 19950404, 19951107, 19970...</td>\n",
       "      <td>19711108</td>\n",
       "      <td>20190503</td>\n",
       "    </tr>\n",
       "  </tbody>\n",
       "</table>\n",
       "<p>115071 rows × 9 columns</p>\n",
       "</div>"
      ],
      "text/plain": [
       "                                                     tags      id  \\\n",
       "0                                                     [락]   61281   \n",
       "1                                                [추억, 회상]   10532   \n",
       "2                                               [까페, 잔잔한]   76951   \n",
       "3       [연말, 눈오는날, 캐럴, 분위기, 따듯한, 크리스마스캐럴, 겨울노래, 크리스마스,...  147456   \n",
       "4                                                    [댄스]   27616   \n",
       "...                                                   ...     ...   \n",
       "115066               [록메탈, 밴드사운드, 록, 락메탈, 메탈, 락, extreme]  120325   \n",
       "115067                                               [일렉]  106976   \n",
       "115068             [담시, 가족, 눈물, 그리움, 주인공, 나의_이야기, 사랑, 친구]   11343   \n",
       "115069                      [잔잔한, 버스, 퇴근버스, Pop, 풍경, 퇴근길]  131982   \n",
       "115070                             [노래추천, 팝송추천, 팝송, 팝송모음]  100389   \n",
       "\n",
       "                             plylst_title  \\\n",
       "0                                 여행같은 음악   \n",
       "1                                 요즘 너 말야   \n",
       "2                   편하게, 잔잔하게 들을 수 있는 곡.-   \n",
       "3                   크리스마스 분위기에 흠뻑 취하고 싶을때   \n",
       "4                                추억의 노래 ㅋ   \n",
       "...                                   ...   \n",
       "115066                      METAL E'SM #2   \n",
       "115067     빠른 리스너를 위한 따끈따끈한 최신 인기 EDM 모음!   \n",
       "115068              #1. 눈물이 앞을 가리는 나의_이야기   \n",
       "115069  퇴근 버스에서 편히 들으면서 하루를 마무리하기에 좋은 POP   \n",
       "115070                FAVORITE POPSONG!!!   \n",
       "\n",
       "                                                  songs_x  like_cnt  \\\n",
       "0       [525514, 129701, 383374, 562083, 297861, 13954...        71   \n",
       "1       [432406, 675945, 497066, 120377, 389529, 24427...         1   \n",
       "2       [83116, 276692, 166267, 186301, 354465, 256598...        17   \n",
       "3       [394031, 195524, 540149, 287984, 440773, 10033...        33   \n",
       "4       [159327, 553610, 5130, 645103, 294435, 100657,...         9   \n",
       "...                                                   ...       ...   \n",
       "115066  [429629, 441511, 612106, 516359, 691768, 38714...         3   \n",
       "115067  [321330, 216057, 534472, 240306, 331098, 23288...        13   \n",
       "115068  [50512, 249024, 250608, 371171, 229942, 694943...         4   \n",
       "115069  [533534, 608114, 343608, 417140, 609009, 30217...         4   \n",
       "115070  [26008, 456354, 324105, 89871, 135272, 143548,...        17   \n",
       "\n",
       "                      updt_date  \\\n",
       "0       2013-12-19 18:36:19.000   \n",
       "1       2014-12-02 16:19:42.000   \n",
       "2       2017-08-28 07:09:34.000   \n",
       "3       2019-12-05 15:15:18.000   \n",
       "4       2011-10-25 13:54:56.000   \n",
       "...                         ...   \n",
       "115066  2020-04-17 04:31:11.000   \n",
       "115067  2015-12-24 17:23:19.000   \n",
       "115068  2019-08-16 20:59:22.000   \n",
       "115069  2019-10-25 23:40:42.000   \n",
       "115070  2020-04-18 20:35:06.000   \n",
       "\n",
       "                                               issue_date  date_old  date_new  \n",
       "0       [20130506, 20130917, 19911021, 20000919, 20050...  19911021  20131122  \n",
       "1       [20030314, 20061204, 20061204, 20071023, 20080...  20030314  20141020  \n",
       "2       [20081029, 20081029, 20140818, 20141126, 20141...  20081029  20170110  \n",
       "3       [20191115, 19981201, 20061124, 20101102, 20101...  19981201  20191115  \n",
       "4       [20010619, 19970520, 19970514, 19940900, 20020...  19940301  20090824  \n",
       "...                                                   ...       ...       ...  \n",
       "115066  [20040117, 20011108, 20011108, 20011108, 20001...  19920609  20180101  \n",
       "115067  [20151208, 20151216, 20150224, 20150820, 20150...  20150224  20151216  \n",
       "115068  [20170216, 20190409, 20070608, 20080403, 20080...  20070608  20190409  \n",
       "115069  [19980116, 20030407, 20060706, 20091016, 20100...  19980116  20190621  \n",
       "115070  [19961001, 19950404, 19950404, 19951107, 19970...  19711108  20190503  \n",
       "\n",
       "[115071 rows x 9 columns]"
      ]
     },
     "execution_count": 16,
     "metadata": {},
     "output_type": "execute_result"
    }
   ],
   "source": [
    "playlists_date['date_old'] = playlists_date['issue_date'].apply(min) # 가장 오래된 노래 발매일\n",
    "playlists_date['date_new'] = playlists_date['issue_date'].apply(max) # 가장 최신 노래 발매일\n",
    "playlists_date"
   ]
  },
  {
   "cell_type": "code",
   "execution_count": 17,
   "metadata": {},
   "outputs": [
    {
     "data": {
      "text/plain": [
       "19750201"
      ]
     },
     "execution_count": 17,
     "metadata": {},
     "output_type": "execute_result"
    }
   ],
   "source": [
    "# 가장 오래된 노래\n",
    "min_value = playlists_date['date_new'].min() # 0\n",
    "next_min_value = playlists_date['date_new'][playlists_date['date_new'] > min_value].min() # 19731100\n",
    "playlists_date['date_new'][playlists_date['date_new'] > next_min_value].min() #19750201"
   ]
  },
  {
   "cell_type": "code",
   "execution_count": 18,
   "metadata": {},
   "outputs": [
    {
     "name": "stdout",
     "output_type": "stream",
     "text": [
      "20220113\n"
     ]
    }
   ],
   "source": [
    "# 가장 최신 노래\n",
    "print(playlists_date['date_new'].max())# 20220113"
   ]
  },
  {
   "cell_type": "markdown",
   "metadata": {},
   "source": [
    "- 중복된 타이틀 확인"
   ]
  },
  {
   "cell_type": "code",
   "execution_count": 19,
   "metadata": {},
   "outputs": [
    {
     "data": {
      "text/html": [
       "<div>\n",
       "<style scoped>\n",
       "    .dataframe tbody tr th:only-of-type {\n",
       "        vertical-align: middle;\n",
       "    }\n",
       "\n",
       "    .dataframe tbody tr th {\n",
       "        vertical-align: top;\n",
       "    }\n",
       "\n",
       "    .dataframe thead th {\n",
       "        text-align: right;\n",
       "    }\n",
       "</style>\n",
       "<table border=\"1\" class=\"dataframe\">\n",
       "  <thead>\n",
       "    <tr style=\"text-align: right;\">\n",
       "      <th></th>\n",
       "      <th>plylst_title</th>\n",
       "      <th>mapping_plylst_cnt</th>\n",
       "    </tr>\n",
       "    <tr>\n",
       "      <th>mapping_plylst_cnt_category</th>\n",
       "      <th></th>\n",
       "      <th></th>\n",
       "    </tr>\n",
       "  </thead>\n",
       "  <tbody>\n",
       "    <tr>\n",
       "      <th>중복 없음</th>\n",
       "      <td>108214</td>\n",
       "      <td>108214</td>\n",
       "    </tr>\n",
       "    <tr>\n",
       "      <th>중복 있음</th>\n",
       "      <td>2317</td>\n",
       "      <td>2317</td>\n",
       "    </tr>\n",
       "  </tbody>\n",
       "</table>\n",
       "</div>"
      ],
      "text/plain": [
       "                             plylst_title  mapping_plylst_cnt\n",
       "mapping_plylst_cnt_category                                  \n",
       "중복 없음                              108214              108214\n",
       "중복 있음                                2317                2317"
      ]
     },
     "execution_count": 19,
     "metadata": {},
     "output_type": "execute_result"
    }
   ],
   "source": [
    "# 1. 플레이리스트 아이디(id)와 플레이리스트 명(plylst_title) 추출\n",
    "plylst_title = playlists[['id', 'plylst_title']]\n",
    "\n",
    "# 2. 플레이리스트 이름 별 플레이리스트 ID count 테이블 생성 : plylst_id_cnt\n",
    "plylst_id_cnt = plylst_title.groupby('plylst_title').id.nunique().reset_index(name = 'mapping_plylst_cnt')\n",
    "\n",
    "# 3. 플레이리스트 명 중복 구분 : 서로 다른 플레이리스트 아이디로 겹치는 플레이리스트 이름이 없으면 '중복 없음', 그 외 '중복 있음'\n",
    "plylst_id_cnt = plylst_id_cnt.assign(\n",
    "    mapping_plylst_cnt_category = pd.cut(plylst_id_cnt['mapping_plylst_cnt'], [0, 1, np.inf], labels = ['중복 없음', '중복 있음'])\n",
    ")\n",
    "plylst_id_cnt\n",
    "# [0, 1, np.inf] : 0이상 1미만 값 = 중복없음, 1이상의 값 = 중복있음\n",
    "\n",
    "# 4. 중복 구분 별 플레이리스트 수 count 테이블 생성 : plylst_id_cnt_division\n",
    "plylst_id_cnt_division = pd.DataFrame(plylst_id_cnt.groupby('mapping_plylst_cnt_category').count())\n",
    "plylst_id_cnt_division\n"
   ]
  },
  {
   "cell_type": "markdown",
   "metadata": {},
   "source": [
    "=> 전체의 2.09%는 같은 플레이리스트 타이틀을 갖고 있음"
   ]
  },
  {
   "cell_type": "markdown",
   "metadata": {},
   "source": [
    "- 중복된 타이틀 들의 좋아요, 노래, 태그 개수 비교"
   ]
  },
  {
   "cell_type": "code",
   "execution_count": 20,
   "metadata": {},
   "outputs": [
    {
     "data": {
      "text/html": [
       "<div>\n",
       "<style scoped>\n",
       "    .dataframe tbody tr th:only-of-type {\n",
       "        vertical-align: middle;\n",
       "    }\n",
       "\n",
       "    .dataframe tbody tr th {\n",
       "        vertical-align: top;\n",
       "    }\n",
       "\n",
       "    .dataframe thead th {\n",
       "        text-align: right;\n",
       "    }\n",
       "</style>\n",
       "<table border=\"1\" class=\"dataframe\">\n",
       "  <thead>\n",
       "    <tr style=\"text-align: right;\">\n",
       "      <th></th>\n",
       "      <th>tags</th>\n",
       "      <th>id</th>\n",
       "      <th>plylst_title</th>\n",
       "      <th>songs</th>\n",
       "      <th>like_cnt</th>\n",
       "      <th>updt_date</th>\n",
       "      <th>mapping_plylst_cnt</th>\n",
       "      <th>mapping_plylst_cnt_category</th>\n",
       "      <th>song_cnt</th>\n",
       "      <th>tag_cnt</th>\n",
       "    </tr>\n",
       "  </thead>\n",
       "  <tbody>\n",
       "    <tr>\n",
       "      <th>16</th>\n",
       "      <td>[감성, 질리지않는, 나만알고싶은, Pop]</td>\n",
       "      <td>1516</td>\n",
       "      <td>나만 알고싶은 노래들</td>\n",
       "      <td>[331055, 99287, 310974, 376435, 146989, 430106...</td>\n",
       "      <td>1</td>\n",
       "      <td>2018-01-02 12:10:59.000</td>\n",
       "      <td>4</td>\n",
       "      <td>중복 있음</td>\n",
       "      <td>31</td>\n",
       "      <td>4</td>\n",
       "    </tr>\n",
       "    <tr>\n",
       "      <th>17</th>\n",
       "      <td>[기분전환, 까페]</td>\n",
       "      <td>86179</td>\n",
       "      <td>나만 알고싶은 노래들</td>\n",
       "      <td>[480142, 578916, 467225, 701072, 197046, 63557...</td>\n",
       "      <td>6</td>\n",
       "      <td>2016-10-06 02:08:40.000</td>\n",
       "      <td>4</td>\n",
       "      <td>중복 있음</td>\n",
       "      <td>46</td>\n",
       "      <td>2</td>\n",
       "    </tr>\n",
       "    <tr>\n",
       "      <th>18</th>\n",
       "      <td>[숨은명곡, 좋은노래]</td>\n",
       "      <td>54673</td>\n",
       "      <td>나만 알고싶은 노래들</td>\n",
       "      <td>[113618, 422482, 380069, 75425, 79141, 657137,...</td>\n",
       "      <td>7</td>\n",
       "      <td>2016-07-15 10:20:17.000</td>\n",
       "      <td>4</td>\n",
       "      <td>중복 있음</td>\n",
       "      <td>23</td>\n",
       "      <td>2</td>\n",
       "    </tr>\n",
       "    <tr>\n",
       "      <th>19</th>\n",
       "      <td>[감성힙합, 나만알고싶은, 뿜뿜, 그루브, 노래, 감성]</td>\n",
       "      <td>135616</td>\n",
       "      <td>나만 알고싶은 노래들</td>\n",
       "      <td>[470548, 603591, 382764, 288501, 187291, 37802...</td>\n",
       "      <td>30</td>\n",
       "      <td>2018-07-13 08:18:54.000</td>\n",
       "      <td>4</td>\n",
       "      <td>중복 있음</td>\n",
       "      <td>45</td>\n",
       "      <td>6</td>\n",
       "    </tr>\n",
       "    <tr>\n",
       "      <th>46</th>\n",
       "      <td>[월드, 연주, 재즈]</td>\n",
       "      <td>109678</td>\n",
       "      <td>영화, Jazz를 만나다 294</td>\n",
       "      <td>[134115, 150481, 2861, 321479, 252928, 360185,...</td>\n",
       "      <td>0</td>\n",
       "      <td>2019-03-27 15:29:18.000</td>\n",
       "      <td>3</td>\n",
       "      <td>중복 있음</td>\n",
       "      <td>27</td>\n",
       "      <td>3</td>\n",
       "    </tr>\n",
       "  </tbody>\n",
       "</table>\n",
       "</div>"
      ],
      "text/plain": [
       "                               tags      id       plylst_title  \\\n",
       "16         [감성, 질리지않는, 나만알고싶은, Pop]    1516        나만 알고싶은 노래들   \n",
       "17                       [기분전환, 까페]   86179        나만 알고싶은 노래들   \n",
       "18                     [숨은명곡, 좋은노래]   54673        나만 알고싶은 노래들   \n",
       "19  [감성힙합, 나만알고싶은, 뿜뿜, 그루브, 노래, 감성]  135616        나만 알고싶은 노래들   \n",
       "46                     [월드, 연주, 재즈]  109678  영화, Jazz를 만나다 294   \n",
       "\n",
       "                                                songs  like_cnt  \\\n",
       "16  [331055, 99287, 310974, 376435, 146989, 430106...         1   \n",
       "17  [480142, 578916, 467225, 701072, 197046, 63557...         6   \n",
       "18  [113618, 422482, 380069, 75425, 79141, 657137,...         7   \n",
       "19  [470548, 603591, 382764, 288501, 187291, 37802...        30   \n",
       "46  [134115, 150481, 2861, 321479, 252928, 360185,...         0   \n",
       "\n",
       "                  updt_date  mapping_plylst_cnt mapping_plylst_cnt_category  \\\n",
       "16  2018-01-02 12:10:59.000                   4                       중복 있음   \n",
       "17  2016-10-06 02:08:40.000                   4                       중복 있음   \n",
       "18  2016-07-15 10:20:17.000                   4                       중복 있음   \n",
       "19  2018-07-13 08:18:54.000                   4                       중복 있음   \n",
       "46  2019-03-27 15:29:18.000                   3                       중복 있음   \n",
       "\n",
       "    song_cnt  tag_cnt  \n",
       "16        31        4  \n",
       "17        46        2  \n",
       "18        23        2  \n",
       "19        45        6  \n",
       "46        27        3  "
      ]
     },
     "execution_count": 20,
     "metadata": {},
     "output_type": "execute_result"
    }
   ],
   "source": [
    "# 플레이리스트 타이틀을 기준으로 merge해 중복된 플레이리스트만 확인\n",
    "playlists_dup = pd.merge(playlists, plylst_id_cnt, on='plylst_title')\n",
    "playlists_dup= playlists_dup[playlists_dup['mapping_plylst_cnt_category'] == '중복 있음']\n",
    "playlists_dup['song_cnt'] = playlists_dup['songs'].apply(len)\n",
    "playlists_dup['tag_cnt'] = playlists_dup['tags'].apply(len)\n",
    "playlists_dup.head()"
   ]
  },
  {
   "cell_type": "code",
   "execution_count": null,
   "metadata": {},
   "outputs": [],
   "source": [
    "# 같은 타이틀을 가진 플레이리스트의 노래 개수 비교\n",
    "# playlists_dup에서 타이틀별로 groupby 후 song_cnt 값들을 song_cnt_nunique(새 컬럼)에 리스트 형태로 넣은 후 중복을 없애기 위해 set 진행\n",
    "# 1의 의미는 노래 갯수가 중복되어 있다는 뜻이기 때문에 1의 갯수가 적은 지표를 기준으로 중복 플레이리스트 제거를 진행해야함\n",
    "\n",
    "playlists_dup_song_cnt = playlists_dup.groupby('plylst_title')['song_cnt'].apply(list).reset_index()\n",
    "playlists_dup_song_cnt['song_cnt_nunique'] = playlists_dup_song_cnt['song_cnt'].apply(lambda x: len(set(x)))\n",
    "Counter(playlists_dup_song_cnt['song_cnt_nunique'])"
   ]
  },
  {
   "cell_type": "code",
   "execution_count": 22,
   "metadata": {},
   "outputs": [
    {
     "data": {
      "text/plain": [
       "Counter({1: 1180, 2: 952, 3: 121, 4: 44, 6: 8, 5: 12})"
      ]
     },
     "execution_count": 22,
     "metadata": {},
     "output_type": "execute_result"
    }
   ],
   "source": [
    "# 같은 타이틀을 가진 플레이리스트의 태그 개수 비교\n",
    "\n",
    "playlists_dup_tag_cnt = playlists_dup.groupby('plylst_title')['tag_cnt'].apply(list).reset_index()\n",
    "playlists_dup_tag_cnt['tag_cnt_nunique'] = playlists_dup_tag_cnt['tag_cnt'].apply(lambda x: len(set(x)))\n",
    "Counter(playlists_dup_tag_cnt['tag_cnt_nunique'])"
   ]
  },
  {
   "cell_type": "code",
   "execution_count": null,
   "metadata": {},
   "outputs": [],
   "source": [
    "# 같은 타이틀을 가진 플레이리스트의 좋아요 비교\n",
    "\n",
    "playlists_dup_like_cnt = playlists_dup.groupby('plylst_title')['like_cnt'].apply(list).reset_index()\n",
    "playlists_dup_like_cnt['like_cnt_nunique'] = playlists_dup_like_cnt['like_cnt'].apply(lambda x: len(set(x)))\n",
    "Counter(playlists_dup_like_cnt['like_cnt_nunique'])"
   ]
  },
  {
   "cell_type": "markdown",
   "metadata": {},
   "source": [
    "=> 노래 개수 or 좋아요를 많이 가진 플리로 남기자"
   ]
  },
  {
   "cell_type": "markdown",
   "metadata": {},
   "source": [
    "- 불용어 확인"
   ]
  },
  {
   "cell_type": "code",
   "execution_count": 24,
   "metadata": {},
   "outputs": [],
   "source": [
    "# 특수문자가 많은 plylst_title을 찾는 함수 정의\n",
    "def count_special_chars(title):\n",
    "    count = sum(1 for char in title if char in string.punctuation)\n",
    "    return count"
   ]
  },
  {
   "cell_type": "code",
   "execution_count": 25,
   "metadata": {},
   "outputs": [
    {
     "data": {
      "text/html": [
       "<div>\n",
       "<style scoped>\n",
       "    .dataframe tbody tr th:only-of-type {\n",
       "        vertical-align: middle;\n",
       "    }\n",
       "\n",
       "    .dataframe tbody tr th {\n",
       "        vertical-align: top;\n",
       "    }\n",
       "\n",
       "    .dataframe thead th {\n",
       "        text-align: right;\n",
       "    }\n",
       "</style>\n",
       "<table border=\"1\" class=\"dataframe\">\n",
       "  <thead>\n",
       "    <tr style=\"text-align: right;\">\n",
       "      <th></th>\n",
       "      <th>plylst_title</th>\n",
       "      <th>special_char_count</th>\n",
       "    </tr>\n",
       "  </thead>\n",
       "  <tbody>\n",
       "    <tr>\n",
       "      <th>93770</th>\n",
       "      <td>내가 아팠다고....아파 한다고....하지만 숨길수 밖에 없었던 날....그래......</td>\n",
       "      <td>28</td>\n",
       "    </tr>\n",
       "    <tr>\n",
       "      <th>25748</th>\n",
       "      <td>Let`s Rock!!!!!!!!!!!!!!!!!!!!!!!</td>\n",
       "      <td>24</td>\n",
       "    </tr>\n",
       "    <tr>\n",
       "      <th>106802</th>\n",
       "      <td>Let`s Rock!!!!!!!!!!!!!!!!!!!!!!!</td>\n",
       "      <td>24</td>\n",
       "    </tr>\n",
       "    <tr>\n",
       "      <th>100143</th>\n",
       "      <td>Let`s Rock!!!!!!!!!!!!!!!!!!!!!!!</td>\n",
       "      <td>24</td>\n",
       "    </tr>\n",
       "    <tr>\n",
       "      <th>42277</th>\n",
       "      <td>2005~2006  주름 잡았던 히트곡!!!!!!!!!!!!!!!!!!!!!!!</td>\n",
       "      <td>24</td>\n",
       "    </tr>\n",
       "    <tr>\n",
       "      <th>77720</th>\n",
       "      <td>나는 솔로다!!!!!!!!!!!!!!!!!!!!!!!</td>\n",
       "      <td>23</td>\n",
       "    </tr>\n",
       "    <tr>\n",
       "      <th>5697</th>\n",
       "      <td>반쪽짜리 사랑.....짝사랑.................</td>\n",
       "      <td>22</td>\n",
       "    </tr>\n",
       "    <tr>\n",
       "      <th>56134</th>\n",
       "      <td>내적댄스 터져베이베 !!!!! 아이돌 노래노래!!!@!@!!!!!!!!!</td>\n",
       "      <td>20</td>\n",
       "    </tr>\n",
       "    <tr>\n",
       "      <th>59162</th>\n",
       "      <td>가을이다..\\(^o^)/ ,곧 겨울이다...((T^T) ;;;;</td>\n",
       "      <td>20</td>\n",
       "    </tr>\n",
       "    <tr>\n",
       "      <th>19571</th>\n",
       "      <td>승훈좋아.................</td>\n",
       "      <td>17</td>\n",
       "    </tr>\n",
       "  </tbody>\n",
       "</table>\n",
       "</div>"
      ],
      "text/plain": [
       "                                             plylst_title  special_char_count\n",
       "93770   내가 아팠다고....아파 한다고....하지만 숨길수 밖에 없었던 날....그래......                  28\n",
       "25748                   Let`s Rock!!!!!!!!!!!!!!!!!!!!!!!                  24\n",
       "106802                  Let`s Rock!!!!!!!!!!!!!!!!!!!!!!!                  24\n",
       "100143                  Let`s Rock!!!!!!!!!!!!!!!!!!!!!!!                  24\n",
       "42277        2005~2006  주름 잡았던 히트곡!!!!!!!!!!!!!!!!!!!!!!!                  24\n",
       "77720                       나는 솔로다!!!!!!!!!!!!!!!!!!!!!!!                  23\n",
       "5697                     반쪽짜리 사랑.....짝사랑.................                  22\n",
       "56134            내적댄스 터져베이베 !!!!! 아이돌 노래노래!!!@!@!!!!!!!!!                  20\n",
       "59162                 가을이다..\\(^o^)/ ,곧 겨울이다...((T^T) ;;;;                  20\n",
       "19571                               승훈좋아.................                  17"
      ]
     },
     "execution_count": 25,
     "metadata": {},
     "output_type": "execute_result"
    }
   ],
   "source": [
    "# 특수문자 개수를 계산하여 새로운 컬럼 추가\n",
    "playlists['special_char_count'] = playlists['plylst_title'].apply(count_special_chars)\n",
    "\n",
    "# 특수문자 개수에 따라 데이터프레임 정렬\n",
    "sorted_df = playlists.sort_values(by='special_char_count', ascending=False)\n",
    "\n",
    "# 정렬된 데이터프레임 출력\n",
    "sorted_df[['plylst_title', 'special_char_count']].head(10)"
   ]
  },
  {
   "cell_type": "markdown",
   "metadata": {},
   "source": [
    "=> 특수문자 제거, all 숫자인 타이틀을 가진 플레이리스트 삭제  \n",
    "=> 불용어를 처리하고 나면 중복되는 내용이 또 있을테니, 불용어부터 처리"
   ]
  },
  {
   "cell_type": "markdown",
   "metadata": {},
   "source": [
    "> songs"
   ]
  },
  {
   "cell_type": "markdown",
   "metadata": {},
   "source": [
    "- 플리 별 곡 분포 - boxplot"
   ]
  },
  {
   "cell_type": "code",
   "execution_count": 27,
   "metadata": {},
   "outputs": [
    {
     "data": {
      "text/plain": [
       "Text(0.5, 1.0, '플레이리스트 별 노래 갯수 분포')"
      ]
     },
     "execution_count": 27,
     "metadata": {},
     "output_type": "execute_result"
    },
    {
     "data": {
      "image/png": "[encoded data removed]",
      "text/plain": [
       "<Figure size 640x480 with 1 Axes>"
      ]
     },
     "metadata": {},
     "output_type": "display_data"
    }
   ],
   "source": [
    "# 플리 별 노래 갯수 분포\n",
    "\n",
    "playlists['songs_cnt'] = playlists['songs'].apply(len)\n",
    "\n",
    "boxplot = plt.boxplot(playlists['songs_cnt'])\n",
    "plt.xticks([1], ['Songs Count'], fontsize=12)\n",
    "plt.title('플레이리스트 별 노래 갯수 분포', fontsize=12)"
   ]
  },
  {
   "cell_type": "code",
   "execution_count": 28,
   "metadata": {},
   "outputs": [
    {
     "data": {
      "text/plain": [
       "count    115071.000000\n",
       "mean         45.935735\n",
       "std          43.950335\n",
       "min           1.000000\n",
       "25%          19.000000\n",
       "50%          30.000000\n",
       "75%          54.000000\n",
       "max         200.000000\n",
       "Name: songs_cnt, dtype: float64"
      ]
     },
     "execution_count": 28,
     "metadata": {},
     "output_type": "execute_result"
    }
   ],
   "source": [
    "playlists['songs_cnt'].describe()"
   ]
  },
  {
   "cell_type": "code",
   "execution_count": 29,
   "metadata": {},
   "outputs": [
    {
     "name": "stdout",
     "output_type": "stream",
     "text": [
      "-33.5\n",
      "106.5\n"
     ]
    }
   ],
   "source": [
    "Q1 = 19\n",
    "Q3 = 54\n",
    "IQR = Q3 - Q1\n",
    "\n",
    "print(Q1-(1.5*IQR))\n",
    "print(Q3+(1.5*IQR))"
   ]
  },
  {
   "cell_type": "code",
   "execution_count": 30,
   "metadata": {},
   "outputs": [
    {
     "name": "stdout",
     "output_type": "stream",
     "text": [
      "수염(whiskers) 값: [array([19.,  1.]), array([ 54., 106.])]\n",
      "아웃라이어 값(정렬): [[107, 107, 107, 107, 107, 107, 107, 107, 107, 107, 107, 107, 107, 107, 107, 107, 107, 107, 107, 107, 107, 107, 107, 107, 107, 107, 107, 107, 107, 107, 107, 107, 107, 107, 107, 107, 107, 107, 107, 107, 107, 107, 107, 107, 107, 107, 107, 107, 107, 107, 107, 107, 107, 107, 107, 107, 107, 107, 107, 107, 107, 107, 107, 107, 107, 107, 107, 107, 107, 107, 107, 107, 107, 107, 107, 107, 107, 107, 107, 107, 107, 107, 107, 107, 107, 107, 107, 107, 107, 107, 107, 107, 107, 107, 107, 107, 107, 107, 107, 107, 107, 107, 107, 107, 107, 107, 107, 107, 107, 107, 107, 107, 107, 107, 107, 107, 107, 107, 107, 107, 107, 107, 107, 107, 107, 107, 107, 107, 107, 107, 107, 107, 107, 107, 107, 107, 107, 107, 107, 107, 107, 107, 107, 107, 107, 107, 107, 107, 107, 107, 107, 107, 107, 107, 107, 107, 107, 107, 107, 107, 107, 107, 107, 107, 107, 107, 107, 107, 107, 107, 107, 107, 107, 107, 107, 107, 107, 108, 108, 108, 108, 108, 108, 108, 108, 108, 108, 108, 108, 108, 108, 108, 108, 108, 108, 108, 108, 108, 108, 108, 108, 108, 108, 108, 108, 108, 108, 108, 108, 108, 108, 108, 108, 108, 108, 108, 108, 108, 108, 108, 108, 108, 108, 108, 108, 108, 108, 108, 108, 108, 108, 108, 108, 108, 108, 108, 108, 108, 108, 108, 108, 108, 108, 108, 108, 108, 108, 108, 108, 108, 108, 108, 108, 108, 108, 108, 108, 108, 108, 108, 108, 108, 108, 108, 108, 108, 108, 108, 108, 108, 108, 108, 108, 108, 108, 108, 108, 108, 108, 108, 108, 108, 108, 108, 108, 108, 108, 108, 108, 108, 108, 108, 108, 108, 108, 108, 108, 108, 108, 108, 108, 108, 108, 108, 108, 108, 108, 108, 108, 108, 108, 108, 109, 109, 109, 109, 109, 109, 109, 109, 109, 109, 109, 109, 109, 109, 109, 109, 109, 109, 109, 109, 109, 109, 109, 109, 109, 109, 109, 109, 109, 109, 109, 109, 109, 109, 109, 109, 109, 109, 109, 109, 109, 109, 109, 109, 109, 109, 109, 109, 109, 109, 109, 109, 109, 109, 109, 109, 109, 109, 109, 109, 109, 109, 109, 109, 109, 109, 109, 109, 109, 109, 109, 109, 109, 109, 109, 109, 109, 109, 109, 109, 109, 109, 109, 109, 109, 109, 109, 109, 109, 109, 109, 109, 109, 109, 109, 109, 109, 109, 109, 109, 109, 109, 109, 109, 109, 109, 109, 109, 109, 109, 109, 109, 109, 109, 109, 109, 109, 109, 109, 109, 110, 110, 110, 110, 110, 110, 110, 110, 110, 110, 110, 110, 110, 110, 110, 110, 110, 110, 110, 110, 110, 110, 110, 110, 110, 110, 110, 110, 110, 110, 110, 110, 110, 110, 110, 110, 110, 110, 110, 110, 110, 110, 110, 110, 110, 110, 110, 110, 110, 110, 110, 110, 110, 110, 110, 110, 110, 110, 110, 110, 110, 110, 110, 110, 110, 110, 110, 110, 110, 110, 110, 110, 110, 110, 110, 110, 110, 110, 110, 110, 110, 110, 110, 110, 110, 110, 110, 110, 110, 110, 110, 110, 110, 110, 110, 110, 110, 110, 110, 110, 110, 110, 110, 110, 110, 110, 110, 110, 110, 110, 110, 110, 110, 110, 110, 110, 111, 111, 111, 111, 111, 111, 111, 111, 111, 111, 111, 111, 111, 111, 111, 111, 111, 111, 111, 111, 111, 111, 111, 111, 111, 111, 111, 111, 111, 111, 111, 111, 111, 111, 111, 111, 111, 111, 111, 111, 111, 111, 111, 111, 111, 111, 111, 111, 111, 111, 111, 111, 111, 111, 111, 111, 111, 111, 111, 111, 111, 111, 111, 111, 111, 111, 111, 111, 111, 111, 111, 111, 111, 111, 111, 111, 111, 111, 111, 111, 111, 111, 111, 111, 111, 111, 111, 111, 111, 111, 111, 111, 111, 111, 111, 111, 111, 111, 111, 111, 111, 111, 111, 111, 111, 111, 111, 111, 111, 111, 111, 111, 111, 111, 111, 111, 111, 111, 111, 111, 111, 111, 111, 111, 111, 111, 111, 111, 111, 111, 111, 111, 111, 112, 112, 112, 112, 112, 112, 112, 112, 112, 112, 112, 112, 112, 112, 112, 112, 112, 112, 112, 112, 112, 112, 112, 112, 112, 112, 112, 112, 112, 112, 112, 112, 112, 112, 112, 112, 112, 112, 112, 112, 112, 112, 112, 112, 112, 112, 112, 112, 112, 112, 112, 112, 112, 112, 112, 112, 112, 112, 112, 112, 112, 112, 112, 112, 112, 112, 112, 112, 112, 112, 112, 112, 112, 112, 112, 112, 112, 112, 112, 112, 112, 112, 112, 112, 112, 112, 112, 112, 112, 112, 112, 112, 112, 112, 112, 112, 112, 112, 112, 112, 112, 112, 112, 112, 112, 112, 112, 112, 112, 112, 112, 112, 112, 113, 113, 113, 113, 113, 113, 113, 113, 113, 113, 113, 113, 113, 113, 113, 113, 113, 113, 113, 113, 113, 113, 113, 113, 113, 113, 113, 113, 113, 113, 113, 113, 113, 113, 113, 113, 113, 113, 113, 113, 113, 113, 113, 113, 113, 113, 113, 113, 113, 113, 113, 113, 113, 113, 113, 113, 113, 113, 113, 113, 113, 113, 113, 113, 113, 113, 113, 113, 113, 113, 113, 113, 113, 113, 113, 113, 113, 113, 113, 113, 113, 113, 113, 113, 113, 113, 113, 113, 113, 113, 113, 113, 113, 113, 113, 113, 113, 113, 113, 113, 113, 113, 113, 113, 113, 113, 113, 113, 113, 113, 113, 113, 113, 113, 114, 114, 114, 114, 114, 114, 114, 114, 114, 114, 114, 114, 114, 114, 114, 114, 114, 114, 114, 114, 114, 114, 114, 114, 114, 114, 114, 114, 114, 114, 114, 114, 114, 114, 114, 114, 114, 114, 114, 114, 114, 114, 114, 114, 114, 114, 114, 114, 114, 114, 114, 114, 114, 114, 114, 114, 114, 114, 114, 114, 114, 114, 114, 114, 114, 114, 114, 114, 114, 114, 114, 114, 114, 114, 114, 114, 114, 114, 114, 114, 114, 114, 114, 114, 114, 114, 114, 114, 114, 114, 114, 114, 114, 114, 114, 114, 114, 114, 114, 114, 114, 114, 114, 114, 114, 114, 114, 114, 114, 115, 115, 115, 115, 115, 115, 115, 115, 115, 115, 115, 115, 115, 115, 115, 115, 115, 115, 115, 115, 115, 115, 115, 115, 115, 115, 115, 115, 115, 115, 115, 115, 115, 115, 115, 115, 115, 115, 115, 115, 115, 115, 115, 115, 115, 115, 115, 115, 115, 115, 115, 115, 115, 115, 115, 115, 115, 115, 115, 115, 115, 115, 115, 115, 115, 115, 115, 115, 115, 115, 115, 115, 115, 115, 115, 115, 115, 115, 115, 115, 115, 115, 115, 115, 115, 115, 115, 115, 115, 115, 115, 115, 115, 115, 115, 115, 115, 115, 115, 115, 115, 115, 115, 115, 115, 115, 115, 115, 116, 116, 116, 116, 116, 116, 116, 116, 116, 116, 116, 116, 116, 116, 116, 116, 116, 116, 116, 116, 116, 116, 116, 116, 116, 116, 116, 116, 116, 116, 116, 116, 116, 116, 116, 116, 116, 116, 116, 116, 116, 116, 116, 116, 116, 116, 116, 116, 116, 116, 116, 116, 116, 116, 116, 116, 116, 116, 116, 116, 116, 116, 116, 116, 116, 116, 116, 116, 116, 116, 116, 116, 116, 116, 116, 116, 116, 116, 116, 116, 116, 116, 116, 116, 116, 116, 116, 116, 116, 116, 116, 116, 116, 116, 116, 116, 116, 116, 116, 116, 116, 116, 116, 116, 116, 116, 116, 116, 116, 116, 116, 116, 116, 116, 116, 116, 116, 116, 116, 116, 116, 116, 116, 116, 117, 117, 117, 117, 117, 117, 117, 117, 117, 117, 117, 117, 117, 117, 117, 117, 117, 117, 117, 117, 117, 117, 117, 117, 117, 117, 117, 117, 117, 117, 117, 117, 117, 117, 117, 117, 117, 117, 117, 117, 117, 117, 117, 117, 117, 117, 117, 117, 117, 117, 117, 117, 117, 117, 117, 117, 117, 117, 117, 117, 117, 117, 117, 117, 117, 117, 117, 117, 117, 117, 117, 117, 117, 117, 117, 117, 117, 117, 117, 117, 117, 117, 117, 117, 117, 117, 117, 117, 117, 117, 117, 117, 117, 117, 117, 117, 117, 117, 117, 117, 117, 117, 117, 117, 118, 118, 118, 118, 118, 118, 118, 118, 118, 118, 118, 118, 118, 118, 118, 118, 118, 118, 118, 118, 118, 118, 118, 118, 118, 118, 118, 118, 118, 118, 118, 118, 118, 118, 118, 118, 118, 118, 118, 118, 118, 118, 118, 118, 118, 118, 118, 118, 118, 118, 118, 118, 118, 118, 118, 118, 118, 118, 118, 118, 118, 118, 118, 118, 118, 118, 118, 118, 118, 118, 118, 118, 118, 118, 118, 118, 118, 118, 118, 118, 118, 118, 118, 118, 118, 118, 118, 118, 118, 118, 118, 118, 118, 118, 118, 118, 118, 118, 118, 118, 118, 118, 118, 118, 118, 118, 118, 118, 118, 118, 119, 119, 119, 119, 119, 119, 119, 119, 119, 119, 119, 119, 119, 119, 119, 119, 119, 119, 119, 119, 119, 119, 119, 119, 119, 119, 119, 119, 119, 119, 119, 119, 119, 119, 119, 119, 119, 119, 119, 119, 119, 119, 119, 119, 119, 119, 119, 119, 119, 119, 119, 119, 119, 119, 119, 119, 119, 119, 119, 119, 119, 119, 119, 119, 119, 119, 119, 119, 119, 119, 119, 119, 119, 119, 119, 119, 119, 119, 119, 119, 119, 119, 119, 119, 119, 119, 119, 119, 119, 119, 119, 119, 119, 119, 119, 119, 119, 119, 119, 119, 119, 119, 119, 119, 119, 119, 119, 119, 119, 119, 119, 119, 119, 119, 119, 119, 119, 119, 120, 120, 120, 120, 120, 120, 120, 120, 120, 120, 120, 120, 120, 120, 120, 120, 120, 120, 120, 120, 120, 120, 120, 120, 120, 120, 120, 120, 120, 120, 120, 120, 120, 120, 120, 120, 120, 120, 120, 120, 120, 120, 120, 120, 120, 120, 120, 120, 120, 120, 120, 120, 120, 120, 120, 120, 120, 120, 120, 120, 120, 120, 120, 120, 120, 120, 120, 120, 120, 120, 120, 120, 120, 120, 120, 120, 120, 120, 120, 120, 120, 120, 120, 120, 120, 120, 120, 120, 120, 120, 120, 120, 120, 120, 120, 120, 120, 120, 120, 120, 120, 120, 120, 120, 120, 120, 120, 120, 120, 120, 120, 120, 120, 120, 121, 121, 121, 121, 121, 121, 121, 121, 121, 121, 121, 121, 121, 121, 121, 121, 121, 121, 121, 121, 121, 121, 121, 121, 121, 121, 121, 121, 121, 121, 121, 121, 121, 121, 121, 121, 121, 121, 121, 121, 121, 121, 121, 121, 121, 121, 121, 121, 121, 121, 121, 121, 121, 121, 121, 121, 121, 121, 121, 121, 121, 121, 121, 121, 121, 121, 121, 121, 121, 121, 121, 121, 121, 121, 121, 121, 121, 121, 121, 121, 121, 121, 122, 122, 122, 122, 122, 122, 122, 122, 122, 122, 122, 122, 122, 122, 122, 122, 122, 122, 122, 122, 122, 122, 122, 122, 122, 122, 122, 122, 122, 122, 122, 122, 122, 122, 122, 122, 122, 122, 122, 122, 122, 122, 122, 122, 122, 122, 122, 122, 122, 122, 122, 122, 122, 122, 122, 122, 122, 122, 122, 122, 122, 122, 122, 122, 122, 122, 122, 122, 122, 122, 122, 122, 122, 122, 122, 122, 122, 122, 122, 122, 122, 122, 122, 122, 122, 122, 122, 122, 122, 122, 122, 122, 122, 122, 122, 122, 122, 122, 122, 122, 122, 123, 123, 123, 123, 123, 123, 123, 123, 123, 123, 123, 123, 123, 123, 123, 123, 123, 123, 123, 123, 123, 123, 123, 123, 123, 123, 123, 123, 123, 123, 123, 123, 123, 123, 123, 123, 123, 123, 123, 123, 123, 123, 123, 123, 123, 123, 123, 123, 123, 123, 123, 123, 123, 123, 123, 123, 123, 123, 123, 123, 123, 123, 123, 123, 123, 123, 123, 123, 123, 123, 123, 123, 123, 123, 123, 123, 123, 123, 123, 123, 123, 123, 123, 123, 123, 123, 123, 123, 123, 123, 123, 123, 123, 123, 123, 123, 124, 124, 124, 124, 124, 124, 124, 124, 124, 124, 124, 124, 124, 124, 124, 124, 124, 124, 124, 124, 124, 124, 124, 124, 124, 124, 124, 124, 124, 124, 124, 124, 124, 124, 124, 124, 124, 124, 124, 124, 124, 124, 124, 124, 124, 124, 124, 124, 124, 124, 124, 124, 124, 124, 124, 124, 124, 124, 124, 124, 124, 124, 124, 124, 124, 124, 124, 124, 124, 124, 124, 124, 124, 124, 124, 124, 124, 124, 124, 124, 124, 124, 124, 124, 124, 124, 124, 124, 124, 124, 124, 124, 124, 124, 124, 125, 125, 125, 125, 125, 125, 125, 125, 125, 125, 125, 125, 125, 125, 125, 125, 125, 125, 125, 125, 125, 125, 125, 125, 125, 125, 125, 125, 125, 125, 125, 125, 125, 125, 125, 125, 125, 125, 125, 125, 125, 125, 125, 125, 125, 125, 125, 125, 125, 125, 125, 125, 125, 125, 125, 125, 125, 125, 125, 125, 125, 125, 125, 125, 125, 125, 125, 125, 125, 125, 125, 125, 125, 125, 125, 125, 125, 125, 125, 125, 125, 125, 126, 126, 126, 126, 126, 126, 126, 126, 126, 126, 126, 126, 126, 126, 126, 126, 126, 126, 126, 126, 126, 126, 126, 126, 126, 126, 126, 126, 126, 126, 126, 126, 126, 126, 126, 126, 126, 126, 126, 126, 126, 126, 126, 126, 126, 126, 126, 126, 126, 126, 126, 126, 126, 126, 126, 126, 126, 126, 126, 126, 126, 126, 126, 126, 126, 126, 126, 126, 126, 126, 126, 126, 126, 126, 126, 126, 126, 126, 126, 126, 126, 126, 127, 127, 127, 127, 127, 127, 127, 127, 127, 127, 127, 127, 127, 127, 127, 127, 127, 127, 127, 127, 127, 127, 127, 127, 127, 127, 127, 127, 127, 127, 127, 127, 127, 127, 127, 127, 127, 127, 127, 127, 127, 127, 127, 127, 127, 127, 127, 127, 127, 127, 127, 127, 127, 127, 127, 127, 127, 127, 127, 127, 127, 127, 127, 127, 127, 127, 127, 127, 127, 127, 127, 127, 127, 127, 127, 127, 127, 127, 127, 127, 127, 127, 128, 128, 128, 128, 128, 128, 128, 128, 128, 128, 128, 128, 128, 128, 128, 128, 128, 128, 128, 128, 128, 128, 128, 128, 128, 128, 128, 128, 128, 128, 128, 128, 128, 128, 128, 128, 128, 128, 128, 128, 128, 128, 128, 128, 128, 128, 128, 128, 128, 128, 128, 128, 128, 128, 128, 128, 128, 128, 128, 128, 128, 128, 128, 128, 128, 128, 128, 128, 128, 128, 128, 128, 128, 128, 128, 128, 128, 128, 128, 128, 128, 128, 128, 128, 128, 128, 128, 128, 128, 129, 129, 129, 129, 129, 129, 129, 129, 129, 129, 129, 129, 129, 129, 129, 129, 129, 129, 129, 129, 129, 129, 129, 129, 129, 129, 129, 129, 129, 129, 129, 129, 129, 129, 129, 129, 129, 129, 129, 129, 129, 129, 129, 129, 129, 129, 129, 129, 129, 129, 129, 129, 129, 129, 129, 129, 129, 129, 129, 129, 129, 129, 129, 129, 129, 129, 129, 129, 129, 129, 129, 129, 129, 129, 129, 129, 129, 129, 129, 129, 129, 129, 129, 130, 130, 130, 130, 130, 130, 130, 130, 130, 130, 130, 130, 130, 130, 130, 130, 130, 130, 130, 130, 130, 130, 130, 130, 130, 130, 130, 130, 130, 130, 130, 130, 130, 130, 130, 130, 130, 130, 130, 130, 130, 130, 130, 130, 130, 130, 130, 130, 130, 130, 130, 130, 130, 130, 130, 130, 130, 130, 130, 130, 130, 130, 130, 130, 130, 130, 130, 130, 130, 130, 130, 130, 130, 130, 130, 130, 130, 131, 131, 131, 131, 131, 131, 131, 131, 131, 131, 131, 131, 131, 131, 131, 131, 131, 131, 131, 131, 131, 131, 131, 131, 131, 131, 131, 131, 131, 131, 131, 131, 131, 131, 131, 131, 131, 131, 131, 131, 131, 131, 131, 131, 131, 131, 131, 131, 131, 131, 131, 131, 131, 131, 131, 131, 131, 131, 131, 131, 131, 131, 131, 131, 131, 131, 131, 131, 131, 131, 131, 131, 131, 131, 131, 131, 131, 131, 132, 132, 132, 132, 132, 132, 132, 132, 132, 132, 132, 132, 132, 132, 132, 132, 132, 132, 132, 132, 132, 132, 132, 132, 132, 132, 132, 132, 132, 132, 132, 132, 132, 132, 132, 132, 132, 132, 132, 132, 132, 132, 132, 132, 132, 132, 132, 132, 132, 132, 132, 132, 132, 132, 132, 132, 132, 132, 132, 132, 132, 132, 132, 132, 132, 132, 132, 132, 132, 132, 132, 132, 132, 132, 133, 133, 133, 133, 133, 133, 133, 133, 133, 133, 133, 133, 133, 133, 133, 133, 133, 133, 133, 133, 133, 133, 133, 133, 133, 133, 133, 133, 133, 133, 133, 133, 133, 133, 133, 133, 133, 133, 133, 133, 133, 133, 133, 133, 133, 133, 133, 133, 133, 133, 133, 133, 133, 133, 133, 133, 133, 133, 133, 133, 133, 133, 133, 133, 133, 133, 133, 133, 133, 133, 133, 133, 134, 134, 134, 134, 134, 134, 134, 134, 134, 134, 134, 134, 134, 134, 134, 134, 134, 134, 134, 134, 134, 134, 134, 134, 134, 134, 134, 134, 134, 134, 134, 134, 134, 134, 134, 134, 134, 134, 134, 134, 134, 134, 134, 134, 134, 134, 134, 134, 134, 134, 134, 134, 134, 134, 134, 134, 134, 134, 134, 134, 134, 134, 134, 134, 134, 134, 134, 134, 134, 134, 134, 134, 134, 134, 134, 134, 134, 134, 134, 134, 134, 134, 134, 134, 134, 134, 135, 135, 135, 135, 135, 135, 135, 135, 135, 135, 135, 135, 135, 135, 135, 135, 135, 135, 135, 135, 135, 135, 135, 135, 135, 135, 135, 135, 135, 135, 135, 135, 135, 135, 135, 135, 135, 135, 135, 135, 135, 135, 135, 135, 135, 135, 135, 135, 135, 135, 135, 135, 135, 135, 135, 135, 135, 135, 135, 135, 135, 135, 135, 135, 135, 135, 135, 135, 135, 135, 135, 135, 135, 135, 135, 135, 135, 135, 135, 135, 135, 135, 135, 135, 135, 135, 135, 135, 135, 135, 136, 136, 136, 136, 136, 136, 136, 136, 136, 136, 136, 136, 136, 136, 136, 136, 136, 136, 136, 136, 136, 136, 136, 136, 136, 136, 136, 136, 136, 136, 136, 136, 136, 136, 136, 136, 136, 136, 136, 136, 136, 136, 136, 136, 136, 136, 136, 136, 136, 136, 136, 136, 136, 136, 136, 136, 136, 136, 136, 136, 136, 136, 136, 136, 136, 136, 136, 136, 136, 136, 136, 136, 136, 136, 136, 136, 136, 136, 136, 136, 136, 136, 136, 136, 136, 137, 137, 137, 137, 137, 137, 137, 137, 137, 137, 137, 137, 137, 137, 137, 137, 137, 137, 137, 137, 137, 137, 137, 137, 137, 137, 137, 137, 137, 137, 137, 137, 137, 137, 137, 137, 137, 137, 137, 137, 137, 137, 137, 137, 137, 137, 137, 137, 137, 137, 137, 137, 137, 137, 137, 137, 137, 137, 137, 137, 137, 137, 137, 137, 137, 137, 138, 138, 138, 138, 138, 138, 138, 138, 138, 138, 138, 138, 138, 138, 138, 138, 138, 138, 138, 138, 138, 138, 138, 138, 138, 138, 138, 138, 138, 138, 138, 138, 138, 138, 138, 138, 138, 138, 138, 138, 138, 138, 138, 138, 138, 138, 138, 138, 138, 138, 138, 138, 138, 138, 138, 138, 138, 138, 138, 138, 138, 138, 138, 138, 138, 138, 138, 138, 138, 138, 138, 138, 138, 138, 138, 138, 138, 139, 139, 139, 139, 139, 139, 139, 139, 139, 139, 139, 139, 139, 139, 139, 139, 139, 139, 139, 139, 139, 139, 139, 139, 139, 139, 139, 139, 139, 139, 139, 139, 139, 139, 139, 139, 139, 139, 139, 139, 139, 139, 139, 139, 139, 139, 139, 139, 139, 139, 139, 139, 139, 139, 139, 139, 139, 139, 139, 139, 139, 139, 139, 139, 139, 139, 139, 139, 139, 139, 139, 139, 139, 139, 140, 140, 140, 140, 140, 140, 140, 140, 140, 140, 140, 140, 140, 140, 140, 140, 140, 140, 140, 140, 140, 140, 140, 140, 140, 140, 140, 140, 140, 140, 140, 140, 140, 140, 140, 140, 140, 140, 140, 140, 140, 140, 140, 140, 140, 140, 140, 140, 140, 140, 140, 140, 140, 140, 140, 140, 140, 140, 140, 140, 140, 140, 140, 140, 140, 140, 140, 140, 140, 140, 140, 140, 140, 140, 140, 140, 141, 141, 141, 141, 141, 141, 141, 141, 141, 141, 141, 141, 141, 141, 141, 141, 141, 141, 141, 141, 141, 141, 141, 141, 141, 141, 141, 141, 141, 141, 141, 141, 141, 141, 141, 141, 141, 141, 141, 141, 141, 141, 141, 141, 141, 141, 141, 141, 141, 141, 141, 141, 141, 141, 141, 141, 141, 141, 141, 141, 141, 141, 141, 141, 141, 141, 141, 142, 142, 142, 142, 142, 142, 142, 142, 142, 142, 142, 142, 142, 142, 142, 142, 142, 142, 142, 142, 142, 142, 142, 142, 142, 142, 142, 142, 142, 142, 142, 142, 142, 142, 142, 142, 142, 142, 142, 142, 142, 142, 142, 142, 142, 142, 142, 142, 142, 142, 142, 142, 142, 142, 142, 142, 142, 142, 142, 142, 142, 142, 142, 142, 142, 142, 142, 142, 142, 142, 142, 142, 142, 143, 143, 143, 143, 143, 143, 143, 143, 143, 143, 143, 143, 143, 143, 143, 143, 143, 143, 143, 143, 143, 143, 143, 143, 143, 143, 143, 143, 143, 143, 143, 143, 143, 143, 143, 143, 143, 143, 143, 143, 143, 143, 143, 143, 143, 143, 143, 143, 143, 143, 143, 143, 143, 143, 143, 143, 143, 143, 143, 143, 143, 143, 143, 143, 143, 143, 143, 143, 143, 143, 143, 144, 144, 144, 144, 144, 144, 144, 144, 144, 144, 144, 144, 144, 144, 144, 144, 144, 144, 144, 144, 144, 144, 144, 144, 144, 144, 144, 144, 144, 144, 144, 144, 144, 144, 144, 144, 144, 144, 144, 144, 144, 144, 144, 144, 144, 144, 144, 144, 144, 144, 144, 144, 144, 144, 144, 144, 144, 144, 144, 144, 144, 144, 144, 144, 144, 144, 144, 144, 144, 144, 145, 145, 145, 145, 145, 145, 145, 145, 145, 145, 145, 145, 145, 145, 145, 145, 145, 145, 145, 145, 145, 145, 145, 145, 145, 145, 145, 145, 145, 145, 145, 145, 145, 145, 145, 145, 145, 145, 145, 145, 145, 145, 145, 145, 145, 145, 145, 145, 145, 145, 145, 145, 145, 145, 145, 145, 145, 145, 145, 145, 145, 145, 145, 145, 145, 145, 145, 145, 145, 145, 145, 145, 145, 145, 146, 146, 146, 146, 146, 146, 146, 146, 146, 146, 146, 146, 146, 146, 146, 146, 146, 146, 146, 146, 146, 146, 146, 146, 146, 146, 146, 146, 146, 146, 146, 146, 146, 146, 146, 146, 146, 146, 146, 146, 146, 146, 146, 146, 146, 146, 146, 146, 146, 146, 146, 146, 146, 147, 147, 147, 147, 147, 147, 147, 147, 147, 147, 147, 147, 147, 147, 147, 147, 147, 147, 147, 147, 147, 147, 147, 147, 147, 147, 147, 147, 147, 147, 147, 147, 147, 147, 147, 147, 147, 147, 147, 147, 147, 147, 147, 147, 147, 147, 147, 147, 147, 147, 147, 147, 147, 147, 147, 147, 147, 147, 147, 147, 147, 147, 147, 147, 147, 147, 147, 147, 148, 148, 148, 148, 148, 148, 148, 148, 148, 148, 148, 148, 148, 148, 148, 148, 148, 148, 148, 148, 148, 148, 148, 148, 148, 148, 148, 148, 148, 148, 148, 148, 148, 148, 148, 148, 148, 148, 148, 148, 148, 148, 148, 148, 148, 148, 148, 148, 148, 148, 148, 148, 148, 148, 148, 148, 148, 148, 148, 148, 148, 149, 149, 149, 149, 149, 149, 149, 149, 149, 149, 149, 149, 149, 149, 149, 149, 149, 149, 149, 149, 149, 149, 149, 149, 149, 149, 149, 149, 149, 149, 149, 149, 149, 149, 149, 149, 149, 149, 149, 149, 149, 149, 149, 149, 149, 149, 149, 149, 149, 149, 149, 149, 149, 149, 149, 149, 149, 149, 149, 149, 149, 149, 149, 150, 150, 150, 150, 150, 150, 150, 150, 150, 150, 150, 150, 150, 150, 150, 150, 150, 150, 150, 150, 150, 150, 150, 150, 150, 150, 150, 150, 150, 150, 150, 150, 150, 150, 150, 150, 150, 150, 150, 150, 150, 150, 150, 150, 150, 150, 150, 150, 150, 150, 150, 150, 150, 150, 150, 150, 150, 150, 150, 150, 150, 150, 150, 150, 150, 150, 150, 150, 150, 150, 150, 150, 151, 151, 151, 151, 151, 151, 151, 151, 151, 151, 151, 151, 151, 151, 151, 151, 151, 151, 151, 151, 151, 151, 151, 151, 151, 151, 151, 151, 151, 151, 151, 151, 151, 151, 151, 151, 151, 151, 151, 151, 151, 151, 151, 151, 151, 151, 151, 151, 151, 151, 151, 151, 151, 151, 151, 151, 151, 151, 151, 151, 151, 151, 151, 151, 151, 151, 151, 151, 151, 151, 151, 152, 152, 152, 152, 152, 152, 152, 152, 152, 152, 152, 152, 152, 152, 152, 152, 152, 152, 152, 152, 152, 152, 152, 152, 152, 152, 152, 152, 152, 152, 152, 152, 152, 152, 152, 152, 152, 152, 152, 152, 152, 152, 152, 152, 152, 152, 152, 152, 152, 152, 152, 152, 152, 153, 153, 153, 153, 153, 153, 153, 153, 153, 153, 153, 153, 153, 153, 153, 153, 153, 153, 153, 153, 153, 153, 153, 153, 153, 153, 153, 153, 153, 153, 153, 153, 153, 153, 153, 153, 153, 153, 153, 153, 153, 153, 153, 153, 153, 153, 153, 153, 153, 153, 153, 153, 153, 153, 153, 153, 153, 153, 153, 154, 154, 154, 154, 154, 154, 154, 154, 154, 154, 154, 154, 154, 154, 154, 154, 154, 154, 154, 154, 154, 154, 154, 154, 154, 154, 154, 154, 154, 154, 154, 154, 154, 154, 154, 154, 154, 154, 154, 154, 154, 154, 154, 154, 154, 154, 154, 154, 154, 154, 154, 154, 154, 154, 154, 154, 154, 154, 154, 154, 154, 154, 154, 154, 155, 155, 155, 155, 155, 155, 155, 155, 155, 155, 155, 155, 155, 155, 155, 155, 155, 155, 155, 155, 155, 155, 155, 155, 155, 155, 155, 155, 155, 155, 155, 155, 155, 155, 155, 155, 155, 155, 155, 155, 155, 155, 155, 155, 155, 155, 155, 155, 155, 155, 155, 155, 155, 155, 155, 155, 155, 155, 155, 155, 155, 155, 155, 155, 155, 155, 155, 155, 155, 156, 156, 156, 156, 156, 156, 156, 156, 156, 156, 156, 156, 156, 156, 156, 156, 156, 156, 156, 156, 156, 156, 156, 156, 156, 156, 156, 156, 156, 156, 156, 156, 156, 156, 156, 156, 156, 156, 156, 156, 156, 156, 156, 156, 156, 156, 156, 156, 156, 156, 156, 156, 156, 156, 156, 156, 156, 156, 156, 156, 156, 156, 156, 156, 156, 156, 156, 156, 157, 157, 157, 157, 157, 157, 157, 157, 157, 157, 157, 157, 157, 157, 157, 157, 157, 157, 157, 157, 157, 157, 157, 157, 157, 157, 157, 157, 157, 157, 157, 157, 157, 157, 157, 157, 157, 157, 157, 157, 157, 157, 157, 157, 157, 157, 158, 158, 158, 158, 158, 158, 158, 158, 158, 158, 158, 158, 158, 158, 158, 158, 158, 158, 158, 158, 158, 158, 158, 158, 158, 158, 158, 158, 158, 158, 158, 158, 158, 158, 158, 158, 158, 158, 158, 158, 158, 158, 158, 158, 158, 158, 158, 158, 158, 158, 158, 158, 158, 158, 158, 158, 158, 158, 158, 158, 159, 159, 159, 159, 159, 159, 159, 159, 159, 159, 159, 159, 159, 159, 159, 159, 159, 159, 159, 159, 159, 159, 159, 159, 159, 159, 159, 159, 159, 159, 159, 159, 159, 159, 159, 159, 159, 159, 159, 159, 159, 159, 159, 159, 159, 159, 159, 159, 159, 159, 159, 159, 159, 160, 160, 160, 160, 160, 160, 160, 160, 160, 160, 160, 160, 160, 160, 160, 160, 160, 160, 160, 160, 160, 160, 160, 160, 160, 160, 160, 160, 160, 160, 160, 160, 160, 160, 160, 160, 160, 160, 160, 160, 160, 160, 160, 160, 160, 160, 160, 161, 161, 161, 161, 161, 161, 161, 161, 161, 161, 161, 161, 161, 161, 161, 161, 161, 161, 161, 161, 161, 161, 161, 161, 161, 161, 161, 161, 161, 161, 161, 161, 161, 161, 161, 161, 161, 161, 161, 161, 161, 161, 161, 161, 161, 161, 161, 161, 161, 161, 161, 161, 162, 162, 162, 162, 162, 162, 162, 162, 162, 162, 162, 162, 162, 162, 162, 162, 162, 162, 162, 162, 162, 162, 162, 162, 162, 162, 162, 162, 162, 162, 162, 162, 162, 162, 162, 162, 162, 162, 162, 162, 162, 162, 162, 162, 162, 162, 162, 162, 162, 162, 162, 162, 162, 162, 162, 163, 163, 163, 163, 163, 163, 163, 163, 163, 163, 163, 163, 163, 163, 163, 163, 163, 163, 163, 163, 163, 163, 163, 163, 163, 163, 163, 163, 163, 163, 163, 163, 163, 163, 163, 163, 163, 163, 163, 163, 163, 163, 163, 163, 163, 163, 163, 163, 163, 163, 163, 163, 163, 163, 163, 164, 164, 164, 164, 164, 164, 164, 164, 164, 164, 164, 164, 164, 164, 164, 164, 164, 164, 164, 164, 164, 164, 164, 164, 164, 164, 164, 164, 164, 164, 164, 164, 164, 164, 164, 164, 164, 164, 164, 164, 164, 164, 164, 164, 164, 164, 164, 164, 164, 164, 164, 164, 164, 164, 164, 164, 165, 165, 165, 165, 165, 165, 165, 165, 165, 165, 165, 165, 165, 165, 165, 165, 165, 165, 165, 165, 165, 165, 165, 165, 165, 165, 165, 165, 165, 165, 165, 165, 165, 165, 165, 165, 165, 165, 165, 165, 165, 165, 165, 165, 165, 165, 165, 165, 165, 165, 165, 166, 166, 166, 166, 166, 166, 166, 166, 166, 166, 166, 166, 166, 166, 166, 166, 166, 166, 166, 166, 166, 166, 166, 166, 166, 166, 166, 166, 166, 166, 166, 166, 166, 166, 166, 166, 166, 166, 166, 166, 166, 166, 166, 166, 166, 166, 167, 167, 167, 167, 167, 167, 167, 167, 167, 167, 167, 167, 167, 167, 167, 167, 167, 167, 167, 167, 167, 167, 167, 167, 167, 167, 167, 167, 167, 167, 167, 167, 167, 167, 167, 167, 167, 167, 167, 167, 167, 167, 167, 167, 167, 167, 167, 167, 168, 168, 168, 168, 168, 168, 168, 168, 168, 168, 168, 168, 168, 168, 168, 168, 168, 168, 168, 168, 168, 168, 168, 168, 168, 168, 168, 168, 168, 168, 168, 168, 168, 168, 168, 168, 168, 168, 168, 168, 168, 168, 168, 168, 168, 168, 168, 169, 169, 169, 169, 169, 169, 169, 169, 169, 169, 169, 169, 169, 169, 169, 169, 169, 169, 169, 169, 169, 169, 169, 169, 169, 169, 169, 169, 169, 169, 169, 169, 169, 169, 169, 169, 169, 169, 169, 169, 169, 169, 169, 169, 169, 169, 169, 169, 169, 169, 169, 170, 170, 170, 170, 170, 170, 170, 170, 170, 170, 170, 170, 170, 170, 170, 170, 170, 170, 170, 170, 170, 170, 170, 170, 170, 170, 170, 170, 170, 170, 170, 170, 170, 170, 170, 170, 170, 170, 170, 170, 170, 170, 170, 170, 170, 170, 171, 171, 171, 171, 171, 171, 171, 171, 171, 171, 171, 171, 171, 171, 171, 171, 171, 171, 171, 171, 171, 171, 171, 171, 171, 171, 171, 171, 171, 171, 171, 171, 171, 171, 171, 171, 171, 171, 171, 171, 171, 171, 171, 171, 171, 171, 171, 171, 171, 172, 172, 172, 172, 172, 172, 172, 172, 172, 172, 172, 172, 172, 172, 172, 172, 172, 172, 172, 172, 172, 172, 172, 172, 172, 172, 172, 172, 172, 172, 172, 172, 172, 172, 172, 172, 172, 172, 172, 172, 172, 172, 172, 172, 172, 172, 172, 172, 172, 172, 172, 172, 172, 172, 173, 173, 173, 173, 173, 173, 173, 173, 173, 173, 173, 173, 173, 173, 173, 173, 173, 173, 173, 173, 173, 173, 173, 173, 173, 173, 173, 173, 173, 173, 173, 173, 173, 173, 173, 173, 173, 173, 173, 173, 173, 173, 173, 173, 173, 173, 173, 173, 173, 173, 174, 174, 174, 174, 174, 174, 174, 174, 174, 174, 174, 174, 174, 174, 174, 174, 174, 174, 174, 174, 174, 174, 174, 174, 174, 174, 174, 174, 174, 174, 174, 174, 174, 174, 174, 174, 174, 174, 175, 175, 175, 175, 175, 175, 175, 175, 175, 175, 175, 175, 175, 175, 175, 175, 175, 175, 175, 175, 175, 175, 175, 175, 175, 175, 175, 175, 175, 175, 175, 175, 175, 175, 175, 175, 175, 176, 176, 176, 176, 176, 176, 176, 176, 176, 176, 176, 176, 176, 176, 176, 176, 176, 176, 176, 176, 176, 176, 176, 176, 176, 176, 176, 176, 176, 176, 176, 176, 176, 176, 176, 176, 176, 176, 176, 176, 176, 176, 176, 176, 177, 177, 177, 177, 177, 177, 177, 177, 177, 177, 177, 177, 177, 177, 177, 177, 177, 177, 177, 177, 177, 177, 177, 177, 177, 177, 177, 177, 177, 177, 177, 177, 177, 177, 177, 177, 177, 177, 177, 177, 177, 177, 177, 177, 177, 177, 177, 177, 178, 178, 178, 178, 178, 178, 178, 178, 178, 178, 178, 178, 178, 178, 178, 178, 178, 178, 178, 178, 178, 178, 178, 178, 178, 178, 178, 178, 178, 178, 178, 178, 178, 178, 178, 178, 178, 178, 178, 178, 178, 178, 178, 178, 179, 179, 179, 179, 179, 179, 179, 179, 179, 179, 179, 179, 179, 179, 179, 179, 179, 179, 179, 179, 179, 179, 179, 179, 179, 179, 179, 179, 179, 179, 179, 179, 179, 179, 179, 179, 179, 179, 179, 179, 179, 179, 179, 179, 179, 179, 179, 179, 179, 179, 179, 179, 179, 179, 180, 180, 180, 180, 180, 180, 180, 180, 180, 180, 180, 180, 180, 180, 180, 180, 180, 180, 180, 180, 180, 180, 180, 180, 180, 180, 180, 180, 180, 180, 180, 180, 180, 180, 180, 180, 180, 180, 180, 180, 180, 180, 180, 180, 180, 180, 180, 180, 181, 181, 181, 181, 181, 181, 181, 181, 181, 181, 181, 181, 181, 181, 181, 181, 181, 181, 181, 181, 181, 181, 181, 181, 181, 181, 181, 181, 181, 181, 181, 181, 181, 181, 181, 181, 181, 181, 181, 181, 181, 181, 181, 181, 182, 182, 182, 182, 182, 182, 182, 182, 182, 182, 182, 182, 182, 182, 182, 182, 182, 182, 182, 182, 182, 182, 182, 182, 182, 182, 182, 182, 182, 182, 182, 182, 182, 182, 182, 182, 182, 182, 182, 182, 182, 182, 182, 182, 182, 182, 182, 182, 183, 183, 183, 183, 183, 183, 183, 183, 183, 183, 183, 183, 183, 183, 183, 183, 183, 183, 183, 183, 183, 183, 183, 183, 183, 183, 183, 183, 183, 183, 183, 183, 183, 183, 183, 183, 183, 183, 183, 183, 184, 184, 184, 184, 184, 184, 184, 184, 184, 184, 184, 184, 184, 184, 184, 184, 184, 184, 184, 184, 184, 184, 184, 184, 184, 184, 184, 184, 184, 184, 184, 184, 185, 185, 185, 185, 185, 185, 185, 185, 185, 185, 185, 185, 185, 185, 185, 185, 185, 185, 185, 185, 185, 185, 185, 185, 185, 185, 185, 185, 185, 185, 185, 185, 185, 185, 185, 186, 186, 186, 186, 186, 186, 186, 186, 186, 186, 186, 186, 186, 186, 186, 186, 186, 186, 186, 186, 186, 186, 186, 186, 186, 186, 186, 186, 186, 186, 186, 186, 187, 187, 187, 187, 187, 187, 187, 187, 187, 187, 187, 187, 187, 187, 187, 187, 187, 187, 187, 187, 187, 187, 187, 187, 187, 187, 187, 187, 187, 187, 187, 187, 187, 187, 187, 188, 188, 188, 188, 188, 188, 188, 188, 188, 188, 188, 188, 188, 188, 188, 188, 188, 188, 188, 188, 188, 188, 188, 188, 188, 188, 188, 188, 188, 188, 188, 189, 189, 189, 189, 189, 189, 189, 189, 189, 189, 189, 189, 189, 189, 189, 189, 189, 189, 189, 189, 189, 189, 189, 189, 189, 189, 189, 189, 189, 189, 189, 189, 189, 189, 189, 189, 189, 189, 190, 190, 190, 190, 190, 190, 190, 190, 190, 190, 190, 190, 190, 190, 190, 190, 190, 190, 190, 190, 190, 190, 190, 190, 190, 190, 190, 191, 191, 191, 191, 191, 191, 191, 191, 191, 191, 191, 191, 191, 191, 191, 191, 191, 191, 191, 191, 191, 191, 191, 191, 191, 191, 191, 191, 191, 191, 191, 191, 191, 191, 191, 191, 191, 192, 192, 192, 192, 192, 192, 192, 192, 192, 192, 192, 192, 192, 192, 192, 192, 192, 192, 192, 192, 192, 192, 192, 192, 192, 192, 192, 192, 192, 192, 192, 192, 192, 192, 192, 192, 192, 192, 192, 192, 192, 192, 192, 192, 192, 192, 193, 193, 193, 193, 193, 193, 193, 193, 193, 193, 193, 193, 193, 193, 193, 193, 193, 193, 193, 193, 193, 193, 193, 193, 193, 193, 193, 193, 193, 193, 193, 194, 194, 194, 194, 194, 194, 194, 194, 194, 194, 194, 194, 194, 194, 194, 194, 194, 194, 194, 194, 194, 194, 194, 194, 194, 194, 194, 194, 194, 194, 194, 194, 194, 194, 194, 194, 194, 194, 194, 194, 195, 195, 195, 195, 195, 195, 195, 195, 195, 195, 195, 195, 195, 195, 195, 195, 195, 195, 195, 195, 195, 195, 195, 195, 195, 195, 195, 195, 195, 195, 195, 195, 195, 195, 195, 196, 196, 196, 196, 196, 196, 196, 196, 196, 196, 196, 196, 196, 196, 196, 196, 196, 196, 196, 196, 196, 196, 196, 196, 196, 196, 196, 196, 196, 196, 196, 196, 196, 196, 196, 196, 196, 196, 196, 196, 196, 196, 196, 196, 196, 196, 197, 197, 197, 197, 197, 197, 197, 197, 197, 197, 197, 197, 197, 197, 197, 197, 197, 197, 197, 197, 197, 197, 197, 197, 197, 197, 197, 197, 197, 197, 197, 197, 197, 197, 197, 197, 197, 197, 197, 197, 197, 197, 197, 197, 197, 197, 197, 197, 198, 198, 198, 198, 198, 198, 198, 198, 198, 198, 198, 198, 198, 198, 198, 198, 198, 198, 198, 198, 198, 198, 198, 198, 198, 198, 198, 198, 198, 198, 198, 198, 198, 198, 198, 198, 198, 198, 198, 198, 199, 199, 199, 199, 199, 199, 199, 199, 199, 199, 199, 199, 199, 199, 199, 199, 199, 199, 199, 199, 199, 199, 199, 199, 199, 199, 199, 199, 199, 199, 199, 199, 199, 199, 199, 199, 199, 199, 199, 199, 199, 199, 199, 199, 199, 199, 199, 199, 199, 199, 199, 199, 199, 199, 199, 199, 199, 199, 200, 200, 200, 200, 200, 200, 200, 200, 200, 200, 200, 200, 200, 200, 200, 200, 200, 200, 200, 200, 200, 200, 200, 200, 200, 200, 200, 200, 200, 200, 200, 200, 200, 200, 200, 200, 200, 200, 200, 200, 200, 200, 200, 200, 200, 200, 200, 200, 200, 200, 200, 200, 200, 200, 200, 200, 200, 200, 200, 200, 200, 200, 200, 200, 200, 200, 200, 200, 200, 200, 200, 200, 200, 200, 200, 200, 200, 200, 200, 200, 200, 200, 200, 200, 200, 200, 200, 200, 200, 200, 200, 200, 200, 200, 200, 200, 200, 200, 200, 200, 200, 200, 200, 200, 200, 200, 200, 200, 200, 200, 200, 200, 200, 200, 200, 200, 200, 200, 200, 200, 200, 200, 200, 200, 200, 200, 200, 200, 200, 200, 200, 200, 200, 200, 200, 200, 200, 200, 200, 200, 200, 200, 200, 200, 200, 200, 200, 200, 200, 200, 200, 200, 200, 200, 200, 200, 200, 200, 200, 200, 200, 200, 200, 200, 200, 200, 200, 200, 200, 200, 200, 200, 200, 200, 200, 200, 200, 200, 200, 200, 200, 200, 200, 200, 200, 200, 200, 200, 200, 200, 200, 200, 200, 200, 200, 200, 200, 200, 200, 200, 200, 200, 200, 200, 200, 200, 200, 200, 200, 200, 200, 200, 200, 200, 200, 200, 200, 200, 200, 200, 200, 200, 200, 200, 200, 200, 200, 200, 200, 200, 200, 200, 200, 200, 200, 200, 200, 200, 200, 200, 200, 200, 200, 200, 200, 200, 200, 200, 200, 200, 200, 200, 200, 200, 200, 200, 200, 200, 200, 200, 200, 200, 200, 200, 200, 200, 200, 200, 200, 200, 200, 200, 200, 200, 200, 200, 200, 200, 200, 200, 200, 200, 200, 200, 200, 200, 200, 200, 200, 200, 200, 200, 200, 200, 200, 200, 200, 200, 200, 200, 200, 200, 200, 200, 200, 200, 200, 200, 200, 200, 200, 200, 200, 200, 200, 200, 200, 200, 200, 200, 200, 200, 200, 200, 200, 200, 200, 200, 200, 200, 200, 200, 200, 200, 200, 200, 200, 200, 200, 200, 200, 200, 200, 200, 200, 200, 200, 200, 200, 200, 200, 200, 200, 200, 200, 200, 200, 200, 200, 200, 200, 200, 200, 200, 200, 200, 200, 200, 200, 200, 200, 200, 200, 200, 200, 200, 200, 200, 200, 200, 200, 200, 200, 200, 200, 200, 200, 200, 200, 200, 200, 200, 200, 200, 200, 200, 200, 200, 200, 200, 200, 200, 200, 200, 200, 200, 200, 200, 200, 200, 200, 200, 200, 200, 200, 200, 200, 200, 200, 200, 200, 200, 200, 200, 200, 200, 200, 200, 200, 200, 200, 200, 200, 200, 200, 200, 200, 200, 200, 200, 200, 200, 200, 200, 200, 200, 200, 200, 200, 200, 200, 200, 200, 200, 200, 200, 200, 200, 200, 200, 200, 200, 200, 200, 200, 200, 200, 200, 200, 200, 200, 200, 200, 200, 200, 200, 200, 200, 200, 200, 200, 200, 200, 200, 200, 200, 200, 200, 200, 200, 200, 200, 200, 200, 200, 200, 200, 200, 200, 200, 200, 200, 200, 200, 200, 200, 200, 200, 200, 200, 200, 200, 200, 200, 200, 200, 200, 200, 200, 200, 200, 200, 200, 200, 200, 200, 200, 200, 200, 200, 200, 200, 200, 200, 200, 200, 200, 200, 200, 200, 200, 200, 200, 200, 200, 200, 200, 200, 200, 200, 200, 200, 200, 200, 200, 200, 200, 200, 200, 200, 200, 200, 200, 200, 200, 200, 200, 200, 200, 200, 200, 200, 200, 200, 200, 200, 200, 200, 200, 200, 200, 200, 200, 200, 200, 200, 200, 200, 200, 200, 200, 200, 200, 200, 200, 200, 200, 200, 200, 200, 200, 200, 200, 200, 200, 200, 200, 200, 200, 200, 200, 200, 200, 200, 200, 200, 200, 200, 200, 200, 200, 200, 200, 200, 200, 200, 200, 200, 200, 200, 200, 200, 200, 200, 200, 200, 200, 200, 200, 200, 200, 200, 200, 200, 200, 200, 200, 200, 200, 200, 200, 200, 200, 200, 200, 200, 200, 200, 200, 200, 200, 200, 200, 200, 200, 200, 200, 200, 200, 200, 200, 200, 200, 200, 200, 200, 200, 200, 200, 200, 200, 200, 200, 200, 200, 200, 200, 200, 200, 200, 200, 200, 200, 200, 200, 200, 200, 200, 200, 200, 200, 200, 200, 200, 200, 200, 200, 200, 200, 200, 200, 200, 200, 200, 200, 200, 200, 200, 200, 200, 200, 200, 200, 200, 200, 200, 200, 200, 200, 200, 200, 200, 200, 200, 200, 200, 200, 200, 200, 200, 200, 200, 200, 200, 200, 200, 200, 200, 200, 200, 200, 200, 200, 200, 200, 200, 200, 200, 200, 200, 200, 200, 200, 200, 200, 200, 200, 200, 200, 200, 200, 200, 200, 200, 200, 200, 200, 200, 200, 200, 200, 200, 200, 200, 200, 200, 200, 200, 200, 200, 200, 200, 200, 200, 200, 200, 200, 200, 200, 200, 200, 200, 200, 200, 200, 200, 200, 200, 200, 200, 200, 200, 200, 200, 200, 200, 200, 200, 200, 200, 200, 200, 200, 200, 200, 200, 200, 200, 200, 200, 200, 200, 200, 200, 200, 200, 200, 200, 200, 200, 200, 200, 200, 200, 200, 200, 200, 200, 200, 200, 200, 200, 200, 200, 200, 200, 200, 200, 200, 200, 200, 200, 200, 200, 200, 200, 200, 200, 200, 200, 200, 200, 200, 200, 200, 200, 200, 200, 200, 200, 200, 200, 200, 200, 200, 200, 200, 200, 200, 200, 200, 200, 200, 200, 200, 200, 200, 200, 200, 200, 200, 200, 200, 200, 200, 200, 200, 200, 200, 200, 200, 200, 200, 200, 200, 200, 200, 200, 200, 200, 200, 200, 200, 200, 200, 200, 200, 200, 200, 200, 200, 200, 200, 200, 200, 200, 200, 200, 200, 200, 200, 200, 200, 200, 200, 200, 200, 200, 200, 200, 200, 200, 200, 200, 200, 200, 200, 200, 200, 200, 200, 200, 200, 200, 200, 200, 200, 200, 200, 200, 200, 200, 200, 200, 200, 200, 200, 200, 200, 200, 200, 200, 200, 200, 200, 200, 200, 200, 200, 200, 200, 200, 200, 200, 200, 200, 200, 200, 200, 200, 200, 200, 200, 200, 200, 200, 200, 200, 200, 200, 200, 200, 200, 200, 200, 200, 200, 200, 200, 200, 200, 200, 200, 200, 200, 200, 200, 200, 200, 200, 200, 200, 200, 200, 200, 200, 200, 200, 200, 200, 200, 200, 200, 200, 200, 200, 200, 200, 200, 200, 200, 200, 200, 200, 200, 200, 200, 200, 200, 200, 200, 200, 200, 200, 200, 200, 200, 200, 200, 200, 200, 200, 200, 200, 200, 200, 200, 200, 200, 200, 200, 200, 200, 200, 200, 200, 200, 200, 200, 200, 200, 200, 200, 200, 200, 200, 200, 200, 200, 200, 200, 200, 200, 200, 200, 200, 200, 200, 200, 200, 200, 200, 200, 200, 200, 200, 200, 200, 200, 200, 200, 200, 200, 200, 200, 200, 200, 200, 200, 200, 200, 200, 200, 200, 200, 200, 200, 200, 200, 200, 200, 200, 200, 200, 200, 200, 200, 200, 200, 200, 200, 200, 200, 200, 200, 200, 200, 200, 200, 200, 200, 200, 200, 200, 200, 200, 200, 200, 200, 200, 200, 200, 200, 200, 200, 200, 200, 200, 200, 200, 200, 200, 200, 200, 200, 200, 200, 200, 200, 200, 200, 200, 200, 200, 200, 200, 200, 200, 200, 200, 200, 200, 200, 200, 200, 200, 200, 200, 200, 200, 200, 200, 200, 200, 200, 200, 200, 200, 200, 200, 200, 200, 200, 200, 200, 200, 200, 200, 200, 200, 200, 200, 200, 200, 200, 200, 200, 200, 200, 200, 200, 200, 200, 200, 200, 200, 200, 200, 200, 200, 200, 200, 200, 200, 200, 200, 200, 200, 200, 200, 200, 200, 200, 200, 200, 200, 200, 200, 200, 200, 200, 200, 200, 200, 200, 200, 200, 200, 200, 200, 200, 200, 200, 200, 200, 200, 200, 200, 200, 200, 200, 200, 200, 200, 200, 200, 200, 200, 200, 200, 200, 200, 200, 200, 200, 200, 200, 200, 200, 200, 200, 200, 200, 200, 200, 200, 200, 200, 200, 200, 200, 200, 200, 200, 200, 200, 200, 200, 200, 200, 200, 200, 200, 200, 200, 200, 200, 200, 200, 200, 200, 200, 200, 200, 200, 200, 200, 200, 200, 200, 200, 200, 200, 200, 200, 200, 200, 200, 200, 200, 200, 200, 200, 200, 200, 200, 200, 200, 200, 200, 200, 200, 200, 200, 200, 200, 200, 200, 200, 200, 200, 200, 200, 200, 200, 200, 200, 200, 200, 200, 200, 200, 200, 200, 200, 200, 200, 200, 200, 200, 200, 200, 200, 200, 200, 200, 200, 200, 200, 200, 200, 200, 200, 200, 200, 200, 200, 200, 200, 200, 200, 200, 200, 200, 200, 200, 200, 200, 200, 200, 200, 200, 200, 200, 200, 200, 200, 200, 200, 200, 200, 200, 200, 200, 200, 200, 200, 200, 200, 200, 200, 200, 200, 200, 200, 200, 200, 200, 200, 200, 200, 200, 200, 200, 200, 200, 200, 200, 200, 200, 200, 200, 200, 200, 200, 200, 200, 200, 200, 200, 200, 200, 200, 200, 200, 200, 200, 200, 200, 200, 200, 200, 200, 200, 200, 200, 200, 200, 200, 200, 200, 200, 200, 200, 200, 200, 200, 200, 200, 200, 200, 200, 200, 200, 200, 200, 200, 200, 200, 200, 200, 200, 200, 200, 200, 200, 200, 200, 200, 200, 200, 200, 200, 200, 200, 200, 200, 200, 200, 200, 200, 200, 200, 200, 200, 200, 200, 200, 200, 200, 200, 200, 200, 200, 200, 200, 200, 200, 200, 200, 200, 200, 200, 200, 200, 200, 200, 200, 200, 200, 200, 200, 200, 200, 200, 200, 200, 200, 200, 200, 200, 200, 200, 200, 200, 200, 200, 200, 200, 200, 200, 200, 200, 200, 200, 200, 200, 200, 200, 200, 200, 200, 200, 200, 200, 200, 200, 200, 200, 200, 200, 200, 200, 200, 200, 200, 200, 200, 200, 200, 200, 200, 200, 200, 200, 200, 200, 200, 200, 200, 200, 200, 200, 200, 200, 200, 200, 200, 200, 200, 200, 200, 200, 200, 200, 200, 200, 200, 200, 200, 200, 200, 200, 200, 200, 200, 200, 200, 200, 200, 200, 200, 200, 200, 200, 200, 200, 200, 200, 200, 200, 200, 200, 200, 200, 200, 200, 200, 200, 200, 200, 200, 200, 200, 200, 200, 200, 200, 200, 200, 200, 200, 200, 200, 200, 200, 200, 200, 200, 200, 200, 200, 200, 200, 200, 200, 200, 200, 200, 200, 200, 200, 200, 200, 200, 200, 200, 200, 200, 200, 200, 200, 200, 200, 200, 200, 200, 200, 200, 200, 200, 200, 200, 200, 200, 200, 200, 200, 200, 200, 200, 200, 200, 200, 200, 200, 200, 200, 200, 200, 200, 200, 200, 200, 200, 200, 200, 200, 200, 200, 200, 200, 200, 200, 200, 200, 200, 200, 200, 200, 200, 200, 200, 200, 200, 200, 200, 200, 200, 200, 200, 200, 200, 200, 200, 200, 200, 200, 200, 200, 200, 200, 200, 200, 200, 200, 200, 200, 200, 200, 200, 200, 200, 200, 200, 200, 200, 200, 200, 200, 200, 200, 200, 200, 200, 200, 200, 200, 200, 200, 200, 200, 200, 200, 200, 200, 200, 200, 200, 200, 200, 200, 200, 200, 200, 200, 200, 200, 200, 200, 200, 200, 200, 200, 200, 200, 200, 200, 200, 200, 200, 200, 200, 200, 200, 200, 200, 200, 200, 200, 200, 200, 200, 200, 200, 200, 200, 200, 200, 200, 200, 200, 200, 200, 200, 200, 200, 200, 200, 200, 200, 200, 200, 200, 200, 200, 200, 200, 200, 200, 200, 200, 200, 200, 200, 200, 200, 200, 200, 200, 200, 200, 200, 200, 200, 200, 200, 200, 200, 200, 200, 200, 200, 200, 200, 200, 200, 200, 200, 200, 200, 200, 200, 200, 200, 200, 200, 200, 200, 200, 200, 200, 200, 200, 200, 200, 200, 200, 200, 200, 200, 200, 200, 200, 200, 200, 200, 200, 200, 200, 200, 200, 200, 200, 200, 200, 200, 200, 200, 200, 200, 200, 200, 200, 200, 200, 200, 200, 200, 200, 200, 200, 200, 200, 200, 200, 200, 200, 200, 200, 200, 200, 200, 200, 200, 200, 200, 200, 200, 200, 200, 200, 200, 200, 200, 200, 200, 200, 200, 200, 200, 200, 200, 200, 200, 200, 200, 200, 200, 200, 200, 200, 200, 200, 200, 200, 200, 200, 200, 200, 200, 200, 200, 200, 200, 200, 200, 200, 200, 200, 200, 200, 200, 200, 200, 200, 200, 200, 200, 200, 200, 200, 200, 200, 200, 200, 200, 200, 200, 200, 200, 200, 200, 200, 200, 200, 200, 200, 200, 200, 200, 200, 200, 200, 200, 200, 200, 200, 200, 200, 200, 200, 200, 200, 200, 200, 200, 200, 200, 200, 200, 200, 200, 200, 200, 200, 200, 200, 200, 200, 200, 200, 200, 200, 200, 200, 200, 200, 200, 200, 200, 200, 200, 200, 200, 200, 200, 200, 200, 200, 200, 200, 200, 200, 200, 200, 200, 200, 200, 200, 200, 200, 200, 200, 200, 200, 200, 200, 200, 200, 200, 200, 200, 200, 200, 200, 200, 200, 200, 200, 200, 200, 200, 200, 200, 200, 200, 200, 200, 200, 200, 200, 200, 200, 200, 200, 200, 200, 200, 200, 200, 200, 200, 200, 200, 200, 200, 200, 200, 200, 200, 200, 200, 200, 200, 200, 200, 200, 200, 200, 200, 200, 200, 200, 200, 200, 200, 200, 200, 200, 200, 200, 200, 200, 200, 200, 200, 200, 200, 200, 200, 200, 200, 200, 200, 200, 200, 200, 200, 200, 200, 200, 200, 200, 200, 200, 200, 200, 200, 200, 200, 200, 200, 200, 200, 200, 200, 200, 200, 200, 200, 200, 200, 200, 200, 200, 200, 200, 200, 200, 200, 200, 200, 200, 200, 200, 200, 200, 200, 200, 200, 200, 200, 200, 200, 200, 200, 200, 200, 200, 200, 200, 200, 200, 200, 200, 200, 200, 200, 200, 200, 200, 200, 200, 200, 200, 200, 200, 200, 200, 200, 200, 200, 200, 200, 200, 200, 200, 200, 200, 200, 200, 200, 200, 200, 200, 200, 200, 200, 200, 200, 200, 200, 200, 200, 200, 200, 200, 200, 200, 200, 200, 200, 200, 200, 200, 200, 200, 200, 200, 200, 200, 200, 200, 200, 200, 200, 200, 200, 200, 200, 200, 200, 200, 200, 200, 200, 200, 200, 200, 200, 200, 200, 200, 200, 200, 200, 200, 200, 200, 200, 200, 200, 200, 200, 200, 200, 200, 200, 200, 200, 200, 200, 200, 200, 200, 200, 200, 200, 200, 200, 200, 200, 200, 200, 200, 200, 200, 200, 200, 200, 200, 200, 200, 200, 200, 200, 200, 200, 200, 200, 200, 200, 200, 200, 200, 200, 200, 200, 200, 200, 200, 200, 200, 200, 200, 200, 200, 200, 200, 200, 200, 200, 200, 200, 200, 200, 200, 200, 200, 200, 200, 200, 200, 200, 200, 200, 200, 200, 200, 200, 200, 200, 200, 200, 200, 200, 200, 200, 200, 200, 200, 200, 200, 200, 200, 200, 200, 200, 200, 200, 200, 200, 200, 200, 200, 200, 200, 200, 200, 200, 200, 200, 200, 200, 200, 200, 200, 200, 200, 200, 200, 200, 200, 200, 200, 200, 200, 200, 200, 200, 200, 200, 200, 200, 200, 200, 200, 200, 200, 200, 200, 200, 200, 200, 200, 200, 200, 200, 200, 200, 200, 200, 200, 200, 200, 200, 200, 200, 200, 200, 200, 200, 200, 200, 200, 200, 200, 200, 200, 200, 200, 200, 200, 200, 200, 200, 200, 200, 200, 200, 200, 200, 200, 200, 200, 200, 200, 200, 200, 200, 200, 200, 200, 200, 200, 200, 200, 200, 200, 200, 200, 200, 200, 200, 200, 200, 200, 200, 200, 200, 200, 200, 200, 200, 200, 200, 200, 200, 200, 200, 200, 200, 200, 200, 200, 200, 200, 200, 200, 200, 200, 200, 200, 200, 200, 200, 200, 200, 200, 200, 200, 200, 200, 200, 200, 200, 200, 200, 200, 200, 200, 200, 200, 200, 200, 200, 200, 200, 200, 200, 200, 200, 200, 200, 200, 200, 200, 200, 200, 200, 200, 200, 200, 200, 200, 200, 200, 200, 200, 200, 200, 200, 200, 200, 200, 200, 200, 200, 200, 200, 200, 200, 200, 200, 200, 200, 200, 200, 200, 200, 200, 200, 200, 200, 200, 200, 200, 200, 200, 200, 200, 200, 200, 200, 200, 200, 200, 200, 200, 200, 200, 200, 200, 200, 200, 200, 200, 200, 200, 200, 200, 200, 200, 200, 200, 200, 200, 200, 200, 200, 200, 200, 200, 200, 200, 200, 200, 200, 200, 200, 200, 200, 200, 200, 200, 200, 200, 200, 200, 200, 200, 200, 200, 200, 200, 200, 200, 200, 200, 200, 200, 200, 200, 200, 200, 200, 200, 200, 200, 200, 200, 200, 200, 200, 200, 200, 200, 200, 200, 200, 200, 200, 200, 200, 200, 200, 200, 200, 200, 200, 200, 200, 200, 200, 200, 200, 200, 200, 200, 200, 200, 200, 200, 200, 200, 200, 200, 200, 200, 200, 200, 200, 200, 200, 200, 200, 200, 200, 200, 200, 200, 200, 200, 200, 200, 200, 200, 200, 200, 200, 200, 200, 200, 200, 200, 200, 200, 200, 200, 200, 200, 200, 200, 200, 200, 200, 200, 200, 200, 200, 200, 200, 200, 200, 200, 200, 200, 200, 200, 200, 200, 200, 200, 200, 200, 200, 200, 200, 200, 200, 200, 200, 200, 200, 200, 200, 200, 200, 200, 200, 200, 200, 200, 200, 200, 200, 200, 200, 200, 200, 200, 200, 200, 200, 200, 200, 200, 200, 200, 200, 200, 200, 200, 200, 200, 200, 200, 200, 200, 200, 200, 200, 200, 200, 200, 200, 200, 200, 200, 200, 200, 200, 200, 200, 200, 200, 200, 200, 200, 200, 200, 200, 200, 200, 200, 200, 200, 200, 200, 200, 200, 200, 200, 200, 200, 200, 200, 200, 200, 200, 200, 200, 200, 200, 200, 200, 200, 200, 200, 200, 200, 200, 200, 200, 200, 200, 200, 200, 200, 200, 200, 200, 200, 200, 200, 200, 200, 200, 200, 200, 200, 200, 200, 200, 200, 200, 200, 200, 200, 200, 200, 200, 200, 200, 200, 200, 200, 200, 200, 200, 200, 200, 200, 200, 200, 200, 200, 200, 200, 200, 200, 200, 200, 200, 200, 200, 200, 200, 200, 200, 200, 200, 200, 200, 200, 200, 200, 200, 200, 200, 200, 200, 200, 200, 200, 200, 200, 200, 200, 200, 200, 200, 200, 200, 200, 200, 200, 200, 200, 200, 200, 200, 200, 200, 200, 200, 200, 200, 200, 200, 200, 200, 200, 200, 200, 200, 200, 200, 200, 200, 200, 200, 200, 200, 200, 200, 200, 200, 200, 200, 200, 200, 200, 200, 200, 200, 200, 200, 200, 200, 200, 200, 200, 200, 200, 200, 200, 200, 200, 200, 200, 200, 200, 200, 200, 200, 200, 200, 200, 200, 200, 200, 200, 200, 200, 200, 200, 200, 200, 200, 200, 200, 200, 200, 200, 200, 200, 200, 200, 200, 200, 200, 200, 200, 200, 200, 200, 200, 200, 200, 200, 200, 200, 200, 200, 200, 200, 200, 200, 200, 200, 200, 200, 200, 200, 200, 200, 200, 200, 200, 200, 200, 200, 200, 200, 200, 200, 200, 200, 200, 200, 200, 200, 200, 200, 200, 200, 200, 200, 200, 200, 200, 200, 200, 200, 200, 200, 200, 200, 200, 200, 200, 200, 200, 200, 200, 200, 200, 200, 200, 200, 200, 200, 200, 200, 200, 200, 200, 200, 200, 200, 200, 200, 200, 200, 200, 200, 200, 200, 200, 200, 200, 200, 200, 200, 200, 200, 200, 200, 200, 200, 200, 200, 200, 200, 200, 200, 200, 200, 200, 200, 200, 200, 200, 200, 200, 200, 200, 200, 200, 200, 200, 200, 200, 200, 200, 200, 200, 200, 200, 200, 200, 200, 200, 200, 200, 200, 200, 200, 200, 200, 200, 200, 200, 200, 200, 200, 200, 200, 200, 200, 200, 200, 200, 200, 200, 200, 200, 200, 200, 200, 200, 200, 200, 200, 200, 200, 200, 200, 200, 200, 200, 200, 200, 200, 200, 200, 200, 200, 200, 200, 200, 200, 200, 200, 200, 200, 200, 200, 200, 200, 200, 200, 200, 200, 200, 200, 200, 200, 200, 200, 200, 200, 200, 200, 200, 200, 200, 200, 200, 200, 200, 200, 200, 200, 200, 200, 200, 200, 200, 200, 200, 200, 200, 200, 200, 200, 200, 200, 200, 200, 200, 200, 200, 200, 200, 200, 200, 200, 200, 200, 200, 200, 200, 200, 200, 200, 200, 200, 200, 200, 200, 200, 200, 200, 200, 200, 200, 200, 200, 200, 200, 200, 200, 200, 200, 200, 200, 200, 200, 200, 200, 200, 200, 200, 200, 200, 200, 200, 200, 200, 200, 200, 200, 200, 200, 200, 200, 200, 200, 200, 200, 200, 200, 200, 200, 200, 200, 200, 200, 200, 200, 200, 200, 200, 200, 200, 200, 200, 200, 200, 200, 200, 200, 200, 200, 200, 200, 200, 200, 200, 200, 200, 200, 200, 200, 200, 200, 200, 200, 200, 200, 200, 200, 200, 200, 200, 200, 200, 200, 200, 200, 200, 200, 200, 200, 200, 200, 200, 200, 200, 200, 200, 200, 200, 200, 200, 200, 200, 200, 200, 200, 200, 200, 200, 200, 200, 200, 200, 200, 200, 200, 200, 200, 200, 200, 200, 200, 200, 200, 200, 200, 200, 200, 200, 200, 200, 200, 200, 200, 200, 200, 200, 200, 200, 200, 200, 200, 200, 200, 200, 200, 200, 200, 200, 200, 200, 200, 200, 200, 200, 200, 200, 200, 200, 200, 200, 200, 200, 200, 200, 200, 200, 200, 200, 200, 200, 200, 200, 200, 200, 200, 200, 200, 200, 200, 200, 200, 200, 200, 200, 200, 200, 200, 200, 200, 200, 200, 200, 200, 200, 200, 200, 200, 200, 200, 200, 200, 200, 200, 200, 200, 200, 200, 200, 200, 200, 200, 200, 200, 200, 200, 200, 200, 200, 200, 200, 200, 200, 200, 200, 200, 200, 200, 200, 200, 200, 200, 200, 200, 200, 200, 200, 200, 200, 200, 200, 200, 200, 200, 200, 200, 200, 200, 200, 200, 200, 200, 200, 200, 200, 200, 200, 200, 200, 200, 200, 200, 200, 200, 200, 200, 200, 200, 200, 200, 200, 200, 200, 200, 200, 200, 200, 200, 200, 200, 200, 200, 200, 200, 200, 200, 200, 200, 200, 200, 200, 200, 200, 200, 200, 200, 200, 200, 200, 200, 200, 200, 200, 200, 200, 200, 200, 200, 200, 200, 200, 200, 200, 200, 200, 200, 200, 200, 200, 200, 200, 200, 200, 200, 200, 200, 200, 200, 200, 200, 200, 200, 200, 200, 200, 200, 200, 200, 200, 200, 200, 200, 200, 200, 200, 200, 200, 200, 200, 200, 200, 200, 200, 200, 200, 200, 200, 200, 200, 200, 200, 200, 200, 200, 200, 200, 200, 200, 200, 200, 200, 200, 200, 200, 200, 200, 200, 200, 200, 200, 200, 200, 200, 200, 200, 200, 200, 200, 200, 200, 200, 200, 200, 200, 200, 200, 200, 200, 200, 200, 200, 200, 200, 200, 200, 200, 200, 200, 200, 200, 200, 200, 200, 200, 200, 200, 200, 200, 200, 200, 200, 200, 200, 200, 200, 200, 200, 200, 200, 200, 200, 200, 200, 200, 200, 200, 200, 200, 200, 200, 200, 200, 200, 200, 200, 200, 200, 200, 200, 200, 200, 200, 200, 200, 200, 200, 200, 200, 200, 200, 200, 200, 200, 200]]\n"
     ]
    }
   ],
   "source": [
    "# 박스 플롯의 아웃라이어 값\n",
    "outlier_points = [flier.get_ydata() for flier in boxplot['fliers']]\n",
    "\n",
    "# 박스 플롯의 수염(whiskers) 값\n",
    "whisker_values = [whiskers.get_ydata() for whiskers in boxplot['whiskers']]\n",
    "\n",
    "# 수염 값 정렬\n",
    "sorted_outlier_points = [sorted(flier) for flier in outlier_points]\n",
    "\n",
    "# 결과 출력\n",
    "print(\"수염(whiskers) 값:\", whisker_values)\n",
    "print(\"아웃라이어 값(정렬):\", sorted_outlier_points) # 107~200"
   ]
  },
  {
   "cell_type": "markdown",
   "metadata": {},
   "source": [
    "=> 5~106개만 남겨야 함"
   ]
  },
  {
   "cell_type": "markdown",
   "metadata": {},
   "source": [
    "- 플리 별 곡 분포 - 정규분포"
   ]
  },
  {
   "cell_type": "code",
   "execution_count": 51,
   "metadata": {},
   "outputs": [],
   "source": [
    "playlists['songs_cnt'] = playlists['songs'].apply(lambda x : len(x))"
   ]
  },
  {
   "cell_type": "code",
   "execution_count": 59,
   "metadata": {},
   "outputs": [
    {
     "data": {
      "text/plain": [
       "count    115071.000000\n",
       "mean         45.935735\n",
       "std          43.950335\n",
       "min           1.000000\n",
       "25%          19.000000\n",
       "50%          30.000000\n",
       "75%          54.000000\n",
       "max         200.000000\n",
       "Name: songs_cnt, dtype: float64"
      ]
     },
     "execution_count": 59,
     "metadata": {},
     "output_type": "execute_result"
    }
   ],
   "source": [
    "playlists['songs_cnt'].describe()"
   ]
  },
  {
   "cell_type": "code",
   "execution_count": 1,
   "metadata": {},
   "outputs": [
    {
     "ename": "NameError",
     "evalue": "name 'plt' is not defined",
     "output_type": "error",
     "traceback": [
      "\u001b[1;31m---------------------------------------------------------------------------\u001b[0m",
      "\u001b[1;31mNameError\u001b[0m                                 Traceback (most recent call last)",
      "\u001b[1;32mc:\\ROOT_final\\final_project\\1_analysis\\2_EDA.ipynb 셀 51\u001b[0m line \u001b[0;36m1\n\u001b[1;32m----> <a href='vscode-notebook-cell:/c%3A/ROOT_final/final_project/1_analysis/2_EDA.ipynb#Y101sZmlsZQ%3D%3D?line=0'>1</a>\u001b[0m plt\u001b[39m.\u001b[39mhist(playlists[\u001b[39m'\u001b[39m\u001b[39msongs_cnt\u001b[39m\u001b[39m'\u001b[39m], color\u001b[39m=\u001b[39m\u001b[39m'\u001b[39m\u001b[39mpurple\u001b[39m\u001b[39m'\u001b[39m)\n\u001b[0;32m      <a href='vscode-notebook-cell:/c%3A/ROOT_final/final_project/1_analysis/2_EDA.ipynb#Y101sZmlsZQ%3D%3D?line=3'>4</a>\u001b[0m plt\u001b[39m.\u001b[39mtitle(\u001b[39m\"\u001b[39m\u001b[39m플레이리스트 별 song 개수 분포\u001b[39m\u001b[39m\"\u001b[39m, fontsize\u001b[39m=\u001b[39m\u001b[39m16\u001b[39m)\n\u001b[0;32m      <a href='vscode-notebook-cell:/c%3A/ROOT_final/final_project/1_analysis/2_EDA.ipynb#Y101sZmlsZQ%3D%3D?line=4'>5</a>\u001b[0m plt\u001b[39m.\u001b[39mxlabel(\u001b[39m\"\u001b[39m\u001b[39msong 개수\u001b[39m\u001b[39m\"\u001b[39m, fontsize\u001b[39m=\u001b[39m\u001b[39m14\u001b[39m)\n",
      "\u001b[1;31mNameError\u001b[0m: name 'plt' is not defined"
     ]
    }
   ],
   "source": [
    "plt.hist(playlists['songs_cnt'], color='purple')\n",
    "\n",
    "\n",
    "plt.title(\"플레이리스트 별 song 개수 분포\", fontsize=16)\n",
    "plt.xlabel(\"song 개수\", fontsize=14)\n",
    "plt.ylabel(\"플레이리스트 개수\", fontsize=14)\n",
    "plt.xticks(fontsize=12)\n",
    "plt.yticks(fontsize=12)"
   ]
  },
  {
   "cell_type": "code",
   "execution_count": 52,
   "metadata": {},
   "outputs": [
    {
     "name": "stdout",
     "output_type": "stream",
     "text": [
      "평균: 45.94\n",
      "표준 편차: 43.95\n",
      "95.0% 신뢰 수준의 신뢰 구간: (45.68, 46.19)\n"
     ]
    }
   ],
   "source": [
    "import numpy as np\n",
    "from scipy import stats\n",
    "\n",
    "# songs_cnt 열의 데이터 추출\n",
    "songs_cnt_data = playlists['songs_cnt']\n",
    "\n",
    "# 정규분포의 평균과 표준 편차 추정\n",
    "mean, std_dev = stats.norm.fit(songs_cnt_data)\n",
    "\n",
    "# 신뢰 수준 (일반적으로 95%)에 해당하는 신뢰 구간 계산\n",
    "confidence_level = 0.95\n",
    "alpha = 1 - confidence_level\n",
    "z_score = stats.norm.ppf(1 - alpha / 2)  # 신뢰 수준에 해당하는 Z-점수 계산\n",
    "margin_of_error = z_score * (std_dev / np.sqrt(len(songs_cnt_data)))\n",
    "confidence_interval = (mean - margin_of_error, mean + margin_of_error)\n",
    "\n",
    "# 정규분포의 범위 확인\n",
    "print(f\"평균: {mean:.2f}\")\n",
    "print(f\"표준 편차: {std_dev:.2f}\")\n",
    "print(f\"{confidence_level*100}% 신뢰 수준의 신뢰 구간: ({confidence_interval[0]:.2f}, {confidence_interval[1]:.2f})\")"
   ]
  },
  {
   "cell_type": "code",
   "execution_count": 87,
   "metadata": {},
   "outputs": [
    {
     "data": {
      "image/png": "[encoded data removed]",
      "text/plain": [
       "<Figure size 1200x600 with 2 Axes>"
      ]
     },
     "metadata": {},
     "output_type": "display_data"
    }
   ],
   "source": [
    "# 로그 변환 적용\n",
    "playlists['log_songs'] = np.log1p(playlists['songs_cnt'])  # np.log1p를 사용하여 0이하 값의 로그를 취함\n",
    "\n",
    "# 좋아요 수의 로그 변환 결과를 시각화\n",
    "plt.figure(figsize=(12, 6))\n",
    "plt.subplot(1, 2, 1)\n",
    "plt.hist(playlists['songs_cnt'], bins=10, color='b', alpha=0.5, label='Songs')\n",
    "plt.title('Songs Distribution', fontsize=16)\n",
    "plt.xlabel('Songs', fontsize=14)\n",
    "plt.ylabel('Frequency', fontsize=14)\n",
    "plt.xticks(fontsize=10)\n",
    "plt.yticks(fontsize=10)\n",
    "plt.legend(fontsize=12)\n",
    "\n",
    "plt.subplot(1, 2, 2)\n",
    "plt.hist(playlists['log_likes'], bins=10, color='g', alpha=0.5, label='Log(Songs)')\n",
    "plt.title('Log(Songs) Distribution', fontsize=16)\n",
    "plt.xlabel('Log(Songs)', fontsize=14)\n",
    "plt.ylabel('Frequency', fontsize=14)\n",
    "plt.xticks(fontsize=10)\n",
    "plt.yticks(fontsize=10)\n",
    "plt.legend(fontsize=12)\n",
    "\n",
    "plt.show()"
   ]
  },
  {
   "cell_type": "code",
   "execution_count": 88,
   "metadata": {},
   "outputs": [
    {
     "data": {
      "text/plain": [
       "2.1036129520649274"
      ]
     },
     "execution_count": 88,
     "metadata": {},
     "output_type": "execute_result"
    }
   ],
   "source": [
    "import scipy\n",
    "scipy.stats.skew(songs_cnt_data) # 왜도 값"
   ]
  },
  {
   "cell_type": "markdown",
   "metadata": {},
   "source": [
    "> like_cnt"
   ]
  },
  {
   "cell_type": "markdown",
   "metadata": {},
   "source": [
    "- 플리 별 좋아요 분포 - boxplot"
   ]
  },
  {
   "cell_type": "code",
   "execution_count": 86,
   "metadata": {},
   "outputs": [
    {
     "data": {
      "text/plain": [
       "Text(0.5, 1.0, '플레이리스트 별 좋아요 수 분포')"
      ]
     },
     "execution_count": 86,
     "metadata": {},
     "output_type": "execute_result"
    },
    {
     "data": {
      "image/png": "[encoded data removed]",
      "text/plain": [
       "<Figure size 640x480 with 1 Axes>"
      ]
     },
     "metadata": {},
     "output_type": "display_data"
    }
   ],
   "source": [
    "# 플리 별 좋아요 분포\n",
    "\n",
    "boxplot = plt.boxplot(playlists['like_cnt'])\n",
    "plt.xticks([1], ['Like Count'], fontsize=12) \n",
    "plt.yticks(fontsize=12)\n",
    "plt.title('플레이리스트 별 좋아요 수 분포', fontsize=12)"
   ]
  },
  {
   "cell_type": "markdown",
   "metadata": {},
   "source": [
    "- 플리 별 곡 분포 - 정규분포"
   ]
  },
  {
   "cell_type": "code",
   "execution_count": 31,
   "metadata": {},
   "outputs": [
    {
     "data": {
      "text/plain": [
       "count    115071.000000\n",
       "mean         95.197687\n",
       "std         560.653757\n",
       "min           0.000000\n",
       "25%           2.000000\n",
       "50%           7.000000\n",
       "75%          24.000000\n",
       "max       53211.000000\n",
       "Name: like_cnt, dtype: float64"
      ]
     },
     "execution_count": 31,
     "metadata": {},
     "output_type": "execute_result"
    }
   ],
   "source": [
    "playlists['like_cnt'].describe()"
   ]
  },
  {
   "cell_type": "code",
   "execution_count": 32,
   "metadata": {},
   "outputs": [
    {
     "name": "stdout",
     "output_type": "stream",
     "text": [
      "-31.0\n",
      "57.0\n"
     ]
    }
   ],
   "source": [
    "Q1 = 2\n",
    "Q3 = 24\n",
    "IQR = Q3 - Q1\n",
    "\n",
    "print(Q1-(1.5*IQR))\n",
    "print(Q3+(1.5*IQR))"
   ]
  },
  {
   "cell_type": "code",
   "execution_count": 34,
   "metadata": {},
   "outputs": [
    {
     "data": {
      "image/png": "[encoded data removed]",
      "text/plain": [
       "<Figure size 640x480 with 1 Axes>"
      ]
     },
     "metadata": {},
     "output_type": "display_data"
    }
   ],
   "source": [
    "# 전체 Histogram\n",
    "plt.hist(playlists['like_cnt'])\n",
    "\n",
    "plt.xlabel('Like Count', fontsize=12)\n",
    "plt.ylabel('Frequency', fontsize=12)\n",
    "plt.xticks(fontsize=10)\n",
    "plt.yticks(fontsize=10)\n",
    "plt.show()"
   ]
  },
  {
   "cell_type": "code",
   "execution_count": 66,
   "metadata": {},
   "outputs": [
    {
     "data": {
      "image/png": "[encoded data removed]",
      "text/plain": [
       "<Figure size 1200x600 with 2 Axes>"
      ]
     },
     "metadata": {},
     "output_type": "display_data"
    }
   ],
   "source": [
    "# 로그 변환 적용\n",
    "playlists['log_likes'] = np.log1p(playlists['like_cnt'])  # np.log1p를 사용하여 0이하 값의 로그를 취함\n",
    "\n",
    "# 좋아요 수의 로그 변환 결과를 시각화\n",
    "plt.figure(figsize=(12, 6))\n",
    "plt.subplot(1, 2, 1)\n",
    "plt.hist(playlists['like_cnt'], bins=10, color='b', alpha=0.5, label='Likes')\n",
    "plt.title('Likes Distribution', fontsize=16)\n",
    "plt.xlabel('Likes', fontsize=14)\n",
    "plt.ylabel('Frequency', fontsize=14)\n",
    "plt.xticks(fontsize=10)\n",
    "plt.yticks(fontsize=10)\n",
    "plt.legend(fontsize=12)\n",
    "\n",
    "plt.subplot(1, 2, 2)\n",
    "plt.hist(playlists['log_likes'], bins=10, color='g', alpha=0.5, label='Log(Likes)')\n",
    "plt.title('Log(Likes) Distribution', fontsize=16)\n",
    "plt.xlabel('Log(Likes)', fontsize=14)\n",
    "plt.ylabel('Frequency', fontsize=14)\n",
    "plt.xticks(fontsize=10)\n",
    "plt.yticks(fontsize=10)\n",
    "plt.legend(fontsize=12)\n",
    "\n",
    "plt.show()"
   ]
  },
  {
   "cell_type": "code",
   "execution_count": 68,
   "metadata": {},
   "outputs": [
    {
     "data": {
      "text/plain": [
       "count    115071.000000\n",
       "mean          2.431437\n",
       "std           1.721291\n",
       "min           0.000000\n",
       "25%           1.098612\n",
       "50%           2.079442\n",
       "75%           3.218876\n",
       "max          10.882039\n",
       "Name: log_likes, dtype: float64"
      ]
     },
     "execution_count": 68,
     "metadata": {},
     "output_type": "execute_result"
    }
   ],
   "source": [
    "\n",
    "playlists['log_likes'].describe()"
   ]
  },
  {
   "cell_type": "code",
   "execution_count": 69,
   "metadata": {},
   "outputs": [
    {
     "name": "stdout",
     "output_type": "stream",
     "text": [
      "-2.081784\n",
      "6.399272\n"
     ]
    }
   ],
   "source": [
    "Q1 = 1.098612\n",
    "Q3 = 3.218876\n",
    "IQR = Q3 - Q1\n",
    "\n",
    "print(Q1-(1.5*IQR))\n",
    "print(Q3+(1.5*IQR))"
   ]
  },
  {
   "cell_type": "code",
   "execution_count": 70,
   "metadata": {},
   "outputs": [
    {
     "name": "stdout",
     "output_type": "stream",
     "text": [
      "0.12470753538679492\n",
      "601.4070541299369\n"
     ]
    }
   ],
   "source": [
    "print(np.exp(Q1-(1.5*IQR))) # 지수 함수 계산\n",
    "print(np.exp(Q3+(1.5*IQR)))"
   ]
  },
  {
   "cell_type": "code",
   "execution_count": 71,
   "metadata": {},
   "outputs": [
    {
     "data": {
      "text/plain": [
       "2.9999991339957957"
      ]
     },
     "execution_count": 71,
     "metadata": {},
     "output_type": "execute_result"
    }
   ],
   "source": [
    "Q1 = 1.098612\n",
    "np.exp(Q1)\n",
    "# 25% 구간 값"
   ]
  },
  {
   "cell_type": "markdown",
   "metadata": {},
   "source": [
    "=> 좋아요 수의 편차가 심하다."
   ]
  },
  {
   "cell_type": "markdown",
   "metadata": {},
   "source": [
    "- song 별 플리에 사용된 횟수"
   ]
  },
  {
   "cell_type": "code",
   "execution_count": 35,
   "metadata": {},
   "outputs": [
    {
     "data": {
      "text/plain": [
       "count    615142.000000\n",
       "mean          8.592928\n",
       "std          39.481912\n",
       "min           1.000000\n",
       "25%           1.000000\n",
       "50%           2.000000\n",
       "75%           4.000000\n",
       "max        2175.000000\n",
       "Name: id, dtype: float64"
      ]
     },
     "execution_count": 35,
     "metadata": {},
     "output_type": "execute_result"
    }
   ],
   "source": [
    "playlists.explode('songs').groupby('songs').count()['id'].describe()"
   ]
  },
  {
   "cell_type": "code",
   "execution_count": 36,
   "metadata": {},
   "outputs": [
    {
     "name": "stdout",
     "output_type": "stream",
     "text": [
      "-33.5\n",
      "106.5\n"
     ]
    }
   ],
   "source": [
    "Q1 = 19\n",
    "Q3 = 54\n",
    "IQR = Q3 - Q1\n",
    "\n",
    "print(Q1-(1.5*IQR))\n",
    "print(Q3+(1.5*IQR))"
   ]
  },
  {
   "cell_type": "code",
   "execution_count": 72,
   "metadata": {},
   "outputs": [
    {
     "data": {
      "text/plain": [
       "songs\n",
       "0          2\n",
       "3          8\n",
       "4          2\n",
       "5          5\n",
       "6          1\n",
       "          ..\n",
       "707984     1\n",
       "707985     4\n",
       "707986    11\n",
       "707987     1\n",
       "707988     1\n",
       "Name: id, Length: 615142, dtype: int64"
      ]
     },
     "execution_count": 72,
     "metadata": {},
     "output_type": "execute_result"
    }
   ],
   "source": [
    "ply_song_freq = playlists.explode('songs').groupby('songs').count()['id']\n",
    "ply_song_freq"
   ]
  },
  {
   "cell_type": "code",
   "execution_count": 89,
   "metadata": {},
   "outputs": [
    {
     "data": {
      "text/plain": [
       "Text(0.5, 1.0, '플리 별 노래 개수 분포')"
      ]
     },
     "execution_count": 89,
     "metadata": {},
     "output_type": "execute_result"
    },
    {
     "data": {
      "image/png": "[encoded data removed]",
      "text/plain": [
       "<Figure size 640x480 with 1 Axes>"
      ]
     },
     "metadata": {},
     "output_type": "display_data"
    }
   ],
   "source": [
    "# 플리 별 노래 개수 분포\n",
    "\n",
    "boxplot = plt.boxplot(ply_song_freq)\n",
    "plt.xticks([1], ['노래 빈도수'], fontsize=12) \n",
    "plt.yticks(fontsize=12)\n",
    "plt.title('플리 별 노래 개수 분포', fontsize=12)"
   ]
  },
  {
   "cell_type": "code",
   "execution_count": 76,
   "metadata": {},
   "outputs": [
    {
     "data": {
      "text/plain": [
       "(array([     0., 200000., 400000., 600000., 800000.]),\n",
       " [Text(0, 0.0, '0'),\n",
       "  Text(0, 200000.0, '200000'),\n",
       "  Text(0, 400000.0, '400000'),\n",
       "  Text(0, 600000.0, '600000'),\n",
       "  Text(0, 800000.0, '800000')])"
      ]
     },
     "execution_count": 76,
     "metadata": {},
     "output_type": "execute_result"
    },
    {
     "data": {
      "image/png": "[encoded data removed]",
      "text/plain": [
       "<Figure size 640x480 with 1 Axes>"
      ]
     },
     "metadata": {},
     "output_type": "display_data"
    }
   ],
   "source": [
    "plt.hist(ply_song_freq)\n",
    "\n",
    "\n",
    "plt.title(\"song 사용 빈도수\", fontsize=16)\n",
    "plt.xlabel(\"song 사용 빈도수\", fontsize=14)\n",
    "plt.ylabel(\"song 개수\", fontsize=14)\n",
    "plt.xticks(fontsize=12)\n",
    "plt.yticks(fontsize=12)"
   ]
  },
  {
   "cell_type": "code",
   "execution_count": 80,
   "metadata": {},
   "outputs": [
    {
     "name": "stdout",
     "output_type": "stream",
     "text": [
      "평균: 8.59\n",
      "표준 편차: 39.48\n",
      "95.0% 신뢰 수준의 신뢰 구간: (8.49, 8.69)\n"
     ]
    }
   ],
   "source": [
    "# 정규분포의 평균과 표준 편차 추정\n",
    "mean, std_dev = stats.norm.fit(ply_song_freq)\n",
    "\n",
    "# 신뢰 수준 (일반적으로 95%)에 해당하는 신뢰 구간 계산\n",
    "confidence_level = 0.95\n",
    "alpha = 1 - confidence_level\n",
    "z_score = stats.norm.ppf(1 - alpha / 2)  # 신뢰 수준에 해당하는 Z-점수 계산\n",
    "margin_of_error = z_score * (std_dev / np.sqrt(len(ply_song_freq)))\n",
    "confidence_interval = (mean - margin_of_error, mean + margin_of_error)\n",
    "\n",
    "# 정규분포의 범위 확인\n",
    "print(f\"평균: {mean:.2f}\")\n",
    "print(f\"표준 편차: {std_dev:.2f}\")\n",
    "print(f\"{confidence_level*100}% 신뢰 수준의 신뢰 구간: ({confidence_interval[0]:.2f}, {confidence_interval[1]:.2f})\")"
   ]
  },
  {
   "cell_type": "code",
   "execution_count": 93,
   "metadata": {},
   "outputs": [
    {
     "data": {
      "image/png": "[encoded data removed]",
      "text/plain": [
       "<Figure size 1200x600 with 2 Axes>"
      ]
     },
     "metadata": {},
     "output_type": "display_data"
    }
   ],
   "source": [
    "# 로그 변환 적용\n",
    "playlists['song_freq'] = np.log1p(ply_song_freq)  # np.log1p를 사용하여 0이하 값의 로그를 취함\n",
    "\n",
    "# 좋아요 수의 로그 변환 결과를 시각화\n",
    "plt.figure(figsize=(12, 6))\n",
    "plt.subplot(1, 2, 1)\n",
    "plt.hist(ply_song_freq, bins=10, color='b', alpha=0.5, label='song_cnt')\n",
    "plt.title('Song_cnt Distribution', fontsize=16)\n",
    "plt.xlabel('song_freq', fontsize=14)\n",
    "plt.ylabel('song_cnt', fontsize=14)\n",
    "plt.xticks(fontsize=10)\n",
    "plt.yticks(fontsize=10)\n",
    "plt.legend(fontsize=12)\n",
    "\n",
    "plt.subplot(1, 2, 2)\n",
    "plt.hist(playlists['song_freq'], bins=10, color='g', alpha=0.5, label='Log(song_cnt)')\n",
    "plt.title('Log(Song_cnt) Distribution', fontsize=16)\n",
    "plt.xlabel('Log(song_freq)', fontsize=14)\n",
    "plt.ylabel('Log(song_cnt)', fontsize=14)\n",
    "plt.xticks(fontsize=10)\n",
    "plt.yticks(fontsize=10)\n",
    "plt.legend(fontsize=12)\n",
    "\n",
    "plt.show()"
   ]
  },
  {
   "cell_type": "markdown",
   "metadata": {},
   "source": [
    "=> 50% 미만 빼기"
   ]
  },
  {
   "cell_type": "markdown",
   "metadata": {},
   "source": [
    "> 태그"
   ]
  },
  {
   "cell_type": "markdown",
   "metadata": {},
   "source": [
    "- 태그 별 플리에 사용된 횟수"
   ]
  },
  {
   "cell_type": "code",
   "execution_count": 37,
   "metadata": {},
   "outputs": [
    {
     "data": {
      "text/plain": [
       "count    29160.000000\n",
       "mean        16.335082\n",
       "std        247.011075\n",
       "min          1.000000\n",
       "25%          1.000000\n",
       "50%          1.000000\n",
       "75%          3.000000\n",
       "max      16465.000000\n",
       "Name: id, dtype: float64"
      ]
     },
     "execution_count": 37,
     "metadata": {},
     "output_type": "execute_result"
    }
   ],
   "source": [
    "playlists.explode('tags').groupby('tags').count()['id'].describe()"
   ]
  },
  {
   "cell_type": "code",
   "execution_count": 38,
   "metadata": {},
   "outputs": [
    {
     "name": "stdout",
     "output_type": "stream",
     "text": [
      "-2.0\n",
      "6.0\n"
     ]
    }
   ],
   "source": [
    "Q1 = 1\n",
    "Q3 = 3\n",
    "IQR = Q3 - Q1\n",
    "\n",
    "print(Q1-(1.5*IQR))\n",
    "print(Q3+(1.5*IQR))"
   ]
  },
  {
   "cell_type": "code",
   "execution_count": 78,
   "metadata": {},
   "outputs": [
    {
     "data": {
      "text/plain": [
       "tags\n",
       "          1\n",
       "00        4\n",
       "007       3\n",
       "007시리즈    2\n",
       "00s       3\n",
       "         ..\n",
       "힙해        5\n",
       "힙힙힙       2\n",
       "힛뎀포크      1\n",
       "힛뎀폭       1\n",
       "힛뎀폭스      2\n",
       "Name: id, Length: 29160, dtype: int64"
      ]
     },
     "execution_count": 78,
     "metadata": {},
     "output_type": "execute_result"
    }
   ],
   "source": [
    "ply_tag_freq = playlists.explode('tags').groupby('tags').count()['id']\n",
    "ply_tag_freq"
   ]
  },
  {
   "cell_type": "code",
   "execution_count": 90,
   "metadata": {},
   "outputs": [
    {
     "data": {
      "text/plain": [
       "Text(0.5, 1.0, '플리 별 태그 개수 분포')"
      ]
     },
     "execution_count": 90,
     "metadata": {},
     "output_type": "execute_result"
    },
    {
     "data": {
      "image/png": "[encoded data removed]",
      "text/plain": [
       "<Figure size 640x480 with 1 Axes>"
      ]
     },
     "metadata": {},
     "output_type": "display_data"
    }
   ],
   "source": [
    "# 플리 별 태그 개수 분포\n",
    "\n",
    "boxplot = plt.boxplot(ply_tag_freq)\n",
    "plt.xticks([1], ['태그 빈도수'], fontsize=12) \n",
    "plt.yticks(fontsize=12)\n",
    "plt.title('플리 별 태그 개수 분포', fontsize=12)"
   ]
  },
  {
   "cell_type": "code",
   "execution_count": 79,
   "metadata": {},
   "outputs": [
    {
     "data": {
      "text/plain": [
       "(array([    0., 10000., 20000., 30000., 40000.]),\n",
       " [Text(0, 0.0, '0'),\n",
       "  Text(0, 10000.0, '10000'),\n",
       "  Text(0, 20000.0, '20000'),\n",
       "  Text(0, 30000.0, '30000'),\n",
       "  Text(0, 40000.0, '40000')])"
      ]
     },
     "execution_count": 79,
     "metadata": {},
     "output_type": "execute_result"
    },
    {
     "data": {
      "image/png": "[encoded data removed]",
      "text/plain": [
       "<Figure size 640x480 with 1 Axes>"
      ]
     },
     "metadata": {},
     "output_type": "display_data"
    }
   ],
   "source": [
    "plt.hist(ply_tag_freq)\n",
    "\n",
    "\n",
    "plt.title(\"tag 사용 빈도수\", fontsize=16)\n",
    "plt.xlabel(\"tag 사용 빈도수\", fontsize=14)\n",
    "plt.ylabel(\"tag 개수\", fontsize=14)\n",
    "plt.xticks(fontsize=12)\n",
    "plt.yticks(fontsize=12)"
   ]
  },
  {
   "cell_type": "code",
   "execution_count": 81,
   "metadata": {},
   "outputs": [
    {
     "name": "stdout",
     "output_type": "stream",
     "text": [
      "평균: 16.34\n",
      "표준 편차: 247.01\n",
      "95.0% 신뢰 수준의 신뢰 구간: (13.50, 19.17)\n"
     ]
    }
   ],
   "source": [
    "# 정규분포의 평균과 표준 편차 추정\n",
    "mean, std_dev = stats.norm.fit(ply_tag_freq)\n",
    "\n",
    "# 신뢰 수준 (일반적으로 95%)에 해당하는 신뢰 구간 계산\n",
    "confidence_level = 0.95\n",
    "alpha = 1 - confidence_level\n",
    "z_score = stats.norm.ppf(1 - alpha / 2)  # 신뢰 수준에 해당하는 Z-점수 계산\n",
    "margin_of_error = z_score * (std_dev / np.sqrt(len(ply_tag_freq)))\n",
    "confidence_interval = (mean - margin_of_error, mean + margin_of_error)\n",
    "\n",
    "# 정규분포의 범위 확인\n",
    "print(f\"평균: {mean:.2f}\")\n",
    "print(f\"표준 편차: {std_dev:.2f}\")\n",
    "print(f\"{confidence_level*100}% 신뢰 수준의 신뢰 구간: ({confidence_interval[0]:.2f}, {confidence_interval[1]:.2f})\")"
   ]
  },
  {
   "cell_type": "code",
   "execution_count": 96,
   "metadata": {},
   "outputs": [
    {
     "name": "stderr",
     "output_type": "stream",
     "text": [
      "c:\\Users\\cg063\\AppData\\Local\\anaconda3\\Lib\\site-packages\\IPython\\core\\pylabtools.py:152: UserWarning: Glyph 8722 (\\N{MINUS SIGN}) missing from current font.\n",
      "  fig.canvas.print_figure(bytes_io, **kw)\n"
     ]
    },
    {
     "data": {
      "image/png": "[encoded data removed]",
      "text/plain": [
       "<Figure size 1200x600 with 2 Axes>"
      ]
     },
     "metadata": {},
     "output_type": "display_data"
    }
   ],
   "source": [
    "# 로그 변환 적용\n",
    "# NaN 값을 0으로 대체\n",
    "playlists['tag_freq'].fillna(0, inplace=True)\n",
    "# 무한대 값을 NaN으로 대체\n",
    "playlists['tag_freq'].replace([np.inf, -np.inf], np.nan, inplace=True)\n",
    "# 로그 변환\n",
    "playlists['tag_freq'] = np.log1p(playlists['tag_freq'])\n",
    "\n",
    "# 좋아요 수의 로그 변환 결과를 시각화\n",
    "plt.figure(figsize=(12, 6))\n",
    "plt.subplot(1, 2, 1)\n",
    "plt.hist(ply_tag_freq, bins=10, color='b', alpha=0.5, label='tag_cnt')\n",
    "plt.title('Tag_cnt Distribution', fontsize=16)\n",
    "plt.xlabel('tag_freq', fontsize=14)\n",
    "plt.ylabel('tag_cnt', fontsize=14)\n",
    "plt.xticks(fontsize=10)\n",
    "plt.yticks(fontsize=10)\n",
    "plt.legend(fontsize=12)\n",
    "\n",
    "plt.subplot(1, 2, 2)\n",
    "plt.hist(playlists['tag_freq'], bins=10, color='g', alpha=0.5, label='Log(tag_cnt)')\n",
    "plt.title('Log(Tag_cnt) Distribution', fontsize=16)\n",
    "plt.xlabel('Log(tag_freq)', fontsize=14)\n",
    "plt.ylabel('Log(tag_cnt)', fontsize=14)\n",
    "plt.xticks(fontsize=10)\n",
    "plt.yticks(fontsize=10)\n",
    "plt.legend(fontsize=12)\n",
    "\n",
    "plt.show()"
   ]
  },
  {
   "cell_type": "markdown",
   "metadata": {},
   "source": [
    "=> 50% 미만 빼기(원래 아이디어)  \n",
    "=> 통계적으로 확인이 아예 불가능한듯. 왜냐하면 평균, 표준편차가 수염범위에 안들어옴"
   ]
  },
  {
   "cell_type": "markdown",
   "metadata": {},
   "source": [
    "> 플레이리스트의 태그와 좋아요, 노래개수의 상관 관계"
   ]
  },
  {
   "cell_type": "code",
   "execution_count": 39,
   "metadata": {},
   "outputs": [
    {
     "data": {
      "text/html": [
       "<div>\n",
       "<style scoped>\n",
       "    .dataframe tbody tr th:only-of-type {\n",
       "        vertical-align: middle;\n",
       "    }\n",
       "\n",
       "    .dataframe tbody tr th {\n",
       "        vertical-align: top;\n",
       "    }\n",
       "\n",
       "    .dataframe thead th {\n",
       "        text-align: right;\n",
       "    }\n",
       "</style>\n",
       "<table border=\"1\" class=\"dataframe\">\n",
       "  <thead>\n",
       "    <tr style=\"text-align: right;\">\n",
       "      <th></th>\n",
       "      <th>tags_cnt</th>\n",
       "      <th>songs_cnt</th>\n",
       "      <th>like_cnt</th>\n",
       "    </tr>\n",
       "  </thead>\n",
       "  <tbody>\n",
       "    <tr>\n",
       "      <th>tags_cnt</th>\n",
       "      <td>1.000000</td>\n",
       "      <td>0.063051</td>\n",
       "      <td>0.066963</td>\n",
       "    </tr>\n",
       "    <tr>\n",
       "      <th>songs_cnt</th>\n",
       "      <td>0.063051</td>\n",
       "      <td>1.000000</td>\n",
       "      <td>0.149828</td>\n",
       "    </tr>\n",
       "    <tr>\n",
       "      <th>like_cnt</th>\n",
       "      <td>0.066963</td>\n",
       "      <td>0.149828</td>\n",
       "      <td>1.000000</td>\n",
       "    </tr>\n",
       "  </tbody>\n",
       "</table>\n",
       "</div>"
      ],
      "text/plain": [
       "           tags_cnt  songs_cnt  like_cnt\n",
       "tags_cnt   1.000000   0.063051  0.066963\n",
       "songs_cnt  0.063051   1.000000  0.149828\n",
       "like_cnt   0.066963   0.149828  1.000000"
      ]
     },
     "execution_count": 39,
     "metadata": {},
     "output_type": "execute_result"
    }
   ],
   "source": [
    "playlists['tags_cnt'] = playlists['tags'].apply(len)\n",
    "playlists['songs_cnt'] = playlists['songs'].apply(len)\n",
    "\n",
    "playlists_corr = playlists[['tags_cnt', 'songs_cnt', 'like_cnt']]\n",
    "playlists_corr.corr()\n",
    "\n",
    "# 상관관계 없음"
   ]
  },
  {
   "cell_type": "code",
   "execution_count": null,
   "metadata": {},
   "outputs": [],
   "source": []
  },
  {
   "cell_type": "markdown",
   "metadata": {},
   "source": [
    "- 태그 별 매핑 장르 확인"
   ]
  },
  {
   "cell_type": "markdown",
   "metadata": {},
   "source": [
    "### step1. 플레이리스트 태그 별 어떤 곡들이 수록되어 있을까?"
   ]
  },
  {
   "cell_type": "code",
   "execution_count": 40,
   "metadata": {},
   "outputs": [],
   "source": [
    "# 플레이리스트 아이디(id)와 수록곡(songs) 추출\n",
    "plylst_song_map = playlists[['id', 'songs']]\n",
    "\n",
    "# unnest songs\n",
    "plylst_song_map_unnest = np.dstack(\n",
    "    (\n",
    "        np.repeat(plylst_song_map.id.values, list(map(len, plylst_song_map.songs))), \n",
    "        np.concatenate(plylst_song_map.songs.values)\n",
    "    )\n",
    ")\n",
    "\n",
    "# unnested 데이터프레임 생성 : plylst_song_map\n",
    "plylst_song_map = pd.DataFrame(data = plylst_song_map_unnest[0], columns = plylst_song_map.columns)\n",
    "plylst_song_map['id'] = plylst_song_map['id'].astype(str)\n",
    "plylst_song_map['songs'] = plylst_song_map['songs'].astype(str)\n",
    "\n",
    "# unnest 객체 제거\n",
    "del plylst_song_map_unnest\n",
    "\n",
    "# ===================================================================================================\n",
    "\n",
    "# 플레이리스트 아이디(id)와 매핑된 태그(tags) 추출\n",
    "plylst_tag_map = playlists[['id', 'tags']]\n",
    "\n",
    "# unnest tags\n",
    "plylst_tag_map_unnest = np.dstack(\n",
    "    (\n",
    "        np.repeat(plylst_tag_map.id.values, list(map(len, plylst_tag_map.tags))), \n",
    "        np.concatenate(plylst_tag_map.tags.values)\n",
    "    )\n",
    ")\n",
    "\n",
    "# unnested 데이터프레임 생성 : plylst_tag_map\n",
    "plylst_tag_map = pd.DataFrame(data = plylst_tag_map_unnest[0], columns = plylst_tag_map.columns)\n",
    "plylst_tag_map['id'] = plylst_tag_map['id'].astype(str)\n",
    "\n",
    "# unnest 객체 제거\n",
    "del plylst_tag_map_unnest\n",
    "\n",
    "# ===================================================================================================\n",
    "\n",
    "# 곡 아이디(id)와 대분류 장르코드 리스트(song_gn_gnr_basket) 추출\n",
    "song_gnr_map = song_meta.loc[:, ['id', 'song_gn_gnr_basket']]\n",
    "\n",
    "# unnest song_gn_gnr_basket\n",
    "song_gnr_map_unnest = np.dstack(\n",
    "    (\n",
    "        np.repeat(song_gnr_map.id.values, list(map(len, song_gnr_map.song_gn_gnr_basket))), \n",
    "        np.concatenate(song_gnr_map.song_gn_gnr_basket.values)\n",
    "    )\n",
    ")\n",
    "\n",
    "# unnested 데이터프레임 생성 : song_gnr_map\n",
    "song_gnr_map = pd.DataFrame(data = song_gnr_map_unnest[0], columns = song_gnr_map.columns)\n",
    "song_gnr_map['id'] = song_gnr_map['id'].astype(str)\n",
    "song_gnr_map.rename(columns = {'id' : 'song_id', 'song_gn_gnr_basket' : 'gnr_code'}, inplace = True)\n",
    "\n",
    "# unnest 객체 제거\n",
    "del song_gnr_map_unnest"
   ]
  },
  {
   "cell_type": "code",
   "execution_count": 41,
   "metadata": {},
   "outputs": [],
   "source": [
    "# 장르코드 뒷자리 두 자리가 00인 코드를 필터링\n",
    "gnr_code = genre_gn_all[genre_gn_all['gnr_code'].str[-2:] == '00']\n",
    "gnr_code = gnr_code.assign(join_code = gnr_code['gnr_code'].str[0:4])"
   ]
  },
  {
   "cell_type": "code",
   "execution_count": 42,
   "metadata": {},
   "outputs": [],
   "source": [
    "plylst_song_tag_map = pd.merge(plylst_song_map, plylst_tag_map, how = 'left', on = 'id')\n",
    "\n",
    "# 2. 1번 테이블 plylst_song_tag_map + 곡 장르 테이블 song_gnr_map join\n",
    "plylst_song_tag_map = pd.merge(plylst_song_tag_map, song_gnr_map, how = 'left', left_on = 'songs', right_on = 'song_id')\n",
    "\n",
    "# 3. 2번 테이블에서 장르 메타 join\n",
    "gnr_code['gnr_code_name'] = gnr_code['gnr_code'] + ' (' + gnr_code['gnr_name'] + ')'\n",
    "gnr_code = gnr_code[['gnr_code', 'gnr_code_name']]\n",
    "plylst_song_tag_map = pd.merge(plylst_song_tag_map, gnr_code, how = 'left', on = 'gnr_code')\n",
    "\n",
    "# 4. 최종 테이블 필드 선택\n",
    "plylst_song_tag_map = plylst_song_tag_map[['id', 'songs', 'tags', 'gnr_code_name']]"
   ]
  },
  {
   "cell_type": "code",
   "execution_count": 45,
   "metadata": {},
   "outputs": [],
   "source": [
    "# 태그 = ['드라이브', '스트레스', '기분전환']\n",
    "song_tag_map_sample_1 = plylst_song_tag_map.loc[plylst_song_tag_map.tags.isin(['드라이브', '스트레스', '기분전환']), :]\n",
    "# 태그 = ['밤', '새벽', '잔잔한']\n",
    "song_tag_map_sample_2 = plylst_song_tag_map.loc[plylst_song_tag_map.tags.isin(['밤', '새벽', '잔잔한']), :]\n",
    "# 태그 = ['사랑', '설렘']\n",
    "song_tag_map_sample_3 = plylst_song_tag_map.loc[plylst_song_tag_map.tags.isin(['사랑', '설렘']), :]\n",
    "# 태그 = ['추억', '회상']\n",
    "song_tag_map_sample_4 = plylst_song_tag_map.loc[plylst_song_tag_map.tags.isin(['추억', '회상']), :]\n",
    "# 태그 = ['슬픔', '이별']\n",
    "song_tag_map_sample_5 = plylst_song_tag_map.loc[plylst_song_tag_map.tags.isin(['슬픔', '이별']), :]\n",
    "# 태그 = ['휴식', '힐링']\n",
    "song_tag_map_sample_6 = plylst_song_tag_map.loc[plylst_song_tag_map.tags.isin(['휴식', '힐링']), :]\n",
    "# 태그 = ['휴식', '힐링']\n",
    "song_tag_map_sample_7 = plylst_song_tag_map.loc[plylst_song_tag_map.tags.isin(['카페', '매장음악']), :]"
   ]
  },
  {
   "cell_type": "code",
   "execution_count": 46,
   "metadata": {},
   "outputs": [
    {
     "data": {
      "image/png": "[encoded data removed]",
      "text/plain": [
       "<Figure size 2000x800 with 1 Axes>"
      ]
     },
     "metadata": {},
     "output_type": "display_data"
    }
   ],
   "source": [
    "# 각 샘플 태그 리스트 별 장르 비율 집계\n",
    "song_tag_map_sample_1_gnr_rank = song_tag_map_sample_1.groupby('gnr_code_name').songs.nunique().reset_index(name = 'song_cnt')\n",
    "song_tag_map_sample_1_gnr_rank.loc[:, 'song_cnt_ratio'] = round(song_tag_map_sample_1_gnr_rank['song_cnt']/sum(song_tag_map_sample_1_gnr_rank['song_cnt'])*100, 2)\n",
    "song_tag_map_sample_1_gnr_rank['gnr_rank'] = song_tag_map_sample_1_gnr_rank['song_cnt_ratio'].rank(ascending = False)\n",
    "song_tag_map_sample_1_gnr_rank['tag_list'] = '드라이브, 스트레스, 기분전환'\n",
    "song_tag_map_sample_1_gnr_rank.rename(columns = {'gnr_code_name' : '장르', 'song_cnt' : '곡 수', 'song_cnt_ratio' : '비율(%)', 'gnr_rank' : '순위', 'tag_list' : '태그 리스트'}, inplace = True)\n",
    "\n",
    "song_tag_map_sample_2_gnr_rank = song_tag_map_sample_2.groupby('gnr_code_name').songs.nunique().reset_index(name = 'song_cnt')\n",
    "song_tag_map_sample_2_gnr_rank.loc[:, 'song_cnt_ratio'] = round(song_tag_map_sample_2_gnr_rank['song_cnt']/sum(song_tag_map_sample_2_gnr_rank['song_cnt'])*100, 2)\n",
    "song_tag_map_sample_2_gnr_rank['gnr_rank'] = song_tag_map_sample_2_gnr_rank['song_cnt_ratio'].rank(ascending = False)\n",
    "song_tag_map_sample_2_gnr_rank['tag_list'] = '밤, 새벽, 잔잔한'\n",
    "song_tag_map_sample_2_gnr_rank.rename(columns = {'gnr_code_name' : '장르', 'song_cnt' : '곡 수', 'song_cnt_ratio' : '비율(%)', 'gnr_rank' : '순위', 'tag_list' : '태그 리스트'}, inplace = True)\n",
    "\n",
    "song_tag_map_sample_3_gnr_rank = song_tag_map_sample_3.groupby('gnr_code_name').songs.nunique().reset_index(name = 'song_cnt')\n",
    "song_tag_map_sample_3_gnr_rank.loc[:, 'song_cnt_ratio'] = round(song_tag_map_sample_3_gnr_rank['song_cnt']/sum(song_tag_map_sample_3_gnr_rank['song_cnt'])*100, 2)\n",
    "song_tag_map_sample_3_gnr_rank['gnr_rank'] = song_tag_map_sample_3_gnr_rank['song_cnt_ratio'].rank(ascending = False)\n",
    "song_tag_map_sample_3_gnr_rank['tag_list'] = '사랑, 설렘'\n",
    "song_tag_map_sample_3_gnr_rank.rename(columns = {'gnr_code_name' : '장르', 'song_cnt' : '곡 수', 'song_cnt_ratio' : '비율(%)', 'gnr_rank' : '순위', 'tag_list' : '태그 리스트'}, inplace = True)\n",
    "\n",
    "song_tag_map_sample_4_gnr_rank = song_tag_map_sample_4.groupby('gnr_code_name').songs.nunique().reset_index(name = 'song_cnt')\n",
    "song_tag_map_sample_4_gnr_rank.loc[:, 'song_cnt_ratio'] = round(song_tag_map_sample_4_gnr_rank['song_cnt']/sum(song_tag_map_sample_4_gnr_rank['song_cnt'])*100, 2)\n",
    "song_tag_map_sample_4_gnr_rank['gnr_rank'] = song_tag_map_sample_4_gnr_rank['song_cnt_ratio'].rank(ascending = False)\n",
    "song_tag_map_sample_4_gnr_rank['tag_list'] = '추억, 회상'\n",
    "song_tag_map_sample_4_gnr_rank.rename(columns = {'gnr_code_name' : '장르', 'song_cnt' : '곡 수', 'song_cnt_ratio' : '비율(%)', 'gnr_rank' : '순위', 'tag_list' : '태그 리스트'}, inplace = True)\n",
    "\n",
    "song_tag_map_sample_5_gnr_rank = song_tag_map_sample_5.groupby('gnr_code_name').songs.nunique().reset_index(name = 'song_cnt')\n",
    "song_tag_map_sample_5_gnr_rank.loc[:, 'song_cnt_ratio'] = round(song_tag_map_sample_5_gnr_rank['song_cnt']/sum(song_tag_map_sample_5_gnr_rank['song_cnt'])*100, 2)\n",
    "song_tag_map_sample_5_gnr_rank['gnr_rank'] = song_tag_map_sample_5_gnr_rank['song_cnt_ratio'].rank(ascending = False)\n",
    "song_tag_map_sample_5_gnr_rank['tag_list'] = '슬픔, 이별'\n",
    "song_tag_map_sample_5_gnr_rank.rename(columns = {'gnr_code_name' : '장르', 'song_cnt' : '곡 수', 'song_cnt_ratio' : '비율(%)', 'gnr_rank' : '순위', 'tag_list' : '태그 리스트'}, inplace = True)\n",
    "\n",
    "song_tag_map_sample_6_gnr_rank = song_tag_map_sample_6.groupby('gnr_code_name').songs.nunique().reset_index(name = 'song_cnt')\n",
    "song_tag_map_sample_6_gnr_rank.loc[:, 'song_cnt_ratio'] = round(song_tag_map_sample_6_gnr_rank['song_cnt']/sum(song_tag_map_sample_6_gnr_rank['song_cnt'])*100, 2)\n",
    "song_tag_map_sample_6_gnr_rank['gnr_rank'] = song_tag_map_sample_6_gnr_rank['song_cnt_ratio'].rank(ascending = False)\n",
    "song_tag_map_sample_6_gnr_rank['tag_list'] = '휴식, 힐링'\n",
    "song_tag_map_sample_6_gnr_rank.rename(columns = {'gnr_code_name' : '장르', 'song_cnt' : '곡 수', 'song_cnt_ratio' : '비율(%)', 'gnr_rank' : '순위', 'tag_list' : '태그 리스트'}, inplace = True)\n",
    "\n",
    "song_tag_map_sample_7_gnr_rank = song_tag_map_sample_7.groupby('gnr_code_name').songs.nunique().reset_index(name = 'song_cnt')\n",
    "song_tag_map_sample_7_gnr_rank.loc[:, 'song_cnt_ratio'] = round(song_tag_map_sample_7_gnr_rank['song_cnt']/sum(song_tag_map_sample_7_gnr_rank['song_cnt'])*100, 2)\n",
    "song_tag_map_sample_7_gnr_rank['gnr_rank'] = song_tag_map_sample_7_gnr_rank['song_cnt_ratio'].rank(ascending = False)\n",
    "song_tag_map_sample_7_gnr_rank['tag_list'] = '카페, 매장음악'\n",
    "song_tag_map_sample_7_gnr_rank.rename(columns = {'gnr_code_name' : '장르', 'song_cnt' : '곡 수', 'song_cnt_ratio' : '비율(%)', 'gnr_rank' : '순위', 'tag_list' : '태그 리스트'}, inplace = True)\n",
    "\n",
    "# delete object\n",
    "del song_tag_map_sample_1, song_tag_map_sample_2, song_tag_map_sample_3, song_tag_map_sample_4, song_tag_map_sample_5, song_tag_map_sample_6, song_tag_map_sample_7\n",
    "\n",
    "# row binding\n",
    "song_tag_map_sample_rbind = pd.concat(\n",
    "    [song_tag_map_sample_1_gnr_rank, song_tag_map_sample_2_gnr_rank, song_tag_map_sample_3_gnr_rank,\n",
    "     song_tag_map_sample_4_gnr_rank, song_tag_map_sample_5_gnr_rank, song_tag_map_sample_6_gnr_rank,\n",
    "     song_tag_map_sample_7_gnr_rank],\n",
    "    axis = 0\n",
    ")\n",
    "\n",
    "# plotting\n",
    "\n",
    "plt.figure(figsize=(20, 8))\n",
    "\n",
    "song_tag_map_sample_rbind_plot = sns.barplot(\n",
    "    data = song_tag_map_sample_rbind.loc[song_tag_map_sample_rbind['순위'] <= 5, :].sort_values(by = '순위'),\n",
    "    x = '태그 리스트', y = '비율(%)', hue = '장르', edgecolor = \"black\"\n",
    ")\n",
    "song_tag_map_sample_rbind_plot.set_title('각 태그 리스트 별 상위 장르 TOP 5 비교', fontsize=16)\n",
    "song_tag_map_sample_rbind_plot.set_xlabel('태그 리스트', fontsize=5)\n",
    "song_tag_map_sample_rbind_plot.set_ylabel('곡 비율 (%)', fontsize=5)\n",
    "song_tag_map_sample_rbind_plot.legend(fontsize=10) \n",
    "\n",
    "plt.xticks(fontsize=10)\n",
    "plt.show()"
   ]
  },
  {
   "cell_type": "markdown",
   "metadata": {},
   "source": [
    "### step2. 태그 "
   ]
  },
  {
   "cell_type": "code",
   "execution_count": 47,
   "metadata": {},
   "outputs": [],
   "source": [
    "playlists_songs = playlists.explode('songs') # song 기준으로 분해\n",
    "song_meta_gnr = song_meta.explode('song_gn_gnr_basket') # 대분류 장르 기준으로 분해\n",
    "ply_tag_song_gnr = pd.merge(playlists_songs, song_meta_gnr, how='left', left_on='songs', right_on='id') # 플레이리스트에 사용된 song 각각에 대분류 장르 달아주기\n",
    "ply_tag_song_gnr = ply_tag_song_gnr.explode('tags') # 태그 기준으로 분해\n",
    "\n",
    "ply_tag_gnr = ply_tag_song_gnr[['tags', 'song_gn_gnr_basket']] # 필요한 부분만 남기기"
   ]
  },
  {
   "cell_type": "code",
   "execution_count": 48,
   "metadata": {},
   "outputs": [
    {
     "name": "stderr",
     "output_type": "stream",
     "text": [
      "C:\\Users\\cg063\\AppData\\Local\\Temp\\ipykernel_4088\\3607737618.py:1: SettingWithCopyWarning: \n",
      "A value is trying to be set on a copy of a slice from a DataFrame\n",
      "\n",
      "See the caveats in the documentation: https://pandas.pydata.org/pandas-docs/stable/user_guide/indexing.html#returning-a-view-versus-a-copy\n",
      "  ply_tag_gnr.drop_duplicates(inplace=True) # 중복 행 제거\n"
     ]
    }
   ],
   "source": [
    "ply_tag_gnr.drop_duplicates(inplace=True) # 중복 행 제거\n",
    "\n",
    "big_gnr_code = gnr_code_tree[['gnr_code', 'gnr_name']].drop_duplicates() # 대분류 장르코드, 장르 이름 가져오기"
   ]
  },
  {
   "cell_type": "code",
   "execution_count": 49,
   "metadata": {},
   "outputs": [
    {
     "data": {
      "text/html": [
       "<div>\n",
       "<style scoped>\n",
       "    .dataframe tbody tr th:only-of-type {\n",
       "        vertical-align: middle;\n",
       "    }\n",
       "\n",
       "    .dataframe tbody tr th {\n",
       "        vertical-align: top;\n",
       "    }\n",
       "\n",
       "    .dataframe thead th {\n",
       "        text-align: right;\n",
       "    }\n",
       "</style>\n",
       "<table border=\"1\" class=\"dataframe\">\n",
       "  <thead>\n",
       "    <tr style=\"text-align: right;\">\n",
       "      <th></th>\n",
       "      <th>tags</th>\n",
       "      <th>gnr_code</th>\n",
       "      <th>gnr_name</th>\n",
       "    </tr>\n",
       "  </thead>\n",
       "  <tbody>\n",
       "    <tr>\n",
       "      <th>0</th>\n",
       "      <td>락</td>\n",
       "      <td>GN1400</td>\n",
       "      <td>포크/블루스/컨트리</td>\n",
       "    </tr>\n",
       "    <tr>\n",
       "      <th>1</th>\n",
       "      <td>락</td>\n",
       "      <td>GN0900</td>\n",
       "      <td>POP</td>\n",
       "    </tr>\n",
       "    <tr>\n",
       "      <th>2</th>\n",
       "      <td>락</td>\n",
       "      <td>GN1000</td>\n",
       "      <td>록/메탈</td>\n",
       "    </tr>\n",
       "    <tr>\n",
       "      <th>3</th>\n",
       "      <td>락</td>\n",
       "      <td>GN1300</td>\n",
       "      <td>R&amp;B/Soul</td>\n",
       "    </tr>\n",
       "    <tr>\n",
       "      <th>4</th>\n",
       "      <td>락</td>\n",
       "      <td>GN1900</td>\n",
       "      <td>J-POP</td>\n",
       "    </tr>\n",
       "    <tr>\n",
       "      <th>...</th>\n",
       "      <td>...</td>\n",
       "      <td>...</td>\n",
       "      <td>...</td>\n",
       "    </tr>\n",
       "    <tr>\n",
       "      <th>264515</th>\n",
       "      <td>부들부들</td>\n",
       "      <td>GN0400</td>\n",
       "      <td>R&amp;B/Soul</td>\n",
       "    </tr>\n",
       "    <tr>\n",
       "      <th>264516</th>\n",
       "      <td>extreme</td>\n",
       "      <td>GN1100</td>\n",
       "      <td>일렉트로니카</td>\n",
       "    </tr>\n",
       "    <tr>\n",
       "      <th>264517</th>\n",
       "      <td>담시</td>\n",
       "      <td>GN1500</td>\n",
       "      <td>OST</td>\n",
       "    </tr>\n",
       "    <tr>\n",
       "      <th>264518</th>\n",
       "      <td>퇴근버스</td>\n",
       "      <td>GN1200</td>\n",
       "      <td>랩/힙합</td>\n",
       "    </tr>\n",
       "    <tr>\n",
       "      <th>264519</th>\n",
       "      <td>퇴근버스</td>\n",
       "      <td>GN2000</td>\n",
       "      <td>월드뮤직</td>\n",
       "    </tr>\n",
       "  </tbody>\n",
       "</table>\n",
       "<p>264520 rows × 3 columns</p>\n",
       "</div>"
      ],
      "text/plain": [
       "           tags gnr_code    gnr_name\n",
       "0             락   GN1400  포크/블루스/컨트리\n",
       "1             락   GN0900         POP\n",
       "2             락   GN1000        록/메탈\n",
       "3             락   GN1300    R&B/Soul\n",
       "4             락   GN1900       J-POP\n",
       "...         ...      ...         ...\n",
       "264515     부들부들   GN0400    R&B/Soul\n",
       "264516  extreme   GN1100      일렉트로니카\n",
       "264517       담시   GN1500         OST\n",
       "264518     퇴근버스   GN1200        랩/힙합\n",
       "264519     퇴근버스   GN2000        월드뮤직\n",
       "\n",
       "[264520 rows x 3 columns]"
      ]
     },
     "execution_count": 49,
     "metadata": {},
     "output_type": "execute_result"
    }
   ],
   "source": [
    "ply_tag_gnr = pd.merge(ply_tag_gnr, big_gnr_code, how='left', left_on='song_gn_gnr_basket', right_on='gnr_code') # 대분류 코드 장르 기준으로 join해서 장르 이름 달아주기\n",
    "ply_tag_gnr = ply_tag_gnr[['tags', 'gnr_code', 'gnr_name']] # 필요한 부분만 남기기\n",
    "ply_tag_gnr"
   ]
  },
  {
   "cell_type": "code",
   "execution_count": 50,
   "metadata": {},
   "outputs": [
    {
     "data": {
      "text/html": [
       "<div>\n",
       "<style scoped>\n",
       "    .dataframe tbody tr th:only-of-type {\n",
       "        vertical-align: middle;\n",
       "    }\n",
       "\n",
       "    .dataframe tbody tr th {\n",
       "        vertical-align: top;\n",
       "    }\n",
       "\n",
       "    .dataframe thead th {\n",
       "        text-align: right;\n",
       "    }\n",
       "</style>\n",
       "<table border=\"1\" class=\"dataframe\">\n",
       "  <thead>\n",
       "    <tr style=\"text-align: right;\">\n",
       "      <th></th>\n",
       "      <th>tags</th>\n",
       "      <th>gnr_code</th>\n",
       "      <th>gnr_name</th>\n",
       "    </tr>\n",
       "  </thead>\n",
       "  <tbody>\n",
       "    <tr>\n",
       "      <th>0</th>\n",
       "      <td></td>\n",
       "      <td>[GN1200, GN1300]</td>\n",
       "      <td>[랩/힙합, R&amp;B/Soul]</td>\n",
       "    </tr>\n",
       "    <tr>\n",
       "      <th>1</th>\n",
       "      <td>00</td>\n",
       "      <td>[GN0900, GN1300, GN1200, GN2700, GN1100, GN150...</td>\n",
       "      <td>[POP, R&amp;B/Soul, 랩/힙합, EDM, 일렉트로니카, OST, 록/메탈, ...</td>\n",
       "    </tr>\n",
       "    <tr>\n",
       "      <th>2</th>\n",
       "      <td>007</td>\n",
       "      <td>[GN0900, GN1500, GN1000, GN1300, GN2000, GN1700]</td>\n",
       "      <td>[POP, OST, 록/메탈, R&amp;B/Soul, 월드뮤직, 재즈]</td>\n",
       "    </tr>\n",
       "    <tr>\n",
       "      <th>3</th>\n",
       "      <td>007시리즈</td>\n",
       "      <td>[GN0900, GN1500, GN1000, GN1300]</td>\n",
       "      <td>[POP, OST, 록/메탈, R&amp;B/Soul]</td>\n",
       "    </tr>\n",
       "    <tr>\n",
       "      <th>4</th>\n",
       "      <td>00s</td>\n",
       "      <td>[GN0100, GN1500, GN0300, GN0400, GN0600, GN260...</td>\n",
       "      <td>[발라드, OST, 랩/힙합, R&amp;B/Soul, 록/메탈, 일렉트로니카, 아이돌, ...</td>\n",
       "    </tr>\n",
       "    <tr>\n",
       "      <th>...</th>\n",
       "      <td>...</td>\n",
       "      <td>...</td>\n",
       "      <td>...</td>\n",
       "    </tr>\n",
       "    <tr>\n",
       "      <th>29155</th>\n",
       "      <td>힙해</td>\n",
       "      <td>[GN0400, GN2600, GN0500, GN0300, GN2500, GN020...</td>\n",
       "      <td>[R&amp;B/Soul, 일렉트로니카, 인디음악, 랩/힙합, 아이돌, 댄스, 록/메탈, ...</td>\n",
       "    </tr>\n",
       "    <tr>\n",
       "      <th>29156</th>\n",
       "      <td>힙힙힙</td>\n",
       "      <td>[GN1100, GN0500, GN0400, GN0900, GN2500, GN030...</td>\n",
       "      <td>[일렉트로니카, 인디음악, R&amp;B/Soul, POP, 아이돌, 랩/힙합, 일렉트로니...</td>\n",
       "    </tr>\n",
       "    <tr>\n",
       "      <th>29157</th>\n",
       "      <td>힛뎀포크</td>\n",
       "      <td>[GN1200, GN1300, GN1500]</td>\n",
       "      <td>[랩/힙합, R&amp;B/Soul, OST]</td>\n",
       "    </tr>\n",
       "    <tr>\n",
       "      <th>29158</th>\n",
       "      <td>힛뎀폭</td>\n",
       "      <td>[GN1200, GN1300, GN1500]</td>\n",
       "      <td>[랩/힙합, R&amp;B/Soul, OST]</td>\n",
       "    </tr>\n",
       "    <tr>\n",
       "      <th>29159</th>\n",
       "      <td>힛뎀폭스</td>\n",
       "      <td>[GN1200, GN1300, GN1500, GN2700, GN1100]</td>\n",
       "      <td>[랩/힙합, R&amp;B/Soul, OST, EDM, 일렉트로니카]</td>\n",
       "    </tr>\n",
       "  </tbody>\n",
       "</table>\n",
       "<p>29160 rows × 3 columns</p>\n",
       "</div>"
      ],
      "text/plain": [
       "         tags                                           gnr_code  \\\n",
       "0                                               [GN1200, GN1300]   \n",
       "1          00  [GN0900, GN1300, GN1200, GN2700, GN1100, GN150...   \n",
       "2         007   [GN0900, GN1500, GN1000, GN1300, GN2000, GN1700]   \n",
       "3      007시리즈                   [GN0900, GN1500, GN1000, GN1300]   \n",
       "4         00s  [GN0100, GN1500, GN0300, GN0400, GN0600, GN260...   \n",
       "...       ...                                                ...   \n",
       "29155      힙해  [GN0400, GN2600, GN0500, GN0300, GN2500, GN020...   \n",
       "29156     힙힙힙  [GN1100, GN0500, GN0400, GN0900, GN2500, GN030...   \n",
       "29157    힛뎀포크                           [GN1200, GN1300, GN1500]   \n",
       "29158     힛뎀폭                           [GN1200, GN1300, GN1500]   \n",
       "29159    힛뎀폭스           [GN1200, GN1300, GN1500, GN2700, GN1100]   \n",
       "\n",
       "                                                gnr_name  \n",
       "0                                       [랩/힙합, R&B/Soul]  \n",
       "1      [POP, R&B/Soul, 랩/힙합, EDM, 일렉트로니카, OST, 록/메탈, ...  \n",
       "2                   [POP, OST, 록/메탈, R&B/Soul, 월드뮤직, 재즈]  \n",
       "3                             [POP, OST, 록/메탈, R&B/Soul]  \n",
       "4      [발라드, OST, 랩/힙합, R&B/Soul, 록/메탈, 일렉트로니카, 아이돌, ...  \n",
       "...                                                  ...  \n",
       "29155  [R&B/Soul, 일렉트로니카, 인디음악, 랩/힙합, 아이돌, 댄스, 록/메탈, ...  \n",
       "29156  [일렉트로니카, 인디음악, R&B/Soul, POP, 아이돌, 랩/힙합, 일렉트로니...  \n",
       "29157                              [랩/힙합, R&B/Soul, OST]  \n",
       "29158                              [랩/힙합, R&B/Soul, OST]  \n",
       "29159                 [랩/힙합, R&B/Soul, OST, EDM, 일렉트로니카]  \n",
       "\n",
       "[29160 rows x 3 columns]"
      ]
     },
     "execution_count": 50,
     "metadata": {},
     "output_type": "execute_result"
    }
   ],
   "source": [
    "ply_tag_gnr_code_lst = ply_tag_gnr.groupby('tags')['gnr_code'].apply(list).reset_index() # 태그별 사용된 장르코드 list로 모아놓기\n",
    "ply_tag_gnr_name_lst = ply_tag_gnr.groupby('tags')['gnr_name'].apply(list).reset_index() # 태그별 사용된 장르이름 list로 모아놓기\n",
    "ply_tag_gnr_lst = pd.merge(ply_tag_gnr_code_lst, ply_tag_gnr_name_lst, on='tags')\n",
    "ply_tag_gnr_lst"
   ]
  },
  {
   "cell_type": "markdown",
   "metadata": {},
   "source": [
    "=> 플레이리스트 수록곡의 장르를 통해 태그 별 어떤 장르와 매핑되었는지 확인 할 수 있음"
   ]
  },
  {
   "cell_type": "markdown",
   "metadata": {},
   "source": [
    "> genre_all\n",
    "\n",
    "- 대분류 코드 중 일부 중복 :R&B/Soul(GN0400, GN1300), 록/메탈(GN0600, GN1000)  \n",
    "- 대분류 코드 중 크리스마스(GN3000)는 소분류 코드 X"
   ]
  },
  {
   "cell_type": "markdown",
   "metadata": {},
   "source": [
    "> song_meta\n",
    "\n",
    "- 2020년 4월 경 제공된 data set인데, issue_date(발매일자)가 그 이후인 데이터가 있음 -> 오류 날짜 수정해야함\n",
    "- genre_all에 없는 대분류 장르 존재 - GN9000 삭제 (태교, 노년 건강, 종교 관련 크리스마스 노래 등)"
   ]
  },
  {
   "cell_type": "markdown",
   "metadata": {},
   "source": [
    "> playlists\n",
    "\n",
    "- 가장 오래된 노래 : 19750201, 가장 최신 노래 : 20220113(날짜 오류)\n",
    "- 전체의 2.09%는 같은 플레이리스트 타이틀을 갖고 있음\n",
    "- 플레이리스트와 태그는 특수문자와 같은 불용어 포함하고 있음\n",
    "- 정상 범주 내 속해 있는 플레이리스트 별 곡 수가 5~106개 갖고 있는 플레이리스트만 사용\n",
    "- 노래 별 사용 빈도, 태그 별 사용 빈도를 확인해 적게 사용된 곡과 태그는 제외 -> 제외 시 노래 리스트, 태그 리스트가 비어있다면 플레이리스트 삭제\n",
    "- 태그 별 어떤 장르의 노래를 설명했는지 확인\n",
    "    - [카페, 매장음악], [드라이브, 스트레스, 기분전환]은 pop, [휴식, 힐링], [밤, 새벽, 잔잔한], [슬픔, 이별], [사랑, 설렘], [추억, 회상]은 발라드가 가장 많이 쓰임\n",
    "    - 태그 별 어떤 장르에 사용 됐는지 확인\n",
    "- 플레이리스트 별 좋아요 편차가 매우 심함"
   ]
  },
  {
   "cell_type": "markdown",
   "metadata": {},
   "source": [
    "> 전처리 진행 방향\n",
    "\n",
    "1. 타이틀, 태그 불용어 처리\n",
    "2. 타이틀 중복된 플레이리스트 제거\n",
    "3. 플리별 노래 개수, 좋아요 수 이상치 행 날리기 (태그는 보고 진행)\n",
    "4. 송, 태그 빈도수에 따라 리스트에서 빼기 -> 리스트가 비워져 있으면 행 날리기"
   ]
  },
  {
   "cell_type": "markdown",
   "metadata": {},
   "source": [
    "---"
   ]
  }
 ],
 "metadata": {
  "kernelspec": {
   "display_name": "base",
   "language": "python",
   "name": "python3"
  },
  "language_info": {
   "codemirror_mode": {
    "name": "ipython",
    "version": 3
   },
   "file_extension": ".py",
   "mimetype": "text/x-python",
   "name": "python",
   "nbconvert_exporter": "python",
   "pygments_lexer": "ipython3",
   "version": "3.11.4"
  },
  "orig_nbformat": 4
 },
 "nbformat": 4,
 "nbformat_minor": 2
}
