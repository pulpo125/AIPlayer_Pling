{
 "cells": [
  {
   "cell_type": "code",
   "execution_count": 1,
   "metadata": {},
   "outputs": [],
   "source": [
    "import json\n",
    "import pandas as pd\n",
    "import numpy as np\n",
    "from emoji import core\n",
    "import re\n",
    "import ast\n",
    "from matplotlib import pyplot as plt"
   ]
  },
  {
   "cell_type": "code",
   "execution_count": 2,
   "metadata": {},
   "outputs": [],
   "source": [
    "playlists = pd.read_json('../0_data/playlists.json', typ = 'frame', encoding='utf-8')\n",
    "song_meta = pd.read_json('../0_data/song_meta.json', typ = 'frame', encoding='utf-8') \n",
    "genre_gn_all = pd.read_json('../0_data/genre_gn_all.json', typ = 'frame', encoding='utf-8', orient='index')"
   ]
  },
  {
   "cell_type": "markdown",
   "metadata": {},
   "source": [
    "### 0. genre"
   ]
  },
  {
   "cell_type": "code",
   "execution_count": 3,
   "metadata": {},
   "outputs": [
    {
     "name": "stderr",
     "output_type": "stream",
     "text": [
      "C:\\Users\\cg063\\AppData\\Local\\Temp\\ipykernel_12508\\3749102257.py:10: SettingWithCopyWarning: \n",
      "A value is trying to be set on a copy of a slice from a DataFrame\n",
      "\n",
      "See the caveats in the documentation: https://pandas.pydata.org/pandas-docs/stable/user_guide/indexing.html#returning-a-view-versus-a-copy\n",
      "  dtl_gnr_code.rename(columns = {'gnr_code' : 'dtl_gnr_code', 'gnr_name' : 'dtl_gnr_name'}, inplace = True)\n"
     ]
    }
   ],
   "source": [
    "# 컬럼명 지정\n",
    "genre_gn_all = genre_gn_all.reset_index().rename(columns={'index':'gnr_code', 0:'gnr_name'})\n",
    "genre_gn_all.head()\n",
    "\n",
    "# 대분류 장르코드들만 뽑기\n",
    "gnr_code = genre_gn_all[genre_gn_all['gnr_code'].str[-2:]=='00']\n",
    "\n",
    "# 소분류 장르코드만 뽑기\n",
    "dtl_gnr_code = genre_gn_all[genre_gn_all['gnr_code'].str[-2:] != '00']\n",
    "dtl_gnr_code.rename(columns = {'gnr_code' : 'dtl_gnr_code', 'gnr_name' : 'dtl_gnr_name'}, inplace = True)\n",
    "\n",
    "# 대분류 장르코드와 소분류 장르코드 각각의 앞자리 네자리 공통코드 추출\n",
    "gnr_code = gnr_code.assign(join_code = gnr_code['gnr_code'].str[0:4])\n",
    "dtl_gnr_code = dtl_gnr_code.assign(join_code = dtl_gnr_code['dtl_gnr_code'].str[0:4])\n",
    "\n",
    "# join_code(네자리 공통코드) 기준으로 Merge\n",
    "gnr_code_tree = pd.merge(gnr_code, dtl_gnr_code, how = 'left', on = 'join_code')\n",
    "\n",
    "gnr_code_tree[['gnr_code', 'gnr_name', 'dtl_gnr_code', 'dtl_gnr_name']]\n",
    "gnr_code_tree\n",
    "\n",
    "gnr_big = pd.DataFrame(gnr_code.iloc[:, :2])"
   ]
  },
  {
   "cell_type": "code",
   "execution_count": 4,
   "metadata": {},
   "outputs": [],
   "source": [
    "# song_meta 저장\n",
    "gnr_big.to_json('../0_data/genre_gn_all_filter.json', orient='records')"
   ]
  },
  {
   "cell_type": "markdown",
   "metadata": {},
   "source": [
    "### 1. song_meta"
   ]
  },
  {
   "cell_type": "markdown",
   "metadata": {},
   "source": [
    "> 0. album name이 비어 있는 노래 삭제"
   ]
  },
  {
   "cell_type": "code",
   "execution_count": 5,
   "metadata": {},
   "outputs": [
    {
     "data": {
      "text/html": [
       "<div>\n",
       "<style scoped>\n",
       "    .dataframe tbody tr th:only-of-type {\n",
       "        vertical-align: middle;\n",
       "    }\n",
       "\n",
       "    .dataframe tbody tr th {\n",
       "        vertical-align: top;\n",
       "    }\n",
       "\n",
       "    .dataframe thead th {\n",
       "        text-align: right;\n",
       "    }\n",
       "</style>\n",
       "<table border=\"1\" class=\"dataframe\">\n",
       "  <thead>\n",
       "    <tr style=\"text-align: right;\">\n",
       "      <th></th>\n",
       "      <th>song_gn_dtl_gnr_basket</th>\n",
       "      <th>issue_date</th>\n",
       "      <th>album_name</th>\n",
       "      <th>album_id</th>\n",
       "      <th>artist_id_basket</th>\n",
       "      <th>song_name</th>\n",
       "      <th>song_gn_gnr_basket</th>\n",
       "      <th>artist_name_basket</th>\n",
       "      <th>id</th>\n",
       "    </tr>\n",
       "  </thead>\n",
       "  <tbody>\n",
       "    <tr>\n",
       "      <th>143209</th>\n",
       "      <td>[GN0501, GN0601, GN0503, GN0606, GN0509]</td>\n",
       "      <td>20150522</td>\n",
       "      <td>None</td>\n",
       "      <td>2318271</td>\n",
       "      <td>[726168]</td>\n",
       "      <td>사랑바보</td>\n",
       "      <td>[GN0500, GN0600]</td>\n",
       "      <td>[민은서밴드]</td>\n",
       "      <td>143209</td>\n",
       "    </tr>\n",
       "    <tr>\n",
       "      <th>291631</th>\n",
       "      <td>[GN0105, GN0101]</td>\n",
       "      <td>20101108</td>\n",
       "      <td>None</td>\n",
       "      <td>1065178</td>\n",
       "      <td>[28772]</td>\n",
       "      <td>빗속에서</td>\n",
       "      <td>[GN0100]</td>\n",
       "      <td>[존박]</td>\n",
       "      <td>291631</td>\n",
       "    </tr>\n",
       "    <tr>\n",
       "      <th>431110</th>\n",
       "      <td>[GN0509, GN0601, GN0503, GN0606, GN0501]</td>\n",
       "      <td>20200208</td>\n",
       "      <td>None</td>\n",
       "      <td>10385717</td>\n",
       "      <td>[2203064]</td>\n",
       "      <td>화면</td>\n",
       "      <td>[GN0500, GN0600]</td>\n",
       "      <td>[Oowl Hannal (우울 한날)]</td>\n",
       "      <td>431110</td>\n",
       "    </tr>\n",
       "    <tr>\n",
       "      <th>552088</th>\n",
       "      <td>[GN0105, GN0601]</td>\n",
       "      <td>20101108</td>\n",
       "      <td>None</td>\n",
       "      <td>1065178</td>\n",
       "      <td>[28263]</td>\n",
       "      <td>본능적으로 (Feat. Swings)</td>\n",
       "      <td>[GN0600, GN0100]</td>\n",
       "      <td>[강승윤]</td>\n",
       "      <td>552088</td>\n",
       "    </tr>\n",
       "  </tbody>\n",
       "</table>\n",
       "</div>"
      ],
      "text/plain": [
       "                          song_gn_dtl_gnr_basket  issue_date album_name  \\\n",
       "143209  [GN0501, GN0601, GN0503, GN0606, GN0509]    20150522       None   \n",
       "291631                          [GN0105, GN0101]    20101108       None   \n",
       "431110  [GN0509, GN0601, GN0503, GN0606, GN0501]    20200208       None   \n",
       "552088                          [GN0105, GN0601]    20101108       None   \n",
       "\n",
       "        album_id artist_id_basket             song_name song_gn_gnr_basket  \\\n",
       "143209   2318271         [726168]                  사랑바보   [GN0500, GN0600]   \n",
       "291631   1065178          [28772]                  빗속에서           [GN0100]   \n",
       "431110  10385717        [2203064]                    화면   [GN0500, GN0600]   \n",
       "552088   1065178          [28263]  본능적으로 (Feat. Swings)   [GN0600, GN0100]   \n",
       "\n",
       "           artist_name_basket      id  \n",
       "143209                [민은서밴드]  143209  \n",
       "291631                   [존박]  291631  \n",
       "431110  [Oowl Hannal (우울 한날)]  431110  \n",
       "552088                  [강승윤]  552088  "
      ]
     },
     "execution_count": 5,
     "metadata": {},
     "output_type": "execute_result"
    }
   ],
   "source": [
    "song_meta[song_meta['album_name'].isnull()] # album_name 비어 있는 경우 확인"
   ]
  },
  {
   "cell_type": "code",
   "execution_count": 6,
   "metadata": {},
   "outputs": [
    {
     "name": "stdout",
     "output_type": "stream",
     "text": [
      "<class 'pandas.core.frame.DataFrame'>\n",
      "Int64Index: 707985 entries, 0 to 707988\n",
      "Data columns (total 9 columns):\n",
      " #   Column                  Non-Null Count   Dtype \n",
      "---  ------                  --------------   ----- \n",
      " 0   song_gn_dtl_gnr_basket  707985 non-null  object\n",
      " 1   issue_date              707985 non-null  int64 \n",
      " 2   album_name              707985 non-null  object\n",
      " 3   album_id                707985 non-null  int64 \n",
      " 4   artist_id_basket        707985 non-null  object\n",
      " 5   song_name               707985 non-null  object\n",
      " 6   song_gn_gnr_basket      707985 non-null  object\n",
      " 7   artist_name_basket      707985 non-null  object\n",
      " 8   id                      707985 non-null  int64 \n",
      "dtypes: int64(3), object(6)\n",
      "memory usage: 54.0+ MB\n"
     ]
    }
   ],
   "source": [
    "song_meta.dropna(subset=['album_name'], inplace=True) # 삭제\n",
    "song_meta.info()"
   ]
  },
  {
   "cell_type": "markdown",
   "metadata": {},
   "source": [
    "> 1. 날짜 오류 수정"
   ]
  },
  {
   "cell_type": "code",
   "execution_count": 7,
   "metadata": {},
   "outputs": [
    {
     "data": {
      "text/html": [
       "<div>\n",
       "<style scoped>\n",
       "    .dataframe tbody tr th:only-of-type {\n",
       "        vertical-align: middle;\n",
       "    }\n",
       "\n",
       "    .dataframe tbody tr th {\n",
       "        vertical-align: top;\n",
       "    }\n",
       "\n",
       "    .dataframe thead th {\n",
       "        text-align: right;\n",
       "    }\n",
       "</style>\n",
       "<table border=\"1\" class=\"dataframe\">\n",
       "  <thead>\n",
       "    <tr style=\"text-align: right;\">\n",
       "      <th></th>\n",
       "      <th>song_gn_dtl_gnr_basket</th>\n",
       "      <th>issue_date</th>\n",
       "      <th>album_name</th>\n",
       "      <th>album_id</th>\n",
       "      <th>artist_id_basket</th>\n",
       "      <th>song_name</th>\n",
       "      <th>song_gn_gnr_basket</th>\n",
       "      <th>artist_name_basket</th>\n",
       "      <th>id</th>\n",
       "    </tr>\n",
       "  </thead>\n",
       "  <tbody>\n",
       "    <tr>\n",
       "      <th>141185</th>\n",
       "      <td>[GN1801]</td>\n",
       "      <td>20220113</td>\n",
       "      <td>고요한 밤바다 구경하기 [여수 바다]</td>\n",
       "      <td>10403230</td>\n",
       "      <td>[2737142]</td>\n",
       "      <td>잔잔한 바람이 불어와 (There is a gentle breeze)</td>\n",
       "      <td>[GN1800]</td>\n",
       "      <td>[무드홀릭 (Moodholic)]</td>\n",
       "      <td>141185</td>\n",
       "    </tr>\n",
       "    <tr>\n",
       "      <th>448286</th>\n",
       "      <td>[GN1801]</td>\n",
       "      <td>20220113</td>\n",
       "      <td>고요한 밤바다 구경하기 [여수 바다]</td>\n",
       "      <td>10403230</td>\n",
       "      <td>[2737142]</td>\n",
       "      <td>여수 바다 (Yeosu sea)</td>\n",
       "      <td>[GN1800]</td>\n",
       "      <td>[무드홀릭 (Moodholic)]</td>\n",
       "      <td>448286</td>\n",
       "    </tr>\n",
       "  </tbody>\n",
       "</table>\n",
       "</div>"
      ],
      "text/plain": [
       "       song_gn_dtl_gnr_basket  issue_date            album_name  album_id  \\\n",
       "141185               [GN1801]    20220113  고요한 밤바다 구경하기 [여수 바다]  10403230   \n",
       "448286               [GN1801]    20220113  고요한 밤바다 구경하기 [여수 바다]  10403230   \n",
       "\n",
       "       artist_id_basket                               song_name  \\\n",
       "141185        [2737142]  잔잔한 바람이 불어와 (There is a gentle breeze)   \n",
       "448286        [2737142]                       여수 바다 (Yeosu sea)   \n",
       "\n",
       "       song_gn_gnr_basket  artist_name_basket      id  \n",
       "141185           [GN1800]  [무드홀릭 (Moodholic)]  141185  \n",
       "448286           [GN1800]  [무드홀릭 (Moodholic)]  448286  "
      ]
     },
     "execution_count": 7,
     "metadata": {},
     "output_type": "execute_result"
    }
   ],
   "source": [
    "# 날짜 오류있는 행 확인\n",
    "song_meta[song_meta['issue_date'] > 20220000] # index : 141185, 448286"
   ]
  },
  {
   "cell_type": "code",
   "execution_count": 8,
   "metadata": {},
   "outputs": [],
   "source": [
    "indices_to_update = [141185, 448286]\n",
    "new_value = 20200113 # 알맞는 발매날짜\n",
    "# 특정 행의 'issue_date' 값을 변경\n",
    "for idx in indices_to_update:\n",
    "    song_meta.at[idx, 'issue_date'] = new_value"
   ]
  },
  {
   "cell_type": "code",
   "execution_count": 9,
   "metadata": {},
   "outputs": [
    {
     "data": {
      "text/html": [
       "<div>\n",
       "<style scoped>\n",
       "    .dataframe tbody tr th:only-of-type {\n",
       "        vertical-align: middle;\n",
       "    }\n",
       "\n",
       "    .dataframe tbody tr th {\n",
       "        vertical-align: top;\n",
       "    }\n",
       "\n",
       "    .dataframe thead th {\n",
       "        text-align: right;\n",
       "    }\n",
       "</style>\n",
       "<table border=\"1\" class=\"dataframe\">\n",
       "  <thead>\n",
       "    <tr style=\"text-align: right;\">\n",
       "      <th></th>\n",
       "      <th>song_gn_dtl_gnr_basket</th>\n",
       "      <th>issue_date</th>\n",
       "      <th>album_name</th>\n",
       "      <th>album_id</th>\n",
       "      <th>artist_id_basket</th>\n",
       "      <th>song_name</th>\n",
       "      <th>song_gn_gnr_basket</th>\n",
       "      <th>artist_name_basket</th>\n",
       "      <th>id</th>\n",
       "    </tr>\n",
       "  </thead>\n",
       "  <tbody>\n",
       "    <tr>\n",
       "      <th>141185</th>\n",
       "      <td>[GN1801]</td>\n",
       "      <td>20200113</td>\n",
       "      <td>고요한 밤바다 구경하기 [여수 바다]</td>\n",
       "      <td>10403230</td>\n",
       "      <td>[2737142]</td>\n",
       "      <td>잔잔한 바람이 불어와 (There is a gentle breeze)</td>\n",
       "      <td>[GN1800]</td>\n",
       "      <td>[무드홀릭 (Moodholic)]</td>\n",
       "      <td>141185</td>\n",
       "    </tr>\n",
       "    <tr>\n",
       "      <th>448289</th>\n",
       "      <td>[GN1003, GN1013, GN1001]</td>\n",
       "      <td>20060103</td>\n",
       "      <td>First Impressions Of Earth</td>\n",
       "      <td>312378</td>\n",
       "      <td>[101138]</td>\n",
       "      <td>You Only Live Once</td>\n",
       "      <td>[GN1000]</td>\n",
       "      <td>[The Strokes]</td>\n",
       "      <td>448289</td>\n",
       "    </tr>\n",
       "  </tbody>\n",
       "</table>\n",
       "</div>"
      ],
      "text/plain": [
       "          song_gn_dtl_gnr_basket  issue_date                  album_name  \\\n",
       "141185                  [GN1801]    20200113        고요한 밤바다 구경하기 [여수 바다]   \n",
       "448289  [GN1003, GN1013, GN1001]    20060103  First Impressions Of Earth   \n",
       "\n",
       "        album_id artist_id_basket                               song_name  \\\n",
       "141185  10403230        [2737142]  잔잔한 바람이 불어와 (There is a gentle breeze)   \n",
       "448289    312378         [101138]                      You Only Live Once   \n",
       "\n",
       "       song_gn_gnr_basket  artist_name_basket      id  \n",
       "141185           [GN1800]  [무드홀릭 (Moodholic)]  141185  \n",
       "448289           [GN1000]       [The Strokes]  448289  "
      ]
     },
     "execution_count": 9,
     "metadata": {},
     "output_type": "execute_result"
    }
   ],
   "source": [
    "# 알맞게 변경되었는지 확인\n",
    "song_meta.iloc[[141185, 448286], :]"
   ]
  },
  {
   "cell_type": "markdown",
   "metadata": {},
   "source": [
    "> 2.song_gn_dtl_gnr_basket가 비어있는 경우와 대분류 장르 GN9000 삭제"
   ]
  },
  {
   "cell_type": "code",
   "execution_count": 10,
   "metadata": {},
   "outputs": [
    {
     "data": {
      "text/html": [
       "<div>\n",
       "<style scoped>\n",
       "    .dataframe tbody tr th:only-of-type {\n",
       "        vertical-align: middle;\n",
       "    }\n",
       "\n",
       "    .dataframe tbody tr th {\n",
       "        vertical-align: top;\n",
       "    }\n",
       "\n",
       "    .dataframe thead th {\n",
       "        text-align: right;\n",
       "    }\n",
       "</style>\n",
       "<table border=\"1\" class=\"dataframe\">\n",
       "  <thead>\n",
       "    <tr style=\"text-align: right;\">\n",
       "      <th></th>\n",
       "      <th>song_gn_dtl_gnr_basket</th>\n",
       "      <th>issue_date</th>\n",
       "      <th>album_name</th>\n",
       "      <th>album_id</th>\n",
       "      <th>artist_id_basket</th>\n",
       "      <th>song_name</th>\n",
       "      <th>song_gn_gnr_basket</th>\n",
       "      <th>artist_name_basket</th>\n",
       "      <th>id</th>\n",
       "      <th>song_gn_dtl_gnr_basket_cnt</th>\n",
       "    </tr>\n",
       "  </thead>\n",
       "  <tbody>\n",
       "    <tr>\n",
       "      <th>21</th>\n",
       "      <td>[]</td>\n",
       "      <td>20200331</td>\n",
       "      <td>WHY</td>\n",
       "      <td>10410508</td>\n",
       "      <td>[417985]</td>\n",
       "      <td>WHY</td>\n",
       "      <td>[]</td>\n",
       "      <td>[4minute]</td>\n",
       "      <td>21</td>\n",
       "      <td>0</td>\n",
       "    </tr>\n",
       "    <tr>\n",
       "      <th>262</th>\n",
       "      <td>[]</td>\n",
       "      <td>20150318</td>\n",
       "      <td>노년의 건강을 지켜주는 음악 처방전 (부제 : 휴식 때 들으면 좋은 음악친구)</td>\n",
       "      <td>2309524</td>\n",
       "      <td>[726909]</td>\n",
       "      <td>Bio Sound `Breathing &amp; Big Bell`</td>\n",
       "      <td>[GN9000]</td>\n",
       "      <td>[차병원]</td>\n",
       "      <td>262</td>\n",
       "      <td>0</td>\n",
       "    </tr>\n",
       "    <tr>\n",
       "      <th>399</th>\n",
       "      <td>[]</td>\n",
       "      <td>20200106</td>\n",
       "      <td>뽀로로 겨울 동요</td>\n",
       "      <td>10372098</td>\n",
       "      <td>[1703695]</td>\n",
       "      <td>초코 초코 핫초코</td>\n",
       "      <td>[]</td>\n",
       "      <td>[아이코닉스 (ICONIX)]</td>\n",
       "      <td>399</td>\n",
       "      <td>0</td>\n",
       "    </tr>\n",
       "    <tr>\n",
       "      <th>454</th>\n",
       "      <td>[]</td>\n",
       "      <td>20191108</td>\n",
       "      <td>MAGDALENE</td>\n",
       "      <td>10349014</td>\n",
       "      <td>[788767]</td>\n",
       "      <td>thousand eyes</td>\n",
       "      <td>[GN1100]</td>\n",
       "      <td>[FKA Twigs]</td>\n",
       "      <td>454</td>\n",
       "      <td>0</td>\n",
       "    </tr>\n",
       "    <tr>\n",
       "      <th>803</th>\n",
       "      <td>[]</td>\n",
       "      <td>20040901</td>\n",
       "      <td>Tropical Lullaby</td>\n",
       "      <td>153435</td>\n",
       "      <td>[848353]</td>\n",
       "      <td>Kalua Lullaby</td>\n",
       "      <td>[]</td>\n",
       "      <td>[The Moonlighters]</td>\n",
       "      <td>803</td>\n",
       "      <td>0</td>\n",
       "    </tr>\n",
       "    <tr>\n",
       "      <th>...</th>\n",
       "      <td>...</td>\n",
       "      <td>...</td>\n",
       "      <td>...</td>\n",
       "      <td>...</td>\n",
       "      <td>...</td>\n",
       "      <td>...</td>\n",
       "      <td>...</td>\n",
       "      <td>...</td>\n",
       "      <td>...</td>\n",
       "      <td>...</td>\n",
       "    </tr>\n",
       "    <tr>\n",
       "      <th>706502</th>\n",
       "      <td>[]</td>\n",
       "      <td>20110831</td>\n",
       "      <td>엄마와 아가와의 행복한 대화 태교음악 뉴에이지</td>\n",
       "      <td>2009854</td>\n",
       "      <td>[561734]</td>\n",
       "      <td>Love Love Love</td>\n",
       "      <td>[GN9000]</td>\n",
       "      <td>[해피타임뮤직]</td>\n",
       "      <td>706502</td>\n",
       "      <td>0</td>\n",
       "    </tr>\n",
       "    <tr>\n",
       "      <th>706716</th>\n",
       "      <td>[]</td>\n",
       "      <td>20200109</td>\n",
       "      <td>Have It All</td>\n",
       "      <td>10373946</td>\n",
       "      <td>[2762722]</td>\n",
       "      <td>Have It All</td>\n",
       "      <td>[GN9000]</td>\n",
       "      <td>[Renegade]</td>\n",
       "      <td>706716</td>\n",
       "      <td>0</td>\n",
       "    </tr>\n",
       "    <tr>\n",
       "      <th>707201</th>\n",
       "      <td>[]</td>\n",
       "      <td>20200115</td>\n",
       "      <td>모두의 MR반주 123</td>\n",
       "      <td>10376105</td>\n",
       "      <td>[770787]</td>\n",
       "      <td>Into the Unknown (겨울왕국 2 OST) (Melody MR)</td>\n",
       "      <td>[GN9000]</td>\n",
       "      <td>[모두의MR]</td>\n",
       "      <td>707201</td>\n",
       "      <td>0</td>\n",
       "    </tr>\n",
       "    <tr>\n",
       "      <th>707759</th>\n",
       "      <td>[]</td>\n",
       "      <td>20200225</td>\n",
       "      <td>낭만닥터 김사부 2 OST</td>\n",
       "      <td>10393897</td>\n",
       "      <td>[27619, 726783]</td>\n",
       "      <td>Emergency</td>\n",
       "      <td>[]</td>\n",
       "      <td>[전창엽, 마마고릴라]</td>\n",
       "      <td>707759</td>\n",
       "      <td>0</td>\n",
       "    </tr>\n",
       "    <tr>\n",
       "      <th>707869</th>\n",
       "      <td>[]</td>\n",
       "      <td>20170106</td>\n",
       "      <td>아기와 엄마가 함께 듣는 태교 음악 피아노 자장가 연주곡 베스트</td>\n",
       "      <td>10028977</td>\n",
       "      <td>[927524]</td>\n",
       "      <td>도레미송 (Doremi Song)</td>\n",
       "      <td>[GN9000]</td>\n",
       "      <td>[태교음악 베베]</td>\n",
       "      <td>707869</td>\n",
       "      <td>0</td>\n",
       "    </tr>\n",
       "  </tbody>\n",
       "</table>\n",
       "<p>4037 rows × 10 columns</p>\n",
       "</div>"
      ],
      "text/plain": [
       "       song_gn_dtl_gnr_basket  issue_date  \\\n",
       "21                         []    20200331   \n",
       "262                        []    20150318   \n",
       "399                        []    20200106   \n",
       "454                        []    20191108   \n",
       "803                        []    20040901   \n",
       "...                       ...         ...   \n",
       "706502                     []    20110831   \n",
       "706716                     []    20200109   \n",
       "707201                     []    20200115   \n",
       "707759                     []    20200225   \n",
       "707869                     []    20170106   \n",
       "\n",
       "                                         album_name  album_id  \\\n",
       "21                                              WHY  10410508   \n",
       "262     노년의 건강을 지켜주는 음악 처방전 (부제 : 휴식 때 들으면 좋은 음악친구)   2309524   \n",
       "399                                       뽀로로 겨울 동요  10372098   \n",
       "454                                       MAGDALENE  10349014   \n",
       "803                                Tropical Lullaby    153435   \n",
       "...                                             ...       ...   \n",
       "706502                    엄마와 아가와의 행복한 대화 태교음악 뉴에이지   2009854   \n",
       "706716                                  Have It All  10373946   \n",
       "707201                                 모두의 MR반주 123  10376105   \n",
       "707759                               낭만닥터 김사부 2 OST  10393897   \n",
       "707869          아기와 엄마가 함께 듣는 태교 음악 피아노 자장가 연주곡 베스트  10028977   \n",
       "\n",
       "       artist_id_basket                                  song_name  \\\n",
       "21             [417985]                                        WHY   \n",
       "262            [726909]           Bio Sound `Breathing & Big Bell`   \n",
       "399           [1703695]                                  초코 초코 핫초코   \n",
       "454            [788767]                              thousand eyes   \n",
       "803            [848353]                              Kalua Lullaby   \n",
       "...                 ...                                        ...   \n",
       "706502         [561734]                             Love Love Love   \n",
       "706716        [2762722]                                Have It All   \n",
       "707201         [770787]  Into the Unknown (겨울왕국 2 OST) (Melody MR)   \n",
       "707759  [27619, 726783]                                  Emergency   \n",
       "707869         [927524]                         도레미송 (Doremi Song)   \n",
       "\n",
       "       song_gn_gnr_basket  artist_name_basket      id  \\\n",
       "21                     []           [4minute]      21   \n",
       "262              [GN9000]               [차병원]     262   \n",
       "399                    []    [아이코닉스 (ICONIX)]     399   \n",
       "454              [GN1100]         [FKA Twigs]     454   \n",
       "803                    []  [The Moonlighters]     803   \n",
       "...                   ...                 ...     ...   \n",
       "706502           [GN9000]            [해피타임뮤직]  706502   \n",
       "706716           [GN9000]          [Renegade]  706716   \n",
       "707201           [GN9000]             [모두의MR]  707201   \n",
       "707759                 []        [전창엽, 마마고릴라]  707759   \n",
       "707869           [GN9000]           [태교음악 베베]  707869   \n",
       "\n",
       "        song_gn_dtl_gnr_basket_cnt  \n",
       "21                               0  \n",
       "262                              0  \n",
       "399                              0  \n",
       "454                              0  \n",
       "803                              0  \n",
       "...                            ...  \n",
       "706502                           0  \n",
       "706716                           0  \n",
       "707201                           0  \n",
       "707759                           0  \n",
       "707869                           0  \n",
       "\n",
       "[4037 rows x 10 columns]"
      ]
     },
     "execution_count": 10,
     "metadata": {},
     "output_type": "execute_result"
    }
   ],
   "source": [
    "song_meta['song_gn_dtl_gnr_basket_cnt'] = song_meta['song_gn_dtl_gnr_basket'].apply(len)\n",
    "song_meta[song_meta['song_gn_dtl_gnr_basket_cnt']==0]"
   ]
  },
  {
   "cell_type": "code",
   "execution_count": 11,
   "metadata": {},
   "outputs": [
    {
     "data": {
      "text/plain": [
       "4040"
      ]
     },
     "execution_count": 11,
     "metadata": {},
     "output_type": "execute_result"
    }
   ],
   "source": [
    "# 소분류 장르가 없는 song id 담아두기\n",
    "song_gnr_empty = list(song_meta[song_meta['song_gn_dtl_gnr_basket_cnt'] == 0]['id'].values) # 4037개\n",
    "# 장르정보가 GN9000인 song id 담아두기\n",
    "song_gnr_GN9000 = list(song_meta[song_meta['song_gn_gnr_basket'].apply(lambda x: 'GN9000' in x)]['id'].values) # 1834개\n",
    "\n",
    "# 삭제될 song id list\n",
    "to_del_song_id = set(song_gnr_empty + song_gnr_GN9000)\n",
    "len(to_del_song_id) # 4040개"
   ]
  },
  {
   "cell_type": "code",
   "execution_count": 12,
   "metadata": {},
   "outputs": [
    {
     "name": "stdout",
     "output_type": "stream",
     "text": [
      "<class 'pandas.core.frame.DataFrame'>\n",
      "Int64Index: 703948 entries, 0 to 707988\n",
      "Data columns (total 10 columns):\n",
      " #   Column                      Non-Null Count   Dtype \n",
      "---  ------                      --------------   ----- \n",
      " 0   song_gn_dtl_gnr_basket      703948 non-null  object\n",
      " 1   issue_date                  703948 non-null  int64 \n",
      " 2   album_name                  703948 non-null  object\n",
      " 3   album_id                    703948 non-null  int64 \n",
      " 4   artist_id_basket            703948 non-null  object\n",
      " 5   song_name                   703948 non-null  object\n",
      " 6   song_gn_gnr_basket          703948 non-null  object\n",
      " 7   artist_name_basket          703948 non-null  object\n",
      " 8   id                          703948 non-null  int64 \n",
      " 9   song_gn_dtl_gnr_basket_cnt  703948 non-null  int64 \n",
      "dtypes: int64(4), object(6)\n",
      "memory usage: 59.1+ MB\n"
     ]
    }
   ],
   "source": [
    "song_meta = song_meta[song_meta['song_gn_dtl_gnr_basket_cnt'] != 0] # 소분류 장르가 없는 song 4037개 삭제\n",
    "song_meta.info()"
   ]
  },
  {
   "cell_type": "code",
   "execution_count": 13,
   "metadata": {},
   "outputs": [
    {
     "name": "stdout",
     "output_type": "stream",
     "text": [
      "<class 'pandas.core.frame.DataFrame'>\n",
      "Int64Index: 703945 entries, 0 to 707988\n",
      "Data columns (total 10 columns):\n",
      " #   Column                      Non-Null Count   Dtype \n",
      "---  ------                      --------------   ----- \n",
      " 0   song_gn_dtl_gnr_basket      703945 non-null  object\n",
      " 1   issue_date                  703945 non-null  int64 \n",
      " 2   album_name                  703945 non-null  object\n",
      " 3   album_id                    703945 non-null  int64 \n",
      " 4   artist_id_basket            703945 non-null  object\n",
      " 5   song_name                   703945 non-null  object\n",
      " 6   song_gn_gnr_basket          703945 non-null  object\n",
      " 7   artist_name_basket          703945 non-null  object\n",
      " 8   id                          703945 non-null  int64 \n",
      " 9   song_gn_dtl_gnr_basket_cnt  703945 non-null  int64 \n",
      "dtypes: int64(4), object(6)\n",
      "memory usage: 59.1+ MB\n"
     ]
    }
   ],
   "source": [
    "song_meta = song_meta[~song_meta['song_gn_gnr_basket'].apply(lambda x: 'GN9000' in x)] # GN9000가 있는 행 3개삭제 (GN9000이 대분류 장르인 경우, 대부분 소분류 정보가 없어서 여기서는 3개만 삭제됨)\n",
    "song_meta.info()"
   ]
  },
  {
   "cell_type": "code",
   "execution_count": 14,
   "metadata": {},
   "outputs": [
    {
     "data": {
      "text/html": [
       "<div>\n",
       "<style scoped>\n",
       "    .dataframe tbody tr th:only-of-type {\n",
       "        vertical-align: middle;\n",
       "    }\n",
       "\n",
       "    .dataframe tbody tr th {\n",
       "        vertical-align: top;\n",
       "    }\n",
       "\n",
       "    .dataframe thead th {\n",
       "        text-align: right;\n",
       "    }\n",
       "</style>\n",
       "<table border=\"1\" class=\"dataframe\">\n",
       "  <thead>\n",
       "    <tr style=\"text-align: right;\">\n",
       "      <th></th>\n",
       "      <th>song_gn_dtl_gnr_basket</th>\n",
       "      <th>issue_date</th>\n",
       "      <th>album_name</th>\n",
       "      <th>album_id</th>\n",
       "      <th>artist_id_basket</th>\n",
       "      <th>song_name</th>\n",
       "      <th>song_gn_gnr_basket</th>\n",
       "      <th>artist_name_basket</th>\n",
       "      <th>id</th>\n",
       "      <th>song_gn_dtl_gnr_basket_cnt</th>\n",
       "    </tr>\n",
       "  </thead>\n",
       "  <tbody>\n",
       "  </tbody>\n",
       "</table>\n",
       "</div>"
      ],
      "text/plain": [
       "Empty DataFrame\n",
       "Columns: [song_gn_dtl_gnr_basket, issue_date, album_name, album_id, artist_id_basket, song_name, song_gn_gnr_basket, artist_name_basket, id, song_gn_dtl_gnr_basket_cnt]\n",
       "Index: []"
      ]
     },
     "execution_count": 14,
     "metadata": {},
     "output_type": "execute_result"
    }
   ],
   "source": [
    "# 장르 정보가 없는 행이 없는지 확인\n",
    "song_meta[song_meta['song_gn_dtl_gnr_basket_cnt']==0]"
   ]
  },
  {
   "cell_type": "code",
   "execution_count": 15,
   "metadata": {},
   "outputs": [
    {
     "data": {
      "text/html": [
       "<div>\n",
       "<style scoped>\n",
       "    .dataframe tbody tr th:only-of-type {\n",
       "        vertical-align: middle;\n",
       "    }\n",
       "\n",
       "    .dataframe tbody tr th {\n",
       "        vertical-align: top;\n",
       "    }\n",
       "\n",
       "    .dataframe thead th {\n",
       "        text-align: right;\n",
       "    }\n",
       "</style>\n",
       "<table border=\"1\" class=\"dataframe\">\n",
       "  <thead>\n",
       "    <tr style=\"text-align: right;\">\n",
       "      <th></th>\n",
       "      <th>song_gn_dtl_gnr_basket</th>\n",
       "      <th>issue_date</th>\n",
       "      <th>album_name</th>\n",
       "      <th>album_id</th>\n",
       "      <th>artist_id_basket</th>\n",
       "      <th>song_name</th>\n",
       "      <th>song_gn_gnr_basket</th>\n",
       "      <th>artist_name_basket</th>\n",
       "      <th>id</th>\n",
       "      <th>song_gn_dtl_gnr_basket_cnt</th>\n",
       "    </tr>\n",
       "  </thead>\n",
       "  <tbody>\n",
       "  </tbody>\n",
       "</table>\n",
       "</div>"
      ],
      "text/plain": [
       "Empty DataFrame\n",
       "Columns: [song_gn_dtl_gnr_basket, issue_date, album_name, album_id, artist_id_basket, song_name, song_gn_gnr_basket, artist_name_basket, id, song_gn_dtl_gnr_basket_cnt]\n",
       "Index: []"
      ]
     },
     "execution_count": 15,
     "metadata": {},
     "output_type": "execute_result"
    }
   ],
   "source": [
    "# GN9000가 삭제되었는지 확인\n",
    "song_meta[song_meta['song_gn_gnr_basket'].apply(lambda x: 'GN9000' in x)]"
   ]
  },
  {
   "cell_type": "markdown",
   "metadata": {},
   "source": [
    "> 3. 대분류 장르명과 song_meta merge"
   ]
  },
  {
   "cell_type": "code",
   "execution_count": 16,
   "metadata": {},
   "outputs": [
    {
     "data": {
      "text/html": [
       "<div>\n",
       "<style scoped>\n",
       "    .dataframe tbody tr th:only-of-type {\n",
       "        vertical-align: middle;\n",
       "    }\n",
       "\n",
       "    .dataframe tbody tr th {\n",
       "        vertical-align: top;\n",
       "    }\n",
       "\n",
       "    .dataframe thead th {\n",
       "        text-align: right;\n",
       "    }\n",
       "</style>\n",
       "<table border=\"1\" class=\"dataframe\">\n",
       "  <thead>\n",
       "    <tr style=\"text-align: right;\">\n",
       "      <th></th>\n",
       "      <th>song_gn_dtl_gnr_basket</th>\n",
       "      <th>issue_date</th>\n",
       "      <th>album_name</th>\n",
       "      <th>album_id</th>\n",
       "      <th>artist_id_basket</th>\n",
       "      <th>song_name</th>\n",
       "      <th>song_gn_gnr_basket</th>\n",
       "      <th>artist_name_basket</th>\n",
       "      <th>id</th>\n",
       "      <th>song_gn_dtl_gnr_basket_cnt</th>\n",
       "    </tr>\n",
       "  </thead>\n",
       "  <tbody>\n",
       "    <tr>\n",
       "      <th>0</th>\n",
       "      <td>[GN0901]</td>\n",
       "      <td>20140512</td>\n",
       "      <td>불후의 명곡 - 7080 추억의 얄개시대 팝송베스트</td>\n",
       "      <td>2255639</td>\n",
       "      <td>[2727]</td>\n",
       "      <td>Feelings</td>\n",
       "      <td>GN0900</td>\n",
       "      <td>[Various Artists]</td>\n",
       "      <td>0</td>\n",
       "      <td>1</td>\n",
       "    </tr>\n",
       "    <tr>\n",
       "      <th>1</th>\n",
       "      <td>[GN1601, GN1606]</td>\n",
       "      <td>20080421</td>\n",
       "      <td>Bach : Partitas Nos. 2, 3 &amp; 4</td>\n",
       "      <td>376431</td>\n",
       "      <td>[29966]</td>\n",
       "      <td>Bach : Partita No. 4 In D Major, BWV 828 - II....</td>\n",
       "      <td>GN1600</td>\n",
       "      <td>[Murray Perahia]</td>\n",
       "      <td>1</td>\n",
       "      <td>2</td>\n",
       "    </tr>\n",
       "    <tr>\n",
       "      <th>2</th>\n",
       "      <td>[GN0901]</td>\n",
       "      <td>20180518</td>\n",
       "      <td>Hit</td>\n",
       "      <td>4698747</td>\n",
       "      <td>[3361]</td>\n",
       "      <td>Solsbury Hill (Remastered 2002)</td>\n",
       "      <td>GN0900</td>\n",
       "      <td>[Peter Gabriel]</td>\n",
       "      <td>2</td>\n",
       "      <td>1</td>\n",
       "    </tr>\n",
       "    <tr>\n",
       "      <th>3</th>\n",
       "      <td>[GN1102, GN1101]</td>\n",
       "      <td>20151016</td>\n",
       "      <td>Feeling Right (Everything Is Nice) (Feat. Popc...</td>\n",
       "      <td>2644882</td>\n",
       "      <td>[838543]</td>\n",
       "      <td>Feeling Right (Everything Is Nice) (Feat. Popc...</td>\n",
       "      <td>GN1100</td>\n",
       "      <td>[Matoma]</td>\n",
       "      <td>3</td>\n",
       "      <td>2</td>\n",
       "    </tr>\n",
       "    <tr>\n",
       "      <th>4</th>\n",
       "      <td>[GN1802, GN1801]</td>\n",
       "      <td>20110824</td>\n",
       "      <td>그남자 그여자</td>\n",
       "      <td>2008470</td>\n",
       "      <td>[560160]</td>\n",
       "      <td>그남자 그여자</td>\n",
       "      <td>GN1800</td>\n",
       "      <td>[Jude Law]</td>\n",
       "      <td>4</td>\n",
       "      <td>2</td>\n",
       "    </tr>\n",
       "  </tbody>\n",
       "</table>\n",
       "</div>"
      ],
      "text/plain": [
       "  song_gn_dtl_gnr_basket  issue_date  \\\n",
       "0               [GN0901]    20140512   \n",
       "1       [GN1601, GN1606]    20080421   \n",
       "2               [GN0901]    20180518   \n",
       "3       [GN1102, GN1101]    20151016   \n",
       "4       [GN1802, GN1801]    20110824   \n",
       "\n",
       "                                          album_name  album_id  \\\n",
       "0                       불후의 명곡 - 7080 추억의 얄개시대 팝송베스트   2255639   \n",
       "1                      Bach : Partitas Nos. 2, 3 & 4    376431   \n",
       "2                                                Hit   4698747   \n",
       "3  Feeling Right (Everything Is Nice) (Feat. Popc...   2644882   \n",
       "4                                            그남자 그여자   2008470   \n",
       "\n",
       "  artist_id_basket                                          song_name  \\\n",
       "0           [2727]                                           Feelings   \n",
       "1          [29966]  Bach : Partita No. 4 In D Major, BWV 828 - II....   \n",
       "2           [3361]                    Solsbury Hill (Remastered 2002)   \n",
       "3         [838543]  Feeling Right (Everything Is Nice) (Feat. Popc...   \n",
       "4         [560160]                                            그남자 그여자   \n",
       "\n",
       "  song_gn_gnr_basket artist_name_basket  id  song_gn_dtl_gnr_basket_cnt  \n",
       "0             GN0900  [Various Artists]   0                           1  \n",
       "1             GN1600   [Murray Perahia]   1                           2  \n",
       "2             GN0900    [Peter Gabriel]   2                           1  \n",
       "3             GN1100           [Matoma]   3                           2  \n",
       "4             GN1800         [Jude Law]   4                           2  "
      ]
     },
     "execution_count": 16,
     "metadata": {},
     "output_type": "execute_result"
    }
   ],
   "source": [
    "song_meta_ex = song_meta.explode('song_gn_gnr_basket') # 대분류 장르 한줄에 하나씩 넣기\n",
    "song_meta_ex.head()"
   ]
  },
  {
   "cell_type": "code",
   "execution_count": 17,
   "metadata": {},
   "outputs": [
    {
     "data": {
      "text/html": [
       "<div>\n",
       "<style scoped>\n",
       "    .dataframe tbody tr th:only-of-type {\n",
       "        vertical-align: middle;\n",
       "    }\n",
       "\n",
       "    .dataframe tbody tr th {\n",
       "        vertical-align: top;\n",
       "    }\n",
       "\n",
       "    .dataframe thead th {\n",
       "        text-align: right;\n",
       "    }\n",
       "</style>\n",
       "<table border=\"1\" class=\"dataframe\">\n",
       "  <thead>\n",
       "    <tr style=\"text-align: right;\">\n",
       "      <th></th>\n",
       "      <th>song_gn_dtl_gnr_basket</th>\n",
       "      <th>issue_date</th>\n",
       "      <th>album_name</th>\n",
       "      <th>album_id</th>\n",
       "      <th>artist_id_basket</th>\n",
       "      <th>song_name</th>\n",
       "      <th>song_gn_gnr_basket</th>\n",
       "      <th>artist_name_basket</th>\n",
       "      <th>id</th>\n",
       "      <th>song_gn_dtl_gnr_basket_cnt</th>\n",
       "      <th>gnr_name</th>\n",
       "    </tr>\n",
       "  </thead>\n",
       "  <tbody>\n",
       "    <tr>\n",
       "      <th>0</th>\n",
       "      <td>[GN0901]</td>\n",
       "      <td>20140512</td>\n",
       "      <td>불후의 명곡 - 7080 추억의 얄개시대 팝송베스트</td>\n",
       "      <td>2255639</td>\n",
       "      <td>[2727]</td>\n",
       "      <td>Feelings</td>\n",
       "      <td>GN0900</td>\n",
       "      <td>[Various Artists]</td>\n",
       "      <td>0</td>\n",
       "      <td>1</td>\n",
       "      <td>POP</td>\n",
       "    </tr>\n",
       "    <tr>\n",
       "      <th>1</th>\n",
       "      <td>[GN1601, GN1606]</td>\n",
       "      <td>20080421</td>\n",
       "      <td>Bach : Partitas Nos. 2, 3 &amp; 4</td>\n",
       "      <td>376431</td>\n",
       "      <td>[29966]</td>\n",
       "      <td>Bach : Partita No. 4 In D Major, BWV 828 - II....</td>\n",
       "      <td>GN1600</td>\n",
       "      <td>[Murray Perahia]</td>\n",
       "      <td>1</td>\n",
       "      <td>2</td>\n",
       "      <td>클래식</td>\n",
       "    </tr>\n",
       "    <tr>\n",
       "      <th>2</th>\n",
       "      <td>[GN0901]</td>\n",
       "      <td>20180518</td>\n",
       "      <td>Hit</td>\n",
       "      <td>4698747</td>\n",
       "      <td>[3361]</td>\n",
       "      <td>Solsbury Hill (Remastered 2002)</td>\n",
       "      <td>GN0900</td>\n",
       "      <td>[Peter Gabriel]</td>\n",
       "      <td>2</td>\n",
       "      <td>1</td>\n",
       "      <td>POP</td>\n",
       "    </tr>\n",
       "    <tr>\n",
       "      <th>3</th>\n",
       "      <td>[GN1102, GN1101]</td>\n",
       "      <td>20151016</td>\n",
       "      <td>Feeling Right (Everything Is Nice) (Feat. Popc...</td>\n",
       "      <td>2644882</td>\n",
       "      <td>[838543]</td>\n",
       "      <td>Feeling Right (Everything Is Nice) (Feat. Popc...</td>\n",
       "      <td>GN1100</td>\n",
       "      <td>[Matoma]</td>\n",
       "      <td>3</td>\n",
       "      <td>2</td>\n",
       "      <td>일렉트로니카</td>\n",
       "    </tr>\n",
       "    <tr>\n",
       "      <th>4</th>\n",
       "      <td>[GN1802, GN1801]</td>\n",
       "      <td>20110824</td>\n",
       "      <td>그남자 그여자</td>\n",
       "      <td>2008470</td>\n",
       "      <td>[560160]</td>\n",
       "      <td>그남자 그여자</td>\n",
       "      <td>GN1800</td>\n",
       "      <td>[Jude Law]</td>\n",
       "      <td>4</td>\n",
       "      <td>2</td>\n",
       "      <td>뉴에이지</td>\n",
       "    </tr>\n",
       "  </tbody>\n",
       "</table>\n",
       "</div>"
      ],
      "text/plain": [
       "  song_gn_dtl_gnr_basket  issue_date  \\\n",
       "0               [GN0901]    20140512   \n",
       "1       [GN1601, GN1606]    20080421   \n",
       "2               [GN0901]    20180518   \n",
       "3       [GN1102, GN1101]    20151016   \n",
       "4       [GN1802, GN1801]    20110824   \n",
       "\n",
       "                                          album_name  album_id  \\\n",
       "0                       불후의 명곡 - 7080 추억의 얄개시대 팝송베스트   2255639   \n",
       "1                      Bach : Partitas Nos. 2, 3 & 4    376431   \n",
       "2                                                Hit   4698747   \n",
       "3  Feeling Right (Everything Is Nice) (Feat. Popc...   2644882   \n",
       "4                                            그남자 그여자   2008470   \n",
       "\n",
       "  artist_id_basket                                          song_name  \\\n",
       "0           [2727]                                           Feelings   \n",
       "1          [29966]  Bach : Partita No. 4 In D Major, BWV 828 - II....   \n",
       "2           [3361]                    Solsbury Hill (Remastered 2002)   \n",
       "3         [838543]  Feeling Right (Everything Is Nice) (Feat. Popc...   \n",
       "4         [560160]                                            그남자 그여자   \n",
       "\n",
       "  song_gn_gnr_basket artist_name_basket  id  song_gn_dtl_gnr_basket_cnt  \\\n",
       "0             GN0900  [Various Artists]   0                           1   \n",
       "1             GN1600   [Murray Perahia]   1                           2   \n",
       "2             GN0900    [Peter Gabriel]   2                           1   \n",
       "3             GN1100           [Matoma]   3                           2   \n",
       "4             GN1800         [Jude Law]   4                           2   \n",
       "\n",
       "  gnr_name  \n",
       "0      POP  \n",
       "1      클래식  \n",
       "2      POP  \n",
       "3   일렉트로니카  \n",
       "4     뉴에이지  "
      ]
     },
     "execution_count": 17,
     "metadata": {},
     "output_type": "execute_result"
    }
   ],
   "source": [
    "# 대분류 장르와 song_meta merge\n",
    "song_meta_merge = pd.merge(song_meta_ex, gnr_big, how='left', left_on='song_gn_gnr_basket', right_on='gnr_code')\n",
    "song_meta_merge.drop('gnr_code', axis=1, inplace=True)\n",
    "song_meta_merge.head()"
   ]
  },
  {
   "cell_type": "code",
   "execution_count": 18,
   "metadata": {},
   "outputs": [],
   "source": [
    "song_meta_gnr_code = song_meta_merge.groupby('id')['song_gn_gnr_basket'].apply(list).reset_index() # 하나의 song에 대해 하나의 대분류 장르코드 list로 만들기\n",
    "song_meta_gnr_name = song_meta_merge.groupby('id')['gnr_name'].apply(list).reset_index() # 하나의 song에 대해 하나의 대분류 장르명 list로 만들기"
   ]
  },
  {
   "cell_type": "code",
   "execution_count": 19,
   "metadata": {},
   "outputs": [],
   "source": [
    "song_meta_f = pd.merge(song_meta_merge, song_meta_gnr_code, how='left', on='id') # 장르코드 list와 merge\n",
    "song_meta_f = pd.merge(song_meta_f, song_meta_gnr_name, how='left', on='id') # 장르명 list와 merge"
   ]
  },
  {
   "cell_type": "code",
   "execution_count": 20,
   "metadata": {},
   "outputs": [
    {
     "data": {
      "text/html": [
       "<div>\n",
       "<style scoped>\n",
       "    .dataframe tbody tr th:only-of-type {\n",
       "        vertical-align: middle;\n",
       "    }\n",
       "\n",
       "    .dataframe tbody tr th {\n",
       "        vertical-align: top;\n",
       "    }\n",
       "\n",
       "    .dataframe thead th {\n",
       "        text-align: right;\n",
       "    }\n",
       "</style>\n",
       "<table border=\"1\" class=\"dataframe\">\n",
       "  <thead>\n",
       "    <tr style=\"text-align: right;\">\n",
       "      <th></th>\n",
       "      <th>song_gn_dtl_gnr_basket</th>\n",
       "      <th>issue_date</th>\n",
       "      <th>album_name</th>\n",
       "      <th>album_id</th>\n",
       "      <th>artist_id_basket</th>\n",
       "      <th>song_name</th>\n",
       "      <th>song_gn_gnr_basket</th>\n",
       "      <th>gnr_name</th>\n",
       "      <th>artist_name_basket</th>\n",
       "      <th>id</th>\n",
       "    </tr>\n",
       "  </thead>\n",
       "  <tbody>\n",
       "    <tr>\n",
       "      <th>0</th>\n",
       "      <td>[GN0901]</td>\n",
       "      <td>20140512</td>\n",
       "      <td>불후의 명곡 - 7080 추억의 얄개시대 팝송베스트</td>\n",
       "      <td>2255639</td>\n",
       "      <td>[2727]</td>\n",
       "      <td>Feelings</td>\n",
       "      <td>[GN0900]</td>\n",
       "      <td>[POP]</td>\n",
       "      <td>[Various Artists]</td>\n",
       "      <td>0</td>\n",
       "    </tr>\n",
       "    <tr>\n",
       "      <th>1</th>\n",
       "      <td>[GN1601, GN1606]</td>\n",
       "      <td>20080421</td>\n",
       "      <td>Bach : Partitas Nos. 2, 3 &amp; 4</td>\n",
       "      <td>376431</td>\n",
       "      <td>[29966]</td>\n",
       "      <td>Bach : Partita No. 4 In D Major, BWV 828 - II....</td>\n",
       "      <td>[GN1600]</td>\n",
       "      <td>[클래식]</td>\n",
       "      <td>[Murray Perahia]</td>\n",
       "      <td>1</td>\n",
       "    </tr>\n",
       "    <tr>\n",
       "      <th>2</th>\n",
       "      <td>[GN0901]</td>\n",
       "      <td>20180518</td>\n",
       "      <td>Hit</td>\n",
       "      <td>4698747</td>\n",
       "      <td>[3361]</td>\n",
       "      <td>Solsbury Hill (Remastered 2002)</td>\n",
       "      <td>[GN0900]</td>\n",
       "      <td>[POP]</td>\n",
       "      <td>[Peter Gabriel]</td>\n",
       "      <td>2</td>\n",
       "    </tr>\n",
       "    <tr>\n",
       "      <th>3</th>\n",
       "      <td>[GN1102, GN1101]</td>\n",
       "      <td>20151016</td>\n",
       "      <td>Feeling Right (Everything Is Nice) (Feat. Popc...</td>\n",
       "      <td>2644882</td>\n",
       "      <td>[838543]</td>\n",
       "      <td>Feeling Right (Everything Is Nice) (Feat. Popc...</td>\n",
       "      <td>[GN1100]</td>\n",
       "      <td>[일렉트로니카]</td>\n",
       "      <td>[Matoma]</td>\n",
       "      <td>3</td>\n",
       "    </tr>\n",
       "    <tr>\n",
       "      <th>4</th>\n",
       "      <td>[GN1802, GN1801]</td>\n",
       "      <td>20110824</td>\n",
       "      <td>그남자 그여자</td>\n",
       "      <td>2008470</td>\n",
       "      <td>[560160]</td>\n",
       "      <td>그남자 그여자</td>\n",
       "      <td>[GN1800]</td>\n",
       "      <td>[뉴에이지]</td>\n",
       "      <td>[Jude Law]</td>\n",
       "      <td>4</td>\n",
       "    </tr>\n",
       "  </tbody>\n",
       "</table>\n",
       "</div>"
      ],
      "text/plain": [
       "  song_gn_dtl_gnr_basket  issue_date  \\\n",
       "0               [GN0901]    20140512   \n",
       "1       [GN1601, GN1606]    20080421   \n",
       "2               [GN0901]    20180518   \n",
       "3       [GN1102, GN1101]    20151016   \n",
       "4       [GN1802, GN1801]    20110824   \n",
       "\n",
       "                                          album_name  album_id  \\\n",
       "0                       불후의 명곡 - 7080 추억의 얄개시대 팝송베스트   2255639   \n",
       "1                      Bach : Partitas Nos. 2, 3 & 4    376431   \n",
       "2                                                Hit   4698747   \n",
       "3  Feeling Right (Everything Is Nice) (Feat. Popc...   2644882   \n",
       "4                                            그남자 그여자   2008470   \n",
       "\n",
       "  artist_id_basket                                          song_name  \\\n",
       "0           [2727]                                           Feelings   \n",
       "1          [29966]  Bach : Partita No. 4 In D Major, BWV 828 - II....   \n",
       "2           [3361]                    Solsbury Hill (Remastered 2002)   \n",
       "3         [838543]  Feeling Right (Everything Is Nice) (Feat. Popc...   \n",
       "4         [560160]                                            그남자 그여자   \n",
       "\n",
       "  song_gn_gnr_basket  gnr_name artist_name_basket  id  \n",
       "0           [GN0900]     [POP]  [Various Artists]   0  \n",
       "1           [GN1600]     [클래식]   [Murray Perahia]   1  \n",
       "2           [GN0900]     [POP]    [Peter Gabriel]   2  \n",
       "3           [GN1100]  [일렉트로니카]           [Matoma]   3  \n",
       "4           [GN1800]    [뉴에이지]         [Jude Law]   4  "
      ]
     },
     "execution_count": 20,
     "metadata": {},
     "output_type": "execute_result"
    }
   ],
   "source": [
    "# 필요한 컬럼만 남기기\n",
    "song_meta_f = song_meta_f[['song_gn_dtl_gnr_basket', 'issue_date', 'album_name', 'album_id', 'artist_id_basket', 'song_name', 'song_gn_gnr_basket_y', 'gnr_name_y', 'artist_name_basket', 'id']]\n",
    "# 컬럼명 수정\n",
    "song_meta_f.rename(columns={'song_gn_gnr_basket_y':'song_gn_gnr_basket', 'gnr_name_y':'gnr_name'}, inplace=True)\n",
    "\n",
    "song_meta_f.head()"
   ]
  },
  {
   "cell_type": "code",
   "execution_count": 21,
   "metadata": {},
   "outputs": [],
   "source": [
    "song_meta_cleaned = song_meta_f.drop_duplicates(subset='id', keep='first') # id가 중복인 행에 대해 하나의 id행만 남기기"
   ]
  },
  {
   "cell_type": "code",
   "execution_count": 22,
   "metadata": {},
   "outputs": [
    {
     "name": "stdout",
     "output_type": "stream",
     "text": [
      "<class 'pandas.core.frame.DataFrame'>\n",
      "Int64Index: 703945 entries, 0 to 799765\n",
      "Data columns (total 10 columns):\n",
      " #   Column                  Non-Null Count   Dtype \n",
      "---  ------                  --------------   ----- \n",
      " 0   song_gn_dtl_gnr_basket  703945 non-null  object\n",
      " 1   issue_date              703945 non-null  int64 \n",
      " 2   album_name              703945 non-null  object\n",
      " 3   album_id                703945 non-null  int64 \n",
      " 4   artist_id_basket        703945 non-null  object\n",
      " 5   song_name               703945 non-null  object\n",
      " 6   song_gn_gnr_basket      703945 non-null  object\n",
      " 7   gnr_name                703945 non-null  object\n",
      " 8   artist_name_basket      703945 non-null  object\n",
      " 9   id                      703945 non-null  int64 \n",
      "dtypes: int64(3), object(7)\n",
      "memory usage: 59.1+ MB\n"
     ]
    }
   ],
   "source": [
    "song_meta_cleaned.info()"
   ]
  },
  {
   "cell_type": "code",
   "execution_count": 23,
   "metadata": {},
   "outputs": [],
   "source": [
    "# song_meta 저장\n",
    "song_meta_cleaned.to_json('../0_data/orgi_song_meta.json', orient='records')"
   ]
  },
  {
   "cell_type": "markdown",
   "metadata": {},
   "source": [
    "> 4. song_meta DB용으로 만들기"
   ]
  },
  {
   "cell_type": "code",
   "execution_count": 24,
   "metadata": {},
   "outputs": [
    {
     "name": "stderr",
     "output_type": "stream",
     "text": [
      "C:\\Users\\cg063\\AppData\\Local\\Temp\\ipykernel_12508\\593262896.py:2: SettingWithCopyWarning: \n",
      "A value is trying to be set on a copy of a slice from a DataFrame\n",
      "\n",
      "See the caveats in the documentation: https://pandas.pydata.org/pandas-docs/stable/user_guide/indexing.html#returning-a-view-versus-a-copy\n",
      "  song_meta_db.rename(columns={'id':'song_id', 'artist_name_basket':'artist_name_lst', 'gnr_name':'song_gnr_lst'}, inplace=True)\n"
     ]
    }
   ],
   "source": [
    "song_meta_db = song_meta_cleaned[['id', 'song_name', 'artist_name_basket', 'gnr_name']]\n",
    "song_meta_db.rename(columns={'id':'song_id', 'artist_name_basket':'artist_name_lst', 'gnr_name':'song_gnr_lst'}, inplace=True)"
   ]
  },
  {
   "cell_type": "code",
   "execution_count": 25,
   "metadata": {},
   "outputs": [
    {
     "data": {
      "text/html": [
       "<div>\n",
       "<style scoped>\n",
       "    .dataframe tbody tr th:only-of-type {\n",
       "        vertical-align: middle;\n",
       "    }\n",
       "\n",
       "    .dataframe tbody tr th {\n",
       "        vertical-align: top;\n",
       "    }\n",
       "\n",
       "    .dataframe thead th {\n",
       "        text-align: right;\n",
       "    }\n",
       "</style>\n",
       "<table border=\"1\" class=\"dataframe\">\n",
       "  <thead>\n",
       "    <tr style=\"text-align: right;\">\n",
       "      <th></th>\n",
       "      <th>song_id</th>\n",
       "      <th>song_name</th>\n",
       "      <th>artist_name_lst</th>\n",
       "      <th>song_gnr_lst</th>\n",
       "    </tr>\n",
       "  </thead>\n",
       "  <tbody>\n",
       "    <tr>\n",
       "      <th>0</th>\n",
       "      <td>0</td>\n",
       "      <td>Feelings</td>\n",
       "      <td>[Various Artists]</td>\n",
       "      <td>[POP]</td>\n",
       "    </tr>\n",
       "    <tr>\n",
       "      <th>1</th>\n",
       "      <td>1</td>\n",
       "      <td>Bach : Partita No. 4 In D Major, BWV 828 - II....</td>\n",
       "      <td>[Murray Perahia]</td>\n",
       "      <td>[클래식]</td>\n",
       "    </tr>\n",
       "    <tr>\n",
       "      <th>2</th>\n",
       "      <td>2</td>\n",
       "      <td>Solsbury Hill (Remastered 2002)</td>\n",
       "      <td>[Peter Gabriel]</td>\n",
       "      <td>[POP]</td>\n",
       "    </tr>\n",
       "    <tr>\n",
       "      <th>3</th>\n",
       "      <td>3</td>\n",
       "      <td>Feeling Right (Everything Is Nice) (Feat. Popc...</td>\n",
       "      <td>[Matoma]</td>\n",
       "      <td>[일렉트로니카]</td>\n",
       "    </tr>\n",
       "    <tr>\n",
       "      <th>4</th>\n",
       "      <td>4</td>\n",
       "      <td>그남자 그여자</td>\n",
       "      <td>[Jude Law]</td>\n",
       "      <td>[뉴에이지]</td>\n",
       "    </tr>\n",
       "  </tbody>\n",
       "</table>\n",
       "</div>"
      ],
      "text/plain": [
       "   song_id                                          song_name  \\\n",
       "0        0                                           Feelings   \n",
       "1        1  Bach : Partita No. 4 In D Major, BWV 828 - II....   \n",
       "2        2                    Solsbury Hill (Remastered 2002)   \n",
       "3        3  Feeling Right (Everything Is Nice) (Feat. Popc...   \n",
       "4        4                                            그남자 그여자   \n",
       "\n",
       "     artist_name_lst song_gnr_lst  \n",
       "0  [Various Artists]        [POP]  \n",
       "1   [Murray Perahia]        [클래식]  \n",
       "2    [Peter Gabriel]        [POP]  \n",
       "3           [Matoma]     [일렉트로니카]  \n",
       "4         [Jude Law]       [뉴에이지]  "
      ]
     },
     "execution_count": 25,
     "metadata": {},
     "output_type": "execute_result"
    }
   ],
   "source": [
    "song_meta_db.head()"
   ]
  },
  {
   "cell_type": "code",
   "execution_count": 26,
   "metadata": {},
   "outputs": [],
   "source": [
    "# db_song_meta 저장\n",
    "song_meta_db.to_json('../0_data/db_song_meta.json', orient='records')"
   ]
  },
  {
   "cell_type": "markdown",
   "metadata": {},
   "source": [
    "### 2. playlists"
   ]
  },
  {
   "cell_type": "markdown",
   "metadata": {},
   "source": [
    "> 0. 장르정보, GN9000대분류 장르였던 노래들 삭제"
   ]
  },
  {
   "cell_type": "code",
   "execution_count": 27,
   "metadata": {},
   "outputs": [],
   "source": [
    "# song_meta에서 삭제한 to_del_song_id들을 playlists에서도 삭제\n",
    "playlists['songs'] = playlists['songs'].apply(lambda x: [song for song in x if song not in to_del_song_id])"
   ]
  },
  {
   "cell_type": "code",
   "execution_count": 28,
   "metadata": {},
   "outputs": [],
   "source": [
    "# songs가 비어 있는 행이 있는지 확인 -> 10개(아기 클래식, 뮤지컬 동화, 자장가 등)\n",
    "playlists[playlists['songs'].apply(lambda x: len(x) == 0)] \n",
    "\n",
    "# 비어 있는 행은 삭제\n",
    "playlists = playlists[playlists['songs'].apply(lambda x: len(x) != 0)] "
   ]
  },
  {
   "cell_type": "code",
   "execution_count": 29,
   "metadata": {},
   "outputs": [
    {
     "name": "stdout",
     "output_type": "stream",
     "text": [
      "<class 'pandas.core.frame.DataFrame'>\n",
      "Int64Index: 115061 entries, 0 to 115070\n",
      "Data columns (total 6 columns):\n",
      " #   Column        Non-Null Count   Dtype \n",
      "---  ------        --------------   ----- \n",
      " 0   tags          115061 non-null  object\n",
      " 1   id            115061 non-null  int64 \n",
      " 2   plylst_title  115061 non-null  object\n",
      " 3   songs         115061 non-null  object\n",
      " 4   like_cnt      115061 non-null  int64 \n",
      " 5   updt_date     115061 non-null  object\n",
      "dtypes: int64(2), object(4)\n",
      "memory usage: 6.1+ MB\n"
     ]
    }
   ],
   "source": [
    "playlists.info() # 10행 삭제"
   ]
  },
  {
   "cell_type": "markdown",
   "metadata": {},
   "source": [
    "> 1. 타이틀, 태그 불용어 처리"
   ]
  },
  {
   "cell_type": "markdown",
   "metadata": {},
   "source": [
    "- 타이틀 특수문자 제거"
   ]
  },
  {
   "cell_type": "code",
   "execution_count": 30,
   "metadata": {},
   "outputs": [],
   "source": [
    "# 이모지 제거 함수\n",
    "def replace_emoji(inputString):\n",
    "    return core.replace_emoji(inputString, replace='')\n",
    "\n",
    "# 특수문자 제거 함수\n",
    "def clean_text(inputString):\n",
    "  text_rmv = re.sub('[-=+,#/\\?:^●○.@*\\\"※~ㆍ!<>$♥❤♡☆★♪♬♩¶♨①๑｡＊②ఇ¥◈ ͡✔ ͡° ͜ʖ▶◀◎ღ✿ﾉ ;\\\\\\_■『│』ᕷⓗ‘|\\(\\)\\[\\]`\\'…》\\”\\“\\’·]',' ', inputString)\n",
    "  return text_rmv"
   ]
  },
  {
   "cell_type": "code",
   "execution_count": 31,
   "metadata": {},
   "outputs": [],
   "source": [
    "# # 이모지 제거 함수 적용\n",
    "playlists['plylst_title'] = playlists['plylst_title'].apply(replace_emoji)\n",
    "\n",
    "# 특수문자 제거 함수 적용\n",
    "playlists['plylst_title'] = playlists['plylst_title'].apply(clean_text)"
   ]
  },
  {
   "cell_type": "code",
   "execution_count": 32,
   "metadata": {},
   "outputs": [],
   "source": [
    "# 양 옆 공백, %, & 제거\n",
    "\n",
    "playlists['plylst_title'] = playlists['plylst_title'].str.strip()\n",
    "playlists['plylst_title'] = playlists['plylst_title'].str.strip('%')\n",
    "playlists['plylst_title'] = playlists['plylst_title'].str.strip('&')"
   ]
  },
  {
   "cell_type": "code",
   "execution_count": 33,
   "metadata": {},
   "outputs": [
    {
     "data": {
      "text/html": [
       "<div>\n",
       "<style scoped>\n",
       "    .dataframe tbody tr th:only-of-type {\n",
       "        vertical-align: middle;\n",
       "    }\n",
       "\n",
       "    .dataframe tbody tr th {\n",
       "        vertical-align: top;\n",
       "    }\n",
       "\n",
       "    .dataframe thead th {\n",
       "        text-align: right;\n",
       "    }\n",
       "</style>\n",
       "<table border=\"1\" class=\"dataframe\">\n",
       "  <thead>\n",
       "    <tr style=\"text-align: right;\">\n",
       "      <th></th>\n",
       "      <th>tags</th>\n",
       "      <th>id</th>\n",
       "      <th>plylst_title</th>\n",
       "      <th>songs</th>\n",
       "      <th>like_cnt</th>\n",
       "      <th>updt_date</th>\n",
       "    </tr>\n",
       "  </thead>\n",
       "  <tbody>\n",
       "    <tr>\n",
       "      <th>56134</th>\n",
       "      <td>[흥폭발]</td>\n",
       "      <td>22525</td>\n",
       "      <td>내적댄스 터져베이베       아이돌 노래노래</td>\n",
       "      <td>[108003, 594076, 297411, 97189, 35713, 445680,...</td>\n",
       "      <td>41</td>\n",
       "      <td>2018-06-15 19:24:26.000</td>\n",
       "    </tr>\n",
       "    <tr>\n",
       "      <th>59162</th>\n",
       "      <td>[가을, 설렘, 사랑]</td>\n",
       "      <td>143039</td>\n",
       "      <td>가을이다     o     곧 겨울이다     T T</td>\n",
       "      <td>[13142, 5049, 503816, 70166, 578529, 336829, 2...</td>\n",
       "      <td>1</td>\n",
       "      <td>2018-07-31 10:55:04.000</td>\n",
       "    </tr>\n",
       "  </tbody>\n",
       "</table>\n",
       "</div>"
      ],
      "text/plain": [
       "               tags      id                   plylst_title  \\\n",
       "56134         [흥폭발]   22525      내적댄스 터져베이베       아이돌 노래노래   \n",
       "59162  [가을, 설렘, 사랑]  143039  가을이다     o     곧 겨울이다     T T   \n",
       "\n",
       "                                                   songs  like_cnt  \\\n",
       "56134  [108003, 594076, 297411, 97189, 35713, 445680,...        41   \n",
       "59162  [13142, 5049, 503816, 70166, 578529, 336829, 2...         1   \n",
       "\n",
       "                     updt_date  \n",
       "56134  2018-06-15 19:24:26.000  \n",
       "59162  2018-07-31 10:55:04.000  "
      ]
     },
     "execution_count": 33,
     "metadata": {},
     "output_type": "execute_result"
    }
   ],
   "source": [
    "playlists[playlists['id'].isin([22525, 143039])]"
   ]
  },
  {
   "cell_type": "markdown",
   "metadata": {},
   "source": [
    "- 태그 특수문자 제거"
   ]
  },
  {
   "cell_type": "code",
   "execution_count": 34,
   "metadata": {},
   "outputs": [
    {
     "data": {
      "text/plain": [
       "148                            [비오는날, 비_오는_날, 휴식, 비_오는날, 비]\n",
       "285                                [상쾌해지는, 호불호없는, 모두가_흥얼흥얼]\n",
       "364        [추천, 일렉트로니카, 5월_4주차, 주간, 최신, 전지음악, 인기, 주간일렉트로니카]\n",
       "409                      [들었으면, 인디음악, 한번쯤, 이미지는_직접찍은사진, 인디]\n",
       "522       [힙합, label_crew, 랩, 국내힙합, 트렌드, 쇼미더머니, 스웨그, aom...\n",
       "                                ...                        \n",
       "114625                                   [칠_Chill, 설레는_달콤함]\n",
       "114647                     [우울, 위로, 위로가_필요할_때, 슬픔, 이별, 힘든날]\n",
       "114688    [어쿠스틱, 혼자, 발라드, 우울, 분위기, 멜로디, 띵곡들, 조용한, 자기_전, 인디]\n",
       "114703    [패션위크, 뉴욕, 도시, 갈라쇼음악, 트렌디, 팝, 편집샵, i_know_it, ...\n",
       "115068               [담시, 가족, 눈물, 그리움, 주인공, 나의_이야기, 사랑, 친구]\n",
       "Name: tags, Length: 2252, dtype: object"
      ]
     },
     "execution_count": 34,
     "metadata": {},
     "output_type": "execute_result"
    }
   ],
   "source": [
    "# 특수문자 '_'가 있는 행 찾기\n",
    "# '_'가 있는 행 찾기\n",
    "rows_with_underscore = playlists['tags'][playlists['tags'].apply(lambda x: any('_' in tag for tag in x))]\n",
    "rows_with_underscore"
   ]
  },
  {
   "cell_type": "code",
   "execution_count": 35,
   "metadata": {},
   "outputs": [],
   "source": [
    "# 특수 문자를 제거하는 함수 정의\n",
    "def remove_special_characters(tag_list):\n",
    "    cleaned_tags = []\n",
    "    for tag in tag_list:\n",
    "        cleaned_tag = re.sub(r'[^\\uAC00-\\uD7A30-9a-zA-Z\\s]', '', tag).replace(\" \", \"\")\n",
    "        cleaned_tags.append(cleaned_tag)\n",
    "    return cleaned_tags\n",
    "\n",
    "# 함수 적용\n",
    "playlists['tags'] = playlists['tags'].apply(remove_special_characters)"
   ]
  },
  {
   "cell_type": "code",
   "execution_count": 36,
   "metadata": {},
   "outputs": [
    {
     "data": {
      "text/html": [
       "<div>\n",
       "<style scoped>\n",
       "    .dataframe tbody tr th:only-of-type {\n",
       "        vertical-align: middle;\n",
       "    }\n",
       "\n",
       "    .dataframe tbody tr th {\n",
       "        vertical-align: top;\n",
       "    }\n",
       "\n",
       "    .dataframe thead th {\n",
       "        text-align: right;\n",
       "    }\n",
       "</style>\n",
       "<table border=\"1\" class=\"dataframe\">\n",
       "  <thead>\n",
       "    <tr style=\"text-align: right;\">\n",
       "      <th></th>\n",
       "      <th>tags</th>\n",
       "      <th>id</th>\n",
       "      <th>plylst_title</th>\n",
       "      <th>songs</th>\n",
       "      <th>like_cnt</th>\n",
       "      <th>updt_date</th>\n",
       "    </tr>\n",
       "  </thead>\n",
       "  <tbody>\n",
       "    <tr>\n",
       "      <th>148</th>\n",
       "      <td>[비오는날, 비오는날, 휴식, 비오는날, 비]</td>\n",
       "      <td>32533</td>\n",
       "      <td>비오는날 감성 자극 듣기 좋은 어쿠스틱 피아노 발라드</td>\n",
       "      <td>[133091, 527764, 468136, 260894, 22845, 148876...</td>\n",
       "      <td>14</td>\n",
       "      <td>2020-02-16 00:56:45.000</td>\n",
       "    </tr>\n",
       "    <tr>\n",
       "      <th>285</th>\n",
       "      <td>[상쾌해지는, 호불호없는, 모두가흥얼흥얼]</td>\n",
       "      <td>151357</td>\n",
       "      <td>기분좋아지는 노래들</td>\n",
       "      <td>[270061, 158766, 573179, 272062, 37027, 245028...</td>\n",
       "      <td>0</td>\n",
       "      <td>2019-11-24 05:49:55.000</td>\n",
       "    </tr>\n",
       "    <tr>\n",
       "      <th>115068</th>\n",
       "      <td>[담시, 가족, 눈물, 그리움, 주인공, 나의이야기, 사랑, 친구]</td>\n",
       "      <td>11343</td>\n",
       "      <td>1  눈물이 앞을 가리는 나의 이야기</td>\n",
       "      <td>[50512, 249024, 250608, 371171, 229942, 694943...</td>\n",
       "      <td>4</td>\n",
       "      <td>2019-08-16 20:59:22.000</td>\n",
       "    </tr>\n",
       "  </tbody>\n",
       "</table>\n",
       "</div>"
      ],
      "text/plain": [
       "                                         tags      id  \\\n",
       "148                 [비오는날, 비오는날, 휴식, 비오는날, 비]   32533   \n",
       "285                   [상쾌해지는, 호불호없는, 모두가흥얼흥얼]  151357   \n",
       "115068  [담시, 가족, 눈물, 그리움, 주인공, 나의이야기, 사랑, 친구]   11343   \n",
       "\n",
       "                         plylst_title  \\\n",
       "148     비오는날 감성 자극 듣기 좋은 어쿠스틱 피아노 발라드   \n",
       "285                        기분좋아지는 노래들   \n",
       "115068           1  눈물이 앞을 가리는 나의 이야기   \n",
       "\n",
       "                                                    songs  like_cnt  \\\n",
       "148     [133091, 527764, 468136, 260894, 22845, 148876...        14   \n",
       "285     [270061, 158766, 573179, 272062, 37027, 245028...         0   \n",
       "115068  [50512, 249024, 250608, 371171, 229942, 694943...         4   \n",
       "\n",
       "                      updt_date  \n",
       "148     2020-02-16 00:56:45.000  \n",
       "285     2019-11-24 05:49:55.000  \n",
       "115068  2019-08-16 20:59:22.000  "
      ]
     },
     "execution_count": 36,
     "metadata": {},
     "output_type": "execute_result"
    }
   ],
   "source": [
    "playlists[playlists['id'].isin([32533, 151357, 11343])]"
   ]
  },
  {
   "cell_type": "code",
   "execution_count": 37,
   "metadata": {},
   "outputs": [],
   "source": [
    "# 플레이리스트 타이틀이 1글자인 조건 만들기\n",
    "playlists_title_1str = playlists[playlists['plylst_title'].str.len() == 1]\n",
    "playlists_title_1str = list(playlists_title_1str['id'].values) # 24 -> 롹, 잠, 쿨, 힙 등이며 대부분 좋아요 0 또는 1\n",
    "# playlists[playlists['id'] == 98628]\n",
    "\n",
    "# 삭제\n",
    "playlists = playlists[playlists['plylst_title'].str.len() != 1]"
   ]
  },
  {
   "cell_type": "code",
   "execution_count": 38,
   "metadata": {},
   "outputs": [
    {
     "name": "stdout",
     "output_type": "stream",
     "text": [
      "<class 'pandas.core.frame.DataFrame'>\n",
      "Int64Index: 114697 entries, 0 to 115070\n",
      "Data columns (total 6 columns):\n",
      " #   Column        Non-Null Count   Dtype \n",
      "---  ------        --------------   ----- \n",
      " 0   tags          114697 non-null  object\n",
      " 1   id            114697 non-null  int64 \n",
      " 2   plylst_title  114697 non-null  object\n",
      " 3   songs         114697 non-null  object\n",
      " 4   like_cnt      114697 non-null  int64 \n",
      " 5   updt_date     114697 non-null  object\n",
      "dtypes: int64(2), object(4)\n",
      "memory usage: 6.1+ MB\n"
     ]
    }
   ],
   "source": [
    "# 빈 타이틀 삭제\n",
    "playlists = playlists[playlists['plylst_title'] != '']\n",
    "\n",
    "# 숫자로만 구성된 타이틀 삭제\n",
    "numeric_title_rows = playlists[playlists['plylst_title'].str.isnumeric()]\n",
    "indices_to_remove = numeric_title_rows.index\n",
    "playlists = playlists.drop(indices_to_remove)\n",
    "\n",
    "playlists.info()\n",
    "\n",
    "\n",
    "# 115061  - 114697  = 364행 삭제"
   ]
  },
  {
   "cell_type": "markdown",
   "metadata": {},
   "source": [
    "> 2. 타이틀 중복 제거(기준 : 노래 개수 or 좋아요 개수)"
   ]
  },
  {
   "cell_type": "code",
   "execution_count": 39,
   "metadata": {},
   "outputs": [
    {
     "data": {
      "text/html": [
       "<div>\n",
       "<style scoped>\n",
       "    .dataframe tbody tr th:only-of-type {\n",
       "        vertical-align: middle;\n",
       "    }\n",
       "\n",
       "    .dataframe tbody tr th {\n",
       "        vertical-align: top;\n",
       "    }\n",
       "\n",
       "    .dataframe thead th {\n",
       "        text-align: right;\n",
       "    }\n",
       "</style>\n",
       "<table border=\"1\" class=\"dataframe\">\n",
       "  <thead>\n",
       "    <tr style=\"text-align: right;\">\n",
       "      <th></th>\n",
       "      <th>plylst_title</th>\n",
       "      <th>mapping_plylst_cnt</th>\n",
       "    </tr>\n",
       "    <tr>\n",
       "      <th>mapping_plylst_cnt_category</th>\n",
       "      <th></th>\n",
       "      <th></th>\n",
       "    </tr>\n",
       "  </thead>\n",
       "  <tbody>\n",
       "    <tr>\n",
       "      <th>중복 없음</th>\n",
       "      <td>106515</td>\n",
       "      <td>106515</td>\n",
       "    </tr>\n",
       "    <tr>\n",
       "      <th>중복 있음</th>\n",
       "      <td>2722</td>\n",
       "      <td>2722</td>\n",
       "    </tr>\n",
       "  </tbody>\n",
       "</table>\n",
       "</div>"
      ],
      "text/plain": [
       "                             plylst_title  mapping_plylst_cnt\n",
       "mapping_plylst_cnt_category                                  \n",
       "중복 없음                              106515              106515\n",
       "중복 있음                                2722                2722"
      ]
     },
     "execution_count": 39,
     "metadata": {},
     "output_type": "execute_result"
    }
   ],
   "source": [
    "# 1. 플레이리스트 아이디(id)와 플레이리스트 명(plylst_title) 추출\n",
    "plylst_title = playlists[['id', 'plylst_title']]\n",
    "\n",
    "# 2. 플레이리스트 이름 별 플레이리스트 ID count 테이블 생성 : plylst_id_cnt\n",
    "plylst_id_cnt = plylst_title.groupby('plylst_title').id.nunique().reset_index(name = 'mapping_plylst_cnt')\n",
    "\n",
    "# 3. 플레이리스트 명 중복 구분 : 서로 다른 플레이리스트 아이디로 겹치는 플레이리스트 이름이 없으면 '중복 없음', 그 외 '중복 있음'\n",
    "plylst_id_cnt = plylst_id_cnt.assign(\n",
    "    mapping_plylst_cnt_category = pd.cut(plylst_id_cnt['mapping_plylst_cnt'], [0, 1, np.inf], labels = ['중복 없음', '중복 있음'])\n",
    ")\n",
    "plylst_id_cnt\n",
    "# [0, 1, np.inf] : 0이상 1미만 값 = 중복없음, 1이상의 값 = 중복있음\n",
    "\n",
    "# 4. 중복 구분 별 플레이리스트 수 count 테이블 생성 : plylst_id_cnt_division\n",
    "plylst_id_cnt_division = pd.DataFrame(plylst_id_cnt.groupby('mapping_plylst_cnt_category').count())\n",
    "plylst_id_cnt_division"
   ]
  },
  {
   "cell_type": "code",
   "execution_count": 40,
   "metadata": {},
   "outputs": [
    {
     "data": {
      "text/html": [
       "<div>\n",
       "<style scoped>\n",
       "    .dataframe tbody tr th:only-of-type {\n",
       "        vertical-align: middle;\n",
       "    }\n",
       "\n",
       "    .dataframe tbody tr th {\n",
       "        vertical-align: top;\n",
       "    }\n",
       "\n",
       "    .dataframe thead th {\n",
       "        text-align: right;\n",
       "    }\n",
       "</style>\n",
       "<table border=\"1\" class=\"dataframe\">\n",
       "  <thead>\n",
       "    <tr style=\"text-align: right;\">\n",
       "      <th></th>\n",
       "      <th>tags</th>\n",
       "      <th>id</th>\n",
       "      <th>plylst_title</th>\n",
       "      <th>songs</th>\n",
       "      <th>like_cnt</th>\n",
       "      <th>updt_date</th>\n",
       "      <th>mapping_plylst_cnt</th>\n",
       "      <th>mapping_plylst_cnt_category</th>\n",
       "      <th>song_cnt</th>\n",
       "      <th>tag_cnt</th>\n",
       "    </tr>\n",
       "  </thead>\n",
       "  <tbody>\n",
       "    <tr>\n",
       "      <th>16</th>\n",
       "      <td>[감성, 질리지않는, 나만알고싶은, Pop]</td>\n",
       "      <td>1516</td>\n",
       "      <td>나만 알고싶은 노래들</td>\n",
       "      <td>[331055, 99287, 310974, 376435, 146989, 430106...</td>\n",
       "      <td>1</td>\n",
       "      <td>2018-01-02 12:10:59.000</td>\n",
       "      <td>4</td>\n",
       "      <td>중복 있음</td>\n",
       "      <td>31</td>\n",
       "      <td>4</td>\n",
       "    </tr>\n",
       "    <tr>\n",
       "      <th>17</th>\n",
       "      <td>[기분전환, 까페]</td>\n",
       "      <td>86179</td>\n",
       "      <td>나만 알고싶은 노래들</td>\n",
       "      <td>[480142, 578916, 467225, 701072, 197046, 63557...</td>\n",
       "      <td>6</td>\n",
       "      <td>2016-10-06 02:08:40.000</td>\n",
       "      <td>4</td>\n",
       "      <td>중복 있음</td>\n",
       "      <td>46</td>\n",
       "      <td>2</td>\n",
       "    </tr>\n",
       "    <tr>\n",
       "      <th>18</th>\n",
       "      <td>[숨은명곡, 좋은노래]</td>\n",
       "      <td>54673</td>\n",
       "      <td>나만 알고싶은 노래들</td>\n",
       "      <td>[113618, 422482, 380069, 75425, 79141, 657137,...</td>\n",
       "      <td>7</td>\n",
       "      <td>2016-07-15 10:20:17.000</td>\n",
       "      <td>4</td>\n",
       "      <td>중복 있음</td>\n",
       "      <td>23</td>\n",
       "      <td>2</td>\n",
       "    </tr>\n",
       "    <tr>\n",
       "      <th>19</th>\n",
       "      <td>[감성힙합, 나만알고싶은, 뿜뿜, 그루브, 노래, 감성]</td>\n",
       "      <td>135616</td>\n",
       "      <td>나만 알고싶은 노래들</td>\n",
       "      <td>[470548, 603591, 382764, 288501, 187291, 37802...</td>\n",
       "      <td>30</td>\n",
       "      <td>2018-07-13 08:18:54.000</td>\n",
       "      <td>4</td>\n",
       "      <td>중복 있음</td>\n",
       "      <td>45</td>\n",
       "      <td>6</td>\n",
       "    </tr>\n",
       "    <tr>\n",
       "      <th>44</th>\n",
       "      <td>[기분전환, 가을]</td>\n",
       "      <td>105328</td>\n",
       "      <td>트렌디한 Cafe Pop Music</td>\n",
       "      <td>[419702, 403579, 472776, 502078, 662300, 44363...</td>\n",
       "      <td>55</td>\n",
       "      <td>2014-09-18 11:29:55.000</td>\n",
       "      <td>2</td>\n",
       "      <td>중복 있음</td>\n",
       "      <td>16</td>\n",
       "      <td>2</td>\n",
       "    </tr>\n",
       "  </tbody>\n",
       "</table>\n",
       "</div>"
      ],
      "text/plain": [
       "                               tags      id         plylst_title  \\\n",
       "16         [감성, 질리지않는, 나만알고싶은, Pop]    1516          나만 알고싶은 노래들   \n",
       "17                       [기분전환, 까페]   86179          나만 알고싶은 노래들   \n",
       "18                     [숨은명곡, 좋은노래]   54673          나만 알고싶은 노래들   \n",
       "19  [감성힙합, 나만알고싶은, 뿜뿜, 그루브, 노래, 감성]  135616          나만 알고싶은 노래들   \n",
       "44                       [기분전환, 가을]  105328  트렌디한 Cafe Pop Music   \n",
       "\n",
       "                                                songs  like_cnt  \\\n",
       "16  [331055, 99287, 310974, 376435, 146989, 430106...         1   \n",
       "17  [480142, 578916, 467225, 701072, 197046, 63557...         6   \n",
       "18  [113618, 422482, 380069, 75425, 79141, 657137,...         7   \n",
       "19  [470548, 603591, 382764, 288501, 187291, 37802...        30   \n",
       "44  [419702, 403579, 472776, 502078, 662300, 44363...        55   \n",
       "\n",
       "                  updt_date  mapping_plylst_cnt mapping_plylst_cnt_category  \\\n",
       "16  2018-01-02 12:10:59.000                   4                       중복 있음   \n",
       "17  2016-10-06 02:08:40.000                   4                       중복 있음   \n",
       "18  2016-07-15 10:20:17.000                   4                       중복 있음   \n",
       "19  2018-07-13 08:18:54.000                   4                       중복 있음   \n",
       "44  2014-09-18 11:29:55.000                   2                       중복 있음   \n",
       "\n",
       "    song_cnt  tag_cnt  \n",
       "16        31        4  \n",
       "17        46        2  \n",
       "18        23        2  \n",
       "19        45        6  \n",
       "44        16        2  "
      ]
     },
     "execution_count": 40,
     "metadata": {},
     "output_type": "execute_result"
    }
   ],
   "source": [
    "# 플레이리스트 타이틀을 기준으로 merge해 중복된 플레이리스트만 확인\n",
    "playlists_dup = pd.merge(playlists, plylst_id_cnt, on='plylst_title')\n",
    "playlists_dup= playlists_dup[playlists_dup['mapping_plylst_cnt_category'] == '중복 있음']\n",
    "playlists_dup['song_cnt'] = playlists_dup['songs'].apply(len)\n",
    "playlists_dup['tag_cnt'] = playlists_dup['tags'].apply(len)\n",
    "playlists_dup.head()"
   ]
  },
  {
   "cell_type": "code",
   "execution_count": 41,
   "metadata": {},
   "outputs": [
    {
     "data": {
      "text/plain": [
       "Counter({2: 1544,\n",
       "         1: 507,\n",
       "         3: 344,\n",
       "         4: 131,\n",
       "         5: 58,\n",
       "         6: 45,\n",
       "         7: 30,\n",
       "         9: 6,\n",
       "         14: 5,\n",
       "         20: 2,\n",
       "         8: 20,\n",
       "         15: 5,\n",
       "         11: 7,\n",
       "         10: 6,\n",
       "         16: 3,\n",
       "         13: 3,\n",
       "         25: 1,\n",
       "         12: 2,\n",
       "         19: 1,\n",
       "         22: 1,\n",
       "         17: 1})"
      ]
     },
     "execution_count": 41,
     "metadata": {},
     "output_type": "execute_result"
    }
   ],
   "source": [
    "# 같은 타이틀을 가진 플레이리스트의 노래 개수 비교\n",
    "# playlists_dup에서 타이틀별로 groupby 후 song_cnt 값들을 song_cnt_nunique(새 컬럼)에 리스트 형태로 넣은 후 중복을 없애기 위해 set 진행\n",
    "# 1의 의미는 노래 갯수가 중복되어 있다는 뜻이기 때문에 1의 갯수가 적은 지표를 기준으로 중복 플레이리스트 제거를 진행해야함\n",
    "from collections import Counter\n",
    "\n",
    "playlists_dup_song_cnt = playlists_dup.groupby('plylst_title')['song_cnt'].apply(list).reset_index()\n",
    "playlists_dup_song_cnt['song_cnt_nunique'] = playlists_dup_song_cnt['song_cnt'].apply(lambda x: len(set(x)))\n",
    "Counter(playlists_dup_song_cnt['song_cnt_nunique'])"
   ]
  },
  {
   "cell_type": "code",
   "execution_count": 42,
   "metadata": {},
   "outputs": [
    {
     "data": {
      "text/plain": [
       "Counter({1: 1225, 3: 183, 2: 1222, 4: 59, 5: 20, 6: 9, 7: 4})"
      ]
     },
     "execution_count": 42,
     "metadata": {},
     "output_type": "execute_result"
    }
   ],
   "source": [
    "# 같은 타이틀을 가진 플레이리스트의 태그 개수 비교\n",
    "\n",
    "playlists_dup_tag_cnt = playlists_dup.groupby('plylst_title')['tag_cnt'].apply(list).reset_index()\n",
    "playlists_dup_tag_cnt['tag_cnt_nunique'] = playlists_dup_tag_cnt['tag_cnt'].apply(lambda x: len(set(x)))\n",
    "Counter(playlists_dup_tag_cnt['tag_cnt_nunique'])"
   ]
  },
  {
   "cell_type": "code",
   "execution_count": 43,
   "metadata": {},
   "outputs": [
    {
     "data": {
      "text/plain": [
       "Counter({1: 431,\n",
       "         2: 1741,\n",
       "         3: 311,\n",
       "         4: 102,\n",
       "         5: 54,\n",
       "         6: 32,\n",
       "         7: 14,\n",
       "         11: 4,\n",
       "         9: 7,\n",
       "         13: 2,\n",
       "         10: 4,\n",
       "         12: 5,\n",
       "         8: 10,\n",
       "         15: 1,\n",
       "         14: 2,\n",
       "         18: 1,\n",
       "         24: 1})"
      ]
     },
     "execution_count": 43,
     "metadata": {},
     "output_type": "execute_result"
    }
   ],
   "source": [
    "# 같은 타이틀을 가진 플레이리스트의 좋아요 비교\n",
    "\n",
    "playlists_dup_like_cnt = playlists_dup.groupby('plylst_title')['like_cnt'].apply(list).reset_index()\n",
    "playlists_dup_like_cnt['like_cnt_nunique'] = playlists_dup_like_cnt['like_cnt'].apply(lambda x: len(set(x)))\n",
    "Counter(playlists_dup_like_cnt['like_cnt_nunique'])"
   ]
  },
  {
   "cell_type": "markdown",
   "metadata": {},
   "source": [
    "- 플레이리스트 타이틀이 중복인 플레이리스트만 따로 모으고\n",
    "- 그 중복 플리모음 중 노래갯수가 가장 많은 하나만 남겨두고\n",
    "- 원래 train의 중복 없음만 따로 모아 중복모음과 concat"
   ]
  },
  {
   "cell_type": "code",
   "execution_count": 44,
   "metadata": {},
   "outputs": [
    {
     "data": {
      "text/html": [
       "<div>\n",
       "<style scoped>\n",
       "    .dataframe tbody tr th:only-of-type {\n",
       "        vertical-align: middle;\n",
       "    }\n",
       "\n",
       "    .dataframe tbody tr th {\n",
       "        vertical-align: top;\n",
       "    }\n",
       "\n",
       "    .dataframe thead th {\n",
       "        text-align: right;\n",
       "    }\n",
       "</style>\n",
       "<table border=\"1\" class=\"dataframe\">\n",
       "  <thead>\n",
       "    <tr style=\"text-align: right;\">\n",
       "      <th></th>\n",
       "      <th>tags</th>\n",
       "      <th>id</th>\n",
       "      <th>plylst_title</th>\n",
       "      <th>songs</th>\n",
       "      <th>like_cnt</th>\n",
       "      <th>updt_date</th>\n",
       "      <th>mapping_plylst_cnt</th>\n",
       "      <th>mapping_plylst_cnt_category</th>\n",
       "      <th>song_cnt</th>\n",
       "    </tr>\n",
       "  </thead>\n",
       "  <tbody>\n",
       "    <tr>\n",
       "      <th>8531</th>\n",
       "      <td>[집중, 어쿠스틱, 혼자, 발라드, 우울, 드라이브, 산책, 조용조용, 띵곡들, 인디]</td>\n",
       "      <td>152785</td>\n",
       "      <td>혼자만의 시간이 필요할때</td>\n",
       "      <td>[208812, 629738, 232874, 13281, 193232, 389468...</td>\n",
       "      <td>1</td>\n",
       "      <td>2020-03-26 06:14:54.000</td>\n",
       "      <td>43</td>\n",
       "      <td>중복 있음</td>\n",
       "      <td>81</td>\n",
       "    </tr>\n",
       "    <tr>\n",
       "      <th>8518</th>\n",
       "      <td>[어쿠스틱, 혼자, 발라드, 우울, 분위기, 드라이브, 띵곡만, 산책, 운전, 인디]</td>\n",
       "      <td>127180</td>\n",
       "      <td>혼자만의 시간이 필요할때</td>\n",
       "      <td>[570836, 209135, 389920, 105140, 582252, 38261...</td>\n",
       "      <td>1</td>\n",
       "      <td>2020-03-24 06:39:20.000</td>\n",
       "      <td>43</td>\n",
       "      <td>중복 있음</td>\n",
       "      <td>78</td>\n",
       "    </tr>\n",
       "    <tr>\n",
       "      <th>8535</th>\n",
       "      <td>[띵곡, 혼자만, 어쿠스틱, 발라드, 우울, 분위기, 드라이브, 조용한, 산책, 인디]</td>\n",
       "      <td>76448</td>\n",
       "      <td>혼자만의 시간이 필요할때</td>\n",
       "      <td>[570836, 209135, 389920, 105140, 582252, 38261...</td>\n",
       "      <td>1</td>\n",
       "      <td>2020-04-13 05:56:55.000</td>\n",
       "      <td>43</td>\n",
       "      <td>중복 있음</td>\n",
       "      <td>78</td>\n",
       "    </tr>\n",
       "    <tr>\n",
       "      <th>8540</th>\n",
       "      <td>[어쿠스틱, 혼자, 발라드, 우울, 분위기, 드라이브, 조용한, 산책, 띵곡들, 인디]</td>\n",
       "      <td>141114</td>\n",
       "      <td>혼자만의 시간이 필요할때</td>\n",
       "      <td>[484964, 626369, 570836, 366786, 413837, 20913...</td>\n",
       "      <td>1</td>\n",
       "      <td>2020-04-22 06:38:57.000</td>\n",
       "      <td>43</td>\n",
       "      <td>중복 있음</td>\n",
       "      <td>78</td>\n",
       "    </tr>\n",
       "    <tr>\n",
       "      <th>8547</th>\n",
       "      <td>[어쿠스틱, 혼자, 발라드, 분위기, 드라이브, 조용한, 산책, 운전, 띵곡들, 인디]</td>\n",
       "      <td>18201</td>\n",
       "      <td>혼자만의 시간이 필요할때</td>\n",
       "      <td>[484964, 626369, 570836, 366786, 413837, 20913...</td>\n",
       "      <td>1</td>\n",
       "      <td>2020-04-06 05:20:46.000</td>\n",
       "      <td>43</td>\n",
       "      <td>중복 있음</td>\n",
       "      <td>78</td>\n",
       "    </tr>\n",
       "    <tr>\n",
       "      <th>...</th>\n",
       "      <td>...</td>\n",
       "      <td>...</td>\n",
       "      <td>...</td>\n",
       "      <td>...</td>\n",
       "      <td>...</td>\n",
       "      <td>...</td>\n",
       "      <td>...</td>\n",
       "      <td>...</td>\n",
       "      <td>...</td>\n",
       "    </tr>\n",
       "    <tr>\n",
       "      <th>31841</th>\n",
       "      <td>[일렉]</td>\n",
       "      <td>56144</td>\n",
       "      <td>00  Party  일렉트로댄스</td>\n",
       "      <td>[256418, 183424, 431998, 654442, 354592, 24132...</td>\n",
       "      <td>7</td>\n",
       "      <td>2018-02-06 16:02:42.000</td>\n",
       "      <td>1</td>\n",
       "      <td>중복 없음</td>\n",
       "      <td>20</td>\n",
       "    </tr>\n",
       "    <tr>\n",
       "      <th>17803</th>\n",
       "      <td>[일렉]</td>\n",
       "      <td>58768</td>\n",
       "      <td>00  Electronica  EDM</td>\n",
       "      <td>[673003, 251403, 617690, 441958, 436128, 62788...</td>\n",
       "      <td>5</td>\n",
       "      <td>2020-01-05 00:24:22.000</td>\n",
       "      <td>1</td>\n",
       "      <td>중복 없음</td>\n",
       "      <td>133</td>\n",
       "    </tr>\n",
       "    <tr>\n",
       "      <th>108575</th>\n",
       "      <td>[일렉]</td>\n",
       "      <td>110536</td>\n",
       "      <td>0 일렉듣고 광질준비 O K    ElecVVIP</td>\n",
       "      <td>[349306, 93890, 651902, 46845, 362347, 330768,...</td>\n",
       "      <td>173</td>\n",
       "      <td>2012-11-29 14:34:56.000</td>\n",
       "      <td>1</td>\n",
       "      <td>중복 없음</td>\n",
       "      <td>59</td>\n",
       "    </tr>\n",
       "    <tr>\n",
       "      <th>52777</th>\n",
       "      <td>[비오는날, 추억, 회상]</td>\n",
       "      <td>106660</td>\n",
       "      <td>비오는날 듣기 좋은 연주곡 모음</td>\n",
       "      <td>[79329, 51922, 173875, 216115, 422584, 509605,...</td>\n",
       "      <td>6</td>\n",
       "      <td>2015-10-06 11:45:24.000</td>\n",
       "      <td>1</td>\n",
       "      <td>중복 없음</td>\n",
       "      <td>25</td>\n",
       "    </tr>\n",
       "    <tr>\n",
       "      <th>103765</th>\n",
       "      <td>[비오는날, 매장음악]</td>\n",
       "      <td>150419</td>\n",
       "      <td>비 오는 날 어울리는 몽환적인 힐링 피아노 모음</td>\n",
       "      <td>[706005, 467396, 322580, 279247, 519746, 70345...</td>\n",
       "      <td>12</td>\n",
       "      <td>2015-07-14 18:14:50.000</td>\n",
       "      <td>1</td>\n",
       "      <td>중복 없음</td>\n",
       "      <td>20</td>\n",
       "    </tr>\n",
       "  </tbody>\n",
       "</table>\n",
       "<p>114697 rows × 9 columns</p>\n",
       "</div>"
      ],
      "text/plain": [
       "                                                    tags      id  \\\n",
       "8531    [집중, 어쿠스틱, 혼자, 발라드, 우울, 드라이브, 산책, 조용조용, 띵곡들, 인디]  152785   \n",
       "8518     [어쿠스틱, 혼자, 발라드, 우울, 분위기, 드라이브, 띵곡만, 산책, 운전, 인디]  127180   \n",
       "8535    [띵곡, 혼자만, 어쿠스틱, 발라드, 우울, 분위기, 드라이브, 조용한, 산책, 인디]   76448   \n",
       "8540    [어쿠스틱, 혼자, 발라드, 우울, 분위기, 드라이브, 조용한, 산책, 띵곡들, 인디]  141114   \n",
       "8547    [어쿠스틱, 혼자, 발라드, 분위기, 드라이브, 조용한, 산책, 운전, 띵곡들, 인디]   18201   \n",
       "...                                                  ...     ...   \n",
       "31841                                               [일렉]   56144   \n",
       "17803                                               [일렉]   58768   \n",
       "108575                                              [일렉]  110536   \n",
       "52777                                     [비오는날, 추억, 회상]  106660   \n",
       "103765                                      [비오는날, 매장음악]  150419   \n",
       "\n",
       "                       plylst_title  \\\n",
       "8531                  혼자만의 시간이 필요할때   \n",
       "8518                  혼자만의 시간이 필요할때   \n",
       "8535                  혼자만의 시간이 필요할때   \n",
       "8540                  혼자만의 시간이 필요할때   \n",
       "8547                  혼자만의 시간이 필요할때   \n",
       "...                             ...   \n",
       "31841             00  Party  일렉트로댄스   \n",
       "17803          00  Electronica  EDM   \n",
       "108575  0 일렉듣고 광질준비 O K    ElecVVIP   \n",
       "52777             비오는날 듣기 좋은 연주곡 모음   \n",
       "103765   비 오는 날 어울리는 몽환적인 힐링 피아노 모음   \n",
       "\n",
       "                                                    songs  like_cnt  \\\n",
       "8531    [208812, 629738, 232874, 13281, 193232, 389468...         1   \n",
       "8518    [570836, 209135, 389920, 105140, 582252, 38261...         1   \n",
       "8535    [570836, 209135, 389920, 105140, 582252, 38261...         1   \n",
       "8540    [484964, 626369, 570836, 366786, 413837, 20913...         1   \n",
       "8547    [484964, 626369, 570836, 366786, 413837, 20913...         1   \n",
       "...                                                   ...       ...   \n",
       "31841   [256418, 183424, 431998, 654442, 354592, 24132...         7   \n",
       "17803   [673003, 251403, 617690, 441958, 436128, 62788...         5   \n",
       "108575  [349306, 93890, 651902, 46845, 362347, 330768,...       173   \n",
       "52777   [79329, 51922, 173875, 216115, 422584, 509605,...         6   \n",
       "103765  [706005, 467396, 322580, 279247, 519746, 70345...        12   \n",
       "\n",
       "                      updt_date  mapping_plylst_cnt  \\\n",
       "8531    2020-03-26 06:14:54.000                  43   \n",
       "8518    2020-03-24 06:39:20.000                  43   \n",
       "8535    2020-04-13 05:56:55.000                  43   \n",
       "8540    2020-04-22 06:38:57.000                  43   \n",
       "8547    2020-04-06 05:20:46.000                  43   \n",
       "...                         ...                 ...   \n",
       "31841   2018-02-06 16:02:42.000                   1   \n",
       "17803   2020-01-05 00:24:22.000                   1   \n",
       "108575  2012-11-29 14:34:56.000                   1   \n",
       "52777   2015-10-06 11:45:24.000                   1   \n",
       "103765  2015-07-14 18:14:50.000                   1   \n",
       "\n",
       "       mapping_plylst_cnt_category  song_cnt  \n",
       "8531                         중복 있음        81  \n",
       "8518                         중복 있음        78  \n",
       "8535                         중복 있음        78  \n",
       "8540                         중복 있음        78  \n",
       "8547                         중복 있음        78  \n",
       "...                            ...       ...  \n",
       "31841                        중복 없음        20  \n",
       "17803                        중복 없음       133  \n",
       "108575                       중복 없음        59  \n",
       "52777                        중복 없음        25  \n",
       "103765                       중복 없음        20  \n",
       "\n",
       "[114697 rows x 9 columns]"
      ]
     },
     "execution_count": 44,
     "metadata": {},
     "output_type": "execute_result"
    }
   ],
   "source": [
    "# train에 중복 갯수, 중복 여부 컬럼 추가, 플레이리스트 내 곡 갯수 추가\n",
    "playlists_add_col = pd.merge(playlists, plylst_id_cnt, on='plylst_title')\n",
    "playlists_add_col['song_cnt'] = playlists_add_col['songs'].apply(lambda x : len(x))\n",
    "\n",
    "# 매핑갯수, 타이틀, 플리 내 노래 갯수, like_cnt 내림차순 정렬\n",
    "playlists_filter = playlists_add_col.sort_values(['mapping_plylst_cnt', 'plylst_title', 'song_cnt', 'like_cnt'], ascending=False)\n",
    "playlists_filter"
   ]
  },
  {
   "cell_type": "code",
   "execution_count": 45,
   "metadata": {},
   "outputs": [
    {
     "data": {
      "text/plain": [
       "2722"
      ]
     },
     "execution_count": 45,
     "metadata": {},
     "output_type": "execute_result"
    }
   ],
   "source": [
    "playlists_dup = playlists_filter[playlists_filter['mapping_plylst_cnt_category'] == '중복 있음'] # 중복 플리 모음\n",
    "playlists_dup['plylst_title'].nunique() # 중복된 플레이리스트의 유니크 타이틀 갯수 : 2722"
   ]
  },
  {
   "cell_type": "code",
   "execution_count": 46,
   "metadata": {},
   "outputs": [
    {
     "name": "stderr",
     "output_type": "stream",
     "text": [
      "C:\\Users\\cg063\\AppData\\Local\\Temp\\ipykernel_12508\\2448186990.py:1: SettingWithCopyWarning: \n",
      "A value is trying to be set on a copy of a slice from a DataFrame.\n",
      "Try using .loc[row_indexer,col_indexer] = value instead\n",
      "\n",
      "See the caveats in the documentation: https://pandas.pydata.org/pandas-docs/stable/user_guide/indexing.html#returning-a-view-versus-a-copy\n",
      "  playlists_dup['tag_cnt'] = playlists_dup['tags'].apply(len)\n"
     ]
    },
    {
     "data": {
      "text/html": [
       "<div>\n",
       "<style scoped>\n",
       "    .dataframe tbody tr th:only-of-type {\n",
       "        vertical-align: middle;\n",
       "    }\n",
       "\n",
       "    .dataframe tbody tr th {\n",
       "        vertical-align: top;\n",
       "    }\n",
       "\n",
       "    .dataframe thead th {\n",
       "        text-align: right;\n",
       "    }\n",
       "</style>\n",
       "<table border=\"1\" class=\"dataframe\">\n",
       "  <thead>\n",
       "    <tr style=\"text-align: right;\">\n",
       "      <th></th>\n",
       "      <th>tags</th>\n",
       "      <th>id</th>\n",
       "      <th>plylst_title</th>\n",
       "      <th>songs</th>\n",
       "      <th>like_cnt</th>\n",
       "      <th>updt_date</th>\n",
       "      <th>mapping_plylst_cnt</th>\n",
       "      <th>mapping_plylst_cnt_category</th>\n",
       "      <th>song_cnt</th>\n",
       "      <th>tag_cnt</th>\n",
       "    </tr>\n",
       "  </thead>\n",
       "  <tbody>\n",
       "    <tr>\n",
       "      <th>8531</th>\n",
       "      <td>[집중, 어쿠스틱, 혼자, 발라드, 우울, 드라이브, 산책, 조용조용, 띵곡들, 인디]</td>\n",
       "      <td>152785</td>\n",
       "      <td>혼자만의 시간이 필요할때</td>\n",
       "      <td>[208812, 629738, 232874, 13281, 193232, 389468...</td>\n",
       "      <td>1</td>\n",
       "      <td>2020-03-26 06:14:54.000</td>\n",
       "      <td>43</td>\n",
       "      <td>중복 있음</td>\n",
       "      <td>81</td>\n",
       "      <td>10</td>\n",
       "    </tr>\n",
       "    <tr>\n",
       "      <th>8518</th>\n",
       "      <td>[어쿠스틱, 혼자, 발라드, 우울, 분위기, 드라이브, 띵곡만, 산책, 운전, 인디]</td>\n",
       "      <td>127180</td>\n",
       "      <td>혼자만의 시간이 필요할때</td>\n",
       "      <td>[570836, 209135, 389920, 105140, 582252, 38261...</td>\n",
       "      <td>1</td>\n",
       "      <td>2020-03-24 06:39:20.000</td>\n",
       "      <td>43</td>\n",
       "      <td>중복 있음</td>\n",
       "      <td>78</td>\n",
       "      <td>10</td>\n",
       "    </tr>\n",
       "    <tr>\n",
       "      <th>8535</th>\n",
       "      <td>[띵곡, 혼자만, 어쿠스틱, 발라드, 우울, 분위기, 드라이브, 조용한, 산책, 인디]</td>\n",
       "      <td>76448</td>\n",
       "      <td>혼자만의 시간이 필요할때</td>\n",
       "      <td>[570836, 209135, 389920, 105140, 582252, 38261...</td>\n",
       "      <td>1</td>\n",
       "      <td>2020-04-13 05:56:55.000</td>\n",
       "      <td>43</td>\n",
       "      <td>중복 있음</td>\n",
       "      <td>78</td>\n",
       "      <td>10</td>\n",
       "    </tr>\n",
       "    <tr>\n",
       "      <th>8540</th>\n",
       "      <td>[어쿠스틱, 혼자, 발라드, 우울, 분위기, 드라이브, 조용한, 산책, 띵곡들, 인디]</td>\n",
       "      <td>141114</td>\n",
       "      <td>혼자만의 시간이 필요할때</td>\n",
       "      <td>[484964, 626369, 570836, 366786, 413837, 20913...</td>\n",
       "      <td>1</td>\n",
       "      <td>2020-04-22 06:38:57.000</td>\n",
       "      <td>43</td>\n",
       "      <td>중복 있음</td>\n",
       "      <td>78</td>\n",
       "      <td>10</td>\n",
       "    </tr>\n",
       "    <tr>\n",
       "      <th>8547</th>\n",
       "      <td>[어쿠스틱, 혼자, 발라드, 분위기, 드라이브, 조용한, 산책, 운전, 띵곡들, 인디]</td>\n",
       "      <td>18201</td>\n",
       "      <td>혼자만의 시간이 필요할때</td>\n",
       "      <td>[484964, 626369, 570836, 366786, 413837, 20913...</td>\n",
       "      <td>1</td>\n",
       "      <td>2020-04-06 05:20:46.000</td>\n",
       "      <td>43</td>\n",
       "      <td>중복 있음</td>\n",
       "      <td>78</td>\n",
       "      <td>10</td>\n",
       "    </tr>\n",
       "  </tbody>\n",
       "</table>\n",
       "</div>"
      ],
      "text/plain": [
       "                                                  tags      id   plylst_title  \\\n",
       "8531  [집중, 어쿠스틱, 혼자, 발라드, 우울, 드라이브, 산책, 조용조용, 띵곡들, 인디]  152785  혼자만의 시간이 필요할때   \n",
       "8518   [어쿠스틱, 혼자, 발라드, 우울, 분위기, 드라이브, 띵곡만, 산책, 운전, 인디]  127180  혼자만의 시간이 필요할때   \n",
       "8535  [띵곡, 혼자만, 어쿠스틱, 발라드, 우울, 분위기, 드라이브, 조용한, 산책, 인디]   76448  혼자만의 시간이 필요할때   \n",
       "8540  [어쿠스틱, 혼자, 발라드, 우울, 분위기, 드라이브, 조용한, 산책, 띵곡들, 인디]  141114  혼자만의 시간이 필요할때   \n",
       "8547  [어쿠스틱, 혼자, 발라드, 분위기, 드라이브, 조용한, 산책, 운전, 띵곡들, 인디]   18201  혼자만의 시간이 필요할때   \n",
       "\n",
       "                                                  songs  like_cnt  \\\n",
       "8531  [208812, 629738, 232874, 13281, 193232, 389468...         1   \n",
       "8518  [570836, 209135, 389920, 105140, 582252, 38261...         1   \n",
       "8535  [570836, 209135, 389920, 105140, 582252, 38261...         1   \n",
       "8540  [484964, 626369, 570836, 366786, 413837, 20913...         1   \n",
       "8547  [484964, 626369, 570836, 366786, 413837, 20913...         1   \n",
       "\n",
       "                    updt_date  mapping_plylst_cnt mapping_plylst_cnt_category  \\\n",
       "8531  2020-03-26 06:14:54.000                  43                       중복 있음   \n",
       "8518  2020-03-24 06:39:20.000                  43                       중복 있음   \n",
       "8535  2020-04-13 05:56:55.000                  43                       중복 있음   \n",
       "8540  2020-04-22 06:38:57.000                  43                       중복 있음   \n",
       "8547  2020-04-06 05:20:46.000                  43                       중복 있음   \n",
       "\n",
       "      song_cnt  tag_cnt  \n",
       "8531        81       10  \n",
       "8518        78       10  \n",
       "8535        78       10  \n",
       "8540        78       10  \n",
       "8547        78       10  "
      ]
     },
     "execution_count": 46,
     "metadata": {},
     "output_type": "execute_result"
    }
   ],
   "source": [
    "playlists_dup['tag_cnt'] = playlists_dup['tags'].apply(len)\n",
    "playlists_dup.head()"
   ]
  },
  {
   "cell_type": "code",
   "execution_count": 47,
   "metadata": {},
   "outputs": [
    {
     "data": {
      "text/html": [
       "<div>\n",
       "<style scoped>\n",
       "    .dataframe tbody tr th:only-of-type {\n",
       "        vertical-align: middle;\n",
       "    }\n",
       "\n",
       "    .dataframe tbody tr th {\n",
       "        vertical-align: top;\n",
       "    }\n",
       "\n",
       "    .dataframe thead th {\n",
       "        text-align: right;\n",
       "    }\n",
       "</style>\n",
       "<table border=\"1\" class=\"dataframe\">\n",
       "  <thead>\n",
       "    <tr style=\"text-align: right;\">\n",
       "      <th></th>\n",
       "      <th>tags</th>\n",
       "      <th>id</th>\n",
       "      <th>plylst_title</th>\n",
       "      <th>songs</th>\n",
       "      <th>like_cnt</th>\n",
       "      <th>updt_date</th>\n",
       "      <th>mapping_plylst_cnt</th>\n",
       "      <th>mapping_plylst_cnt_category</th>\n",
       "      <th>song_cnt</th>\n",
       "      <th>tag_cnt</th>\n",
       "    </tr>\n",
       "  </thead>\n",
       "  <tbody>\n",
       "    <tr>\n",
       "      <th>8531</th>\n",
       "      <td>[집중, 어쿠스틱, 혼자, 발라드, 우울, 드라이브, 산책, 조용조용, 띵곡들, 인디]</td>\n",
       "      <td>152785</td>\n",
       "      <td>혼자만의 시간이 필요할때</td>\n",
       "      <td>[208812, 629738, 232874, 13281, 193232, 389468...</td>\n",
       "      <td>1</td>\n",
       "      <td>2020-03-26 06:14:54.000</td>\n",
       "      <td>43</td>\n",
       "      <td>중복 있음</td>\n",
       "      <td>81</td>\n",
       "      <td>10</td>\n",
       "    </tr>\n",
       "    <tr>\n",
       "      <th>3119</th>\n",
       "      <td>[비오는날듣기좋은노래]</td>\n",
       "      <td>75012</td>\n",
       "      <td>비오는날</td>\n",
       "      <td>[65672, 522825, 145252, 146780, 500731, 473608...</td>\n",
       "      <td>22</td>\n",
       "      <td>2017-08-19 15:16:36.000</td>\n",
       "      <td>34</td>\n",
       "      <td>중복 있음</td>\n",
       "      <td>200</td>\n",
       "      <td>1</td>\n",
       "    </tr>\n",
       "    <tr>\n",
       "      <th>5536</th>\n",
       "      <td>[조용히, 어쿠스틱, 여유, 발라드, 분위기, 힐링, 자기전이나, 띵곡, 인디, 편안한]</td>\n",
       "      <td>52312</td>\n",
       "      <td>자기전 하루한곡 발라드</td>\n",
       "      <td>[570836, 209135, 389920, 105140, 582252, 38261...</td>\n",
       "      <td>1</td>\n",
       "      <td>2020-04-02 06:54:25.000</td>\n",
       "      <td>31</td>\n",
       "      <td>중복 있음</td>\n",
       "      <td>82</td>\n",
       "      <td>10</td>\n",
       "    </tr>\n",
       "    <tr>\n",
       "      <th>8428</th>\n",
       "      <td>[금요일]</td>\n",
       "      <td>48129</td>\n",
       "      <td>금요일</td>\n",
       "      <td>[614756, 147427, 340332, 675466, 414036, 61619...</td>\n",
       "      <td>0</td>\n",
       "      <td>2017-03-10 17:31:34.000</td>\n",
       "      <td>30</td>\n",
       "      <td>중복 있음</td>\n",
       "      <td>20</td>\n",
       "      <td>1</td>\n",
       "    </tr>\n",
       "    <tr>\n",
       "      <th>7287</th>\n",
       "      <td>[발라드]</td>\n",
       "      <td>5960</td>\n",
       "      <td>추억</td>\n",
       "      <td>[208821, 481749, 565402, 362197, 407236, 46604...</td>\n",
       "      <td>10</td>\n",
       "      <td>2010-10-21 09:45:12.000</td>\n",
       "      <td>27</td>\n",
       "      <td>중복 있음</td>\n",
       "      <td>85</td>\n",
       "      <td>1</td>\n",
       "    </tr>\n",
       "    <tr>\n",
       "      <th>...</th>\n",
       "      <td>...</td>\n",
       "      <td>...</td>\n",
       "      <td>...</td>\n",
       "      <td>...</td>\n",
       "      <td>...</td>\n",
       "      <td>...</td>\n",
       "      <td>...</td>\n",
       "      <td>...</td>\n",
       "      <td>...</td>\n",
       "      <td>...</td>\n",
       "    </tr>\n",
       "    <tr>\n",
       "      <th>155</th>\n",
       "      <td>[기분좋은, 100번]</td>\n",
       "      <td>148495</td>\n",
       "      <td>100번 들어도 기분좋은 가요</td>\n",
       "      <td>[208186, 155952, 669617, 438439, 397412, 60398...</td>\n",
       "      <td>4</td>\n",
       "      <td>2016-10-31 13:59:41.000</td>\n",
       "      <td>2</td>\n",
       "      <td>중복 있음</td>\n",
       "      <td>16</td>\n",
       "      <td>2</td>\n",
       "    </tr>\n",
       "    <tr>\n",
       "      <th>76630</th>\n",
       "      <td>[Pop]</td>\n",
       "      <td>62278</td>\n",
       "      <td>100% 로맨틱 조지 마이클  223</td>\n",
       "      <td>[366485, 435804, 442680, 538949, 263360, 29495...</td>\n",
       "      <td>0</td>\n",
       "      <td>2019-03-27 15:27:44.000</td>\n",
       "      <td>2</td>\n",
       "      <td>중복 있음</td>\n",
       "      <td>34</td>\n",
       "      <td>1</td>\n",
       "    </tr>\n",
       "    <tr>\n",
       "      <th>34439</th>\n",
       "      <td>[팝]</td>\n",
       "      <td>50564</td>\n",
       "      <td>1 HITS OF DECADE SPECIAL 2</td>\n",
       "      <td>[60025, 326802, 82991, 533287, 404318, 82686, ...</td>\n",
       "      <td>5</td>\n",
       "      <td>2009-07-11 21:37:42.000</td>\n",
       "      <td>2</td>\n",
       "      <td>중복 있음</td>\n",
       "      <td>37</td>\n",
       "      <td>1</td>\n",
       "    </tr>\n",
       "    <tr>\n",
       "      <th>75844</th>\n",
       "      <td>[팝]</td>\n",
       "      <td>109558</td>\n",
       "      <td>1 HITS OF DECADE SPECIAL</td>\n",
       "      <td>[289618, 78629, 349460, 218356, 189583, 613209...</td>\n",
       "      <td>5</td>\n",
       "      <td>2009-07-05 18:23:47.000</td>\n",
       "      <td>2</td>\n",
       "      <td>중복 있음</td>\n",
       "      <td>39</td>\n",
       "      <td>1</td>\n",
       "    </tr>\n",
       "    <tr>\n",
       "      <th>757</th>\n",
       "      <td>[Pop]</td>\n",
       "      <td>123815</td>\n",
       "      <td>1 1  환상의 케미스트리 211</td>\n",
       "      <td>[243181, 520307, 291514, 496987, 285795, 68548...</td>\n",
       "      <td>0</td>\n",
       "      <td>2019-03-27 15:27:43.000</td>\n",
       "      <td>2</td>\n",
       "      <td>중복 있음</td>\n",
       "      <td>36</td>\n",
       "      <td>1</td>\n",
       "    </tr>\n",
       "  </tbody>\n",
       "</table>\n",
       "<p>2747 rows × 10 columns</p>\n",
       "</div>"
      ],
      "text/plain": [
       "                                                    tags      id  \\\n",
       "8531    [집중, 어쿠스틱, 혼자, 발라드, 우울, 드라이브, 산책, 조용조용, 띵곡들, 인디]  152785   \n",
       "3119                                        [비오는날듣기좋은노래]   75012   \n",
       "5536   [조용히, 어쿠스틱, 여유, 발라드, 분위기, 힐링, 자기전이나, 띵곡, 인디, 편안한]   52312   \n",
       "8428                                               [금요일]   48129   \n",
       "7287                                               [발라드]    5960   \n",
       "...                                                  ...     ...   \n",
       "155                                         [기분좋은, 100번]  148495   \n",
       "76630                                              [Pop]   62278   \n",
       "34439                                                [팝]   50564   \n",
       "75844                                                [팝]  109558   \n",
       "757                                                [Pop]  123815   \n",
       "\n",
       "                     plylst_title  \\\n",
       "8531                혼자만의 시간이 필요할때   \n",
       "3119                         비오는날   \n",
       "5536                 자기전 하루한곡 발라드   \n",
       "8428                          금요일   \n",
       "7287                           추억   \n",
       "...                           ...   \n",
       "155              100번 들어도 기분좋은 가요   \n",
       "76630        100% 로맨틱 조지 마이클  223   \n",
       "34439  1 HITS OF DECADE SPECIAL 2   \n",
       "75844    1 HITS OF DECADE SPECIAL   \n",
       "757            1 1  환상의 케미스트리 211   \n",
       "\n",
       "                                                   songs  like_cnt  \\\n",
       "8531   [208812, 629738, 232874, 13281, 193232, 389468...         1   \n",
       "3119   [65672, 522825, 145252, 146780, 500731, 473608...        22   \n",
       "5536   [570836, 209135, 389920, 105140, 582252, 38261...         1   \n",
       "8428   [614756, 147427, 340332, 675466, 414036, 61619...         0   \n",
       "7287   [208821, 481749, 565402, 362197, 407236, 46604...        10   \n",
       "...                                                  ...       ...   \n",
       "155    [208186, 155952, 669617, 438439, 397412, 60398...         4   \n",
       "76630  [366485, 435804, 442680, 538949, 263360, 29495...         0   \n",
       "34439  [60025, 326802, 82991, 533287, 404318, 82686, ...         5   \n",
       "75844  [289618, 78629, 349460, 218356, 189583, 613209...         5   \n",
       "757    [243181, 520307, 291514, 496987, 285795, 68548...         0   \n",
       "\n",
       "                     updt_date  mapping_plylst_cnt  \\\n",
       "8531   2020-03-26 06:14:54.000                  43   \n",
       "3119   2017-08-19 15:16:36.000                  34   \n",
       "5536   2020-04-02 06:54:25.000                  31   \n",
       "8428   2017-03-10 17:31:34.000                  30   \n",
       "7287   2010-10-21 09:45:12.000                  27   \n",
       "...                        ...                 ...   \n",
       "155    2016-10-31 13:59:41.000                   2   \n",
       "76630  2019-03-27 15:27:44.000                   2   \n",
       "34439  2009-07-11 21:37:42.000                   2   \n",
       "75844  2009-07-05 18:23:47.000                   2   \n",
       "757    2019-03-27 15:27:43.000                   2   \n",
       "\n",
       "      mapping_plylst_cnt_category  song_cnt  tag_cnt  \n",
       "8531                        중복 있음        81       10  \n",
       "3119                        중복 있음       200        1  \n",
       "5536                        중복 있음        82       10  \n",
       "8428                        중복 있음        20        1  \n",
       "7287                        중복 있음        85        1  \n",
       "...                           ...       ...      ...  \n",
       "155                         중복 있음        16        2  \n",
       "76630                       중복 있음        34        1  \n",
       "34439                       중복 있음        37        1  \n",
       "75844                       중복 있음        39        1  \n",
       "757                         중복 있음        36        1  \n",
       "\n",
       "[2747 rows x 10 columns]"
      ]
     },
     "execution_count": 47,
     "metadata": {},
     "output_type": "execute_result"
    }
   ],
   "source": [
    "# playlists_dup 중 각 플리 제목 별 노래갯수가 가장 많은 하나만 남긴다\n",
    "playlists_dup_filter = pd.DataFrame(playlists_dup[playlists_dup.groupby('plylst_title')['song_cnt'].transform(max) == playlists_dup['song_cnt']]) # 3572 \n",
    "playlists_dup_filter = pd.DataFrame(playlists_dup_filter[playlists_dup_filter.groupby('plylst_title')['like_cnt'].transform(max) == playlists_dup_filter['like_cnt']]) # 2928 \n",
    "playlists_dup_filter = pd.DataFrame(playlists_dup_filter[playlists_dup_filter.groupby('plylst_title')['tag_cnt'].transform(max) == playlists_dup_filter['tag_cnt']]) # 2909 \n",
    "playlists_dup_filter = pd.DataFrame(playlists_dup_filter[playlists_dup_filter.groupby('plylst_title')['updt_date'].transform(max) == playlists_dup_filter['updt_date']]) # 2748 \n",
    "playlists_dup_filter"
   ]
  },
  {
   "cell_type": "code",
   "execution_count": 48,
   "metadata": {},
   "outputs": [
    {
     "data": {
      "text/html": [
       "<div>\n",
       "<style scoped>\n",
       "    .dataframe tbody tr th:only-of-type {\n",
       "        vertical-align: middle;\n",
       "    }\n",
       "\n",
       "    .dataframe tbody tr th {\n",
       "        vertical-align: top;\n",
       "    }\n",
       "\n",
       "    .dataframe thead th {\n",
       "        text-align: right;\n",
       "    }\n",
       "</style>\n",
       "<table border=\"1\" class=\"dataframe\">\n",
       "  <thead>\n",
       "    <tr style=\"text-align: right;\">\n",
       "      <th></th>\n",
       "      <th>tags</th>\n",
       "      <th>id</th>\n",
       "      <th>plylst_title</th>\n",
       "      <th>songs</th>\n",
       "      <th>like_cnt</th>\n",
       "      <th>updt_date</th>\n",
       "      <th>mapping_plylst_cnt</th>\n",
       "      <th>mapping_plylst_cnt_category</th>\n",
       "      <th>song_cnt</th>\n",
       "      <th>tag_cnt</th>\n",
       "    </tr>\n",
       "  </thead>\n",
       "  <tbody>\n",
       "    <tr>\n",
       "      <th>50436</th>\n",
       "      <td>[여름]</td>\n",
       "      <td>7524</td>\n",
       "      <td>qqqa</td>\n",
       "      <td>[522825, 455668, 549178, 407828, 343974]</td>\n",
       "      <td>1</td>\n",
       "      <td>2015-11-04 17:51:14.000</td>\n",
       "      <td>3</td>\n",
       "      <td>중복 있음</td>\n",
       "      <td>5</td>\n",
       "      <td>1</td>\n",
       "    </tr>\n",
       "    <tr>\n",
       "      <th>50437</th>\n",
       "      <td>[여름]</td>\n",
       "      <td>43031</td>\n",
       "      <td>qqqa</td>\n",
       "      <td>[522825, 455668, 549178, 407828, 343974]</td>\n",
       "      <td>1</td>\n",
       "      <td>2015-11-04 17:51:14.000</td>\n",
       "      <td>3</td>\n",
       "      <td>중복 있음</td>\n",
       "      <td>5</td>\n",
       "      <td>1</td>\n",
       "    </tr>\n",
       "  </tbody>\n",
       "</table>\n",
       "</div>"
      ],
      "text/plain": [
       "       tags     id plylst_title                                     songs  \\\n",
       "50436  [여름]   7524         qqqa  [522825, 455668, 549178, 407828, 343974]   \n",
       "50437  [여름]  43031         qqqa  [522825, 455668, 549178, 407828, 343974]   \n",
       "\n",
       "       like_cnt                updt_date  mapping_plylst_cnt  \\\n",
       "50436         1  2015-11-04 17:51:14.000                   3   \n",
       "50437         1  2015-11-04 17:51:14.000                   3   \n",
       "\n",
       "      mapping_plylst_cnt_category  song_cnt  tag_cnt  \n",
       "50436                       중복 있음         5        1  \n",
       "50437                       중복 있음         5        1  "
      ]
     },
     "execution_count": 48,
     "metadata": {},
     "output_type": "execute_result"
    }
   ],
   "source": [
    "playlists_dup_filter[playlists_dup_filter['plylst_title'] == 'qqqa'] # 필터링 되지 않은 중복 타이틀은 플레이리스트 자체가 같음"
   ]
  },
  {
   "cell_type": "code",
   "execution_count": 49,
   "metadata": {},
   "outputs": [],
   "source": [
    "# 타이틀이 같은 플레이리스트 중 하나만 남긴다\n",
    "playlists_dup_filter = pd.DataFrame(playlists_dup_filter.groupby('plylst_title', group_keys=False).apply(lambda x: x.loc[x['song_cnt'].idxmax()]))\n",
    "playlists_dup_filter = playlists_dup_filter.reset_index(drop=True) # 2722"
   ]
  },
  {
   "cell_type": "code",
   "execution_count": 50,
   "metadata": {},
   "outputs": [
    {
     "data": {
      "text/html": [
       "<div>\n",
       "<style scoped>\n",
       "    .dataframe tbody tr th:only-of-type {\n",
       "        vertical-align: middle;\n",
       "    }\n",
       "\n",
       "    .dataframe tbody tr th {\n",
       "        vertical-align: top;\n",
       "    }\n",
       "\n",
       "    .dataframe thead th {\n",
       "        text-align: right;\n",
       "    }\n",
       "</style>\n",
       "<table border=\"1\" class=\"dataframe\">\n",
       "  <thead>\n",
       "    <tr style=\"text-align: right;\">\n",
       "      <th></th>\n",
       "      <th>plylst_title</th>\n",
       "      <th>mapping_plylst_cnt</th>\n",
       "    </tr>\n",
       "    <tr>\n",
       "      <th>mapping_plylst_cnt_category</th>\n",
       "      <th></th>\n",
       "      <th></th>\n",
       "    </tr>\n",
       "  </thead>\n",
       "  <tbody>\n",
       "    <tr>\n",
       "      <th>중복 없음</th>\n",
       "      <td>2722</td>\n",
       "      <td>2722</td>\n",
       "    </tr>\n",
       "    <tr>\n",
       "      <th>중복 있음</th>\n",
       "      <td>0</td>\n",
       "      <td>0</td>\n",
       "    </tr>\n",
       "  </tbody>\n",
       "</table>\n",
       "</div>"
      ],
      "text/plain": [
       "                             plylst_title  mapping_plylst_cnt\n",
       "mapping_plylst_cnt_category                                  \n",
       "중복 없음                                2722                2722\n",
       "중복 있음                                   0                   0"
      ]
     },
     "execution_count": 50,
     "metadata": {},
     "output_type": "execute_result"
    }
   ],
   "source": [
    "# playlists_dup_filter 중 중복 여부 확인\n",
    "\n",
    "# 1. 플레이리스트 아이디(id)와 플레이리스트 명(plylst_title) 추출\n",
    "plylst_title_2 = playlists_dup_filter[['id', 'plylst_title']]\n",
    "\n",
    "# 2. 플레이리스트 이름 별 플레이리스트 ID count 테이블 생성 : plylst_id_cnt\n",
    "plylst_id_cnt_2 = plylst_title_2.groupby('plylst_title').id.nunique().reset_index(name = 'mapping_plylst_cnt')\n",
    "\n",
    "# 3. 플레이리스트 명 중복 구분 : 서로 다른 플레이리스트 아이디로 겹치는 플레이리스트 이름이 없으면 '중복 없음', 그 외 '중복 있음'\n",
    "plylst_id_cnt_2 = plylst_id_cnt_2.assign(\n",
    "    mapping_plylst_cnt_category = pd.cut(plylst_id_cnt_2['mapping_plylst_cnt'], [0, 1, np.inf], labels = ['중복 없음', '중복 있음'])\n",
    ")\n",
    "plylst_id_cnt_2\n",
    "# [0, 1, np.inf] : 0이상 1미만 값 = 중복없음, 1이상의 값 = 중복있음\n",
    "\n",
    "# 4. 중복 구분 별 플레이리스트 수 count 테이블 생성 : plylst_id_cnt_division\n",
    "plylst_id_cnt_division_2 = pd.DataFrame(plylst_id_cnt_2.groupby('mapping_plylst_cnt_category').count())\n",
    "plylst_id_cnt_division_2"
   ]
  },
  {
   "cell_type": "code",
   "execution_count": 51,
   "metadata": {},
   "outputs": [
    {
     "data": {
      "text/html": [
       "<div>\n",
       "<style scoped>\n",
       "    .dataframe tbody tr th:only-of-type {\n",
       "        vertical-align: middle;\n",
       "    }\n",
       "\n",
       "    .dataframe tbody tr th {\n",
       "        vertical-align: top;\n",
       "    }\n",
       "\n",
       "    .dataframe thead th {\n",
       "        text-align: right;\n",
       "    }\n",
       "</style>\n",
       "<table border=\"1\" class=\"dataframe\">\n",
       "  <thead>\n",
       "    <tr style=\"text-align: right;\">\n",
       "      <th></th>\n",
       "      <th>tags</th>\n",
       "      <th>id</th>\n",
       "      <th>plylst_title</th>\n",
       "      <th>songs</th>\n",
       "      <th>like_cnt</th>\n",
       "      <th>updt_date</th>\n",
       "      <th>mapping_plylst_cnt</th>\n",
       "      <th>mapping_plylst_cnt_category</th>\n",
       "    </tr>\n",
       "  </thead>\n",
       "  <tbody>\n",
       "    <tr>\n",
       "      <th>0</th>\n",
       "      <td>[락]</td>\n",
       "      <td>61281</td>\n",
       "      <td>여행같은 음악</td>\n",
       "      <td>[525514, 129701, 383374, 562083, 297861, 13954...</td>\n",
       "      <td>71</td>\n",
       "      <td>2013-12-19 18:36:19.000</td>\n",
       "      <td>1</td>\n",
       "      <td>중복 없음</td>\n",
       "    </tr>\n",
       "    <tr>\n",
       "      <th>1</th>\n",
       "      <td>[추억, 회상]</td>\n",
       "      <td>10532</td>\n",
       "      <td>요즘 너 말야</td>\n",
       "      <td>[432406, 675945, 497066, 120377, 389529, 24427...</td>\n",
       "      <td>1</td>\n",
       "      <td>2014-12-02 16:19:42.000</td>\n",
       "      <td>1</td>\n",
       "      <td>중복 없음</td>\n",
       "    </tr>\n",
       "    <tr>\n",
       "      <th>2</th>\n",
       "      <td>[까페, 잔잔한]</td>\n",
       "      <td>76951</td>\n",
       "      <td>편하게  잔잔하게 들을 수 있는 곡</td>\n",
       "      <td>[83116, 276692, 166267, 186301, 354465, 256598...</td>\n",
       "      <td>17</td>\n",
       "      <td>2017-08-28 07:09:34.000</td>\n",
       "      <td>1</td>\n",
       "      <td>중복 없음</td>\n",
       "    </tr>\n",
       "    <tr>\n",
       "      <th>3</th>\n",
       "      <td>[연말, 눈오는날, 캐럴, 분위기, 따듯한, 크리스마스캐럴, 겨울노래, 크리스마스,...</td>\n",
       "      <td>147456</td>\n",
       "      <td>크리스마스 분위기에 흠뻑 취하고 싶을때</td>\n",
       "      <td>[394031, 195524, 540149, 287984, 440773, 10033...</td>\n",
       "      <td>33</td>\n",
       "      <td>2019-12-05 15:15:18.000</td>\n",
       "      <td>1</td>\n",
       "      <td>중복 없음</td>\n",
       "    </tr>\n",
       "    <tr>\n",
       "      <th>4</th>\n",
       "      <td>[댄스]</td>\n",
       "      <td>27616</td>\n",
       "      <td>추억의 노래 ㅋ</td>\n",
       "      <td>[159327, 553610, 5130, 645103, 294435, 100657,...</td>\n",
       "      <td>9</td>\n",
       "      <td>2011-10-25 13:54:56.000</td>\n",
       "      <td>1</td>\n",
       "      <td>중복 없음</td>\n",
       "    </tr>\n",
       "    <tr>\n",
       "      <th>...</th>\n",
       "      <td>...</td>\n",
       "      <td>...</td>\n",
       "      <td>...</td>\n",
       "      <td>...</td>\n",
       "      <td>...</td>\n",
       "      <td>...</td>\n",
       "      <td>...</td>\n",
       "      <td>...</td>\n",
       "    </tr>\n",
       "    <tr>\n",
       "      <th>114692</th>\n",
       "      <td>[록메탈, 밴드사운드, 록, 락메탈, 메탈, 락, extreme]</td>\n",
       "      <td>120325</td>\n",
       "      <td>METAL E SM  2</td>\n",
       "      <td>[429629, 441511, 612106, 516359, 691768, 38714...</td>\n",
       "      <td>3</td>\n",
       "      <td>2020-04-17 04:31:11.000</td>\n",
       "      <td>1</td>\n",
       "      <td>중복 없음</td>\n",
       "    </tr>\n",
       "    <tr>\n",
       "      <th>114693</th>\n",
       "      <td>[일렉]</td>\n",
       "      <td>106976</td>\n",
       "      <td>빠른 리스너를 위한 따끈따끈한 최신 인기 EDM 모음</td>\n",
       "      <td>[321330, 216057, 534472, 240306, 331098, 23288...</td>\n",
       "      <td>13</td>\n",
       "      <td>2015-12-24 17:23:19.000</td>\n",
       "      <td>1</td>\n",
       "      <td>중복 없음</td>\n",
       "    </tr>\n",
       "    <tr>\n",
       "      <th>114694</th>\n",
       "      <td>[담시, 가족, 눈물, 그리움, 주인공, 나의이야기, 사랑, 친구]</td>\n",
       "      <td>11343</td>\n",
       "      <td>1  눈물이 앞을 가리는 나의 이야기</td>\n",
       "      <td>[50512, 249024, 250608, 371171, 229942, 694943...</td>\n",
       "      <td>4</td>\n",
       "      <td>2019-08-16 20:59:22.000</td>\n",
       "      <td>1</td>\n",
       "      <td>중복 없음</td>\n",
       "    </tr>\n",
       "    <tr>\n",
       "      <th>114695</th>\n",
       "      <td>[잔잔한, 버스, 퇴근버스, Pop, 풍경, 퇴근길]</td>\n",
       "      <td>131982</td>\n",
       "      <td>퇴근 버스에서 편히 들으면서 하루를 마무리하기에 좋은 POP</td>\n",
       "      <td>[533534, 608114, 343608, 417140, 609009, 30217...</td>\n",
       "      <td>4</td>\n",
       "      <td>2019-10-25 23:40:42.000</td>\n",
       "      <td>1</td>\n",
       "      <td>중복 없음</td>\n",
       "    </tr>\n",
       "    <tr>\n",
       "      <th>114696</th>\n",
       "      <td>[노래추천, 팝송추천, 팝송, 팝송모음]</td>\n",
       "      <td>100389</td>\n",
       "      <td>FAVORITE POPSONG</td>\n",
       "      <td>[26008, 456354, 324105, 89871, 135272, 143548,...</td>\n",
       "      <td>17</td>\n",
       "      <td>2020-04-18 20:35:06.000</td>\n",
       "      <td>1</td>\n",
       "      <td>중복 없음</td>\n",
       "    </tr>\n",
       "  </tbody>\n",
       "</table>\n",
       "<p>106515 rows × 8 columns</p>\n",
       "</div>"
      ],
      "text/plain": [
       "                                                     tags      id  \\\n",
       "0                                                     [락]   61281   \n",
       "1                                                [추억, 회상]   10532   \n",
       "2                                               [까페, 잔잔한]   76951   \n",
       "3       [연말, 눈오는날, 캐럴, 분위기, 따듯한, 크리스마스캐럴, 겨울노래, 크리스마스,...  147456   \n",
       "4                                                    [댄스]   27616   \n",
       "...                                                   ...     ...   \n",
       "114692               [록메탈, 밴드사운드, 록, 락메탈, 메탈, 락, extreme]  120325   \n",
       "114693                                               [일렉]  106976   \n",
       "114694              [담시, 가족, 눈물, 그리움, 주인공, 나의이야기, 사랑, 친구]   11343   \n",
       "114695                      [잔잔한, 버스, 퇴근버스, Pop, 풍경, 퇴근길]  131982   \n",
       "114696                             [노래추천, 팝송추천, 팝송, 팝송모음]  100389   \n",
       "\n",
       "                             plylst_title  \\\n",
       "0                                 여행같은 음악   \n",
       "1                                 요즘 너 말야   \n",
       "2                     편하게  잔잔하게 들을 수 있는 곡   \n",
       "3                   크리스마스 분위기에 흠뻑 취하고 싶을때   \n",
       "4                                추억의 노래 ㅋ   \n",
       "...                                   ...   \n",
       "114692                      METAL E SM  2   \n",
       "114693      빠른 리스너를 위한 따끈따끈한 최신 인기 EDM 모음   \n",
       "114694               1  눈물이 앞을 가리는 나의 이야기   \n",
       "114695  퇴근 버스에서 편히 들으면서 하루를 마무리하기에 좋은 POP   \n",
       "114696                   FAVORITE POPSONG   \n",
       "\n",
       "                                                    songs  like_cnt  \\\n",
       "0       [525514, 129701, 383374, 562083, 297861, 13954...        71   \n",
       "1       [432406, 675945, 497066, 120377, 389529, 24427...         1   \n",
       "2       [83116, 276692, 166267, 186301, 354465, 256598...        17   \n",
       "3       [394031, 195524, 540149, 287984, 440773, 10033...        33   \n",
       "4       [159327, 553610, 5130, 645103, 294435, 100657,...         9   \n",
       "...                                                   ...       ...   \n",
       "114692  [429629, 441511, 612106, 516359, 691768, 38714...         3   \n",
       "114693  [321330, 216057, 534472, 240306, 331098, 23288...        13   \n",
       "114694  [50512, 249024, 250608, 371171, 229942, 694943...         4   \n",
       "114695  [533534, 608114, 343608, 417140, 609009, 30217...         4   \n",
       "114696  [26008, 456354, 324105, 89871, 135272, 143548,...        17   \n",
       "\n",
       "                      updt_date  mapping_plylst_cnt  \\\n",
       "0       2013-12-19 18:36:19.000                   1   \n",
       "1       2014-12-02 16:19:42.000                   1   \n",
       "2       2017-08-28 07:09:34.000                   1   \n",
       "3       2019-12-05 15:15:18.000                   1   \n",
       "4       2011-10-25 13:54:56.000                   1   \n",
       "...                         ...                 ...   \n",
       "114692  2020-04-17 04:31:11.000                   1   \n",
       "114693  2015-12-24 17:23:19.000                   1   \n",
       "114694  2019-08-16 20:59:22.000                   1   \n",
       "114695  2019-10-25 23:40:42.000                   1   \n",
       "114696  2020-04-18 20:35:06.000                   1   \n",
       "\n",
       "       mapping_plylst_cnt_category  \n",
       "0                            중복 없음  \n",
       "1                            중복 없음  \n",
       "2                            중복 없음  \n",
       "3                            중복 없음  \n",
       "4                            중복 없음  \n",
       "...                            ...  \n",
       "114692                       중복 없음  \n",
       "114693                       중복 없음  \n",
       "114694                       중복 없음  \n",
       "114695                       중복 없음  \n",
       "114696                       중복 없음  \n",
       "\n",
       "[106515 rows x 8 columns]"
      ]
     },
     "execution_count": 51,
     "metadata": {},
     "output_type": "execute_result"
    }
   ],
   "source": [
    "# 중복 없음 파일만 만들기\n",
    "playlists_no_dup = pd.merge(playlists, plylst_id_cnt, on='plylst_title')\n",
    "playlists_no_dup = playlists_no_dup[playlists_no_dup['mapping_plylst_cnt_category'] == '중복 없음']\n",
    "playlists_no_dup # 106515행"
   ]
  },
  {
   "cell_type": "code",
   "execution_count": 52,
   "metadata": {},
   "outputs": [
    {
     "name": "stdout",
     "output_type": "stream",
     "text": [
      "<class 'pandas.core.frame.DataFrame'>\n",
      "Int64Index: 109237 entries, 0 to 114696\n",
      "Data columns (total 6 columns):\n",
      " #   Column        Non-Null Count   Dtype \n",
      "---  ------        --------------   ----- \n",
      " 0   tags          109237 non-null  object\n",
      " 1   id            109237 non-null  int64 \n",
      " 2   plylst_title  109237 non-null  object\n",
      " 3   songs         109237 non-null  object\n",
      " 4   like_cnt      109237 non-null  int64 \n",
      " 5   updt_date     109237 non-null  object\n",
      "dtypes: int64(2), object(4)\n",
      "memory usage: 5.8+ MB\n"
     ]
    }
   ],
   "source": [
    "playlists_dup_proc = pd.concat([playlists_dup_filter, playlists_no_dup], axis=0)\n",
    "playlists_dup_proc = playlists_dup_proc.iloc[:, :6]\n",
    "playlists_dup_proc.info()\n",
    "\n",
    "# 2722+106515 =109237\n",
    "# 114697 - 109237 = 타이틀 중복 제거로 5460행 삭제"
   ]
  },
  {
   "cell_type": "markdown",
   "metadata": {},
   "source": [
    "> 3. 플레이리스트 별 노래 개수, 좋아요 개수 이상치 행 날리기"
   ]
  },
  {
   "cell_type": "markdown",
   "metadata": {},
   "source": [
    "- 노래 개수 5~104개 가진 플레이리스트만 남기기"
   ]
  },
  {
   "cell_type": "code",
   "execution_count": 53,
   "metadata": {},
   "outputs": [
    {
     "data": {
      "text/plain": [
       "count    109237.000000\n",
       "mean         45.949321\n",
       "std          44.216494\n",
       "min           1.000000\n",
       "25%          19.000000\n",
       "50%          29.000000\n",
       "75%          53.000000\n",
       "max         200.000000\n",
       "Name: songs_cnt, dtype: float64"
      ]
     },
     "execution_count": 53,
     "metadata": {},
     "output_type": "execute_result"
    }
   ],
   "source": [
    "playlists_dup_proc['songs_cnt'] = playlists_dup_proc['songs'].apply(len)\n",
    "playlists_dup_proc['songs_cnt'].describe()"
   ]
  },
  {
   "cell_type": "code",
   "execution_count": 54,
   "metadata": {},
   "outputs": [
    {
     "name": "stdout",
     "output_type": "stream",
     "text": [
      "-32.0\n",
      "104.0\n"
     ]
    }
   ],
   "source": [
    "Q1 = 19\n",
    "Q3 = 53\n",
    "IQR = Q3 - Q1\n",
    "\n",
    "print(Q1-(1.5*IQR))\n",
    "print(Q3+(1.5*IQR))"
   ]
  },
  {
   "cell_type": "code",
   "execution_count": 55,
   "metadata": {},
   "outputs": [
    {
     "name": "stdout",
     "output_type": "stream",
     "text": [
      "<class 'pandas.core.frame.DataFrame'>\n",
      "Int64Index: 98973 entries, 0 to 114695\n",
      "Data columns (total 7 columns):\n",
      " #   Column        Non-Null Count  Dtype \n",
      "---  ------        --------------  ----- \n",
      " 0   tags          98973 non-null  object\n",
      " 1   id            98973 non-null  int64 \n",
      " 2   plylst_title  98973 non-null  object\n",
      " 3   songs         98973 non-null  object\n",
      " 4   like_cnt      98973 non-null  int64 \n",
      " 5   updt_date     98973 non-null  object\n",
      " 6   songs_cnt     98973 non-null  int64 \n",
      "dtypes: int64(3), object(4)\n",
      "memory usage: 6.0+ MB\n"
     ]
    }
   ],
   "source": [
    "playlists_dup_proc['songs_cnt'] = playlists_dup_proc['songs'].apply(lambda x : len(x))\n",
    "playlists_song_cut = playlists_dup_proc[(playlists_dup_proc['songs_cnt'] >= 5) & (playlists_dup_proc['songs_cnt'] < 105) ]  # 5~104개만 남기기\n",
    "playlists_song_cut.info() # 109237-98973 = 10264행 삭제"
   ]
  },
  {
   "cell_type": "markdown",
   "metadata": {},
   "source": [
    "- 좋아요 2개 이하, 6개 이하(describe 시 25%가 2개임, 다시 describe했을 때 25% = 6) 삭제"
   ]
  },
  {
   "cell_type": "code",
   "execution_count": 56,
   "metadata": {},
   "outputs": [
    {
     "data": {
      "text/plain": [
       "count    98973.000000\n",
       "mean        77.190284\n",
       "std        437.540113\n",
       "min          0.000000\n",
       "25%          2.000000\n",
       "50%          7.000000\n",
       "75%         22.000000\n",
       "max      53211.000000\n",
       "Name: like_cnt, dtype: float64"
      ]
     },
     "execution_count": 56,
     "metadata": {},
     "output_type": "execute_result"
    }
   ],
   "source": [
    "playlists_song_cut['like_cnt'].describe()"
   ]
  },
  {
   "cell_type": "code",
   "execution_count": 57,
   "metadata": {},
   "outputs": [
    {
     "name": "stdout",
     "output_type": "stream",
     "text": [
      "-28.0\n",
      "52.0\n"
     ]
    }
   ],
   "source": [
    "Q1 = 2\n",
    "Q3 = 22\n",
    "IQR = Q3 - Q1\n",
    "\n",
    "print(Q1-(1.5*IQR))\n",
    "print(Q3+(1.5*IQR))"
   ]
  },
  {
   "cell_type": "code",
   "execution_count": 58,
   "metadata": {},
   "outputs": [],
   "source": [
    "playlists_song_like_cut = playlists_song_cut[playlists_song_cut['like_cnt'] > 2]"
   ]
  },
  {
   "cell_type": "code",
   "execution_count": 59,
   "metadata": {},
   "outputs": [
    {
     "data": {
      "text/plain": [
       "count    74114.000000\n",
       "mean       102.757657\n",
       "std        503.042558\n",
       "min          3.000000\n",
       "25%          6.000000\n",
       "50%         12.000000\n",
       "75%         35.000000\n",
       "max      53211.000000\n",
       "Name: like_cnt, dtype: float64"
      ]
     },
     "execution_count": 59,
     "metadata": {},
     "output_type": "execute_result"
    }
   ],
   "source": [
    "playlists_song_like_cut['like_cnt'].describe()"
   ]
  },
  {
   "cell_type": "code",
   "execution_count": 60,
   "metadata": {},
   "outputs": [
    {
     "name": "stdout",
     "output_type": "stream",
     "text": [
      "<class 'pandas.core.frame.DataFrame'>\n",
      "Int64Index: 51916 entries, 8 to 114693\n",
      "Data columns (total 6 columns):\n",
      " #   Column        Non-Null Count  Dtype \n",
      "---  ------        --------------  ----- \n",
      " 0   tags          51916 non-null  object\n",
      " 1   id            51916 non-null  int64 \n",
      " 2   plylst_title  51916 non-null  object\n",
      " 3   songs         51916 non-null  object\n",
      " 4   like_cnt      51916 non-null  int64 \n",
      " 5   updt_date     51916 non-null  object\n",
      "dtypes: int64(2), object(4)\n",
      "memory usage: 2.8+ MB\n"
     ]
    }
   ],
   "source": [
    "playlists_song_like_cut = playlists_song_cut[playlists_song_cut['like_cnt'] > 6]\n",
    "playlists_song_like_cut = playlists_song_like_cut.iloc[:, :6]\n",
    "playlists_song_like_cut.info()# 98973 - 51916 = 47057행 삭제"
   ]
  },
  {
   "cell_type": "markdown",
   "metadata": {},
   "source": [
    "> 4. song, 태그 빈도수에 따라 리스트에서 빼기 -> 리스트가 비워져있으면 행 날리기"
   ]
  },
  {
   "cell_type": "markdown",
   "metadata": {},
   "source": [
    "- 10회 이하 사용된 tag 리스트에서 빼기"
   ]
  },
  {
   "cell_type": "code",
   "execution_count": 63,
   "metadata": {},
   "outputs": [
    {
     "data": {
      "text/plain": [
       "tags    26837\n",
       "dtype: int64"
      ]
     },
     "execution_count": 63,
     "metadata": {},
     "output_type": "execute_result"
    }
   ],
   "source": [
    "pd.DataFrame(playlists_song_cut.explode('tags')['tags']).nunique() # 26837개"
   ]
  },
  {
   "cell_type": "code",
   "execution_count": 64,
   "metadata": {},
   "outputs": [],
   "source": [
    "# tag usage count 계산\n",
    "tag_counts = playlists_song_like_cut.explode('tags')['tags'].value_counts(ascending=True)\n",
    "\n",
    "# 10번 사용된 태그\n",
    "less_than_10_tags = list(tag_counts[tag_counts <= 10].index) # 17935개"
   ]
  },
  {
   "cell_type": "code",
   "execution_count": 65,
   "metadata": {},
   "outputs": [
    {
     "data": {
      "text/plain": [
       "17935"
      ]
     },
     "execution_count": 65,
     "metadata": {},
     "output_type": "execute_result"
    }
   ],
   "source": [
    "len(less_than_10_tags)"
   ]
  },
  {
   "cell_type": "markdown",
   "metadata": {},
   "source": [
    "- tag_counts describe"
   ]
  },
  {
   "cell_type": "code",
   "execution_count": 66,
   "metadata": {},
   "outputs": [
    {
     "data": {
      "text/plain": [
       "count    19601.000000\n",
       "mean        12.124024\n",
       "std        134.788890\n",
       "min          1.000000\n",
       "25%          1.000000\n",
       "50%          1.000000\n",
       "75%          3.000000\n",
       "max       7303.000000\n",
       "Name: tags, dtype: float64"
      ]
     },
     "execution_count": 66,
     "metadata": {},
     "output_type": "execute_result"
    }
   ],
   "source": [
    "tag_counts.describe()"
   ]
  },
  {
   "cell_type": "code",
   "execution_count": 67,
   "metadata": {},
   "outputs": [
    {
     "name": "stdout",
     "output_type": "stream",
     "text": [
      "-2.0\n",
      "6.0\n"
     ]
    }
   ],
   "source": [
    "Q1 = 1\n",
    "Q3 = 3\n",
    "IQR = Q3 - Q1\n",
    "\n",
    "print(Q1-(1.5*IQR))\n",
    "print(Q3+(1.5*IQR))"
   ]
  },
  {
   "cell_type": "code",
   "execution_count": 68,
   "metadata": {},
   "outputs": [
    {
     "name": "stderr",
     "output_type": "stream",
     "text": [
      "  0%|          | 0/51916 [00:00<?, ?it/s]"
     ]
    },
    {
     "name": "stderr",
     "output_type": "stream",
     "text": [
      "100%|██████████| 51916/51916 [00:38<00:00, 1335.27it/s]\n"
     ]
    }
   ],
   "source": [
    "from tqdm import tqdm\n",
    "tqdm.pandas()\n",
    "\n",
    "playlists_song_like_cut['tags'] = playlists_song_like_cut['tags'].progress_apply(lambda tags: list(set(tags).difference(less_than_10_tags)))"
   ]
  },
  {
   "cell_type": "code",
   "execution_count": 69,
   "metadata": {},
   "outputs": [
    {
     "data": {
      "text/html": [
       "<div>\n",
       "<style scoped>\n",
       "    .dataframe tbody tr th:only-of-type {\n",
       "        vertical-align: middle;\n",
       "    }\n",
       "\n",
       "    .dataframe tbody tr th {\n",
       "        vertical-align: top;\n",
       "    }\n",
       "\n",
       "    .dataframe thead th {\n",
       "        text-align: right;\n",
       "    }\n",
       "</style>\n",
       "<table border=\"1\" class=\"dataframe\">\n",
       "  <thead>\n",
       "    <tr style=\"text-align: right;\">\n",
       "      <th></th>\n",
       "      <th>tags</th>\n",
       "      <th>id</th>\n",
       "      <th>plylst_title</th>\n",
       "      <th>songs</th>\n",
       "      <th>like_cnt</th>\n",
       "      <th>updt_date</th>\n",
       "    </tr>\n",
       "  </thead>\n",
       "  <tbody>\n",
       "    <tr>\n",
       "      <th>8</th>\n",
       "      <td>[크리스마스, 겨울]</td>\n",
       "      <td>117162</td>\n",
       "      <td>12월의 재즈</td>\n",
       "      <td>[588425, 407630, 235568, 347651, 423132, 35204...</td>\n",
       "      <td>353</td>\n",
       "      <td>2016-12-26 12:33:33.000</td>\n",
       "    </tr>\n",
       "    <tr>\n",
       "      <th>9</th>\n",
       "      <td>[발라드]</td>\n",
       "      <td>151638</td>\n",
       "      <td>12월의 크리스마스를 yeah</td>\n",
       "      <td>[290351, 404382, 591246, 18938, 610105, 676958...</td>\n",
       "      <td>29</td>\n",
       "      <td>2009-12-22 09:11:45.000</td>\n",
       "    </tr>\n",
       "    <tr>\n",
       "      <th>12</th>\n",
       "      <td>[일렉]</td>\n",
       "      <td>27984</td>\n",
       "      <td>1월의 최신 EDM 소식</td>\n",
       "      <td>[329736, 201677, 626680, 555898, 58608, 585855...</td>\n",
       "      <td>84</td>\n",
       "      <td>2015-01-29 16:22:19.000</td>\n",
       "    </tr>\n",
       "    <tr>\n",
       "      <th>18</th>\n",
       "      <td>[랩, 힙합]</td>\n",
       "      <td>48636</td>\n",
       "      <td>2000년대 힙합을 부탁해</td>\n",
       "      <td>[690359, 316577, 492528, 320162, 362619, 31150...</td>\n",
       "      <td>54</td>\n",
       "      <td>2015-06-09 17:25:51.000</td>\n",
       "    </tr>\n",
       "    <tr>\n",
       "      <th>21</th>\n",
       "      <td>[락]</td>\n",
       "      <td>30079</td>\n",
       "      <td>2008 그랜드민트 페스티벌</td>\n",
       "      <td>[4687, 447505, 464502, 409059, 24344, 564377, ...</td>\n",
       "      <td>12</td>\n",
       "      <td>2008-12-23 19:56:46.000</td>\n",
       "    </tr>\n",
       "  </tbody>\n",
       "</table>\n",
       "</div>"
      ],
      "text/plain": [
       "           tags      id      plylst_title  \\\n",
       "8   [크리스마스, 겨울]  117162           12월의 재즈   \n",
       "9         [발라드]  151638  12월의 크리스마스를 yeah   \n",
       "12         [일렉]   27984     1월의 최신 EDM 소식   \n",
       "18      [랩, 힙합]   48636    2000년대 힙합을 부탁해   \n",
       "21          [락]   30079   2008 그랜드민트 페스티벌   \n",
       "\n",
       "                                                songs  like_cnt  \\\n",
       "8   [588425, 407630, 235568, 347651, 423132, 35204...       353   \n",
       "9   [290351, 404382, 591246, 18938, 610105, 676958...        29   \n",
       "12  [329736, 201677, 626680, 555898, 58608, 585855...        84   \n",
       "18  [690359, 316577, 492528, 320162, 362619, 31150...        54   \n",
       "21  [4687, 447505, 464502, 409059, 24344, 564377, ...        12   \n",
       "\n",
       "                  updt_date  \n",
       "8   2016-12-26 12:33:33.000  \n",
       "9   2009-12-22 09:11:45.000  \n",
       "12  2015-01-29 16:22:19.000  \n",
       "18  2015-06-09 17:25:51.000  \n",
       "21  2008-12-23 19:56:46.000  "
      ]
     },
     "execution_count": 69,
     "metadata": {},
     "output_type": "execute_result"
    }
   ],
   "source": [
    "# tags가 비어있지 않은 행만 남김\n",
    "playlists_tag_cut = playlists_song_like_cut[playlists_song_like_cut['tags'].apply(lambda x: len(x) > 0)]\n",
    "playlists_tag_cut.head()"
   ]
  },
  {
   "cell_type": "code",
   "execution_count": 70,
   "metadata": {},
   "outputs": [
    {
     "name": "stderr",
     "output_type": "stream",
     "text": [
      "C:\\Users\\cg063\\AppData\\Local\\Temp\\ipykernel_12508\\4293636261.py:1: SettingWithCopyWarning: \n",
      "A value is trying to be set on a copy of a slice from a DataFrame.\n",
      "Try using .loc[row_indexer,col_indexer] = value instead\n",
      "\n",
      "See the caveats in the documentation: https://pandas.pydata.org/pandas-docs/stable/user_guide/indexing.html#returning-a-view-versus-a-copy\n",
      "  playlists_tag_cut['tag_cnt'] = playlists_tag_cut['tags'].apply(len)\n"
     ]
    },
    {
     "data": {
      "text/plain": [
       "array([ 2,  1,  4,  3,  7,  8,  6,  5,  9, 10, 11], dtype=int64)"
      ]
     },
     "execution_count": 70,
     "metadata": {},
     "output_type": "execute_result"
    }
   ],
   "source": [
    "playlists_tag_cut['tag_cnt'] = playlists_tag_cut['tags'].apply(len)\n",
    "playlists_tag_cut['tag_cnt'].unique()"
   ]
  },
  {
   "cell_type": "code",
   "execution_count": 71,
   "metadata": {},
   "outputs": [
    {
     "data": {
      "text/plain": [
       "뉴웨이브       11\n",
       "SOCAR      11\n",
       "쏘카         11\n",
       "해외알앤비      11\n",
       "편한         11\n",
       "         ... \n",
       "잔잔한      4294\n",
       "휴식       4703\n",
       "감성       4827\n",
       "드라이브     4839\n",
       "기분전환     7302\n",
       "Name: tags, Length: 1666, dtype: int64"
      ]
     },
     "execution_count": 71,
     "metadata": {},
     "output_type": "execute_result"
    }
   ],
   "source": [
    "playlists_song_like_cut.explode('tags')['tags'].value_counts(ascending=True)"
   ]
  },
  {
   "cell_type": "code",
   "execution_count": 72,
   "metadata": {},
   "outputs": [
    {
     "name": "stdout",
     "output_type": "stream",
     "text": [
      "<class 'pandas.core.frame.DataFrame'>\n",
      "Int64Index: 50984 entries, 8 to 114693\n",
      "Data columns (total 6 columns):\n",
      " #   Column        Non-Null Count  Dtype \n",
      "---  ------        --------------  ----- \n",
      " 0   tags          50984 non-null  object\n",
      " 1   id            50984 non-null  int64 \n",
      " 2   plylst_title  50984 non-null  object\n",
      " 3   songs         50984 non-null  object\n",
      " 4   like_cnt      50984 non-null  int64 \n",
      " 5   updt_date     50984 non-null  object\n",
      "dtypes: int64(2), object(4)\n",
      "memory usage: 2.7+ MB\n"
     ]
    }
   ],
   "source": [
    "playlists_tag_cut = playlists_tag_cut.iloc[:, :6]\n",
    "playlists_tag_cut.info()\n",
    "\n",
    "# 51916 - 50984  = 932행 삭제"
   ]
  },
  {
   "cell_type": "code",
   "execution_count": 73,
   "metadata": {},
   "outputs": [
    {
     "data": {
      "text/plain": [
       "tags    1666\n",
       "dtype: int64"
      ]
     },
     "execution_count": 73,
     "metadata": {},
     "output_type": "execute_result"
    }
   ],
   "source": [
    "pd.DataFrame(playlists_tag_cut.explode('tags')['tags']).nunique() # 26837개 -> 1666개"
   ]
  },
  {
   "cell_type": "markdown",
   "metadata": {},
   "source": [
    "- 10회 이하 사용된 song 리스트에서 빼기"
   ]
  },
  {
   "cell_type": "code",
   "execution_count": 74,
   "metadata": {},
   "outputs": [],
   "source": [
    "# song usage count 계산\n",
    "songs_counts = playlists_tag_cut.explode('songs')['songs'].value_counts(ascending=True)\n",
    "\n",
    "# 10번 이하 사용된 song\n",
    "less_than_10_songs = list(songs_counts[songs_counts <= 10].index) # 358521개"
   ]
  },
  {
   "cell_type": "code",
   "execution_count": 75,
   "metadata": {},
   "outputs": [
    {
     "data": {
      "text/plain": [
       "songs    390852\n",
       "dtype: int64"
      ]
     },
     "execution_count": 75,
     "metadata": {},
     "output_type": "execute_result"
    }
   ],
   "source": [
    "pd.DataFrame(playlists_tag_cut.explode('songs')['songs']).nunique() # 390852개"
   ]
  },
  {
   "cell_type": "markdown",
   "metadata": {},
   "source": [
    "- songs_counts describe 확인"
   ]
  },
  {
   "cell_type": "code",
   "execution_count": 76,
   "metadata": {},
   "outputs": [
    {
     "data": {
      "text/plain": [
       "count    390852.000000\n",
       "mean          4.912806\n",
       "std          15.773784\n",
       "min           1.000000\n",
       "25%           1.000000\n",
       "50%           1.000000\n",
       "75%           3.000000\n",
       "max         893.000000\n",
       "Name: songs, dtype: float64"
      ]
     },
     "execution_count": 76,
     "metadata": {},
     "output_type": "execute_result"
    }
   ],
   "source": [
    "songs_counts.describe()"
   ]
  },
  {
   "cell_type": "code",
   "execution_count": 77,
   "metadata": {},
   "outputs": [
    {
     "name": "stdout",
     "output_type": "stream",
     "text": [
      "-2.0\n",
      "6.0\n"
     ]
    }
   ],
   "source": [
    "Q1 = 1\n",
    "Q3 = 3\n",
    "IQR = Q3 - Q1\n",
    "\n",
    "print(Q1-(1.5*IQR))\n",
    "print(Q3+(1.5*IQR))"
   ]
  },
  {
   "cell_type": "code",
   "execution_count": 78,
   "metadata": {},
   "outputs": [
    {
     "name": "stderr",
     "output_type": "stream",
     "text": [
      "100%|██████████| 50984/50984 [09:29<00:00, 89.48it/s] \n"
     ]
    }
   ],
   "source": [
    "# 10번 이하 사용된 songs 삭제\n",
    "playlists_tag_cut['songs'] = playlists_tag_cut['songs'].progress_apply(lambda songs: list(set(songs).difference(less_than_10_songs)))"
   ]
  },
  {
   "cell_type": "code",
   "execution_count": 79,
   "metadata": {},
   "outputs": [
    {
     "data": {
      "text/html": [
       "<div>\n",
       "<style scoped>\n",
       "    .dataframe tbody tr th:only-of-type {\n",
       "        vertical-align: middle;\n",
       "    }\n",
       "\n",
       "    .dataframe tbody tr th {\n",
       "        vertical-align: top;\n",
       "    }\n",
       "\n",
       "    .dataframe thead th {\n",
       "        text-align: right;\n",
       "    }\n",
       "</style>\n",
       "<table border=\"1\" class=\"dataframe\">\n",
       "  <thead>\n",
       "    <tr style=\"text-align: right;\">\n",
       "      <th></th>\n",
       "      <th>tags</th>\n",
       "      <th>id</th>\n",
       "      <th>plylst_title</th>\n",
       "      <th>songs</th>\n",
       "      <th>like_cnt</th>\n",
       "      <th>updt_date</th>\n",
       "    </tr>\n",
       "  </thead>\n",
       "  <tbody>\n",
       "    <tr>\n",
       "      <th>8</th>\n",
       "      <td>[크리스마스, 겨울]</td>\n",
       "      <td>117162</td>\n",
       "      <td>12월의 재즈</td>\n",
       "      <td>[677632, 309377, 473793, 179652, 407630, 35204...</td>\n",
       "      <td>353</td>\n",
       "      <td>2016-12-26 12:33:33.000</td>\n",
       "    </tr>\n",
       "    <tr>\n",
       "      <th>9</th>\n",
       "      <td>[발라드]</td>\n",
       "      <td>151638</td>\n",
       "      <td>12월의 크리스마스를 yeah</td>\n",
       "      <td>[560007, 653711, 112399, 404382, 528414, 65475...</td>\n",
       "      <td>29</td>\n",
       "      <td>2009-12-22 09:11:45.000</td>\n",
       "    </tr>\n",
       "    <tr>\n",
       "      <th>12</th>\n",
       "      <td>[일렉]</td>\n",
       "      <td>27984</td>\n",
       "      <td>1월의 최신 EDM 소식</td>\n",
       "      <td>[16261, 596152]</td>\n",
       "      <td>84</td>\n",
       "      <td>2015-01-29 16:22:19.000</td>\n",
       "    </tr>\n",
       "    <tr>\n",
       "      <th>18</th>\n",
       "      <td>[랩, 힙합]</td>\n",
       "      <td>48636</td>\n",
       "      <td>2000년대 힙합을 부탁해</td>\n",
       "      <td>[168900, 514885, 399897, 310879, 316577, 32016...</td>\n",
       "      <td>54</td>\n",
       "      <td>2015-06-09 17:25:51.000</td>\n",
       "    </tr>\n",
       "    <tr>\n",
       "      <th>21</th>\n",
       "      <td>[락]</td>\n",
       "      <td>30079</td>\n",
       "      <td>2008 그랜드민트 페스티벌</td>\n",
       "      <td>[186245, 581896, 310677, 564377, 132247, 69155...</td>\n",
       "      <td>12</td>\n",
       "      <td>2008-12-23 19:56:46.000</td>\n",
       "    </tr>\n",
       "  </tbody>\n",
       "</table>\n",
       "</div>"
      ],
      "text/plain": [
       "           tags      id      plylst_title  \\\n",
       "8   [크리스마스, 겨울]  117162           12월의 재즈   \n",
       "9         [발라드]  151638  12월의 크리스마스를 yeah   \n",
       "12         [일렉]   27984     1월의 최신 EDM 소식   \n",
       "18      [랩, 힙합]   48636    2000년대 힙합을 부탁해   \n",
       "21          [락]   30079   2008 그랜드민트 페스티벌   \n",
       "\n",
       "                                                songs  like_cnt  \\\n",
       "8   [677632, 309377, 473793, 179652, 407630, 35204...       353   \n",
       "9   [560007, 653711, 112399, 404382, 528414, 65475...        29   \n",
       "12                                    [16261, 596152]        84   \n",
       "18  [168900, 514885, 399897, 310879, 316577, 32016...        54   \n",
       "21  [186245, 581896, 310677, 564377, 132247, 69155...        12   \n",
       "\n",
       "                  updt_date  \n",
       "8   2016-12-26 12:33:33.000  \n",
       "9   2009-12-22 09:11:45.000  \n",
       "12  2015-01-29 16:22:19.000  \n",
       "18  2015-06-09 17:25:51.000  \n",
       "21  2008-12-23 19:56:46.000  "
      ]
     },
     "execution_count": 79,
     "metadata": {},
     "output_type": "execute_result"
    }
   ],
   "source": [
    "# songs가 비어있지 않은 행만 남김\n",
    "playlists_tag_song_cut = playlists_tag_cut[playlists_tag_cut['songs'].apply(lambda x: len(x) > 0)]\n",
    "playlists_tag_song_cut.head()"
   ]
  },
  {
   "cell_type": "code",
   "execution_count": 84,
   "metadata": {},
   "outputs": [
    {
     "name": "stderr",
     "output_type": "stream",
     "text": [
      "C:\\Users\\cg063\\AppData\\Local\\Temp\\ipykernel_12508\\1943819515.py:1: SettingWithCopyWarning: \n",
      "A value is trying to be set on a copy of a slice from a DataFrame.\n",
      "Try using .loc[row_indexer,col_indexer] = value instead\n",
      "\n",
      "See the caveats in the documentation: https://pandas.pydata.org/pandas-docs/stable/user_guide/indexing.html#returning-a-view-versus-a-copy\n",
      "  playlists_tag_song_cut['song_cnt'] = playlists_tag_song_cut['songs'].apply(len)\n"
     ]
    },
    {
     "data": {
      "text/plain": [
       "array([  8,  27,   2,  14,  23,  58,  19,   1,   5,   4,  26,   7,  12,\n",
       "         9,  11,  24,  59,  10,  60,  16,  64,  30,  66,  44,  13,  76,\n",
       "        90,  71,  21,  31,  68,  88,   6,  28,  22,  18,  39,  40,  20,\n",
       "        49,  36,  29,  53,  25,  17,  52,  56,  57,  81,  41,   3,  33,\n",
       "        50,  46,  79,  83,  42,  65,  98,  37,  43,  47,  51,  15,  74,\n",
       "        32,  35,  84,  34,  38,  80,  89,  70,  61,  63,  72,  55,  73,\n",
       "        54,  62,  82,  77,  45,  78,  48,  87,  93,  97,  67,  75,  95,\n",
       "        99, 101, 100,  91,  86,  94,  92,  69,  85, 103,  96, 102, 104],\n",
       "      dtype=int64)"
      ]
     },
     "execution_count": 84,
     "metadata": {},
     "output_type": "execute_result"
    }
   ],
   "source": [
    "playlists_tag_song_cut['song_cnt'] = playlists_tag_song_cut['songs'].apply(len)\n",
    "playlists_tag_song_cut['song_cnt'].unique()"
   ]
  },
  {
   "cell_type": "code",
   "execution_count": 85,
   "metadata": {},
   "outputs": [
    {
     "data": {
      "text/plain": [
       "73450      11\n",
       "701433     11\n",
       "103239     11\n",
       "433799     11\n",
       "369510     11\n",
       "         ... \n",
       "581799    583\n",
       "144663    635\n",
       "366786    678\n",
       "116573    743\n",
       "205179    893\n",
       "Name: songs, Length: 32331, dtype: int64"
      ]
     },
     "execution_count": 85,
     "metadata": {},
     "output_type": "execute_result"
    }
   ],
   "source": [
    "playlists_tag_song_cut.explode('songs')['songs'].value_counts(ascending=True) # 10회 이하 사용된 song들이 알맞게 제거 되었는지 확인"
   ]
  },
  {
   "cell_type": "code",
   "execution_count": 89,
   "metadata": {},
   "outputs": [
    {
     "data": {
      "text/plain": [
       "songs    32331\n",
       "dtype: int64"
      ]
     },
     "execution_count": 89,
     "metadata": {},
     "output_type": "execute_result"
    }
   ],
   "source": [
    "pd.DataFrame(playlists_tag_song_cut.explode('songs')['songs']).nunique() # 390852개 -> 32331개로 삭제\n",
    "# 사용빈도수가 높은 노래가 좋아요를 유도한다는 근거를 만듦 <- 회귀분석을 통해서\n",
    "# 노래들간의 관계가 차원축소되고 이걸 오토인코더에넣으면 노래들간의 관계를 복원한다는 아이디어\n",
    "# 노래들간의 관계를 똑같이 복원하면 안되니까 디노이즈"
   ]
  },
  {
   "cell_type": "code",
   "execution_count": 87,
   "metadata": {},
   "outputs": [
    {
     "name": "stdout",
     "output_type": "stream",
     "text": [
      "<class 'pandas.core.frame.DataFrame'>\n",
      "Int64Index: 47989 entries, 8 to 114693\n",
      "Data columns (total 6 columns):\n",
      " #   Column        Non-Null Count  Dtype \n",
      "---  ------        --------------  ----- \n",
      " 0   tags          47989 non-null  object\n",
      " 1   id            47989 non-null  int64 \n",
      " 2   plylst_title  47989 non-null  object\n",
      " 3   songs         47989 non-null  object\n",
      " 4   like_cnt      47989 non-null  int64 \n",
      " 5   updt_date     47989 non-null  object\n",
      "dtypes: int64(2), object(4)\n",
      "memory usage: 2.6+ MB\n"
     ]
    }
   ],
   "source": [
    "playlists_tag_song_cut = playlists_tag_song_cut.iloc[:, :6]\n",
    "playlists_tag_song_cut.info()\n",
    "\n",
    "# 50984 - 47989 = 2995행 제거"
   ]
  },
  {
   "cell_type": "code",
   "execution_count": 88,
   "metadata": {},
   "outputs": [],
   "source": [
    "# playlists 저장\n",
    "playlists_tag_song_cut.to_json('../0_data/playlists_tag,song_10freq.json', orient='records')"
   ]
  },
  {
   "cell_type": "markdown",
   "metadata": {},
   "source": [
    "> 정리"
   ]
  },
  {
   "cell_type": "markdown",
   "metadata": {},
   "source": [
    "=> song_meta : 날짜 수정, 장르 정보 없는 노래 제거  \n",
    "=> playlists  \n",
    "    - 타이틀 & 태그 불용어 삭제 : 특수문자, 빈 타이틀, 모두 숫자인 경우, 1글자인 경우 포함  \n",
    "    - 타이틀 중복 제거 : 타이틀이 완벽하게 같을 경우 '1_노래 갯수 많은 순서 -> 2_좋아요 갯수 많은 순서 -> 3_태그 갯수 많은 순서 -> 4_최신 업데이트' 기준으로 1개씩 골라냄 (4가지를 했는데도 같은건 완벽히 같았기에 하나만 남김)  \n",
    "    - 중복 제거 후 song_cnt describe 해 5~104개 남기기, like_cnt describe 3개 이상인 플레이리스트   \n",
    "    - 1번 사용된 tag, 2번 이하 사용된song 제거  \n",
    "  \n",
    "  \n",
    "=> 115071(원래 playlist) -73014(전처리 후) = 42057행 삭제"
   ]
  },
  {
   "cell_type": "markdown",
   "metadata": {},
   "source": [
    "> 데이터 저장"
   ]
  },
  {
   "cell_type": "markdown",
   "metadata": {},
   "source": [
    "- 최종 전처리 파일은 ../0_data/playlists_filter.json 으로 저장"
   ]
  },
  {
   "cell_type": "code",
   "execution_count": 368,
   "metadata": {},
   "outputs": [],
   "source": [
    "# playlists 저장\n",
    "playlists_tag_song_cut.to_json('../0_data/playlists_filter.json', orient='records')"
   ]
  },
  {
   "cell_type": "markdown",
   "metadata": {},
   "source": [
    "---"
   ]
  }
 ],
 "metadata": {
  "kernelspec": {
   "display_name": "base",
   "language": "python",
   "name": "python3"
  },
  "language_info": {
   "codemirror_mode": {
    "name": "ipython",
    "version": 3
   },
   "file_extension": ".py",
   "mimetype": "text/x-python",
   "name": "python",
   "nbconvert_exporter": "python",
   "pygments_lexer": "ipython3",
   "version": "3.11.4"
  },
  "orig_nbformat": 4
 },
 "nbformat": 4,
 "nbformat_minor": 2
}
