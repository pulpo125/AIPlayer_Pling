{
 "cells": [
  {
   "cell_type": "markdown",
   "metadata": {},
   "source": [
    "# 3. 전처리"
   ]
  },
  {
   "cell_type": "markdown",
   "metadata": {},
   "source": [
    "1. 타이틀, 태그 불용어 처리\n",
    "2. 타이틀 중복된 플레이리스트 제거\n",
    "3. 플리별 노래 개수, 좋아요 수 이상치 행 날리기 (태그는 보고 진행)\n",
    "4. 송, 태그 빈도수에 따라 리스트에서 빼기 -> 리스트가 비워져 있으면 행 날리기"
   ]
  },
  {
   "cell_type": "code",
   "execution_count": 2,
   "metadata": {},
   "outputs": [],
   "source": [
    "import json\n",
    "import pandas as pd\n",
    "import numpy as np\n",
    "from emoji import core\n",
    "import re\n",
    "import ast\n",
    "from matplotlib import pyplot as plt"
   ]
  },
  {
   "cell_type": "code",
   "execution_count": 3,
   "metadata": {},
   "outputs": [],
   "source": [
    "\n",
    "playlists = pd.read_json('../0_data/playlists.json', typ = 'frame', encoding='utf-8')\n",
    "song_meta = pd.read_json('../0_data/song_meta.json', typ = 'frame', encoding='utf-8') \n",
    "genre_gn_all = pd.read_json('../0_data/genre_gn_all.json', typ = 'frame', encoding='utf-8', orient='index')"
   ]
  },
  {
   "cell_type": "markdown",
   "metadata": {},
   "source": [
    "## 1) 오류 및 불용어 처리"
   ]
  },
  {
   "cell_type": "markdown",
   "metadata": {},
   "source": [
    "### song_meta"
   ]
  },
  {
   "cell_type": "markdown",
   "metadata": {},
   "source": [
    "> 1. 날짜 오류 수정"
   ]
  },
  {
   "cell_type": "code",
   "execution_count": 4,
   "metadata": {},
   "outputs": [],
   "source": [
    "# 날짜 오류있는 행 확인\n",
    "song_meta[song_meta['issue_date'] > 20220000] # index : 141185, 448286\n",
    "\n",
    "indices_to_update = [141185, 448286]\n",
    "new_value = 20200113 # 알맞는 발매날짜\n",
    "# 특정 행의 'issue_date' 값을 변경\n",
    "for idx in indices_to_update:\n",
    "    song_meta.at[idx, 'issue_date'] = new_value"
   ]
  },
  {
   "cell_type": "code",
   "execution_count": 5,
   "metadata": {},
   "outputs": [
    {
     "data": {
      "text/html": [
       "<div>\n",
       "<style scoped>\n",
       "    .dataframe tbody tr th:only-of-type {\n",
       "        vertical-align: middle;\n",
       "    }\n",
       "\n",
       "    .dataframe tbody tr th {\n",
       "        vertical-align: top;\n",
       "    }\n",
       "\n",
       "    .dataframe thead th {\n",
       "        text-align: right;\n",
       "    }\n",
       "</style>\n",
       "<table border=\"1\" class=\"dataframe\">\n",
       "  <thead>\n",
       "    <tr style=\"text-align: right;\">\n",
       "      <th></th>\n",
       "      <th>song_gn_dtl_gnr_basket</th>\n",
       "      <th>issue_date</th>\n",
       "      <th>album_name</th>\n",
       "      <th>album_id</th>\n",
       "      <th>artist_id_basket</th>\n",
       "      <th>song_name</th>\n",
       "      <th>song_gn_gnr_basket</th>\n",
       "      <th>artist_name_basket</th>\n",
       "      <th>id</th>\n",
       "    </tr>\n",
       "  </thead>\n",
       "  <tbody>\n",
       "    <tr>\n",
       "      <th>141185</th>\n",
       "      <td>[GN1801]</td>\n",
       "      <td>20200113</td>\n",
       "      <td>고요한 밤바다 구경하기 [여수 바다]</td>\n",
       "      <td>10403230</td>\n",
       "      <td>[2737142]</td>\n",
       "      <td>잔잔한 바람이 불어와 (There is a gentle breeze)</td>\n",
       "      <td>[GN1800]</td>\n",
       "      <td>[무드홀릭 (Moodholic)]</td>\n",
       "      <td>141185</td>\n",
       "    </tr>\n",
       "    <tr>\n",
       "      <th>448286</th>\n",
       "      <td>[GN1801]</td>\n",
       "      <td>20200113</td>\n",
       "      <td>고요한 밤바다 구경하기 [여수 바다]</td>\n",
       "      <td>10403230</td>\n",
       "      <td>[2737142]</td>\n",
       "      <td>여수 바다 (Yeosu sea)</td>\n",
       "      <td>[GN1800]</td>\n",
       "      <td>[무드홀릭 (Moodholic)]</td>\n",
       "      <td>448286</td>\n",
       "    </tr>\n",
       "  </tbody>\n",
       "</table>\n",
       "</div>"
      ],
      "text/plain": [
       "       song_gn_dtl_gnr_basket  issue_date            album_name  album_id  \\\n",
       "141185               [GN1801]    20200113  고요한 밤바다 구경하기 [여수 바다]  10403230   \n",
       "448286               [GN1801]    20200113  고요한 밤바다 구경하기 [여수 바다]  10403230   \n",
       "\n",
       "       artist_id_basket                               song_name  \\\n",
       "141185        [2737142]  잔잔한 바람이 불어와 (There is a gentle breeze)   \n",
       "448286        [2737142]                       여수 바다 (Yeosu sea)   \n",
       "\n",
       "       song_gn_gnr_basket  artist_name_basket      id  \n",
       "141185           [GN1800]  [무드홀릭 (Moodholic)]  141185  \n",
       "448286           [GN1800]  [무드홀릭 (Moodholic)]  448286  "
      ]
     },
     "execution_count": 5,
     "metadata": {},
     "output_type": "execute_result"
    }
   ],
   "source": [
    "# 알맞게 변경되었는지 확인\n",
    "song_meta.iloc[[141185, 448286], :]"
   ]
  },
  {
   "cell_type": "markdown",
   "metadata": {},
   "source": [
    "> 2. 대분류 장르 GN9000노래 삭제"
   ]
  },
  {
   "cell_type": "code",
   "execution_count": 6,
   "metadata": {},
   "outputs": [],
   "source": [
    "song_meta[song_meta['song_gn_gnr_basket'].apply(lambda x: 'GN9000' in x)] # 1834개\n",
    "song_meta = song_meta[~song_meta['song_gn_gnr_basket'].apply(lambda x: 'GN9000' in x)] # 삭제"
   ]
  },
  {
   "cell_type": "code",
   "execution_count": 7,
   "metadata": {},
   "outputs": [
    {
     "data": {
      "text/html": [
       "<div>\n",
       "<style scoped>\n",
       "    .dataframe tbody tr th:only-of-type {\n",
       "        vertical-align: middle;\n",
       "    }\n",
       "\n",
       "    .dataframe tbody tr th {\n",
       "        vertical-align: top;\n",
       "    }\n",
       "\n",
       "    .dataframe thead th {\n",
       "        text-align: right;\n",
       "    }\n",
       "</style>\n",
       "<table border=\"1\" class=\"dataframe\">\n",
       "  <thead>\n",
       "    <tr style=\"text-align: right;\">\n",
       "      <th></th>\n",
       "      <th>song_gn_dtl_gnr_basket</th>\n",
       "      <th>issue_date</th>\n",
       "      <th>album_name</th>\n",
       "      <th>album_id</th>\n",
       "      <th>artist_id_basket</th>\n",
       "      <th>song_name</th>\n",
       "      <th>song_gn_gnr_basket</th>\n",
       "      <th>artist_name_basket</th>\n",
       "      <th>id</th>\n",
       "    </tr>\n",
       "  </thead>\n",
       "  <tbody>\n",
       "  </tbody>\n",
       "</table>\n",
       "</div>"
      ],
      "text/plain": [
       "Empty DataFrame\n",
       "Columns: [song_gn_dtl_gnr_basket, issue_date, album_name, album_id, artist_id_basket, song_name, song_gn_gnr_basket, artist_name_basket, id]\n",
       "Index: []"
      ]
     },
     "execution_count": 7,
     "metadata": {},
     "output_type": "execute_result"
    }
   ],
   "source": [
    "# 삭제되었는지 확인\n",
    "song_meta[song_meta['song_gn_gnr_basket'].apply(lambda x: 'GN9000' in x)]"
   ]
  },
  {
   "cell_type": "code",
   "execution_count": 8,
   "metadata": {},
   "outputs": [],
   "source": [
    "# song_meta 저장\n",
    "song_meta.to_json('../0_data/song_meta_filter_h.json', orient='records')"
   ]
  },
  {
   "cell_type": "markdown",
   "metadata": {},
   "source": [
    "- song_meta에 필요한 행만 남긴 버전 + 장르 매핑된 버전이 필요함!"
   ]
  },
  {
   "cell_type": "markdown",
   "metadata": {},
   "source": [
    "### 2. playlists"
   ]
  },
  {
   "cell_type": "markdown",
   "metadata": {},
   "source": [
    "> 1. 타이틀, 태그 불용어 처리"
   ]
  },
  {
   "cell_type": "markdown",
   "metadata": {},
   "source": [
    "- 타이틀 특수 문자 제거"
   ]
  },
  {
   "cell_type": "code",
   "execution_count": 9,
   "metadata": {},
   "outputs": [],
   "source": [
    "# 이모지 제거 함수\n",
    "def replace_emoji(inputString):\n",
    "    return core.replace_emoji(inputString, replace='')\n",
    "\n",
    "# 특수문자 제거 함수\n",
    "def clean_text(inputString):\n",
    "  text_rmv = re.sub('[-=+,#/\\?:^●○.@*\\\"※~ㆍ!<>$♥❤♡☆★♪♬♩¶♨①๑｡＊②ఇ¥◈ ͡✔ ͡° ͜ʖ▶◀◎ღ✿ﾉ ;\\\\\\_■『│』ᕷⓗ‘|\\(\\)\\[\\]`\\'…》\\”\\“\\’·]',' ', inputString)\n",
    "  return text_rmv"
   ]
  },
  {
   "cell_type": "code",
   "execution_count": 10,
   "metadata": {},
   "outputs": [],
   "source": [
    "\n",
    "# # 이모지 제거 함수 적용\n",
    "playlists['plylst_title'] = playlists['plylst_title'].apply(replace_emoji)\n",
    "\n",
    "# 특수문자 제거 함수 적용\n",
    "playlists['plylst_title'] = playlists['plylst_title'].apply(clean_text)"
   ]
  },
  {
   "cell_type": "code",
   "execution_count": 11,
   "metadata": {},
   "outputs": [],
   "source": [
    "# 양 옆 공백, %, & 제거\n",
    "\n",
    "playlists['plylst_title'] = playlists['plylst_title'].str.strip()\n",
    "playlists['plylst_title'] = playlists['plylst_title'].str.strip('%')\n",
    "playlists['plylst_title'] = playlists['plylst_title'].str.strip('&')"
   ]
  },
  {
   "cell_type": "code",
   "execution_count": 16,
   "metadata": {},
   "outputs": [
    {
     "data": {
      "text/html": [
       "<div>\n",
       "<style scoped>\n",
       "    .dataframe tbody tr th:only-of-type {\n",
       "        vertical-align: middle;\n",
       "    }\n",
       "\n",
       "    .dataframe tbody tr th {\n",
       "        vertical-align: top;\n",
       "    }\n",
       "\n",
       "    .dataframe thead th {\n",
       "        text-align: right;\n",
       "    }\n",
       "</style>\n",
       "<table border=\"1\" class=\"dataframe\">\n",
       "  <thead>\n",
       "    <tr style=\"text-align: right;\">\n",
       "      <th></th>\n",
       "      <th>tags</th>\n",
       "      <th>id</th>\n",
       "      <th>plylst_title</th>\n",
       "      <th>songs</th>\n",
       "      <th>like_cnt</th>\n",
       "      <th>updt_date</th>\n",
       "    </tr>\n",
       "  </thead>\n",
       "  <tbody>\n",
       "    <tr>\n",
       "      <th>56134</th>\n",
       "      <td>[흥폭발]</td>\n",
       "      <td>22525</td>\n",
       "      <td>내적댄스 터져베이베       아이돌 노래노래</td>\n",
       "      <td>[108003, 594076, 297411, 97189, 35713, 445680,...</td>\n",
       "      <td>41</td>\n",
       "      <td>2018-06-15 19:24:26.000</td>\n",
       "    </tr>\n",
       "    <tr>\n",
       "      <th>59162</th>\n",
       "      <td>[가을, 설렘, 사랑]</td>\n",
       "      <td>143039</td>\n",
       "      <td>가을이다     o     곧 겨울이다     T T</td>\n",
       "      <td>[13142, 5049, 503816, 70166, 578529, 336829, 2...</td>\n",
       "      <td>1</td>\n",
       "      <td>2018-07-31 10:55:04.000</td>\n",
       "    </tr>\n",
       "  </tbody>\n",
       "</table>\n",
       "</div>"
      ],
      "text/plain": [
       "               tags      id                   plylst_title  \\\n",
       "56134         [흥폭발]   22525      내적댄스 터져베이베       아이돌 노래노래   \n",
       "59162  [가을, 설렘, 사랑]  143039  가을이다     o     곧 겨울이다     T T   \n",
       "\n",
       "                                                   songs  like_cnt  \\\n",
       "56134  [108003, 594076, 297411, 97189, 35713, 445680,...        41   \n",
       "59162  [13142, 5049, 503816, 70166, 578529, 336829, 2...         1   \n",
       "\n",
       "                     updt_date  \n",
       "56134  2018-06-15 19:24:26.000  \n",
       "59162  2018-07-31 10:55:04.000  "
      ]
     },
     "execution_count": 16,
     "metadata": {},
     "output_type": "execute_result"
    }
   ],
   "source": [
    "playlists.iloc[[56134, 59162],:] # 확인"
   ]
  },
  {
   "cell_type": "markdown",
   "metadata": {},
   "source": [
    "- 불용어 제거 시 영어는 제거 안되는 문제 탐색"
   ]
  },
  {
   "cell_type": "code",
   "execution_count": 25,
   "metadata": {},
   "outputs": [],
   "source": [
    "def has_english_characters(input_string):\n",
    "    # 정규 표현식을 사용하여 문자열에서 영어 문자를 검색\n",
    "    # [a-zA-Z]는 영어 대소문자를 나타냅니다.\n",
    "    pattern = re.compile('[a-zA-Z]')\n",
    "    \n",
    "    # 문자열에서 영어 문자 검색\n",
    "    result = pattern.search(input_string)\n",
    "    \n",
    "    # 검색 결과가 None이면 영어 문자가 없음을 의미\n",
    "    return result is not None\n",
    "\n",
    "playlists['has_english'] = playlists['plylst_title'].apply(lambda x: 1 if has_english_characters(x) else 0)"
   ]
  },
  {
   "cell_type": "code",
   "execution_count": 26,
   "metadata": {},
   "outputs": [
    {
     "data": {
      "text/plain": [
       "0    88066\n",
       "1    27005\n",
       "Name: has_english, dtype: int64"
      ]
     },
     "execution_count": 26,
     "metadata": {},
     "output_type": "execute_result"
    }
   ],
   "source": [
    "playlists['has_english'].value_counts()"
   ]
  },
  {
   "cell_type": "code",
   "execution_count": 27,
   "metadata": {},
   "outputs": [
    {
     "data": {
      "text/html": [
       "<div>\n",
       "<style scoped>\n",
       "    .dataframe tbody tr th:only-of-type {\n",
       "        vertical-align: middle;\n",
       "    }\n",
       "\n",
       "    .dataframe tbody tr th {\n",
       "        vertical-align: top;\n",
       "    }\n",
       "\n",
       "    .dataframe thead th {\n",
       "        text-align: right;\n",
       "    }\n",
       "</style>\n",
       "<table border=\"1\" class=\"dataframe\">\n",
       "  <thead>\n",
       "    <tr style=\"text-align: right;\">\n",
       "      <th></th>\n",
       "      <th>tags</th>\n",
       "      <th>id</th>\n",
       "      <th>plylst_title</th>\n",
       "      <th>songs</th>\n",
       "      <th>like_cnt</th>\n",
       "      <th>updt_date</th>\n",
       "      <th>has_english</th>\n",
       "    </tr>\n",
       "  </thead>\n",
       "  <tbody>\n",
       "    <tr>\n",
       "      <th>5</th>\n",
       "      <td>[운동, 드라이브, Pop, 트로피컬하우스, 힐링, 기분전환, 2017, 팝, 트렌...</td>\n",
       "      <td>69252</td>\n",
       "      <td>2017 Pop Trend</td>\n",
       "      <td>[418694, 222305, 96545, 135950, 304687, 457451...</td>\n",
       "      <td>435</td>\n",
       "      <td>2017-09-15 15:59:26.000</td>\n",
       "      <td>1</td>\n",
       "    </tr>\n",
       "    <tr>\n",
       "      <th>8</th>\n",
       "      <td>[일렉트로니카, 포크, 메탈, 락, 댄스, 인디]</td>\n",
       "      <td>70741</td>\n",
       "      <td>DANCING IN THE MOON LIGHT  01</td>\n",
       "      <td>[634861, 270738, 163936, 692209, 449477, 56342...</td>\n",
       "      <td>0</td>\n",
       "      <td>2019-11-30 21:17:59.000</td>\n",
       "      <td>1</td>\n",
       "    </tr>\n",
       "    <tr>\n",
       "      <th>9</th>\n",
       "      <td>[록, Metal, 이일우, M에센셜, 메탈, Rock, 락]</td>\n",
       "      <td>10288</td>\n",
       "      <td>록 메탈  Written by 이일우</td>\n",
       "      <td>[613315, 439294, 230806, 497932, 113479, 93506...</td>\n",
       "      <td>7</td>\n",
       "      <td>2016-06-17 18:23:54.000</td>\n",
       "      <td>1</td>\n",
       "    </tr>\n",
       "    <tr>\n",
       "      <th>11</th>\n",
       "      <td>[새해, 여행, 프로필음악, 카카오톡, 기분전환, 소원, 프로필, 소망, 다짐, 카톡]</td>\n",
       "      <td>151693</td>\n",
       "      <td>노래로 의지를 불태우자   1일1다짐  st용 프로필뮤직</td>\n",
       "      <td>[658738, 698779, 124485, 512610, 310028, 17422...</td>\n",
       "      <td>42</td>\n",
       "      <td>2017-02-16 15:45:23.000</td>\n",
       "      <td>1</td>\n",
       "    </tr>\n",
       "    <tr>\n",
       "      <th>13</th>\n",
       "      <td>[힙합, 느낌있는, 밤, 새벽, RnB, 감각적인, 드라이브, 국내, 그루브한]</td>\n",
       "      <td>89809</td>\n",
       "      <td>트렌디하고 그루브한 힙합 알앤비 MUSIC</td>\n",
       "      <td>[525152, 38765, 66139, 696379, 397438, 144461,...</td>\n",
       "      <td>1112</td>\n",
       "      <td>2018-01-09 14:01:53.000</td>\n",
       "      <td>1</td>\n",
       "    </tr>\n",
       "    <tr>\n",
       "      <th>...</th>\n",
       "      <td>...</td>\n",
       "      <td>...</td>\n",
       "      <td>...</td>\n",
       "      <td>...</td>\n",
       "      <td>...</td>\n",
       "      <td>...</td>\n",
       "      <td>...</td>\n",
       "    </tr>\n",
       "    <tr>\n",
       "      <th>115064</th>\n",
       "      <td>[JPOP]</td>\n",
       "      <td>145872</td>\n",
       "      <td>meltedmoon s tastes 1</td>\n",
       "      <td>[68191, 231806, 642423, 652037, 522165, 139541...</td>\n",
       "      <td>4</td>\n",
       "      <td>2010-02-27 04:43:19.000</td>\n",
       "      <td>1</td>\n",
       "    </tr>\n",
       "    <tr>\n",
       "      <th>115066</th>\n",
       "      <td>[록메탈, 밴드사운드, 록, 락메탈, 메탈, 락, extreme]</td>\n",
       "      <td>120325</td>\n",
       "      <td>METAL E SM  2</td>\n",
       "      <td>[429629, 441511, 612106, 516359, 691768, 38714...</td>\n",
       "      <td>3</td>\n",
       "      <td>2020-04-17 04:31:11.000</td>\n",
       "      <td>1</td>\n",
       "    </tr>\n",
       "    <tr>\n",
       "      <th>115067</th>\n",
       "      <td>[일렉]</td>\n",
       "      <td>106976</td>\n",
       "      <td>빠른 리스너를 위한 따끈따끈한 최신 인기 EDM 모음</td>\n",
       "      <td>[321330, 216057, 534472, 240306, 331098, 23288...</td>\n",
       "      <td>13</td>\n",
       "      <td>2015-12-24 17:23:19.000</td>\n",
       "      <td>1</td>\n",
       "    </tr>\n",
       "    <tr>\n",
       "      <th>115069</th>\n",
       "      <td>[잔잔한, 버스, 퇴근버스, Pop, 풍경, 퇴근길]</td>\n",
       "      <td>131982</td>\n",
       "      <td>퇴근 버스에서 편히 들으면서 하루를 마무리하기에 좋은 POP</td>\n",
       "      <td>[533534, 608114, 343608, 417140, 609009, 30217...</td>\n",
       "      <td>4</td>\n",
       "      <td>2019-10-25 23:40:42.000</td>\n",
       "      <td>1</td>\n",
       "    </tr>\n",
       "    <tr>\n",
       "      <th>115070</th>\n",
       "      <td>[노래추천, 팝송추천, 팝송, 팝송모음]</td>\n",
       "      <td>100389</td>\n",
       "      <td>FAVORITE POPSONG</td>\n",
       "      <td>[26008, 456354, 324105, 89871, 135272, 143548,...</td>\n",
       "      <td>17</td>\n",
       "      <td>2020-04-18 20:35:06.000</td>\n",
       "      <td>1</td>\n",
       "    </tr>\n",
       "  </tbody>\n",
       "</table>\n",
       "<p>27005 rows × 7 columns</p>\n",
       "</div>"
      ],
      "text/plain": [
       "                                                     tags      id  \\\n",
       "5       [운동, 드라이브, Pop, 트로피컬하우스, 힐링, 기분전환, 2017, 팝, 트렌...   69252   \n",
       "8                             [일렉트로니카, 포크, 메탈, 락, 댄스, 인디]   70741   \n",
       "9                      [록, Metal, 이일우, M에센셜, 메탈, Rock, 락]   10288   \n",
       "11       [새해, 여행, 프로필음악, 카카오톡, 기분전환, 소원, 프로필, 소망, 다짐, 카톡]  151693   \n",
       "13           [힙합, 느낌있는, 밤, 새벽, RnB, 감각적인, 드라이브, 국내, 그루브한]   89809   \n",
       "...                                                   ...     ...   \n",
       "115064                                             [JPOP]  145872   \n",
       "115066               [록메탈, 밴드사운드, 록, 락메탈, 메탈, 락, extreme]  120325   \n",
       "115067                                               [일렉]  106976   \n",
       "115069                      [잔잔한, 버스, 퇴근버스, Pop, 풍경, 퇴근길]  131982   \n",
       "115070                             [노래추천, 팝송추천, 팝송, 팝송모음]  100389   \n",
       "\n",
       "                             plylst_title  \\\n",
       "5                          2017 Pop Trend   \n",
       "8           DANCING IN THE MOON LIGHT  01   \n",
       "9                    록 메탈  Written by 이일우   \n",
       "11        노래로 의지를 불태우자   1일1다짐  st용 프로필뮤직   \n",
       "13                트렌디하고 그루브한 힙합 알앤비 MUSIC   \n",
       "...                                   ...   \n",
       "115064              meltedmoon s tastes 1   \n",
       "115066                      METAL E SM  2   \n",
       "115067      빠른 리스너를 위한 따끈따끈한 최신 인기 EDM 모음   \n",
       "115069  퇴근 버스에서 편히 들으면서 하루를 마무리하기에 좋은 POP   \n",
       "115070                   FAVORITE POPSONG   \n",
       "\n",
       "                                                    songs  like_cnt  \\\n",
       "5       [418694, 222305, 96545, 135950, 304687, 457451...       435   \n",
       "8       [634861, 270738, 163936, 692209, 449477, 56342...         0   \n",
       "9       [613315, 439294, 230806, 497932, 113479, 93506...         7   \n",
       "11      [658738, 698779, 124485, 512610, 310028, 17422...        42   \n",
       "13      [525152, 38765, 66139, 696379, 397438, 144461,...      1112   \n",
       "...                                                   ...       ...   \n",
       "115064  [68191, 231806, 642423, 652037, 522165, 139541...         4   \n",
       "115066  [429629, 441511, 612106, 516359, 691768, 38714...         3   \n",
       "115067  [321330, 216057, 534472, 240306, 331098, 23288...        13   \n",
       "115069  [533534, 608114, 343608, 417140, 609009, 30217...         4   \n",
       "115070  [26008, 456354, 324105, 89871, 135272, 143548,...        17   \n",
       "\n",
       "                      updt_date  has_english  \n",
       "5       2017-09-15 15:59:26.000            1  \n",
       "8       2019-11-30 21:17:59.000            1  \n",
       "9       2016-06-17 18:23:54.000            1  \n",
       "11      2017-02-16 15:45:23.000            1  \n",
       "13      2018-01-09 14:01:53.000            1  \n",
       "...                         ...          ...  \n",
       "115064  2010-02-27 04:43:19.000            1  \n",
       "115066  2020-04-17 04:31:11.000            1  \n",
       "115067  2015-12-24 17:23:19.000            1  \n",
       "115069  2019-10-25 23:40:42.000            1  \n",
       "115070  2020-04-18 20:35:06.000            1  \n",
       "\n",
       "[27005 rows x 7 columns]"
      ]
     },
     "execution_count": 27,
     "metadata": {},
     "output_type": "execute_result"
    }
   ],
   "source": [
    "playlists[playlists['has_english'] == 1]"
   ]
  },
  {
   "cell_type": "markdown",
   "metadata": {},
   "source": [
    "=> 영어가 있으면 다 지우기엔 의미있는 타이틀이 너무 많다."
   ]
  },
  {
   "cell_type": "code",
   "execution_count": 29,
   "metadata": {},
   "outputs": [],
   "source": [
    "# plyst_title에서 영어 알파벳 개수를 세는 함수\n",
    "def count_english_characters(input_string):\n",
    "    pattern = re.compile('[a-zA-Z]')\n",
    "    result = pattern.findall(input_string)\n",
    "    return len(result)\n",
    "\n",
    "# 새로운 열 'english_char_count'를 추가하여 영어 알파벳 개수를 할당\n",
    "playlists['english_char_count'] = playlists['plylst_title'].apply(lambda x: count_english_characters(x))"
   ]
  },
  {
   "cell_type": "code",
   "execution_count": 31,
   "metadata": {},
   "outputs": [
    {
     "data": {
      "text/plain": [
       "0     88066\n",
       "3      6797\n",
       "4      3111\n",
       "2      2359\n",
       "6      1782\n",
       "5      1322\n",
       "8      1269\n",
       "9      1228\n",
       "7      1214\n",
       "10     1210\n",
       "12      948\n",
       "11      922\n",
       "13      670\n",
       "14      613\n",
       "1       560\n",
       "16      465\n",
       "15      446\n",
       "17      334\n",
       "18      318\n",
       "19      311\n",
       "20      218\n",
       "23      182\n",
       "21      173\n",
       "22      134\n",
       "24      121\n",
       "25       64\n",
       "26       50\n",
       "27       45\n",
       "29       36\n",
       "28       34\n",
       "31       25\n",
       "30       20\n",
       "32       10\n",
       "33        5\n",
       "40        4\n",
       "34        4\n",
       "36        1\n",
       "Name: english_char_count, dtype: int64"
      ]
     },
     "execution_count": 31,
     "metadata": {},
     "output_type": "execute_result"
    }
   ],
   "source": [
    "playlists['english_char_count'].value_counts()"
   ]
  },
  {
   "cell_type": "code",
   "execution_count": 33,
   "metadata": {},
   "outputs": [
    {
     "data": {
      "text/plain": [
       "count    115071.000000\n",
       "mean          1.684195\n",
       "std           4.056477\n",
       "min           0.000000\n",
       "25%           0.000000\n",
       "50%           0.000000\n",
       "75%           0.000000\n",
       "max          40.000000\n",
       "Name: english_char_count, dtype: float64"
      ]
     },
     "execution_count": 33,
     "metadata": {},
     "output_type": "execute_result"
    }
   ],
   "source": [
    "playlists['english_char_count'].describe()"
   ]
  },
  {
   "cell_type": "code",
   "execution_count": 39,
   "metadata": {},
   "outputs": [
    {
     "data": {
      "text/html": [
       "<div>\n",
       "<style scoped>\n",
       "    .dataframe tbody tr th:only-of-type {\n",
       "        vertical-align: middle;\n",
       "    }\n",
       "\n",
       "    .dataframe tbody tr th {\n",
       "        vertical-align: top;\n",
       "    }\n",
       "\n",
       "    .dataframe thead th {\n",
       "        text-align: right;\n",
       "    }\n",
       "</style>\n",
       "<table border=\"1\" class=\"dataframe\">\n",
       "  <thead>\n",
       "    <tr style=\"text-align: right;\">\n",
       "      <th></th>\n",
       "      <th>tags</th>\n",
       "      <th>id</th>\n",
       "      <th>plylst_title</th>\n",
       "      <th>songs</th>\n",
       "      <th>like_cnt</th>\n",
       "      <th>updt_date</th>\n",
       "      <th>has_english</th>\n",
       "      <th>english_char_count</th>\n",
       "    </tr>\n",
       "  </thead>\n",
       "  <tbody>\n",
       "    <tr>\n",
       "      <th>144</th>\n",
       "      <td>[싱어송라이터, 영국, 기타]</td>\n",
       "      <td>50570</td>\n",
       "      <td>기타 들고 노래하는 영국 뮤지션s</td>\n",
       "      <td>[118195, 316930, 54656, 459594, 505453, 255937...</td>\n",
       "      <td>18</td>\n",
       "      <td>2019-03-10 02:16:25.000</td>\n",
       "      <td>1</td>\n",
       "      <td>1</td>\n",
       "    </tr>\n",
       "    <tr>\n",
       "      <th>659</th>\n",
       "      <td>[추억회상, 1990, 아재, 응답하라, 발라드, 댄스, 복고, 세대공감, 30대,...</td>\n",
       "      <td>18865</td>\n",
       "      <td>요즘 십대들은 잘 모르는 노래  90s</td>\n",
       "      <td>[283296, 355062, 660845, 87481, 488872, 683755...</td>\n",
       "      <td>121</td>\n",
       "      <td>2017-04-13 13:09:27.000</td>\n",
       "      <td>1</td>\n",
       "      <td>1</td>\n",
       "    </tr>\n",
       "    <tr>\n",
       "      <th>855</th>\n",
       "      <td>[중2병, 밴드, 락, 락메탈]</td>\n",
       "      <td>52066</td>\n",
       "      <td>나의 중2병이 락에 심취했ㄷr</td>\n",
       "      <td>[11060, 120865, 148875, 568471, 10096, 595953,...</td>\n",
       "      <td>2</td>\n",
       "      <td>2020-04-22 03:23:29.000</td>\n",
       "      <td>1</td>\n",
       "      <td>1</td>\n",
       "    </tr>\n",
       "    <tr>\n",
       "      <th>900</th>\n",
       "      <td>[발라드]</td>\n",
       "      <td>138077</td>\n",
       "      <td>90 s 이노래  그때 그노래</td>\n",
       "      <td>[401250, 204866, 552540, 563645, 634710, 27953...</td>\n",
       "      <td>96</td>\n",
       "      <td>2015-04-30 21:46:44.000</td>\n",
       "      <td>1</td>\n",
       "      <td>1</td>\n",
       "    </tr>\n",
       "    <tr>\n",
       "      <th>1251</th>\n",
       "      <td>[설렘, 사랑]</td>\n",
       "      <td>65676</td>\n",
       "      <td>D 초콜릿보다 달콤한 사랑이야기</td>\n",
       "      <td>[643765, 477228, 423503, 623361, 496344, 53643...</td>\n",
       "      <td>2116</td>\n",
       "      <td>2011-02-11 01:58:33.000</td>\n",
       "      <td>1</td>\n",
       "      <td>1</td>\n",
       "    </tr>\n",
       "    <tr>\n",
       "      <th>...</th>\n",
       "      <td>...</td>\n",
       "      <td>...</td>\n",
       "      <td>...</td>\n",
       "      <td>...</td>\n",
       "      <td>...</td>\n",
       "      <td>...</td>\n",
       "      <td>...</td>\n",
       "      <td>...</td>\n",
       "    </tr>\n",
       "    <tr>\n",
       "      <th>114368</th>\n",
       "      <td>[댄스]</td>\n",
       "      <td>79057</td>\n",
       "      <td>90 s</td>\n",
       "      <td>[446180, 106990, 510464, 377807, 688756, 38954...</td>\n",
       "      <td>2</td>\n",
       "      <td>2014-04-29 17:26:58.000</td>\n",
       "      <td>1</td>\n",
       "      <td>1</td>\n",
       "    </tr>\n",
       "    <tr>\n",
       "      <th>114417</th>\n",
       "      <td>[댄스]</td>\n",
       "      <td>38904</td>\n",
       "      <td>제왚 내이션 D 4   제알못을 위한 제왚 페밀리 플레이리스트</td>\n",
       "      <td>[642536, 211281, 157846, 526811, 424709, 14864...</td>\n",
       "      <td>6</td>\n",
       "      <td>2016-08-02 21:46:30.000</td>\n",
       "      <td>1</td>\n",
       "      <td>1</td>\n",
       "    </tr>\n",
       "    <tr>\n",
       "      <th>114566</th>\n",
       "      <td>[기분좋은, 소풍, 드라이브, 공원, 여행, 기분전환, 산책, 자전거]</td>\n",
       "      <td>20231</td>\n",
       "      <td>같이 소풍갈래   D</td>\n",
       "      <td>[422945, 166676, 225426, 47106, 169531, 25958,...</td>\n",
       "      <td>197</td>\n",
       "      <td>2020-04-19 00:59:51.000</td>\n",
       "      <td>1</td>\n",
       "      <td>1</td>\n",
       "    </tr>\n",
       "    <tr>\n",
       "      <th>114875</th>\n",
       "      <td>[리시차]</td>\n",
       "      <td>151006</td>\n",
       "      <td>발렌티나S2리시차 검반위검투사</td>\n",
       "      <td>[492741, 329241, 285654, 504206, 493054, 32770...</td>\n",
       "      <td>5</td>\n",
       "      <td>2019-04-08 21:05:37.000</td>\n",
       "      <td>1</td>\n",
       "      <td>1</td>\n",
       "    </tr>\n",
       "    <tr>\n",
       "      <th>114974</th>\n",
       "      <td>[pop추천, 감성]</td>\n",
       "      <td>9351</td>\n",
       "      <td>1 알앤비 I 감성 터지는 늦은 밤  혼자만의 생각에 잠기기 좋은 20곡</td>\n",
       "      <td>[326015, 429131, 533472, 335564, 477585, 55246...</td>\n",
       "      <td>7</td>\n",
       "      <td>2020-01-05 10:24:58.000</td>\n",
       "      <td>1</td>\n",
       "      <td>1</td>\n",
       "    </tr>\n",
       "  </tbody>\n",
       "</table>\n",
       "<p>560 rows × 8 columns</p>\n",
       "</div>"
      ],
      "text/plain": [
       "                                                     tags      id  \\\n",
       "144                                      [싱어송라이터, 영국, 기타]   50570   \n",
       "659     [추억회상, 1990, 아재, 응답하라, 발라드, 댄스, 복고, 세대공감, 30대,...   18865   \n",
       "855                                     [중2병, 밴드, 락, 락메탈]   52066   \n",
       "900                                                 [발라드]  138077   \n",
       "1251                                             [설렘, 사랑]   65676   \n",
       "...                                                   ...     ...   \n",
       "114368                                               [댄스]   79057   \n",
       "114417                                               [댄스]   38904   \n",
       "114566            [기분좋은, 소풍, 드라이브, 공원, 여행, 기분전환, 산책, 자전거]   20231   \n",
       "114875                                              [리시차]  151006   \n",
       "114974                                        [pop추천, 감성]    9351   \n",
       "\n",
       "                                    plylst_title  \\\n",
       "144                           기타 들고 노래하는 영국 뮤지션s   \n",
       "659                        요즘 십대들은 잘 모르는 노래  90s   \n",
       "855                             나의 중2병이 락에 심취했ㄷr   \n",
       "900                             90 s 이노래  그때 그노래   \n",
       "1251                           D 초콜릿보다 달콤한 사랑이야기   \n",
       "...                                          ...   \n",
       "114368                                      90 s   \n",
       "114417        제왚 내이션 D 4   제알못을 위한 제왚 페밀리 플레이리스트   \n",
       "114566                               같이 소풍갈래   D   \n",
       "114875                          발렌티나S2리시차 검반위검투사   \n",
       "114974  1 알앤비 I 감성 터지는 늦은 밤  혼자만의 생각에 잠기기 좋은 20곡   \n",
       "\n",
       "                                                    songs  like_cnt  \\\n",
       "144     [118195, 316930, 54656, 459594, 505453, 255937...        18   \n",
       "659     [283296, 355062, 660845, 87481, 488872, 683755...       121   \n",
       "855     [11060, 120865, 148875, 568471, 10096, 595953,...         2   \n",
       "900     [401250, 204866, 552540, 563645, 634710, 27953...        96   \n",
       "1251    [643765, 477228, 423503, 623361, 496344, 53643...      2116   \n",
       "...                                                   ...       ...   \n",
       "114368  [446180, 106990, 510464, 377807, 688756, 38954...         2   \n",
       "114417  [642536, 211281, 157846, 526811, 424709, 14864...         6   \n",
       "114566  [422945, 166676, 225426, 47106, 169531, 25958,...       197   \n",
       "114875  [492741, 329241, 285654, 504206, 493054, 32770...         5   \n",
       "114974  [326015, 429131, 533472, 335564, 477585, 55246...         7   \n",
       "\n",
       "                      updt_date  has_english  english_char_count  \n",
       "144     2019-03-10 02:16:25.000            1                   1  \n",
       "659     2017-04-13 13:09:27.000            1                   1  \n",
       "855     2020-04-22 03:23:29.000            1                   1  \n",
       "900     2015-04-30 21:46:44.000            1                   1  \n",
       "1251    2011-02-11 01:58:33.000            1                   1  \n",
       "...                         ...          ...                 ...  \n",
       "114368  2014-04-29 17:26:58.000            1                   1  \n",
       "114417  2016-08-02 21:46:30.000            1                   1  \n",
       "114566  2020-04-19 00:59:51.000            1                   1  \n",
       "114875  2019-04-08 21:05:37.000            1                   1  \n",
       "114974  2020-01-05 10:24:58.000            1                   1  \n",
       "\n",
       "[560 rows x 8 columns]"
      ]
     },
     "execution_count": 39,
     "metadata": {},
     "output_type": "execute_result"
    }
   ],
   "source": [
    "playlists[(playlists['english_char_count'] <= 1) & (playlists['english_char_count'] != 0)]"
   ]
  },
  {
   "cell_type": "markdown",
   "metadata": {},
   "source": [
    "=> 영단어 개수로도 전처리 불가"
   ]
  },
  {
   "cell_type": "code",
   "execution_count": 43,
   "metadata": {},
   "outputs": [],
   "source": [
    "# has_english, english_char_count 컬럼 삭제\n",
    "playlists.drop(labels=['has_english','english_char_count'], axis=1, inplace=True)"
   ]
  },
  {
   "cell_type": "code",
   "execution_count": 44,
   "metadata": {},
   "outputs": [
    {
     "data": {
      "text/html": [
       "<div>\n",
       "<style scoped>\n",
       "    .dataframe tbody tr th:only-of-type {\n",
       "        vertical-align: middle;\n",
       "    }\n",
       "\n",
       "    .dataframe tbody tr th {\n",
       "        vertical-align: top;\n",
       "    }\n",
       "\n",
       "    .dataframe thead th {\n",
       "        text-align: right;\n",
       "    }\n",
       "</style>\n",
       "<table border=\"1\" class=\"dataframe\">\n",
       "  <thead>\n",
       "    <tr style=\"text-align: right;\">\n",
       "      <th></th>\n",
       "      <th>tags</th>\n",
       "      <th>id</th>\n",
       "      <th>plylst_title</th>\n",
       "      <th>songs</th>\n",
       "      <th>like_cnt</th>\n",
       "      <th>updt_date</th>\n",
       "    </tr>\n",
       "  </thead>\n",
       "  <tbody>\n",
       "    <tr>\n",
       "      <th>0</th>\n",
       "      <td>[락]</td>\n",
       "      <td>61281</td>\n",
       "      <td>여행같은 음악</td>\n",
       "      <td>[525514, 129701, 383374, 562083, 297861, 13954...</td>\n",
       "      <td>71</td>\n",
       "      <td>2013-12-19 18:36:19.000</td>\n",
       "    </tr>\n",
       "    <tr>\n",
       "      <th>1</th>\n",
       "      <td>[추억, 회상]</td>\n",
       "      <td>10532</td>\n",
       "      <td>요즘 너 말야</td>\n",
       "      <td>[432406, 675945, 497066, 120377, 389529, 24427...</td>\n",
       "      <td>1</td>\n",
       "      <td>2014-12-02 16:19:42.000</td>\n",
       "    </tr>\n",
       "    <tr>\n",
       "      <th>2</th>\n",
       "      <td>[까페, 잔잔한]</td>\n",
       "      <td>76951</td>\n",
       "      <td>편하게  잔잔하게 들을 수 있는 곡</td>\n",
       "      <td>[83116, 276692, 166267, 186301, 354465, 256598...</td>\n",
       "      <td>17</td>\n",
       "      <td>2017-08-28 07:09:34.000</td>\n",
       "    </tr>\n",
       "    <tr>\n",
       "      <th>3</th>\n",
       "      <td>[연말, 눈오는날, 캐럴, 분위기, 따듯한, 크리스마스캐럴, 겨울노래, 크리스마스,...</td>\n",
       "      <td>147456</td>\n",
       "      <td>크리스마스 분위기에 흠뻑 취하고 싶을때</td>\n",
       "      <td>[394031, 195524, 540149, 287984, 440773, 10033...</td>\n",
       "      <td>33</td>\n",
       "      <td>2019-12-05 15:15:18.000</td>\n",
       "    </tr>\n",
       "    <tr>\n",
       "      <th>4</th>\n",
       "      <td>[댄스]</td>\n",
       "      <td>27616</td>\n",
       "      <td>추억의 노래 ㅋ</td>\n",
       "      <td>[159327, 553610, 5130, 645103, 294435, 100657,...</td>\n",
       "      <td>9</td>\n",
       "      <td>2011-10-25 13:54:56.000</td>\n",
       "    </tr>\n",
       "  </tbody>\n",
       "</table>\n",
       "</div>"
      ],
      "text/plain": [
       "                                                tags      id  \\\n",
       "0                                                [락]   61281   \n",
       "1                                           [추억, 회상]   10532   \n",
       "2                                          [까페, 잔잔한]   76951   \n",
       "3  [연말, 눈오는날, 캐럴, 분위기, 따듯한, 크리스마스캐럴, 겨울노래, 크리스마스,...  147456   \n",
       "4                                               [댄스]   27616   \n",
       "\n",
       "            plylst_title                                              songs  \\\n",
       "0                여행같은 음악  [525514, 129701, 383374, 562083, 297861, 13954...   \n",
       "1                요즘 너 말야  [432406, 675945, 497066, 120377, 389529, 24427...   \n",
       "2    편하게  잔잔하게 들을 수 있는 곡  [83116, 276692, 166267, 186301, 354465, 256598...   \n",
       "3  크리스마스 분위기에 흠뻑 취하고 싶을때  [394031, 195524, 540149, 287984, 440773, 10033...   \n",
       "4               추억의 노래 ㅋ  [159327, 553610, 5130, 645103, 294435, 100657,...   \n",
       "\n",
       "   like_cnt                updt_date  \n",
       "0        71  2013-12-19 18:36:19.000  \n",
       "1         1  2014-12-02 16:19:42.000  \n",
       "2        17  2017-08-28 07:09:34.000  \n",
       "3        33  2019-12-05 15:15:18.000  \n",
       "4         9  2011-10-25 13:54:56.000  "
      ]
     },
     "execution_count": 44,
     "metadata": {},
     "output_type": "execute_result"
    }
   ],
   "source": [
    "# 확인\n",
    "playlists.head()"
   ]
  },
  {
   "cell_type": "markdown",
   "metadata": {},
   "source": [
    "- 태그 특수문자 제거"
   ]
  },
  {
   "cell_type": "code",
   "execution_count": 46,
   "metadata": {},
   "outputs": [
    {
     "data": {
      "text/plain": [
       "Series([], Name: tags, dtype: object)"
      ]
     },
     "execution_count": 46,
     "metadata": {},
     "output_type": "execute_result"
    }
   ],
   "source": [
    "# 특수문자 '_'가 있는 행 찾기\n",
    "# '_'가 있는 행 찾기\n",
    "rows_with_underscore = playlists['tags'][playlists['tags'].apply(lambda x: any('_' in tag for tag in x))]\n",
    "rows_with_underscore"
   ]
  },
  {
   "cell_type": "code",
   "execution_count": 47,
   "metadata": {},
   "outputs": [],
   "source": [
    "# 특수 문자를 제거하는 함수 정의\n",
    "def remove_special_characters(tag_list):\n",
    "    cleaned_tags = []\n",
    "    for tag in tag_list:\n",
    "        cleaned_tag = re.sub(r'[^\\uAC00-\\uD7A30-9a-zA-Z\\s]', '', tag).replace(\" \", \"\")\n",
    "        cleaned_tags.append(cleaned_tag)\n",
    "    return cleaned_tags\n",
    "\n",
    "# 함수 적용\n",
    "playlists['tags'] = playlists['tags'].apply(remove_special_characters)"
   ]
  },
  {
   "cell_type": "code",
   "execution_count": 48,
   "metadata": {},
   "outputs": [
    {
     "data": {
      "text/html": [
       "<div>\n",
       "<style scoped>\n",
       "    .dataframe tbody tr th:only-of-type {\n",
       "        vertical-align: middle;\n",
       "    }\n",
       "\n",
       "    .dataframe tbody tr th {\n",
       "        vertical-align: top;\n",
       "    }\n",
       "\n",
       "    .dataframe thead th {\n",
       "        text-align: right;\n",
       "    }\n",
       "</style>\n",
       "<table border=\"1\" class=\"dataframe\">\n",
       "  <thead>\n",
       "    <tr style=\"text-align: right;\">\n",
       "      <th></th>\n",
       "      <th>tags</th>\n",
       "      <th>id</th>\n",
       "      <th>plylst_title</th>\n",
       "      <th>songs</th>\n",
       "      <th>like_cnt</th>\n",
       "      <th>updt_date</th>\n",
       "    </tr>\n",
       "  </thead>\n",
       "  <tbody>\n",
       "    <tr>\n",
       "      <th>148</th>\n",
       "      <td>[비오는날, 비오는날, 휴식, 비오는날, 비]</td>\n",
       "      <td>32533</td>\n",
       "      <td>비오는날 감성 자극 듣기 좋은 어쿠스틱 피아노 발라드</td>\n",
       "      <td>[133091, 527764, 468136, 260894, 22845, 148876...</td>\n",
       "      <td>14</td>\n",
       "      <td>2020-02-16 00:56:45.000</td>\n",
       "    </tr>\n",
       "    <tr>\n",
       "      <th>285</th>\n",
       "      <td>[상쾌해지는, 호불호없는, 모두가흥얼흥얼]</td>\n",
       "      <td>151357</td>\n",
       "      <td>기분좋아지는 노래들</td>\n",
       "      <td>[270061, 158766, 573179, 272062, 37027, 245028...</td>\n",
       "      <td>0</td>\n",
       "      <td>2019-11-24 05:49:55.000</td>\n",
       "    </tr>\n",
       "    <tr>\n",
       "      <th>115068</th>\n",
       "      <td>[담시, 가족, 눈물, 그리움, 주인공, 나의이야기, 사랑, 친구]</td>\n",
       "      <td>11343</td>\n",
       "      <td>1  눈물이 앞을 가리는 나의 이야기</td>\n",
       "      <td>[50512, 249024, 250608, 371171, 229942, 694943...</td>\n",
       "      <td>4</td>\n",
       "      <td>2019-08-16 20:59:22.000</td>\n",
       "    </tr>\n",
       "  </tbody>\n",
       "</table>\n",
       "</div>"
      ],
      "text/plain": [
       "                                         tags      id  \\\n",
       "148                 [비오는날, 비오는날, 휴식, 비오는날, 비]   32533   \n",
       "285                   [상쾌해지는, 호불호없는, 모두가흥얼흥얼]  151357   \n",
       "115068  [담시, 가족, 눈물, 그리움, 주인공, 나의이야기, 사랑, 친구]   11343   \n",
       "\n",
       "                         plylst_title  \\\n",
       "148     비오는날 감성 자극 듣기 좋은 어쿠스틱 피아노 발라드   \n",
       "285                        기분좋아지는 노래들   \n",
       "115068           1  눈물이 앞을 가리는 나의 이야기   \n",
       "\n",
       "                                                    songs  like_cnt  \\\n",
       "148     [133091, 527764, 468136, 260894, 22845, 148876...        14   \n",
       "285     [270061, 158766, 573179, 272062, 37027, 245028...         0   \n",
       "115068  [50512, 249024, 250608, 371171, 229942, 694943...         4   \n",
       "\n",
       "                      updt_date  \n",
       "148     2020-02-16 00:56:45.000  \n",
       "285     2019-11-24 05:49:55.000  \n",
       "115068  2019-08-16 20:59:22.000  "
      ]
     },
     "execution_count": 48,
     "metadata": {},
     "output_type": "execute_result"
    }
   ],
   "source": [
    "playlists.iloc[[148, 285, 115068], :] # 확인"
   ]
  },
  {
   "cell_type": "code",
   "execution_count": 49,
   "metadata": {},
   "outputs": [],
   "source": [
    "# 플레이리스트 타이틀이 1글자인 조건 만들기\n",
    "playlists_title_1str = playlists[playlists['plylst_title'].str.len() == 1]\n",
    "playlists_title_1str = list(playlists_title_1str['id'].values) # 24 -> 롹, 잠, 쿨, 힙 등이며 대부분 좋아요 0 또는 1\n",
    "# playlists[playlists['id'] == 98628]\n",
    "\n",
    "# 삭제\n",
    "playlists = playlists[playlists['plylst_title'].str.len() != 1]"
   ]
  },
  {
   "cell_type": "code",
   "execution_count": 50,
   "metadata": {},
   "outputs": [
    {
     "name": "stdout",
     "output_type": "stream",
     "text": [
      "<class 'pandas.core.frame.DataFrame'>\n",
      "Int64Index: 114707 entries, 0 to 115070\n",
      "Data columns (total 6 columns):\n",
      " #   Column        Non-Null Count   Dtype \n",
      "---  ------        --------------   ----- \n",
      " 0   tags          114707 non-null  object\n",
      " 1   id            114707 non-null  int64 \n",
      " 2   plylst_title  114707 non-null  object\n",
      " 3   songs         114707 non-null  object\n",
      " 4   like_cnt      114707 non-null  int64 \n",
      " 5   updt_date     114707 non-null  object\n",
      "dtypes: int64(2), object(4)\n",
      "memory usage: 6.1+ MB\n"
     ]
    }
   ],
   "source": [
    "# 빈 타이틀 삭제\n",
    "playlists = playlists[playlists['plylst_title'] != '']\n",
    "\n",
    "# 숫자로만 구성된 타이틀 삭제\n",
    "numeric_title_rows = playlists[playlists['plylst_title'].str.isnumeric()]\n",
    "indices_to_remove = numeric_title_rows.index\n",
    "playlists = playlists.drop(indices_to_remove)\n",
    "\n",
    "playlists.info()\n",
    "\n",
    "\n",
    "# 115071 - 114707 = 364행 삭제"
   ]
  },
  {
   "cell_type": "markdown",
   "metadata": {},
   "source": [
    "## 2) 타이틀 중복 제거(기준 : 노래 개수 or 좋아요 개수)"
   ]
  },
  {
   "cell_type": "code",
   "execution_count": 51,
   "metadata": {},
   "outputs": [
    {
     "data": {
      "text/html": [
       "<div>\n",
       "<style scoped>\n",
       "    .dataframe tbody tr th:only-of-type {\n",
       "        vertical-align: middle;\n",
       "    }\n",
       "\n",
       "    .dataframe tbody tr th {\n",
       "        vertical-align: top;\n",
       "    }\n",
       "\n",
       "    .dataframe thead th {\n",
       "        text-align: right;\n",
       "    }\n",
       "</style>\n",
       "<table border=\"1\" class=\"dataframe\">\n",
       "  <thead>\n",
       "    <tr style=\"text-align: right;\">\n",
       "      <th></th>\n",
       "      <th>plylst_title</th>\n",
       "      <th>mapping_plylst_cnt</th>\n",
       "    </tr>\n",
       "    <tr>\n",
       "      <th>mapping_plylst_cnt_category</th>\n",
       "      <th></th>\n",
       "      <th></th>\n",
       "    </tr>\n",
       "  </thead>\n",
       "  <tbody>\n",
       "    <tr>\n",
       "      <th>중복 없음</th>\n",
       "      <td>106525</td>\n",
       "      <td>106525</td>\n",
       "    </tr>\n",
       "    <tr>\n",
       "      <th>중복 있음</th>\n",
       "      <td>2722</td>\n",
       "      <td>2722</td>\n",
       "    </tr>\n",
       "  </tbody>\n",
       "</table>\n",
       "</div>"
      ],
      "text/plain": [
       "                             plylst_title  mapping_plylst_cnt\n",
       "mapping_plylst_cnt_category                                  \n",
       "중복 없음                              106525              106525\n",
       "중복 있음                                2722                2722"
      ]
     },
     "execution_count": 51,
     "metadata": {},
     "output_type": "execute_result"
    }
   ],
   "source": [
    "# 1. 플레이리스트 아이디(id)와 플레이리스트 명(plylst_title) 추출\n",
    "plylst_title = playlists[['id', 'plylst_title']]\n",
    "\n",
    "# 2. 플레이리스트 이름 별 플레이리스트 ID count 테이블 생성 : plylst_id_cnt\n",
    "plylst_id_cnt = plylst_title.groupby('plylst_title').id.nunique().reset_index(name = 'mapping_plylst_cnt')\n",
    "\n",
    "# 3. 플레이리스트 명 중복 구분 : 서로 다른 플레이리스트 아이디로 겹치는 플레이리스트 이름이 없으면 '중복 없음', 그 외 '중복 있음'\n",
    "plylst_id_cnt = plylst_id_cnt.assign(\n",
    "    mapping_plylst_cnt_category = pd.cut(plylst_id_cnt['mapping_plylst_cnt'], [0, 1, np.inf], labels = ['중복 없음', '중복 있음'])\n",
    ")\n",
    "plylst_id_cnt\n",
    "# [0, 1, np.inf] : 0이상 1미만 값 = 중복없음, 1이상의 값 = 중복있음\n",
    "\n",
    "# 4. 중복 구분 별 플레이리스트 수 count 테이블 생성 : plylst_id_cnt_division\n",
    "plylst_id_cnt_division = pd.DataFrame(plylst_id_cnt.groupby('mapping_plylst_cnt_category').count())\n",
    "plylst_id_cnt_division"
   ]
  },
  {
   "cell_type": "code",
   "execution_count": 52,
   "metadata": {},
   "outputs": [
    {
     "data": {
      "text/html": [
       "<div>\n",
       "<style scoped>\n",
       "    .dataframe tbody tr th:only-of-type {\n",
       "        vertical-align: middle;\n",
       "    }\n",
       "\n",
       "    .dataframe tbody tr th {\n",
       "        vertical-align: top;\n",
       "    }\n",
       "\n",
       "    .dataframe thead th {\n",
       "        text-align: right;\n",
       "    }\n",
       "</style>\n",
       "<table border=\"1\" class=\"dataframe\">\n",
       "  <thead>\n",
       "    <tr style=\"text-align: right;\">\n",
       "      <th></th>\n",
       "      <th>tags</th>\n",
       "      <th>id</th>\n",
       "      <th>plylst_title</th>\n",
       "      <th>songs</th>\n",
       "      <th>like_cnt</th>\n",
       "      <th>updt_date</th>\n",
       "      <th>mapping_plylst_cnt</th>\n",
       "      <th>mapping_plylst_cnt_category</th>\n",
       "      <th>song_cnt</th>\n",
       "      <th>tag_cnt</th>\n",
       "    </tr>\n",
       "  </thead>\n",
       "  <tbody>\n",
       "    <tr>\n",
       "      <th>16</th>\n",
       "      <td>[감성, 질리지않는, 나만알고싶은, Pop]</td>\n",
       "      <td>1516</td>\n",
       "      <td>나만 알고싶은 노래들</td>\n",
       "      <td>[331055, 99287, 310974, 376435, 146989, 430106...</td>\n",
       "      <td>1</td>\n",
       "      <td>2018-01-02 12:10:59.000</td>\n",
       "      <td>4</td>\n",
       "      <td>중복 있음</td>\n",
       "      <td>31</td>\n",
       "      <td>4</td>\n",
       "    </tr>\n",
       "    <tr>\n",
       "      <th>17</th>\n",
       "      <td>[기분전환, 까페]</td>\n",
       "      <td>86179</td>\n",
       "      <td>나만 알고싶은 노래들</td>\n",
       "      <td>[480142, 578916, 467225, 701072, 197046, 63557...</td>\n",
       "      <td>6</td>\n",
       "      <td>2016-10-06 02:08:40.000</td>\n",
       "      <td>4</td>\n",
       "      <td>중복 있음</td>\n",
       "      <td>46</td>\n",
       "      <td>2</td>\n",
       "    </tr>\n",
       "    <tr>\n",
       "      <th>18</th>\n",
       "      <td>[숨은명곡, 좋은노래]</td>\n",
       "      <td>54673</td>\n",
       "      <td>나만 알고싶은 노래들</td>\n",
       "      <td>[113618, 422482, 380069, 75425, 79141, 657137,...</td>\n",
       "      <td>7</td>\n",
       "      <td>2016-07-15 10:20:17.000</td>\n",
       "      <td>4</td>\n",
       "      <td>중복 있음</td>\n",
       "      <td>23</td>\n",
       "      <td>2</td>\n",
       "    </tr>\n",
       "    <tr>\n",
       "      <th>19</th>\n",
       "      <td>[감성힙합, 나만알고싶은, 뿜뿜, 그루브, 노래, 감성]</td>\n",
       "      <td>135616</td>\n",
       "      <td>나만 알고싶은 노래들</td>\n",
       "      <td>[470548, 603591, 382764, 288501, 187291, 37802...</td>\n",
       "      <td>30</td>\n",
       "      <td>2018-07-13 08:18:54.000</td>\n",
       "      <td>4</td>\n",
       "      <td>중복 있음</td>\n",
       "      <td>45</td>\n",
       "      <td>6</td>\n",
       "    </tr>\n",
       "    <tr>\n",
       "      <th>44</th>\n",
       "      <td>[기분전환, 가을]</td>\n",
       "      <td>105328</td>\n",
       "      <td>트렌디한 Cafe Pop Music</td>\n",
       "      <td>[419702, 403579, 472776, 502078, 662300, 44363...</td>\n",
       "      <td>55</td>\n",
       "      <td>2014-09-18 11:29:55.000</td>\n",
       "      <td>2</td>\n",
       "      <td>중복 있음</td>\n",
       "      <td>16</td>\n",
       "      <td>2</td>\n",
       "    </tr>\n",
       "  </tbody>\n",
       "</table>\n",
       "</div>"
      ],
      "text/plain": [
       "                               tags      id         plylst_title  \\\n",
       "16         [감성, 질리지않는, 나만알고싶은, Pop]    1516          나만 알고싶은 노래들   \n",
       "17                       [기분전환, 까페]   86179          나만 알고싶은 노래들   \n",
       "18                     [숨은명곡, 좋은노래]   54673          나만 알고싶은 노래들   \n",
       "19  [감성힙합, 나만알고싶은, 뿜뿜, 그루브, 노래, 감성]  135616          나만 알고싶은 노래들   \n",
       "44                       [기분전환, 가을]  105328  트렌디한 Cafe Pop Music   \n",
       "\n",
       "                                                songs  like_cnt  \\\n",
       "16  [331055, 99287, 310974, 376435, 146989, 430106...         1   \n",
       "17  [480142, 578916, 467225, 701072, 197046, 63557...         6   \n",
       "18  [113618, 422482, 380069, 75425, 79141, 657137,...         7   \n",
       "19  [470548, 603591, 382764, 288501, 187291, 37802...        30   \n",
       "44  [419702, 403579, 472776, 502078, 662300, 44363...        55   \n",
       "\n",
       "                  updt_date  mapping_plylst_cnt mapping_plylst_cnt_category  \\\n",
       "16  2018-01-02 12:10:59.000                   4                       중복 있음   \n",
       "17  2016-10-06 02:08:40.000                   4                       중복 있음   \n",
       "18  2016-07-15 10:20:17.000                   4                       중복 있음   \n",
       "19  2018-07-13 08:18:54.000                   4                       중복 있음   \n",
       "44  2014-09-18 11:29:55.000                   2                       중복 있음   \n",
       "\n",
       "    song_cnt  tag_cnt  \n",
       "16        31        4  \n",
       "17        46        2  \n",
       "18        23        2  \n",
       "19        45        6  \n",
       "44        16        2  "
      ]
     },
     "execution_count": 52,
     "metadata": {},
     "output_type": "execute_result"
    }
   ],
   "source": [
    "# 플레이리스트 타이틀을 기준으로 merge해 중복된 플레이리스트만 확인\n",
    "playlists_dup = pd.merge(playlists, plylst_id_cnt, on='plylst_title')\n",
    "playlists_dup= playlists_dup[playlists_dup['mapping_plylst_cnt_category'] == '중복 있음']\n",
    "playlists_dup['song_cnt'] = playlists_dup['songs'].apply(len)\n",
    "playlists_dup['tag_cnt'] = playlists_dup['tags'].apply(len)\n",
    "playlists_dup.head()"
   ]
  },
  {
   "cell_type": "code",
   "execution_count": 54,
   "metadata": {},
   "outputs": [
    {
     "data": {
      "text/plain": [
       "Counter({2: 1543,\n",
       "         1: 510,\n",
       "         3: 343,\n",
       "         4: 130,\n",
       "         5: 56,\n",
       "         6: 47,\n",
       "         7: 30,\n",
       "         8: 17,\n",
       "         9: 9,\n",
       "         11: 8,\n",
       "         14: 5,\n",
       "         15: 5,\n",
       "         10: 5,\n",
       "         16: 3,\n",
       "         13: 3,\n",
       "         20: 2,\n",
       "         12: 2,\n",
       "         25: 1,\n",
       "         19: 1,\n",
       "         22: 1,\n",
       "         17: 1})"
      ]
     },
     "execution_count": 54,
     "metadata": {},
     "output_type": "execute_result"
    }
   ],
   "source": [
    "# 같은 타이틀을 가진 플레이리스트의 노래 개수 비교\n",
    "# playlists_dup에서 타이틀별로 groupby 후 song_cnt 값들을 song_cnt_nunique(새 컬럼)에 리스트 형태로 넣은 후 중복을 없애기 위해 set 진행\n",
    "# 1의 의미는 노래 갯수가 중복되어 있다는 뜻이기 때문에 1의 갯수가 적은 지표를 기준으로 중복 플레이리스트 제거를 진행해야함\n",
    "from collections import Counter\n",
    "\n",
    "playlists_dup_song_cnt = playlists_dup.groupby('plylst_title')['song_cnt'].apply(list).reset_index()\n",
    "playlists_dup_song_cnt['song_cnt_nunique'] = playlists_dup_song_cnt['song_cnt'].apply(lambda x: len(set(x)))\n",
    "Counter(playlists_dup_song_cnt['song_cnt_nunique'])"
   ]
  },
  {
   "cell_type": "code",
   "execution_count": 55,
   "metadata": {},
   "outputs": [
    {
     "data": {
      "text/plain": [
       "Counter({1: 1225, 2: 1222, 3: 183, 4: 59, 5: 20, 6: 9, 7: 4})"
      ]
     },
     "execution_count": 55,
     "metadata": {},
     "output_type": "execute_result"
    }
   ],
   "source": [
    "# 같은 타이틀을 가진 플레이리스트의 태그 개수 비교\n",
    "\n",
    "playlists_dup_tag_cnt = playlists_dup.groupby('plylst_title')['tag_cnt'].apply(list).reset_index()\n",
    "playlists_dup_tag_cnt['tag_cnt_nunique'] = playlists_dup_tag_cnt['tag_cnt'].apply(lambda x: len(set(x)))\n",
    "Counter(playlists_dup_tag_cnt['tag_cnt_nunique'])"
   ]
  },
  {
   "cell_type": "code",
   "execution_count": 56,
   "metadata": {},
   "outputs": [
    {
     "data": {
      "text/plain": [
       "Counter({2: 1741,\n",
       "         1: 431,\n",
       "         3: 311,\n",
       "         4: 102,\n",
       "         5: 54,\n",
       "         6: 32,\n",
       "         7: 14,\n",
       "         8: 10,\n",
       "         9: 7,\n",
       "         12: 5,\n",
       "         11: 4,\n",
       "         10: 4,\n",
       "         13: 2,\n",
       "         14: 2,\n",
       "         15: 1,\n",
       "         18: 1,\n",
       "         24: 1})"
      ]
     },
     "execution_count": 56,
     "metadata": {},
     "output_type": "execute_result"
    }
   ],
   "source": [
    "# 같은 타이틀을 가진 플레이리스트의 좋아요 비교\n",
    "\n",
    "playlists_dup_like_cnt = playlists_dup.groupby('plylst_title')['like_cnt'].apply(list).reset_index()\n",
    "playlists_dup_like_cnt['like_cnt_nunique'] = playlists_dup_like_cnt['like_cnt'].apply(lambda x: len(set(x)))\n",
    "Counter(playlists_dup_like_cnt['like_cnt_nunique'])"
   ]
  },
  {
   "cell_type": "markdown",
   "metadata": {},
   "source": [
    "- 플레이리스트 타이틀이 중복인 플레이리스트만 따로 모으고\n",
    "- 그 중복 플리모음 중 노래갯수가 가장 많은 하나만 남겨두고\n",
    "- 원래 train의 중복 없음만 따로 모아 중복모음과 concat"
   ]
  },
  {
   "cell_type": "code",
   "execution_count": 57,
   "metadata": {},
   "outputs": [
    {
     "data": {
      "text/html": [
       "<div>\n",
       "<style scoped>\n",
       "    .dataframe tbody tr th:only-of-type {\n",
       "        vertical-align: middle;\n",
       "    }\n",
       "\n",
       "    .dataframe tbody tr th {\n",
       "        vertical-align: top;\n",
       "    }\n",
       "\n",
       "    .dataframe thead th {\n",
       "        text-align: right;\n",
       "    }\n",
       "</style>\n",
       "<table border=\"1\" class=\"dataframe\">\n",
       "  <thead>\n",
       "    <tr style=\"text-align: right;\">\n",
       "      <th></th>\n",
       "      <th>tags</th>\n",
       "      <th>id</th>\n",
       "      <th>plylst_title</th>\n",
       "      <th>songs</th>\n",
       "      <th>like_cnt</th>\n",
       "      <th>updt_date</th>\n",
       "      <th>mapping_plylst_cnt</th>\n",
       "      <th>mapping_plylst_cnt_category</th>\n",
       "      <th>song_cnt</th>\n",
       "    </tr>\n",
       "  </thead>\n",
       "  <tbody>\n",
       "    <tr>\n",
       "      <th>8532</th>\n",
       "      <td>[집중, 어쿠스틱, 혼자, 발라드, 우울, 드라이브, 산책, 조용조용, 띵곡들, 인디]</td>\n",
       "      <td>152785</td>\n",
       "      <td>혼자만의 시간이 필요할때</td>\n",
       "      <td>[208812, 629738, 232874, 13281, 193232, 389468...</td>\n",
       "      <td>1</td>\n",
       "      <td>2020-03-26 06:14:54.000</td>\n",
       "      <td>43</td>\n",
       "      <td>중복 있음</td>\n",
       "      <td>81</td>\n",
       "    </tr>\n",
       "    <tr>\n",
       "      <th>8519</th>\n",
       "      <td>[어쿠스틱, 혼자, 발라드, 우울, 분위기, 드라이브, 띵곡만, 산책, 운전, 인디]</td>\n",
       "      <td>127180</td>\n",
       "      <td>혼자만의 시간이 필요할때</td>\n",
       "      <td>[570836, 209135, 389920, 105140, 582252, 38261...</td>\n",
       "      <td>1</td>\n",
       "      <td>2020-03-24 06:39:20.000</td>\n",
       "      <td>43</td>\n",
       "      <td>중복 있음</td>\n",
       "      <td>78</td>\n",
       "    </tr>\n",
       "    <tr>\n",
       "      <th>8536</th>\n",
       "      <td>[띵곡, 혼자만, 어쿠스틱, 발라드, 우울, 분위기, 드라이브, 조용한, 산책, 인디]</td>\n",
       "      <td>76448</td>\n",
       "      <td>혼자만의 시간이 필요할때</td>\n",
       "      <td>[570836, 209135, 389920, 105140, 582252, 38261...</td>\n",
       "      <td>1</td>\n",
       "      <td>2020-04-13 05:56:55.000</td>\n",
       "      <td>43</td>\n",
       "      <td>중복 있음</td>\n",
       "      <td>78</td>\n",
       "    </tr>\n",
       "    <tr>\n",
       "      <th>8541</th>\n",
       "      <td>[어쿠스틱, 혼자, 발라드, 우울, 분위기, 드라이브, 조용한, 산책, 띵곡들, 인디]</td>\n",
       "      <td>141114</td>\n",
       "      <td>혼자만의 시간이 필요할때</td>\n",
       "      <td>[484964, 626369, 570836, 366786, 413837, 20913...</td>\n",
       "      <td>1</td>\n",
       "      <td>2020-04-22 06:38:57.000</td>\n",
       "      <td>43</td>\n",
       "      <td>중복 있음</td>\n",
       "      <td>78</td>\n",
       "    </tr>\n",
       "    <tr>\n",
       "      <th>8548</th>\n",
       "      <td>[어쿠스틱, 혼자, 발라드, 분위기, 드라이브, 조용한, 산책, 운전, 띵곡들, 인디]</td>\n",
       "      <td>18201</td>\n",
       "      <td>혼자만의 시간이 필요할때</td>\n",
       "      <td>[484964, 626369, 570836, 366786, 413837, 20913...</td>\n",
       "      <td>1</td>\n",
       "      <td>2020-04-06 05:20:46.000</td>\n",
       "      <td>43</td>\n",
       "      <td>중복 있음</td>\n",
       "      <td>78</td>\n",
       "    </tr>\n",
       "    <tr>\n",
       "      <th>...</th>\n",
       "      <td>...</td>\n",
       "      <td>...</td>\n",
       "      <td>...</td>\n",
       "      <td>...</td>\n",
       "      <td>...</td>\n",
       "      <td>...</td>\n",
       "      <td>...</td>\n",
       "      <td>...</td>\n",
       "      <td>...</td>\n",
       "    </tr>\n",
       "    <tr>\n",
       "      <th>31846</th>\n",
       "      <td>[일렉]</td>\n",
       "      <td>56144</td>\n",
       "      <td>00  Party  일렉트로댄스</td>\n",
       "      <td>[256418, 183424, 431998, 654442, 354592, 24132...</td>\n",
       "      <td>7</td>\n",
       "      <td>2018-02-06 16:02:42.000</td>\n",
       "      <td>1</td>\n",
       "      <td>중복 없음</td>\n",
       "      <td>20</td>\n",
       "    </tr>\n",
       "    <tr>\n",
       "      <th>17805</th>\n",
       "      <td>[일렉]</td>\n",
       "      <td>58768</td>\n",
       "      <td>00  Electronica  EDM</td>\n",
       "      <td>[673003, 251403, 617690, 441958, 436128, 62788...</td>\n",
       "      <td>5</td>\n",
       "      <td>2020-01-05 00:24:22.000</td>\n",
       "      <td>1</td>\n",
       "      <td>중복 없음</td>\n",
       "      <td>133</td>\n",
       "    </tr>\n",
       "    <tr>\n",
       "      <th>108585</th>\n",
       "      <td>[일렉]</td>\n",
       "      <td>110536</td>\n",
       "      <td>0 일렉듣고 광질준비 O K    ElecVVIP</td>\n",
       "      <td>[349306, 93890, 651902, 46845, 362347, 330768,...</td>\n",
       "      <td>173</td>\n",
       "      <td>2012-11-29 14:34:56.000</td>\n",
       "      <td>1</td>\n",
       "      <td>중복 없음</td>\n",
       "      <td>59</td>\n",
       "    </tr>\n",
       "    <tr>\n",
       "      <th>52783</th>\n",
       "      <td>[비오는날, 추억, 회상]</td>\n",
       "      <td>106660</td>\n",
       "      <td>비오는날 듣기 좋은 연주곡 모음</td>\n",
       "      <td>[79329, 51922, 173875, 216115, 422584, 509605,...</td>\n",
       "      <td>6</td>\n",
       "      <td>2015-10-06 11:45:24.000</td>\n",
       "      <td>1</td>\n",
       "      <td>중복 없음</td>\n",
       "      <td>25</td>\n",
       "    </tr>\n",
       "    <tr>\n",
       "      <th>103775</th>\n",
       "      <td>[비오는날, 매장음악]</td>\n",
       "      <td>150419</td>\n",
       "      <td>비 오는 날 어울리는 몽환적인 힐링 피아노 모음</td>\n",
       "      <td>[706005, 467396, 322580, 279247, 519746, 70345...</td>\n",
       "      <td>12</td>\n",
       "      <td>2015-07-14 18:14:50.000</td>\n",
       "      <td>1</td>\n",
       "      <td>중복 없음</td>\n",
       "      <td>20</td>\n",
       "    </tr>\n",
       "  </tbody>\n",
       "</table>\n",
       "<p>114707 rows × 9 columns</p>\n",
       "</div>"
      ],
      "text/plain": [
       "                                                    tags      id  \\\n",
       "8532    [집중, 어쿠스틱, 혼자, 발라드, 우울, 드라이브, 산책, 조용조용, 띵곡들, 인디]  152785   \n",
       "8519     [어쿠스틱, 혼자, 발라드, 우울, 분위기, 드라이브, 띵곡만, 산책, 운전, 인디]  127180   \n",
       "8536    [띵곡, 혼자만, 어쿠스틱, 발라드, 우울, 분위기, 드라이브, 조용한, 산책, 인디]   76448   \n",
       "8541    [어쿠스틱, 혼자, 발라드, 우울, 분위기, 드라이브, 조용한, 산책, 띵곡들, 인디]  141114   \n",
       "8548    [어쿠스틱, 혼자, 발라드, 분위기, 드라이브, 조용한, 산책, 운전, 띵곡들, 인디]   18201   \n",
       "...                                                  ...     ...   \n",
       "31846                                               [일렉]   56144   \n",
       "17805                                               [일렉]   58768   \n",
       "108585                                              [일렉]  110536   \n",
       "52783                                     [비오는날, 추억, 회상]  106660   \n",
       "103775                                      [비오는날, 매장음악]  150419   \n",
       "\n",
       "                       plylst_title  \\\n",
       "8532                  혼자만의 시간이 필요할때   \n",
       "8519                  혼자만의 시간이 필요할때   \n",
       "8536                  혼자만의 시간이 필요할때   \n",
       "8541                  혼자만의 시간이 필요할때   \n",
       "8548                  혼자만의 시간이 필요할때   \n",
       "...                             ...   \n",
       "31846             00  Party  일렉트로댄스   \n",
       "17805          00  Electronica  EDM   \n",
       "108585  0 일렉듣고 광질준비 O K    ElecVVIP   \n",
       "52783             비오는날 듣기 좋은 연주곡 모음   \n",
       "103775   비 오는 날 어울리는 몽환적인 힐링 피아노 모음   \n",
       "\n",
       "                                                    songs  like_cnt  \\\n",
       "8532    [208812, 629738, 232874, 13281, 193232, 389468...         1   \n",
       "8519    [570836, 209135, 389920, 105140, 582252, 38261...         1   \n",
       "8536    [570836, 209135, 389920, 105140, 582252, 38261...         1   \n",
       "8541    [484964, 626369, 570836, 366786, 413837, 20913...         1   \n",
       "8548    [484964, 626369, 570836, 366786, 413837, 20913...         1   \n",
       "...                                                   ...       ...   \n",
       "31846   [256418, 183424, 431998, 654442, 354592, 24132...         7   \n",
       "17805   [673003, 251403, 617690, 441958, 436128, 62788...         5   \n",
       "108585  [349306, 93890, 651902, 46845, 362347, 330768,...       173   \n",
       "52783   [79329, 51922, 173875, 216115, 422584, 509605,...         6   \n",
       "103775  [706005, 467396, 322580, 279247, 519746, 70345...        12   \n",
       "\n",
       "                      updt_date  mapping_plylst_cnt  \\\n",
       "8532    2020-03-26 06:14:54.000                  43   \n",
       "8519    2020-03-24 06:39:20.000                  43   \n",
       "8536    2020-04-13 05:56:55.000                  43   \n",
       "8541    2020-04-22 06:38:57.000                  43   \n",
       "8548    2020-04-06 05:20:46.000                  43   \n",
       "...                         ...                 ...   \n",
       "31846   2018-02-06 16:02:42.000                   1   \n",
       "17805   2020-01-05 00:24:22.000                   1   \n",
       "108585  2012-11-29 14:34:56.000                   1   \n",
       "52783   2015-10-06 11:45:24.000                   1   \n",
       "103775  2015-07-14 18:14:50.000                   1   \n",
       "\n",
       "       mapping_plylst_cnt_category  song_cnt  \n",
       "8532                         중복 있음        81  \n",
       "8519                         중복 있음        78  \n",
       "8536                         중복 있음        78  \n",
       "8541                         중복 있음        78  \n",
       "8548                         중복 있음        78  \n",
       "...                            ...       ...  \n",
       "31846                        중복 없음        20  \n",
       "17805                        중복 없음       133  \n",
       "108585                       중복 없음        59  \n",
       "52783                        중복 없음        25  \n",
       "103775                       중복 없음        20  \n",
       "\n",
       "[114707 rows x 9 columns]"
      ]
     },
     "execution_count": 57,
     "metadata": {},
     "output_type": "execute_result"
    }
   ],
   "source": [
    "# train에 중복 갯수, 중복 여부 컬럼 추가, 플레이리스트 내 곡 갯수 추가\n",
    "playlists_add_col = pd.merge(playlists, plylst_id_cnt, on='plylst_title')\n",
    "playlists_add_col['song_cnt'] = playlists_add_col['songs'].apply(lambda x : len(x))\n",
    "\n",
    "# 매핑갯수, 타이틀, 플리 내 노래 갯수, like_cnt 내림차순 정렬\n",
    "playlists_filter = playlists_add_col.sort_values(['mapping_plylst_cnt', 'plylst_title', 'song_cnt', 'like_cnt'], ascending=False)\n",
    "playlists_filter"
   ]
  },
  {
   "cell_type": "code",
   "execution_count": 58,
   "metadata": {},
   "outputs": [
    {
     "data": {
      "text/plain": [
       "2722"
      ]
     },
     "execution_count": 58,
     "metadata": {},
     "output_type": "execute_result"
    }
   ],
   "source": [
    "playlists_dup = playlists_filter[playlists_filter['mapping_plylst_cnt_category'] == '중복 있음'] # 중복 플리 모음\n",
    "playlists_dup['plylst_title'].nunique() # 중복된 플레이리스트의 유니크 타이틀 갯수 : 2723"
   ]
  },
  {
   "cell_type": "code",
   "execution_count": 59,
   "metadata": {},
   "outputs": [
    {
     "name": "stderr",
     "output_type": "stream",
     "text": [
      "C:\\Users\\Playdata\\AppData\\Local\\Temp\\ipykernel_10096\\1348730183.py:1: SettingWithCopyWarning: \n",
      "A value is trying to be set on a copy of a slice from a DataFrame.\n",
      "Try using .loc[row_indexer,col_indexer] = value instead\n",
      "\n",
      "See the caveats in the documentation: https://pandas.pydata.org/pandas-docs/stable/user_guide/indexing.html#returning-a-view-versus-a-copy\n",
      "  playlists_dup['tag_cnt'] = playlists_dup['tags'].apply(len)\n"
     ]
    },
    {
     "data": {
      "text/html": [
       "<div>\n",
       "<style scoped>\n",
       "    .dataframe tbody tr th:only-of-type {\n",
       "        vertical-align: middle;\n",
       "    }\n",
       "\n",
       "    .dataframe tbody tr th {\n",
       "        vertical-align: top;\n",
       "    }\n",
       "\n",
       "    .dataframe thead th {\n",
       "        text-align: right;\n",
       "    }\n",
       "</style>\n",
       "<table border=\"1\" class=\"dataframe\">\n",
       "  <thead>\n",
       "    <tr style=\"text-align: right;\">\n",
       "      <th></th>\n",
       "      <th>tags</th>\n",
       "      <th>id</th>\n",
       "      <th>plylst_title</th>\n",
       "      <th>songs</th>\n",
       "      <th>like_cnt</th>\n",
       "      <th>updt_date</th>\n",
       "      <th>mapping_plylst_cnt</th>\n",
       "      <th>mapping_plylst_cnt_category</th>\n",
       "      <th>song_cnt</th>\n",
       "      <th>tag_cnt</th>\n",
       "    </tr>\n",
       "  </thead>\n",
       "  <tbody>\n",
       "    <tr>\n",
       "      <th>8532</th>\n",
       "      <td>[집중, 어쿠스틱, 혼자, 발라드, 우울, 드라이브, 산책, 조용조용, 띵곡들, 인디]</td>\n",
       "      <td>152785</td>\n",
       "      <td>혼자만의 시간이 필요할때</td>\n",
       "      <td>[208812, 629738, 232874, 13281, 193232, 389468...</td>\n",
       "      <td>1</td>\n",
       "      <td>2020-03-26 06:14:54.000</td>\n",
       "      <td>43</td>\n",
       "      <td>중복 있음</td>\n",
       "      <td>81</td>\n",
       "      <td>10</td>\n",
       "    </tr>\n",
       "    <tr>\n",
       "      <th>8519</th>\n",
       "      <td>[어쿠스틱, 혼자, 발라드, 우울, 분위기, 드라이브, 띵곡만, 산책, 운전, 인디]</td>\n",
       "      <td>127180</td>\n",
       "      <td>혼자만의 시간이 필요할때</td>\n",
       "      <td>[570836, 209135, 389920, 105140, 582252, 38261...</td>\n",
       "      <td>1</td>\n",
       "      <td>2020-03-24 06:39:20.000</td>\n",
       "      <td>43</td>\n",
       "      <td>중복 있음</td>\n",
       "      <td>78</td>\n",
       "      <td>10</td>\n",
       "    </tr>\n",
       "    <tr>\n",
       "      <th>8536</th>\n",
       "      <td>[띵곡, 혼자만, 어쿠스틱, 발라드, 우울, 분위기, 드라이브, 조용한, 산책, 인디]</td>\n",
       "      <td>76448</td>\n",
       "      <td>혼자만의 시간이 필요할때</td>\n",
       "      <td>[570836, 209135, 389920, 105140, 582252, 38261...</td>\n",
       "      <td>1</td>\n",
       "      <td>2020-04-13 05:56:55.000</td>\n",
       "      <td>43</td>\n",
       "      <td>중복 있음</td>\n",
       "      <td>78</td>\n",
       "      <td>10</td>\n",
       "    </tr>\n",
       "    <tr>\n",
       "      <th>8541</th>\n",
       "      <td>[어쿠스틱, 혼자, 발라드, 우울, 분위기, 드라이브, 조용한, 산책, 띵곡들, 인디]</td>\n",
       "      <td>141114</td>\n",
       "      <td>혼자만의 시간이 필요할때</td>\n",
       "      <td>[484964, 626369, 570836, 366786, 413837, 20913...</td>\n",
       "      <td>1</td>\n",
       "      <td>2020-04-22 06:38:57.000</td>\n",
       "      <td>43</td>\n",
       "      <td>중복 있음</td>\n",
       "      <td>78</td>\n",
       "      <td>10</td>\n",
       "    </tr>\n",
       "    <tr>\n",
       "      <th>8548</th>\n",
       "      <td>[어쿠스틱, 혼자, 발라드, 분위기, 드라이브, 조용한, 산책, 운전, 띵곡들, 인디]</td>\n",
       "      <td>18201</td>\n",
       "      <td>혼자만의 시간이 필요할때</td>\n",
       "      <td>[484964, 626369, 570836, 366786, 413837, 20913...</td>\n",
       "      <td>1</td>\n",
       "      <td>2020-04-06 05:20:46.000</td>\n",
       "      <td>43</td>\n",
       "      <td>중복 있음</td>\n",
       "      <td>78</td>\n",
       "      <td>10</td>\n",
       "    </tr>\n",
       "  </tbody>\n",
       "</table>\n",
       "</div>"
      ],
      "text/plain": [
       "                                                  tags      id   plylst_title  \\\n",
       "8532  [집중, 어쿠스틱, 혼자, 발라드, 우울, 드라이브, 산책, 조용조용, 띵곡들, 인디]  152785  혼자만의 시간이 필요할때   \n",
       "8519   [어쿠스틱, 혼자, 발라드, 우울, 분위기, 드라이브, 띵곡만, 산책, 운전, 인디]  127180  혼자만의 시간이 필요할때   \n",
       "8536  [띵곡, 혼자만, 어쿠스틱, 발라드, 우울, 분위기, 드라이브, 조용한, 산책, 인디]   76448  혼자만의 시간이 필요할때   \n",
       "8541  [어쿠스틱, 혼자, 발라드, 우울, 분위기, 드라이브, 조용한, 산책, 띵곡들, 인디]  141114  혼자만의 시간이 필요할때   \n",
       "8548  [어쿠스틱, 혼자, 발라드, 분위기, 드라이브, 조용한, 산책, 운전, 띵곡들, 인디]   18201  혼자만의 시간이 필요할때   \n",
       "\n",
       "                                                  songs  like_cnt  \\\n",
       "8532  [208812, 629738, 232874, 13281, 193232, 389468...         1   \n",
       "8519  [570836, 209135, 389920, 105140, 582252, 38261...         1   \n",
       "8536  [570836, 209135, 389920, 105140, 582252, 38261...         1   \n",
       "8541  [484964, 626369, 570836, 366786, 413837, 20913...         1   \n",
       "8548  [484964, 626369, 570836, 366786, 413837, 20913...         1   \n",
       "\n",
       "                    updt_date  mapping_plylst_cnt mapping_plylst_cnt_category  \\\n",
       "8532  2020-03-26 06:14:54.000                  43                       중복 있음   \n",
       "8519  2020-03-24 06:39:20.000                  43                       중복 있음   \n",
       "8536  2020-04-13 05:56:55.000                  43                       중복 있음   \n",
       "8541  2020-04-22 06:38:57.000                  43                       중복 있음   \n",
       "8548  2020-04-06 05:20:46.000                  43                       중복 있음   \n",
       "\n",
       "      song_cnt  tag_cnt  \n",
       "8532        81       10  \n",
       "8519        78       10  \n",
       "8536        78       10  \n",
       "8541        78       10  \n",
       "8548        78       10  "
      ]
     },
     "execution_count": 59,
     "metadata": {},
     "output_type": "execute_result"
    }
   ],
   "source": [
    "\n",
    "playlists_dup['tag_cnt'] = playlists_dup['tags'].apply(len)\n",
    "playlists_dup.head()"
   ]
  },
  {
   "cell_type": "code",
   "execution_count": 61,
   "metadata": {},
   "outputs": [
    {
     "data": {
      "text/html": [
       "<div>\n",
       "<style scoped>\n",
       "    .dataframe tbody tr th:only-of-type {\n",
       "        vertical-align: middle;\n",
       "    }\n",
       "\n",
       "    .dataframe tbody tr th {\n",
       "        vertical-align: top;\n",
       "    }\n",
       "\n",
       "    .dataframe thead th {\n",
       "        text-align: right;\n",
       "    }\n",
       "</style>\n",
       "<table border=\"1\" class=\"dataframe\">\n",
       "  <thead>\n",
       "    <tr style=\"text-align: right;\">\n",
       "      <th></th>\n",
       "      <th>tags</th>\n",
       "      <th>id</th>\n",
       "      <th>plylst_title</th>\n",
       "      <th>songs</th>\n",
       "      <th>like_cnt</th>\n",
       "      <th>updt_date</th>\n",
       "      <th>mapping_plylst_cnt</th>\n",
       "      <th>mapping_plylst_cnt_category</th>\n",
       "      <th>song_cnt</th>\n",
       "      <th>tag_cnt</th>\n",
       "    </tr>\n",
       "  </thead>\n",
       "  <tbody>\n",
       "    <tr>\n",
       "      <th>8532</th>\n",
       "      <td>[집중, 어쿠스틱, 혼자, 발라드, 우울, 드라이브, 산책, 조용조용, 띵곡들, 인디]</td>\n",
       "      <td>152785</td>\n",
       "      <td>혼자만의 시간이 필요할때</td>\n",
       "      <td>[208812, 629738, 232874, 13281, 193232, 389468...</td>\n",
       "      <td>1</td>\n",
       "      <td>2020-03-26 06:14:54.000</td>\n",
       "      <td>43</td>\n",
       "      <td>중복 있음</td>\n",
       "      <td>81</td>\n",
       "      <td>10</td>\n",
       "    </tr>\n",
       "    <tr>\n",
       "      <th>3119</th>\n",
       "      <td>[비오는날듣기좋은노래]</td>\n",
       "      <td>75012</td>\n",
       "      <td>비오는날</td>\n",
       "      <td>[65672, 522825, 145252, 146780, 500731, 473608...</td>\n",
       "      <td>22</td>\n",
       "      <td>2017-08-19 15:16:36.000</td>\n",
       "      <td>34</td>\n",
       "      <td>중복 있음</td>\n",
       "      <td>200</td>\n",
       "      <td>1</td>\n",
       "    </tr>\n",
       "    <tr>\n",
       "      <th>5536</th>\n",
       "      <td>[조용히, 어쿠스틱, 여유, 발라드, 분위기, 힐링, 자기전이나, 띵곡, 인디, 편안한]</td>\n",
       "      <td>52312</td>\n",
       "      <td>자기전 하루한곡 발라드</td>\n",
       "      <td>[570836, 209135, 389920, 105140, 582252, 38261...</td>\n",
       "      <td>1</td>\n",
       "      <td>2020-04-02 06:54:25.000</td>\n",
       "      <td>31</td>\n",
       "      <td>중복 있음</td>\n",
       "      <td>82</td>\n",
       "      <td>10</td>\n",
       "    </tr>\n",
       "    <tr>\n",
       "      <th>8429</th>\n",
       "      <td>[금요일]</td>\n",
       "      <td>48129</td>\n",
       "      <td>금요일</td>\n",
       "      <td>[614756, 147427, 340332, 675466, 414036, 61619...</td>\n",
       "      <td>0</td>\n",
       "      <td>2017-03-10 17:31:34.000</td>\n",
       "      <td>30</td>\n",
       "      <td>중복 있음</td>\n",
       "      <td>20</td>\n",
       "      <td>1</td>\n",
       "    </tr>\n",
       "    <tr>\n",
       "      <th>7288</th>\n",
       "      <td>[발라드]</td>\n",
       "      <td>5960</td>\n",
       "      <td>추억</td>\n",
       "      <td>[208821, 481749, 565402, 362197, 407236, 46604...</td>\n",
       "      <td>10</td>\n",
       "      <td>2010-10-21 09:45:12.000</td>\n",
       "      <td>27</td>\n",
       "      <td>중복 있음</td>\n",
       "      <td>85</td>\n",
       "      <td>1</td>\n",
       "    </tr>\n",
       "    <tr>\n",
       "      <th>...</th>\n",
       "      <td>...</td>\n",
       "      <td>...</td>\n",
       "      <td>...</td>\n",
       "      <td>...</td>\n",
       "      <td>...</td>\n",
       "      <td>...</td>\n",
       "      <td>...</td>\n",
       "      <td>...</td>\n",
       "      <td>...</td>\n",
       "      <td>...</td>\n",
       "    </tr>\n",
       "    <tr>\n",
       "      <th>155</th>\n",
       "      <td>[기분좋은, 100번]</td>\n",
       "      <td>148495</td>\n",
       "      <td>100번 들어도 기분좋은 가요</td>\n",
       "      <td>[208186, 155952, 669617, 438439, 397412, 60398...</td>\n",
       "      <td>4</td>\n",
       "      <td>2016-10-31 13:59:41.000</td>\n",
       "      <td>2</td>\n",
       "      <td>중복 있음</td>\n",
       "      <td>16</td>\n",
       "      <td>2</td>\n",
       "    </tr>\n",
       "    <tr>\n",
       "      <th>76640</th>\n",
       "      <td>[Pop]</td>\n",
       "      <td>62278</td>\n",
       "      <td>100% 로맨틱 조지 마이클  223</td>\n",
       "      <td>[366485, 435804, 442680, 538949, 263360, 29495...</td>\n",
       "      <td>0</td>\n",
       "      <td>2019-03-27 15:27:44.000</td>\n",
       "      <td>2</td>\n",
       "      <td>중복 있음</td>\n",
       "      <td>34</td>\n",
       "      <td>1</td>\n",
       "    </tr>\n",
       "    <tr>\n",
       "      <th>34444</th>\n",
       "      <td>[팝]</td>\n",
       "      <td>50564</td>\n",
       "      <td>1 HITS OF DECADE SPECIAL 2</td>\n",
       "      <td>[60025, 326802, 82991, 533287, 404318, 82686, ...</td>\n",
       "      <td>5</td>\n",
       "      <td>2009-07-11 21:37:42.000</td>\n",
       "      <td>2</td>\n",
       "      <td>중복 있음</td>\n",
       "      <td>37</td>\n",
       "      <td>1</td>\n",
       "    </tr>\n",
       "    <tr>\n",
       "      <th>75854</th>\n",
       "      <td>[팝]</td>\n",
       "      <td>109558</td>\n",
       "      <td>1 HITS OF DECADE SPECIAL</td>\n",
       "      <td>[289618, 78629, 349460, 218356, 189583, 613209...</td>\n",
       "      <td>5</td>\n",
       "      <td>2009-07-05 18:23:47.000</td>\n",
       "      <td>2</td>\n",
       "      <td>중복 있음</td>\n",
       "      <td>39</td>\n",
       "      <td>1</td>\n",
       "    </tr>\n",
       "    <tr>\n",
       "      <th>757</th>\n",
       "      <td>[Pop]</td>\n",
       "      <td>123815</td>\n",
       "      <td>1 1  환상의 케미스트리 211</td>\n",
       "      <td>[243181, 520307, 291514, 496987, 285795, 68548...</td>\n",
       "      <td>0</td>\n",
       "      <td>2019-03-27 15:27:43.000</td>\n",
       "      <td>2</td>\n",
       "      <td>중복 있음</td>\n",
       "      <td>36</td>\n",
       "      <td>1</td>\n",
       "    </tr>\n",
       "  </tbody>\n",
       "</table>\n",
       "<p>2747 rows × 10 columns</p>\n",
       "</div>"
      ],
      "text/plain": [
       "                                                    tags      id  \\\n",
       "8532    [집중, 어쿠스틱, 혼자, 발라드, 우울, 드라이브, 산책, 조용조용, 띵곡들, 인디]  152785   \n",
       "3119                                        [비오는날듣기좋은노래]   75012   \n",
       "5536   [조용히, 어쿠스틱, 여유, 발라드, 분위기, 힐링, 자기전이나, 띵곡, 인디, 편안한]   52312   \n",
       "8429                                               [금요일]   48129   \n",
       "7288                                               [발라드]    5960   \n",
       "...                                                  ...     ...   \n",
       "155                                         [기분좋은, 100번]  148495   \n",
       "76640                                              [Pop]   62278   \n",
       "34444                                                [팝]   50564   \n",
       "75854                                                [팝]  109558   \n",
       "757                                                [Pop]  123815   \n",
       "\n",
       "                     plylst_title  \\\n",
       "8532                혼자만의 시간이 필요할때   \n",
       "3119                         비오는날   \n",
       "5536                 자기전 하루한곡 발라드   \n",
       "8429                          금요일   \n",
       "7288                           추억   \n",
       "...                           ...   \n",
       "155              100번 들어도 기분좋은 가요   \n",
       "76640        100% 로맨틱 조지 마이클  223   \n",
       "34444  1 HITS OF DECADE SPECIAL 2   \n",
       "75854    1 HITS OF DECADE SPECIAL   \n",
       "757            1 1  환상의 케미스트리 211   \n",
       "\n",
       "                                                   songs  like_cnt  \\\n",
       "8532   [208812, 629738, 232874, 13281, 193232, 389468...         1   \n",
       "3119   [65672, 522825, 145252, 146780, 500731, 473608...        22   \n",
       "5536   [570836, 209135, 389920, 105140, 582252, 38261...         1   \n",
       "8429   [614756, 147427, 340332, 675466, 414036, 61619...         0   \n",
       "7288   [208821, 481749, 565402, 362197, 407236, 46604...        10   \n",
       "...                                                  ...       ...   \n",
       "155    [208186, 155952, 669617, 438439, 397412, 60398...         4   \n",
       "76640  [366485, 435804, 442680, 538949, 263360, 29495...         0   \n",
       "34444  [60025, 326802, 82991, 533287, 404318, 82686, ...         5   \n",
       "75854  [289618, 78629, 349460, 218356, 189583, 613209...         5   \n",
       "757    [243181, 520307, 291514, 496987, 285795, 68548...         0   \n",
       "\n",
       "                     updt_date  mapping_plylst_cnt  \\\n",
       "8532   2020-03-26 06:14:54.000                  43   \n",
       "3119   2017-08-19 15:16:36.000                  34   \n",
       "5536   2020-04-02 06:54:25.000                  31   \n",
       "8429   2017-03-10 17:31:34.000                  30   \n",
       "7288   2010-10-21 09:45:12.000                  27   \n",
       "...                        ...                 ...   \n",
       "155    2016-10-31 13:59:41.000                   2   \n",
       "76640  2019-03-27 15:27:44.000                   2   \n",
       "34444  2009-07-11 21:37:42.000                   2   \n",
       "75854  2009-07-05 18:23:47.000                   2   \n",
       "757    2019-03-27 15:27:43.000                   2   \n",
       "\n",
       "      mapping_plylst_cnt_category  song_cnt  tag_cnt  \n",
       "8532                        중복 있음        81       10  \n",
       "3119                        중복 있음       200        1  \n",
       "5536                        중복 있음        82       10  \n",
       "8429                        중복 있음        20        1  \n",
       "7288                        중복 있음        85        1  \n",
       "...                           ...       ...      ...  \n",
       "155                         중복 있음        16        2  \n",
       "76640                       중복 있음        34        1  \n",
       "34444                       중복 있음        37        1  \n",
       "75854                       중복 있음        39        1  \n",
       "757                         중복 있음        36        1  \n",
       "\n",
       "[2747 rows x 10 columns]"
      ]
     },
     "execution_count": 61,
     "metadata": {},
     "output_type": "execute_result"
    }
   ],
   "source": [
    "# playlists_dup 중 각 플리 제목 별 노래갯수가 가장 많은 하나만 남긴다\n",
    "playlists_dup_filter = pd.DataFrame(playlists_dup[playlists_dup.groupby('plylst_title')['song_cnt'].transform(max) == playlists_dup['song_cnt']]) # 3572 \n",
    "playlists_dup_filter = pd.DataFrame(playlists_dup_filter[playlists_dup_filter.groupby('plylst_title')['like_cnt'].transform(max) == playlists_dup_filter['like_cnt']]) # 2928 \n",
    "playlists_dup_filter = pd.DataFrame(playlists_dup_filter[playlists_dup_filter.groupby('plylst_title')['tag_cnt'].transform(max) == playlists_dup_filter['tag_cnt']]) # 2909 \n",
    "playlists_dup_filter = pd.DataFrame(playlists_dup_filter[playlists_dup_filter.groupby('plylst_title')['updt_date'].transform(max) == playlists_dup_filter['updt_date']]) # 2748 \n",
    "playlists_dup_filter"
   ]
  },
  {
   "cell_type": "code",
   "execution_count": 62,
   "metadata": {},
   "outputs": [
    {
     "data": {
      "text/html": [
       "<div>\n",
       "<style scoped>\n",
       "    .dataframe tbody tr th:only-of-type {\n",
       "        vertical-align: middle;\n",
       "    }\n",
       "\n",
       "    .dataframe tbody tr th {\n",
       "        vertical-align: top;\n",
       "    }\n",
       "\n",
       "    .dataframe thead th {\n",
       "        text-align: right;\n",
       "    }\n",
       "</style>\n",
       "<table border=\"1\" class=\"dataframe\">\n",
       "  <thead>\n",
       "    <tr style=\"text-align: right;\">\n",
       "      <th></th>\n",
       "      <th>tags</th>\n",
       "      <th>id</th>\n",
       "      <th>plylst_title</th>\n",
       "      <th>songs</th>\n",
       "      <th>like_cnt</th>\n",
       "      <th>updt_date</th>\n",
       "      <th>mapping_plylst_cnt</th>\n",
       "      <th>mapping_plylst_cnt_category</th>\n",
       "      <th>song_cnt</th>\n",
       "      <th>tag_cnt</th>\n",
       "    </tr>\n",
       "  </thead>\n",
       "  <tbody>\n",
       "    <tr>\n",
       "      <th>50442</th>\n",
       "      <td>[여름]</td>\n",
       "      <td>7524</td>\n",
       "      <td>qqqa</td>\n",
       "      <td>[522825, 455668, 549178, 407828, 343974]</td>\n",
       "      <td>1</td>\n",
       "      <td>2015-11-04 17:51:14.000</td>\n",
       "      <td>3</td>\n",
       "      <td>중복 있음</td>\n",
       "      <td>5</td>\n",
       "      <td>1</td>\n",
       "    </tr>\n",
       "    <tr>\n",
       "      <th>50443</th>\n",
       "      <td>[여름]</td>\n",
       "      <td>43031</td>\n",
       "      <td>qqqa</td>\n",
       "      <td>[522825, 455668, 549178, 407828, 343974]</td>\n",
       "      <td>1</td>\n",
       "      <td>2015-11-04 17:51:14.000</td>\n",
       "      <td>3</td>\n",
       "      <td>중복 있음</td>\n",
       "      <td>5</td>\n",
       "      <td>1</td>\n",
       "    </tr>\n",
       "  </tbody>\n",
       "</table>\n",
       "</div>"
      ],
      "text/plain": [
       "       tags     id plylst_title                                     songs  \\\n",
       "50442  [여름]   7524         qqqa  [522825, 455668, 549178, 407828, 343974]   \n",
       "50443  [여름]  43031         qqqa  [522825, 455668, 549178, 407828, 343974]   \n",
       "\n",
       "       like_cnt                updt_date  mapping_plylst_cnt  \\\n",
       "50442         1  2015-11-04 17:51:14.000                   3   \n",
       "50443         1  2015-11-04 17:51:14.000                   3   \n",
       "\n",
       "      mapping_plylst_cnt_category  song_cnt  tag_cnt  \n",
       "50442                       중복 있음         5        1  \n",
       "50443                       중복 있음         5        1  "
      ]
     },
     "execution_count": 62,
     "metadata": {},
     "output_type": "execute_result"
    }
   ],
   "source": [
    "playlists_dup_filter[playlists_dup_filter['plylst_title'] == 'qqqa'] # 필터링 되지 않은 중복 타이틀은 플레이리스트 자체가 같음"
   ]
  },
  {
   "cell_type": "code",
   "execution_count": 63,
   "metadata": {},
   "outputs": [],
   "source": [
    "# 타이틀이 같은 플레이리스트 중 하나만 남긴다\n",
    "playlists_dup_filter = pd.DataFrame(playlists_dup_filter.groupby('plylst_title', group_keys=False).apply(lambda x: x.loc[x['song_cnt'].idxmax()]))\n",
    "playlists_dup_filter = playlists_dup_filter.reset_index(drop=True) # 2722"
   ]
  },
  {
   "cell_type": "code",
   "execution_count": 64,
   "metadata": {},
   "outputs": [
    {
     "data": {
      "text/html": [
       "<div>\n",
       "<style scoped>\n",
       "    .dataframe tbody tr th:only-of-type {\n",
       "        vertical-align: middle;\n",
       "    }\n",
       "\n",
       "    .dataframe tbody tr th {\n",
       "        vertical-align: top;\n",
       "    }\n",
       "\n",
       "    .dataframe thead th {\n",
       "        text-align: right;\n",
       "    }\n",
       "</style>\n",
       "<table border=\"1\" class=\"dataframe\">\n",
       "  <thead>\n",
       "    <tr style=\"text-align: right;\">\n",
       "      <th></th>\n",
       "      <th>plylst_title</th>\n",
       "      <th>mapping_plylst_cnt</th>\n",
       "    </tr>\n",
       "    <tr>\n",
       "      <th>mapping_plylst_cnt_category</th>\n",
       "      <th></th>\n",
       "      <th></th>\n",
       "    </tr>\n",
       "  </thead>\n",
       "  <tbody>\n",
       "    <tr>\n",
       "      <th>중복 없음</th>\n",
       "      <td>2722</td>\n",
       "      <td>2722</td>\n",
       "    </tr>\n",
       "    <tr>\n",
       "      <th>중복 있음</th>\n",
       "      <td>0</td>\n",
       "      <td>0</td>\n",
       "    </tr>\n",
       "  </tbody>\n",
       "</table>\n",
       "</div>"
      ],
      "text/plain": [
       "                             plylst_title  mapping_plylst_cnt\n",
       "mapping_plylst_cnt_category                                  \n",
       "중복 없음                                2722                2722\n",
       "중복 있음                                   0                   0"
      ]
     },
     "execution_count": 64,
     "metadata": {},
     "output_type": "execute_result"
    }
   ],
   "source": [
    "# playlists_dup_filter 중 중복 여부 확인\n",
    "\n",
    "# 1. 플레이리스트 아이디(id)와 플레이리스트 명(plylst_title) 추출\n",
    "plylst_title_2 = playlists_dup_filter[['id', 'plylst_title']]\n",
    "\n",
    "# 2. 플레이리스트 이름 별 플레이리스트 ID count 테이블 생성 : plylst_id_cnt\n",
    "plylst_id_cnt_2 = plylst_title_2.groupby('plylst_title').id.nunique().reset_index(name = 'mapping_plylst_cnt')\n",
    "\n",
    "# 3. 플레이리스트 명 중복 구분 : 서로 다른 플레이리스트 아이디로 겹치는 플레이리스트 이름이 없으면 '중복 없음', 그 외 '중복 있음'\n",
    "plylst_id_cnt_2 = plylst_id_cnt_2.assign(\n",
    "    mapping_plylst_cnt_category = pd.cut(plylst_id_cnt_2['mapping_plylst_cnt'], [0, 1, np.inf], labels = ['중복 없음', '중복 있음'])\n",
    ")\n",
    "plylst_id_cnt_2\n",
    "# [0, 1, np.inf] : 0이상 1미만 값 = 중복없음, 1이상의 값 = 중복있음\n",
    "\n",
    "# 4. 중복 구분 별 플레이리스트 수 count 테이블 생성 : plylst_id_cnt_division\n",
    "plylst_id_cnt_division_2 = pd.DataFrame(plylst_id_cnt_2.groupby('mapping_plylst_cnt_category').count())\n",
    "plylst_id_cnt_division_2"
   ]
  },
  {
   "cell_type": "code",
   "execution_count": 65,
   "metadata": {},
   "outputs": [
    {
     "data": {
      "text/html": [
       "<div>\n",
       "<style scoped>\n",
       "    .dataframe tbody tr th:only-of-type {\n",
       "        vertical-align: middle;\n",
       "    }\n",
       "\n",
       "    .dataframe tbody tr th {\n",
       "        vertical-align: top;\n",
       "    }\n",
       "\n",
       "    .dataframe thead th {\n",
       "        text-align: right;\n",
       "    }\n",
       "</style>\n",
       "<table border=\"1\" class=\"dataframe\">\n",
       "  <thead>\n",
       "    <tr style=\"text-align: right;\">\n",
       "      <th></th>\n",
       "      <th>tags</th>\n",
       "      <th>id</th>\n",
       "      <th>plylst_title</th>\n",
       "      <th>songs</th>\n",
       "      <th>like_cnt</th>\n",
       "      <th>updt_date</th>\n",
       "      <th>mapping_plylst_cnt</th>\n",
       "      <th>mapping_plylst_cnt_category</th>\n",
       "    </tr>\n",
       "  </thead>\n",
       "  <tbody>\n",
       "    <tr>\n",
       "      <th>0</th>\n",
       "      <td>[락]</td>\n",
       "      <td>61281</td>\n",
       "      <td>여행같은 음악</td>\n",
       "      <td>[525514, 129701, 383374, 562083, 297861, 13954...</td>\n",
       "      <td>71</td>\n",
       "      <td>2013-12-19 18:36:19.000</td>\n",
       "      <td>1</td>\n",
       "      <td>중복 없음</td>\n",
       "    </tr>\n",
       "    <tr>\n",
       "      <th>1</th>\n",
       "      <td>[추억, 회상]</td>\n",
       "      <td>10532</td>\n",
       "      <td>요즘 너 말야</td>\n",
       "      <td>[432406, 675945, 497066, 120377, 389529, 24427...</td>\n",
       "      <td>1</td>\n",
       "      <td>2014-12-02 16:19:42.000</td>\n",
       "      <td>1</td>\n",
       "      <td>중복 없음</td>\n",
       "    </tr>\n",
       "    <tr>\n",
       "      <th>2</th>\n",
       "      <td>[까페, 잔잔한]</td>\n",
       "      <td>76951</td>\n",
       "      <td>편하게  잔잔하게 들을 수 있는 곡</td>\n",
       "      <td>[83116, 276692, 166267, 186301, 354465, 256598...</td>\n",
       "      <td>17</td>\n",
       "      <td>2017-08-28 07:09:34.000</td>\n",
       "      <td>1</td>\n",
       "      <td>중복 없음</td>\n",
       "    </tr>\n",
       "    <tr>\n",
       "      <th>3</th>\n",
       "      <td>[연말, 눈오는날, 캐럴, 분위기, 따듯한, 크리스마스캐럴, 겨울노래, 크리스마스,...</td>\n",
       "      <td>147456</td>\n",
       "      <td>크리스마스 분위기에 흠뻑 취하고 싶을때</td>\n",
       "      <td>[394031, 195524, 540149, 287984, 440773, 10033...</td>\n",
       "      <td>33</td>\n",
       "      <td>2019-12-05 15:15:18.000</td>\n",
       "      <td>1</td>\n",
       "      <td>중복 없음</td>\n",
       "    </tr>\n",
       "    <tr>\n",
       "      <th>4</th>\n",
       "      <td>[댄스]</td>\n",
       "      <td>27616</td>\n",
       "      <td>추억의 노래 ㅋ</td>\n",
       "      <td>[159327, 553610, 5130, 645103, 294435, 100657,...</td>\n",
       "      <td>9</td>\n",
       "      <td>2011-10-25 13:54:56.000</td>\n",
       "      <td>1</td>\n",
       "      <td>중복 없음</td>\n",
       "    </tr>\n",
       "    <tr>\n",
       "      <th>...</th>\n",
       "      <td>...</td>\n",
       "      <td>...</td>\n",
       "      <td>...</td>\n",
       "      <td>...</td>\n",
       "      <td>...</td>\n",
       "      <td>...</td>\n",
       "      <td>...</td>\n",
       "      <td>...</td>\n",
       "    </tr>\n",
       "    <tr>\n",
       "      <th>114702</th>\n",
       "      <td>[록메탈, 밴드사운드, 록, 락메탈, 메탈, 락, extreme]</td>\n",
       "      <td>120325</td>\n",
       "      <td>METAL E SM  2</td>\n",
       "      <td>[429629, 441511, 612106, 516359, 691768, 38714...</td>\n",
       "      <td>3</td>\n",
       "      <td>2020-04-17 04:31:11.000</td>\n",
       "      <td>1</td>\n",
       "      <td>중복 없음</td>\n",
       "    </tr>\n",
       "    <tr>\n",
       "      <th>114703</th>\n",
       "      <td>[일렉]</td>\n",
       "      <td>106976</td>\n",
       "      <td>빠른 리스너를 위한 따끈따끈한 최신 인기 EDM 모음</td>\n",
       "      <td>[321330, 216057, 534472, 240306, 331098, 23288...</td>\n",
       "      <td>13</td>\n",
       "      <td>2015-12-24 17:23:19.000</td>\n",
       "      <td>1</td>\n",
       "      <td>중복 없음</td>\n",
       "    </tr>\n",
       "    <tr>\n",
       "      <th>114704</th>\n",
       "      <td>[담시, 가족, 눈물, 그리움, 주인공, 나의이야기, 사랑, 친구]</td>\n",
       "      <td>11343</td>\n",
       "      <td>1  눈물이 앞을 가리는 나의 이야기</td>\n",
       "      <td>[50512, 249024, 250608, 371171, 229942, 694943...</td>\n",
       "      <td>4</td>\n",
       "      <td>2019-08-16 20:59:22.000</td>\n",
       "      <td>1</td>\n",
       "      <td>중복 없음</td>\n",
       "    </tr>\n",
       "    <tr>\n",
       "      <th>114705</th>\n",
       "      <td>[잔잔한, 버스, 퇴근버스, Pop, 풍경, 퇴근길]</td>\n",
       "      <td>131982</td>\n",
       "      <td>퇴근 버스에서 편히 들으면서 하루를 마무리하기에 좋은 POP</td>\n",
       "      <td>[533534, 608114, 343608, 417140, 609009, 30217...</td>\n",
       "      <td>4</td>\n",
       "      <td>2019-10-25 23:40:42.000</td>\n",
       "      <td>1</td>\n",
       "      <td>중복 없음</td>\n",
       "    </tr>\n",
       "    <tr>\n",
       "      <th>114706</th>\n",
       "      <td>[노래추천, 팝송추천, 팝송, 팝송모음]</td>\n",
       "      <td>100389</td>\n",
       "      <td>FAVORITE POPSONG</td>\n",
       "      <td>[26008, 456354, 324105, 89871, 135272, 143548,...</td>\n",
       "      <td>17</td>\n",
       "      <td>2020-04-18 20:35:06.000</td>\n",
       "      <td>1</td>\n",
       "      <td>중복 없음</td>\n",
       "    </tr>\n",
       "  </tbody>\n",
       "</table>\n",
       "<p>106525 rows × 8 columns</p>\n",
       "</div>"
      ],
      "text/plain": [
       "                                                     tags      id  \\\n",
       "0                                                     [락]   61281   \n",
       "1                                                [추억, 회상]   10532   \n",
       "2                                               [까페, 잔잔한]   76951   \n",
       "3       [연말, 눈오는날, 캐럴, 분위기, 따듯한, 크리스마스캐럴, 겨울노래, 크리스마스,...  147456   \n",
       "4                                                    [댄스]   27616   \n",
       "...                                                   ...     ...   \n",
       "114702               [록메탈, 밴드사운드, 록, 락메탈, 메탈, 락, extreme]  120325   \n",
       "114703                                               [일렉]  106976   \n",
       "114704              [담시, 가족, 눈물, 그리움, 주인공, 나의이야기, 사랑, 친구]   11343   \n",
       "114705                      [잔잔한, 버스, 퇴근버스, Pop, 풍경, 퇴근길]  131982   \n",
       "114706                             [노래추천, 팝송추천, 팝송, 팝송모음]  100389   \n",
       "\n",
       "                             plylst_title  \\\n",
       "0                                 여행같은 음악   \n",
       "1                                 요즘 너 말야   \n",
       "2                     편하게  잔잔하게 들을 수 있는 곡   \n",
       "3                   크리스마스 분위기에 흠뻑 취하고 싶을때   \n",
       "4                                추억의 노래 ㅋ   \n",
       "...                                   ...   \n",
       "114702                      METAL E SM  2   \n",
       "114703      빠른 리스너를 위한 따끈따끈한 최신 인기 EDM 모음   \n",
       "114704               1  눈물이 앞을 가리는 나의 이야기   \n",
       "114705  퇴근 버스에서 편히 들으면서 하루를 마무리하기에 좋은 POP   \n",
       "114706                   FAVORITE POPSONG   \n",
       "\n",
       "                                                    songs  like_cnt  \\\n",
       "0       [525514, 129701, 383374, 562083, 297861, 13954...        71   \n",
       "1       [432406, 675945, 497066, 120377, 389529, 24427...         1   \n",
       "2       [83116, 276692, 166267, 186301, 354465, 256598...        17   \n",
       "3       [394031, 195524, 540149, 287984, 440773, 10033...        33   \n",
       "4       [159327, 553610, 5130, 645103, 294435, 100657,...         9   \n",
       "...                                                   ...       ...   \n",
       "114702  [429629, 441511, 612106, 516359, 691768, 38714...         3   \n",
       "114703  [321330, 216057, 534472, 240306, 331098, 23288...        13   \n",
       "114704  [50512, 249024, 250608, 371171, 229942, 694943...         4   \n",
       "114705  [533534, 608114, 343608, 417140, 609009, 30217...         4   \n",
       "114706  [26008, 456354, 324105, 89871, 135272, 143548,...        17   \n",
       "\n",
       "                      updt_date  mapping_plylst_cnt  \\\n",
       "0       2013-12-19 18:36:19.000                   1   \n",
       "1       2014-12-02 16:19:42.000                   1   \n",
       "2       2017-08-28 07:09:34.000                   1   \n",
       "3       2019-12-05 15:15:18.000                   1   \n",
       "4       2011-10-25 13:54:56.000                   1   \n",
       "...                         ...                 ...   \n",
       "114702  2020-04-17 04:31:11.000                   1   \n",
       "114703  2015-12-24 17:23:19.000                   1   \n",
       "114704  2019-08-16 20:59:22.000                   1   \n",
       "114705  2019-10-25 23:40:42.000                   1   \n",
       "114706  2020-04-18 20:35:06.000                   1   \n",
       "\n",
       "       mapping_plylst_cnt_category  \n",
       "0                            중복 없음  \n",
       "1                            중복 없음  \n",
       "2                            중복 없음  \n",
       "3                            중복 없음  \n",
       "4                            중복 없음  \n",
       "...                            ...  \n",
       "114702                       중복 없음  \n",
       "114703                       중복 없음  \n",
       "114704                       중복 없음  \n",
       "114705                       중복 없음  \n",
       "114706                       중복 없음  \n",
       "\n",
       "[106525 rows x 8 columns]"
      ]
     },
     "execution_count": 65,
     "metadata": {},
     "output_type": "execute_result"
    }
   ],
   "source": [
    "# 중복 없음 파일만 만들기\n",
    "playlists_no_dup = pd.merge(playlists, plylst_id_cnt, on='plylst_title')\n",
    "playlists_no_dup = playlists_no_dup[playlists_no_dup['mapping_plylst_cnt_category'] == '중복 없음']\n",
    "playlists_no_dup # 106525행"
   ]
  },
  {
   "cell_type": "code",
   "execution_count": 66,
   "metadata": {},
   "outputs": [
    {
     "data": {
      "text/html": [
       "<div>\n",
       "<style scoped>\n",
       "    .dataframe tbody tr th:only-of-type {\n",
       "        vertical-align: middle;\n",
       "    }\n",
       "\n",
       "    .dataframe tbody tr th {\n",
       "        vertical-align: top;\n",
       "    }\n",
       "\n",
       "    .dataframe thead th {\n",
       "        text-align: right;\n",
       "    }\n",
       "</style>\n",
       "<table border=\"1\" class=\"dataframe\">\n",
       "  <thead>\n",
       "    <tr style=\"text-align: right;\">\n",
       "      <th></th>\n",
       "      <th>tags</th>\n",
       "      <th>id</th>\n",
       "      <th>plylst_title</th>\n",
       "      <th>songs</th>\n",
       "      <th>like_cnt</th>\n",
       "      <th>updt_date</th>\n",
       "      <th>mapping_plylst_cnt</th>\n",
       "      <th>mapping_plylst_cnt_category</th>\n",
       "      <th>song_cnt</th>\n",
       "      <th>tag_cnt</th>\n",
       "    </tr>\n",
       "  </thead>\n",
       "  <tbody>\n",
       "    <tr>\n",
       "      <th>0</th>\n",
       "      <td>[Pop]</td>\n",
       "      <td>123815</td>\n",
       "      <td>1 1  환상의 케미스트리 211</td>\n",
       "      <td>[243181, 520307, 291514, 496987, 285795, 68548...</td>\n",
       "      <td>0</td>\n",
       "      <td>2019-03-27 15:27:43.000</td>\n",
       "      <td>2</td>\n",
       "      <td>중복 있음</td>\n",
       "      <td>36.0</td>\n",
       "      <td>1.0</td>\n",
       "    </tr>\n",
       "    <tr>\n",
       "      <th>1</th>\n",
       "      <td>[팝]</td>\n",
       "      <td>109558</td>\n",
       "      <td>1 HITS OF DECADE SPECIAL</td>\n",
       "      <td>[289618, 78629, 349460, 218356, 189583, 613209...</td>\n",
       "      <td>5</td>\n",
       "      <td>2009-07-05 18:23:47.000</td>\n",
       "      <td>2</td>\n",
       "      <td>중복 있음</td>\n",
       "      <td>39.0</td>\n",
       "      <td>1.0</td>\n",
       "    </tr>\n",
       "    <tr>\n",
       "      <th>2</th>\n",
       "      <td>[팝]</td>\n",
       "      <td>50564</td>\n",
       "      <td>1 HITS OF DECADE SPECIAL 2</td>\n",
       "      <td>[60025, 326802, 82991, 533287, 404318, 82686, ...</td>\n",
       "      <td>5</td>\n",
       "      <td>2009-07-11 21:37:42.000</td>\n",
       "      <td>2</td>\n",
       "      <td>중복 있음</td>\n",
       "      <td>37.0</td>\n",
       "      <td>1.0</td>\n",
       "    </tr>\n",
       "    <tr>\n",
       "      <th>3</th>\n",
       "      <td>[Pop]</td>\n",
       "      <td>62278</td>\n",
       "      <td>100% 로맨틱 조지 마이클  223</td>\n",
       "      <td>[366485, 435804, 442680, 538949, 263360, 29495...</td>\n",
       "      <td>0</td>\n",
       "      <td>2019-03-27 15:27:44.000</td>\n",
       "      <td>2</td>\n",
       "      <td>중복 있음</td>\n",
       "      <td>34.0</td>\n",
       "      <td>1.0</td>\n",
       "    </tr>\n",
       "    <tr>\n",
       "      <th>4</th>\n",
       "      <td>[기분좋은, 100번]</td>\n",
       "      <td>148495</td>\n",
       "      <td>100번 들어도 기분좋은 가요</td>\n",
       "      <td>[208186, 155952, 669617, 438439, 397412, 60398...</td>\n",
       "      <td>4</td>\n",
       "      <td>2016-10-31 13:59:41.000</td>\n",
       "      <td>2</td>\n",
       "      <td>중복 있음</td>\n",
       "      <td>16.0</td>\n",
       "      <td>2.0</td>\n",
       "    </tr>\n",
       "    <tr>\n",
       "      <th>...</th>\n",
       "      <td>...</td>\n",
       "      <td>...</td>\n",
       "      <td>...</td>\n",
       "      <td>...</td>\n",
       "      <td>...</td>\n",
       "      <td>...</td>\n",
       "      <td>...</td>\n",
       "      <td>...</td>\n",
       "      <td>...</td>\n",
       "      <td>...</td>\n",
       "    </tr>\n",
       "    <tr>\n",
       "      <th>114702</th>\n",
       "      <td>[록메탈, 밴드사운드, 록, 락메탈, 메탈, 락, extreme]</td>\n",
       "      <td>120325</td>\n",
       "      <td>METAL E SM  2</td>\n",
       "      <td>[429629, 441511, 612106, 516359, 691768, 38714...</td>\n",
       "      <td>3</td>\n",
       "      <td>2020-04-17 04:31:11.000</td>\n",
       "      <td>1</td>\n",
       "      <td>중복 없음</td>\n",
       "      <td>NaN</td>\n",
       "      <td>NaN</td>\n",
       "    </tr>\n",
       "    <tr>\n",
       "      <th>114703</th>\n",
       "      <td>[일렉]</td>\n",
       "      <td>106976</td>\n",
       "      <td>빠른 리스너를 위한 따끈따끈한 최신 인기 EDM 모음</td>\n",
       "      <td>[321330, 216057, 534472, 240306, 331098, 23288...</td>\n",
       "      <td>13</td>\n",
       "      <td>2015-12-24 17:23:19.000</td>\n",
       "      <td>1</td>\n",
       "      <td>중복 없음</td>\n",
       "      <td>NaN</td>\n",
       "      <td>NaN</td>\n",
       "    </tr>\n",
       "    <tr>\n",
       "      <th>114704</th>\n",
       "      <td>[담시, 가족, 눈물, 그리움, 주인공, 나의이야기, 사랑, 친구]</td>\n",
       "      <td>11343</td>\n",
       "      <td>1  눈물이 앞을 가리는 나의 이야기</td>\n",
       "      <td>[50512, 249024, 250608, 371171, 229942, 694943...</td>\n",
       "      <td>4</td>\n",
       "      <td>2019-08-16 20:59:22.000</td>\n",
       "      <td>1</td>\n",
       "      <td>중복 없음</td>\n",
       "      <td>NaN</td>\n",
       "      <td>NaN</td>\n",
       "    </tr>\n",
       "    <tr>\n",
       "      <th>114705</th>\n",
       "      <td>[잔잔한, 버스, 퇴근버스, Pop, 풍경, 퇴근길]</td>\n",
       "      <td>131982</td>\n",
       "      <td>퇴근 버스에서 편히 들으면서 하루를 마무리하기에 좋은 POP</td>\n",
       "      <td>[533534, 608114, 343608, 417140, 609009, 30217...</td>\n",
       "      <td>4</td>\n",
       "      <td>2019-10-25 23:40:42.000</td>\n",
       "      <td>1</td>\n",
       "      <td>중복 없음</td>\n",
       "      <td>NaN</td>\n",
       "      <td>NaN</td>\n",
       "    </tr>\n",
       "    <tr>\n",
       "      <th>114706</th>\n",
       "      <td>[노래추천, 팝송추천, 팝송, 팝송모음]</td>\n",
       "      <td>100389</td>\n",
       "      <td>FAVORITE POPSONG</td>\n",
       "      <td>[26008, 456354, 324105, 89871, 135272, 143548,...</td>\n",
       "      <td>17</td>\n",
       "      <td>2020-04-18 20:35:06.000</td>\n",
       "      <td>1</td>\n",
       "      <td>중복 없음</td>\n",
       "      <td>NaN</td>\n",
       "      <td>NaN</td>\n",
       "    </tr>\n",
       "  </tbody>\n",
       "</table>\n",
       "<p>109247 rows × 10 columns</p>\n",
       "</div>"
      ],
      "text/plain": [
       "                                         tags      id  \\\n",
       "0                                       [Pop]  123815   \n",
       "1                                         [팝]  109558   \n",
       "2                                         [팝]   50564   \n",
       "3                                       [Pop]   62278   \n",
       "4                                [기분좋은, 100번]  148495   \n",
       "...                                       ...     ...   \n",
       "114702   [록메탈, 밴드사운드, 록, 락메탈, 메탈, 락, extreme]  120325   \n",
       "114703                                   [일렉]  106976   \n",
       "114704  [담시, 가족, 눈물, 그리움, 주인공, 나의이야기, 사랑, 친구]   11343   \n",
       "114705          [잔잔한, 버스, 퇴근버스, Pop, 풍경, 퇴근길]  131982   \n",
       "114706                 [노래추천, 팝송추천, 팝송, 팝송모음]  100389   \n",
       "\n",
       "                             plylst_title  \\\n",
       "0                      1 1  환상의 케미스트리 211   \n",
       "1                1 HITS OF DECADE SPECIAL   \n",
       "2              1 HITS OF DECADE SPECIAL 2   \n",
       "3                    100% 로맨틱 조지 마이클  223   \n",
       "4                        100번 들어도 기분좋은 가요   \n",
       "...                                   ...   \n",
       "114702                      METAL E SM  2   \n",
       "114703      빠른 리스너를 위한 따끈따끈한 최신 인기 EDM 모음   \n",
       "114704               1  눈물이 앞을 가리는 나의 이야기   \n",
       "114705  퇴근 버스에서 편히 들으면서 하루를 마무리하기에 좋은 POP   \n",
       "114706                   FAVORITE POPSONG   \n",
       "\n",
       "                                                    songs  like_cnt  \\\n",
       "0       [243181, 520307, 291514, 496987, 285795, 68548...         0   \n",
       "1       [289618, 78629, 349460, 218356, 189583, 613209...         5   \n",
       "2       [60025, 326802, 82991, 533287, 404318, 82686, ...         5   \n",
       "3       [366485, 435804, 442680, 538949, 263360, 29495...         0   \n",
       "4       [208186, 155952, 669617, 438439, 397412, 60398...         4   \n",
       "...                                                   ...       ...   \n",
       "114702  [429629, 441511, 612106, 516359, 691768, 38714...         3   \n",
       "114703  [321330, 216057, 534472, 240306, 331098, 23288...        13   \n",
       "114704  [50512, 249024, 250608, 371171, 229942, 694943...         4   \n",
       "114705  [533534, 608114, 343608, 417140, 609009, 30217...         4   \n",
       "114706  [26008, 456354, 324105, 89871, 135272, 143548,...        17   \n",
       "\n",
       "                      updt_date  mapping_plylst_cnt  \\\n",
       "0       2019-03-27 15:27:43.000                   2   \n",
       "1       2009-07-05 18:23:47.000                   2   \n",
       "2       2009-07-11 21:37:42.000                   2   \n",
       "3       2019-03-27 15:27:44.000                   2   \n",
       "4       2016-10-31 13:59:41.000                   2   \n",
       "...                         ...                 ...   \n",
       "114702  2020-04-17 04:31:11.000                   1   \n",
       "114703  2015-12-24 17:23:19.000                   1   \n",
       "114704  2019-08-16 20:59:22.000                   1   \n",
       "114705  2019-10-25 23:40:42.000                   1   \n",
       "114706  2020-04-18 20:35:06.000                   1   \n",
       "\n",
       "       mapping_plylst_cnt_category  song_cnt  tag_cnt  \n",
       "0                            중복 있음      36.0      1.0  \n",
       "1                            중복 있음      39.0      1.0  \n",
       "2                            중복 있음      37.0      1.0  \n",
       "3                            중복 있음      34.0      1.0  \n",
       "4                            중복 있음      16.0      2.0  \n",
       "...                            ...       ...      ...  \n",
       "114702                       중복 없음       NaN      NaN  \n",
       "114703                       중복 없음       NaN      NaN  \n",
       "114704                       중복 없음       NaN      NaN  \n",
       "114705                       중복 없음       NaN      NaN  \n",
       "114706                       중복 없음       NaN      NaN  \n",
       "\n",
       "[109247 rows x 10 columns]"
      ]
     },
     "execution_count": 66,
     "metadata": {},
     "output_type": "execute_result"
    }
   ],
   "source": [
    "playlists_dup_proc = pd.concat([playlists_dup_filter, playlists_no_dup], axis=0)\n",
    "playlists_dup_proc # 2722+106525 =109247\n",
    "\n",
    "# 114707 - 109247 = 타이틀 중복 제거로 5460행 삭제"
   ]
  },
  {
   "cell_type": "code",
   "execution_count": 68,
   "metadata": {},
   "outputs": [
    {
     "name": "stdout",
     "output_type": "stream",
     "text": [
      "<class 'pandas.core.frame.DataFrame'>\n",
      "Int64Index: 109247 entries, 0 to 114706\n",
      "Data columns (total 6 columns):\n",
      " #   Column        Non-Null Count   Dtype \n",
      "---  ------        --------------   ----- \n",
      " 0   tags          109247 non-null  object\n",
      " 1   id            109247 non-null  int64 \n",
      " 2   plylst_title  109247 non-null  object\n",
      " 3   songs         109247 non-null  object\n",
      " 4   like_cnt      109247 non-null  int64 \n",
      " 5   updt_date     109247 non-null  object\n",
      "dtypes: int64(2), object(4)\n",
      "memory usage: 5.8+ MB\n"
     ]
    }
   ],
   "source": [
    "# 필요 없는 컬럼 제거\n",
    "playlists_dup_proc = playlists_dup_proc.iloc[:, :6]\n",
    "playlists_dup_proc.info()"
   ]
  },
  {
   "cell_type": "markdown",
   "metadata": {},
   "source": [
    "## 3) 플레이리스트 별 노래 개수, 좋아요 개수 이상치 행 날리기"
   ]
  },
  {
   "cell_type": "markdown",
   "metadata": {},
   "source": [
    "---"
   ]
  },
  {
   "cell_type": "markdown",
   "metadata": {},
   "source": [
    "> like_cnt 정규분포 구해보기"
   ]
  },
  {
   "cell_type": "code",
   "execution_count": 111,
   "metadata": {},
   "outputs": [
    {
     "name": "stdout",
     "output_type": "stream",
     "text": [
      "평균: 98.97\n",
      "표준 편차: 573.14\n",
      "95.0% 신뢰 수준의 신뢰 구간: (95.57, 102.37)\n"
     ]
    }
   ],
   "source": [
    "import numpy as np\n",
    "from scipy import stats\n",
    "\n",
    "# like_cnt 열의 데이터 추출\n",
    "like_cnt_data = playlists_dup_proc['like_cnt']\n",
    "\n",
    "# 정규분포의 평균과 표준 편차 추정\n",
    "mean, std_dev = stats.norm.fit(like_cnt_data)\n",
    "\n",
    "# 신뢰 수준 (일반적으로 95%)에 해당하는 신뢰 구간 계산\n",
    "confidence_level = 0.95\n",
    "alpha = 1 - confidence_level\n",
    "z_score = stats.norm.ppf(1 - alpha / 2)  # 신뢰 수준에 해당하는 Z-점수 계산\n",
    "margin_of_error = z_score * (std_dev / np.sqrt(len(like_cnt_data)))\n",
    "confidence_interval = (mean - margin_of_error, mean + margin_of_error)\n",
    "\n",
    "# 정규분포의 범위 확인\n",
    "print(f\"평균: {mean:.2f}\")\n",
    "print(f\"표준 편차: {std_dev:.2f}\")\n",
    "print(f\"{confidence_level*100}% 신뢰 수준의 신뢰 구간: ({confidence_interval[0]:.2f}, {confidence_interval[1]:.2f})\")"
   ]
  },
  {
   "cell_type": "code",
   "execution_count": 112,
   "metadata": {},
   "outputs": [
    {
     "data": {
      "text/plain": [
       "count    109247.000000\n",
       "mean         98.967560\n",
       "std         573.145959\n",
       "min           0.000000\n",
       "25%           3.000000\n",
       "50%           8.000000\n",
       "75%          26.000000\n",
       "max       53211.000000\n",
       "Name: like_cnt, dtype: float64"
      ]
     },
     "execution_count": 112,
     "metadata": {},
     "output_type": "execute_result"
    }
   ],
   "source": [
    "playlists_dup_proc['like_cnt'].describe()"
   ]
  },
  {
   "cell_type": "markdown",
   "metadata": {},
   "source": [
    "---"
   ]
  },
  {
   "cell_type": "markdown",
   "metadata": {},
   "source": [
    "> 노래 개수 5~104개 가진 플레이리스트만 남기기"
   ]
  },
  {
   "cell_type": "code",
   "execution_count": 113,
   "metadata": {},
   "outputs": [],
   "source": [
    "playlists_dup_proc['songs_cnt'] = playlists_dup_proc['songs'].apply(lambda x : len(x))"
   ]
  },
  {
   "cell_type": "code",
   "execution_count": 114,
   "metadata": {},
   "outputs": [
    {
     "name": "stdout",
     "output_type": "stream",
     "text": [
      "평균: 46.05\n",
      "표준 편차: 44.29\n",
      "95.0% 신뢰 수준의 신뢰 구간: (45.78, 46.31)\n"
     ]
    }
   ],
   "source": [
    "import numpy as np\n",
    "from scipy import stats\n",
    "\n",
    "# songs_cnt 열의 데이터 추출\n",
    "songs_cnt_data = playlists_dup_proc['songs_cnt']\n",
    "\n",
    "# 정규분포의 평균과 표준 편차 추정\n",
    "mean, std_dev = stats.norm.fit(songs_cnt_data)\n",
    "\n",
    "# 신뢰 수준 (일반적으로 95%)에 해당하는 신뢰 구간 계산\n",
    "confidence_level = 0.95\n",
    "alpha = 1 - confidence_level\n",
    "z_score = stats.norm.ppf(1 - alpha / 2)  # 신뢰 수준에 해당하는 Z-점수 계산\n",
    "margin_of_error = z_score * (std_dev / np.sqrt(len(songs_cnt_data)))\n",
    "confidence_interval = (mean - margin_of_error, mean + margin_of_error)\n",
    "\n",
    "# 정규분포의 범위 확인\n",
    "print(f\"평균: {mean:.2f}\")\n",
    "print(f\"표준 편차: {std_dev:.2f}\")\n",
    "print(f\"{confidence_level*100}% 신뢰 수준의 신뢰 구간: ({confidence_interval[0]:.2f}, {confidence_interval[1]:.2f})\")"
   ]
  },
  {
   "cell_type": "code",
   "execution_count": 116,
   "metadata": {},
   "outputs": [
    {
     "data": {
      "image/png": "[encoded data removed]",
      "text/plain": [
       "<Figure size 640x480 with 1 Axes>"
      ]
     },
     "metadata": {},
     "output_type": "display_data"
    }
   ],
   "source": [
    "# 정규분포 그리기\n",
    "xmin, xmax = min(songs_cnt_data), max(songs_cnt_data)\n",
    "x = np.linspace(xmin, xmax, 100)\n",
    "pdf = stats.norm.pdf(x, mean, std_dev)\n",
    "\n",
    "# 히스토그램과 정규분포 그래프를 동시에 그리기\n",
    "plt.hist(songs_cnt_data, bins=30, density=True, alpha=0.6, color='g', label='Histogram')\n",
    "plt.plot(x, pdf, 'k', linewidth=2, label='Normal Distribution')\n",
    "\n",
    "# 그래프 제목과 레이블 설정\n",
    "plt.title(\"Normal Distribution\")\n",
    "plt.xlabel(\"Value\")\n",
    "plt.ylabel(\"Probability Density\")\n",
    "plt.legend()\n",
    "plt.grid(True)\n",
    "\n",
    "# 그래프 보여주기\n",
    "plt.show()"
   ]
  },
  {
   "cell_type": "code",
   "execution_count": 118,
   "metadata": {},
   "outputs": [
    {
     "data": {
      "text/plain": [
       "2.1003433038316452"
      ]
     },
     "execution_count": 118,
     "metadata": {},
     "output_type": "execute_result"
    }
   ],
   "source": [
    "import scipy\n",
    "scipy.stats.skew(songs_cnt_data) # 왜도 값"
   ]
  },
  {
   "cell_type": "code",
   "execution_count": 120,
   "metadata": {},
   "outputs": [
    {
     "data": {
      "text/plain": [
       "count    109247.000000\n",
       "mean         46.047370\n",
       "std          44.289386\n",
       "min           1.000000\n",
       "25%          19.000000\n",
       "50%          30.000000\n",
       "75%          53.000000\n",
       "max         200.000000\n",
       "Name: songs_cnt, dtype: float64"
      ]
     },
     "execution_count": 120,
     "metadata": {},
     "output_type": "execute_result"
    }
   ],
   "source": [
    "playlists_dup_proc['songs_cnt'].describe()"
   ]
  },
  {
   "cell_type": "code",
   "execution_count": 121,
   "metadata": {},
   "outputs": [
    {
     "data": {
      "text/plain": [
       "(array([35564., 35253., 15001.,  7142.,  5518.,  2597.,  1580.,  1210.,\n",
       "          940.,  4442.]),\n",
       " array([  1. ,  20.9,  40.8,  60.7,  80.6, 100.5, 120.4, 140.3, 160.2,\n",
       "        180.1, 200. ]),\n",
       " <BarContainer object of 10 artists>)"
      ]
     },
     "execution_count": 121,
     "metadata": {},
     "output_type": "execute_result"
    },
    {
     "data": {
      "image/png": "[encoded data removed]",
      "text/plain": [
       "<Figure size 640x480 with 1 Axes>"
      ]
     },
     "metadata": {},
     "output_type": "display_data"
    }
   ],
   "source": [
    "plt.hist(playlists_dup_proc['songs_cnt'])"
   ]
  },
  {
   "cell_type": "code",
   "execution_count": 122,
   "metadata": {},
   "outputs": [
    {
     "name": "stdout",
     "output_type": "stream",
     "text": [
      "-32.0\n",
      "104.0\n"
     ]
    }
   ],
   "source": [
    "Q1 = 19\n",
    "Q3 = 53\n",
    "IQR = Q3 - Q1\n",
    "\n",
    "print(Q1-(1.5*IQR))\n",
    "print(Q3+(1.5*IQR))"
   ]
  },
  {
   "cell_type": "markdown",
   "metadata": {},
   "source": [
    "- 우리 곡을 뽑아야하는 최소 개수가 5개이므로 최소를 5개로 하자"
   ]
  },
  {
   "cell_type": "code",
   "execution_count": 123,
   "metadata": {},
   "outputs": [
    {
     "name": "stdout",
     "output_type": "stream",
     "text": [
      "<class 'pandas.core.frame.DataFrame'>\n",
      "Int64Index: 98952 entries, 0 to 114705\n",
      "Data columns (total 8 columns):\n",
      " #   Column        Non-Null Count  Dtype \n",
      "---  ------        --------------  ----- \n",
      " 0   tags          98952 non-null  object\n",
      " 1   id            98952 non-null  int64 \n",
      " 2   plylst_title  98952 non-null  object\n",
      " 3   songs         98952 non-null  object\n",
      " 4   like_cnt      98952 non-null  int64 \n",
      " 5   updt_date     98952 non-null  object\n",
      " 6   songs_cnt     98952 non-null  int64 \n",
      " 7   tags_cnt      98952 non-null  int64 \n",
      "dtypes: int64(4), object(4)\n",
      "memory usage: 6.8+ MB\n"
     ]
    }
   ],
   "source": [
    "playlists_song_cut = playlists_dup_proc[(playlists_dup_proc['songs_cnt'] >= 5) & (playlists_dup_proc['songs_cnt'] < 105) ]  # 5~104개만 남기기\n",
    "playlists_song_cut.info() # 109247 -98952 = 10295행 삭제"
   ]
  },
  {
   "cell_type": "markdown",
   "metadata": {},
   "source": [
    "> 태그는?"
   ]
  },
  {
   "cell_type": "code",
   "execution_count": 124,
   "metadata": {},
   "outputs": [
    {
     "name": "stderr",
     "output_type": "stream",
     "text": [
      "C:\\Users\\Playdata\\AppData\\Local\\Temp\\ipykernel_10096\\3179997949.py:1: SettingWithCopyWarning: \n",
      "A value is trying to be set on a copy of a slice from a DataFrame.\n",
      "Try using .loc[row_indexer,col_indexer] = value instead\n",
      "\n",
      "See the caveats in the documentation: https://pandas.pydata.org/pandas-docs/stable/user_guide/indexing.html#returning-a-view-versus-a-copy\n",
      "  playlists_song_cut['tags_cnt'] = playlists_song_cut['tags'].apply(lambda x : len(x))\n"
     ]
    }
   ],
   "source": [
    "playlists_song_cut['tags_cnt'] = playlists_song_cut['tags'].apply(lambda x : len(x))"
   ]
  },
  {
   "cell_type": "code",
   "execution_count": 125,
   "metadata": {},
   "outputs": [
    {
     "data": {
      "text/plain": [
       "count    98952.000000\n",
       "mean         4.202027\n",
       "std          3.067990\n",
       "min          1.000000\n",
       "25%          2.000000\n",
       "50%          3.000000\n",
       "75%          7.000000\n",
       "max         11.000000\n",
       "Name: tags_cnt, dtype: float64"
      ]
     },
     "execution_count": 125,
     "metadata": {},
     "output_type": "execute_result"
    }
   ],
   "source": [
    "playlists_song_cut['tags_cnt'].describe()"
   ]
  },
  {
   "cell_type": "code",
   "execution_count": 126,
   "metadata": {},
   "outputs": [
    {
     "name": "stdout",
     "output_type": "stream",
     "text": [
      "-5.5\n",
      "14.5\n"
     ]
    }
   ],
   "source": [
    "Q1 = 2\n",
    "Q3 = 7\n",
    "IQR = Q3 - Q1\n",
    "\n",
    "print(Q1-(1.5*IQR))\n",
    "print(Q3+(1.5*IQR))"
   ]
  },
  {
   "cell_type": "markdown",
   "metadata": {},
   "source": [
    "=> 이상치가 없음"
   ]
  },
  {
   "cell_type": "markdown",
   "metadata": {},
   "source": [
    "> 좋아요 2개 이하(describe 시 25%가 2개임) 삭제"
   ]
  },
  {
   "cell_type": "code",
   "execution_count": 127,
   "metadata": {},
   "outputs": [
    {
     "data": {
      "text/plain": [
       "count    98952.000000\n",
       "mean        77.177763\n",
       "std        437.591821\n",
       "min          0.000000\n",
       "25%          2.000000\n",
       "50%          7.000000\n",
       "75%         22.000000\n",
       "max      53211.000000\n",
       "Name: like_cnt, dtype: float64"
      ]
     },
     "execution_count": 127,
     "metadata": {},
     "output_type": "execute_result"
    }
   ],
   "source": [
    "playlists_song_cut['like_cnt'].describe()"
   ]
  },
  {
   "cell_type": "markdown",
   "metadata": {},
   "source": [
    "---"
   ]
  },
  {
   "cell_type": "code",
   "execution_count": 85,
   "metadata": {},
   "outputs": [
    {
     "name": "stderr",
     "output_type": "stream",
     "text": [
      "C:\\Users\\Playdata\\AppData\\Local\\Temp\\ipykernel_10096\\2935705104.py:2: SettingWithCopyWarning: \n",
      "A value is trying to be set on a copy of a slice from a DataFrame.\n",
      "Try using .loc[row_indexer,col_indexer] = value instead\n",
      "\n",
      "See the caveats in the documentation: https://pandas.pydata.org/pandas-docs/stable/user_guide/indexing.html#returning-a-view-versus-a-copy\n",
      "  playlists_song_cut['log_likes'] = np.log1p(playlists_song_cut['like_cnt'])  # np.log1p를 사용하여 0이하 값의 로그를 취함\n"
     ]
    },
    {
     "data": {
      "image/png": "[encoded data removed]",
      "text/plain": [
       "<Figure size 1200x600 with 2 Axes>"
      ]
     },
     "metadata": {},
     "output_type": "display_data"
    }
   ],
   "source": [
    "# 로그 변환 적용\n",
    "playlists_song_cut['log_likes'] = np.log1p(playlists_song_cut['like_cnt'])  # np.log1p를 사용하여 0이하 값의 로그를 취함\n",
    "\n",
    "# 좋아요 수의 로그 변환 결과를 시각화\n",
    "plt.figure(figsize=(12, 6))\n",
    "plt.subplot(1, 2, 1)\n",
    "plt.hist(playlists_song_cut['like_cnt'], bins=10, color='b', alpha=0.5, label='Likes')\n",
    "plt.title('Likes Distribution')\n",
    "plt.xlabel('Likes')\n",
    "plt.ylabel('Frequency')\n",
    "plt.legend()\n",
    "\n",
    "plt.subplot(1, 2, 2)\n",
    "plt.hist(playlists_song_cut['log_likes'], bins=10, color='g', alpha=0.5, label='Log(Likes)')\n",
    "plt.title('Log(Likes) Distribution')\n",
    "plt.xlabel('Log(Likes)')\n",
    "plt.ylabel('Frequency')\n",
    "plt.legend()\n",
    "\n",
    "plt.show()"
   ]
  },
  {
   "cell_type": "code",
   "execution_count": 86,
   "metadata": {},
   "outputs": [
    {
     "data": {
      "text/plain": [
       "count    98952.000000\n",
       "mean         2.376019\n",
       "std          1.656449\n",
       "min          0.000000\n",
       "25%          1.098612\n",
       "50%          2.079442\n",
       "75%          3.135494\n",
       "max         10.882039\n",
       "Name: log_likes, dtype: float64"
      ]
     },
     "execution_count": 86,
     "metadata": {},
     "output_type": "execute_result"
    }
   ],
   "source": [
    "playlists_song_cut['log_likes'].describe()"
   ]
  },
  {
   "cell_type": "code",
   "execution_count": 87,
   "metadata": {},
   "outputs": [
    {
     "name": "stdout",
     "output_type": "stream",
     "text": [
      "-1.9567110000000005\n",
      "6.190817000000001\n"
     ]
    }
   ],
   "source": [
    "Q1 = 1.098612\n",
    "Q3 = 3.135494\n",
    "IQR = Q3 - Q1\n",
    "\n",
    "print(Q1-(1.5*IQR))\n",
    "print(Q3+(1.5*IQR))"
   ]
  },
  {
   "cell_type": "code",
   "execution_count": 88,
   "metadata": {},
   "outputs": [
    {
     "name": "stdout",
     "output_type": "stream",
     "text": [
      "0.14132246697286754\n",
      "488.244839343522\n"
     ]
    }
   ],
   "source": [
    "print(np.exp(Q1-(1.5*IQR)))\n",
    "print(np.exp(Q3+(1.5*IQR)))"
   ]
  },
  {
   "cell_type": "code",
   "execution_count": 132,
   "metadata": {},
   "outputs": [
    {
     "data": {
      "text/plain": [
       "2.9999991339957957"
      ]
     },
     "execution_count": 132,
     "metadata": {},
     "output_type": "execute_result"
    }
   ],
   "source": [
    "Q1 = 1.098612\n",
    "np.exp(Q1)\n",
    "# 25% 구간 값"
   ]
  },
  {
   "cell_type": "markdown",
   "metadata": {},
   "source": [
    "---"
   ]
  },
  {
   "cell_type": "code",
   "execution_count": 133,
   "metadata": {},
   "outputs": [
    {
     "name": "stdout",
     "output_type": "stream",
     "text": [
      "<class 'pandas.core.frame.DataFrame'>\n",
      "Int64Index: 74092 entries, 1 to 114705\n",
      "Data columns (total 6 columns):\n",
      " #   Column        Non-Null Count  Dtype \n",
      "---  ------        --------------  ----- \n",
      " 0   tags          74092 non-null  object\n",
      " 1   id            74092 non-null  int64 \n",
      " 2   plylst_title  74092 non-null  object\n",
      " 3   songs         74092 non-null  object\n",
      " 4   like_cnt      74092 non-null  int64 \n",
      " 5   updt_date     74092 non-null  object\n",
      "dtypes: int64(2), object(4)\n",
      "memory usage: 4.0+ MB\n"
     ]
    }
   ],
   "source": [
    "playlists_song_like_cut = playlists_song_cut[playlists_song_cut['like_cnt'] > 2]\n",
    "playlists_song_like_cut = playlists_song_like_cut.iloc[:, :6]\n",
    "playlists_song_like_cut.info()# 24860행 삭제"
   ]
  },
  {
   "cell_type": "markdown",
   "metadata": {},
   "source": [
    "> 하영"
   ]
  },
  {
   "cell_type": "code",
   "execution_count": 168,
   "metadata": {},
   "outputs": [
    {
     "data": {
      "text/plain": [
       "count    74092.000000\n",
       "mean       102.749501\n",
       "std        503.123910\n",
       "min          3.000000\n",
       "25%          6.000000\n",
       "50%         12.000000\n",
       "75%         35.000000\n",
       "max      53211.000000\n",
       "Name: like_cnt, dtype: float64"
      ]
     },
     "execution_count": 168,
     "metadata": {},
     "output_type": "execute_result"
    }
   ],
   "source": [
    "# 자른 후 like_cnt describe\n",
    "playlists_song_like_cut['like_cnt'].describe()"
   ]
  },
  {
   "cell_type": "code",
   "execution_count": 170,
   "metadata": {},
   "outputs": [
    {
     "name": "stdout",
     "output_type": "stream",
     "text": [
      "<class 'pandas.core.frame.DataFrame'>\n",
      "Int64Index: 51895 entries, 8 to 114703\n",
      "Data columns (total 8 columns):\n",
      " #   Column        Non-Null Count  Dtype \n",
      "---  ------        --------------  ----- \n",
      " 0   tags          51895 non-null  object\n",
      " 1   id            51895 non-null  int64 \n",
      " 2   plylst_title  51895 non-null  object\n",
      " 3   songs         51895 non-null  object\n",
      " 4   like_cnt      51895 non-null  int64 \n",
      " 5   updt_date     51895 non-null  object\n",
      " 6   songs_cnt     51895 non-null  int64 \n",
      " 7   tags_cnt      51895 non-null  int64 \n",
      "dtypes: int64(4), object(4)\n",
      "memory usage: 3.6+ MB\n"
     ]
    }
   ],
   "source": [
    "tmp = playlists_song_cut[playlists_song_cut['like_cnt'] > 6]\n",
    "tmp.info()# 22197 행 삭제"
   ]
  },
  {
   "cell_type": "markdown",
   "metadata": {},
   "source": [
    "## 4) song, tag 빈도수에 따라 리스트에서 빼기\n",
    "- 리스트가 비워져 있으면 행 날리기"
   ]
  },
  {
   "cell_type": "markdown",
   "metadata": {},
   "source": [
    "> 1회 이하 사용된 tag 리스트에서 빼기"
   ]
  },
  {
   "cell_type": "markdown",
   "metadata": {},
   "source": [
    "> 영지"
   ]
  },
  {
   "cell_type": "code",
   "execution_count": 181,
   "metadata": {},
   "outputs": [],
   "source": [
    "# tag usage count 계산\n",
    "tag_counts = playlists_song_like_cut.explode('tags')['tags'].value_counts(ascending=True)\n",
    "\n",
    "# 1번 이하로 사용된 태그\n",
    "unique_tags = list(tag_counts[tag_counts == 1].index)"
   ]
  },
  {
   "cell_type": "code",
   "execution_count": 189,
   "metadata": {},
   "outputs": [
    {
     "data": {
      "text/plain": [
       "count     9299.000000\n",
       "mean        33.350468\n",
       "std        281.470899\n",
       "min          2.000000\n",
       "25%          2.000000\n",
       "50%          4.000000\n",
       "75%          9.000000\n",
       "max      10528.000000\n",
       "Name: tags, dtype: float64"
      ]
     },
     "execution_count": 189,
     "metadata": {},
     "output_type": "execute_result"
    }
   ],
   "source": [
    "tag_counts.describe()"
   ]
  },
  {
   "cell_type": "code",
   "execution_count": null,
   "metadata": {},
   "outputs": [],
   "source": [
    "# tag_freq = pd.DataFrame(tag_counts).reset_index().rename(columns={'index':'tag_id', 'tags':'tag_cnt'})\n",
    "# tag_freq_group = tag_freq.groupby('tag_cnt').count().reset_index()\n",
    "# tag_freq_group['tag_cnt'].describe()"
   ]
  },
  {
   "cell_type": "code",
   "execution_count": 198,
   "metadata": {},
   "outputs": [
    {
     "data": {
      "text/plain": [
       "count    450944.000000\n",
       "mean          5.878648\n",
       "std          21.603451\n",
       "min           1.000000\n",
       "25%           1.000000\n",
       "50%           1.000000\n",
       "75%           4.000000\n",
       "max        1155.000000\n",
       "Name: songs, dtype: float64"
      ]
     },
     "execution_count": 198,
     "metadata": {},
     "output_type": "execute_result"
    }
   ],
   "source": [
    "song_counts = playlists_song_like_cut.explode('songs')['songs'].value_counts()\n",
    "song_counts.describe()"
   ]
  },
  {
   "cell_type": "code",
   "execution_count": 190,
   "metadata": {},
   "outputs": [
    {
     "data": {
      "text/plain": [
       "count    19592.00000\n",
       "mean        12.12010\n",
       "std        134.76122\n",
       "min          1.00000\n",
       "25%          1.00000\n",
       "50%          1.00000\n",
       "75%          3.00000\n",
       "max       7302.00000\n",
       "Name: tags, dtype: float64"
      ]
     },
     "execution_count": 190,
     "metadata": {},
     "output_type": "execute_result"
    }
   ],
   "source": [
    "# like cnt > 6인 걸로 해보기\n",
    "# tag usage count 계산\n",
    "tag_counts = tmp.explode('tags')['tags'].value_counts(ascending=True)\n",
    "\n",
    "# 1번 이하로 사용된 태그\n",
    "unique_tags = list(tag_counts[tag_counts == 1].index)\n",
    "\n",
    "tag_counts.describe()"
   ]
  },
  {
   "cell_type": "code",
   "execution_count": 199,
   "metadata": {},
   "outputs": [
    {
     "data": {
      "text/plain": [
       "count    398028.000000\n",
       "mean          4.914933\n",
       "std          15.856652\n",
       "min           1.000000\n",
       "25%           1.000000\n",
       "50%           1.000000\n",
       "75%           3.000000\n",
       "max         894.000000\n",
       "Name: songs, dtype: float64"
      ]
     },
     "execution_count": 199,
     "metadata": {},
     "output_type": "execute_result"
    }
   ],
   "source": [
    "song_counts = tmp.explode('songs')['songs'].value_counts()\n",
    "song_counts.describe()"
   ]
  },
  {
   "cell_type": "markdown",
   "metadata": {},
   "source": [
    "> 하영"
   ]
  },
  {
   "cell_type": "code",
   "execution_count": 195,
   "metadata": {},
   "outputs": [],
   "source": [
    "# 플레이리스트 내 song id 리스트\n",
    "t_song = playlists_song_like_cut['songs']\n",
    "# 플레이리스트 내 tag 리스트\n",
    "t_tag = playlists_song_like_cut['tags']\n",
    "# 플레이리스트 내 song id 리스트 전체 나열\n",
    "song_list = [song for ply in t_song for song in ply]\n",
    "# 플레이리스트 내 tag 리스트 전체 나열\n",
    "tag_list = [tag for ply in t_tag for tag in ply]\n",
    "\n",
    "# 전체 나열 리스트 중 각 song의 개수\n",
    "count_song = Counter(song_list)\n",
    "# 전체 나열 리스트 중 각 tag의 개수\n",
    "count_tag = Counter(tag_list)"
   ]
  },
  {
   "cell_type": "code",
   "execution_count": 196,
   "metadata": {},
   "outputs": [
    {
     "data": {
      "text/plain": [
       "count     9299.000000\n",
       "mean        33.350468\n",
       "std        281.470899\n",
       "min          2.000000\n",
       "25%          2.000000\n",
       "50%          4.000000\n",
       "75%          9.000000\n",
       "max      10528.000000\n",
       "dtype: float64"
      ]
     },
     "execution_count": 196,
     "metadata": {},
     "output_type": "execute_result"
    }
   ],
   "source": [
    "pd.Series(count_tag).describe()"
   ]
  },
  {
   "cell_type": "code",
   "execution_count": 197,
   "metadata": {},
   "outputs": [
    {
     "data": {
      "text/plain": [
       "count    450944.000000\n",
       "mean          5.878648\n",
       "std          21.603451\n",
       "min           1.000000\n",
       "25%           1.000000\n",
       "50%           1.000000\n",
       "75%           4.000000\n",
       "max        1155.000000\n",
       "dtype: float64"
      ]
     },
     "execution_count": 197,
     "metadata": {},
     "output_type": "execute_result"
    }
   ],
   "source": [
    "pd.Series(count_song).describe()"
   ]
  },
  {
   "cell_type": "code",
   "execution_count": 191,
   "metadata": {},
   "outputs": [],
   "source": [
    "# like cnt > 6인 걸로 해보기\n",
    "# 플레이리스트 내 song id 리스트\n",
    "t_song = tmp['songs']\n",
    "# 플레이리스트 내 tag 리스트\n",
    "t_tag = tmp['tags']\n",
    "# 플레이리스트 내 song id 리스트 전체 나열\n",
    "song_list = [song for ply in t_song for song in ply]\n",
    "# 플레이리스트 내 tag 리스트 전체 나열\n",
    "tag_list = [tag for ply in t_tag for tag in ply]\n",
    "\n",
    "# 전체 나열 리스트 중 각 song의 개수\n",
    "count_song = Counter(song_list)\n",
    "# 전체 나열 리스트 중 각 tag의 개수\n",
    "count_tag = Counter(tag_list)"
   ]
  },
  {
   "cell_type": "code",
   "execution_count": 192,
   "metadata": {},
   "outputs": [
    {
     "data": {
      "text/plain": [
       "count    19592.00000\n",
       "mean        12.12010\n",
       "std        134.76122\n",
       "min          1.00000\n",
       "25%          1.00000\n",
       "50%          1.00000\n",
       "75%          3.00000\n",
       "max       7302.00000\n",
       "dtype: float64"
      ]
     },
     "execution_count": 192,
     "metadata": {},
     "output_type": "execute_result"
    }
   ],
   "source": [
    "pd.Series(count_tag).describe()"
   ]
  },
  {
   "cell_type": "code",
   "execution_count": 194,
   "metadata": {},
   "outputs": [
    {
     "data": {
      "text/plain": [
       "count    398028.000000\n",
       "mean          4.914933\n",
       "std          15.856652\n",
       "min           1.000000\n",
       "25%           1.000000\n",
       "50%           1.000000\n",
       "75%           3.000000\n",
       "max         894.000000\n",
       "dtype: float64"
      ]
     },
     "execution_count": 194,
     "metadata": {},
     "output_type": "execute_result"
    }
   ],
   "source": [
    "pd.Series(count_song).describe()"
   ]
  },
  {
   "cell_type": "code",
   "execution_count": 201,
   "metadata": {},
   "outputs": [
    {
     "name": "stdout",
     "output_type": "stream",
     "text": [
      "<class 'pandas.core.frame.DataFrame'>\n",
      "Int64Index: 74092 entries, 1 to 114705\n",
      "Data columns (total 6 columns):\n",
      " #   Column        Non-Null Count  Dtype \n",
      "---  ------        --------------  ----- \n",
      " 0   tags          74092 non-null  object\n",
      " 1   id            74092 non-null  int64 \n",
      " 2   plylst_title  74092 non-null  object\n",
      " 3   songs         74092 non-null  object\n",
      " 4   like_cnt      74092 non-null  int64 \n",
      " 5   updt_date     74092 non-null  object\n",
      "dtypes: int64(2), object(4)\n",
      "memory usage: 4.0+ MB\n"
     ]
    }
   ],
   "source": [
    "# 실험: split data 후 빈도수 측정\n",
    "playlists_song_like_cut.info()"
   ]
  },
  {
   "cell_type": "code",
   "execution_count": 204,
   "metadata": {},
   "outputs": [],
   "source": [
    "import random\n",
    "import distutils.dir_util\n",
    "import io\n",
    "import os\n",
    "\n",
    "# json write & load 함수 정의\n",
    "def write_json(data, fname):\n",
    "    def _conv(o):\n",
    "        if isinstance(o, (np.int64, np.int32)):\n",
    "            return int(o)\n",
    "        raise TypeError\n",
    "\n",
    "    parent = os.path.dirname(fname)\n",
    "    distutils.dir_util.mkpath(parent)\n",
    "    with io.open(fname, \"w\", encoding=\"utf-8\") as f:\n",
    "        json_str = json.dumps(data, ensure_ascii=False, default=_conv)\n",
    "        f.write(json_str)\n",
    "        \n",
    "def load_json(fname):\n",
    "    with open(fname, encoding='utf-8') as f:\n",
    "        json_obj = json.load(f)\n",
    "\n",
    "    return json_obj"
   ]
  },
  {
   "cell_type": "code",
   "execution_count": 206,
   "metadata": {},
   "outputs": [],
   "source": [
    "playlists_song_like_cut.to_json('../0_data/like_2.json', orient='records')"
   ]
  },
  {
   "cell_type": "code",
   "execution_count": 207,
   "metadata": {},
   "outputs": [],
   "source": [
    "like_2 = load_json('../0_data/like_2.json')"
   ]
  },
  {
   "cell_type": "code",
   "execution_count": 209,
   "metadata": {},
   "outputs": [
    {
     "data": {
      "text/plain": [
       "(59273, 14819)"
      ]
     },
     "execution_count": 209,
     "metadata": {},
     "output_type": "execute_result"
    }
   ],
   "source": [
    "# 무작위로 데이터 섞기\n",
    "random.seed(777)\n",
    "random.shuffle(like_2)\n",
    "\n",
    "# 80:20 비율로 split 하기\n",
    "tot = len(like_2)\n",
    "like_2_train = like_2[:int(tot*0.80)]\n",
    "like_2_test = like_2[int(tot*0.80):]\n",
    "\n",
    "# 데이터 확인\n",
    "len(like_2_train), len(like_2_test)"
   ]
  },
  {
   "cell_type": "code",
   "execution_count": 212,
   "metadata": {},
   "outputs": [],
   "source": [
    "like_2_train = pd.DataFrame(like_2_train)"
   ]
  },
  {
   "cell_type": "code",
   "execution_count": 213,
   "metadata": {},
   "outputs": [
    {
     "data": {
      "text/plain": [
       "count    9132.000000\n",
       "mean       27.143342\n",
       "std       227.524911\n",
       "min         1.000000\n",
       "25%         2.000000\n",
       "50%         3.000000\n",
       "75%         7.000000\n",
       "max      8447.000000\n",
       "dtype: float64"
      ]
     },
     "execution_count": 213,
     "metadata": {},
     "output_type": "execute_result"
    }
   ],
   "source": [
    "# 플레이리스트 내 song id 리스트\n",
    "t_song = like_2_train['songs']\n",
    "# 플레이리스트 내 tag 리스트\n",
    "t_tag = like_2_train['tags']\n",
    "# 플레이리스트 내 song id 리스트 전체 나열\n",
    "song_list = [song for ply in t_song for song in ply]\n",
    "# 플레이리스트 내 tag 리스트 전체 나열\n",
    "tag_list = [tag for ply in t_tag for tag in ply]\n",
    "\n",
    "# 전체 나열 리스트 중 각 song의 개수\n",
    "count_song = Counter(song_list)\n",
    "# 전체 나열 리스트 중 각 tag의 개수\n",
    "count_tag = Counter(tag_list)"
   ]
  },
  {
   "cell_type": "code",
   "execution_count": 214,
   "metadata": {},
   "outputs": [
    {
     "data": {
      "text/plain": [
       "count    402252.000000\n",
       "mean          5.273667\n",
       "std          18.250851\n",
       "min           1.000000\n",
       "25%           1.000000\n",
       "50%           1.000000\n",
       "75%           3.000000\n",
       "max         927.000000\n",
       "dtype: float64"
      ]
     },
     "execution_count": 214,
     "metadata": {},
     "output_type": "execute_result"
    }
   ],
   "source": [
    "pd.Series(count_song).describe()"
   ]
  },
  {
   "cell_type": "code",
   "execution_count": 215,
   "metadata": {},
   "outputs": [
    {
     "data": {
      "text/plain": [
       "count    9132.000000\n",
       "mean       27.143342\n",
       "std       227.524911\n",
       "min         1.000000\n",
       "25%         2.000000\n",
       "50%         3.000000\n",
       "75%         7.000000\n",
       "max      8447.000000\n",
       "dtype: float64"
      ]
     },
     "execution_count": 215,
     "metadata": {},
     "output_type": "execute_result"
    }
   ],
   "source": [
    "pd.Series(count_tag).describe()"
   ]
  },
  {
   "cell_type": "code",
   "execution_count": 216,
   "metadata": {},
   "outputs": [],
   "source": [
    "# tmp로 해보기\n",
    "tmp.to_json('../0_data/like_6.json', orient='records')"
   ]
  },
  {
   "cell_type": "code",
   "execution_count": 217,
   "metadata": {},
   "outputs": [],
   "source": [
    "like_6 = load_json('../0_data/like_6.json')"
   ]
  },
  {
   "cell_type": "code",
   "execution_count": 218,
   "metadata": {},
   "outputs": [
    {
     "data": {
      "text/plain": [
       "(41516, 10379)"
      ]
     },
     "execution_count": 218,
     "metadata": {},
     "output_type": "execute_result"
    }
   ],
   "source": [
    "# 무작위로 데이터 섞기\n",
    "random.seed(777)\n",
    "random.shuffle(like_2)\n",
    "\n",
    "# 80:20 비율로 split 하기\n",
    "tot = len(like_6)\n",
    "like_6_train = like_6[:int(tot*0.80)]\n",
    "like_6_test = like_6[int(tot*0.80):]\n",
    "\n",
    "# 데이터 확인\n",
    "len(like_6_train), len(like_6_test)"
   ]
  },
  {
   "cell_type": "code",
   "execution_count": 219,
   "metadata": {},
   "outputs": [],
   "source": [
    "like_2_train = pd.DataFrame(like_2_train)"
   ]
  },
  {
   "cell_type": "code",
   "execution_count": 220,
   "metadata": {},
   "outputs": [],
   "source": [
    "# 플레이리스트 내 song id 리스트\n",
    "t_song = like_2_train['songs']\n",
    "# 플레이리스트 내 tag 리스트\n",
    "t_tag = like_2_train['tags']\n",
    "# 플레이리스트 내 song id 리스트 전체 나열\n",
    "song_list = [song for ply in t_song for song in ply]\n",
    "# 플레이리스트 내 tag 리스트 전체 나열\n",
    "tag_list = [tag for ply in t_tag for tag in ply]\n",
    "\n",
    "# 전체 나열 리스트 중 각 song의 개수\n",
    "count_song = Counter(song_list)\n",
    "# 전체 나열 리스트 중 각 tag의 개수\n",
    "count_tag = Counter(tag_list)"
   ]
  },
  {
   "cell_type": "code",
   "execution_count": 221,
   "metadata": {},
   "outputs": [
    {
     "data": {
      "text/plain": [
       "count    402252.000000\n",
       "mean          5.273667\n",
       "std          18.250851\n",
       "min           1.000000\n",
       "25%           1.000000\n",
       "50%           1.000000\n",
       "75%           3.000000\n",
       "max         927.000000\n",
       "dtype: float64"
      ]
     },
     "execution_count": 221,
     "metadata": {},
     "output_type": "execute_result"
    }
   ],
   "source": [
    "pd.Series(count_song).describe()"
   ]
  },
  {
   "cell_type": "code",
   "execution_count": 222,
   "metadata": {},
   "outputs": [
    {
     "data": {
      "text/plain": [
       "count    9132.000000\n",
       "mean       27.143342\n",
       "std       227.524911\n",
       "min         1.000000\n",
       "25%         2.000000\n",
       "50%         3.000000\n",
       "75%         7.000000\n",
       "max      8447.000000\n",
       "dtype: float64"
      ]
     },
     "execution_count": 222,
     "metadata": {},
     "output_type": "execute_result"
    }
   ],
   "source": [
    "pd.Series(count_tag).describe()"
   ]
  },
  {
   "cell_type": "markdown",
   "metadata": {},
   "source": [
    "--- "
   ]
  },
  {
   "cell_type": "code",
   "execution_count": 223,
   "metadata": {},
   "outputs": [
    {
     "name": "stdout",
     "output_type": "stream",
     "text": [
      "<class 'pandas.core.frame.DataFrame'>\n",
      "RangeIndex: 73014 entries, 0 to 73013\n",
      "Data columns (total 6 columns):\n",
      " #   Column        Non-Null Count  Dtype \n",
      "---  ------        --------------  ----- \n",
      " 0   tags          73014 non-null  object\n",
      " 1   id            73014 non-null  int64 \n",
      " 2   plylst_title  73014 non-null  object\n",
      " 3   songs         73014 non-null  object\n",
      " 4   like_cnt      73014 non-null  int64 \n",
      " 5   updt_date     73014 non-null  object\n",
      "dtypes: int64(2), object(4)\n",
      "memory usage: 3.3+ MB\n"
     ]
    }
   ],
   "source": [
    "ply_f = pd.read_json('../0_data/playlists_filter.json')\n",
    "ply_f.info()"
   ]
  },
  {
   "cell_type": "code",
   "execution_count": 224,
   "metadata": {},
   "outputs": [],
   "source": [
    "# 플레이리스트 내 song id 리스트\n",
    "t_song = ply_f['songs']\n",
    "# 플레이리스트 내 tag 리스트\n",
    "t_tag = ply_f['tags']\n",
    "# 플레이리스트 내 song id 리스트 전체 나열\n",
    "song_list = [song for ply in t_song for song in ply]\n",
    "# 플레이리스트 내 tag 리스트 전체 나열\n",
    "tag_list = [tag for ply in t_tag for tag in ply]\n",
    "\n",
    "# 전체 나열 리스트 중 각 song의 개수\n",
    "count_song = Counter(song_list)\n",
    "# 전체 나열 리스트 중 각 tag의 개수\n",
    "count_tag = Counter(tag_list)"
   ]
  },
  {
   "cell_type": "code",
   "execution_count": 225,
   "metadata": {},
   "outputs": [
    {
     "data": {
      "text/plain": [
       "count    146930.000000\n",
       "mean         15.418213\n",
       "std          35.816483\n",
       "min           3.000000\n",
       "25%           4.000000\n",
       "50%           6.000000\n",
       "75%          12.000000\n",
       "max        1151.000000\n",
       "dtype: float64"
      ]
     },
     "execution_count": 225,
     "metadata": {},
     "output_type": "execute_result"
    }
   ],
   "source": [
    "pd.Series(count_song).describe()\n",
    "# tag, song 1씩 뺀거인데도 count가 이상.."
   ]
  },
  {
   "cell_type": "code",
   "execution_count": 226,
   "metadata": {},
   "outputs": [
    {
     "data": {
      "text/plain": [
       "count     9266.000000\n",
       "mean        33.160263\n",
       "std        281.031349\n",
       "min          1.000000\n",
       "25%          2.000000\n",
       "50%          3.000000\n",
       "75%          8.000000\n",
       "max      10505.000000\n",
       "dtype: float64"
      ]
     },
     "execution_count": 226,
     "metadata": {},
     "output_type": "execute_result"
    }
   ],
   "source": [
    "pd.Series(count_tag).describe()"
   ]
  },
  {
   "cell_type": "code",
   "execution_count": null,
   "metadata": {},
   "outputs": [],
   "source": []
  }
 ],
 "metadata": {
  "kernelspec": {
   "display_name": "base",
   "language": "python",
   "name": "python3"
  },
  "language_info": {
   "codemirror_mode": {
    "name": "ipython",
    "version": 3
   },
   "file_extension": ".py",
   "mimetype": "text/x-python",
   "name": "python",
   "nbconvert_exporter": "python",
   "pygments_lexer": "ipython3",
   "version": "3.11.5"
  },
  "orig_nbformat": 4
 },
 "nbformat": 4,
 "nbformat_minor": 2
}
