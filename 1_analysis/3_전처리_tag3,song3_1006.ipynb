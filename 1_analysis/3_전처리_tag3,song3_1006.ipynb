{
 "cells": [
  {
   "cell_type": "code",
   "execution_count": 1,
   "metadata": {},
   "outputs": [],
   "source": [
    "import json\n",
    "import pandas as pd\n",
    "import numpy as np\n",
    "from emoji import core\n",
    "import re\n",
    "import ast\n",
    "from matplotlib import pyplot as plt"
   ]
  },
  {
   "cell_type": "code",
   "execution_count": 38,
   "metadata": {},
   "outputs": [],
   "source": [
    "playlists = pd.read_json('../0_data/playlists.json', typ = 'frame', encoding='utf-8')\n",
    "song_meta = pd.read_json('../0_data/song_meta.json', typ = 'frame', encoding='utf-8') \n",
    "genre_gn_all = pd.read_json('../0_data/genre_gn_all.json', typ = 'frame', encoding='utf-8', orient='index')"
   ]
  },
  {
   "cell_type": "markdown",
   "metadata": {},
   "source": [
    "### 0. genre"
   ]
  },
  {
   "cell_type": "code",
   "execution_count": 52,
   "metadata": {},
   "outputs": [
    {
     "name": "stderr",
     "output_type": "stream",
     "text": [
      "C:\\Users\\cg063\\AppData\\Local\\Temp\\ipykernel_9008\\3749102257.py:10: SettingWithCopyWarning: \n",
      "A value is trying to be set on a copy of a slice from a DataFrame\n",
      "\n",
      "See the caveats in the documentation: https://pandas.pydata.org/pandas-docs/stable/user_guide/indexing.html#returning-a-view-versus-a-copy\n",
      "  dtl_gnr_code.rename(columns = {'gnr_code' : 'dtl_gnr_code', 'gnr_name' : 'dtl_gnr_name'}, inplace = True)\n"
     ]
    }
   ],
   "source": [
    "# 컬럼명 지정\n",
    "genre_gn_all = genre_gn_all.reset_index().rename(columns={'index':'gnr_code', 0:'gnr_name'})\n",
    "genre_gn_all.head()\n",
    "\n",
    "# 대분류 장르코드들만 뽑기\n",
    "gnr_code = genre_gn_all[genre_gn_all['gnr_code'].str[-2:]=='00']\n",
    "\n",
    "# 소분류 장르코드만 뽑기\n",
    "dtl_gnr_code = genre_gn_all[genre_gn_all['gnr_code'].str[-2:] != '00']\n",
    "dtl_gnr_code.rename(columns = {'gnr_code' : 'dtl_gnr_code', 'gnr_name' : 'dtl_gnr_name'}, inplace = True)\n",
    "\n",
    "# 대분류 장르코드와 소분류 장르코드 각각의 앞자리 네자리 공통코드 추출\n",
    "gnr_code = gnr_code.assign(join_code = gnr_code['gnr_code'].str[0:4])\n",
    "dtl_gnr_code = dtl_gnr_code.assign(join_code = dtl_gnr_code['dtl_gnr_code'].str[0:4])\n",
    "\n",
    "# join_code(네자리 공통코드) 기준으로 Merge\n",
    "gnr_code_tree = pd.merge(gnr_code, dtl_gnr_code, how = 'left', on = 'join_code')\n",
    "\n",
    "gnr_code_tree[['gnr_code', 'gnr_name', 'dtl_gnr_code', 'dtl_gnr_name']]\n",
    "gnr_code_tree\n",
    "\n",
    "gnr_big = pd.DataFrame(gnr_code.iloc[:, :2])"
   ]
  },
  {
   "cell_type": "code",
   "execution_count": 4,
   "metadata": {},
   "outputs": [],
   "source": [
    "# song_meta 저장\n",
    "gnr_big.to_json('../0_data/genre_gn_all_filter.json', orient='records')"
   ]
  },
  {
   "cell_type": "markdown",
   "metadata": {},
   "source": [
    "### 1. song_meta"
   ]
  },
  {
   "cell_type": "markdown",
   "metadata": {},
   "source": [
    "> 0. album name이 비어 있는 노래 삭제"
   ]
  },
  {
   "cell_type": "code",
   "execution_count": 39,
   "metadata": {},
   "outputs": [
    {
     "name": "stdout",
     "output_type": "stream",
     "text": [
      "<class 'pandas.core.frame.DataFrame'>\n",
      "RangeIndex: 707989 entries, 0 to 707988\n",
      "Data columns (total 9 columns):\n",
      " #   Column                  Non-Null Count   Dtype \n",
      "---  ------                  --------------   ----- \n",
      " 0   song_gn_dtl_gnr_basket  707989 non-null  object\n",
      " 1   issue_date              707989 non-null  int64 \n",
      " 2   album_name              707985 non-null  object\n",
      " 3   album_id                707989 non-null  int64 \n",
      " 4   artist_id_basket        707989 non-null  object\n",
      " 5   song_name               707989 non-null  object\n",
      " 6   song_gn_gnr_basket      707989 non-null  object\n",
      " 7   artist_name_basket      707989 non-null  object\n",
      " 8   id                      707989 non-null  int64 \n",
      "dtypes: int64(3), object(6)\n",
      "memory usage: 48.6+ MB\n"
     ]
    }
   ],
   "source": [
    "song_meta.info()"
   ]
  },
  {
   "cell_type": "code",
   "execution_count": 40,
   "metadata": {},
   "outputs": [
    {
     "data": {
      "text/html": [
       "<div>\n",
       "<style scoped>\n",
       "    .dataframe tbody tr th:only-of-type {\n",
       "        vertical-align: middle;\n",
       "    }\n",
       "\n",
       "    .dataframe tbody tr th {\n",
       "        vertical-align: top;\n",
       "    }\n",
       "\n",
       "    .dataframe thead th {\n",
       "        text-align: right;\n",
       "    }\n",
       "</style>\n",
       "<table border=\"1\" class=\"dataframe\">\n",
       "  <thead>\n",
       "    <tr style=\"text-align: right;\">\n",
       "      <th></th>\n",
       "      <th>song_gn_dtl_gnr_basket</th>\n",
       "      <th>issue_date</th>\n",
       "      <th>album_name</th>\n",
       "      <th>album_id</th>\n",
       "      <th>artist_id_basket</th>\n",
       "      <th>song_name</th>\n",
       "      <th>song_gn_gnr_basket</th>\n",
       "      <th>artist_name_basket</th>\n",
       "      <th>id</th>\n",
       "    </tr>\n",
       "  </thead>\n",
       "  <tbody>\n",
       "    <tr>\n",
       "      <th>143209</th>\n",
       "      <td>[GN0501, GN0601, GN0503, GN0606, GN0509]</td>\n",
       "      <td>20150522</td>\n",
       "      <td>None</td>\n",
       "      <td>2318271</td>\n",
       "      <td>[726168]</td>\n",
       "      <td>사랑바보</td>\n",
       "      <td>[GN0500, GN0600]</td>\n",
       "      <td>[민은서밴드]</td>\n",
       "      <td>143209</td>\n",
       "    </tr>\n",
       "    <tr>\n",
       "      <th>291631</th>\n",
       "      <td>[GN0105, GN0101]</td>\n",
       "      <td>20101108</td>\n",
       "      <td>None</td>\n",
       "      <td>1065178</td>\n",
       "      <td>[28772]</td>\n",
       "      <td>빗속에서</td>\n",
       "      <td>[GN0100]</td>\n",
       "      <td>[존박]</td>\n",
       "      <td>291631</td>\n",
       "    </tr>\n",
       "    <tr>\n",
       "      <th>431110</th>\n",
       "      <td>[GN0509, GN0601, GN0503, GN0606, GN0501]</td>\n",
       "      <td>20200208</td>\n",
       "      <td>None</td>\n",
       "      <td>10385717</td>\n",
       "      <td>[2203064]</td>\n",
       "      <td>화면</td>\n",
       "      <td>[GN0500, GN0600]</td>\n",
       "      <td>[Oowl Hannal (우울 한날)]</td>\n",
       "      <td>431110</td>\n",
       "    </tr>\n",
       "    <tr>\n",
       "      <th>552088</th>\n",
       "      <td>[GN0105, GN0601]</td>\n",
       "      <td>20101108</td>\n",
       "      <td>None</td>\n",
       "      <td>1065178</td>\n",
       "      <td>[28263]</td>\n",
       "      <td>본능적으로 (Feat. Swings)</td>\n",
       "      <td>[GN0600, GN0100]</td>\n",
       "      <td>[강승윤]</td>\n",
       "      <td>552088</td>\n",
       "    </tr>\n",
       "  </tbody>\n",
       "</table>\n",
       "</div>"
      ],
      "text/plain": [
       "                          song_gn_dtl_gnr_basket  issue_date album_name  \\\n",
       "143209  [GN0501, GN0601, GN0503, GN0606, GN0509]    20150522       None   \n",
       "291631                          [GN0105, GN0101]    20101108       None   \n",
       "431110  [GN0509, GN0601, GN0503, GN0606, GN0501]    20200208       None   \n",
       "552088                          [GN0105, GN0601]    20101108       None   \n",
       "\n",
       "        album_id artist_id_basket             song_name song_gn_gnr_basket  \\\n",
       "143209   2318271         [726168]                  사랑바보   [GN0500, GN0600]   \n",
       "291631   1065178          [28772]                  빗속에서           [GN0100]   \n",
       "431110  10385717        [2203064]                    화면   [GN0500, GN0600]   \n",
       "552088   1065178          [28263]  본능적으로 (Feat. Swings)   [GN0600, GN0100]   \n",
       "\n",
       "           artist_name_basket      id  \n",
       "143209                [민은서밴드]  143209  \n",
       "291631                   [존박]  291631  \n",
       "431110  [Oowl Hannal (우울 한날)]  431110  \n",
       "552088                  [강승윤]  552088  "
      ]
     },
     "execution_count": 40,
     "metadata": {},
     "output_type": "execute_result"
    }
   ],
   "source": [
    "song_meta[song_meta['album_name'].isnull()] # album_name 비어 있는 경우 확인"
   ]
  },
  {
   "cell_type": "code",
   "execution_count": 41,
   "metadata": {},
   "outputs": [],
   "source": [
    "# 바꾸려는 앨범명 리스트\n",
    "new_album_names = [\"사랑바보\", \"슈퍼스타K 2 Top11 Part.5\", \"null\", \"슈퍼스타K 2 Top11 Part.3\"]\n",
    "\n",
    "# 바꾸기\n",
    "song_meta.loc[song_meta['album_name'].isnull(), 'album_name'] = new_album_names"
   ]
  },
  {
   "cell_type": "code",
   "execution_count": 42,
   "metadata": {},
   "outputs": [
    {
     "data": {
      "text/html": [
       "<div>\n",
       "<style scoped>\n",
       "    .dataframe tbody tr th:only-of-type {\n",
       "        vertical-align: middle;\n",
       "    }\n",
       "\n",
       "    .dataframe tbody tr th {\n",
       "        vertical-align: top;\n",
       "    }\n",
       "\n",
       "    .dataframe thead th {\n",
       "        text-align: right;\n",
       "    }\n",
       "</style>\n",
       "<table border=\"1\" class=\"dataframe\">\n",
       "  <thead>\n",
       "    <tr style=\"text-align: right;\">\n",
       "      <th></th>\n",
       "      <th>song_gn_dtl_gnr_basket</th>\n",
       "      <th>issue_date</th>\n",
       "      <th>album_name</th>\n",
       "      <th>album_id</th>\n",
       "      <th>artist_id_basket</th>\n",
       "      <th>song_name</th>\n",
       "      <th>song_gn_gnr_basket</th>\n",
       "      <th>artist_name_basket</th>\n",
       "      <th>id</th>\n",
       "    </tr>\n",
       "  </thead>\n",
       "  <tbody>\n",
       "    <tr>\n",
       "      <th>143209</th>\n",
       "      <td>[GN0501, GN0601, GN0503, GN0606, GN0509]</td>\n",
       "      <td>20150522</td>\n",
       "      <td>사랑바보</td>\n",
       "      <td>2318271</td>\n",
       "      <td>[726168]</td>\n",
       "      <td>사랑바보</td>\n",
       "      <td>[GN0500, GN0600]</td>\n",
       "      <td>[민은서밴드]</td>\n",
       "      <td>143209</td>\n",
       "    </tr>\n",
       "    <tr>\n",
       "      <th>291631</th>\n",
       "      <td>[GN0105, GN0101]</td>\n",
       "      <td>20101108</td>\n",
       "      <td>슈퍼스타K 2 Top11 Part.5</td>\n",
       "      <td>1065178</td>\n",
       "      <td>[28772]</td>\n",
       "      <td>빗속에서</td>\n",
       "      <td>[GN0100]</td>\n",
       "      <td>[존박]</td>\n",
       "      <td>291631</td>\n",
       "    </tr>\n",
       "    <tr>\n",
       "      <th>431110</th>\n",
       "      <td>[GN0509, GN0601, GN0503, GN0606, GN0501]</td>\n",
       "      <td>20200208</td>\n",
       "      <td>null</td>\n",
       "      <td>10385717</td>\n",
       "      <td>[2203064]</td>\n",
       "      <td>화면</td>\n",
       "      <td>[GN0500, GN0600]</td>\n",
       "      <td>[Oowl Hannal (우울 한날)]</td>\n",
       "      <td>431110</td>\n",
       "    </tr>\n",
       "    <tr>\n",
       "      <th>552088</th>\n",
       "      <td>[GN0105, GN0601]</td>\n",
       "      <td>20101108</td>\n",
       "      <td>슈퍼스타K 2 Top11 Part.3</td>\n",
       "      <td>1065178</td>\n",
       "      <td>[28263]</td>\n",
       "      <td>본능적으로 (Feat. Swings)</td>\n",
       "      <td>[GN0600, GN0100]</td>\n",
       "      <td>[강승윤]</td>\n",
       "      <td>552088</td>\n",
       "    </tr>\n",
       "  </tbody>\n",
       "</table>\n",
       "</div>"
      ],
      "text/plain": [
       "                          song_gn_dtl_gnr_basket  issue_date  \\\n",
       "143209  [GN0501, GN0601, GN0503, GN0606, GN0509]    20150522   \n",
       "291631                          [GN0105, GN0101]    20101108   \n",
       "431110  [GN0509, GN0601, GN0503, GN0606, GN0501]    20200208   \n",
       "552088                          [GN0105, GN0601]    20101108   \n",
       "\n",
       "                  album_name  album_id artist_id_basket             song_name  \\\n",
       "143209                  사랑바보   2318271         [726168]                  사랑바보   \n",
       "291631  슈퍼스타K 2 Top11 Part.5   1065178          [28772]                  빗속에서   \n",
       "431110                  null  10385717        [2203064]                    화면   \n",
       "552088  슈퍼스타K 2 Top11 Part.3   1065178          [28263]  본능적으로 (Feat. Swings)   \n",
       "\n",
       "       song_gn_gnr_basket     artist_name_basket      id  \n",
       "143209   [GN0500, GN0600]                [민은서밴드]  143209  \n",
       "291631           [GN0100]                   [존박]  291631  \n",
       "431110   [GN0500, GN0600]  [Oowl Hannal (우울 한날)]  431110  \n",
       "552088   [GN0600, GN0100]                  [강승윤]  552088  "
      ]
     },
     "execution_count": 42,
     "metadata": {},
     "output_type": "execute_result"
    }
   ],
   "source": [
    "# 확인\n",
    "song_meta.iloc[[143209, 291631, 431110, 552088], :]"
   ]
  },
  {
   "cell_type": "markdown",
   "metadata": {},
   "source": [
    "> 1. 날짜 오류 수정"
   ]
  },
  {
   "cell_type": "code",
   "execution_count": 43,
   "metadata": {},
   "outputs": [
    {
     "data": {
      "text/html": [
       "<div>\n",
       "<style scoped>\n",
       "    .dataframe tbody tr th:only-of-type {\n",
       "        vertical-align: middle;\n",
       "    }\n",
       "\n",
       "    .dataframe tbody tr th {\n",
       "        vertical-align: top;\n",
       "    }\n",
       "\n",
       "    .dataframe thead th {\n",
       "        text-align: right;\n",
       "    }\n",
       "</style>\n",
       "<table border=\"1\" class=\"dataframe\">\n",
       "  <thead>\n",
       "    <tr style=\"text-align: right;\">\n",
       "      <th></th>\n",
       "      <th>song_gn_dtl_gnr_basket</th>\n",
       "      <th>issue_date</th>\n",
       "      <th>album_name</th>\n",
       "      <th>album_id</th>\n",
       "      <th>artist_id_basket</th>\n",
       "      <th>song_name</th>\n",
       "      <th>song_gn_gnr_basket</th>\n",
       "      <th>artist_name_basket</th>\n",
       "      <th>id</th>\n",
       "    </tr>\n",
       "  </thead>\n",
       "  <tbody>\n",
       "    <tr>\n",
       "      <th>141185</th>\n",
       "      <td>[GN1801]</td>\n",
       "      <td>20220113</td>\n",
       "      <td>고요한 밤바다 구경하기 [여수 바다]</td>\n",
       "      <td>10403230</td>\n",
       "      <td>[2737142]</td>\n",
       "      <td>잔잔한 바람이 불어와 (There is a gentle breeze)</td>\n",
       "      <td>[GN1800]</td>\n",
       "      <td>[무드홀릭 (Moodholic)]</td>\n",
       "      <td>141185</td>\n",
       "    </tr>\n",
       "    <tr>\n",
       "      <th>448286</th>\n",
       "      <td>[GN1801]</td>\n",
       "      <td>20220113</td>\n",
       "      <td>고요한 밤바다 구경하기 [여수 바다]</td>\n",
       "      <td>10403230</td>\n",
       "      <td>[2737142]</td>\n",
       "      <td>여수 바다 (Yeosu sea)</td>\n",
       "      <td>[GN1800]</td>\n",
       "      <td>[무드홀릭 (Moodholic)]</td>\n",
       "      <td>448286</td>\n",
       "    </tr>\n",
       "  </tbody>\n",
       "</table>\n",
       "</div>"
      ],
      "text/plain": [
       "       song_gn_dtl_gnr_basket  issue_date            album_name  album_id  \\\n",
       "141185               [GN1801]    20220113  고요한 밤바다 구경하기 [여수 바다]  10403230   \n",
       "448286               [GN1801]    20220113  고요한 밤바다 구경하기 [여수 바다]  10403230   \n",
       "\n",
       "       artist_id_basket                               song_name  \\\n",
       "141185        [2737142]  잔잔한 바람이 불어와 (There is a gentle breeze)   \n",
       "448286        [2737142]                       여수 바다 (Yeosu sea)   \n",
       "\n",
       "       song_gn_gnr_basket  artist_name_basket      id  \n",
       "141185           [GN1800]  [무드홀릭 (Moodholic)]  141185  \n",
       "448286           [GN1800]  [무드홀릭 (Moodholic)]  448286  "
      ]
     },
     "execution_count": 43,
     "metadata": {},
     "output_type": "execute_result"
    }
   ],
   "source": [
    "# 날짜 오류있는 행 확인\n",
    "song_meta[song_meta['issue_date'] > 20220000] # index : 141185, 448286"
   ]
  },
  {
   "cell_type": "code",
   "execution_count": 44,
   "metadata": {},
   "outputs": [],
   "source": [
    "indices_to_update = [141185, 448286]\n",
    "new_value = 20200113 # 알맞는 발매날짜\n",
    "# 특정 행의 'issue_date' 값을 변경\n",
    "for idx in indices_to_update:\n",
    "    song_meta.at[idx, 'issue_date'] = new_value"
   ]
  },
  {
   "cell_type": "code",
   "execution_count": 45,
   "metadata": {},
   "outputs": [
    {
     "data": {
      "text/html": [
       "<div>\n",
       "<style scoped>\n",
       "    .dataframe tbody tr th:only-of-type {\n",
       "        vertical-align: middle;\n",
       "    }\n",
       "\n",
       "    .dataframe tbody tr th {\n",
       "        vertical-align: top;\n",
       "    }\n",
       "\n",
       "    .dataframe thead th {\n",
       "        text-align: right;\n",
       "    }\n",
       "</style>\n",
       "<table border=\"1\" class=\"dataframe\">\n",
       "  <thead>\n",
       "    <tr style=\"text-align: right;\">\n",
       "      <th></th>\n",
       "      <th>song_gn_dtl_gnr_basket</th>\n",
       "      <th>issue_date</th>\n",
       "      <th>album_name</th>\n",
       "      <th>album_id</th>\n",
       "      <th>artist_id_basket</th>\n",
       "      <th>song_name</th>\n",
       "      <th>song_gn_gnr_basket</th>\n",
       "      <th>artist_name_basket</th>\n",
       "      <th>id</th>\n",
       "    </tr>\n",
       "  </thead>\n",
       "  <tbody>\n",
       "    <tr>\n",
       "      <th>141185</th>\n",
       "      <td>[GN1801]</td>\n",
       "      <td>20200113</td>\n",
       "      <td>고요한 밤바다 구경하기 [여수 바다]</td>\n",
       "      <td>10403230</td>\n",
       "      <td>[2737142]</td>\n",
       "      <td>잔잔한 바람이 불어와 (There is a gentle breeze)</td>\n",
       "      <td>[GN1800]</td>\n",
       "      <td>[무드홀릭 (Moodholic)]</td>\n",
       "      <td>141185</td>\n",
       "    </tr>\n",
       "    <tr>\n",
       "      <th>448286</th>\n",
       "      <td>[GN1801]</td>\n",
       "      <td>20200113</td>\n",
       "      <td>고요한 밤바다 구경하기 [여수 바다]</td>\n",
       "      <td>10403230</td>\n",
       "      <td>[2737142]</td>\n",
       "      <td>여수 바다 (Yeosu sea)</td>\n",
       "      <td>[GN1800]</td>\n",
       "      <td>[무드홀릭 (Moodholic)]</td>\n",
       "      <td>448286</td>\n",
       "    </tr>\n",
       "  </tbody>\n",
       "</table>\n",
       "</div>"
      ],
      "text/plain": [
       "       song_gn_dtl_gnr_basket  issue_date            album_name  album_id  \\\n",
       "141185               [GN1801]    20200113  고요한 밤바다 구경하기 [여수 바다]  10403230   \n",
       "448286               [GN1801]    20200113  고요한 밤바다 구경하기 [여수 바다]  10403230   \n",
       "\n",
       "       artist_id_basket                               song_name  \\\n",
       "141185        [2737142]  잔잔한 바람이 불어와 (There is a gentle breeze)   \n",
       "448286        [2737142]                       여수 바다 (Yeosu sea)   \n",
       "\n",
       "       song_gn_gnr_basket  artist_name_basket      id  \n",
       "141185           [GN1800]  [무드홀릭 (Moodholic)]  141185  \n",
       "448286           [GN1800]  [무드홀릭 (Moodholic)]  448286  "
      ]
     },
     "execution_count": 45,
     "metadata": {},
     "output_type": "execute_result"
    }
   ],
   "source": [
    "# 알맞게 변경되었는지 확인\n",
    "song_meta.iloc[[141185, 448286], :]"
   ]
  },
  {
   "cell_type": "markdown",
   "metadata": {},
   "source": [
    "> 2.song_gn_dtl_gnr_basket가 비어있는 경우와 대분류 장르 GN9000 삭제"
   ]
  },
  {
   "cell_type": "code",
   "execution_count": 46,
   "metadata": {},
   "outputs": [
    {
     "data": {
      "text/html": [
       "<div>\n",
       "<style scoped>\n",
       "    .dataframe tbody tr th:only-of-type {\n",
       "        vertical-align: middle;\n",
       "    }\n",
       "\n",
       "    .dataframe tbody tr th {\n",
       "        vertical-align: top;\n",
       "    }\n",
       "\n",
       "    .dataframe thead th {\n",
       "        text-align: right;\n",
       "    }\n",
       "</style>\n",
       "<table border=\"1\" class=\"dataframe\">\n",
       "  <thead>\n",
       "    <tr style=\"text-align: right;\">\n",
       "      <th></th>\n",
       "      <th>song_gn_dtl_gnr_basket</th>\n",
       "      <th>issue_date</th>\n",
       "      <th>album_name</th>\n",
       "      <th>album_id</th>\n",
       "      <th>artist_id_basket</th>\n",
       "      <th>song_name</th>\n",
       "      <th>song_gn_gnr_basket</th>\n",
       "      <th>artist_name_basket</th>\n",
       "      <th>id</th>\n",
       "      <th>song_gn_dtl_gnr_basket_cnt</th>\n",
       "    </tr>\n",
       "  </thead>\n",
       "  <tbody>\n",
       "    <tr>\n",
       "      <th>21</th>\n",
       "      <td>[]</td>\n",
       "      <td>20200331</td>\n",
       "      <td>WHY</td>\n",
       "      <td>10410508</td>\n",
       "      <td>[417985]</td>\n",
       "      <td>WHY</td>\n",
       "      <td>[]</td>\n",
       "      <td>[4minute]</td>\n",
       "      <td>21</td>\n",
       "      <td>0</td>\n",
       "    </tr>\n",
       "    <tr>\n",
       "      <th>262</th>\n",
       "      <td>[]</td>\n",
       "      <td>20150318</td>\n",
       "      <td>노년의 건강을 지켜주는 음악 처방전 (부제 : 휴식 때 들으면 좋은 음악친구)</td>\n",
       "      <td>2309524</td>\n",
       "      <td>[726909]</td>\n",
       "      <td>Bio Sound `Breathing &amp; Big Bell`</td>\n",
       "      <td>[GN9000]</td>\n",
       "      <td>[차병원]</td>\n",
       "      <td>262</td>\n",
       "      <td>0</td>\n",
       "    </tr>\n",
       "    <tr>\n",
       "      <th>399</th>\n",
       "      <td>[]</td>\n",
       "      <td>20200106</td>\n",
       "      <td>뽀로로 겨울 동요</td>\n",
       "      <td>10372098</td>\n",
       "      <td>[1703695]</td>\n",
       "      <td>초코 초코 핫초코</td>\n",
       "      <td>[]</td>\n",
       "      <td>[아이코닉스 (ICONIX)]</td>\n",
       "      <td>399</td>\n",
       "      <td>0</td>\n",
       "    </tr>\n",
       "    <tr>\n",
       "      <th>454</th>\n",
       "      <td>[]</td>\n",
       "      <td>20191108</td>\n",
       "      <td>MAGDALENE</td>\n",
       "      <td>10349014</td>\n",
       "      <td>[788767]</td>\n",
       "      <td>thousand eyes</td>\n",
       "      <td>[GN1100]</td>\n",
       "      <td>[FKA Twigs]</td>\n",
       "      <td>454</td>\n",
       "      <td>0</td>\n",
       "    </tr>\n",
       "    <tr>\n",
       "      <th>803</th>\n",
       "      <td>[]</td>\n",
       "      <td>20040901</td>\n",
       "      <td>Tropical Lullaby</td>\n",
       "      <td>153435</td>\n",
       "      <td>[848353]</td>\n",
       "      <td>Kalua Lullaby</td>\n",
       "      <td>[]</td>\n",
       "      <td>[The Moonlighters]</td>\n",
       "      <td>803</td>\n",
       "      <td>0</td>\n",
       "    </tr>\n",
       "    <tr>\n",
       "      <th>...</th>\n",
       "      <td>...</td>\n",
       "      <td>...</td>\n",
       "      <td>...</td>\n",
       "      <td>...</td>\n",
       "      <td>...</td>\n",
       "      <td>...</td>\n",
       "      <td>...</td>\n",
       "      <td>...</td>\n",
       "      <td>...</td>\n",
       "      <td>...</td>\n",
       "    </tr>\n",
       "    <tr>\n",
       "      <th>706502</th>\n",
       "      <td>[]</td>\n",
       "      <td>20110831</td>\n",
       "      <td>엄마와 아가와의 행복한 대화 태교음악 뉴에이지</td>\n",
       "      <td>2009854</td>\n",
       "      <td>[561734]</td>\n",
       "      <td>Love Love Love</td>\n",
       "      <td>[GN9000]</td>\n",
       "      <td>[해피타임뮤직]</td>\n",
       "      <td>706502</td>\n",
       "      <td>0</td>\n",
       "    </tr>\n",
       "    <tr>\n",
       "      <th>706716</th>\n",
       "      <td>[]</td>\n",
       "      <td>20200109</td>\n",
       "      <td>Have It All</td>\n",
       "      <td>10373946</td>\n",
       "      <td>[2762722]</td>\n",
       "      <td>Have It All</td>\n",
       "      <td>[GN9000]</td>\n",
       "      <td>[Renegade]</td>\n",
       "      <td>706716</td>\n",
       "      <td>0</td>\n",
       "    </tr>\n",
       "    <tr>\n",
       "      <th>707201</th>\n",
       "      <td>[]</td>\n",
       "      <td>20200115</td>\n",
       "      <td>모두의 MR반주 123</td>\n",
       "      <td>10376105</td>\n",
       "      <td>[770787]</td>\n",
       "      <td>Into the Unknown (겨울왕국 2 OST) (Melody MR)</td>\n",
       "      <td>[GN9000]</td>\n",
       "      <td>[모두의MR]</td>\n",
       "      <td>707201</td>\n",
       "      <td>0</td>\n",
       "    </tr>\n",
       "    <tr>\n",
       "      <th>707759</th>\n",
       "      <td>[]</td>\n",
       "      <td>20200225</td>\n",
       "      <td>낭만닥터 김사부 2 OST</td>\n",
       "      <td>10393897</td>\n",
       "      <td>[27619, 726783]</td>\n",
       "      <td>Emergency</td>\n",
       "      <td>[]</td>\n",
       "      <td>[전창엽, 마마고릴라]</td>\n",
       "      <td>707759</td>\n",
       "      <td>0</td>\n",
       "    </tr>\n",
       "    <tr>\n",
       "      <th>707869</th>\n",
       "      <td>[]</td>\n",
       "      <td>20170106</td>\n",
       "      <td>아기와 엄마가 함께 듣는 태교 음악 피아노 자장가 연주곡 베스트</td>\n",
       "      <td>10028977</td>\n",
       "      <td>[927524]</td>\n",
       "      <td>도레미송 (Doremi Song)</td>\n",
       "      <td>[GN9000]</td>\n",
       "      <td>[태교음악 베베]</td>\n",
       "      <td>707869</td>\n",
       "      <td>0</td>\n",
       "    </tr>\n",
       "  </tbody>\n",
       "</table>\n",
       "<p>4037 rows × 10 columns</p>\n",
       "</div>"
      ],
      "text/plain": [
       "       song_gn_dtl_gnr_basket  issue_date  \\\n",
       "21                         []    20200331   \n",
       "262                        []    20150318   \n",
       "399                        []    20200106   \n",
       "454                        []    20191108   \n",
       "803                        []    20040901   \n",
       "...                       ...         ...   \n",
       "706502                     []    20110831   \n",
       "706716                     []    20200109   \n",
       "707201                     []    20200115   \n",
       "707759                     []    20200225   \n",
       "707869                     []    20170106   \n",
       "\n",
       "                                         album_name  album_id  \\\n",
       "21                                              WHY  10410508   \n",
       "262     노년의 건강을 지켜주는 음악 처방전 (부제 : 휴식 때 들으면 좋은 음악친구)   2309524   \n",
       "399                                       뽀로로 겨울 동요  10372098   \n",
       "454                                       MAGDALENE  10349014   \n",
       "803                                Tropical Lullaby    153435   \n",
       "...                                             ...       ...   \n",
       "706502                    엄마와 아가와의 행복한 대화 태교음악 뉴에이지   2009854   \n",
       "706716                                  Have It All  10373946   \n",
       "707201                                 모두의 MR반주 123  10376105   \n",
       "707759                               낭만닥터 김사부 2 OST  10393897   \n",
       "707869          아기와 엄마가 함께 듣는 태교 음악 피아노 자장가 연주곡 베스트  10028977   \n",
       "\n",
       "       artist_id_basket                                  song_name  \\\n",
       "21             [417985]                                        WHY   \n",
       "262            [726909]           Bio Sound `Breathing & Big Bell`   \n",
       "399           [1703695]                                  초코 초코 핫초코   \n",
       "454            [788767]                              thousand eyes   \n",
       "803            [848353]                              Kalua Lullaby   \n",
       "...                 ...                                        ...   \n",
       "706502         [561734]                             Love Love Love   \n",
       "706716        [2762722]                                Have It All   \n",
       "707201         [770787]  Into the Unknown (겨울왕국 2 OST) (Melody MR)   \n",
       "707759  [27619, 726783]                                  Emergency   \n",
       "707869         [927524]                         도레미송 (Doremi Song)   \n",
       "\n",
       "       song_gn_gnr_basket  artist_name_basket      id  \\\n",
       "21                     []           [4minute]      21   \n",
       "262              [GN9000]               [차병원]     262   \n",
       "399                    []    [아이코닉스 (ICONIX)]     399   \n",
       "454              [GN1100]         [FKA Twigs]     454   \n",
       "803                    []  [The Moonlighters]     803   \n",
       "...                   ...                 ...     ...   \n",
       "706502           [GN9000]            [해피타임뮤직]  706502   \n",
       "706716           [GN9000]          [Renegade]  706716   \n",
       "707201           [GN9000]             [모두의MR]  707201   \n",
       "707759                 []        [전창엽, 마마고릴라]  707759   \n",
       "707869           [GN9000]           [태교음악 베베]  707869   \n",
       "\n",
       "        song_gn_dtl_gnr_basket_cnt  \n",
       "21                               0  \n",
       "262                              0  \n",
       "399                              0  \n",
       "454                              0  \n",
       "803                              0  \n",
       "...                            ...  \n",
       "706502                           0  \n",
       "706716                           0  \n",
       "707201                           0  \n",
       "707759                           0  \n",
       "707869                           0  \n",
       "\n",
       "[4037 rows x 10 columns]"
      ]
     },
     "execution_count": 46,
     "metadata": {},
     "output_type": "execute_result"
    }
   ],
   "source": [
    "song_meta['song_gn_dtl_gnr_basket_cnt'] = song_meta['song_gn_dtl_gnr_basket'].apply(len)\n",
    "song_meta[song_meta['song_gn_dtl_gnr_basket_cnt']==0]"
   ]
  },
  {
   "cell_type": "code",
   "execution_count": 47,
   "metadata": {},
   "outputs": [
    {
     "data": {
      "text/plain": [
       "4040"
      ]
     },
     "execution_count": 47,
     "metadata": {},
     "output_type": "execute_result"
    }
   ],
   "source": [
    "# 소분류 장르가 없는 song id 담아두기\n",
    "song_gnr_empty = list(song_meta[song_meta['song_gn_dtl_gnr_basket_cnt'] == 0]['id'].values) # 4037개\n",
    "# 장르정보가 GN9000인 song id 담아두기\n",
    "song_gnr_GN9000 = list(song_meta[song_meta['song_gn_gnr_basket'].apply(lambda x: 'GN9000' in x)]['id'].values) # 1834개\n",
    "\n",
    "# 삭제될 song id list\n",
    "to_del_song_id = set(song_gnr_empty + song_gnr_GN9000)\n",
    "len(to_del_song_id) # 4040개"
   ]
  },
  {
   "cell_type": "code",
   "execution_count": 48,
   "metadata": {},
   "outputs": [
    {
     "name": "stdout",
     "output_type": "stream",
     "text": [
      "<class 'pandas.core.frame.DataFrame'>\n",
      "Int64Index: 703952 entries, 0 to 707988\n",
      "Data columns (total 10 columns):\n",
      " #   Column                      Non-Null Count   Dtype \n",
      "---  ------                      --------------   ----- \n",
      " 0   song_gn_dtl_gnr_basket      703952 non-null  object\n",
      " 1   issue_date                  703952 non-null  int64 \n",
      " 2   album_name                  703952 non-null  object\n",
      " 3   album_id                    703952 non-null  int64 \n",
      " 4   artist_id_basket            703952 non-null  object\n",
      " 5   song_name                   703952 non-null  object\n",
      " 6   song_gn_gnr_basket          703952 non-null  object\n",
      " 7   artist_name_basket          703952 non-null  object\n",
      " 8   id                          703952 non-null  int64 \n",
      " 9   song_gn_dtl_gnr_basket_cnt  703952 non-null  int64 \n",
      "dtypes: int64(4), object(6)\n",
      "memory usage: 59.1+ MB\n"
     ]
    }
   ],
   "source": [
    "song_meta = song_meta[song_meta['song_gn_dtl_gnr_basket_cnt'] != 0] # 소분류 장르가 없는 song 4037개 삭제\n",
    "song_meta.info()"
   ]
  },
  {
   "cell_type": "code",
   "execution_count": 49,
   "metadata": {},
   "outputs": [
    {
     "name": "stdout",
     "output_type": "stream",
     "text": [
      "<class 'pandas.core.frame.DataFrame'>\n",
      "Int64Index: 703949 entries, 0 to 707988\n",
      "Data columns (total 10 columns):\n",
      " #   Column                      Non-Null Count   Dtype \n",
      "---  ------                      --------------   ----- \n",
      " 0   song_gn_dtl_gnr_basket      703949 non-null  object\n",
      " 1   issue_date                  703949 non-null  int64 \n",
      " 2   album_name                  703949 non-null  object\n",
      " 3   album_id                    703949 non-null  int64 \n",
      " 4   artist_id_basket            703949 non-null  object\n",
      " 5   song_name                   703949 non-null  object\n",
      " 6   song_gn_gnr_basket          703949 non-null  object\n",
      " 7   artist_name_basket          703949 non-null  object\n",
      " 8   id                          703949 non-null  int64 \n",
      " 9   song_gn_dtl_gnr_basket_cnt  703949 non-null  int64 \n",
      "dtypes: int64(4), object(6)\n",
      "memory usage: 59.1+ MB\n"
     ]
    }
   ],
   "source": [
    "song_meta = song_meta[~song_meta['song_gn_gnr_basket'].apply(lambda x: 'GN9000' in x)] # GN9000가 있는 행 3개삭제 (GN9000이 대분류 장르인 경우, 대부분 소분류 정보가 없어서 여기서는 3개만 삭제됨)\n",
    "song_meta.info()"
   ]
  },
  {
   "cell_type": "code",
   "execution_count": 50,
   "metadata": {},
   "outputs": [
    {
     "data": {
      "text/html": [
       "<div>\n",
       "<style scoped>\n",
       "    .dataframe tbody tr th:only-of-type {\n",
       "        vertical-align: middle;\n",
       "    }\n",
       "\n",
       "    .dataframe tbody tr th {\n",
       "        vertical-align: top;\n",
       "    }\n",
       "\n",
       "    .dataframe thead th {\n",
       "        text-align: right;\n",
       "    }\n",
       "</style>\n",
       "<table border=\"1\" class=\"dataframe\">\n",
       "  <thead>\n",
       "    <tr style=\"text-align: right;\">\n",
       "      <th></th>\n",
       "      <th>song_gn_dtl_gnr_basket</th>\n",
       "      <th>issue_date</th>\n",
       "      <th>album_name</th>\n",
       "      <th>album_id</th>\n",
       "      <th>artist_id_basket</th>\n",
       "      <th>song_name</th>\n",
       "      <th>song_gn_gnr_basket</th>\n",
       "      <th>artist_name_basket</th>\n",
       "      <th>id</th>\n",
       "      <th>song_gn_dtl_gnr_basket_cnt</th>\n",
       "    </tr>\n",
       "  </thead>\n",
       "  <tbody>\n",
       "  </tbody>\n",
       "</table>\n",
       "</div>"
      ],
      "text/plain": [
       "Empty DataFrame\n",
       "Columns: [song_gn_dtl_gnr_basket, issue_date, album_name, album_id, artist_id_basket, song_name, song_gn_gnr_basket, artist_name_basket, id, song_gn_dtl_gnr_basket_cnt]\n",
       "Index: []"
      ]
     },
     "execution_count": 50,
     "metadata": {},
     "output_type": "execute_result"
    }
   ],
   "source": [
    "# 장르 정보가 없는 행이 없는지 확인\n",
    "song_meta[song_meta['song_gn_dtl_gnr_basket_cnt']==0]"
   ]
  },
  {
   "cell_type": "code",
   "execution_count": 51,
   "metadata": {},
   "outputs": [
    {
     "data": {
      "text/html": [
       "<div>\n",
       "<style scoped>\n",
       "    .dataframe tbody tr th:only-of-type {\n",
       "        vertical-align: middle;\n",
       "    }\n",
       "\n",
       "    .dataframe tbody tr th {\n",
       "        vertical-align: top;\n",
       "    }\n",
       "\n",
       "    .dataframe thead th {\n",
       "        text-align: right;\n",
       "    }\n",
       "</style>\n",
       "<table border=\"1\" class=\"dataframe\">\n",
       "  <thead>\n",
       "    <tr style=\"text-align: right;\">\n",
       "      <th></th>\n",
       "      <th>song_gn_dtl_gnr_basket</th>\n",
       "      <th>issue_date</th>\n",
       "      <th>album_name</th>\n",
       "      <th>album_id</th>\n",
       "      <th>artist_id_basket</th>\n",
       "      <th>song_name</th>\n",
       "      <th>song_gn_gnr_basket</th>\n",
       "      <th>artist_name_basket</th>\n",
       "      <th>id</th>\n",
       "      <th>song_gn_dtl_gnr_basket_cnt</th>\n",
       "    </tr>\n",
       "  </thead>\n",
       "  <tbody>\n",
       "  </tbody>\n",
       "</table>\n",
       "</div>"
      ],
      "text/plain": [
       "Empty DataFrame\n",
       "Columns: [song_gn_dtl_gnr_basket, issue_date, album_name, album_id, artist_id_basket, song_name, song_gn_gnr_basket, artist_name_basket, id, song_gn_dtl_gnr_basket_cnt]\n",
       "Index: []"
      ]
     },
     "execution_count": 51,
     "metadata": {},
     "output_type": "execute_result"
    }
   ],
   "source": [
    "# GN9000가 삭제되었는지 확인\n",
    "song_meta[song_meta['song_gn_gnr_basket'].apply(lambda x: 'GN9000' in x)]"
   ]
  },
  {
   "cell_type": "markdown",
   "metadata": {},
   "source": [
    "> 3. 대분류 장르명과 song_meta merge"
   ]
  },
  {
   "cell_type": "code",
   "execution_count": 53,
   "metadata": {},
   "outputs": [
    {
     "data": {
      "text/html": [
       "<div>\n",
       "<style scoped>\n",
       "    .dataframe tbody tr th:only-of-type {\n",
       "        vertical-align: middle;\n",
       "    }\n",
       "\n",
       "    .dataframe tbody tr th {\n",
       "        vertical-align: top;\n",
       "    }\n",
       "\n",
       "    .dataframe thead th {\n",
       "        text-align: right;\n",
       "    }\n",
       "</style>\n",
       "<table border=\"1\" class=\"dataframe\">\n",
       "  <thead>\n",
       "    <tr style=\"text-align: right;\">\n",
       "      <th></th>\n",
       "      <th>song_gn_dtl_gnr_basket</th>\n",
       "      <th>issue_date</th>\n",
       "      <th>album_name</th>\n",
       "      <th>album_id</th>\n",
       "      <th>artist_id_basket</th>\n",
       "      <th>song_name</th>\n",
       "      <th>song_gn_gnr_basket</th>\n",
       "      <th>artist_name_basket</th>\n",
       "      <th>id</th>\n",
       "      <th>song_gn_dtl_gnr_basket_cnt</th>\n",
       "    </tr>\n",
       "  </thead>\n",
       "  <tbody>\n",
       "    <tr>\n",
       "      <th>0</th>\n",
       "      <td>[GN0901]</td>\n",
       "      <td>20140512</td>\n",
       "      <td>불후의 명곡 - 7080 추억의 얄개시대 팝송베스트</td>\n",
       "      <td>2255639</td>\n",
       "      <td>[2727]</td>\n",
       "      <td>Feelings</td>\n",
       "      <td>GN0900</td>\n",
       "      <td>[Various Artists]</td>\n",
       "      <td>0</td>\n",
       "      <td>1</td>\n",
       "    </tr>\n",
       "    <tr>\n",
       "      <th>1</th>\n",
       "      <td>[GN1601, GN1606]</td>\n",
       "      <td>20080421</td>\n",
       "      <td>Bach : Partitas Nos. 2, 3 &amp; 4</td>\n",
       "      <td>376431</td>\n",
       "      <td>[29966]</td>\n",
       "      <td>Bach : Partita No. 4 In D Major, BWV 828 - II....</td>\n",
       "      <td>GN1600</td>\n",
       "      <td>[Murray Perahia]</td>\n",
       "      <td>1</td>\n",
       "      <td>2</td>\n",
       "    </tr>\n",
       "    <tr>\n",
       "      <th>2</th>\n",
       "      <td>[GN0901]</td>\n",
       "      <td>20180518</td>\n",
       "      <td>Hit</td>\n",
       "      <td>4698747</td>\n",
       "      <td>[3361]</td>\n",
       "      <td>Solsbury Hill (Remastered 2002)</td>\n",
       "      <td>GN0900</td>\n",
       "      <td>[Peter Gabriel]</td>\n",
       "      <td>2</td>\n",
       "      <td>1</td>\n",
       "    </tr>\n",
       "    <tr>\n",
       "      <th>3</th>\n",
       "      <td>[GN1102, GN1101]</td>\n",
       "      <td>20151016</td>\n",
       "      <td>Feeling Right (Everything Is Nice) (Feat. Popc...</td>\n",
       "      <td>2644882</td>\n",
       "      <td>[838543]</td>\n",
       "      <td>Feeling Right (Everything Is Nice) (Feat. Popc...</td>\n",
       "      <td>GN1100</td>\n",
       "      <td>[Matoma]</td>\n",
       "      <td>3</td>\n",
       "      <td>2</td>\n",
       "    </tr>\n",
       "    <tr>\n",
       "      <th>4</th>\n",
       "      <td>[GN1802, GN1801]</td>\n",
       "      <td>20110824</td>\n",
       "      <td>그남자 그여자</td>\n",
       "      <td>2008470</td>\n",
       "      <td>[560160]</td>\n",
       "      <td>그남자 그여자</td>\n",
       "      <td>GN1800</td>\n",
       "      <td>[Jude Law]</td>\n",
       "      <td>4</td>\n",
       "      <td>2</td>\n",
       "    </tr>\n",
       "  </tbody>\n",
       "</table>\n",
       "</div>"
      ],
      "text/plain": [
       "  song_gn_dtl_gnr_basket  issue_date  \\\n",
       "0               [GN0901]    20140512   \n",
       "1       [GN1601, GN1606]    20080421   \n",
       "2               [GN0901]    20180518   \n",
       "3       [GN1102, GN1101]    20151016   \n",
       "4       [GN1802, GN1801]    20110824   \n",
       "\n",
       "                                          album_name  album_id  \\\n",
       "0                       불후의 명곡 - 7080 추억의 얄개시대 팝송베스트   2255639   \n",
       "1                      Bach : Partitas Nos. 2, 3 & 4    376431   \n",
       "2                                                Hit   4698747   \n",
       "3  Feeling Right (Everything Is Nice) (Feat. Popc...   2644882   \n",
       "4                                            그남자 그여자   2008470   \n",
       "\n",
       "  artist_id_basket                                          song_name  \\\n",
       "0           [2727]                                           Feelings   \n",
       "1          [29966]  Bach : Partita No. 4 In D Major, BWV 828 - II....   \n",
       "2           [3361]                    Solsbury Hill (Remastered 2002)   \n",
       "3         [838543]  Feeling Right (Everything Is Nice) (Feat. Popc...   \n",
       "4         [560160]                                            그남자 그여자   \n",
       "\n",
       "  song_gn_gnr_basket artist_name_basket  id  song_gn_dtl_gnr_basket_cnt  \n",
       "0             GN0900  [Various Artists]   0                           1  \n",
       "1             GN1600   [Murray Perahia]   1                           2  \n",
       "2             GN0900    [Peter Gabriel]   2                           1  \n",
       "3             GN1100           [Matoma]   3                           2  \n",
       "4             GN1800         [Jude Law]   4                           2  "
      ]
     },
     "execution_count": 53,
     "metadata": {},
     "output_type": "execute_result"
    }
   ],
   "source": [
    "song_meta_ex = song_meta.explode('song_gn_gnr_basket') # 대분류 장르 한줄에 하나씩 넣기\n",
    "song_meta_ex.head()"
   ]
  },
  {
   "cell_type": "code",
   "execution_count": 54,
   "metadata": {},
   "outputs": [
    {
     "data": {
      "text/html": [
       "<div>\n",
       "<style scoped>\n",
       "    .dataframe tbody tr th:only-of-type {\n",
       "        vertical-align: middle;\n",
       "    }\n",
       "\n",
       "    .dataframe tbody tr th {\n",
       "        vertical-align: top;\n",
       "    }\n",
       "\n",
       "    .dataframe thead th {\n",
       "        text-align: right;\n",
       "    }\n",
       "</style>\n",
       "<table border=\"1\" class=\"dataframe\">\n",
       "  <thead>\n",
       "    <tr style=\"text-align: right;\">\n",
       "      <th></th>\n",
       "      <th>song_gn_dtl_gnr_basket</th>\n",
       "      <th>issue_date</th>\n",
       "      <th>album_name</th>\n",
       "      <th>album_id</th>\n",
       "      <th>artist_id_basket</th>\n",
       "      <th>song_name</th>\n",
       "      <th>song_gn_gnr_basket</th>\n",
       "      <th>artist_name_basket</th>\n",
       "      <th>id</th>\n",
       "      <th>song_gn_dtl_gnr_basket_cnt</th>\n",
       "      <th>gnr_name</th>\n",
       "    </tr>\n",
       "  </thead>\n",
       "  <tbody>\n",
       "    <tr>\n",
       "      <th>0</th>\n",
       "      <td>[GN0901]</td>\n",
       "      <td>20140512</td>\n",
       "      <td>불후의 명곡 - 7080 추억의 얄개시대 팝송베스트</td>\n",
       "      <td>2255639</td>\n",
       "      <td>[2727]</td>\n",
       "      <td>Feelings</td>\n",
       "      <td>GN0900</td>\n",
       "      <td>[Various Artists]</td>\n",
       "      <td>0</td>\n",
       "      <td>1</td>\n",
       "      <td>POP</td>\n",
       "    </tr>\n",
       "    <tr>\n",
       "      <th>1</th>\n",
       "      <td>[GN1601, GN1606]</td>\n",
       "      <td>20080421</td>\n",
       "      <td>Bach : Partitas Nos. 2, 3 &amp; 4</td>\n",
       "      <td>376431</td>\n",
       "      <td>[29966]</td>\n",
       "      <td>Bach : Partita No. 4 In D Major, BWV 828 - II....</td>\n",
       "      <td>GN1600</td>\n",
       "      <td>[Murray Perahia]</td>\n",
       "      <td>1</td>\n",
       "      <td>2</td>\n",
       "      <td>클래식</td>\n",
       "    </tr>\n",
       "    <tr>\n",
       "      <th>2</th>\n",
       "      <td>[GN0901]</td>\n",
       "      <td>20180518</td>\n",
       "      <td>Hit</td>\n",
       "      <td>4698747</td>\n",
       "      <td>[3361]</td>\n",
       "      <td>Solsbury Hill (Remastered 2002)</td>\n",
       "      <td>GN0900</td>\n",
       "      <td>[Peter Gabriel]</td>\n",
       "      <td>2</td>\n",
       "      <td>1</td>\n",
       "      <td>POP</td>\n",
       "    </tr>\n",
       "    <tr>\n",
       "      <th>3</th>\n",
       "      <td>[GN1102, GN1101]</td>\n",
       "      <td>20151016</td>\n",
       "      <td>Feeling Right (Everything Is Nice) (Feat. Popc...</td>\n",
       "      <td>2644882</td>\n",
       "      <td>[838543]</td>\n",
       "      <td>Feeling Right (Everything Is Nice) (Feat. Popc...</td>\n",
       "      <td>GN1100</td>\n",
       "      <td>[Matoma]</td>\n",
       "      <td>3</td>\n",
       "      <td>2</td>\n",
       "      <td>일렉트로니카</td>\n",
       "    </tr>\n",
       "    <tr>\n",
       "      <th>4</th>\n",
       "      <td>[GN1802, GN1801]</td>\n",
       "      <td>20110824</td>\n",
       "      <td>그남자 그여자</td>\n",
       "      <td>2008470</td>\n",
       "      <td>[560160]</td>\n",
       "      <td>그남자 그여자</td>\n",
       "      <td>GN1800</td>\n",
       "      <td>[Jude Law]</td>\n",
       "      <td>4</td>\n",
       "      <td>2</td>\n",
       "      <td>뉴에이지</td>\n",
       "    </tr>\n",
       "  </tbody>\n",
       "</table>\n",
       "</div>"
      ],
      "text/plain": [
       "  song_gn_dtl_gnr_basket  issue_date  \\\n",
       "0               [GN0901]    20140512   \n",
       "1       [GN1601, GN1606]    20080421   \n",
       "2               [GN0901]    20180518   \n",
       "3       [GN1102, GN1101]    20151016   \n",
       "4       [GN1802, GN1801]    20110824   \n",
       "\n",
       "                                          album_name  album_id  \\\n",
       "0                       불후의 명곡 - 7080 추억의 얄개시대 팝송베스트   2255639   \n",
       "1                      Bach : Partitas Nos. 2, 3 & 4    376431   \n",
       "2                                                Hit   4698747   \n",
       "3  Feeling Right (Everything Is Nice) (Feat. Popc...   2644882   \n",
       "4                                            그남자 그여자   2008470   \n",
       "\n",
       "  artist_id_basket                                          song_name  \\\n",
       "0           [2727]                                           Feelings   \n",
       "1          [29966]  Bach : Partita No. 4 In D Major, BWV 828 - II....   \n",
       "2           [3361]                    Solsbury Hill (Remastered 2002)   \n",
       "3         [838543]  Feeling Right (Everything Is Nice) (Feat. Popc...   \n",
       "4         [560160]                                            그남자 그여자   \n",
       "\n",
       "  song_gn_gnr_basket artist_name_basket  id  song_gn_dtl_gnr_basket_cnt  \\\n",
       "0             GN0900  [Various Artists]   0                           1   \n",
       "1             GN1600   [Murray Perahia]   1                           2   \n",
       "2             GN0900    [Peter Gabriel]   2                           1   \n",
       "3             GN1100           [Matoma]   3                           2   \n",
       "4             GN1800         [Jude Law]   4                           2   \n",
       "\n",
       "  gnr_name  \n",
       "0      POP  \n",
       "1      클래식  \n",
       "2      POP  \n",
       "3   일렉트로니카  \n",
       "4     뉴에이지  "
      ]
     },
     "execution_count": 54,
     "metadata": {},
     "output_type": "execute_result"
    }
   ],
   "source": [
    "# 대분류 장르와 song_meta merge\n",
    "song_meta_merge = pd.merge(song_meta_ex, gnr_big, how='left', left_on='song_gn_gnr_basket', right_on='gnr_code')\n",
    "song_meta_merge.drop('gnr_code', axis=1, inplace=True)\n",
    "song_meta_merge.head()"
   ]
  },
  {
   "cell_type": "code",
   "execution_count": 55,
   "metadata": {},
   "outputs": [],
   "source": [
    "song_meta_gnr_code = song_meta_merge.groupby('id')['song_gn_gnr_basket'].apply(list).reset_index() # 하나의 song에 대해 하나의 대분류 장르코드 list로 만들기\n",
    "song_meta_gnr_name = song_meta_merge.groupby('id')['gnr_name'].apply(list).reset_index() # 하나의 song에 대해 하나의 대분류 장르명 list로 만들기"
   ]
  },
  {
   "cell_type": "code",
   "execution_count": 56,
   "metadata": {},
   "outputs": [],
   "source": [
    "song_meta_f = pd.merge(song_meta_merge, song_meta_gnr_code, how='left', on='id') # 장르코드 list와 merge\n",
    "song_meta_f = pd.merge(song_meta_f, song_meta_gnr_name, how='left', on='id') # 장르명 list와 merge"
   ]
  },
  {
   "cell_type": "code",
   "execution_count": 57,
   "metadata": {},
   "outputs": [
    {
     "data": {
      "text/html": [
       "<div>\n",
       "<style scoped>\n",
       "    .dataframe tbody tr th:only-of-type {\n",
       "        vertical-align: middle;\n",
       "    }\n",
       "\n",
       "    .dataframe tbody tr th {\n",
       "        vertical-align: top;\n",
       "    }\n",
       "\n",
       "    .dataframe thead th {\n",
       "        text-align: right;\n",
       "    }\n",
       "</style>\n",
       "<table border=\"1\" class=\"dataframe\">\n",
       "  <thead>\n",
       "    <tr style=\"text-align: right;\">\n",
       "      <th></th>\n",
       "      <th>song_gn_dtl_gnr_basket</th>\n",
       "      <th>issue_date</th>\n",
       "      <th>album_name</th>\n",
       "      <th>album_id</th>\n",
       "      <th>artist_id_basket</th>\n",
       "      <th>song_name</th>\n",
       "      <th>song_gn_gnr_basket</th>\n",
       "      <th>gnr_name</th>\n",
       "      <th>artist_name_basket</th>\n",
       "      <th>id</th>\n",
       "    </tr>\n",
       "  </thead>\n",
       "  <tbody>\n",
       "    <tr>\n",
       "      <th>0</th>\n",
       "      <td>[GN0901]</td>\n",
       "      <td>20140512</td>\n",
       "      <td>불후의 명곡 - 7080 추억의 얄개시대 팝송베스트</td>\n",
       "      <td>2255639</td>\n",
       "      <td>[2727]</td>\n",
       "      <td>Feelings</td>\n",
       "      <td>[GN0900]</td>\n",
       "      <td>[POP]</td>\n",
       "      <td>[Various Artists]</td>\n",
       "      <td>0</td>\n",
       "    </tr>\n",
       "    <tr>\n",
       "      <th>1</th>\n",
       "      <td>[GN1601, GN1606]</td>\n",
       "      <td>20080421</td>\n",
       "      <td>Bach : Partitas Nos. 2, 3 &amp; 4</td>\n",
       "      <td>376431</td>\n",
       "      <td>[29966]</td>\n",
       "      <td>Bach : Partita No. 4 In D Major, BWV 828 - II....</td>\n",
       "      <td>[GN1600]</td>\n",
       "      <td>[클래식]</td>\n",
       "      <td>[Murray Perahia]</td>\n",
       "      <td>1</td>\n",
       "    </tr>\n",
       "    <tr>\n",
       "      <th>2</th>\n",
       "      <td>[GN0901]</td>\n",
       "      <td>20180518</td>\n",
       "      <td>Hit</td>\n",
       "      <td>4698747</td>\n",
       "      <td>[3361]</td>\n",
       "      <td>Solsbury Hill (Remastered 2002)</td>\n",
       "      <td>[GN0900]</td>\n",
       "      <td>[POP]</td>\n",
       "      <td>[Peter Gabriel]</td>\n",
       "      <td>2</td>\n",
       "    </tr>\n",
       "    <tr>\n",
       "      <th>3</th>\n",
       "      <td>[GN1102, GN1101]</td>\n",
       "      <td>20151016</td>\n",
       "      <td>Feeling Right (Everything Is Nice) (Feat. Popc...</td>\n",
       "      <td>2644882</td>\n",
       "      <td>[838543]</td>\n",
       "      <td>Feeling Right (Everything Is Nice) (Feat. Popc...</td>\n",
       "      <td>[GN1100]</td>\n",
       "      <td>[일렉트로니카]</td>\n",
       "      <td>[Matoma]</td>\n",
       "      <td>3</td>\n",
       "    </tr>\n",
       "    <tr>\n",
       "      <th>4</th>\n",
       "      <td>[GN1802, GN1801]</td>\n",
       "      <td>20110824</td>\n",
       "      <td>그남자 그여자</td>\n",
       "      <td>2008470</td>\n",
       "      <td>[560160]</td>\n",
       "      <td>그남자 그여자</td>\n",
       "      <td>[GN1800]</td>\n",
       "      <td>[뉴에이지]</td>\n",
       "      <td>[Jude Law]</td>\n",
       "      <td>4</td>\n",
       "    </tr>\n",
       "  </tbody>\n",
       "</table>\n",
       "</div>"
      ],
      "text/plain": [
       "  song_gn_dtl_gnr_basket  issue_date  \\\n",
       "0               [GN0901]    20140512   \n",
       "1       [GN1601, GN1606]    20080421   \n",
       "2               [GN0901]    20180518   \n",
       "3       [GN1102, GN1101]    20151016   \n",
       "4       [GN1802, GN1801]    20110824   \n",
       "\n",
       "                                          album_name  album_id  \\\n",
       "0                       불후의 명곡 - 7080 추억의 얄개시대 팝송베스트   2255639   \n",
       "1                      Bach : Partitas Nos. 2, 3 & 4    376431   \n",
       "2                                                Hit   4698747   \n",
       "3  Feeling Right (Everything Is Nice) (Feat. Popc...   2644882   \n",
       "4                                            그남자 그여자   2008470   \n",
       "\n",
       "  artist_id_basket                                          song_name  \\\n",
       "0           [2727]                                           Feelings   \n",
       "1          [29966]  Bach : Partita No. 4 In D Major, BWV 828 - II....   \n",
       "2           [3361]                    Solsbury Hill (Remastered 2002)   \n",
       "3         [838543]  Feeling Right (Everything Is Nice) (Feat. Popc...   \n",
       "4         [560160]                                            그남자 그여자   \n",
       "\n",
       "  song_gn_gnr_basket  gnr_name artist_name_basket  id  \n",
       "0           [GN0900]     [POP]  [Various Artists]   0  \n",
       "1           [GN1600]     [클래식]   [Murray Perahia]   1  \n",
       "2           [GN0900]     [POP]    [Peter Gabriel]   2  \n",
       "3           [GN1100]  [일렉트로니카]           [Matoma]   3  \n",
       "4           [GN1800]    [뉴에이지]         [Jude Law]   4  "
      ]
     },
     "execution_count": 57,
     "metadata": {},
     "output_type": "execute_result"
    }
   ],
   "source": [
    "# 필요한 컬럼만 남기기\n",
    "song_meta_f = song_meta_f[['song_gn_dtl_gnr_basket', 'issue_date', 'album_name', 'album_id', 'artist_id_basket', 'song_name', 'song_gn_gnr_basket_y', 'gnr_name_y', 'artist_name_basket', 'id']]\n",
    "# 컬럼명 수정\n",
    "song_meta_f.rename(columns={'song_gn_gnr_basket_y':'song_gn_gnr_basket', 'gnr_name_y':'gnr_name'}, inplace=True)\n",
    "\n",
    "song_meta_f.head()"
   ]
  },
  {
   "cell_type": "code",
   "execution_count": 58,
   "metadata": {},
   "outputs": [],
   "source": [
    "song_meta_cleaned = song_meta_f.drop_duplicates(subset='id', keep='first') # id가 중복인 행에 대해 하나의 id행만 남기기"
   ]
  },
  {
   "cell_type": "code",
   "execution_count": 59,
   "metadata": {},
   "outputs": [
    {
     "name": "stdout",
     "output_type": "stream",
     "text": [
      "<class 'pandas.core.frame.DataFrame'>\n",
      "Int64Index: 703949 entries, 0 to 799772\n",
      "Data columns (total 10 columns):\n",
      " #   Column                  Non-Null Count   Dtype \n",
      "---  ------                  --------------   ----- \n",
      " 0   song_gn_dtl_gnr_basket  703949 non-null  object\n",
      " 1   issue_date              703949 non-null  int64 \n",
      " 2   album_name              703949 non-null  object\n",
      " 3   album_id                703949 non-null  int64 \n",
      " 4   artist_id_basket        703949 non-null  object\n",
      " 5   song_name               703949 non-null  object\n",
      " 6   song_gn_gnr_basket      703949 non-null  object\n",
      " 7   gnr_name                703949 non-null  object\n",
      " 8   artist_name_basket      703949 non-null  object\n",
      " 9   id                      703949 non-null  int64 \n",
      "dtypes: int64(3), object(7)\n",
      "memory usage: 59.1+ MB\n"
     ]
    }
   ],
   "source": [
    "song_meta_cleaned.info()"
   ]
  },
  {
   "cell_type": "code",
   "execution_count": 60,
   "metadata": {},
   "outputs": [],
   "source": [
    "# song_meta 저장\n",
    "song_meta_cleaned.to_json('../0_data/orgi_song_meta.json', orient='records')"
   ]
  },
  {
   "cell_type": "markdown",
   "metadata": {},
   "source": [
    "> 4. song_meta DB용으로 만들기"
   ]
  },
  {
   "cell_type": "code",
   "execution_count": 61,
   "metadata": {},
   "outputs": [
    {
     "name": "stderr",
     "output_type": "stream",
     "text": [
      "C:\\Users\\cg063\\AppData\\Local\\Temp\\ipykernel_9008\\593262896.py:2: SettingWithCopyWarning: \n",
      "A value is trying to be set on a copy of a slice from a DataFrame\n",
      "\n",
      "See the caveats in the documentation: https://pandas.pydata.org/pandas-docs/stable/user_guide/indexing.html#returning-a-view-versus-a-copy\n",
      "  song_meta_db.rename(columns={'id':'song_id', 'artist_name_basket':'artist_name_lst', 'gnr_name':'song_gnr_lst'}, inplace=True)\n"
     ]
    }
   ],
   "source": [
    "song_meta_db = song_meta_cleaned[['id', 'song_name', 'artist_name_basket', 'gnr_name']]\n",
    "song_meta_db.rename(columns={'id':'song_id', 'artist_name_basket':'artist_name_lst', 'gnr_name':'song_gnr_lst'}, inplace=True)"
   ]
  },
  {
   "cell_type": "code",
   "execution_count": 62,
   "metadata": {},
   "outputs": [
    {
     "data": {
      "text/html": [
       "<div>\n",
       "<style scoped>\n",
       "    .dataframe tbody tr th:only-of-type {\n",
       "        vertical-align: middle;\n",
       "    }\n",
       "\n",
       "    .dataframe tbody tr th {\n",
       "        vertical-align: top;\n",
       "    }\n",
       "\n",
       "    .dataframe thead th {\n",
       "        text-align: right;\n",
       "    }\n",
       "</style>\n",
       "<table border=\"1\" class=\"dataframe\">\n",
       "  <thead>\n",
       "    <tr style=\"text-align: right;\">\n",
       "      <th></th>\n",
       "      <th>song_id</th>\n",
       "      <th>song_name</th>\n",
       "      <th>artist_name_lst</th>\n",
       "      <th>song_gnr_lst</th>\n",
       "    </tr>\n",
       "  </thead>\n",
       "  <tbody>\n",
       "    <tr>\n",
       "      <th>0</th>\n",
       "      <td>0</td>\n",
       "      <td>Feelings</td>\n",
       "      <td>[Various Artists]</td>\n",
       "      <td>[POP]</td>\n",
       "    </tr>\n",
       "    <tr>\n",
       "      <th>1</th>\n",
       "      <td>1</td>\n",
       "      <td>Bach : Partita No. 4 In D Major, BWV 828 - II....</td>\n",
       "      <td>[Murray Perahia]</td>\n",
       "      <td>[클래식]</td>\n",
       "    </tr>\n",
       "    <tr>\n",
       "      <th>2</th>\n",
       "      <td>2</td>\n",
       "      <td>Solsbury Hill (Remastered 2002)</td>\n",
       "      <td>[Peter Gabriel]</td>\n",
       "      <td>[POP]</td>\n",
       "    </tr>\n",
       "    <tr>\n",
       "      <th>3</th>\n",
       "      <td>3</td>\n",
       "      <td>Feeling Right (Everything Is Nice) (Feat. Popc...</td>\n",
       "      <td>[Matoma]</td>\n",
       "      <td>[일렉트로니카]</td>\n",
       "    </tr>\n",
       "    <tr>\n",
       "      <th>4</th>\n",
       "      <td>4</td>\n",
       "      <td>그남자 그여자</td>\n",
       "      <td>[Jude Law]</td>\n",
       "      <td>[뉴에이지]</td>\n",
       "    </tr>\n",
       "  </tbody>\n",
       "</table>\n",
       "</div>"
      ],
      "text/plain": [
       "   song_id                                          song_name  \\\n",
       "0        0                                           Feelings   \n",
       "1        1  Bach : Partita No. 4 In D Major, BWV 828 - II....   \n",
       "2        2                    Solsbury Hill (Remastered 2002)   \n",
       "3        3  Feeling Right (Everything Is Nice) (Feat. Popc...   \n",
       "4        4                                            그남자 그여자   \n",
       "\n",
       "     artist_name_lst song_gnr_lst  \n",
       "0  [Various Artists]        [POP]  \n",
       "1   [Murray Perahia]        [클래식]  \n",
       "2    [Peter Gabriel]        [POP]  \n",
       "3           [Matoma]     [일렉트로니카]  \n",
       "4         [Jude Law]       [뉴에이지]  "
      ]
     },
     "execution_count": 62,
     "metadata": {},
     "output_type": "execute_result"
    }
   ],
   "source": [
    "song_meta_db.head()"
   ]
  },
  {
   "cell_type": "code",
   "execution_count": 63,
   "metadata": {},
   "outputs": [],
   "source": [
    "# db_song_meta 저장\n",
    "song_meta_db.to_json('../0_data/db_song_meta.json', orient='records')"
   ]
  },
  {
   "cell_type": "markdown",
   "metadata": {},
   "source": [
    "### 2. playlists"
   ]
  },
  {
   "cell_type": "markdown",
   "metadata": {},
   "source": [
    "> 0. 장르정보, GN9000대분류 장르였던 노래들 삭제"
   ]
  },
  {
   "cell_type": "code",
   "execution_count": 64,
   "metadata": {},
   "outputs": [
    {
     "data": {
      "text/plain": [
       "4040"
      ]
     },
     "execution_count": 64,
     "metadata": {},
     "output_type": "execute_result"
    }
   ],
   "source": [
    "len(to_del_song_id)"
   ]
  },
  {
   "cell_type": "code",
   "execution_count": 26,
   "metadata": {},
   "outputs": [],
   "source": [
    "# song_meta에서 삭제한 to_del_song_id들을 playlists에서도 삭제\n",
    "playlists['songs'] = playlists['songs'].apply(lambda x: [song for song in x if song not in to_del_song_id])"
   ]
  },
  {
   "cell_type": "code",
   "execution_count": 27,
   "metadata": {},
   "outputs": [],
   "source": [
    "# songs가 비어 있는 행이 있는지 확인 -> 10개(아기 클래식, 뮤지컬 동화, 자장가 등)\n",
    "playlists[playlists['songs'].apply(lambda x: len(x) == 0)] \n",
    "\n",
    "# 비어 있는 행은 삭제\n",
    "playlists = playlists[playlists['songs'].apply(lambda x: len(x) != 0)] "
   ]
  },
  {
   "cell_type": "code",
   "execution_count": 28,
   "metadata": {},
   "outputs": [
    {
     "name": "stdout",
     "output_type": "stream",
     "text": [
      "<class 'pandas.core.frame.DataFrame'>\n",
      "Int64Index: 115061 entries, 0 to 115070\n",
      "Data columns (total 6 columns):\n",
      " #   Column        Non-Null Count   Dtype \n",
      "---  ------        --------------   ----- \n",
      " 0   tags          115061 non-null  object\n",
      " 1   id            115061 non-null  int64 \n",
      " 2   plylst_title  115061 non-null  object\n",
      " 3   songs         115061 non-null  object\n",
      " 4   like_cnt      115061 non-null  int64 \n",
      " 5   updt_date     115061 non-null  object\n",
      "dtypes: int64(2), object(4)\n",
      "memory usage: 6.1+ MB\n"
     ]
    }
   ],
   "source": [
    "playlists.info() # 10행 삭제"
   ]
  },
  {
   "cell_type": "markdown",
   "metadata": {},
   "source": [
    "> 1. 타이틀, 태그 불용어 처리"
   ]
  },
  {
   "cell_type": "markdown",
   "metadata": {},
   "source": [
    "- 타이틀 특수문자 제거"
   ]
  },
  {
   "cell_type": "code",
   "execution_count": 29,
   "metadata": {},
   "outputs": [],
   "source": [
    "# 이모지 제거 함수\n",
    "def replace_emoji(inputString):\n",
    "    return core.replace_emoji(inputString, replace='')\n",
    "\n",
    "# 특수문자 제거 함수\n",
    "def clean_text(inputString):\n",
    "  text_rmv = re.sub('[-=+,#/\\?:^●○.@*\\\"※~ㆍ!<>$♥❤♡☆★♪♬♩¶♨①๑｡＊②ఇ¥◈ ͡✔ ͡° ͜ʖ▶◀◎ღ✿ﾉ ;\\\\\\_■『│』ᕷⓗ‘|\\(\\)\\[\\]`\\'…》\\”\\“\\’·]',' ', inputString)\n",
    "  return text_rmv"
   ]
  },
  {
   "cell_type": "code",
   "execution_count": 30,
   "metadata": {},
   "outputs": [],
   "source": [
    "# # 이모지 제거 함수 적용\n",
    "playlists['plylst_title'] = playlists['plylst_title'].apply(replace_emoji)\n",
    "\n",
    "# 특수문자 제거 함수 적용\n",
    "playlists['plylst_title'] = playlists['plylst_title'].apply(clean_text)"
   ]
  },
  {
   "cell_type": "code",
   "execution_count": 31,
   "metadata": {},
   "outputs": [],
   "source": [
    "# 양 옆 공백, %, & 제거\n",
    "\n",
    "playlists['plylst_title'] = playlists['plylst_title'].str.strip()\n",
    "playlists['plylst_title'] = playlists['plylst_title'].str.strip('%')\n",
    "playlists['plylst_title'] = playlists['plylst_title'].str.strip('&')"
   ]
  },
  {
   "cell_type": "code",
   "execution_count": 32,
   "metadata": {},
   "outputs": [
    {
     "data": {
      "text/html": [
       "<div>\n",
       "<style scoped>\n",
       "    .dataframe tbody tr th:only-of-type {\n",
       "        vertical-align: middle;\n",
       "    }\n",
       "\n",
       "    .dataframe tbody tr th {\n",
       "        vertical-align: top;\n",
       "    }\n",
       "\n",
       "    .dataframe thead th {\n",
       "        text-align: right;\n",
       "    }\n",
       "</style>\n",
       "<table border=\"1\" class=\"dataframe\">\n",
       "  <thead>\n",
       "    <tr style=\"text-align: right;\">\n",
       "      <th></th>\n",
       "      <th>tags</th>\n",
       "      <th>id</th>\n",
       "      <th>plylst_title</th>\n",
       "      <th>songs</th>\n",
       "      <th>like_cnt</th>\n",
       "      <th>updt_date</th>\n",
       "    </tr>\n",
       "  </thead>\n",
       "  <tbody>\n",
       "    <tr>\n",
       "      <th>56134</th>\n",
       "      <td>[흥폭발]</td>\n",
       "      <td>22525</td>\n",
       "      <td>내적댄스 터져베이베       아이돌 노래노래</td>\n",
       "      <td>[108003, 594076, 297411, 97189, 35713, 445680,...</td>\n",
       "      <td>41</td>\n",
       "      <td>2018-06-15 19:24:26.000</td>\n",
       "    </tr>\n",
       "    <tr>\n",
       "      <th>59162</th>\n",
       "      <td>[가을, 설렘, 사랑]</td>\n",
       "      <td>143039</td>\n",
       "      <td>가을이다     o     곧 겨울이다     T T</td>\n",
       "      <td>[13142, 5049, 503816, 70166, 578529, 336829, 2...</td>\n",
       "      <td>1</td>\n",
       "      <td>2018-07-31 10:55:04.000</td>\n",
       "    </tr>\n",
       "  </tbody>\n",
       "</table>\n",
       "</div>"
      ],
      "text/plain": [
       "               tags      id                   plylst_title  \\\n",
       "56134         [흥폭발]   22525      내적댄스 터져베이베       아이돌 노래노래   \n",
       "59162  [가을, 설렘, 사랑]  143039  가을이다     o     곧 겨울이다     T T   \n",
       "\n",
       "                                                   songs  like_cnt  \\\n",
       "56134  [108003, 594076, 297411, 97189, 35713, 445680,...        41   \n",
       "59162  [13142, 5049, 503816, 70166, 578529, 336829, 2...         1   \n",
       "\n",
       "                     updt_date  \n",
       "56134  2018-06-15 19:24:26.000  \n",
       "59162  2018-07-31 10:55:04.000  "
      ]
     },
     "execution_count": 32,
     "metadata": {},
     "output_type": "execute_result"
    }
   ],
   "source": [
    "playlists[playlists['id'].isin([22525, 143039])]"
   ]
  },
  {
   "cell_type": "markdown",
   "metadata": {},
   "source": [
    "- 태그 특수문자 제거"
   ]
  },
  {
   "cell_type": "code",
   "execution_count": 33,
   "metadata": {},
   "outputs": [
    {
     "data": {
      "text/plain": [
       "148                            [비오는날, 비_오는_날, 휴식, 비_오는날, 비]\n",
       "285                                [상쾌해지는, 호불호없는, 모두가_흥얼흥얼]\n",
       "364        [추천, 일렉트로니카, 5월_4주차, 주간, 최신, 전지음악, 인기, 주간일렉트로니카]\n",
       "409                      [들었으면, 인디음악, 한번쯤, 이미지는_직접찍은사진, 인디]\n",
       "522       [힙합, label_crew, 랩, 국내힙합, 트렌드, 쇼미더머니, 스웨그, aom...\n",
       "                                ...                        \n",
       "114625                                   [칠_Chill, 설레는_달콤함]\n",
       "114647                     [우울, 위로, 위로가_필요할_때, 슬픔, 이별, 힘든날]\n",
       "114688    [어쿠스틱, 혼자, 발라드, 우울, 분위기, 멜로디, 띵곡들, 조용한, 자기_전, 인디]\n",
       "114703    [패션위크, 뉴욕, 도시, 갈라쇼음악, 트렌디, 팝, 편집샵, i_know_it, ...\n",
       "115068               [담시, 가족, 눈물, 그리움, 주인공, 나의_이야기, 사랑, 친구]\n",
       "Name: tags, Length: 2252, dtype: object"
      ]
     },
     "execution_count": 33,
     "metadata": {},
     "output_type": "execute_result"
    }
   ],
   "source": [
    "# 특수문자 '_'가 있는 행 찾기\n",
    "# '_'가 있는 행 찾기\n",
    "rows_with_underscore = playlists['tags'][playlists['tags'].apply(lambda x: any('_' in tag for tag in x))]\n",
    "rows_with_underscore"
   ]
  },
  {
   "cell_type": "code",
   "execution_count": 34,
   "metadata": {},
   "outputs": [],
   "source": [
    "# 특수 문자, 빈 태그를 제거하는 함수 정의\n",
    "def remove_special_characters(tag_list):\n",
    "    cleaned_tags = []\n",
    "    for tag in tag_list:\n",
    "        cleaned_tag = re.sub(r'[^\\uAC00-\\uD7A30-9a-zA-Z\\s]', '', tag).replace(\" \", \"\")\n",
    "        if cleaned_tag:\n",
    "            cleaned_tags.append(cleaned_tag)\n",
    "    return cleaned_tags\n",
    "\n",
    "# 함수 적용\n",
    "playlists['tags'] = playlists['tags'].apply(remove_special_characters)"
   ]
  },
  {
   "cell_type": "code",
   "execution_count": 35,
   "metadata": {},
   "outputs": [
    {
     "data": {
      "text/html": [
       "<div>\n",
       "<style scoped>\n",
       "    .dataframe tbody tr th:only-of-type {\n",
       "        vertical-align: middle;\n",
       "    }\n",
       "\n",
       "    .dataframe tbody tr th {\n",
       "        vertical-align: top;\n",
       "    }\n",
       "\n",
       "    .dataframe thead th {\n",
       "        text-align: right;\n",
       "    }\n",
       "</style>\n",
       "<table border=\"1\" class=\"dataframe\">\n",
       "  <thead>\n",
       "    <tr style=\"text-align: right;\">\n",
       "      <th></th>\n",
       "      <th>tags</th>\n",
       "      <th>id</th>\n",
       "      <th>plylst_title</th>\n",
       "      <th>songs</th>\n",
       "      <th>like_cnt</th>\n",
       "      <th>updt_date</th>\n",
       "    </tr>\n",
       "  </thead>\n",
       "  <tbody>\n",
       "    <tr>\n",
       "      <th>148</th>\n",
       "      <td>[비오는날, 비오는날, 휴식, 비오는날, 비]</td>\n",
       "      <td>32533</td>\n",
       "      <td>비오는날 감성 자극 듣기 좋은 어쿠스틱 피아노 발라드</td>\n",
       "      <td>[133091, 527764, 468136, 260894, 22845, 148876...</td>\n",
       "      <td>14</td>\n",
       "      <td>2020-02-16 00:56:45.000</td>\n",
       "    </tr>\n",
       "    <tr>\n",
       "      <th>285</th>\n",
       "      <td>[상쾌해지는, 호불호없는, 모두가흥얼흥얼]</td>\n",
       "      <td>151357</td>\n",
       "      <td>기분좋아지는 노래들</td>\n",
       "      <td>[270061, 158766, 573179, 272062, 37027, 245028...</td>\n",
       "      <td>0</td>\n",
       "      <td>2019-11-24 05:49:55.000</td>\n",
       "    </tr>\n",
       "    <tr>\n",
       "      <th>56921</th>\n",
       "      <td>[힙합, 흑인음악, 힙합엘이, 힙합추천, 틱톡, 외힙, HIPHOPLE]</td>\n",
       "      <td>95032</td>\n",
       "      <td>어떻게 떴냐고  답은 바로 TikTok</td>\n",
       "      <td>[253222, 270262, 301533, 136007, 238347, 13384...</td>\n",
       "      <td>7</td>\n",
       "      <td>2020-01-08 11:19:11.000</td>\n",
       "    </tr>\n",
       "    <tr>\n",
       "      <th>115068</th>\n",
       "      <td>[담시, 가족, 눈물, 그리움, 주인공, 나의이야기, 사랑, 친구]</td>\n",
       "      <td>11343</td>\n",
       "      <td>1  눈물이 앞을 가리는 나의 이야기</td>\n",
       "      <td>[50512, 249024, 250608, 371171, 229942, 694943...</td>\n",
       "      <td>4</td>\n",
       "      <td>2019-08-16 20:59:22.000</td>\n",
       "    </tr>\n",
       "  </tbody>\n",
       "</table>\n",
       "</div>"
      ],
      "text/plain": [
       "                                            tags      id  \\\n",
       "148                    [비오는날, 비오는날, 휴식, 비오는날, 비]   32533   \n",
       "285                      [상쾌해지는, 호불호없는, 모두가흥얼흥얼]  151357   \n",
       "56921   [힙합, 흑인음악, 힙합엘이, 힙합추천, 틱톡, 외힙, HIPHOPLE]   95032   \n",
       "115068     [담시, 가족, 눈물, 그리움, 주인공, 나의이야기, 사랑, 친구]   11343   \n",
       "\n",
       "                         plylst_title  \\\n",
       "148     비오는날 감성 자극 듣기 좋은 어쿠스틱 피아노 발라드   \n",
       "285                        기분좋아지는 노래들   \n",
       "56921           어떻게 떴냐고  답은 바로 TikTok   \n",
       "115068           1  눈물이 앞을 가리는 나의 이야기   \n",
       "\n",
       "                                                    songs  like_cnt  \\\n",
       "148     [133091, 527764, 468136, 260894, 22845, 148876...        14   \n",
       "285     [270061, 158766, 573179, 272062, 37027, 245028...         0   \n",
       "56921   [253222, 270262, 301533, 136007, 238347, 13384...         7   \n",
       "115068  [50512, 249024, 250608, 371171, 229942, 694943...         4   \n",
       "\n",
       "                      updt_date  \n",
       "148     2020-02-16 00:56:45.000  \n",
       "285     2019-11-24 05:49:55.000  \n",
       "56921   2020-01-08 11:19:11.000  \n",
       "115068  2019-08-16 20:59:22.000  "
      ]
     },
     "execution_count": 35,
     "metadata": {},
     "output_type": "execute_result"
    }
   ],
   "source": [
    "playlists[playlists['id'].isin([32533, 151357, 11343, 95032])]"
   ]
  },
  {
   "cell_type": "code",
   "execution_count": 36,
   "metadata": {},
   "outputs": [],
   "source": [
    "# 플레이리스트 타이틀이 1글자인 조건 만들기\n",
    "playlists_title_1str = playlists[playlists['plylst_title'].str.len() == 1]\n",
    "playlists_title_1str = list(playlists_title_1str['id'].values) # 24 -> 롹, 잠, 쿨, 힙 등이며 대부분 좋아요 0 또는 1\n",
    "# playlists[playlists['id'] == 98628]\n",
    "\n",
    "# 삭제\n",
    "playlists = playlists[playlists['plylst_title'].str.len() != 1]"
   ]
  },
  {
   "cell_type": "code",
   "execution_count": 37,
   "metadata": {},
   "outputs": [
    {
     "name": "stdout",
     "output_type": "stream",
     "text": [
      "<class 'pandas.core.frame.DataFrame'>\n",
      "Int64Index: 114697 entries, 0 to 115070\n",
      "Data columns (total 6 columns):\n",
      " #   Column        Non-Null Count   Dtype \n",
      "---  ------        --------------   ----- \n",
      " 0   tags          114697 non-null  object\n",
      " 1   id            114697 non-null  int64 \n",
      " 2   plylst_title  114697 non-null  object\n",
      " 3   songs         114697 non-null  object\n",
      " 4   like_cnt      114697 non-null  int64 \n",
      " 5   updt_date     114697 non-null  object\n",
      "dtypes: int64(2), object(4)\n",
      "memory usage: 6.1+ MB\n"
     ]
    }
   ],
   "source": [
    "# 빈 타이틀 삭제\n",
    "playlists = playlists[playlists['plylst_title'] != '']\n",
    "\n",
    "# 숫자로만 구성된 타이틀 삭제\n",
    "numeric_title_rows = playlists[playlists['plylst_title'].str.isnumeric()]\n",
    "indices_to_remove = numeric_title_rows.index\n",
    "playlists = playlists.drop(indices_to_remove)\n",
    "\n",
    "playlists.info()\n",
    "\n",
    "\n",
    "# 115061  - 114697  = 364행 삭제"
   ]
  },
  {
   "cell_type": "markdown",
   "metadata": {},
   "source": [
    "> 2. 타이틀 중복 제거"
   ]
  },
  {
   "cell_type": "code",
   "execution_count": 38,
   "metadata": {},
   "outputs": [
    {
     "data": {
      "text/html": [
       "<div>\n",
       "<style scoped>\n",
       "    .dataframe tbody tr th:only-of-type {\n",
       "        vertical-align: middle;\n",
       "    }\n",
       "\n",
       "    .dataframe tbody tr th {\n",
       "        vertical-align: top;\n",
       "    }\n",
       "\n",
       "    .dataframe thead th {\n",
       "        text-align: right;\n",
       "    }\n",
       "</style>\n",
       "<table border=\"1\" class=\"dataframe\">\n",
       "  <thead>\n",
       "    <tr style=\"text-align: right;\">\n",
       "      <th></th>\n",
       "      <th>plylst_title</th>\n",
       "      <th>mapping_plylst_cnt</th>\n",
       "    </tr>\n",
       "    <tr>\n",
       "      <th>mapping_plylst_cnt_category</th>\n",
       "      <th></th>\n",
       "      <th></th>\n",
       "    </tr>\n",
       "  </thead>\n",
       "  <tbody>\n",
       "    <tr>\n",
       "      <th>중복 없음</th>\n",
       "      <td>106515</td>\n",
       "      <td>106515</td>\n",
       "    </tr>\n",
       "    <tr>\n",
       "      <th>중복 있음</th>\n",
       "      <td>2722</td>\n",
       "      <td>2722</td>\n",
       "    </tr>\n",
       "  </tbody>\n",
       "</table>\n",
       "</div>"
      ],
      "text/plain": [
       "                             plylst_title  mapping_plylst_cnt\n",
       "mapping_plylst_cnt_category                                  \n",
       "중복 없음                              106515              106515\n",
       "중복 있음                                2722                2722"
      ]
     },
     "execution_count": 38,
     "metadata": {},
     "output_type": "execute_result"
    }
   ],
   "source": [
    "# 1. 플레이리스트 아이디(id)와 플레이리스트 명(plylst_title) 추출\n",
    "plylst_title = playlists[['id', 'plylst_title']]\n",
    "\n",
    "# 2. 플레이리스트 이름 별 플레이리스트 ID count 테이블 생성 : plylst_id_cnt\n",
    "plylst_id_cnt = plylst_title.groupby('plylst_title').id.nunique().reset_index(name = 'mapping_plylst_cnt')\n",
    "\n",
    "# 3. 플레이리스트 명 중복 구분 : 서로 다른 플레이리스트 아이디로 겹치는 플레이리스트 이름이 없으면 '중복 없음', 그 외 '중복 있음'\n",
    "plylst_id_cnt = plylst_id_cnt.assign(\n",
    "    mapping_plylst_cnt_category = pd.cut(plylst_id_cnt['mapping_plylst_cnt'], [0, 1, np.inf], labels = ['중복 없음', '중복 있음'])\n",
    ")\n",
    "plylst_id_cnt\n",
    "# [0, 1, np.inf] : 0이상 1미만 값 = 중복없음, 1이상의 값 = 중복있음\n",
    "\n",
    "# 4. 중복 구분 별 플레이리스트 수 count 테이블 생성 : plylst_id_cnt_division\n",
    "plylst_id_cnt_division = pd.DataFrame(plylst_id_cnt.groupby('mapping_plylst_cnt_category').count())\n",
    "plylst_id_cnt_division"
   ]
  },
  {
   "cell_type": "code",
   "execution_count": null,
   "metadata": {},
   "outputs": [],
   "source": [
    "# 플레이리스트 타이틀을 기준으로 merge해 중복된 플레이리스트만 확인\n",
    "playlists_dup = pd.merge(playlists, plylst_id_cnt, on='plylst_title')\n",
    "playlists_dup= playlists_dup[playlists_dup['mapping_plylst_cnt_category'] == '중복 있음']\n",
    "playlists_dup['song_cnt'] = playlists_dup['songs'].apply(len)\n",
    "playlists_dup['tag_cnt'] = playlists_dup['tags'].apply(len)\n",
    "playlists_dup.head()"
   ]
  },
  {
   "cell_type": "code",
   "execution_count": null,
   "metadata": {},
   "outputs": [],
   "source": [
    "# 같은 타이틀을 가진 플레이리스트의 노래 개수 비교\n",
    "# playlists_dup에서 타이틀별로 groupby 후 song_cnt 값들을 song_cnt_nunique(새 컬럼)에 리스트 형태로 넣은 후 중복을 없애기 위해 set 진행\n",
    "# 1의 의미는 노래 갯수가 중복되어 있다는 뜻이기 때문에 1의 갯수가 적은 지표를 기준으로 중복 플레이리스트 제거를 진행해야함\n",
    "from collections import Counter\n",
    "\n",
    "playlists_dup_song_cnt = playlists_dup.groupby('plylst_title')['song_cnt'].apply(list).reset_index()\n",
    "playlists_dup_song_cnt['song_cnt_nunique'] = playlists_dup_song_cnt['song_cnt'].apply(lambda x: len(set(x)))\n",
    "Counter(playlists_dup_song_cnt['song_cnt_nunique'])"
   ]
  },
  {
   "cell_type": "code",
   "execution_count": null,
   "metadata": {},
   "outputs": [],
   "source": [
    "# 같은 타이틀을 가진 플레이리스트의 태그 개수 비교\n",
    "\n",
    "playlists_dup_tag_cnt = playlists_dup.groupby('plylst_title')['tag_cnt'].apply(list).reset_index()\n",
    "playlists_dup_tag_cnt['tag_cnt_nunique'] = playlists_dup_tag_cnt['tag_cnt'].apply(lambda x: len(set(x)))\n",
    "Counter(playlists_dup_tag_cnt['tag_cnt_nunique'])"
   ]
  },
  {
   "cell_type": "code",
   "execution_count": null,
   "metadata": {},
   "outputs": [],
   "source": [
    "# 같은 타이틀을 가진 플레이리스트의 좋아요 비교\n",
    "\n",
    "playlists_dup_like_cnt = playlists_dup.groupby('plylst_title')['like_cnt'].apply(list).reset_index()\n",
    "playlists_dup_like_cnt['like_cnt_nunique'] = playlists_dup_like_cnt['like_cnt'].apply(lambda x: len(set(x)))\n",
    "Counter(playlists_dup_like_cnt['like_cnt_nunique'])"
   ]
  },
  {
   "cell_type": "markdown",
   "metadata": {},
   "source": [
    "- 플레이리스트 타이틀이 중복인 플레이리스트만 따로 모으고\n",
    "- 그 중복 플리모음 중 노래갯수가 가장 많은 하나만 남겨두고\n",
    "- 원래 train의 중복 없음만 따로 모아 중복모음과 concat"
   ]
  },
  {
   "cell_type": "code",
   "execution_count": null,
   "metadata": {},
   "outputs": [],
   "source": [
    "# train에 중복 갯수, 중복 여부 컬럼 추가, 플레이리스트 내 곡 갯수 추가\n",
    "playlists_add_col = pd.merge(playlists, plylst_id_cnt, on='plylst_title')\n",
    "playlists_add_col['song_cnt'] = playlists_add_col['songs'].apply(lambda x : len(x))\n",
    "\n",
    "# 매핑갯수, 타이틀, 플리 내 노래 갯수, like_cnt 내림차순 정렬\n",
    "playlists_filter = playlists_add_col.sort_values(['mapping_plylst_cnt', 'plylst_title', 'song_cnt', 'like_cnt'], ascending=False)\n",
    "playlists_filter"
   ]
  },
  {
   "cell_type": "code",
   "execution_count": 44,
   "metadata": {},
   "outputs": [
    {
     "data": {
      "text/plain": [
       "2722"
      ]
     },
     "execution_count": 44,
     "metadata": {},
     "output_type": "execute_result"
    }
   ],
   "source": [
    "playlists_dup = playlists_filter[playlists_filter['mapping_plylst_cnt_category'] == '중복 있음'] # 중복 플리 모음\n",
    "playlists_dup['plylst_title'].nunique() # 중복된 플레이리스트의 유니크 타이틀 갯수 : 2722"
   ]
  },
  {
   "cell_type": "code",
   "execution_count": null,
   "metadata": {},
   "outputs": [],
   "source": [
    "playlists_dup['tag_cnt'] = playlists_dup['tags'].apply(len)\n",
    "playlists_dup.head()"
   ]
  },
  {
   "cell_type": "code",
   "execution_count": null,
   "metadata": {},
   "outputs": [],
   "source": [
    "# playlists_dup 중 각 플리 제목 별 노래갯수가 가장 많은 하나만 남긴다\n",
    "playlists_dup_filter = pd.DataFrame(playlists_dup[playlists_dup.groupby('plylst_title')['song_cnt'].transform(max) == playlists_dup['song_cnt']]) # 3572 \n",
    "playlists_dup_filter = pd.DataFrame(playlists_dup_filter[playlists_dup_filter.groupby('plylst_title')['like_cnt'].transform(max) == playlists_dup_filter['like_cnt']]) # 2928 \n",
    "playlists_dup_filter = pd.DataFrame(playlists_dup_filter[playlists_dup_filter.groupby('plylst_title')['tag_cnt'].transform(max) == playlists_dup_filter['tag_cnt']]) # 2909 \n",
    "playlists_dup_filter = pd.DataFrame(playlists_dup_filter[playlists_dup_filter.groupby('plylst_title')['updt_date'].transform(max) == playlists_dup_filter['updt_date']]) # 2748 \n",
    "playlists_dup_filter"
   ]
  },
  {
   "cell_type": "code",
   "execution_count": 47,
   "metadata": {},
   "outputs": [
    {
     "data": {
      "text/html": [
       "<div>\n",
       "<style scoped>\n",
       "    .dataframe tbody tr th:only-of-type {\n",
       "        vertical-align: middle;\n",
       "    }\n",
       "\n",
       "    .dataframe tbody tr th {\n",
       "        vertical-align: top;\n",
       "    }\n",
       "\n",
       "    .dataframe thead th {\n",
       "        text-align: right;\n",
       "    }\n",
       "</style>\n",
       "<table border=\"1\" class=\"dataframe\">\n",
       "  <thead>\n",
       "    <tr style=\"text-align: right;\">\n",
       "      <th></th>\n",
       "      <th>tags</th>\n",
       "      <th>id</th>\n",
       "      <th>plylst_title</th>\n",
       "      <th>songs</th>\n",
       "      <th>like_cnt</th>\n",
       "      <th>updt_date</th>\n",
       "      <th>mapping_plylst_cnt</th>\n",
       "      <th>mapping_plylst_cnt_category</th>\n",
       "      <th>song_cnt</th>\n",
       "      <th>tag_cnt</th>\n",
       "    </tr>\n",
       "  </thead>\n",
       "  <tbody>\n",
       "    <tr>\n",
       "      <th>50436</th>\n",
       "      <td>[여름]</td>\n",
       "      <td>7524</td>\n",
       "      <td>qqqa</td>\n",
       "      <td>[522825, 455668, 549178, 407828, 343974]</td>\n",
       "      <td>1</td>\n",
       "      <td>2015-11-04 17:51:14.000</td>\n",
       "      <td>3</td>\n",
       "      <td>중복 있음</td>\n",
       "      <td>5</td>\n",
       "      <td>1</td>\n",
       "    </tr>\n",
       "    <tr>\n",
       "      <th>50437</th>\n",
       "      <td>[여름]</td>\n",
       "      <td>43031</td>\n",
       "      <td>qqqa</td>\n",
       "      <td>[522825, 455668, 549178, 407828, 343974]</td>\n",
       "      <td>1</td>\n",
       "      <td>2015-11-04 17:51:14.000</td>\n",
       "      <td>3</td>\n",
       "      <td>중복 있음</td>\n",
       "      <td>5</td>\n",
       "      <td>1</td>\n",
       "    </tr>\n",
       "  </tbody>\n",
       "</table>\n",
       "</div>"
      ],
      "text/plain": [
       "       tags     id plylst_title                                     songs  \\\n",
       "50436  [여름]   7524         qqqa  [522825, 455668, 549178, 407828, 343974]   \n",
       "50437  [여름]  43031         qqqa  [522825, 455668, 549178, 407828, 343974]   \n",
       "\n",
       "       like_cnt                updt_date  mapping_plylst_cnt  \\\n",
       "50436         1  2015-11-04 17:51:14.000                   3   \n",
       "50437         1  2015-11-04 17:51:14.000                   3   \n",
       "\n",
       "      mapping_plylst_cnt_category  song_cnt  tag_cnt  \n",
       "50436                       중복 있음         5        1  \n",
       "50437                       중복 있음         5        1  "
      ]
     },
     "execution_count": 47,
     "metadata": {},
     "output_type": "execute_result"
    }
   ],
   "source": [
    "playlists_dup_filter[playlists_dup_filter['plylst_title'] == 'qqqa'] # 필터링 되지 않은 중복 타이틀은 플레이리스트 자체가 같음"
   ]
  },
  {
   "cell_type": "code",
   "execution_count": 48,
   "metadata": {},
   "outputs": [],
   "source": [
    "# 타이틀이 같은 플레이리스트 중 하나만 남긴다\n",
    "playlists_dup_filter = pd.DataFrame(playlists_dup_filter.groupby('plylst_title', group_keys=False).apply(lambda x: x.loc[x['song_cnt'].idxmax()]))\n",
    "playlists_dup_filter = playlists_dup_filter.reset_index(drop=True) # 2722"
   ]
  },
  {
   "cell_type": "code",
   "execution_count": 50,
   "metadata": {},
   "outputs": [
    {
     "data": {
      "text/html": [
       "<div>\n",
       "<style scoped>\n",
       "    .dataframe tbody tr th:only-of-type {\n",
       "        vertical-align: middle;\n",
       "    }\n",
       "\n",
       "    .dataframe tbody tr th {\n",
       "        vertical-align: top;\n",
       "    }\n",
       "\n",
       "    .dataframe thead th {\n",
       "        text-align: right;\n",
       "    }\n",
       "</style>\n",
       "<table border=\"1\" class=\"dataframe\">\n",
       "  <thead>\n",
       "    <tr style=\"text-align: right;\">\n",
       "      <th></th>\n",
       "      <th>plylst_title</th>\n",
       "      <th>mapping_plylst_cnt</th>\n",
       "    </tr>\n",
       "    <tr>\n",
       "      <th>mapping_plylst_cnt_category</th>\n",
       "      <th></th>\n",
       "      <th></th>\n",
       "    </tr>\n",
       "  </thead>\n",
       "  <tbody>\n",
       "    <tr>\n",
       "      <th>중복 없음</th>\n",
       "      <td>2722</td>\n",
       "      <td>2722</td>\n",
       "    </tr>\n",
       "    <tr>\n",
       "      <th>중복 있음</th>\n",
       "      <td>0</td>\n",
       "      <td>0</td>\n",
       "    </tr>\n",
       "  </tbody>\n",
       "</table>\n",
       "</div>"
      ],
      "text/plain": [
       "                             plylst_title  mapping_plylst_cnt\n",
       "mapping_plylst_cnt_category                                  \n",
       "중복 없음                                2722                2722\n",
       "중복 있음                                   0                   0"
      ]
     },
     "execution_count": 50,
     "metadata": {},
     "output_type": "execute_result"
    }
   ],
   "source": [
    "# playlists_dup_filter 중 중복 여부 확인\n",
    "\n",
    "# 1. 플레이리스트 아이디(id)와 플레이리스트 명(plylst_title) 추출\n",
    "plylst_title_2 = playlists_dup_filter[['id', 'plylst_title']]\n",
    "\n",
    "# 2. 플레이리스트 이름 별 플레이리스트 ID count 테이블 생성 : plylst_id_cnt\n",
    "plylst_id_cnt_2 = plylst_title_2.groupby('plylst_title').id.nunique().reset_index(name = 'mapping_plylst_cnt')\n",
    "\n",
    "# 3. 플레이리스트 명 중복 구분 : 서로 다른 플레이리스트 아이디로 겹치는 플레이리스트 이름이 없으면 '중복 없음', 그 외 '중복 있음'\n",
    "plylst_id_cnt_2 = plylst_id_cnt_2.assign(\n",
    "    mapping_plylst_cnt_category = pd.cut(plylst_id_cnt_2['mapping_plylst_cnt'], [0, 1, np.inf], labels = ['중복 없음', '중복 있음'])\n",
    ")\n",
    "plylst_id_cnt_2\n",
    "# [0, 1, np.inf] : 0이상 1미만 값 = 중복없음, 1이상의 값 = 중복있음\n",
    "\n",
    "# 4. 중복 구분 별 플레이리스트 수 count 테이블 생성 : plylst_id_cnt_division\n",
    "plylst_id_cnt_division_2 = pd.DataFrame(plylst_id_cnt_2.groupby('mapping_plylst_cnt_category').count())\n",
    "plylst_id_cnt_division_2"
   ]
  },
  {
   "cell_type": "code",
   "execution_count": null,
   "metadata": {},
   "outputs": [],
   "source": [
    "# 중복 없음 파일만 만들기\n",
    "playlists_no_dup = pd.merge(playlists, plylst_id_cnt, on='plylst_title')\n",
    "playlists_no_dup = playlists_no_dup[playlists_no_dup['mapping_plylst_cnt_category'] == '중복 없음']\n",
    "playlists_no_dup # 106515행"
   ]
  },
  {
   "cell_type": "code",
   "execution_count": 52,
   "metadata": {},
   "outputs": [
    {
     "name": "stdout",
     "output_type": "stream",
     "text": [
      "<class 'pandas.core.frame.DataFrame'>\n",
      "Int64Index: 109237 entries, 0 to 114696\n",
      "Data columns (total 6 columns):\n",
      " #   Column        Non-Null Count   Dtype \n",
      "---  ------        --------------   ----- \n",
      " 0   tags          109237 non-null  object\n",
      " 1   id            109237 non-null  int64 \n",
      " 2   plylst_title  109237 non-null  object\n",
      " 3   songs         109237 non-null  object\n",
      " 4   like_cnt      109237 non-null  int64 \n",
      " 5   updt_date     109237 non-null  object\n",
      "dtypes: int64(2), object(4)\n",
      "memory usage: 5.8+ MB\n"
     ]
    }
   ],
   "source": [
    "playlists_dup_proc = pd.concat([playlists_dup_filter, playlists_no_dup], axis=0)\n",
    "playlists_dup_proc = playlists_dup_proc.iloc[:, :6]\n",
    "playlists_dup_proc.info()\n",
    "\n",
    "# 2722+106515 =109237\n",
    "# 114697 - 109237 = 타이틀 중복 제거로 5460행 삭제"
   ]
  },
  {
   "cell_type": "code",
   "execution_count": 53,
   "metadata": {},
   "outputs": [],
   "source": [
    "playlists_copy = playlists_dup_proc.copy()"
   ]
  },
  {
   "cell_type": "code",
   "execution_count": 54,
   "metadata": {},
   "outputs": [
    {
     "name": "stdout",
     "output_type": "stream",
     "text": [
      "<class 'pandas.core.frame.DataFrame'>\n",
      "Int64Index: 109237 entries, 0 to 114696\n",
      "Data columns (total 6 columns):\n",
      " #   Column        Non-Null Count   Dtype \n",
      "---  ------        --------------   ----- \n",
      " 0   tags          109237 non-null  object\n",
      " 1   id            109237 non-null  int64 \n",
      " 2   plylst_title  109237 non-null  object\n",
      " 3   songs         109237 non-null  object\n",
      " 4   like_cnt      109237 non-null  int64 \n",
      " 5   updt_date     109237 non-null  object\n",
      "dtypes: int64(2), object(4)\n",
      "memory usage: 5.8+ MB\n"
     ]
    }
   ],
   "source": [
    "playlists_copy.info()"
   ]
  },
  {
   "cell_type": "markdown",
   "metadata": {},
   "source": [
    "> 3. 플레이리스트 별 노래 개수, 좋아요 개수 이상치 행 날리기"
   ]
  },
  {
   "cell_type": "markdown",
   "metadata": {},
   "source": [
    "- 노래 개수 5~104개 가진 플레이리스트만 남기기 <- box & whisker plot(수염범위)"
   ]
  },
  {
   "cell_type": "code",
   "execution_count": 55,
   "metadata": {},
   "outputs": [
    {
     "data": {
      "text/plain": [
       "count    109237.000000\n",
       "mean         45.949321\n",
       "std          44.216494\n",
       "min           1.000000\n",
       "25%          19.000000\n",
       "50%          29.000000\n",
       "75%          53.000000\n",
       "max         200.000000\n",
       "Name: songs_cnt, dtype: float64"
      ]
     },
     "execution_count": 55,
     "metadata": {},
     "output_type": "execute_result"
    }
   ],
   "source": [
    "playlists_copy['songs_cnt'] = playlists_copy['songs'].apply(len)\n",
    "playlists_copy['songs_cnt'].describe()"
   ]
  },
  {
   "cell_type": "code",
   "execution_count": 56,
   "metadata": {},
   "outputs": [
    {
     "name": "stdout",
     "output_type": "stream",
     "text": [
      "-32.0\n",
      "104.0\n"
     ]
    }
   ],
   "source": [
    "Q1 = 19\n",
    "Q3 = 53\n",
    "IQR = Q3 - Q1\n",
    "\n",
    "print(Q1-(1.5*IQR))\n",
    "print(Q3+(1.5*IQR))"
   ]
  },
  {
   "cell_type": "code",
   "execution_count": 57,
   "metadata": {},
   "outputs": [
    {
     "name": "stdout",
     "output_type": "stream",
     "text": [
      "<class 'pandas.core.frame.DataFrame'>\n",
      "Int64Index: 98973 entries, 0 to 114695\n",
      "Data columns (total 7 columns):\n",
      " #   Column        Non-Null Count  Dtype \n",
      "---  ------        --------------  ----- \n",
      " 0   tags          98973 non-null  object\n",
      " 1   id            98973 non-null  int64 \n",
      " 2   plylst_title  98973 non-null  object\n",
      " 3   songs         98973 non-null  object\n",
      " 4   like_cnt      98973 non-null  int64 \n",
      " 5   updt_date     98973 non-null  object\n",
      " 6   songs_cnt     98973 non-null  int64 \n",
      "dtypes: int64(3), object(4)\n",
      "memory usage: 6.0+ MB\n"
     ]
    }
   ],
   "source": [
    "playlists_copy['songs_cnt'] = playlists_copy['songs'].apply(lambda x : len(x))\n",
    "playlists_song_cut = playlists_copy[(playlists_copy['songs_cnt'] >= 5) & (playlists_copy['songs_cnt'] < 105) ]  # 5~104개만 남기기\n",
    "playlists_song_cut.info() # 109237-98973 = 10264행 삭제"
   ]
  },
  {
   "cell_type": "markdown",
   "metadata": {},
   "source": [
    "- like_cnt 7개 이하 삭제 (like_cnt 50% = 7)"
   ]
  },
  {
   "cell_type": "code",
   "execution_count": 58,
   "metadata": {},
   "outputs": [
    {
     "data": {
      "text/plain": [
       "count    98973.000000\n",
       "mean        77.190284\n",
       "std        437.540113\n",
       "min          0.000000\n",
       "25%          2.000000\n",
       "50%          7.000000\n",
       "75%         22.000000\n",
       "max      53211.000000\n",
       "Name: like_cnt, dtype: float64"
      ]
     },
     "execution_count": 58,
     "metadata": {},
     "output_type": "execute_result"
    }
   ],
   "source": [
    "playlists_song_cut['like_cnt'].describe()"
   ]
  },
  {
   "cell_type": "code",
   "execution_count": 59,
   "metadata": {},
   "outputs": [
    {
     "name": "stdout",
     "output_type": "stream",
     "text": [
      "-28.0\n",
      "52.0\n"
     ]
    }
   ],
   "source": [
    "Q1 = 2\n",
    "Q3 = 22\n",
    "IQR = Q3 - Q1\n",
    "\n",
    "print(Q1-(1.5*IQR))\n",
    "print(Q3+(1.5*IQR))"
   ]
  },
  {
   "cell_type": "code",
   "execution_count": 61,
   "metadata": {},
   "outputs": [],
   "source": [
    "playlists_song_like_cut = playlists_song_cut[playlists_song_cut['like_cnt'] >= 8]"
   ]
  },
  {
   "cell_type": "code",
   "execution_count": 62,
   "metadata": {},
   "outputs": [
    {
     "name": "stdout",
     "output_type": "stream",
     "text": [
      "<class 'pandas.core.frame.DataFrame'>\n",
      "Int64Index: 48116 entries, 8 to 114693\n",
      "Data columns (total 6 columns):\n",
      " #   Column        Non-Null Count  Dtype \n",
      "---  ------        --------------  ----- \n",
      " 0   tags          48116 non-null  object\n",
      " 1   id            48116 non-null  int64 \n",
      " 2   plylst_title  48116 non-null  object\n",
      " 3   songs         48116 non-null  object\n",
      " 4   like_cnt      48116 non-null  int64 \n",
      " 5   updt_date     48116 non-null  object\n",
      "dtypes: int64(2), object(4)\n",
      "memory usage: 2.6+ MB\n"
     ]
    }
   ],
   "source": [
    "playlists_song_like_cut = playlists_song_like_cut.iloc[:, :6]\n",
    "playlists_song_like_cut.info()# 98973 - 48116 = 50857행 삭제"
   ]
  },
  {
   "cell_type": "code",
   "execution_count": 81,
   "metadata": {},
   "outputs": [
    {
     "name": "stdout",
     "output_type": "stream",
     "text": [
      "<class 'pandas.core.frame.DataFrame'>\n",
      "Int64Index: 48116 entries, 8 to 114693\n",
      "Data columns (total 6 columns):\n",
      " #   Column        Non-Null Count  Dtype \n",
      "---  ------        --------------  ----- \n",
      " 0   tags          48116 non-null  object\n",
      " 1   id            48116 non-null  int64 \n",
      " 2   plylst_title  48116 non-null  object\n",
      " 3   songs         48116 non-null  object\n",
      " 4   like_cnt      48116 non-null  int64 \n",
      " 5   updt_date     48116 non-null  object\n",
      "dtypes: int64(2), object(4)\n",
      "memory usage: 2.6+ MB\n"
     ]
    }
   ],
   "source": [
    "playlists_copy_cnt = playlists_song_like_cut.copy()\n",
    "playlists_copy_cnt.info()"
   ]
  },
  {
   "cell_type": "markdown",
   "metadata": {},
   "source": [
    "> 4. song, 태그 빈도수에 따라 리스트에서 빼기 -> 리스트가 비워져있으면 행 날리기"
   ]
  },
  {
   "cell_type": "markdown",
   "metadata": {},
   "source": [
    "- 노래 빈도수와 좋아요 상관관계"
   ]
  },
  {
   "cell_type": "code",
   "execution_count": 82,
   "metadata": {},
   "outputs": [
    {
     "name": "stderr",
     "output_type": "stream",
     "text": [
      "C:\\Users\\cg063\\AppData\\Local\\Temp\\ipykernel_11468\\3556108467.py:2: FutureWarning: The default value of numeric_only in DataFrameGroupBy.sum is deprecated. In a future version, numeric_only will default to False. Either specify numeric_only or select only columns which should be valid for the function.\n",
      "  ply_song_like = playlists_copy_cnt.explode('songs').groupby('songs').sum()['like_cnt']\n"
     ]
    },
    {
     "data": {
      "text/html": [
       "<div>\n",
       "<style scoped>\n",
       "    .dataframe tbody tr th:only-of-type {\n",
       "        vertical-align: middle;\n",
       "    }\n",
       "\n",
       "    .dataframe tbody tr th {\n",
       "        vertical-align: top;\n",
       "    }\n",
       "\n",
       "    .dataframe thead th {\n",
       "        text-align: right;\n",
       "    }\n",
       "</style>\n",
       "<table border=\"1\" class=\"dataframe\">\n",
       "  <thead>\n",
       "    <tr style=\"text-align: right;\">\n",
       "      <th></th>\n",
       "      <th>songs</th>\n",
       "      <th>like_cnt</th>\n",
       "    </tr>\n",
       "  </thead>\n",
       "  <tbody>\n",
       "    <tr>\n",
       "      <th>0</th>\n",
       "      <td>0</td>\n",
       "      <td>27</td>\n",
       "    </tr>\n",
       "    <tr>\n",
       "      <th>1</th>\n",
       "      <td>3</td>\n",
       "      <td>1650</td>\n",
       "    </tr>\n",
       "    <tr>\n",
       "      <th>2</th>\n",
       "      <td>4</td>\n",
       "      <td>8</td>\n",
       "    </tr>\n",
       "    <tr>\n",
       "      <th>3</th>\n",
       "      <td>5</td>\n",
       "      <td>382</td>\n",
       "    </tr>\n",
       "    <tr>\n",
       "      <th>4</th>\n",
       "      <td>6</td>\n",
       "      <td>24</td>\n",
       "    </tr>\n",
       "    <tr>\n",
       "      <th>...</th>\n",
       "      <td>...</td>\n",
       "      <td>...</td>\n",
       "    </tr>\n",
       "    <tr>\n",
       "      <th>384351</th>\n",
       "      <td>707970</td>\n",
       "      <td>1309</td>\n",
       "    </tr>\n",
       "    <tr>\n",
       "      <th>384352</th>\n",
       "      <td>707978</td>\n",
       "      <td>642</td>\n",
       "    </tr>\n",
       "    <tr>\n",
       "      <th>384353</th>\n",
       "      <td>707979</td>\n",
       "      <td>72</td>\n",
       "    </tr>\n",
       "    <tr>\n",
       "      <th>384354</th>\n",
       "      <td>707980</td>\n",
       "      <td>8</td>\n",
       "    </tr>\n",
       "    <tr>\n",
       "      <th>384355</th>\n",
       "      <td>707986</td>\n",
       "      <td>89</td>\n",
       "    </tr>\n",
       "  </tbody>\n",
       "</table>\n",
       "<p>384356 rows × 2 columns</p>\n",
       "</div>"
      ],
      "text/plain": [
       "         songs  like_cnt\n",
       "0            0        27\n",
       "1            3      1650\n",
       "2            4         8\n",
       "3            5       382\n",
       "4            6        24\n",
       "...        ...       ...\n",
       "384351  707970      1309\n",
       "384352  707978       642\n",
       "384353  707979        72\n",
       "384354  707980         8\n",
       "384355  707986        89\n",
       "\n",
       "[384356 rows x 2 columns]"
      ]
     },
     "execution_count": 82,
     "metadata": {},
     "output_type": "execute_result"
    }
   ],
   "source": [
    "# 노래 별 좋아요 수 확인\n",
    "ply_song_like = playlists_copy_cnt.explode('songs').groupby('songs').sum()['like_cnt']\n",
    "ply_song_like = pd.DataFrame(ply_song_like).reset_index()\n",
    "ply_song_like"
   ]
  },
  {
   "cell_type": "code",
   "execution_count": 66,
   "metadata": {},
   "outputs": [
    {
     "data": {
      "text/html": [
       "<div>\n",
       "<style scoped>\n",
       "    .dataframe tbody tr th:only-of-type {\n",
       "        vertical-align: middle;\n",
       "    }\n",
       "\n",
       "    .dataframe tbody tr th {\n",
       "        vertical-align: top;\n",
       "    }\n",
       "\n",
       "    .dataframe thead th {\n",
       "        text-align: right;\n",
       "    }\n",
       "</style>\n",
       "<table border=\"1\" class=\"dataframe\">\n",
       "  <thead>\n",
       "    <tr style=\"text-align: right;\">\n",
       "      <th></th>\n",
       "      <th>songs</th>\n",
       "      <th>freq</th>\n",
       "    </tr>\n",
       "  </thead>\n",
       "  <tbody>\n",
       "    <tr>\n",
       "      <th>0</th>\n",
       "      <td>0</td>\n",
       "      <td>1</td>\n",
       "    </tr>\n",
       "    <tr>\n",
       "      <th>1</th>\n",
       "      <td>3</td>\n",
       "      <td>5</td>\n",
       "    </tr>\n",
       "    <tr>\n",
       "      <th>2</th>\n",
       "      <td>4</td>\n",
       "      <td>1</td>\n",
       "    </tr>\n",
       "    <tr>\n",
       "      <th>3</th>\n",
       "      <td>5</td>\n",
       "      <td>2</td>\n",
       "    </tr>\n",
       "    <tr>\n",
       "      <th>4</th>\n",
       "      <td>6</td>\n",
       "      <td>1</td>\n",
       "    </tr>\n",
       "    <tr>\n",
       "      <th>...</th>\n",
       "      <td>...</td>\n",
       "      <td>...</td>\n",
       "    </tr>\n",
       "    <tr>\n",
       "      <th>384351</th>\n",
       "      <td>707970</td>\n",
       "      <td>3</td>\n",
       "    </tr>\n",
       "    <tr>\n",
       "      <th>384352</th>\n",
       "      <td>707978</td>\n",
       "      <td>2</td>\n",
       "    </tr>\n",
       "    <tr>\n",
       "      <th>384353</th>\n",
       "      <td>707979</td>\n",
       "      <td>2</td>\n",
       "    </tr>\n",
       "    <tr>\n",
       "      <th>384354</th>\n",
       "      <td>707980</td>\n",
       "      <td>1</td>\n",
       "    </tr>\n",
       "    <tr>\n",
       "      <th>384355</th>\n",
       "      <td>707986</td>\n",
       "      <td>5</td>\n",
       "    </tr>\n",
       "  </tbody>\n",
       "</table>\n",
       "<p>384356 rows × 2 columns</p>\n",
       "</div>"
      ],
      "text/plain": [
       "         songs  freq\n",
       "0            0     1\n",
       "1            3     5\n",
       "2            4     1\n",
       "3            5     2\n",
       "4            6     1\n",
       "...        ...   ...\n",
       "384351  707970     3\n",
       "384352  707978     2\n",
       "384353  707979     2\n",
       "384354  707980     1\n",
       "384355  707986     5\n",
       "\n",
       "[384356 rows x 2 columns]"
      ]
     },
     "execution_count": 66,
     "metadata": {},
     "output_type": "execute_result"
    }
   ],
   "source": [
    "# 노래 사용 빈도수 확인\n",
    "ply_song_freq = playlists_copy_cnt.explode('songs').groupby('songs').count()['id']\n",
    "ply_song_freq = pd.DataFrame(ply_song_freq).reset_index()\n",
    "ply_song_freq.rename(columns={'id':'freq'}, inplace=True)\n",
    "ply_song_freq"
   ]
  },
  {
   "cell_type": "code",
   "execution_count": 83,
   "metadata": {},
   "outputs": [
    {
     "data": {
      "text/html": [
       "<div>\n",
       "<style scoped>\n",
       "    .dataframe tbody tr th:only-of-type {\n",
       "        vertical-align: middle;\n",
       "    }\n",
       "\n",
       "    .dataframe tbody tr th {\n",
       "        vertical-align: top;\n",
       "    }\n",
       "\n",
       "    .dataframe thead th {\n",
       "        text-align: right;\n",
       "    }\n",
       "</style>\n",
       "<table border=\"1\" class=\"dataframe\">\n",
       "  <thead>\n",
       "    <tr style=\"text-align: right;\">\n",
       "      <th></th>\n",
       "      <th>tags</th>\n",
       "      <th>id</th>\n",
       "      <th>plylst_title</th>\n",
       "      <th>songs</th>\n",
       "      <th>like_cnt</th>\n",
       "      <th>updt_date</th>\n",
       "    </tr>\n",
       "  </thead>\n",
       "  <tbody>\n",
       "    <tr>\n",
       "      <th>17738</th>\n",
       "      <td>[추울때, 어쿠스틱, 잔잔한, 새벽감성, 따뜻한, 티타임, 밤공기, 서정적인, 독서감상]</td>\n",
       "      <td>136386</td>\n",
       "      <td>독서할때 들으면 좋은 서정적이고 따듯한 팝송</td>\n",
       "      <td>[562883, 696713, 537409, 464248, 430558, 59447...</td>\n",
       "      <td>19</td>\n",
       "      <td>2019-10-30 08:09:50.000</td>\n",
       "    </tr>\n",
       "    <tr>\n",
       "      <th>30493</th>\n",
       "      <td>[감성, 겨울저녁, 새벽, 해외팝, 휴식, 팝]</td>\n",
       "      <td>11170</td>\n",
       "      <td>다가오는 겨울  새벽 내내 틀어놓고 싶은 노래</td>\n",
       "      <td>[314302, 316407, 553161, 599409, 671675, 17680...</td>\n",
       "      <td>623</td>\n",
       "      <td>2019-11-25 09:55:34.000</td>\n",
       "    </tr>\n",
       "  </tbody>\n",
       "</table>\n",
       "</div>"
      ],
      "text/plain": [
       "                                                    tags      id  \\\n",
       "17738  [추울때, 어쿠스틱, 잔잔한, 새벽감성, 따뜻한, 티타임, 밤공기, 서정적인, 독서감상]  136386   \n",
       "30493                         [감성, 겨울저녁, 새벽, 해외팝, 휴식, 팝]   11170   \n",
       "\n",
       "                    plylst_title  \\\n",
       "17738   독서할때 들으면 좋은 서정적이고 따듯한 팝송   \n",
       "30493  다가오는 겨울  새벽 내내 틀어놓고 싶은 노래   \n",
       "\n",
       "                                                   songs  like_cnt  \\\n",
       "17738  [562883, 696713, 537409, 464248, 430558, 59447...        19   \n",
       "30493  [314302, 316407, 553161, 599409, 671675, 17680...       623   \n",
       "\n",
       "                     updt_date  \n",
       "17738  2019-10-30 08:09:50.000  \n",
       "30493  2019-11-25 09:55:34.000  "
      ]
     },
     "execution_count": 83,
     "metadata": {},
     "output_type": "execute_result"
    }
   ],
   "source": [
    "playlists_copy_cnt[playlists_copy_cnt['songs'].apply(lambda x: 707978 in x)] # 2번 사용됨"
   ]
  },
  {
   "cell_type": "code",
   "execution_count": 84,
   "metadata": {},
   "outputs": [
    {
     "data": {
      "text/html": [
       "<div>\n",
       "<style scoped>\n",
       "    .dataframe tbody tr th:only-of-type {\n",
       "        vertical-align: middle;\n",
       "    }\n",
       "\n",
       "    .dataframe tbody tr th {\n",
       "        vertical-align: top;\n",
       "    }\n",
       "\n",
       "    .dataframe thead th {\n",
       "        text-align: right;\n",
       "    }\n",
       "</style>\n",
       "<table border=\"1\" class=\"dataframe\">\n",
       "  <thead>\n",
       "    <tr style=\"text-align: right;\">\n",
       "      <th></th>\n",
       "      <th>songs</th>\n",
       "      <th>like_cnt</th>\n",
       "      <th>freq</th>\n",
       "    </tr>\n",
       "  </thead>\n",
       "  <tbody>\n",
       "    <tr>\n",
       "      <th>0</th>\n",
       "      <td>0</td>\n",
       "      <td>27</td>\n",
       "      <td>1</td>\n",
       "    </tr>\n",
       "    <tr>\n",
       "      <th>1</th>\n",
       "      <td>3</td>\n",
       "      <td>1650</td>\n",
       "      <td>5</td>\n",
       "    </tr>\n",
       "    <tr>\n",
       "      <th>2</th>\n",
       "      <td>4</td>\n",
       "      <td>8</td>\n",
       "      <td>1</td>\n",
       "    </tr>\n",
       "    <tr>\n",
       "      <th>3</th>\n",
       "      <td>5</td>\n",
       "      <td>382</td>\n",
       "      <td>2</td>\n",
       "    </tr>\n",
       "    <tr>\n",
       "      <th>4</th>\n",
       "      <td>6</td>\n",
       "      <td>24</td>\n",
       "      <td>1</td>\n",
       "    </tr>\n",
       "    <tr>\n",
       "      <th>...</th>\n",
       "      <td>...</td>\n",
       "      <td>...</td>\n",
       "      <td>...</td>\n",
       "    </tr>\n",
       "    <tr>\n",
       "      <th>384351</th>\n",
       "      <td>707970</td>\n",
       "      <td>1309</td>\n",
       "      <td>3</td>\n",
       "    </tr>\n",
       "    <tr>\n",
       "      <th>384352</th>\n",
       "      <td>707978</td>\n",
       "      <td>642</td>\n",
       "      <td>2</td>\n",
       "    </tr>\n",
       "    <tr>\n",
       "      <th>384353</th>\n",
       "      <td>707979</td>\n",
       "      <td>72</td>\n",
       "      <td>2</td>\n",
       "    </tr>\n",
       "    <tr>\n",
       "      <th>384354</th>\n",
       "      <td>707980</td>\n",
       "      <td>8</td>\n",
       "      <td>1</td>\n",
       "    </tr>\n",
       "    <tr>\n",
       "      <th>384355</th>\n",
       "      <td>707986</td>\n",
       "      <td>89</td>\n",
       "      <td>5</td>\n",
       "    </tr>\n",
       "  </tbody>\n",
       "</table>\n",
       "<p>384356 rows × 3 columns</p>\n",
       "</div>"
      ],
      "text/plain": [
       "         songs  like_cnt  freq\n",
       "0            0        27     1\n",
       "1            3      1650     5\n",
       "2            4         8     1\n",
       "3            5       382     2\n",
       "4            6        24     1\n",
       "...        ...       ...   ...\n",
       "384351  707970      1309     3\n",
       "384352  707978       642     2\n",
       "384353  707979        72     2\n",
       "384354  707980         8     1\n",
       "384355  707986        89     5\n",
       "\n",
       "[384356 rows x 3 columns]"
      ]
     },
     "execution_count": 84,
     "metadata": {},
     "output_type": "execute_result"
    }
   ],
   "source": [
    "ply_corr_song = pd.merge(ply_song_like, ply_song_freq, how='left', on='songs')\n",
    "ply_corr_song"
   ]
  },
  {
   "cell_type": "code",
   "execution_count": 85,
   "metadata": {},
   "outputs": [
    {
     "data": {
      "text/html": [
       "<div>\n",
       "<style scoped>\n",
       "    .dataframe tbody tr th:only-of-type {\n",
       "        vertical-align: middle;\n",
       "    }\n",
       "\n",
       "    .dataframe tbody tr th {\n",
       "        vertical-align: top;\n",
       "    }\n",
       "\n",
       "    .dataframe thead th {\n",
       "        text-align: right;\n",
       "    }\n",
       "</style>\n",
       "<table border=\"1\" class=\"dataframe\">\n",
       "  <thead>\n",
       "    <tr style=\"text-align: right;\">\n",
       "      <th></th>\n",
       "      <th>songs</th>\n",
       "      <th>like_cnt</th>\n",
       "      <th>freq</th>\n",
       "    </tr>\n",
       "  </thead>\n",
       "  <tbody>\n",
       "    <tr>\n",
       "      <th>count</th>\n",
       "      <td>384356.000000</td>\n",
       "      <td>384356.000000</td>\n",
       "      <td>384356.000000</td>\n",
       "    </tr>\n",
       "    <tr>\n",
       "      <th>mean</th>\n",
       "      <td>353767.860039</td>\n",
       "      <td>965.093778</td>\n",
       "      <td>4.759996</td>\n",
       "    </tr>\n",
       "    <tr>\n",
       "      <th>std</th>\n",
       "      <td>204255.521387</td>\n",
       "      <td>3468.901774</td>\n",
       "      <td>14.915361</td>\n",
       "    </tr>\n",
       "    <tr>\n",
       "      <th>min</th>\n",
       "      <td>0.000000</td>\n",
       "      <td>8.000000</td>\n",
       "      <td>1.000000</td>\n",
       "    </tr>\n",
       "    <tr>\n",
       "      <th>25%</th>\n",
       "      <td>176775.500000</td>\n",
       "      <td>25.000000</td>\n",
       "      <td>1.000000</td>\n",
       "    </tr>\n",
       "    <tr>\n",
       "      <th>50%</th>\n",
       "      <td>353859.500000</td>\n",
       "      <td>112.000000</td>\n",
       "      <td>1.000000</td>\n",
       "    </tr>\n",
       "    <tr>\n",
       "      <th>75%</th>\n",
       "      <td>530712.250000</td>\n",
       "      <td>560.000000</td>\n",
       "      <td>3.000000</td>\n",
       "    </tr>\n",
       "    <tr>\n",
       "      <th>max</th>\n",
       "      <td>707986.000000</td>\n",
       "      <td>154102.000000</td>\n",
       "      <td>843.000000</td>\n",
       "    </tr>\n",
       "  </tbody>\n",
       "</table>\n",
       "</div>"
      ],
      "text/plain": [
       "               songs       like_cnt           freq\n",
       "count  384356.000000  384356.000000  384356.000000\n",
       "mean   353767.860039     965.093778       4.759996\n",
       "std    204255.521387    3468.901774      14.915361\n",
       "min         0.000000       8.000000       1.000000\n",
       "25%    176775.500000      25.000000       1.000000\n",
       "50%    353859.500000     112.000000       1.000000\n",
       "75%    530712.250000     560.000000       3.000000\n",
       "max    707986.000000  154102.000000     843.000000"
      ]
     },
     "execution_count": 85,
     "metadata": {},
     "output_type": "execute_result"
    }
   ],
   "source": [
    "ply_corr_song.describe()"
   ]
  },
  {
   "cell_type": "code",
   "execution_count": 86,
   "metadata": {},
   "outputs": [
    {
     "data": {
      "text/html": [
       "<div>\n",
       "<style scoped>\n",
       "    .dataframe tbody tr th:only-of-type {\n",
       "        vertical-align: middle;\n",
       "    }\n",
       "\n",
       "    .dataframe tbody tr th {\n",
       "        vertical-align: top;\n",
       "    }\n",
       "\n",
       "    .dataframe thead th {\n",
       "        text-align: right;\n",
       "    }\n",
       "</style>\n",
       "<table border=\"1\" class=\"dataframe\">\n",
       "  <thead>\n",
       "    <tr style=\"text-align: right;\">\n",
       "      <th></th>\n",
       "      <th>songs</th>\n",
       "      <th>like_cnt</th>\n",
       "      <th>freq</th>\n",
       "    </tr>\n",
       "  </thead>\n",
       "  <tbody>\n",
       "    <tr>\n",
       "      <th>songs</th>\n",
       "      <td>1.000000</td>\n",
       "      <td>-0.001525</td>\n",
       "      <td>-0.000111</td>\n",
       "    </tr>\n",
       "    <tr>\n",
       "      <th>like_cnt</th>\n",
       "      <td>-0.001525</td>\n",
       "      <td>1.000000</td>\n",
       "      <td>0.787479</td>\n",
       "    </tr>\n",
       "    <tr>\n",
       "      <th>freq</th>\n",
       "      <td>-0.000111</td>\n",
       "      <td>0.787479</td>\n",
       "      <td>1.000000</td>\n",
       "    </tr>\n",
       "  </tbody>\n",
       "</table>\n",
       "</div>"
      ],
      "text/plain": [
       "             songs  like_cnt      freq\n",
       "songs     1.000000 -0.001525 -0.000111\n",
       "like_cnt -0.001525  1.000000  0.787479\n",
       "freq     -0.000111  0.787479  1.000000"
      ]
     },
     "execution_count": 86,
     "metadata": {},
     "output_type": "execute_result"
    }
   ],
   "source": [
    "ply_corr_song.corr()"
   ]
  },
  {
   "cell_type": "markdown",
   "metadata": {},
   "source": [
    "- 3회 이하 사용된 song, songs 리스트에서 빼기"
   ]
  },
  {
   "cell_type": "code",
   "execution_count": 87,
   "metadata": {},
   "outputs": [],
   "source": [
    "# song usage count 계산\n",
    "songs_counts = playlists_copy_cnt.explode('songs')['songs'].value_counts(ascending=True)\n",
    "\n",
    "# 3번 이하 사용된 song\n",
    "less_than_3_songs = list(songs_counts[songs_counts <= 3].index) # 296178"
   ]
  },
  {
   "cell_type": "code",
   "execution_count": 88,
   "metadata": {},
   "outputs": [
    {
     "data": {
      "text/plain": [
       "296178"
      ]
     },
     "execution_count": 88,
     "metadata": {},
     "output_type": "execute_result"
    }
   ],
   "source": [
    "len(less_than_3_songs)"
   ]
  },
  {
   "cell_type": "code",
   "execution_count": 89,
   "metadata": {},
   "outputs": [
    {
     "data": {
      "text/plain": [
       "songs    384356\n",
       "dtype: int64"
      ]
     },
     "execution_count": 89,
     "metadata": {},
     "output_type": "execute_result"
    }
   ],
   "source": [
    "pd.DataFrame(playlists_copy_cnt.explode('songs')['songs']).nunique() # 자르기 전 유니크 곡 : 384356"
   ]
  },
  {
   "cell_type": "code",
   "execution_count": 90,
   "metadata": {},
   "outputs": [
    {
     "name": "stderr",
     "output_type": "stream",
     "text": [
      "100%|██████████| 48116/48116 [08:11<00:00, 97.91it/s] \n"
     ]
    }
   ],
   "source": [
    "# 3번 이하 사용된 songs 삭제 - hash function\n",
    "\n",
    "from tqdm import tqdm\n",
    "tqdm.pandas() \n",
    "playlists_copy_cnt['songs'] = playlists_copy_cnt['songs'].progress_apply(lambda songs: list(set(songs).difference(less_than_3_songs)))"
   ]
  },
  {
   "cell_type": "code",
   "execution_count": null,
   "metadata": {},
   "outputs": [],
   "source": [
    "# songs가 비어있지 않은 행만 남김\n",
    "playlists_song_cut = playlists_copy_cnt[playlists_copy_cnt['songs'].apply(lambda x: len(x) > 0)]\n",
    "playlists_song_cut.head()"
   ]
  },
  {
   "cell_type": "code",
   "execution_count": 92,
   "metadata": {},
   "outputs": [
    {
     "name": "stderr",
     "output_type": "stream",
     "text": [
      "C:\\Users\\cg063\\AppData\\Local\\Temp\\ipykernel_11468\\558675112.py:1: SettingWithCopyWarning: \n",
      "A value is trying to be set on a copy of a slice from a DataFrame.\n",
      "Try using .loc[row_indexer,col_indexer] = value instead\n",
      "\n",
      "See the caveats in the documentation: https://pandas.pydata.org/pandas-docs/stable/user_guide/indexing.html#returning-a-view-versus-a-copy\n",
      "  playlists_song_cut['song_cnt'] = playlists_song_cut['songs'].apply(len)\n"
     ]
    },
    {
     "data": {
      "text/plain": [
       "array([ 11,  33,   8,  20,  38,  58,  25,   6,  13,   1,  12,  14,  15,\n",
       "        19,  28,  67,  17,  65,  21,  10,  70,  18,  32,  89,  62,  82,\n",
       "        97,  72,  83,  37,  29,  34,  91,   4,   9,  26,  22,  90,  48,\n",
       "        31,   7,  24,  16,  66,  57,  60,  45,  36,  51,  61,  64,  44,\n",
       "        35,  87,   5,  47,  50,  39,  76,  80,  92,  63,  81,  54,   2,\n",
       "        56,  75,  27,  30,  40,  96,  85,  23,  55,  93,  73,  43,  77,\n",
       "        79,  86,  69,  95,  42,  71,  78,  59,   3,  49,  46,  53,  52,\n",
       "        68,  94, 101,  88, 103,  84,  41,  98, 100,  74, 104,  99, 102],\n",
       "      dtype=int64)"
      ]
     },
     "execution_count": 92,
     "metadata": {},
     "output_type": "execute_result"
    }
   ],
   "source": [
    "playlists_song_cut['song_cnt'] = playlists_song_cut['songs'].apply(len)\n",
    "playlists_song_cut['song_cnt'].unique()"
   ]
  },
  {
   "cell_type": "code",
   "execution_count": 93,
   "metadata": {},
   "outputs": [
    {
     "data": {
      "text/plain": [
       "159438      4\n",
       "105987      4\n",
       "201846      4\n",
       "514106      4\n",
       "301858      4\n",
       "         ... \n",
       "418935    542\n",
       "144663    573\n",
       "366786    628\n",
       "116573    689\n",
       "205179    843\n",
       "Name: songs, Length: 88178, dtype: int64"
      ]
     },
     "execution_count": 93,
     "metadata": {},
     "output_type": "execute_result"
    }
   ],
   "source": [
    "playlists_song_cut.explode('songs')['songs'].value_counts(ascending=True) # 3회 이하 사용된 song들이 알맞게 제거 되었는지 확인"
   ]
  },
  {
   "cell_type": "code",
   "execution_count": 94,
   "metadata": {},
   "outputs": [
    {
     "data": {
      "text/plain": [
       "songs    88178\n",
       "dtype: int64"
      ]
     },
     "execution_count": 94,
     "metadata": {},
     "output_type": "execute_result"
    }
   ],
   "source": [
    "pd.DataFrame(playlists_song_cut.explode('songs')['songs']).nunique() # 384356개 -> 88178개"
   ]
  },
  {
   "cell_type": "code",
   "execution_count": 95,
   "metadata": {},
   "outputs": [
    {
     "name": "stdout",
     "output_type": "stream",
     "text": [
      "<class 'pandas.core.frame.DataFrame'>\n",
      "Int64Index: 47191 entries, 8 to 114693\n",
      "Data columns (total 6 columns):\n",
      " #   Column        Non-Null Count  Dtype \n",
      "---  ------        --------------  ----- \n",
      " 0   tags          47191 non-null  object\n",
      " 1   id            47191 non-null  int64 \n",
      " 2   plylst_title  47191 non-null  object\n",
      " 3   songs         47191 non-null  object\n",
      " 4   like_cnt      47191 non-null  int64 \n",
      " 5   updt_date     47191 non-null  object\n",
      "dtypes: int64(2), object(4)\n",
      "memory usage: 2.5+ MB\n"
     ]
    }
   ],
   "source": [
    "playlists_song_cut = playlists_song_cut.iloc[:, :6]\n",
    "playlists_song_cut.info()\n",
    "\n",
    "# 48116 - 47191 = 925행 삭제"
   ]
  },
  {
   "cell_type": "markdown",
   "metadata": {},
   "source": [
    "- 3회 이하 사용된 tag, tags 리스트에서 빼기"
   ]
  },
  {
   "cell_type": "code",
   "execution_count": 97,
   "metadata": {},
   "outputs": [
    {
     "data": {
      "text/plain": [
       "tags    18094\n",
       "dtype: int64"
      ]
     },
     "execution_count": 97,
     "metadata": {},
     "output_type": "execute_result"
    }
   ],
   "source": [
    "pd.DataFrame(playlists_song_cut.explode('tags')['tags']).nunique() # 18094개"
   ]
  },
  {
   "cell_type": "code",
   "execution_count": 98,
   "metadata": {},
   "outputs": [
    {
     "name": "stderr",
     "output_type": "stream",
     "text": [
      "C:\\Users\\cg063\\AppData\\Local\\Temp\\ipykernel_11468\\573314142.py:2: FutureWarning: The default value of numeric_only in DataFrameGroupBy.sum is deprecated. In a future version, numeric_only will default to False. Either specify numeric_only or select only columns which should be valid for the function.\n",
      "  ply_tag_like = playlists_song_cut.explode('tags').groupby('tags').sum()['like_cnt']\n"
     ]
    },
    {
     "data": {
      "text/html": [
       "<div>\n",
       "<style scoped>\n",
       "    .dataframe tbody tr th:only-of-type {\n",
       "        vertical-align: middle;\n",
       "    }\n",
       "\n",
       "    .dataframe tbody tr th {\n",
       "        vertical-align: top;\n",
       "    }\n",
       "\n",
       "    .dataframe thead th {\n",
       "        text-align: right;\n",
       "    }\n",
       "</style>\n",
       "<table border=\"1\" class=\"dataframe\">\n",
       "  <thead>\n",
       "    <tr style=\"text-align: right;\">\n",
       "      <th></th>\n",
       "      <th>tags</th>\n",
       "      <th>like_cnt</th>\n",
       "    </tr>\n",
       "  </thead>\n",
       "  <tbody>\n",
       "    <tr>\n",
       "      <th>0</th>\n",
       "      <td>00</td>\n",
       "      <td>158</td>\n",
       "    </tr>\n",
       "    <tr>\n",
       "      <th>1</th>\n",
       "      <td>007</td>\n",
       "      <td>100</td>\n",
       "    </tr>\n",
       "    <tr>\n",
       "      <th>2</th>\n",
       "      <td>007시리즈</td>\n",
       "      <td>65</td>\n",
       "    </tr>\n",
       "    <tr>\n",
       "      <th>3</th>\n",
       "      <td>00s</td>\n",
       "      <td>10</td>\n",
       "    </tr>\n",
       "    <tr>\n",
       "      <th>4</th>\n",
       "      <td>00년</td>\n",
       "      <td>19</td>\n",
       "    </tr>\n",
       "    <tr>\n",
       "      <th>...</th>\n",
       "      <td>...</td>\n",
       "      <td>...</td>\n",
       "    </tr>\n",
       "    <tr>\n",
       "      <th>18089</th>\n",
       "      <td>힙해</td>\n",
       "      <td>2365</td>\n",
       "    </tr>\n",
       "    <tr>\n",
       "      <th>18090</th>\n",
       "      <td>힙힙힙</td>\n",
       "      <td>13</td>\n",
       "    </tr>\n",
       "    <tr>\n",
       "      <th>18091</th>\n",
       "      <td>힛뎀포크</td>\n",
       "      <td>41</td>\n",
       "    </tr>\n",
       "    <tr>\n",
       "      <th>18092</th>\n",
       "      <td>힛뎀폭</td>\n",
       "      <td>41</td>\n",
       "    </tr>\n",
       "    <tr>\n",
       "      <th>18093</th>\n",
       "      <td>힛뎀폭스</td>\n",
       "      <td>54</td>\n",
       "    </tr>\n",
       "  </tbody>\n",
       "</table>\n",
       "<p>18094 rows × 2 columns</p>\n",
       "</div>"
      ],
      "text/plain": [
       "         tags  like_cnt\n",
       "0          00       158\n",
       "1         007       100\n",
       "2      007시리즈        65\n",
       "3         00s        10\n",
       "4         00년        19\n",
       "...       ...       ...\n",
       "18089      힙해      2365\n",
       "18090     힙힙힙        13\n",
       "18091    힛뎀포크        41\n",
       "18092     힛뎀폭        41\n",
       "18093    힛뎀폭스        54\n",
       "\n",
       "[18094 rows x 2 columns]"
      ]
     },
     "execution_count": 98,
     "metadata": {},
     "output_type": "execute_result"
    }
   ],
   "source": [
    "# 태그 별 좋아요 수 확인\n",
    "ply_tag_like = playlists_song_cut.explode('tags').groupby('tags').sum()['like_cnt']\n",
    "ply_tag_like = pd.DataFrame(ply_tag_like).reset_index()\n",
    "ply_tag_like"
   ]
  },
  {
   "cell_type": "code",
   "execution_count": 99,
   "metadata": {},
   "outputs": [
    {
     "data": {
      "text/html": [
       "<div>\n",
       "<style scoped>\n",
       "    .dataframe tbody tr th:only-of-type {\n",
       "        vertical-align: middle;\n",
       "    }\n",
       "\n",
       "    .dataframe tbody tr th {\n",
       "        vertical-align: top;\n",
       "    }\n",
       "\n",
       "    .dataframe thead th {\n",
       "        text-align: right;\n",
       "    }\n",
       "</style>\n",
       "<table border=\"1\" class=\"dataframe\">\n",
       "  <thead>\n",
       "    <tr style=\"text-align: right;\">\n",
       "      <th></th>\n",
       "      <th>tags</th>\n",
       "      <th>freq</th>\n",
       "    </tr>\n",
       "  </thead>\n",
       "  <tbody>\n",
       "    <tr>\n",
       "      <th>0</th>\n",
       "      <td>00</td>\n",
       "      <td>3</td>\n",
       "    </tr>\n",
       "    <tr>\n",
       "      <th>1</th>\n",
       "      <td>007</td>\n",
       "      <td>2</td>\n",
       "    </tr>\n",
       "    <tr>\n",
       "      <th>2</th>\n",
       "      <td>007시리즈</td>\n",
       "      <td>2</td>\n",
       "    </tr>\n",
       "    <tr>\n",
       "      <th>3</th>\n",
       "      <td>00s</td>\n",
       "      <td>1</td>\n",
       "    </tr>\n",
       "    <tr>\n",
       "      <th>4</th>\n",
       "      <td>00년</td>\n",
       "      <td>1</td>\n",
       "    </tr>\n",
       "    <tr>\n",
       "      <th>...</th>\n",
       "      <td>...</td>\n",
       "      <td>...</td>\n",
       "    </tr>\n",
       "    <tr>\n",
       "      <th>18089</th>\n",
       "      <td>힙해</td>\n",
       "      <td>4</td>\n",
       "    </tr>\n",
       "    <tr>\n",
       "      <th>18090</th>\n",
       "      <td>힙힙힙</td>\n",
       "      <td>1</td>\n",
       "    </tr>\n",
       "    <tr>\n",
       "      <th>18091</th>\n",
       "      <td>힛뎀포크</td>\n",
       "      <td>1</td>\n",
       "    </tr>\n",
       "    <tr>\n",
       "      <th>18092</th>\n",
       "      <td>힛뎀폭</td>\n",
       "      <td>1</td>\n",
       "    </tr>\n",
       "    <tr>\n",
       "      <th>18093</th>\n",
       "      <td>힛뎀폭스</td>\n",
       "      <td>2</td>\n",
       "    </tr>\n",
       "  </tbody>\n",
       "</table>\n",
       "<p>18094 rows × 2 columns</p>\n",
       "</div>"
      ],
      "text/plain": [
       "         tags  freq\n",
       "0          00     3\n",
       "1         007     2\n",
       "2      007시리즈     2\n",
       "3         00s     1\n",
       "4         00년     1\n",
       "...       ...   ...\n",
       "18089      힙해     4\n",
       "18090     힙힙힙     1\n",
       "18091    힛뎀포크     1\n",
       "18092     힛뎀폭     1\n",
       "18093    힛뎀폭스     2\n",
       "\n",
       "[18094 rows x 2 columns]"
      ]
     },
     "execution_count": 99,
     "metadata": {},
     "output_type": "execute_result"
    }
   ],
   "source": [
    "# 노래 사용 빈도수 확인\n",
    "ply_tag_freq = playlists_song_cut.explode('tags').groupby('tags').count()['id']\n",
    "ply_tag_freq = pd.DataFrame(ply_tag_freq).reset_index()\n",
    "ply_tag_freq.rename(columns={'id':'freq'}, inplace=True)\n",
    "ply_tag_freq"
   ]
  },
  {
   "cell_type": "code",
   "execution_count": 100,
   "metadata": {},
   "outputs": [
    {
     "data": {
      "text/html": [
       "<div>\n",
       "<style scoped>\n",
       "    .dataframe tbody tr th:only-of-type {\n",
       "        vertical-align: middle;\n",
       "    }\n",
       "\n",
       "    .dataframe tbody tr th {\n",
       "        vertical-align: top;\n",
       "    }\n",
       "\n",
       "    .dataframe thead th {\n",
       "        text-align: right;\n",
       "    }\n",
       "</style>\n",
       "<table border=\"1\" class=\"dataframe\">\n",
       "  <thead>\n",
       "    <tr style=\"text-align: right;\">\n",
       "      <th></th>\n",
       "      <th>tags</th>\n",
       "      <th>id</th>\n",
       "      <th>plylst_title</th>\n",
       "      <th>songs</th>\n",
       "      <th>like_cnt</th>\n",
       "      <th>updt_date</th>\n",
       "    </tr>\n",
       "  </thead>\n",
       "  <tbody>\n",
       "    <tr>\n",
       "      <th>692</th>\n",
       "      <td>[액션히어로, 스파이영화, 본시리즈, OST, 007, 미션임파서블, 긴장감, 장르...</td>\n",
       "      <td>46937</td>\n",
       "      <td>긴장감 넘치는 액션과 사운드  첩보 스파이물 대표 OST</td>\n",
       "      <td>[634628, 657608, 359929, 134688, 210978, 29181...</td>\n",
       "      <td>75</td>\n",
       "      <td>2017-07-13 10:23:13.000</td>\n",
       "    </tr>\n",
       "    <tr>\n",
       "      <th>75148</th>\n",
       "      <td>[아델, 샘스미스, 제임스본드, 빌리아일리쉬, 007, 주제곡, 영화음악]</td>\n",
       "      <td>45506</td>\n",
       "      <td>007 제임스 본드 테마 음악 스페셜</td>\n",
       "      <td>[594502, 568983, 515742, 333856, 291812, 18142...</td>\n",
       "      <td>25</td>\n",
       "      <td>2020-02-18 12:17:09.000</td>\n",
       "    </tr>\n",
       "  </tbody>\n",
       "</table>\n",
       "</div>"
      ],
      "text/plain": [
       "                                                    tags     id  \\\n",
       "692    [액션히어로, 스파이영화, 본시리즈, OST, 007, 미션임파서블, 긴장감, 장르...  46937   \n",
       "75148          [아델, 샘스미스, 제임스본드, 빌리아일리쉬, 007, 주제곡, 영화음악]  45506   \n",
       "\n",
       "                          plylst_title  \\\n",
       "692    긴장감 넘치는 액션과 사운드  첩보 스파이물 대표 OST   \n",
       "75148             007 제임스 본드 테마 음악 스페셜   \n",
       "\n",
       "                                                   songs  like_cnt  \\\n",
       "692    [634628, 657608, 359929, 134688, 210978, 29181...        75   \n",
       "75148  [594502, 568983, 515742, 333856, 291812, 18142...        25   \n",
       "\n",
       "                     updt_date  \n",
       "692    2017-07-13 10:23:13.000  \n",
       "75148  2020-02-18 12:17:09.000  "
      ]
     },
     "execution_count": 100,
     "metadata": {},
     "output_type": "execute_result"
    }
   ],
   "source": [
    "playlists_song_cut[playlists_song_cut['tags'].apply(lambda x: '007' in x)] # 2번 사용됨"
   ]
  },
  {
   "cell_type": "code",
   "execution_count": 101,
   "metadata": {},
   "outputs": [
    {
     "data": {
      "text/html": [
       "<div>\n",
       "<style scoped>\n",
       "    .dataframe tbody tr th:only-of-type {\n",
       "        vertical-align: middle;\n",
       "    }\n",
       "\n",
       "    .dataframe tbody tr th {\n",
       "        vertical-align: top;\n",
       "    }\n",
       "\n",
       "    .dataframe thead th {\n",
       "        text-align: right;\n",
       "    }\n",
       "</style>\n",
       "<table border=\"1\" class=\"dataframe\">\n",
       "  <thead>\n",
       "    <tr style=\"text-align: right;\">\n",
       "      <th></th>\n",
       "      <th>tags</th>\n",
       "      <th>like_cnt</th>\n",
       "      <th>freq</th>\n",
       "    </tr>\n",
       "  </thead>\n",
       "  <tbody>\n",
       "    <tr>\n",
       "      <th>0</th>\n",
       "      <td>00</td>\n",
       "      <td>158</td>\n",
       "      <td>3</td>\n",
       "    </tr>\n",
       "    <tr>\n",
       "      <th>1</th>\n",
       "      <td>007</td>\n",
       "      <td>100</td>\n",
       "      <td>2</td>\n",
       "    </tr>\n",
       "    <tr>\n",
       "      <th>2</th>\n",
       "      <td>007시리즈</td>\n",
       "      <td>65</td>\n",
       "      <td>2</td>\n",
       "    </tr>\n",
       "    <tr>\n",
       "      <th>3</th>\n",
       "      <td>00s</td>\n",
       "      <td>10</td>\n",
       "      <td>1</td>\n",
       "    </tr>\n",
       "    <tr>\n",
       "      <th>4</th>\n",
       "      <td>00년</td>\n",
       "      <td>19</td>\n",
       "      <td>1</td>\n",
       "    </tr>\n",
       "    <tr>\n",
       "      <th>...</th>\n",
       "      <td>...</td>\n",
       "      <td>...</td>\n",
       "      <td>...</td>\n",
       "    </tr>\n",
       "    <tr>\n",
       "      <th>18089</th>\n",
       "      <td>힙해</td>\n",
       "      <td>2365</td>\n",
       "      <td>4</td>\n",
       "    </tr>\n",
       "    <tr>\n",
       "      <th>18090</th>\n",
       "      <td>힙힙힙</td>\n",
       "      <td>13</td>\n",
       "      <td>1</td>\n",
       "    </tr>\n",
       "    <tr>\n",
       "      <th>18091</th>\n",
       "      <td>힛뎀포크</td>\n",
       "      <td>41</td>\n",
       "      <td>1</td>\n",
       "    </tr>\n",
       "    <tr>\n",
       "      <th>18092</th>\n",
       "      <td>힛뎀폭</td>\n",
       "      <td>41</td>\n",
       "      <td>1</td>\n",
       "    </tr>\n",
       "    <tr>\n",
       "      <th>18093</th>\n",
       "      <td>힛뎀폭스</td>\n",
       "      <td>54</td>\n",
       "      <td>2</td>\n",
       "    </tr>\n",
       "  </tbody>\n",
       "</table>\n",
       "<p>18094 rows × 3 columns</p>\n",
       "</div>"
      ],
      "text/plain": [
       "         tags  like_cnt  freq\n",
       "0          00       158     3\n",
       "1         007       100     2\n",
       "2      007시리즈        65     2\n",
       "3         00s        10     1\n",
       "4         00년        19     1\n",
       "...       ...       ...   ...\n",
       "18089      힙해      2365     4\n",
       "18090     힙힙힙        13     1\n",
       "18091    힛뎀포크        41     1\n",
       "18092     힛뎀폭        41     1\n",
       "18093    힛뎀폭스        54     2\n",
       "\n",
       "[18094 rows x 3 columns]"
      ]
     },
     "execution_count": 101,
     "metadata": {},
     "output_type": "execute_result"
    }
   ],
   "source": [
    "ply_corr_tag = pd.merge(ply_tag_like, ply_tag_freq, how='left', on='tags')\n",
    "ply_corr_tag"
   ]
  },
  {
   "cell_type": "code",
   "execution_count": 102,
   "metadata": {},
   "outputs": [
    {
     "data": {
      "text/html": [
       "<div>\n",
       "<style scoped>\n",
       "    .dataframe tbody tr th:only-of-type {\n",
       "        vertical-align: middle;\n",
       "    }\n",
       "\n",
       "    .dataframe tbody tr th {\n",
       "        vertical-align: top;\n",
       "    }\n",
       "\n",
       "    .dataframe thead th {\n",
       "        text-align: right;\n",
       "    }\n",
       "</style>\n",
       "<table border=\"1\" class=\"dataframe\">\n",
       "  <thead>\n",
       "    <tr style=\"text-align: right;\">\n",
       "      <th></th>\n",
       "      <th>like_cnt</th>\n",
       "      <th>freq</th>\n",
       "    </tr>\n",
       "  </thead>\n",
       "  <tbody>\n",
       "    <tr>\n",
       "      <th>count</th>\n",
       "      <td>1.809400e+04</td>\n",
       "      <td>18094.000000</td>\n",
       "    </tr>\n",
       "    <tr>\n",
       "      <th>mean</th>\n",
       "      <td>2.199057e+03</td>\n",
       "      <td>12.035813</td>\n",
       "    </tr>\n",
       "    <tr>\n",
       "      <th>std</th>\n",
       "      <td>2.641062e+04</td>\n",
       "      <td>128.797425</td>\n",
       "    </tr>\n",
       "    <tr>\n",
       "      <th>min</th>\n",
       "      <td>8.000000e+00</td>\n",
       "      <td>1.000000</td>\n",
       "    </tr>\n",
       "    <tr>\n",
       "      <th>25%</th>\n",
       "      <td>1.800000e+01</td>\n",
       "      <td>1.000000</td>\n",
       "    </tr>\n",
       "    <tr>\n",
       "      <th>50%</th>\n",
       "      <td>5.500000e+01</td>\n",
       "      <td>1.000000</td>\n",
       "    </tr>\n",
       "    <tr>\n",
       "      <th>75%</th>\n",
       "      <td>2.830000e+02</td>\n",
       "      <td>3.000000</td>\n",
       "    </tr>\n",
       "    <tr>\n",
       "      <th>max</th>\n",
       "      <td>1.501059e+06</td>\n",
       "      <td>6704.000000</td>\n",
       "    </tr>\n",
       "  </tbody>\n",
       "</table>\n",
       "</div>"
      ],
      "text/plain": [
       "           like_cnt          freq\n",
       "count  1.809400e+04  18094.000000\n",
       "mean   2.199057e+03     12.035813\n",
       "std    2.641062e+04    128.797425\n",
       "min    8.000000e+00      1.000000\n",
       "25%    1.800000e+01      1.000000\n",
       "50%    5.500000e+01      1.000000\n",
       "75%    2.830000e+02      3.000000\n",
       "max    1.501059e+06   6704.000000"
      ]
     },
     "execution_count": 102,
     "metadata": {},
     "output_type": "execute_result"
    }
   ],
   "source": [
    "ply_corr_tag.describe()"
   ]
  },
  {
   "cell_type": "code",
   "execution_count": 104,
   "metadata": {},
   "outputs": [],
   "source": [
    "# tag usage count 계산\n",
    "tag_counts = playlists_song_cut.explode('tags')['tags'].value_counts(ascending=True)\n",
    "\n",
    "# 3번 이하 사용된 태그\n",
    "less_than_3_tags = list(tag_counts[tag_counts <= 3].index) # 14543"
   ]
  },
  {
   "cell_type": "code",
   "execution_count": 105,
   "metadata": {},
   "outputs": [
    {
     "data": {
      "text/plain": [
       "14543"
      ]
     },
     "execution_count": 105,
     "metadata": {},
     "output_type": "execute_result"
    }
   ],
   "source": [
    "len(less_than_3_tags)"
   ]
  },
  {
   "cell_type": "code",
   "execution_count": 106,
   "metadata": {},
   "outputs": [
    {
     "name": "stderr",
     "output_type": "stream",
     "text": [
      "  0%|          | 0/47191 [00:00<?, ?it/s]"
     ]
    },
    {
     "name": "stderr",
     "output_type": "stream",
     "text": [
      "100%|██████████| 47191/47191 [00:31<00:00, 1492.44it/s]\n"
     ]
    }
   ],
   "source": [
    "from tqdm import tqdm\n",
    "tqdm.pandas()\n",
    "\n",
    "playlists_song_cut['tags'] = playlists_song_cut['tags'].progress_apply(lambda tags: list(set(tags).difference(less_than_3_tags)))"
   ]
  },
  {
   "cell_type": "code",
   "execution_count": null,
   "metadata": {},
   "outputs": [],
   "source": [
    "# tags가 비어있지 않은 행만 남김\n",
    "playlists_song_cut = playlists_song_cut[playlists_song_cut['tags'].apply(lambda x: len(x) > 0)]\n",
    "playlists_song_cut.head()"
   ]
  },
  {
   "cell_type": "code",
   "execution_count": 108,
   "metadata": {},
   "outputs": [
    {
     "data": {
      "text/plain": [
       "array([ 2,  1,  4,  5,  3,  6,  9,  8, 10,  7, 11], dtype=int64)"
      ]
     },
     "execution_count": 108,
     "metadata": {},
     "output_type": "execute_result"
    }
   ],
   "source": [
    "playlists_song_cut['tag_cnt'] = playlists_song_cut['tags'].apply(len)\n",
    "playlists_song_cut['tag_cnt'].unique()"
   ]
  },
  {
   "cell_type": "code",
   "execution_count": 109,
   "metadata": {},
   "outputs": [
    {
     "data": {
      "text/plain": [
       "DJJASON       2\n",
       "집중력향상         4\n",
       "Relax         4\n",
       "신청곡           4\n",
       "nct127        4\n",
       "           ... \n",
       "잔잔한        3916\n",
       "휴식         4286\n",
       "감성         4438\n",
       "드라이브       4464\n",
       "기분전환       6703\n",
       "Name: tags, Length: 3551, dtype: int64"
      ]
     },
     "execution_count": 109,
     "metadata": {},
     "output_type": "execute_result"
    }
   ],
   "source": [
    "playlists_song_cut.explode('tags')['tags'].value_counts(ascending=True)"
   ]
  },
  {
   "cell_type": "code",
   "execution_count": 110,
   "metadata": {},
   "outputs": [
    {
     "data": {
      "text/plain": [
       "tags    3551\n",
       "dtype: int64"
      ]
     },
     "execution_count": 110,
     "metadata": {},
     "output_type": "execute_result"
    }
   ],
   "source": [
    "pd.DataFrame(playlists_song_cut.explode('tags')['tags']).nunique() # 18094개 -> 3551개"
   ]
  },
  {
   "cell_type": "code",
   "execution_count": 111,
   "metadata": {},
   "outputs": [
    {
     "name": "stdout",
     "output_type": "stream",
     "text": [
      "<class 'pandas.core.frame.DataFrame'>\n",
      "Int64Index: 46758 entries, 8 to 114693\n",
      "Data columns (total 6 columns):\n",
      " #   Column        Non-Null Count  Dtype \n",
      "---  ------        --------------  ----- \n",
      " 0   tags          46758 non-null  object\n",
      " 1   id            46758 non-null  int64 \n",
      " 2   plylst_title  46758 non-null  object\n",
      " 3   songs         46758 non-null  object\n",
      " 4   like_cnt      46758 non-null  int64 \n",
      " 5   updt_date     46758 non-null  object\n",
      "dtypes: int64(2), object(4)\n",
      "memory usage: 2.5+ MB\n"
     ]
    }
   ],
   "source": [
    "playlists_song_tag_cut = playlists_song_cut.iloc[:, :6]\n",
    "playlists_song_tag_cut.info()\n",
    "\n",
    "# 47191 - 46758  = 433행 삭제"
   ]
  },
  {
   "cell_type": "code",
   "execution_count": 114,
   "metadata": {},
   "outputs": [
    {
     "name": "stdout",
     "output_type": "stream",
     "text": [
      "tags    3551\n",
      "dtype: int64\n",
      "songs    88178\n",
      "dtype: int64\n"
     ]
    }
   ],
   "source": [
    "print(pd.DataFrame(playlists_song_tag_cut.explode('tags')['tags']).nunique()) # 18094개 -> 3551개\n",
    "print(pd.DataFrame(playlists_song_tag_cut.explode('songs')['songs']).nunique()) # 384356개 -> 88178개"
   ]
  },
  {
   "cell_type": "markdown",
   "metadata": {},
   "source": [
    "> 정리"
   ]
  },
  {
   "cell_type": "markdown",
   "metadata": {},
   "source": [
    "=> song_meta : 날짜 수정, 장르 정보 없는 노래 제거  \n",
    "=> playlists  \n",
    "    - 타이틀 & 태그 불용어 삭제 : 특수문자, 빈 타이틀, 모두 숫자인 경우, 1글자인 경우 포함  \n",
    "    - 타이틀 중복 제거 : 타이틀이 완벽하게 같을 경우 '1_노래 갯수 많은 순서 -> 2_좋아요 갯수 많은 순서 -> 3_태그 갯수 많은 순서 -> 4_최신 업데이트' 기준으로 1개씩 골라냄 (4가지를 했는데도 같은건 완벽히 같았기에 하나만 남김)  \n",
    "    - 중복 제거 후 song_cnt describe 해 5~104개 남기기, like_cnt describe 8개 이상인 플레이리스트 남김 (50%=7)\n",
    "    - 3번 이하 사용된 tag, 3번 이하 사용된song 제거(75%=3) => 4번부터 남김\n",
    "  \n",
    "  \n",
    "=> 115071(원래 playlist) -46758(전처리 후) = 68313행 삭제"
   ]
  },
  {
   "cell_type": "markdown",
   "metadata": {},
   "source": [
    "> 데이터 저장"
   ]
  },
  {
   "cell_type": "markdown",
   "metadata": {},
   "source": [
    "- 최종 전처리 파일은 ../0_data/tag3,song3_playlists.json 으로 저장"
   ]
  },
  {
   "cell_type": "code",
   "execution_count": 116,
   "metadata": {},
   "outputs": [],
   "source": [
    "# playlists 저장\n",
    "playlists_song_tag_cut.to_json('../0_data/tag3,song3_playlists.json', orient='records')"
   ]
  },
  {
   "cell_type": "markdown",
   "metadata": {},
   "source": [
    "---"
   ]
  }
 ],
 "metadata": {
  "kernelspec": {
   "display_name": "base",
   "language": "python",
   "name": "python3"
  },
  "language_info": {
   "codemirror_mode": {
    "name": "ipython",
    "version": 3
   },
   "file_extension": ".py",
   "mimetype": "text/x-python",
   "name": "python",
   "nbconvert_exporter": "python",
   "pygments_lexer": "ipython3",
   "version": "3.11.4"
  },
  "orig_nbformat": 4
 },
 "nbformat": 4,
 "nbformat_minor": 2
}
