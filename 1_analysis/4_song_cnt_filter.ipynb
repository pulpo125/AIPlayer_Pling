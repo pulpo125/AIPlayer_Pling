{
 "cells": [
  {
   "cell_type": "code",
   "execution_count": 37,
   "metadata": {},
   "outputs": [],
   "source": [
    "import pandas as pd\n",
    "\n",
    "df = pd.read_json('../0_data/playlists_tag_freq1.json')"
   ]
  },
  {
   "cell_type": "code",
   "execution_count": 38,
   "metadata": {},
   "outputs": [
    {
     "name": "stdout",
     "output_type": "stream",
     "text": [
      "<class 'pandas.core.frame.DataFrame'>\n",
      "RangeIndex: 51668 entries, 0 to 51667\n",
      "Data columns (total 6 columns):\n",
      " #   Column        Non-Null Count  Dtype \n",
      "---  ------        --------------  ----- \n",
      " 0   tags          51668 non-null  object\n",
      " 1   id            51668 non-null  int64 \n",
      " 2   plylst_title  51668 non-null  object\n",
      " 3   songs         51668 non-null  object\n",
      " 4   like_cnt      51668 non-null  int64 \n",
      " 5   updt_date     51668 non-null  object\n",
      "dtypes: int64(2), object(4)\n",
      "memory usage: 2.4+ MB\n"
     ]
    }
   ],
   "source": [
    "df.info()"
   ]
  },
  {
   "cell_type": "code",
   "execution_count": 39,
   "metadata": {},
   "outputs": [],
   "source": [
    "# song usage count 계산\n",
    "songs_counts = df.explode('songs')['songs'].value_counts(ascending=True)"
   ]
  },
  {
   "cell_type": "code",
   "execution_count": 47,
   "metadata": {},
   "outputs": [],
   "source": [
    "# 10번 사용된 song\n",
    "less_than_10_songs = list(songs_counts[songs_counts <= 10].index) # 210505개"
   ]
  },
  {
   "cell_type": "code",
   "execution_count": 48,
   "metadata": {},
   "outputs": [
    {
     "data": {
      "text/plain": [
       "362133"
      ]
     },
     "execution_count": 48,
     "metadata": {},
     "output_type": "execute_result"
    }
   ],
   "source": [
    "len(less_than_10_songs)"
   ]
  },
  {
   "cell_type": "code",
   "execution_count": null,
   "metadata": {},
   "outputs": [],
   "source": [
    "from tqdm import tqdm\n",
    "tqdm.pandas()\n",
    "\n",
    "df['songs'] = df['songs'].progress_apply(lambda songs: list(set(songs).difference(less_than_10_songs)))"
   ]
  },
  {
   "cell_type": "code",
   "execution_count": 33,
   "metadata": {},
   "outputs": [],
   "source": [
    "# 빈도수 10개 이하 삭제됬는지 확인\n",
    "song_counts = df.explode('songs')['songs'].value_counts(ascending=True)\n",
    "song_counts"
   ]
  },
  {
   "cell_type": "code",
   "execution_count": 35,
   "metadata": {},
   "outputs": [
    {
     "data": {
      "text/plain": [
       "array([ 23,  34,  12,  50,  58,  27,  14,  18,   8,  16,  30,  15,   7,\n",
       "        17,  33,  29,  70,  26,  66,  24,  25,  19,  71,  32,  98,  72,\n",
       "        82,  85,  87,  48,  35,  91,   5,  10,  31,  96,  53,  37,  11,\n",
       "        28,  81,  21,  69,  51,  13,  56,  43,  41,  73,  76,   9,  75,\n",
       "        64,  61,  40,  54,  22,  62,  42,  49,  67,  46,  65,  20,  36,\n",
       "        74,  55,  86,  80,  78,  94,  52, 103,  44,  60,  77,   6,  84,\n",
       "        68,  47,  38, 100,  57,  45,  89,  83,  99,   3,  92,  39,  95,\n",
       "        90,  63,  59,  97,  88, 102,  79,   1, 104,   4,   2,  93, 101],\n",
       "      dtype=int64)"
      ]
     },
     "execution_count": 35,
     "metadata": {},
     "output_type": "execute_result"
    }
   ],
   "source": [
    "#songs가 비어있지 않은 행만 남김\n",
    "df = df[df['songs'].apply(lambda x: len(x) > 0)]\n",
    "\n",
    "# 비어있는 songs가 없는지 확인\n",
    "df['song_cnt'] = df['songs'].apply(len)\n",
    "df['song_cnt'].unique()"
   ]
  },
  {
   "cell_type": "code",
   "execution_count": 36,
   "metadata": {},
   "outputs": [
    {
     "data": {
      "text/plain": [
       "51480"
      ]
     },
     "execution_count": 36,
     "metadata": {},
     "output_type": "execute_result"
    }
   ],
   "source": [
    "len(df)"
   ]
  },
  {
   "cell_type": "markdown",
   "metadata": {},
   "source": [
    "---"
   ]
  },
  {
   "cell_type": "code",
   "execution_count": null,
   "metadata": {},
   "outputs": [],
   "source": [
    "# idea\n",
    "# 1번 이하 사용된 songs 삭제\n",
    "# print(len(df['songs'][0]))\n",
    "# print(len(list(set(df['songs'][0]).difference(less_than_10_songs))))\n",
    "# df['songs'] = df['songs'].apply(lambda songs: [song for song in songs if song not in less_than_10_songs])\n",
    "# len([song for song in df['songs'][0] if song not in less_than_10_songs])\n",
    "# df['songs'] = df['songs'].apply(lambda songs: list(set(songs).difference(less_than_10_songs)))"
   ]
  }
 ],
 "metadata": {
  "kernelspec": {
   "display_name": "base",
   "language": "python",
   "name": "python3"
  },
  "language_info": {
   "codemirror_mode": {
    "name": "ipython",
    "version": 3
   },
   "file_extension": ".py",
   "mimetype": "text/x-python",
   "name": "python",
   "nbconvert_exporter": "python",
   "pygments_lexer": "ipython3",
   "version": "3.10.9"
  },
  "orig_nbformat": 4
 },
 "nbformat": 4,
 "nbformat_minor": 2
}
