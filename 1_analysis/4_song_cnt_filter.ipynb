{
 "cells": [
  {
   "cell_type": "code",
   "execution_count": 14,
   "metadata": {},
   "outputs": [],
   "source": [
    "import pandas as pd\n",
    "\n",
    "df = pd.read_json('../0_data/playlists_tag_freq1.json')\n",
    "\n",
    "# song usage count 계산\n",
    "songs_counts = df.explode('songs')['songs'].value_counts(ascending=True)\n",
    "\n",
    "# 1번 사용된 song\n",
    "less_than_1_songs = list(songs_counts[songs_counts == 1].index) # 210505개\n",
    "\n",
    "# 1번 이하 사용된 songs 삭제\n",
    "df['songs'] = df['songs'].apply(lambda songs: [song for song in songs if song not in less_than_1_songs])"
   ]
  },
  {
   "cell_type": "code",
   "execution_count": 15,
   "metadata": {},
   "outputs": [
    {
     "name": "stdout",
     "output_type": "stream",
     "text": [
      "<class 'pandas.core.frame.DataFrame'>\n",
      "RangeIndex: 51668 entries, 0 to 51667\n",
      "Data columns (total 6 columns):\n",
      " #   Column        Non-Null Count  Dtype \n",
      "---  ------        --------------  ----- \n",
      " 0   tags          51668 non-null  object\n",
      " 1   id            51668 non-null  int64 \n",
      " 2   plylst_title  51668 non-null  object\n",
      " 3   songs         51668 non-null  object\n",
      " 4   like_cnt      51668 non-null  int64 \n",
      " 5   updt_date     51668 non-null  object\n",
      "dtypes: int64(2), object(4)\n",
      "memory usage: 2.4+ MB\n"
     ]
    }
   ],
   "source": [
    "df.info()"
   ]
  },
  {
   "cell_type": "code",
   "execution_count": null,
   "metadata": {},
   "outputs": [],
   "source": [
    "# # song usage count 계산\n",
    "# songs_counts = df.explode('songs')['songs'].value_counts(ascending=True)\n",
    "\n",
    "# # 1번 사용된 song\n",
    "# less_than_1_songs = list(songs_counts[songs_counts == 1].index) # 210505개\n",
    "\n",
    "# # 1번 이하 사용된 songs 삭제\n",
    "# df['songs'] = df['songs'].apply(lambda songs: [song for song in songs if song not in less_than_1_songs])"
   ]
  },
  {
   "cell_type": "code",
   "execution_count": 16,
   "metadata": {},
   "outputs": [],
   "source": [
    "# song usage count 계산\n",
    "songs_counts = df.explode('songs')['songs'].value_counts(ascending=True)"
   ]
  },
  {
   "cell_type": "code",
   "execution_count": 17,
   "metadata": {},
   "outputs": [],
   "source": [
    "# 1번 사용된 song\n",
    "less_than_1_songs = list(songs_counts[songs_counts == 1].index) # 210505개"
   ]
  },
  {
   "cell_type": "code",
   "execution_count": null,
   "metadata": {},
   "outputs": [],
   "source": [
    "# # 1번 이하 사용된 songs 삭제\n",
    "# df['songs'] = df['songs'].apply(lambda songs: [song for song in songs if song not in less_than_1_songs])"
   ]
  },
  {
   "cell_type": "code",
   "execution_count": 24,
   "metadata": {},
   "outputs": [
    {
     "name": "stderr",
     "output_type": "stream",
     "text": [
      "  0%|          | 20/51668 [00:02<1:46:52,  8.05it/s]\n"
     ]
    },
    {
     "ename": "KeyboardInterrupt",
     "evalue": "",
     "output_type": "error",
     "traceback": [
      "\u001b[1;31m---------------------------------------------------------------------------\u001b[0m",
      "\u001b[1;31mKeyboardInterrupt\u001b[0m                         Traceback (most recent call last)",
      "\u001b[1;32mc:\\ROOT_final\\final_project\\1_analysis\\4_song_cnt_filter.ipynb 셀 7\u001b[0m line \u001b[0;36m5\n\u001b[0;32m      <a href='vscode-notebook-cell:/c%3A/ROOT_final/final_project/1_analysis/4_song_cnt_filter.ipynb#X13sZmlsZQ%3D%3D?line=2'>3</a>\u001b[0m \u001b[39m# DataFrame 루프에 tqdm 적용\u001b[39;00m\n\u001b[0;32m      <a href='vscode-notebook-cell:/c%3A/ROOT_final/final_project/1_analysis/4_song_cnt_filter.ipynb#X13sZmlsZQ%3D%3D?line=3'>4</a>\u001b[0m \u001b[39mfor\u001b[39;00m index, row \u001b[39min\u001b[39;00m tqdm(df\u001b[39m.\u001b[39miterrows(), total\u001b[39m=\u001b[39m\u001b[39mlen\u001b[39m(df)):\n\u001b[1;32m----> <a href='vscode-notebook-cell:/c%3A/ROOT_final/final_project/1_analysis/4_song_cnt_filter.ipynb#X13sZmlsZQ%3D%3D?line=4'>5</a>\u001b[0m     df\u001b[39m.\u001b[39mat[index, \u001b[39m'\u001b[39m\u001b[39msongs\u001b[39m\u001b[39m'\u001b[39m] \u001b[39m=\u001b[39m [song \u001b[39mfor\u001b[39;00m song \u001b[39min\u001b[39;00m row[\u001b[39m'\u001b[39m\u001b[39msongs\u001b[39m\u001b[39m'\u001b[39m] \u001b[39mif\u001b[39;00m song \u001b[39mnot\u001b[39;00m \u001b[39min\u001b[39;00m less_than_1_songs]\n",
      "\u001b[1;32mc:\\ROOT_final\\final_project\\1_analysis\\4_song_cnt_filter.ipynb 셀 7\u001b[0m line \u001b[0;36m5\n\u001b[0;32m      <a href='vscode-notebook-cell:/c%3A/ROOT_final/final_project/1_analysis/4_song_cnt_filter.ipynb#X13sZmlsZQ%3D%3D?line=2'>3</a>\u001b[0m \u001b[39m# DataFrame 루프에 tqdm 적용\u001b[39;00m\n\u001b[0;32m      <a href='vscode-notebook-cell:/c%3A/ROOT_final/final_project/1_analysis/4_song_cnt_filter.ipynb#X13sZmlsZQ%3D%3D?line=3'>4</a>\u001b[0m \u001b[39mfor\u001b[39;00m index, row \u001b[39min\u001b[39;00m tqdm(df\u001b[39m.\u001b[39miterrows(), total\u001b[39m=\u001b[39m\u001b[39mlen\u001b[39m(df)):\n\u001b[1;32m----> <a href='vscode-notebook-cell:/c%3A/ROOT_final/final_project/1_analysis/4_song_cnt_filter.ipynb#X13sZmlsZQ%3D%3D?line=4'>5</a>\u001b[0m     df\u001b[39m.\u001b[39mat[index, \u001b[39m'\u001b[39m\u001b[39msongs\u001b[39m\u001b[39m'\u001b[39m] \u001b[39m=\u001b[39m [song \u001b[39mfor\u001b[39;00m song \u001b[39min\u001b[39;00m row[\u001b[39m'\u001b[39m\u001b[39msongs\u001b[39m\u001b[39m'\u001b[39m] \u001b[39mif\u001b[39;00m song \u001b[39mnot\u001b[39;00m \u001b[39min\u001b[39;00m less_than_1_songs]\n",
      "\u001b[1;31mKeyboardInterrupt\u001b[0m: "
     ]
    }
   ],
   "source": [
    "from tqdm import tqdm\n",
    "\n",
    "# DataFrame 루프에 tqdm 적용\n",
    "for index, row in tqdm(df.iterrows(), total=len(df)):\n",
    "    df.at[index, 'songs'] = [song for song in row['songs'] if song not in less_than_1_songs]"
   ]
  },
  {
   "cell_type": "code",
   "execution_count": 22,
   "metadata": {},
   "outputs": [
    {
     "name": "stderr",
     "output_type": "stream",
     "text": [
      "  0%|          | 23/51668 [00:03<2:00:41,  7.13it/s]\n"
     ]
    },
    {
     "ename": "KeyboardInterrupt",
     "evalue": "",
     "output_type": "error",
     "traceback": [
      "\u001b[1;31m---------------------------------------------------------------------------\u001b[0m",
      "\u001b[1;31mKeyboardInterrupt\u001b[0m                         Traceback (most recent call last)",
      "\u001b[1;32mc:\\ROOT_final\\final_project\\1_analysis\\4_song_cnt_filter.ipynb 셀 8\u001b[0m line \u001b[0;36m5\n\u001b[0;32m      <a href='vscode-notebook-cell:/c%3A/ROOT_final/final_project/1_analysis/4_song_cnt_filter.ipynb#X14sZmlsZQ%3D%3D?line=1'>2</a>\u001b[0m tqdm\u001b[39m.\u001b[39mpandas()\n\u001b[0;32m      <a href='vscode-notebook-cell:/c%3A/ROOT_final/final_project/1_analysis/4_song_cnt_filter.ipynb#X14sZmlsZQ%3D%3D?line=3'>4</a>\u001b[0m \u001b[39m# DataFrame 루프에 tqdm 적용\u001b[39;00m\n\u001b[1;32m----> <a href='vscode-notebook-cell:/c%3A/ROOT_final/final_project/1_analysis/4_song_cnt_filter.ipynb#X14sZmlsZQ%3D%3D?line=4'>5</a>\u001b[0m df[\u001b[39m'\u001b[39m\u001b[39msongs\u001b[39m\u001b[39m'\u001b[39m] \u001b[39m=\u001b[39m df[\u001b[39m'\u001b[39;49m\u001b[39msongs\u001b[39;49m\u001b[39m'\u001b[39;49m]\u001b[39m.\u001b[39;49mprogress_apply(\u001b[39mlambda\u001b[39;49;00m songs: [song \u001b[39mfor\u001b[39;49;00m song \u001b[39min\u001b[39;49;00m songs \u001b[39mif\u001b[39;49;00m song \u001b[39mnot\u001b[39;49;00m \u001b[39min\u001b[39;49;00m less_than_1_songs])\n",
      "File \u001b[1;32mc:\\Users\\k9942\\anaconda3\\lib\\site-packages\\tqdm\\std.py:814\u001b[0m, in \u001b[0;36mtqdm.pandas.<locals>.inner_generator.<locals>.inner\u001b[1;34m(df, func, *args, **kwargs)\u001b[0m\n\u001b[0;32m    811\u001b[0m \u001b[39m# Apply the provided function (in **kwargs)\u001b[39;00m\n\u001b[0;32m    812\u001b[0m \u001b[39m# on the df using our wrapper (which provides bar updating)\u001b[39;00m\n\u001b[0;32m    813\u001b[0m \u001b[39mtry\u001b[39;00m:\n\u001b[1;32m--> 814\u001b[0m     \u001b[39mreturn\u001b[39;00m \u001b[39mgetattr\u001b[39m(df, df_function)(wrapper, \u001b[39m*\u001b[39m\u001b[39m*\u001b[39mkwargs)\n\u001b[0;32m    815\u001b[0m \u001b[39mfinally\u001b[39;00m:\n\u001b[0;32m    816\u001b[0m     t\u001b[39m.\u001b[39mclose()\n",
      "File \u001b[1;32mc:\\Users\\k9942\\anaconda3\\lib\\site-packages\\pandas\\core\\series.py:4771\u001b[0m, in \u001b[0;36mSeries.apply\u001b[1;34m(self, func, convert_dtype, args, **kwargs)\u001b[0m\n\u001b[0;32m   4661\u001b[0m \u001b[39mdef\u001b[39;00m \u001b[39mapply\u001b[39m(\n\u001b[0;32m   4662\u001b[0m     \u001b[39mself\u001b[39m,\n\u001b[0;32m   4663\u001b[0m     func: AggFuncType,\n\u001b[1;32m   (...)\u001b[0m\n\u001b[0;32m   4666\u001b[0m     \u001b[39m*\u001b[39m\u001b[39m*\u001b[39mkwargs,\n\u001b[0;32m   4667\u001b[0m ) \u001b[39m-\u001b[39m\u001b[39m>\u001b[39m DataFrame \u001b[39m|\u001b[39m Series:\n\u001b[0;32m   4668\u001b[0m \u001b[39m    \u001b[39m\u001b[39m\"\"\"\u001b[39;00m\n\u001b[0;32m   4669\u001b[0m \u001b[39m    Invoke function on values of Series.\u001b[39;00m\n\u001b[0;32m   4670\u001b[0m \n\u001b[1;32m   (...)\u001b[0m\n\u001b[0;32m   4769\u001b[0m \u001b[39m    dtype: float64\u001b[39;00m\n\u001b[0;32m   4770\u001b[0m \u001b[39m    \"\"\"\u001b[39;00m\n\u001b[1;32m-> 4771\u001b[0m     \u001b[39mreturn\u001b[39;00m SeriesApply(\u001b[39mself\u001b[39;49m, func, convert_dtype, args, kwargs)\u001b[39m.\u001b[39;49mapply()\n",
      "File \u001b[1;32mc:\\Users\\k9942\\anaconda3\\lib\\site-packages\\pandas\\core\\apply.py:1123\u001b[0m, in \u001b[0;36mSeriesApply.apply\u001b[1;34m(self)\u001b[0m\n\u001b[0;32m   1120\u001b[0m     \u001b[39mreturn\u001b[39;00m \u001b[39mself\u001b[39m\u001b[39m.\u001b[39mapply_str()\n\u001b[0;32m   1122\u001b[0m \u001b[39m# self.f is Callable\u001b[39;00m\n\u001b[1;32m-> 1123\u001b[0m \u001b[39mreturn\u001b[39;00m \u001b[39mself\u001b[39;49m\u001b[39m.\u001b[39;49mapply_standard()\n",
      "File \u001b[1;32mc:\\Users\\k9942\\anaconda3\\lib\\site-packages\\pandas\\core\\apply.py:1174\u001b[0m, in \u001b[0;36mSeriesApply.apply_standard\u001b[1;34m(self)\u001b[0m\n\u001b[0;32m   1172\u001b[0m     \u001b[39melse\u001b[39;00m:\n\u001b[0;32m   1173\u001b[0m         values \u001b[39m=\u001b[39m obj\u001b[39m.\u001b[39mastype(\u001b[39mobject\u001b[39m)\u001b[39m.\u001b[39m_values\n\u001b[1;32m-> 1174\u001b[0m         mapped \u001b[39m=\u001b[39m lib\u001b[39m.\u001b[39;49mmap_infer(\n\u001b[0;32m   1175\u001b[0m             values,\n\u001b[0;32m   1176\u001b[0m             f,\n\u001b[0;32m   1177\u001b[0m             convert\u001b[39m=\u001b[39;49m\u001b[39mself\u001b[39;49m\u001b[39m.\u001b[39;49mconvert_dtype,\n\u001b[0;32m   1178\u001b[0m         )\n\u001b[0;32m   1180\u001b[0m \u001b[39mif\u001b[39;00m \u001b[39mlen\u001b[39m(mapped) \u001b[39mand\u001b[39;00m \u001b[39misinstance\u001b[39m(mapped[\u001b[39m0\u001b[39m], ABCSeries):\n\u001b[0;32m   1181\u001b[0m     \u001b[39m# GH#43986 Need to do list(mapped) in order to get treated as nested\u001b[39;00m\n\u001b[0;32m   1182\u001b[0m     \u001b[39m#  See also GH#25959 regarding EA support\u001b[39;00m\n\u001b[0;32m   1183\u001b[0m     \u001b[39mreturn\u001b[39;00m obj\u001b[39m.\u001b[39m_constructor_expanddim(\u001b[39mlist\u001b[39m(mapped), index\u001b[39m=\u001b[39mobj\u001b[39m.\u001b[39mindex)\n",
      "File \u001b[1;32mc:\\Users\\k9942\\anaconda3\\lib\\site-packages\\pandas\\_libs\\lib.pyx:2924\u001b[0m, in \u001b[0;36mpandas._libs.lib.map_infer\u001b[1;34m()\u001b[0m\n",
      "File \u001b[1;32mc:\\Users\\k9942\\anaconda3\\lib\\site-packages\\tqdm\\std.py:809\u001b[0m, in \u001b[0;36mtqdm.pandas.<locals>.inner_generator.<locals>.inner.<locals>.wrapper\u001b[1;34m(*args, **kwargs)\u001b[0m\n\u001b[0;32m    803\u001b[0m \u001b[39mdef\u001b[39;00m \u001b[39mwrapper\u001b[39m(\u001b[39m*\u001b[39margs, \u001b[39m*\u001b[39m\u001b[39m*\u001b[39mkwargs):\n\u001b[0;32m    804\u001b[0m     \u001b[39m# update tbar correctly\u001b[39;00m\n\u001b[0;32m    805\u001b[0m     \u001b[39m# it seems `pandas apply` calls `func` twice\u001b[39;00m\n\u001b[0;32m    806\u001b[0m     \u001b[39m# on the first column/row to decide whether it can\u001b[39;00m\n\u001b[0;32m    807\u001b[0m     \u001b[39m# take a fast or slow code path; so stop when t.total==t.n\u001b[39;00m\n\u001b[0;32m    808\u001b[0m     t\u001b[39m.\u001b[39mupdate(n\u001b[39m=\u001b[39m\u001b[39m1\u001b[39m \u001b[39mif\u001b[39;00m \u001b[39mnot\u001b[39;00m t\u001b[39m.\u001b[39mtotal \u001b[39mor\u001b[39;00m t\u001b[39m.\u001b[39mn \u001b[39m<\u001b[39m t\u001b[39m.\u001b[39mtotal \u001b[39melse\u001b[39;00m \u001b[39m0\u001b[39m)\n\u001b[1;32m--> 809\u001b[0m     \u001b[39mreturn\u001b[39;00m func(\u001b[39m*\u001b[39margs, \u001b[39m*\u001b[39m\u001b[39m*\u001b[39mkwargs)\n",
      "\u001b[1;32mc:\\ROOT_final\\final_project\\1_analysis\\4_song_cnt_filter.ipynb 셀 8\u001b[0m line \u001b[0;36m5\n\u001b[0;32m      <a href='vscode-notebook-cell:/c%3A/ROOT_final/final_project/1_analysis/4_song_cnt_filter.ipynb#X14sZmlsZQ%3D%3D?line=1'>2</a>\u001b[0m tqdm\u001b[39m.\u001b[39mpandas()\n\u001b[0;32m      <a href='vscode-notebook-cell:/c%3A/ROOT_final/final_project/1_analysis/4_song_cnt_filter.ipynb#X14sZmlsZQ%3D%3D?line=3'>4</a>\u001b[0m \u001b[39m# DataFrame 루프에 tqdm 적용\u001b[39;00m\n\u001b[1;32m----> <a href='vscode-notebook-cell:/c%3A/ROOT_final/final_project/1_analysis/4_song_cnt_filter.ipynb#X14sZmlsZQ%3D%3D?line=4'>5</a>\u001b[0m df[\u001b[39m'\u001b[39m\u001b[39msongs\u001b[39m\u001b[39m'\u001b[39m] \u001b[39m=\u001b[39m df[\u001b[39m'\u001b[39m\u001b[39msongs\u001b[39m\u001b[39m'\u001b[39m]\u001b[39m.\u001b[39mprogress_apply(\u001b[39mlambda\u001b[39;00m songs: [song \u001b[39mfor\u001b[39;00m song \u001b[39min\u001b[39;00m songs \u001b[39mif\u001b[39;00m song \u001b[39mnot\u001b[39;00m \u001b[39min\u001b[39;00m less_than_1_songs])\n",
      "\u001b[1;32mc:\\ROOT_final\\final_project\\1_analysis\\4_song_cnt_filter.ipynb 셀 8\u001b[0m line \u001b[0;36m5\n\u001b[0;32m      <a href='vscode-notebook-cell:/c%3A/ROOT_final/final_project/1_analysis/4_song_cnt_filter.ipynb#X14sZmlsZQ%3D%3D?line=1'>2</a>\u001b[0m tqdm\u001b[39m.\u001b[39mpandas()\n\u001b[0;32m      <a href='vscode-notebook-cell:/c%3A/ROOT_final/final_project/1_analysis/4_song_cnt_filter.ipynb#X14sZmlsZQ%3D%3D?line=3'>4</a>\u001b[0m \u001b[39m# DataFrame 루프에 tqdm 적용\u001b[39;00m\n\u001b[1;32m----> <a href='vscode-notebook-cell:/c%3A/ROOT_final/final_project/1_analysis/4_song_cnt_filter.ipynb#X14sZmlsZQ%3D%3D?line=4'>5</a>\u001b[0m df[\u001b[39m'\u001b[39m\u001b[39msongs\u001b[39m\u001b[39m'\u001b[39m] \u001b[39m=\u001b[39m df[\u001b[39m'\u001b[39m\u001b[39msongs\u001b[39m\u001b[39m'\u001b[39m]\u001b[39m.\u001b[39mprogress_apply(\u001b[39mlambda\u001b[39;00m songs: [song \u001b[39mfor\u001b[39;00m song \u001b[39min\u001b[39;00m songs \u001b[39mif\u001b[39;00m song \u001b[39mnot\u001b[39;00m \u001b[39min\u001b[39;00m less_than_1_songs])\n",
      "\u001b[1;31mKeyboardInterrupt\u001b[0m: "
     ]
    }
   ],
   "source": [
    "from tqdm import tqdm\n",
    "tqdm.pandas()\n",
    "\n",
    "# DataFrame 루프에 tqdm 적용\n",
    "df['songs'] = df['songs'].progress_apply(lambda songs: [song for song in songs if song not in less_than_1_songs])"
   ]
  },
  {
   "cell_type": "code",
   "execution_count": 23,
   "metadata": {},
   "outputs": [
    {
     "name": "stderr",
     "output_type": "stream",
     "text": [
      "  0%|          | 33/51668 [00:04<1:58:33,  7.26it/s]\n"
     ]
    },
    {
     "ename": "KeyboardInterrupt",
     "evalue": "",
     "output_type": "error",
     "traceback": [
      "\u001b[1;31m---------------------------------------------------------------------------\u001b[0m",
      "\u001b[1;31mKeyboardInterrupt\u001b[0m                         Traceback (most recent call last)",
      "\u001b[1;32mc:\\ROOT_final\\final_project\\1_analysis\\4_song_cnt_filter.ipynb 셀 9\u001b[0m line \u001b[0;36m4\n\u001b[0;32m      <a href='vscode-notebook-cell:/c%3A/ROOT_final/final_project/1_analysis/4_song_cnt_filter.ipynb#X15sZmlsZQ%3D%3D?line=0'>1</a>\u001b[0m \u001b[39mfrom\u001b[39;00m \u001b[39mtqdm\u001b[39;00m \u001b[39mimport\u001b[39;00m tqdm\n\u001b[0;32m      <a href='vscode-notebook-cell:/c%3A/ROOT_final/final_project/1_analysis/4_song_cnt_filter.ipynb#X15sZmlsZQ%3D%3D?line=2'>3</a>\u001b[0m \u001b[39mfor\u001b[39;00m index, row \u001b[39min\u001b[39;00m tqdm(df\u001b[39m.\u001b[39miterrows(), total\u001b[39m=\u001b[39m\u001b[39mlen\u001b[39m(df), mininterval\u001b[39m=\u001b[39m\u001b[39m1\u001b[39m, miniters\u001b[39m=\u001b[39m\u001b[39m1\u001b[39m):\n\u001b[1;32m----> <a href='vscode-notebook-cell:/c%3A/ROOT_final/final_project/1_analysis/4_song_cnt_filter.ipynb#X15sZmlsZQ%3D%3D?line=3'>4</a>\u001b[0m     df\u001b[39m.\u001b[39mat[index, \u001b[39m'\u001b[39m\u001b[39msongs\u001b[39m\u001b[39m'\u001b[39m] \u001b[39m=\u001b[39m [song \u001b[39mfor\u001b[39;00m song \u001b[39min\u001b[39;00m row[\u001b[39m'\u001b[39m\u001b[39msongs\u001b[39m\u001b[39m'\u001b[39m] \u001b[39mif\u001b[39;00m song \u001b[39mnot\u001b[39;00m \u001b[39min\u001b[39;00m less_than_1_songs]\n",
      "\u001b[1;32mc:\\ROOT_final\\final_project\\1_analysis\\4_song_cnt_filter.ipynb 셀 9\u001b[0m line \u001b[0;36m4\n\u001b[0;32m      <a href='vscode-notebook-cell:/c%3A/ROOT_final/final_project/1_analysis/4_song_cnt_filter.ipynb#X15sZmlsZQ%3D%3D?line=0'>1</a>\u001b[0m \u001b[39mfrom\u001b[39;00m \u001b[39mtqdm\u001b[39;00m \u001b[39mimport\u001b[39;00m tqdm\n\u001b[0;32m      <a href='vscode-notebook-cell:/c%3A/ROOT_final/final_project/1_analysis/4_song_cnt_filter.ipynb#X15sZmlsZQ%3D%3D?line=2'>3</a>\u001b[0m \u001b[39mfor\u001b[39;00m index, row \u001b[39min\u001b[39;00m tqdm(df\u001b[39m.\u001b[39miterrows(), total\u001b[39m=\u001b[39m\u001b[39mlen\u001b[39m(df), mininterval\u001b[39m=\u001b[39m\u001b[39m1\u001b[39m, miniters\u001b[39m=\u001b[39m\u001b[39m1\u001b[39m):\n\u001b[1;32m----> <a href='vscode-notebook-cell:/c%3A/ROOT_final/final_project/1_analysis/4_song_cnt_filter.ipynb#X15sZmlsZQ%3D%3D?line=3'>4</a>\u001b[0m     df\u001b[39m.\u001b[39mat[index, \u001b[39m'\u001b[39m\u001b[39msongs\u001b[39m\u001b[39m'\u001b[39m] \u001b[39m=\u001b[39m [song \u001b[39mfor\u001b[39;00m song \u001b[39min\u001b[39;00m row[\u001b[39m'\u001b[39m\u001b[39msongs\u001b[39m\u001b[39m'\u001b[39m] \u001b[39mif\u001b[39;00m song \u001b[39mnot\u001b[39;00m \u001b[39min\u001b[39;00m less_than_1_songs]\n",
      "\u001b[1;31mKeyboardInterrupt\u001b[0m: "
     ]
    }
   ],
   "source": [
    "from tqdm import tqdm\n",
    "\n",
    "for index, row in tqdm(df.iterrows(), total=len(df), mininterval=1, miniters=1):\n",
    "    df.at[index, 'songs'] = [song for song in row['songs'] if song not in less_than_1_songs]"
   ]
  },
  {
   "cell_type": "code",
   "execution_count": null,
   "metadata": {},
   "outputs": [],
   "source": [
    "# from tqdm import tqdm\n",
    "\n",
    "# # 1번 이하 사용된 songs 삭제\n",
    "# def remove_infrequent_songs(songs):\n",
    "#     return [song for song in songs if song not in less_than_1_songs]\n",
    "\n",
    "# # tqdm을 사용하여 진행 상황 모니터링\n",
    "# playlists_tag_cut['songs'] = playlists_tag_cut['songs'].apply(lambda songs: list(tqdm(remove_infrequent_songs(songs), leave=False)))"
   ]
  }
 ],
 "metadata": {
  "kernelspec": {
   "display_name": "base",
   "language": "python",
   "name": "python3"
  },
  "language_info": {
   "codemirror_mode": {
    "name": "ipython",
    "version": 3
   },
   "file_extension": ".py",
   "mimetype": "text/x-python",
   "name": "python",
   "nbconvert_exporter": "python",
   "pygments_lexer": "ipython3",
   "version": "3.10.9"
  },
  "orig_nbformat": 4
 },
 "nbformat": 4,
 "nbformat_minor": 2
}
