{
 "cells": [
  {
   "cell_type": "code",
   "execution_count": 2,
   "metadata": {},
   "outputs": [],
   "source": [
    "import pandas as pd\n",
    "from matplotlib import pyplot as plt\n",
    "import seaborn as sns\n",
    "import matplotlib.font_manager as fm\n",
    "\n",
    "fe = fm.FontEntry(\n",
    "    fname=r'./font/NanumGothic.ttf', name='NanumGothic')                       \n",
    "fm.fontManager.ttflist.insert(0, fe)              # Matplotlib에 폰트 추가\n",
    "plt.rcParams.update({'font.size': 10, 'font.family': 'NanumGothic'}) "
   ]
  },
  {
   "cell_type": "code",
   "execution_count": 3,
   "metadata": {},
   "outputs": [],
   "source": [
    "playlists = pd.read_json('../0_data/playlists.json', typ = 'frame', encoding='utf-8')"
   ]
  },
  {
   "cell_type": "code",
   "execution_count": 4,
   "metadata": {},
   "outputs": [
    {
     "data": {
      "text/html": [
       "<div>\n",
       "<style scoped>\n",
       "    .dataframe tbody tr th:only-of-type {\n",
       "        vertical-align: middle;\n",
       "    }\n",
       "\n",
       "    .dataframe tbody tr th {\n",
       "        vertical-align: top;\n",
       "    }\n",
       "\n",
       "    .dataframe thead th {\n",
       "        text-align: right;\n",
       "    }\n",
       "</style>\n",
       "<table border=\"1\" class=\"dataframe\">\n",
       "  <thead>\n",
       "    <tr style=\"text-align: right;\">\n",
       "      <th></th>\n",
       "      <th>tags</th>\n",
       "      <th>id</th>\n",
       "      <th>plylst_title</th>\n",
       "      <th>songs</th>\n",
       "      <th>like_cnt</th>\n",
       "      <th>updt_date</th>\n",
       "    </tr>\n",
       "  </thead>\n",
       "  <tbody>\n",
       "    <tr>\n",
       "      <th>0</th>\n",
       "      <td>[락]</td>\n",
       "      <td>61281</td>\n",
       "      <td>여행같은 음악</td>\n",
       "      <td>[525514, 129701, 383374, 562083, 297861, 13954...</td>\n",
       "      <td>71</td>\n",
       "      <td>2013-12-19 18:36:19.000</td>\n",
       "    </tr>\n",
       "    <tr>\n",
       "      <th>1</th>\n",
       "      <td>[추억, 회상]</td>\n",
       "      <td>10532</td>\n",
       "      <td>요즘 너 말야</td>\n",
       "      <td>[432406, 675945, 497066, 120377, 389529, 24427...</td>\n",
       "      <td>1</td>\n",
       "      <td>2014-12-02 16:19:42.000</td>\n",
       "    </tr>\n",
       "    <tr>\n",
       "      <th>2</th>\n",
       "      <td>[까페, 잔잔한]</td>\n",
       "      <td>76951</td>\n",
       "      <td>편하게, 잔잔하게 들을 수 있는 곡.-</td>\n",
       "      <td>[83116, 276692, 166267, 186301, 354465, 256598...</td>\n",
       "      <td>17</td>\n",
       "      <td>2017-08-28 07:09:34.000</td>\n",
       "    </tr>\n",
       "    <tr>\n",
       "      <th>3</th>\n",
       "      <td>[연말, 눈오는날, 캐럴, 분위기, 따듯한, 크리스마스캐럴, 겨울노래, 크리스마스,...</td>\n",
       "      <td>147456</td>\n",
       "      <td>크리스마스 분위기에 흠뻑 취하고 싶을때</td>\n",
       "      <td>[394031, 195524, 540149, 287984, 440773, 10033...</td>\n",
       "      <td>33</td>\n",
       "      <td>2019-12-05 15:15:18.000</td>\n",
       "    </tr>\n",
       "    <tr>\n",
       "      <th>4</th>\n",
       "      <td>[댄스]</td>\n",
       "      <td>27616</td>\n",
       "      <td>추억의 노래 ㅋ</td>\n",
       "      <td>[159327, 553610, 5130, 645103, 294435, 100657,...</td>\n",
       "      <td>9</td>\n",
       "      <td>2011-10-25 13:54:56.000</td>\n",
       "    </tr>\n",
       "  </tbody>\n",
       "</table>\n",
       "</div>"
      ],
      "text/plain": [
       "                                                tags      id  \\\n",
       "0                                                [락]   61281   \n",
       "1                                           [추억, 회상]   10532   \n",
       "2                                          [까페, 잔잔한]   76951   \n",
       "3  [연말, 눈오는날, 캐럴, 분위기, 따듯한, 크리스마스캐럴, 겨울노래, 크리스마스,...  147456   \n",
       "4                                               [댄스]   27616   \n",
       "\n",
       "            plylst_title                                              songs  \\\n",
       "0                여행같은 음악  [525514, 129701, 383374, 562083, 297861, 13954...   \n",
       "1                요즘 너 말야  [432406, 675945, 497066, 120377, 389529, 24427...   \n",
       "2  편하게, 잔잔하게 들을 수 있는 곡.-  [83116, 276692, 166267, 186301, 354465, 256598...   \n",
       "3  크리스마스 분위기에 흠뻑 취하고 싶을때  [394031, 195524, 540149, 287984, 440773, 10033...   \n",
       "4               추억의 노래 ㅋ  [159327, 553610, 5130, 645103, 294435, 100657,...   \n",
       "\n",
       "   like_cnt                updt_date  \n",
       "0        71  2013-12-19 18:36:19.000  \n",
       "1         1  2014-12-02 16:19:42.000  \n",
       "2        17  2017-08-28 07:09:34.000  \n",
       "3        33  2019-12-05 15:15:18.000  \n",
       "4         9  2011-10-25 13:54:56.000  "
      ]
     },
     "execution_count": 4,
     "metadata": {},
     "output_type": "execute_result"
    }
   ],
   "source": [
    "playlists.head()"
   ]
  },
  {
   "cell_type": "markdown",
   "metadata": {},
   "source": [
    "---"
   ]
  },
  {
   "cell_type": "code",
   "execution_count": 43,
   "metadata": {},
   "outputs": [
    {
     "name": "stderr",
     "output_type": "stream",
     "text": [
      "C:\\Users\\cg063\\AppData\\Local\\Temp\\ipykernel_10540\\3420375286.py:7: FutureWarning: The default value of numeric_only in DataFrameGroupBy.sum is deprecated. In a future version, numeric_only will default to False. Either specify numeric_only or select only columns which should be valid for the function.\n",
      "  ply_song_like = playlists.explode('songs').groupby('songs').sum()['like_cnt']\n"
     ]
    },
    {
     "data": {
      "text/html": [
       "<div>\n",
       "<style scoped>\n",
       "    .dataframe tbody tr th:only-of-type {\n",
       "        vertical-align: middle;\n",
       "    }\n",
       "\n",
       "    .dataframe tbody tr th {\n",
       "        vertical-align: top;\n",
       "    }\n",
       "\n",
       "    .dataframe thead th {\n",
       "        text-align: right;\n",
       "    }\n",
       "</style>\n",
       "<table border=\"1\" class=\"dataframe\">\n",
       "  <thead>\n",
       "    <tr style=\"text-align: right;\">\n",
       "      <th></th>\n",
       "      <th>songs</th>\n",
       "      <th>like_cnt</th>\n",
       "      <th>freq</th>\n",
       "    </tr>\n",
       "  </thead>\n",
       "  <tbody>\n",
       "    <tr>\n",
       "      <th>count</th>\n",
       "      <td>615142.000000</td>\n",
       "      <td>615142.000000</td>\n",
       "      <td>615142.000000</td>\n",
       "    </tr>\n",
       "    <tr>\n",
       "      <th>mean</th>\n",
       "      <td>353955.493888</td>\n",
       "      <td>1508.641172</td>\n",
       "      <td>8.592928</td>\n",
       "    </tr>\n",
       "    <tr>\n",
       "      <th>std</th>\n",
       "      <td>204338.932425</td>\n",
       "      <td>6652.869225</td>\n",
       "      <td>39.481912</td>\n",
       "    </tr>\n",
       "    <tr>\n",
       "      <th>min</th>\n",
       "      <td>0.000000</td>\n",
       "      <td>0.000000</td>\n",
       "      <td>1.000000</td>\n",
       "    </tr>\n",
       "    <tr>\n",
       "      <th>25%</th>\n",
       "      <td>176957.250000</td>\n",
       "      <td>13.000000</td>\n",
       "      <td>1.000000</td>\n",
       "    </tr>\n",
       "    <tr>\n",
       "      <th>50%</th>\n",
       "      <td>353982.500000</td>\n",
       "      <td>76.000000</td>\n",
       "      <td>2.000000</td>\n",
       "    </tr>\n",
       "    <tr>\n",
       "      <th>75%</th>\n",
       "      <td>530864.750000</td>\n",
       "      <td>563.000000</td>\n",
       "      <td>4.000000</td>\n",
       "    </tr>\n",
       "    <tr>\n",
       "      <th>max</th>\n",
       "      <td>707988.000000</td>\n",
       "      <td>326947.000000</td>\n",
       "      <td>2175.000000</td>\n",
       "    </tr>\n",
       "  </tbody>\n",
       "</table>\n",
       "</div>"
      ],
      "text/plain": [
       "               songs       like_cnt           freq\n",
       "count  615142.000000  615142.000000  615142.000000\n",
       "mean   353955.493888    1508.641172       8.592928\n",
       "std    204338.932425    6652.869225      39.481912\n",
       "min         0.000000       0.000000       1.000000\n",
       "25%    176957.250000      13.000000       1.000000\n",
       "50%    353982.500000      76.000000       2.000000\n",
       "75%    530864.750000     563.000000       4.000000\n",
       "max    707988.000000  326947.000000    2175.000000"
      ]
     },
     "execution_count": 43,
     "metadata": {},
     "output_type": "execute_result"
    }
   ],
   "source": [
    "# 노래 사용 빈도수 확인\n",
    "ply_song_freq = playlists.explode('songs').groupby('songs').count()['id']\n",
    "ply_song_freq = pd.DataFrame(ply_song_freq).reset_index()\n",
    "ply_song_freq.rename(columns={'id':'freq'}, inplace=True)\n",
    "\n",
    "# 노래 별 좋아요 수 확인\n",
    "ply_song_like = playlists.explode('songs').groupby('songs').sum()['like_cnt']\n",
    "ply_song_like = pd.DataFrame(ply_song_like).reset_index()\n",
    "\n",
    "# 상관관계 확인을 위한 데이터프레임 형성\n",
    "ply_corr_song = pd.merge(ply_song_like, ply_song_freq, how='left', on='songs')\n",
    "ply_corr_song.describe()"
   ]
  },
  {
   "cell_type": "code",
   "execution_count": 44,
   "metadata": {},
   "outputs": [
    {
     "data": {
      "image/png": "[encoded data removed]",
      "text/plain": [
       "<Figure size 800x600 with 1 Axes>"
      ]
     },
     "metadata": {},
     "output_type": "display_data"
    },
    {
     "name": "stdout",
     "output_type": "stream",
     "text": [
      "빈도수가 높은 노래 상위 20%가 전체 좋아요의 83.77%를 차지합니다.\n"
     ]
    }
   ],
   "source": [
    "# 데이터프레임을 'freq' 열을 기준으로 내림차순 정렬\n",
    "sorted_df = ply_corr_song.sort_values(by='freq', ascending=False)\n",
    "\n",
    "# 상위 20%의 노래 선택\n",
    "top_20_percent = sorted_df.head(int(0.2 * len(sorted_df)))\n",
    "\n",
    "# 상위 20% 노래의 사용횟수 합계\n",
    "freq_top_20_percent = top_20_percent['freq'].sum()\n",
    "\n",
    "# 전체 노래 사용횟수 합계 계산\n",
    "total_freq = ply_corr_song['freq'].sum()\n",
    "\n",
    "# 빈도수 상위 20% 노래가 전체 횟수에서 차지하는 비율 계산\n",
    "percentage = (freq_top_20_percent / total_freq) * 100\n",
    "\n",
    "# 결과 시각화\n",
    "plt.figure(figsize=(8, 6))  # 그래프 크기 설정\n",
    "plt.bar(['상위 20%', '나머지 80%'], [percentage, 100 - percentage], color=['#8E7EFF', '#EBBEDF'])\n",
    "plt.title(\"빈도수가 높은 노래 비율\", fontsize=16)\n",
    "plt.xlabel(\"데이터 분포\", fontsize=14)\n",
    "plt.ylabel(\"비율 (%)\", fontsize=14)\n",
    "plt.xticks(fontsize=12)\n",
    "plt.yticks(fontsize=12)\n",
    "plt.ylim(0, 100)  # y축 범위 설정\n",
    "\n",
    "plt.show()\n",
    "print(f\"빈도수가 높은 노래 상위 20%가 전체 좋아요의 {percentage:.2f}%를 차지합니다.\")"
   ]
  },
  {
   "cell_type": "code",
   "execution_count": 45,
   "metadata": {},
   "outputs": [
    {
     "name": "stderr",
     "output_type": "stream",
     "text": [
      "C:\\Users\\cg063\\AppData\\Local\\Temp\\ipykernel_10540\\3976850263.py:7: FutureWarning: The default value of numeric_only in DataFrameGroupBy.sum is deprecated. In a future version, numeric_only will default to False. Either specify numeric_only or select only columns which should be valid for the function.\n",
      "  ply_tag_like = playlists.explode('tags').groupby('tags').sum()['like_cnt']\n"
     ]
    },
    {
     "data": {
      "text/html": [
       "<div>\n",
       "<style scoped>\n",
       "    .dataframe tbody tr th:only-of-type {\n",
       "        vertical-align: middle;\n",
       "    }\n",
       "\n",
       "    .dataframe tbody tr th {\n",
       "        vertical-align: top;\n",
       "    }\n",
       "\n",
       "    .dataframe thead th {\n",
       "        text-align: right;\n",
       "    }\n",
       "</style>\n",
       "<table border=\"1\" class=\"dataframe\">\n",
       "  <thead>\n",
       "    <tr style=\"text-align: right;\">\n",
       "      <th></th>\n",
       "      <th>like_cnt</th>\n",
       "      <th>freq</th>\n",
       "    </tr>\n",
       "  </thead>\n",
       "  <tbody>\n",
       "    <tr>\n",
       "      <th>count</th>\n",
       "      <td>2.916000e+04</td>\n",
       "      <td>29160.000000</td>\n",
       "    </tr>\n",
       "    <tr>\n",
       "      <th>mean</th>\n",
       "      <td>2.010221e+03</td>\n",
       "      <td>16.335082</td>\n",
       "    </tr>\n",
       "    <tr>\n",
       "      <th>std</th>\n",
       "      <td>3.131825e+04</td>\n",
       "      <td>247.011075</td>\n",
       "    </tr>\n",
       "    <tr>\n",
       "      <th>min</th>\n",
       "      <td>0.000000e+00</td>\n",
       "      <td>1.000000</td>\n",
       "    </tr>\n",
       "    <tr>\n",
       "      <th>25%</th>\n",
       "      <td>7.000000e+00</td>\n",
       "      <td>1.000000</td>\n",
       "    </tr>\n",
       "    <tr>\n",
       "      <th>50%</th>\n",
       "      <td>2.500000e+01</td>\n",
       "      <td>1.000000</td>\n",
       "    </tr>\n",
       "    <tr>\n",
       "      <th>75%</th>\n",
       "      <td>1.510000e+02</td>\n",
       "      <td>3.000000</td>\n",
       "    </tr>\n",
       "    <tr>\n",
       "      <th>max</th>\n",
       "      <td>2.253288e+06</td>\n",
       "      <td>16465.000000</td>\n",
       "    </tr>\n",
       "  </tbody>\n",
       "</table>\n",
       "</div>"
      ],
      "text/plain": [
       "           like_cnt          freq\n",
       "count  2.916000e+04  29160.000000\n",
       "mean   2.010221e+03     16.335082\n",
       "std    3.131825e+04    247.011075\n",
       "min    0.000000e+00      1.000000\n",
       "25%    7.000000e+00      1.000000\n",
       "50%    2.500000e+01      1.000000\n",
       "75%    1.510000e+02      3.000000\n",
       "max    2.253288e+06  16465.000000"
      ]
     },
     "execution_count": 45,
     "metadata": {},
     "output_type": "execute_result"
    }
   ],
   "source": [
    "# 태그 사용 빈도수 확인\n",
    "ply_tag_freq = playlists.explode('tags').groupby('tags').count()['id']\n",
    "ply_tag_freq = pd.DataFrame(ply_tag_freq).reset_index()\n",
    "ply_tag_freq.rename(columns={'id':'freq'}, inplace=True)\n",
    "\n",
    "# 태그 별 좋아요 수 확인\n",
    "ply_tag_like = playlists.explode('tags').groupby('tags').sum()['like_cnt']\n",
    "ply_tag_like = pd.DataFrame(ply_tag_like).reset_index()\n",
    "\n",
    "# 상관관계 확인을 위한 데이터프레임 형성\n",
    "ply_corr_tag = pd.merge(ply_tag_like, ply_tag_freq, how='left', on='tags')\n",
    "ply_corr_tag.describe()"
   ]
  },
  {
   "cell_type": "code",
   "execution_count": 46,
   "metadata": {},
   "outputs": [
    {
     "data": {
      "image/png": "[encoded data removed]",
      "text/plain": [
       "<Figure size 800x600 with 1 Axes>"
      ]
     },
     "metadata": {},
     "output_type": "display_data"
    },
    {
     "name": "stdout",
     "output_type": "stream",
     "text": [
      "빈도수가 높은 노래 상위 20%가 전체 좋아요의 93.42%를 차지합니다.\n"
     ]
    }
   ],
   "source": [
    "# 데이터프레임을 'freq' 열을 기준으로 내림차순 정렬\n",
    "sorted_df = ply_corr_tag.sort_values(by='freq', ascending=False)\n",
    "\n",
    "# 상위 20%의 태그 선택\n",
    "top_20_percent = sorted_df.head(int(0.2 * len(sorted_df)))\n",
    "\n",
    "# 상위 20% 태그의 사용횟수 합계\n",
    "freq_top_20_percent = top_20_percent['freq'].sum()\n",
    "\n",
    "# 전체 태그 사용횟수 합계 계산\n",
    "total_freq = ply_corr_tag['freq'].sum()\n",
    "\n",
    "# 빈도수 상위 20% 태그가 전체 횟수에서 차지하는 비율 계산\n",
    "percentage = (freq_top_20_percent / total_freq) * 100\n",
    "\n",
    "# 결과 시각화\n",
    "plt.figure(figsize=(8, 6))  # 그래프 크기 설정\n",
    "plt.bar(['상위 20%', '나머지 80%'], [percentage, 100 - percentage], color=['#8E7EFF', '#EBBEDF'])\n",
    "plt.title(\"빈도수가 높은 태그 비율\", fontsize=16)\n",
    "plt.xlabel(\"데이터 분포\", fontsize=14)\n",
    "plt.ylabel(\"비율 (%)\", fontsize=14)\n",
    "plt.xticks(fontsize=12)\n",
    "plt.yticks(fontsize=12)\n",
    "plt.ylim(0, 100)  # y축 범위 설정\n",
    "\n",
    "plt.show()\n",
    "print(f\"빈도수가 높은 노래 상위 20%가 전체 좋아요의 {percentage:.2f}%를 차지합니다.\")"
   ]
  },
  {
   "cell_type": "code",
   "execution_count": null,
   "metadata": {},
   "outputs": [],
   "source": []
  }
 ],
 "metadata": {
  "kernelspec": {
   "display_name": "base",
   "language": "python",
   "name": "python3"
  },
  "language_info": {
   "codemirror_mode": {
    "name": "ipython",
    "version": 3
   },
   "file_extension": ".py",
   "mimetype": "text/x-python",
   "name": "python",
   "nbconvert_exporter": "python",
   "pygments_lexer": "ipython3",
   "version": "3.11.4"
  }
 },
 "nbformat": 4,
 "nbformat_minor": 2
}
