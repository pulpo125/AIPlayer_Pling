{
 "cells": [
  {
   "cell_type": "code",
   "execution_count": 1,
   "metadata": {},
   "outputs": [],
   "source": [
    "import numpy as np\n",
    "import pandas as pd\n",
    "from numpy import dot\n",
    "from numpy.linalg import norm\n",
    "from sentence_transformers import SentenceTransformer\n",
    "import pymysql"
   ]
  },
  {
   "cell_type": "code",
   "execution_count": 2,
   "metadata": {},
   "outputs": [],
   "source": [
    "model = SentenceTransformer('sentence-transformers/xlm-r-100langs-bert-base-nli-stsb-mean-tokens')"
   ]
  },
  {
   "cell_type": "code",
   "execution_count": 3,
   "metadata": {},
   "outputs": [],
   "source": [
    "# mysql 연동\n",
    "conn = pymysql.connect(host='127.0.0.1'\n",
    "                , port=3306\n",
    "                , user = 'root'\n",
    "                , password='root1234'\n",
    "                , db = 'finaldb'\n",
    "                , charset='utf8'\n",
    "                ) \n",
    "\n",
    "cur = conn.cursor()"
   ]
  },
  {
   "cell_type": "code",
   "execution_count": 7,
   "metadata": {},
   "outputs": [],
   "source": [
    "# 가장 유사한 플레이리스트 추출\n",
    "def cos_sim(A, B):\n",
    "  return dot(A, B)/(norm(A)*norm(B))"
   ]
  },
  {
   "cell_type": "code",
   "execution_count": 341,
   "metadata": {},
   "outputs": [],
   "source": [
    "# input\n",
    "new_title = \"비 오는 날 카페에서 창 밖을 바라보며\""
   ]
  },
  {
   "cell_type": "code",
   "execution_count": 342,
   "metadata": {},
   "outputs": [],
   "source": [
    "cur = conn.cursor()\n",
    "new_embedding = model.encode(new_title)\n",
    "\n"
   ]
  },
  {
   "cell_type": "code",
   "execution_count": 343,
   "metadata": {},
   "outputs": [
    {
     "name": "stderr",
     "output_type": "stream",
     "text": [
      "C:\\Users\\k9942\\AppData\\Local\\Temp\\ipykernel_23216\\837042529.py:2: UserWarning: pandas only supports SQLAlchemy connectable (engine/connection) or database string URI or sqlite3 DBAPI2 connection. Other DBAPI2 objects are not tested. Please consider using SQLAlchemy.\n",
      "  ply_title_embedding = pd.read_sql(sql, conn)\n"
     ]
    }
   ],
   "source": [
    "sql = 'SELECT * FROM ply_title_embedding'\n",
    "ply_title_embedding = pd.read_sql(sql, conn)"
   ]
  },
  {
   "cell_type": "code",
   "execution_count": 344,
   "metadata": {},
   "outputs": [],
   "source": [
    "# str -> embedding(array)\n",
    "ply_title_embedding['ply_title_emd'] = ply_title_embedding.apply(lambda x: np.fromstring(x['ply_title_emd'],dtype=float, sep=','), axis=1)\n",
    "\n",
    "# cosine similarity 계산\n",
    "ply_title_embedding['cos_sim'] = ply_title_embedding.apply(lambda x: cos_sim(x['ply_title_emd'], new_embedding), axis=1)\n",
    "\n",
    "# 유사한 플리 2개 id 추출\n",
    "sim_ply_id = list(ply_title_embedding.sort_values(by='cos_sim', ascending=False)['ply_id'][:5])"
   ]
  },
  {
   "cell_type": "code",
   "execution_count": 345,
   "metadata": {},
   "outputs": [
    {
     "data": {
      "text/plain": [
       "[100425, 13343, 37504, 114848, 126736]"
      ]
     },
     "execution_count": 345,
     "metadata": {},
     "output_type": "execute_result"
    }
   ],
   "source": [
    "sim_ply_id"
   ]
  },
  {
   "cell_type": "code",
   "execution_count": 320,
   "metadata": {},
   "outputs": [
    {
     "name": "stderr",
     "output_type": "stream",
     "text": [
      "C:\\Users\\k9942\\AppData\\Local\\Temp\\ipykernel_23216\\2459628092.py:2: UserWarning: pandas only supports SQLAlchemy connectable (engine/connection) or database string URI or sqlite3 DBAPI2 connection. Other DBAPI2 objects are not tested. Please consider using SQLAlchemy.\n",
      "  sim_ply_meta = pd.read_sql(sql, conn)\n"
     ]
    },
    {
     "data": {
      "text/html": [
       "<div>\n",
       "<style scoped>\n",
       "    .dataframe tbody tr th:only-of-type {\n",
       "        vertical-align: middle;\n",
       "    }\n",
       "\n",
       "    .dataframe tbody tr th {\n",
       "        vertical-align: top;\n",
       "    }\n",
       "\n",
       "    .dataframe thead th {\n",
       "        text-align: right;\n",
       "    }\n",
       "</style>\n",
       "<table border=\"1\" class=\"dataframe\">\n",
       "  <thead>\n",
       "    <tr style=\"text-align: right;\">\n",
       "      <th></th>\n",
       "      <th>ply_id</th>\n",
       "      <th>ply_title</th>\n",
       "      <th>ply_tag_lst</th>\n",
       "      <th>ply_like_cnt</th>\n",
       "      <th>ply_updt</th>\n",
       "    </tr>\n",
       "  </thead>\n",
       "  <tbody>\n",
       "    <tr>\n",
       "      <th>0</th>\n",
       "      <td>13343</td>\n",
       "      <td>비오는 오후 카페에서 사람 구경</td>\n",
       "      <td>비오는날, 혼자있고싶을때, 카페음악, 인디음악</td>\n",
       "      <td>8</td>\n",
       "      <td>2017-04-05 18:59:46.000</td>\n",
       "    </tr>\n",
       "    <tr>\n",
       "      <th>1</th>\n",
       "      <td>37504</td>\n",
       "      <td>비오는 날  창가에 앉아서</td>\n",
       "      <td>비오는날, 까페</td>\n",
       "      <td>9</td>\n",
       "      <td>2015-12-02 11:21:17.000</td>\n",
       "    </tr>\n",
       "    <tr>\n",
       "      <th>2</th>\n",
       "      <td>100425</td>\n",
       "      <td>비오는날 창밖을 보며</td>\n",
       "      <td>커피, 감성, 기분전환, 사랑, 잔잔한, 뉴에이지, 겨울비, 봄비, 비오는날, 카페</td>\n",
       "      <td>89</td>\n",
       "      <td>2018-02-28 13:05:16.000</td>\n",
       "    </tr>\n",
       "  </tbody>\n",
       "</table>\n",
       "</div>"
      ],
      "text/plain": [
       "   ply_id          ply_title                                     ply_tag_lst  \\\n",
       "0   13343  비오는 오후 카페에서 사람 구경                       비오는날, 혼자있고싶을때, 카페음악, 인디음악   \n",
       "1   37504     비오는 날  창가에 앉아서                                        비오는날, 까페   \n",
       "2  100425        비오는날 창밖을 보며  커피, 감성, 기분전환, 사랑, 잔잔한, 뉴에이지, 겨울비, 봄비, 비오는날, 카페   \n",
       "\n",
       "   ply_like_cnt                 ply_updt  \n",
       "0             8  2017-04-05 18:59:46.000  \n",
       "1             9  2015-12-02 11:21:17.000  \n",
       "2            89  2018-02-28 13:05:16.000  "
      ]
     },
     "execution_count": 320,
     "metadata": {},
     "output_type": "execute_result"
    }
   ],
   "source": [
    "sql = 'SELECT * FROM ply_meta WHERE ply_id = 100425 or ply_id = 13343 or ply_id = 37504'\n",
    "sim_ply_meta = pd.read_sql(sql, conn)\n",
    "sim_ply_meta.head()"
   ]
  },
  {
   "cell_type": "code",
   "execution_count": null,
   "metadata": {},
   "outputs": [],
   "source": [
    "[234462, 451946, 678145, 30748, 462092, 658645, 253755, 476469, 506254, 61029]"
   ]
  },
  {
   "cell_type": "code",
   "execution_count": 252,
   "metadata": {},
   "outputs": [
    {
     "name": "stderr",
     "output_type": "stream",
     "text": [
      "C:\\Users\\k9942\\AppData\\Local\\Temp\\ipykernel_23216\\1235305545.py:2: UserWarning: pandas only supports SQLAlchemy connectable (engine/connection) or database string URI or sqlite3 DBAPI2 connection. Other DBAPI2 objects are not tested. Please consider using SQLAlchemy.\n",
      "  sm = pd.read_sql(sm, conn)\n"
     ]
    },
    {
     "data": {
      "text/html": [
       "<div>\n",
       "<style scoped>\n",
       "    .dataframe tbody tr th:only-of-type {\n",
       "        vertical-align: middle;\n",
       "    }\n",
       "\n",
       "    .dataframe tbody tr th {\n",
       "        vertical-align: top;\n",
       "    }\n",
       "\n",
       "    .dataframe thead th {\n",
       "        text-align: right;\n",
       "    }\n",
       "</style>\n",
       "<table border=\"1\" class=\"dataframe\">\n",
       "  <thead>\n",
       "    <tr style=\"text-align: right;\">\n",
       "      <th></th>\n",
       "      <th>song_id</th>\n",
       "      <th>song_name</th>\n",
       "      <th>artist_name_lst</th>\n",
       "      <th>song_gnr_lst</th>\n",
       "    </tr>\n",
       "  </thead>\n",
       "  <tbody>\n",
       "    <tr>\n",
       "      <th>0</th>\n",
       "      <td>234462</td>\n",
       "      <td>오늘 서울은 하루종일 맑음 (Vocal 윤하)</td>\n",
       "      <td>토이, 윤하 (YOUNHA)</td>\n",
       "      <td>발라드</td>\n",
       "    </tr>\n",
       "    <tr>\n",
       "      <th>1</th>\n",
       "      <td>451946</td>\n",
       "      <td>바래진 기억에</td>\n",
       "      <td>박지윤</td>\n",
       "      <td>발라드</td>\n",
       "    </tr>\n",
       "    <tr>\n",
       "      <th>2</th>\n",
       "      <td>678145</td>\n",
       "      <td>Goodbye</td>\n",
       "      <td>라디 (Ra. D)</td>\n",
       "      <td>R&amp;B/Soul</td>\n",
       "    </tr>\n",
       "  </tbody>\n",
       "</table>\n",
       "</div>"
      ],
      "text/plain": [
       "   song_id                  song_name  artist_name_lst song_gnr_lst\n",
       "0   234462  오늘 서울은 하루종일 맑음 (Vocal 윤하)  토이, 윤하 (YOUNHA)          발라드\n",
       "1   451946                    바래진 기억에              박지윤          발라드\n",
       "2   678145                    Goodbye       라디 (Ra. D)     R&B/Soul"
      ]
     },
     "execution_count": 252,
     "metadata": {},
     "output_type": "execute_result"
    }
   ],
   "source": [
    "sm = 'SELECT * FROM song_meta WHERE song_id = 234462 or song_id = 451946 or song_id = 678145'\n",
    "sm = pd.read_sql(sm, conn)\n",
    "sm.head()"
   ]
  },
  {
   "cell_type": "markdown",
   "metadata": {},
   "source": [
    "---"
   ]
  },
  {
   "cell_type": "code",
   "execution_count": 5,
   "metadata": {},
   "outputs": [],
   "source": [
    "# # 플리 id 마지막 값 가져오기\n",
    "# cur = conn.cursor()\n",
    "# cur.execute('select ply_id from ply_meta order by ply_id desc limit 1;')\n",
    "# last_ply_id = cur.fetchall()\n",
    "# new_ply_id = last_ply_id[0][0] + 1"
   ]
  },
  {
   "cell_type": "code",
   "execution_count": 6,
   "metadata": {},
   "outputs": [
    {
     "data": {
      "text/plain": [
       "153429"
      ]
     },
     "execution_count": 6,
     "metadata": {},
     "output_type": "execute_result"
    }
   ],
   "source": [
    "# new_ply_id"
   ]
  },
  {
   "cell_type": "code",
   "execution_count": 6,
   "metadata": {},
   "outputs": [],
   "source": [
    "# Insert new ply_title \n",
    "# cur.execute(f'INSERT INTO ply_meta (ply_id, ply_title, ply_updt) VALUES ({new_ply_id}, \"{new_title}\", now());')\n",
    "# conn.commit()"
   ]
  },
  {
   "cell_type": "code",
   "execution_count": 7,
   "metadata": {},
   "outputs": [],
   "source": [
    "# # input_title embedding 값 만들기\n",
    "# new_embedding = model.encode(new_title)"
   ]
  },
  {
   "cell_type": "code",
   "execution_count": null,
   "metadata": {},
   "outputs": [],
   "source": [
    "# new_embedding"
   ]
  },
  {
   "cell_type": "code",
   "execution_count": 8,
   "metadata": {},
   "outputs": [],
   "source": [
    "# Insert new title embedding\n",
    "# cur.execute(f'INSERT INTO ply_title_embedding (ply_id, ply_title_emd) VALUES ({new_ply_id}, \"{new_embedding}\");')\n",
    "# conn.commit()"
   ]
  },
  {
   "cell_type": "code",
   "execution_count": 9,
   "metadata": {},
   "outputs": [],
   "source": [
    "# 가장 유사한 플레이리스트 추출\n",
    "def cos_sim(A, B):\n",
    "  return dot(A, B)/(norm(A)*norm(B))"
   ]
  },
  {
   "cell_type": "code",
   "execution_count": 10,
   "metadata": {},
   "outputs": [
    {
     "name": "stderr",
     "output_type": "stream",
     "text": [
      "C:\\Users\\k9942\\AppData\\Local\\Temp\\ipykernel_5984\\837042529.py:2: UserWarning: pandas only supports SQLAlchemy connectable (engine/connection) or database string URI or sqlite3 DBAPI2 connection. Other DBAPI2 objects are not tested. Please consider using SQLAlchemy.\n",
      "  ply_title_embedding = pd.read_sql(sql, conn)\n"
     ]
    }
   ],
   "source": [
    "sql = 'SELECT * FROM ply_title_embedding'\n",
    "ply_title_embedding = pd.read_sql(sql, conn)"
   ]
  },
  {
   "cell_type": "code",
   "execution_count": 12,
   "metadata": {},
   "outputs": [
    {
     "data": {
      "text/html": [
       "<div>\n",
       "<style scoped>\n",
       "    .dataframe tbody tr th:only-of-type {\n",
       "        vertical-align: middle;\n",
       "    }\n",
       "\n",
       "    .dataframe tbody tr th {\n",
       "        vertical-align: top;\n",
       "    }\n",
       "\n",
       "    .dataframe thead th {\n",
       "        text-align: right;\n",
       "    }\n",
       "</style>\n",
       "<table border=\"1\" class=\"dataframe\">\n",
       "  <thead>\n",
       "    <tr style=\"text-align: right;\">\n",
       "      <th></th>\n",
       "      <th>emd_id</th>\n",
       "      <th>ply_id</th>\n",
       "      <th>ply_title_emd</th>\n",
       "    </tr>\n",
       "  </thead>\n",
       "  <tbody>\n",
       "    <tr>\n",
       "      <th>0</th>\n",
       "      <td>1</td>\n",
       "      <td>117162</td>\n",
       "      <td>-0.6645728946, -0.7428655624, 0.9763435721, -0...</td>\n",
       "    </tr>\n",
       "    <tr>\n",
       "      <th>1</th>\n",
       "      <td>2</td>\n",
       "      <td>151638</td>\n",
       "      <td>-0.0026101221, 0.1385624856, 1.9987051487, 0.0...</td>\n",
       "    </tr>\n",
       "    <tr>\n",
       "      <th>2</th>\n",
       "      <td>3</td>\n",
       "      <td>27984</td>\n",
       "      <td>-0.4456211329, 0.0304336753, 1.2807025909, -0....</td>\n",
       "    </tr>\n",
       "    <tr>\n",
       "      <th>3</th>\n",
       "      <td>4</td>\n",
       "      <td>30079</td>\n",
       "      <td>-0.1292974651, 0.07028008250000001, 1.06260252...</td>\n",
       "    </tr>\n",
       "    <tr>\n",
       "      <th>4</th>\n",
       "      <td>5</td>\n",
       "      <td>52572</td>\n",
       "      <td>-0.21672616900000002, -0.0234135706, 1.0831099...</td>\n",
       "    </tr>\n",
       "  </tbody>\n",
       "</table>\n",
       "</div>"
      ],
      "text/plain": [
       "   emd_id  ply_id                                      ply_title_emd\n",
       "0       1  117162  -0.6645728946, -0.7428655624, 0.9763435721, -0...\n",
       "1       2  151638  -0.0026101221, 0.1385624856, 1.9987051487, 0.0...\n",
       "2       3   27984  -0.4456211329, 0.0304336753, 1.2807025909, -0....\n",
       "3       4   30079  -0.1292974651, 0.07028008250000001, 1.06260252...\n",
       "4       5   52572  -0.21672616900000002, -0.0234135706, 1.0831099..."
      ]
     },
     "execution_count": 12,
     "metadata": {},
     "output_type": "execute_result"
    }
   ],
   "source": [
    "ply_title_embedding.head()"
   ]
  },
  {
   "cell_type": "code",
   "execution_count": 16,
   "metadata": {},
   "outputs": [
    {
     "data": {
      "text/plain": [
       "array([-0.66457289, -0.74286556,  0.97634357, -0.02748305,  0.60607541,\n",
       "       -0.55852813, -0.47341421,  0.07493094,  0.0254955 , -0.62810802,\n",
       "        0.18689969,  0.0879852 , -0.11623359,  0.43376115,  0.03830802,\n",
       "        0.08585956,  0.39989254, -0.05319985,  0.35957113, -0.75158173,\n",
       "        0.53430384,  0.13137089,  0.17460242, -0.27146977, -0.23704727,\n",
       "       -0.8135041 ,  0.06387217, -0.05302037,  0.93709463,  0.35246709,\n",
       "       -0.30167225,  0.72681719, -0.44047704, -0.37019578, -0.25567219,\n",
       "       -0.2047333 , -0.20838092,  0.80500418,  0.09485076, -0.07501914,\n",
       "       -0.01121316, -0.43217891,  0.19892727, -0.0323044 , -0.33149099,\n",
       "       -0.10192275,  0.08870346,  0.47512895,  0.26690188, -0.77355009,\n",
       "       -0.14977601, -0.08149196,  0.99988759,  0.74196529, -0.71967936,\n",
       "        0.14848152, -0.08216969,  0.5500561 ,  0.28603575,  0.0819269 ,\n",
       "       -0.66555899,  0.16254689,  0.07249577,  0.15712616, -0.31431955,\n",
       "        0.13759488,  1.25317848, -0.0888943 ,  0.17873168,  0.68779248,\n",
       "       -0.20446852,  0.2272438 ,  0.03079032,  0.5482713 , -0.01077538,\n",
       "        0.01024329,  0.44880366,  0.51087517, -0.02236657,  0.49260035,\n",
       "        0.17415941, -0.76067317,  0.55826914, -0.53172314, -0.4801181 ,\n",
       "       -0.47182933, -0.57315391, -0.14893316, -0.46385017, -0.25209194,\n",
       "        0.02804653, -0.88602102,  0.19506058, -0.16364469, -0.67257977,\n",
       "       -0.26671222,  0.03833898, -0.5226835 ,  0.11778694,  0.14378187,\n",
       "        0.59670573, -0.17521255,  0.3833642 ,  0.41266391,  0.43535623,\n",
       "        0.13448052, -0.23916166, -0.40280724, -0.329496  ,  0.12155093,\n",
       "       -0.84030765, -0.66785961,  0.99708253, -0.53579772, -0.58099908,\n",
       "       -0.1496978 , -0.46989352,  0.14406356,  0.09138024, -0.04618732,\n",
       "       -0.2539019 , -0.07365752,  0.46975055,  0.08691653,  0.12629442,\n",
       "        0.38246059,  0.62737465, -0.02295747, -0.50720066, -0.27004069,\n",
       "       -0.14662291,  0.0549066 , -0.66489249,  0.09052466, -0.11136745,\n",
       "       -0.06649629, -0.06803951,  0.25723967, -0.03685525,  0.48561406,\n",
       "        0.38025752, -0.0204614 , -0.43988928,  0.17655936,  0.43895999,\n",
       "       -0.195972  ,  0.05301783, -0.32964668,  0.2852833 , -0.17996538,\n",
       "        0.31109878,  0.08331353,  0.32648113,  0.35477757, -0.03897693,\n",
       "       -0.02314274, -0.43113685,  0.04688647, -0.36110047,  0.06425848,\n",
       "        0.53701246, -0.09336611,  0.05116958, -0.37587005,  0.18725941,\n",
       "        0.5530504 , -0.56951123,  0.154056  ,  0.32409653,  0.59444278,\n",
       "        0.84932363,  0.03269159,  0.74074942, -0.91769308, -0.05685776,\n",
       "        0.79500848, -0.25849587, -0.10202885, -0.10536767,  0.18907051,\n",
       "       -0.40306562, -0.15783735,  0.65688044, -0.3578108 ,  0.06179332,\n",
       "       -0.05250939,  0.07390993,  0.27859008,  1.03849196, -0.47038716,\n",
       "       -0.0760412 , -0.67726034,  0.3692452 , -0.28856564,  0.16911493,\n",
       "        0.42695126,  0.19201851,  0.17846282,  0.02262802, -0.63798153,\n",
       "        0.21779336, -0.9159531 ,  0.1685559 , -0.13651453, -0.58554888,\n",
       "        0.10627152, -0.35162047, -0.46777684, -0.22625944,  0.43616724,\n",
       "       -0.54020137, -1.1900723 , -0.22302832, -0.44716516,  0.66698492,\n",
       "        1.02387893, -0.2639842 , -0.46073976, -0.52762914,  0.32595584,\n",
       "       -0.28048033,  0.24144399,  0.44143406, -0.16543305, -0.70831054,\n",
       "        0.34818146, -0.25101286, -0.19845201, -0.50813717, -0.58095711,\n",
       "        0.15264809, -0.66206306,  0.50629902,  0.05379594,  0.53737235,\n",
       "        0.4367311 , -0.3897405 , -0.03781217, -0.45736328, -0.48845011,\n",
       "       -0.47016028, -0.17676017, -0.36967748, -0.57254976, -0.56682491,\n",
       "       -0.02302976, -0.17477073, -0.35411662,  0.23573719,  0.14766929,\n",
       "        0.2665914 ,  0.3572619 ,  0.23698343,  0.44222245, -0.51089877,\n",
       "        0.03007321, -0.09796818,  0.07402456,  0.05917597, -0.32465044,\n",
       "       -0.32571921,  0.04048279,  1.2541157 ,  0.31722656, -0.14326365,\n",
       "       -0.21257004,  0.5003382 ,  0.47716072,  0.11778202, -0.21388014,\n",
       "       -1.14520967, -0.14560442, -0.3318615 , -0.17285988, -0.12104963,\n",
       "       -0.12689707, -0.61458164,  0.23636886,  0.91713989, -0.42105356,\n",
       "        0.1154787 , -0.03954778,  0.12894931, -0.53417844, -0.99192518,\n",
       "       -0.17899568,  0.25722176,  0.4769806 ,  0.97696716, -0.17940228,\n",
       "       -0.48712668,  0.55187315, -0.03772072, -0.24774636,  0.46695501,\n",
       "        0.3463898 , -0.06255595,  1.14178002, -0.27814147, -0.15102918,\n",
       "        0.57329339, -0.37421995,  0.02271698, -0.16403928,  0.06483311,\n",
       "        0.12617275, -0.4773753 , -0.529872  , -0.34992093, -0.0837952 ,\n",
       "       -0.60001558,  0.13144706, -0.18802033,  0.07705522,  0.70949048,\n",
       "       -0.12780239, -0.19862498, -0.56176192, -0.42031527,  0.35305166,\n",
       "       -0.87396759, -0.08517085, -0.48431316,  0.80230469,  0.23272385,\n",
       "       -0.44544473, -0.50039989, -0.06532389, -0.19378234, -0.19363223,\n",
       "        0.07439218,  0.14675404,  0.31862932,  0.35128543, -0.4950234 ,\n",
       "        0.12076448, -0.31466454, -0.45704022,  0.08633745, -0.37681675,\n",
       "       -0.35727096,  0.59286016,  0.31835923, -0.30533782,  0.0858325 ,\n",
       "       -0.24381621, -0.57738245,  0.52405506, -0.31753951,  0.93378061,\n",
       "       -0.35807866,  1.35335541,  0.25690389,  0.17587598, -0.13311806,\n",
       "        0.35608545,  0.15319848,  0.01456389, -0.63041848,  0.29768425,\n",
       "       -0.30651766,  0.01715855,  0.03124238,  0.05768977, -0.6333828 ,\n",
       "        0.26864529,  0.06683761, -1.02926373,  0.56662148,  0.24022733,\n",
       "       -0.19942419,  0.1842514 , -0.28499791,  0.45734501, -0.76747209,\n",
       "        0.72038227,  0.58700085, -0.02162655,  1.01266325,  0.46277437,\n",
       "        0.85830498, -0.05012846,  0.2459121 , -0.06160799, -0.78317136,\n",
       "       -0.22481059, -0.372724  , -0.11029039,  0.16698991, -0.31524032,\n",
       "        0.24480018,  0.30284411,  0.50666922, -0.0962486 , -0.3842335 ,\n",
       "       -0.142611  , -0.39665863, -0.3856315 , -0.21670008, -0.13783309,\n",
       "       -0.14839724,  0.20853837, -0.0505355 ,  0.42668465, -0.11339653,\n",
       "        0.39253241,  0.43115926,  0.41332969,  0.11544383,  0.34040204,\n",
       "       -0.09779657,  0.26895985, -0.58352423,  0.01215474, -0.10829739,\n",
       "        0.51324314,  0.44656175, -0.49059173,  0.48487115, -0.72611701,\n",
       "       -0.47248575, -0.20805739,  0.07793996, -0.43355945, -0.35044321,\n",
       "       -0.17392407,  0.13430604, -0.2092654 , -0.14951237, -0.53400099,\n",
       "       -0.51910222,  0.66977704, -1.25617492,  0.13832998, -0.20010519,\n",
       "       -0.85624295, -0.78908825,  0.20739426, -0.20020415,  0.37490386,\n",
       "       -0.07060627,  0.24000883,  0.18907382, -0.19482085, -0.74384004,\n",
       "        0.29720443,  0.40184212,  0.01491588,  0.22138663, -0.43080479,\n",
       "        0.03422554, -0.14493737,  0.86211926,  0.58646488,  0.30474442,\n",
       "       -0.49632141, -0.06823905,  0.93885046, -0.44939572,  0.14686231,\n",
       "       -0.5435462 , -0.37970284, -0.75085819, -0.09623992, -0.00969729,\n",
       "       -0.16356663,  0.07711712,  0.38421264, -0.415602  , -0.59226322,\n",
       "       -0.00600348, -0.39016977,  0.17593281,  0.7460826 ,  0.37690258,\n",
       "        0.07565659, -0.13674936,  0.49787396, -0.19712356,  0.17222212,\n",
       "        0.55836242, -0.19211884, -0.19676717,  0.11353558, -0.16071986,\n",
       "        0.24050052, -0.12244461,  0.37771985, -0.0220483 ,  0.12277497,\n",
       "       -1.36490214, -0.3308489 , -0.44802856, -0.71575302, -0.33586335,\n",
       "       -0.21570234, -0.2280854 , -0.171294  ,  0.118625  , -0.03289194,\n",
       "       -0.22470847,  0.19742993,  0.20741989, -0.42465964, -0.04356689,\n",
       "        0.53977758, -0.84961957,  0.03118796,  0.07666636, -0.04567409,\n",
       "        0.18087836,  0.68965209,  0.45448393,  0.67641002, -0.38962466,\n",
       "       -0.74537081,  0.38055798, -0.13662107, -0.03819592, -0.28725758,\n",
       "       -0.16860768, -0.31613705,  1.00215733,  0.20545344,  0.09940592,\n",
       "       -0.0233424 , -0.61103857,  0.09097232, -0.51716983, -0.84590763,\n",
       "       -0.28166685, -0.24909644,  0.14852822,  0.07300257,  0.31567717,\n",
       "        0.05341384,  0.02443598,  0.25186917, -0.50697094, -0.21345146,\n",
       "       -0.00865254,  0.13104342, -0.75327259,  0.76415867, -0.39445895,\n",
       "       -0.48646525,  0.04570624,  0.29517436, -0.16661184,  0.27470431,\n",
       "       -0.64594066, -0.15205455, -0.76101112, -0.71542221,  0.7033633 ,\n",
       "       -0.12529804, -0.41489878,  0.39323998, -0.01157688, -0.48937967,\n",
       "        0.48796347,  0.10596395,  0.62315196,  0.00368513, -0.51611018,\n",
       "       -0.0709487 ,  0.08652002, -0.16242824,  0.54694897,  0.21368991,\n",
       "        0.47683376, -0.1122453 ,  0.11751962, -0.30882669,  0.28519124,\n",
       "       -0.01347306,  0.15385398,  0.11378615, -0.19374093, -0.00447282,\n",
       "        0.34948021, -0.44335696,  0.17892177, -0.27822971, -1.06979191,\n",
       "        0.5483672 ,  0.20548759, -0.27916995, -0.23978274,  0.01528115,\n",
       "       -0.0597455 , -0.00744518,  0.15573385,  0.12857775, -0.53252804,\n",
       "       -0.15070069,  0.11837016, -0.3860414 ,  0.11805635,  0.43911481,\n",
       "       -0.49554902,  1.10359073,  0.141142  ,  0.37827715, -0.10114402,\n",
       "       -0.09257493,  0.34620687,  0.68716657,  0.48635295,  0.50206631,\n",
       "       -0.45248073, -0.52600533, -0.0701888 , -0.37413427,  0.12675741,\n",
       "       -0.43897778, -0.21583724, -0.43952683,  0.41387755,  0.18366316,\n",
       "        0.23789513, -0.12186896,  0.00216963,  0.97552711, -0.3668882 ,\n",
       "        0.55887699,  0.39576358, -0.14875153, -0.64289081,  0.50445575,\n",
       "        0.23542877, -0.0203171 ,  0.05860434,  0.18067671,  0.05783045,\n",
       "        0.11968504,  0.60814148, -0.0564707 ,  0.82592732,  0.36493924,\n",
       "        0.28532991,  0.48305136,  0.36345881,  0.15908717, -0.03995599,\n",
       "       -0.10260849, -0.55878675,  0.00565614,  0.69419128,  0.26627398,\n",
       "       -0.18803206,  0.40106002, -0.03842163, -0.28115812,  0.19795941,\n",
       "       -0.16072288,  0.16976719, -0.79592437,  0.51146162,  0.09118097,\n",
       "        0.35627788, -0.01727081,  0.63055211, -0.3330349 ,  0.16969495,\n",
       "       -0.25166395, -0.61840808,  0.15413646,  0.17068386, -0.33228251,\n",
       "        0.09875829, -0.24190651,  0.11468365, -0.07766942, -0.32823962,\n",
       "        0.04296641, -0.33522034, -0.21938245,  0.58838511,  0.14788635,\n",
       "        0.03147168,  0.04544065, -0.42393011,  0.01719959, -0.28948909,\n",
       "       -0.10315695,  1.10652196,  0.52193218, -0.3919825 ,  0.10224181,\n",
       "        0.24888356,  1.05219293,  0.54618967, -0.96485478,  0.21455276,\n",
       "       -0.13432081, -0.60169923, -0.60411412, -0.09954803, -0.83911282,\n",
       "        0.16637017, -0.45557192, -0.39527169, -0.33824772, -0.51563513,\n",
       "        0.85313606, -0.6143595 ,  0.16646169,  0.07799038, -0.92069322,\n",
       "        0.08571529, -0.20225275,  0.86529642,  0.34231758, -0.0715911 ,\n",
       "        0.64838159, -0.03566444,  0.44345513, -0.50417221,  0.30640009,\n",
       "       -0.6749323 ,  0.19736981,  0.08477246,  0.31259593, -0.39146313,\n",
       "       -0.73745263, -0.48440439, -0.47791404, -0.14737822, -0.1456008 ,\n",
       "        0.17341316,  0.39412576, -0.4534342 ,  0.37556949, -0.44721147,\n",
       "        0.26866236,  0.51186961, -0.2783542 ,  0.24364303, -0.14996061,\n",
       "       -0.23612925, -0.37390751, -0.2012095 ,  0.04011751,  0.09920072,\n",
       "       -0.07339665, -0.59876472,  0.20596555,  0.08283033, -0.47086629,\n",
       "       -0.67367512, -0.535546  ,  0.31298226, -0.01901372,  0.39232209,\n",
       "        0.21965659,  0.18878019,  0.63413864, -0.18238153, -0.88515139,\n",
       "       -0.28005752, -0.75744855,  0.47658962, -0.6592871 , -0.10228133,\n",
       "        0.74108273,  0.04592525, -0.26726341])"
      ]
     },
     "execution_count": 16,
     "metadata": {},
     "output_type": "execute_result"
    }
   ],
   "source": [
    "# str -> embedding(array)\n",
    "np.fromstring(ply_title_embedding['ply_title_emd'][0], dtype=float, sep=',')"
   ]
  },
  {
   "cell_type": "code",
   "execution_count": 17,
   "metadata": {},
   "outputs": [
    {
     "name": "stderr",
     "output_type": "stream",
     "text": [
      "C:\\Users\\k9942\\AppData\\Local\\Temp\\ipykernel_5984\\2113611638.py:2: UserWarning: pandas only supports SQLAlchemy connectable (engine/connection) or database string URI or sqlite3 DBAPI2 connection. Other DBAPI2 objects are not tested. Please consider using SQLAlchemy.\n",
      "  ply_title_embedding = pd.read_sql(sql, conn)\n"
     ]
    }
   ],
   "source": [
    "sql = 'SELECT * FROM ply_title_embedding'\n",
    "ply_title_embedding = pd.read_sql(sql, conn)\n",
    "\n",
    "# str -> embedding(array)\n",
    "ply_title_embedding['ply_title_emd'] = ply_title_embedding.apply(lambda x: np.fromstring(x['ply_title_emd'],dtype=float, sep=','), axis=1)\n",
    "\n",
    "# cosine similarity 계산\n",
    "ply_title_embedding['cos_sim'] = ply_title_embedding.apply(lambda x: cos_sim(x['ply_title_emd'], new_embedding), axis=1)\n",
    "\n",
    "# 유사한 플리 2개 id 추출\n",
    "sim_ply_id = list(ply_title_embedding.sort_values(by='cos_sim', ascending=False)['ply_id'][:2])"
   ]
  },
  {
   "cell_type": "code",
   "execution_count": 18,
   "metadata": {},
   "outputs": [
    {
     "data": {
      "text/plain": [
       "[50675, 37349]"
      ]
     },
     "execution_count": 18,
     "metadata": {},
     "output_type": "execute_result"
    }
   ],
   "source": [
    "sim_ply_id"
   ]
  },
  {
   "cell_type": "code",
   "execution_count": 22,
   "metadata": {},
   "outputs": [
    {
     "name": "stderr",
     "output_type": "stream",
     "text": [
      "C:\\Users\\k9942\\AppData\\Local\\Temp\\ipykernel_5984\\811671671.py:2: UserWarning: pandas only supports SQLAlchemy connectable (engine/connection) or database string URI or sqlite3 DBAPI2 connection. Other DBAPI2 objects are not tested. Please consider using SQLAlchemy.\n",
      "  sim_ply_meta = pd.read_sql(sql, conn)\n"
     ]
    }
   ],
   "source": [
    "sql = 'SELECT * FROM ply_meta WHERE ply_id = 50675 or ply_id = 37349'\n",
    "sim_ply_meta = pd.read_sql(sql, conn)\n"
   ]
  },
  {
   "cell_type": "code",
   "execution_count": 23,
   "metadata": {},
   "outputs": [
    {
     "data": {
      "text/html": [
       "<div>\n",
       "<style scoped>\n",
       "    .dataframe tbody tr th:only-of-type {\n",
       "        vertical-align: middle;\n",
       "    }\n",
       "\n",
       "    .dataframe tbody tr th {\n",
       "        vertical-align: top;\n",
       "    }\n",
       "\n",
       "    .dataframe thead th {\n",
       "        text-align: right;\n",
       "    }\n",
       "</style>\n",
       "<table border=\"1\" class=\"dataframe\">\n",
       "  <thead>\n",
       "    <tr style=\"text-align: right;\">\n",
       "      <th></th>\n",
       "      <th>ply_id</th>\n",
       "      <th>ply_title</th>\n",
       "      <th>ply_tag_lst</th>\n",
       "      <th>ply_like_cnt</th>\n",
       "      <th>ply_updt</th>\n",
       "    </tr>\n",
       "  </thead>\n",
       "  <tbody>\n",
       "    <tr>\n",
       "      <th>0</th>\n",
       "      <td>37349</td>\n",
       "      <td>크리스마스 시즌에 듣기 좋은 노래</td>\n",
       "      <td>사랑, 겨울, 설렘</td>\n",
       "      <td>21</td>\n",
       "      <td>2016-12-01 18:37:47.000</td>\n",
       "    </tr>\n",
       "    <tr>\n",
       "      <th>1</th>\n",
       "      <td>50675</td>\n",
       "      <td>크리스마스에 적합한 신나는 노래들</td>\n",
       "      <td>댄스</td>\n",
       "      <td>24</td>\n",
       "      <td>2012-12-20 09:15:30.000</td>\n",
       "    </tr>\n",
       "  </tbody>\n",
       "</table>\n",
       "</div>"
      ],
      "text/plain": [
       "   ply_id           ply_title ply_tag_lst  ply_like_cnt  \\\n",
       "0   37349  크리스마스 시즌에 듣기 좋은 노래  사랑, 겨울, 설렘            21   \n",
       "1   50675  크리스마스에 적합한 신나는 노래들          댄스            24   \n",
       "\n",
       "                  ply_updt  \n",
       "0  2016-12-01 18:37:47.000  \n",
       "1  2012-12-20 09:15:30.000  "
      ]
     },
     "execution_count": 23,
     "metadata": {},
     "output_type": "execute_result"
    }
   ],
   "source": [
    "sim_ply_meta"
   ]
  },
  {
   "cell_type": "code",
   "execution_count": 7,
   "metadata": {},
   "outputs": [],
   "source": [
    "conn.commit()"
   ]
  },
  {
   "cell_type": "code",
   "execution_count": 8,
   "metadata": {},
   "outputs": [],
   "source": [
    "conn.close()"
   ]
  }
 ],
 "metadata": {
  "kernelspec": {
   "display_name": "base",
   "language": "python",
   "name": "python3"
  },
  "language_info": {
   "codemirror_mode": {
    "name": "ipython",
    "version": 3
   },
   "file_extension": ".py",
   "mimetype": "text/x-python",
   "name": "python",
   "nbconvert_exporter": "python",
   "pygments_lexer": "ipython3",
   "version": "3.10.9"
  },
  "orig_nbformat": 4
 },
 "nbformat": 4,
 "nbformat_minor": 2
}
