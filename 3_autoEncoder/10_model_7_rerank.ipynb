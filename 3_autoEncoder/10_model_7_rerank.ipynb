{
 "cells": [
  {
   "cell_type": "code",
   "execution_count": 1,
   "metadata": {},
   "outputs": [],
   "source": [
    "import pickle\n",
    "import pandas as pd\n",
    "import os\n",
    "import io\n",
    "import json\n",
    "import distutils.dir_util\n",
    "import numpy as np"
   ]
  },
  {
   "cell_type": "markdown",
   "metadata": {},
   "source": [
    "# rerank"
   ]
  },
  {
   "cell_type": "markdown",
   "metadata": {},
   "source": [
    "> Data Load"
   ]
  },
  {
   "cell_type": "code",
   "execution_count": 2,
   "metadata": {},
   "outputs": [],
   "source": [
    "# json write & load 함수 정의\n",
    "def write_json(data, fname):\n",
    "    def _conv(o):\n",
    "        if isinstance(o, (np.int64, np.int32)):\n",
    "            return int(o)\n",
    "        raise TypeError\n",
    "\n",
    "    parent = os.path.dirname(fname)\n",
    "    distutils.dir_util.mkpath(parent)\n",
    "    with io.open(fname, \"w\", encoding=\"utf-8\") as f:\n",
    "        json_str = json.dumps(data, ensure_ascii=False, default=_conv)\n",
    "        f.write(json_str)\n",
    "        \n",
    "def load_json(fname):\n",
    "    with open(fname, encoding='utf-8') as f:\n",
    "        json_obj = json.load(f)\n",
    "\n",
    "    return json_obj"
   ]
  },
  {
   "cell_type": "code",
   "execution_count": 7,
   "metadata": {},
   "outputs": [
    {
     "data": {
      "text/plain": [
       "44674"
      ]
     },
     "execution_count": 7,
     "metadata": {},
     "output_type": "execute_result"
    }
   ],
   "source": [
    "with open('../0_data/count_song.pkl', 'rb') as f:\n",
    "    count_song = pickle.load(f)\n",
    "\n",
    "len(count_song)"
   ]
  },
  {
   "cell_type": "code",
   "execution_count": 8,
   "metadata": {},
   "outputs": [
    {
     "data": {
      "text/plain": [
       "3400"
      ]
     },
     "execution_count": 8,
     "metadata": {},
     "output_type": "execute_result"
    }
   ],
   "source": [
    "with open('../0_data/count_tag.pkl', 'rb') as f:\n",
    "    count_tag = pickle.load(f)\n",
    "\n",
    "len(count_tag)"
   ]
  },
  {
   "cell_type": "code",
   "execution_count": 3,
   "metadata": {},
   "outputs": [
    {
     "data": {
      "text/plain": [
       "24666"
      ]
     },
     "execution_count": 3,
     "metadata": {},
     "output_type": "execute_result"
    }
   ],
   "source": [
    "with open('../0_data/mfl_col.pkl', 'rb') as f:\n",
    "    mfl_col = pickle.load(f)\n",
    "\n",
    "len(mfl_col)"
   ]
  },
  {
   "cell_type": "code",
   "execution_count": 4,
   "metadata": {},
   "outputs": [
    {
     "data": {
      "text/html": [
       "<div>\n",
       "<style scoped>\n",
       "    .dataframe tbody tr th:only-of-type {\n",
       "        vertical-align: middle;\n",
       "    }\n",
       "\n",
       "    .dataframe tbody tr th {\n",
       "        vertical-align: top;\n",
       "    }\n",
       "\n",
       "    .dataframe thead th {\n",
       "        text-align: right;\n",
       "    }\n",
       "</style>\n",
       "<table border=\"1\" class=\"dataframe\">\n",
       "  <thead>\n",
       "    <tr style=\"text-align: right;\">\n",
       "      <th></th>\n",
       "      <th>id</th>\n",
       "      <th>songs</th>\n",
       "      <th>tags</th>\n",
       "    </tr>\n",
       "  </thead>\n",
       "  <tbody>\n",
       "    <tr>\n",
       "      <th>0</th>\n",
       "      <td>99313</td>\n",
       "      <td>[69533, 28661, 13057, 549823, 300742, 409667, ...</td>\n",
       "      <td>[감성, 커피, 여유, 카페, Jazz, 주말, 봄, 힐링, 휴식, 재즈]</td>\n",
       "    </tr>\n",
       "    <tr>\n",
       "      <th>1</th>\n",
       "      <td>91258</td>\n",
       "      <td>[92933, 484278, 12397, 2748, 523071, 166761, 4...</td>\n",
       "      <td>[Pop, 팝송, 일렉, 명곡, 그루브, soul, RNBSOUL, RnB, 소울,...</td>\n",
       "    </tr>\n",
       "    <tr>\n",
       "      <th>2</th>\n",
       "      <td>41460</td>\n",
       "      <td>[259795, 550374, 310375, 81862, 21125, 534049,...</td>\n",
       "      <td>[사랑, 잔잔한, 스트레스, 가을, 밤, 감성, 명곡, 회상, 기분전환, 추억]</td>\n",
       "    </tr>\n",
       "  </tbody>\n",
       "</table>\n",
       "</div>"
      ],
      "text/plain": [
       "      id                                              songs  \\\n",
       "0  99313  [69533, 28661, 13057, 549823, 300742, 409667, ...   \n",
       "1  91258  [92933, 484278, 12397, 2748, 523071, 166761, 4...   \n",
       "2  41460  [259795, 550374, 310375, 81862, 21125, 534049,...   \n",
       "\n",
       "                                                tags  \n",
       "0          [감성, 커피, 여유, 카페, Jazz, 주말, 봄, 힐링, 휴식, 재즈]  \n",
       "1  [Pop, 팝송, 일렉, 명곡, 그루브, soul, RNBSOUL, RnB, 소울,...  \n",
       "2       [사랑, 잔잔한, 스트레스, 가을, 밤, 감성, 명곡, 회상, 기분전환, 추억]  "
      ]
     },
     "execution_count": 4,
     "metadata": {},
     "output_type": "execute_result"
    }
   ],
   "source": [
    "results = pd.read_json('./results/result_model_7.json', typ = 'frame', encoding='utf-8')\n",
    "results.head(3)"
   ]
  },
  {
   "cell_type": "code",
   "execution_count": 5,
   "metadata": {},
   "outputs": [
    {
     "data": {
      "text/plain": [
       "(11456, 11456, 11456)"
      ]
     },
     "execution_count": 5,
     "metadata": {},
     "output_type": "execute_result"
    }
   ],
   "source": [
    "pl_ids = results['id']\n",
    "p_songs = results['songs']\n",
    "p_tags = results['tags']\n",
    "\n",
    "len(pl_ids), len(p_songs), len(p_songs)"
   ]
  },
  {
   "cell_type": "code",
   "execution_count": 9,
   "metadata": {},
   "outputs": [
    {
     "data": {
      "text/plain": [
       "11456"
      ]
     },
     "execution_count": 9,
     "metadata": {},
     "output_type": "execute_result"
    }
   ],
   "source": [
    "p_songs_reranked = []\n",
    "for p_song in p_songs :\n",
    "    score = []\n",
    "    for song in p_song :\n",
    "        score.append(count_song[song])\n",
    "    p_song_reranked = np.array(p_song)[np.array(score).argsort()].tolist()\n",
    "    p_songs_reranked.append(p_song_reranked)\n",
    "len(p_songs_reranked)"
   ]
  },
  {
   "cell_type": "code",
   "execution_count": 10,
   "metadata": {},
   "outputs": [
    {
     "data": {
      "text/plain": [
       "11456"
      ]
     },
     "execution_count": 10,
     "metadata": {},
     "output_type": "execute_result"
    }
   ],
   "source": [
    "p_tags_reranked = []\n",
    "for p_tag in p_tags :\n",
    "    score = []\n",
    "    for tag in p_tag :\n",
    "        score.append(count_tag[tag])\n",
    "    p_tag_reranked = np.array(p_tag)[np.array(score).argsort()].tolist()\n",
    "    p_tags_reranked.append(p_tag_reranked)\n",
    "len(p_tags_reranked)"
   ]
  },
  {
   "cell_type": "code",
   "execution_count": 11,
   "metadata": {},
   "outputs": [],
   "source": [
    "result=[]\n",
    "for i in range(len(pl_ids)) :\n",
    "    dic={}\n",
    "    dic['id']=pl_ids[i]\n",
    "    dic['songs']=p_songs_reranked[i]\n",
    "    dic['tags']=p_tags_reranked[i]\n",
    "    result.append(dic)"
   ]
  },
  {
   "cell_type": "code",
   "execution_count": 20,
   "metadata": {},
   "outputs": [],
   "source": [
    "write_json(result,'./results/result_model_7_rrk.json')"
   ]
  },
  {
   "cell_type": "code",
   "execution_count": 21,
   "metadata": {},
   "outputs": [],
   "source": [
    "result = load_json('./results/result_model_7_rrk.json')"
   ]
  },
  {
   "cell_type": "markdown",
   "metadata": {},
   "source": [
    "# 평가"
   ]
  },
  {
   "cell_type": "code",
   "execution_count": 18,
   "metadata": {},
   "outputs": [],
   "source": [
    "class ArenaEvaluator:\n",
    "    def _idcg(self, l):\n",
    "        return sum((1.0 / np.log(i + 2) for i in range(l)))\n",
    "\n",
    "    def __init__(self):\n",
    "        self._idcgs = [self._idcg(i) for i in range(101)]\n",
    "\n",
    "    def _ndcg(self, gt, rec):\n",
    "        dcg = 0.0\n",
    "        for i, r in enumerate(rec):\n",
    "            if r in gt:\n",
    "                dcg += 1.0 / np.log(i + 2)\n",
    "        if len(gt)>100:\n",
    "            gt = gt[:100]\n",
    "        return dcg / self._idcgs[len(gt)]\n",
    "\n",
    "    def _eval(self, gt_fname, rec_fname):\n",
    "        gt_playlists = load_json(gt_fname)\n",
    "        gt_dict = {g[\"id\"]: g for g in gt_playlists}\n",
    "        rec_playlists = load_json(rec_fname)\n",
    "        gt_ids = set([g[\"id\"] for g in gt_playlists])\n",
    "        rec_ids = set([r[\"id\"] for r in rec_playlists])\n",
    "        if gt_ids != rec_ids:\n",
    "            raise Exception(\"결과의 플레이리스트 수가 올바르지 않습니다.\")\n",
    "\n",
    "        rec_song_counts = [len(p[\"songs\"]) for p in rec_playlists]\n",
    "        rec_tag_counts = [len(p[\"tags\"]) for p in rec_playlists]\n",
    "        if set(rec_song_counts) != set([100]):\n",
    "            raise Exception(\"추천 곡 결과의 개수가 맞지 않습니다.\")\n",
    "\n",
    "        if set(rec_tag_counts) != set([10]):\n",
    "            raise Exception(\"추천 태그 결과의 개수가 맞지 않습니다.\")\n",
    "\n",
    "        rec_unique_song_counts = [len(set(p[\"songs\"])) for p in rec_playlists]\n",
    "        rec_unique_tag_counts = [len(set(p[\"tags\"])) for p in rec_playlists]\n",
    "\n",
    "        if set(rec_unique_song_counts) != set([100]):\n",
    "            raise Exception(\"한 플레이리스트에 중복된 곡 추천은 허용되지 않습니다.\")\n",
    "\n",
    "        if set(rec_unique_tag_counts) != set([10]):\n",
    "            raise Exception(\"한 플레이리스트에 중복된 태그 추천은 허용되지 않습니다.\")\n",
    "\n",
    "        music_ndcg = 0.0\n",
    "        tag_ndcg = 0.0\n",
    "\n",
    "        for rec in rec_playlists:\n",
    "            gt = gt_dict[rec[\"id\"]]\n",
    "            music_ndcg += self._ndcg(gt[\"songs\"], rec[\"songs\"][:100])\n",
    "            tag_ndcg += self._ndcg(gt[\"tags\"], rec[\"tags\"][:10])\n",
    "\n",
    "        music_ndcg = music_ndcg / len(rec_playlists)\n",
    "        tag_ndcg = tag_ndcg / len(rec_playlists)\n",
    "        score = music_ndcg * 0.85 + tag_ndcg * 0.15\n",
    "\n",
    "        return music_ndcg, tag_ndcg, score\n",
    "\n",
    "    def evaluate_with_save(self, gt_fname, rec_fname, model_file_path, default_file_path):\n",
    "        # try:\n",
    "        music_ndcg, tag_ndcg, score = self._eval(gt_fname, rec_fname)\n",
    "        with open(f'{default_file_path}/results.txt','a') as f:\n",
    "            f.write(model_file_path)\n",
    "            f.write(f\"\\nMusic nDCG: {music_ndcg:.6}\\n\")\n",
    "            f.write(f\"Tag nDCG: {tag_ndcg:.6}\\n\")\n",
    "            f.write(f\"Score: {score:.6}\\n\\n\")\n",
    "            print(f\"Music nDCG: {music_ndcg:.6}\")\n",
    "            print(f\"Tag nDCG: {tag_ndcg:.6}\")\n",
    "            print(f\"Score: {score:.6}\")\n",
    "        # except Exception as e:\n",
    "        #     print(e)\n",
    "\n",
    "    def evaluate(self, gt_fname, rec_fname):\n",
    "        # try:\n",
    "        music_ndcg, tag_ndcg, score = self._eval(gt_fname, rec_fname)\n",
    "        print(f\"Music nDCG: {music_ndcg:.6}\")\n",
    "        print(f\"Tag nDCG: {tag_ndcg:.6}\")\n",
    "        print(f\"Score: {score:.6}\")"
   ]
  },
  {
   "cell_type": "code",
   "execution_count": 22,
   "metadata": {},
   "outputs": [
    {
     "name": "stdout",
     "output_type": "stream",
     "text": [
      "Music nDCG: 0.163414\n",
      "Tag nDCG: 0.415366\n",
      "Score: 0.201207\n"
     ]
    }
   ],
   "source": [
    "gt_fname = '../0_data/test.json'\n",
    "rec_fname = 'results/result_model_7_rrk.json'\n",
    "arena_evaluator = ArenaEvaluator()\n",
    "arena_evaluator.evaluate(gt_fname, rec_fname)"
   ]
  },
  {
   "cell_type": "code",
   "execution_count": null,
   "metadata": {},
   "outputs": [],
   "source": []
  }
 ],
 "metadata": {
  "kernelspec": {
   "display_name": "base",
   "language": "python",
   "name": "python3"
  },
  "language_info": {
   "codemirror_mode": {
    "name": "ipython",
    "version": 3
   },
   "file_extension": ".py",
   "mimetype": "text/x-python",
   "name": "python",
   "nbconvert_exporter": "python",
   "pygments_lexer": "ipython3",
   "version": "3.11.5"
  },
  "orig_nbformat": 4
 },
 "nbformat": 4,
 "nbformat_minor": 2
}
