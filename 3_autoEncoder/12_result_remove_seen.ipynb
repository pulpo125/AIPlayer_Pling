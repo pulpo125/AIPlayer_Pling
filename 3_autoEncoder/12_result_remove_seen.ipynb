{
 "cells": [
  {
   "cell_type": "code",
   "execution_count": 1,
   "metadata": {},
   "outputs": [],
   "source": [
    "import pickle\n",
    "import pandas as pd\n",
    "import os\n",
    "import io\n",
    "import json\n",
    "import distutils.dir_util\n",
    "import numpy as np"
   ]
  },
  {
   "cell_type": "markdown",
   "metadata": {},
   "source": [
    "# 평가"
   ]
  },
  {
   "cell_type": "markdown",
   "metadata": {},
   "source": [
    "> Data Load"
   ]
  },
  {
   "cell_type": "code",
   "execution_count": 2,
   "metadata": {},
   "outputs": [],
   "source": [
    "# json write & load 함수 정의\n",
    "def write_json(data, fname):\n",
    "    def _conv(o):\n",
    "        if isinstance(o, (np.int64, np.int32)):\n",
    "            return int(o)\n",
    "        raise TypeError\n",
    "\n",
    "    parent = os.path.dirname(fname)\n",
    "    distutils.dir_util.mkpath(parent)\n",
    "    with io.open(fname, \"w\", encoding=\"utf-8\") as f:\n",
    "        json_str = json.dumps(data, ensure_ascii=False, default=_conv)\n",
    "        f.write(json_str)\n",
    "        \n",
    "def load_json(fname):\n",
    "    with open(fname, encoding='utf-8') as f:\n",
    "        json_obj = json.load(f)\n",
    "\n",
    "    return json_obj"
   ]
  },
  {
   "cell_type": "code",
   "execution_count": 3,
   "metadata": {},
   "outputs": [
    {
     "data": {
      "text/plain": [
       "24666"
      ]
     },
     "execution_count": 3,
     "metadata": {},
     "output_type": "execute_result"
    }
   ],
   "source": [
    "with open('../0_data/mfl_col.pkl', 'rb') as f:\n",
    "    mfl_col = pickle.load(f)\n",
    "\n",
    "len(mfl_col)"
   ]
  },
  {
   "cell_type": "code",
   "execution_count": 4,
   "metadata": {},
   "outputs": [],
   "source": [
    "song_len = 22798\n",
    "# song = 22798, tag = 1868"
   ]
  },
  {
   "cell_type": "code",
   "execution_count": 5,
   "metadata": {},
   "outputs": [
    {
     "name": "stdout",
     "output_type": "stream",
     "text": [
      "<class 'pandas.core.frame.DataFrame'>\n",
      "RangeIndex: 11456 entries, 0 to 11455\n",
      "Data columns (total 6 columns):\n",
      " #   Column        Non-Null Count  Dtype \n",
      "---  ------        --------------  ----- \n",
      " 0   tags          11456 non-null  object\n",
      " 1   id            11456 non-null  int64 \n",
      " 2   plylst_title  11456 non-null  object\n",
      " 3   songs         11456 non-null  object\n",
      " 4   like_cnt      11456 non-null  int64 \n",
      " 5   updt_date     11456 non-null  object\n",
      "dtypes: int64(2), object(4)\n",
      "memory usage: 537.1+ KB\n"
     ]
    }
   ],
   "source": [
    "q_test = pd.read_json('../0_data/q_test.json')\n",
    "q_test.info()"
   ]
  },
  {
   "cell_type": "code",
   "execution_count": 6,
   "metadata": {},
   "outputs": [
    {
     "data": {
      "text/html": [
       "<div>\n",
       "<style scoped>\n",
       "    .dataframe tbody tr th:only-of-type {\n",
       "        vertical-align: middle;\n",
       "    }\n",
       "\n",
       "    .dataframe tbody tr th {\n",
       "        vertical-align: top;\n",
       "    }\n",
       "\n",
       "    .dataframe thead th {\n",
       "        text-align: right;\n",
       "    }\n",
       "</style>\n",
       "<table border=\"1\" class=\"dataframe\">\n",
       "  <thead>\n",
       "    <tr style=\"text-align: right;\">\n",
       "      <th></th>\n",
       "      <th>tags</th>\n",
       "      <th>id</th>\n",
       "      <th>plylst_title</th>\n",
       "      <th>songs</th>\n",
       "      <th>like_cnt</th>\n",
       "      <th>updt_date</th>\n",
       "    </tr>\n",
       "  </thead>\n",
       "  <tbody>\n",
       "    <tr>\n",
       "      <th>0</th>\n",
       "      <td>[]</td>\n",
       "      <td>110887</td>\n",
       "      <td>발라드   미디엄 위주의 경쾌 발라드</td>\n",
       "      <td>[389159, 226331, 597375, 586653, 613020, 50379...</td>\n",
       "      <td>14</td>\n",
       "      <td>2016-07-07 21:20:09.000</td>\n",
       "    </tr>\n",
       "    <tr>\n",
       "      <th>1</th>\n",
       "      <td>[Pop, 힐링, 기분전환, 퇴근길]</td>\n",
       "      <td>113079</td>\n",
       "      <td>지치고 고된 하루끝  퇴근시간에 듣기 좋은 POP</td>\n",
       "      <td>[]</td>\n",
       "      <td>339</td>\n",
       "      <td>2020-03-23 20:03:51.000</td>\n",
       "    </tr>\n",
       "    <tr>\n",
       "      <th>2</th>\n",
       "      <td>[]</td>\n",
       "      <td>80316</td>\n",
       "      <td>달빛 비추는 밤 나의 감성을 자극할 노래</td>\n",
       "      <td>[413189, 47106, 317362, 63533, 422807, 342803,...</td>\n",
       "      <td>567</td>\n",
       "      <td>2019-12-02 18:15:25.000</td>\n",
       "    </tr>\n",
       "    <tr>\n",
       "      <th>3</th>\n",
       "      <td>[슬픔]</td>\n",
       "      <td>32338</td>\n",
       "      <td>추운 겨울 아무 이유없이 땡기는 노래</td>\n",
       "      <td>[]</td>\n",
       "      <td>22</td>\n",
       "      <td>2010-11-22 22:33:54.000</td>\n",
       "    </tr>\n",
       "    <tr>\n",
       "      <th>4</th>\n",
       "      <td>[휴일, 취향저격DJ]</td>\n",
       "      <td>91698</td>\n",
       "      <td>홈캉스 필수템  우아한 트렌디 POP</td>\n",
       "      <td>[]</td>\n",
       "      <td>67</td>\n",
       "      <td>2018-08-08 12:23:09.000</td>\n",
       "    </tr>\n",
       "  </tbody>\n",
       "</table>\n",
       "</div>"
      ],
      "text/plain": [
       "                   tags      id                 plylst_title  \\\n",
       "0                    []  110887         발라드   미디엄 위주의 경쾌 발라드   \n",
       "1  [Pop, 힐링, 기분전환, 퇴근길]  113079  지치고 고된 하루끝  퇴근시간에 듣기 좋은 POP   \n",
       "2                    []   80316       달빛 비추는 밤 나의 감성을 자극할 노래   \n",
       "3                  [슬픔]   32338         추운 겨울 아무 이유없이 땡기는 노래   \n",
       "4          [휴일, 취향저격DJ]   91698         홈캉스 필수템  우아한 트렌디 POP   \n",
       "\n",
       "                                               songs  like_cnt  \\\n",
       "0  [389159, 226331, 597375, 586653, 613020, 50379...        14   \n",
       "1                                                 []       339   \n",
       "2  [413189, 47106, 317362, 63533, 422807, 342803,...       567   \n",
       "3                                                 []        22   \n",
       "4                                                 []        67   \n",
       "\n",
       "                 updt_date  \n",
       "0  2016-07-07 21:20:09.000  \n",
       "1  2020-03-23 20:03:51.000  \n",
       "2  2019-12-02 18:15:25.000  \n",
       "3  2010-11-22 22:33:54.000  \n",
       "4  2018-08-08 12:23:09.000  "
      ]
     },
     "execution_count": 6,
     "metadata": {},
     "output_type": "execute_result"
    }
   ],
   "source": [
    "q_test.head()"
   ]
  },
  {
   "cell_type": "code",
   "execution_count": 7,
   "metadata": {},
   "outputs": [
    {
     "data": {
      "text/plain": [
       "(11456, 24666)"
      ]
     },
     "execution_count": 7,
     "metadata": {},
     "output_type": "execute_result"
    }
   ],
   "source": [
    "with open('../0_data/q_test_onehot.pkl', 'rb') as f:\n",
    "    q_test_onehot = pickle.load(f)\n",
    "\n",
    "q_test_onehot.shape"
   ]
  },
  {
   "cell_type": "markdown",
   "metadata": {},
   "source": [
    "> predict"
   ]
  },
  {
   "cell_type": "code",
   "execution_count": 8,
   "metadata": {},
   "outputs": [],
   "source": [
    "import tensorflow as tf\n",
    "from tensorflow.keras.models import Model\n",
    "from tensorflow.keras.layers import Dense, Input, Dropout, BatchNormalization, LeakyReLU\n",
    "from tensorflow.keras.optimizers import Adam"
   ]
  },
  {
   "cell_type": "code",
   "execution_count": 9,
   "metadata": {},
   "outputs": [],
   "source": [
    "model_7 = tf.keras.models.load_model('results/model_7.h5')"
   ]
  },
  {
   "cell_type": "code",
   "execution_count": 10,
   "metadata": {},
   "outputs": [
    {
     "name": "stdout",
     "output_type": "stream",
     "text": [
      "358/358 [==============================] - 5s 14ms/step\n"
     ]
    }
   ],
   "source": [
    "predict_plist=model_7.predict(q_test_onehot)"
   ]
  },
  {
   "cell_type": "code",
   "execution_count": 65,
   "metadata": {},
   "outputs": [],
   "source": [
    "df_id = list(q_test['id']) # q_test ply_id 값 list 형태로 반환\n",
    "col= mfl_col # feature로 쓴 컬럼 값\n",
    "\n",
    "ori_song = col[:song_len] # mfl_col에서 song 값만 자르기\n",
    "ori_tag = col[song_len:] # mfl_col에서 tag 값만 자르기\n",
    "\n",
    "song_predict = predict_plist[:,:song_len] # song output(추천곡)\n",
    "tag_predict = predict_plist[:,song_len:] # tag output(추천태그)"
   ]
  },
  {
   "cell_type": "code",
   "execution_count": 117,
   "metadata": {},
   "outputs": [],
   "source": [
    "result=[]\n",
    "n=0\n",
    "for i in df_id: # q_test ply_id 값\n",
    "    dic={}\n",
    "    dic['id']=i # dic{'id':각 플리 id}\n",
    "\n",
    "    plist_song = song_predict[n].argsort()[-200:] # predict한 song output 중 상위 200개\n",
    "    p_song=[]\n",
    "    for song in plist_song[::-1]:\n",
    "        p_song.append(ori_song[song])\n",
    "    dic['songs']=p_song\n",
    "\n",
    "    plist_tag=tag_predict[n].argsort()[-100:] # predict한 tag output 중 상위 100개\n",
    "    p_tag=[]\n",
    "    for tag in plist_tag[::-1]:\n",
    "        p_tag.append(ori_tag[tag])\n",
    "    dic['tags']=p_tag\n",
    "    n+=1\n",
    "    result.append(dic)"
   ]
  },
  {
   "cell_type": "code",
   "execution_count": 112,
   "metadata": {},
   "outputs": [
    {
     "data": {
      "text/plain": [
       "array([ 88,   1,   5,  59,  52,  21,  94,  45, 119,  69], dtype=int64)"
      ]
     },
     "execution_count": 112,
     "metadata": {},
     "output_type": "execute_result"
    }
   ],
   "source": [
    "# tag_predict[0].argsort()[-10:] # argsort 는 뒤에서 부터 잘라야 함"
   ]
  },
  {
   "cell_type": "code",
   "execution_count": 116,
   "metadata": {},
   "outputs": [
    {
     "name": "stdout",
     "output_type": "stream",
     "text": [
      "69\n",
      "119\n",
      "45\n",
      "94\n",
      "21\n",
      "52\n",
      "59\n",
      "5\n",
      "1\n",
      "88\n"
     ]
    },
    {
     "data": {
      "text/plain": [
       "['기분전환', '발라드', '매장음악', '밤', '잔잔한', '아이돌', '드라이브', '힐링', '휴식', '가을']"
      ]
     },
     "execution_count": 116,
     "metadata": {},
     "output_type": "execute_result"
    }
   ],
   "source": [
    "# plist_tag = tag_predict[0].argsort()[-10:]\n",
    "# p_tag=[]\n",
    "# for tag in plist_tag[::-1]:\n",
    "#     print(tag)\n",
    "#     p_tag.append(ori_tag[tag])\n",
    "# p_tag"
   ]
  },
  {
   "cell_type": "code",
   "execution_count": 119,
   "metadata": {},
   "outputs": [],
   "source": [
    "# json 형태로 변환\n",
    "questions = q_test[['id', 'tags', 'songs']].to_dict(orient='records')"
   ]
  },
  {
   "cell_type": "code",
   "execution_count": 92,
   "metadata": {},
   "outputs": [],
   "source": [
    "def remove_seen(seen, l):\n",
    "    seen = set(seen)\n",
    "    return [x for x in l if not (x in seen)]"
   ]
  },
  {
   "cell_type": "code",
   "execution_count": 120,
   "metadata": {},
   "outputs": [],
   "source": [
    "answers = []\n",
    "for i in range(len(result)):\n",
    "    answers.append({\n",
    "        \"id\": result[i]['id'],\n",
    "        \"songs\": remove_seen(questions[i][\"songs\"], result[i]['songs'])[:100], \n",
    "        \"tags\": remove_seen(questions[i][\"tags\"], result[i]['tags'])[:10],\n",
    "    })"
   ]
  },
  {
   "cell_type": "code",
   "execution_count": 121,
   "metadata": {},
   "outputs": [
    {
     "data": {
      "text/plain": [
       "['기분전환', '발라드', '매장음악', '밤', '잔잔한', '아이돌', '드라이브', '힐링', '휴식', '가을']"
      ]
     },
     "execution_count": 121,
     "metadata": {},
     "output_type": "execute_result"
    }
   ],
   "source": [
    "answers[0]['tags']"
   ]
  },
  {
   "cell_type": "code",
   "execution_count": 122,
   "metadata": {},
   "outputs": [],
   "source": [
    "write_json(answers,'results/result_model_7_rs.json')"
   ]
  },
  {
   "cell_type": "markdown",
   "metadata": {},
   "source": [
    "---"
   ]
  },
  {
   "cell_type": "markdown",
   "metadata": {},
   "source": [
    "# 평가"
   ]
  },
  {
   "cell_type": "code",
   "execution_count": 123,
   "metadata": {},
   "outputs": [],
   "source": [
    "class ArenaEvaluator:\n",
    "    def _idcg(self, l):\n",
    "        return sum((1.0 / np.log(i + 2) for i in range(l)))\n",
    "\n",
    "    def __init__(self):\n",
    "        self._idcgs = [self._idcg(i) for i in range(101)]\n",
    "\n",
    "    def _ndcg(self, gt, rec):\n",
    "        dcg = 0.0\n",
    "        for i, r in enumerate(rec):\n",
    "            if r in gt:\n",
    "                dcg += 1.0 / np.log(i + 2)\n",
    "        if len(gt)>100:\n",
    "            gt = gt[:100]\n",
    "        return dcg / self._idcgs[len(gt)]\n",
    "\n",
    "    def _eval(self, gt_fname, rec_fname):\n",
    "        gt_playlists = load_json(gt_fname)\n",
    "        gt_dict = {g[\"id\"]: g for g in gt_playlists}\n",
    "        rec_playlists = load_json(rec_fname)\n",
    "        gt_ids = set([g[\"id\"] for g in gt_playlists])\n",
    "        rec_ids = set([r[\"id\"] for r in rec_playlists])\n",
    "        if gt_ids != rec_ids:\n",
    "            raise Exception(\"결과의 플레이리스트 수가 올바르지 않습니다.\")\n",
    "\n",
    "        rec_song_counts = [len(p[\"songs\"]) for p in rec_playlists]\n",
    "        rec_tag_counts = [len(p[\"tags\"]) for p in rec_playlists]\n",
    "        if set(rec_song_counts) != set([100]):\n",
    "            raise Exception(\"추천 곡 결과의 개수가 맞지 않습니다.\")\n",
    "\n",
    "        if set(rec_tag_counts) != set([10]):\n",
    "            raise Exception(\"추천 태그 결과의 개수가 맞지 않습니다.\")\n",
    "\n",
    "        rec_unique_song_counts = [len(set(p[\"songs\"])) for p in rec_playlists]\n",
    "        rec_unique_tag_counts = [len(set(p[\"tags\"])) for p in rec_playlists]\n",
    "\n",
    "        if set(rec_unique_song_counts) != set([100]):\n",
    "            raise Exception(\"한 플레이리스트에 중복된 곡 추천은 허용되지 않습니다.\")\n",
    "\n",
    "        if set(rec_unique_tag_counts) != set([10]):\n",
    "            raise Exception(\"한 플레이리스트에 중복된 태그 추천은 허용되지 않습니다.\")\n",
    "\n",
    "        music_ndcg = 0.0\n",
    "        tag_ndcg = 0.0\n",
    "\n",
    "        for rec in rec_playlists:\n",
    "            gt = gt_dict[rec[\"id\"]]\n",
    "            music_ndcg += self._ndcg(gt[\"songs\"], rec[\"songs\"][:100])\n",
    "            tag_ndcg += self._ndcg(gt[\"tags\"], rec[\"tags\"][:10])\n",
    "\n",
    "        music_ndcg = music_ndcg / len(rec_playlists)\n",
    "        tag_ndcg = tag_ndcg / len(rec_playlists)\n",
    "        score = music_ndcg * 0.85 + tag_ndcg * 0.15\n",
    "\n",
    "        return music_ndcg, tag_ndcg, score\n",
    "\n",
    "    def evaluate_with_save(self, gt_fname, rec_fname, model_file_path, default_file_path):\n",
    "        # try:\n",
    "        music_ndcg, tag_ndcg, score = self._eval(gt_fname, rec_fname)\n",
    "        with open(f'{default_file_path}/results.txt','a') as f:\n",
    "            f.write(model_file_path)\n",
    "            f.write(f\"\\nMusic nDCG: {music_ndcg:.6}\\n\")\n",
    "            f.write(f\"Tag nDCG: {tag_ndcg:.6}\\n\")\n",
    "            f.write(f\"Score: {score:.6}\\n\\n\")\n",
    "            print(f\"Music nDCG: {music_ndcg:.6}\")\n",
    "            print(f\"Tag nDCG: {tag_ndcg:.6}\")\n",
    "            print(f\"Score: {score:.6}\")\n",
    "        # except Exception as e:\n",
    "        #     print(e)\n",
    "\n",
    "    def evaluate(self, gt_fname, rec_fname):\n",
    "        # try:\n",
    "        music_ndcg, tag_ndcg, score = self._eval(gt_fname, rec_fname)\n",
    "        print(f\"Music nDCG: {music_ndcg:.6}\")\n",
    "        print(f\"Tag nDCG: {tag_ndcg:.6}\")\n",
    "        print(f\"Score: {score:.6}\")"
   ]
  },
  {
   "cell_type": "code",
   "execution_count": 124,
   "metadata": {},
   "outputs": [
    {
     "name": "stdout",
     "output_type": "stream",
     "text": [
      "Music nDCG: 0.107596\n",
      "Tag nDCG: 0.379045\n",
      "Score: 0.148313\n"
     ]
    }
   ],
   "source": [
    "gt_fname = '../0_data/a_test.json'\n",
    "rec_fname = 'results/result_model_7_rs.json'\n",
    "arena_evaluator = ArenaEvaluator()\n",
    "arena_evaluator.evaluate(gt_fname, rec_fname)"
   ]
  },
  {
   "cell_type": "markdown",
   "metadata": {},
   "source": [
    "> rerank 후 평가"
   ]
  },
  {
   "cell_type": "code",
   "execution_count": 125,
   "metadata": {},
   "outputs": [
    {
     "data": {
      "text/plain": [
       "44674"
      ]
     },
     "execution_count": 125,
     "metadata": {},
     "output_type": "execute_result"
    }
   ],
   "source": [
    "with open('../0_data/count_song.pkl', 'rb') as f:\n",
    "    count_song = pickle.load(f)\n",
    "\n",
    "len(count_song)"
   ]
  },
  {
   "cell_type": "code",
   "execution_count": 126,
   "metadata": {},
   "outputs": [
    {
     "data": {
      "text/plain": [
       "3400"
      ]
     },
     "execution_count": 126,
     "metadata": {},
     "output_type": "execute_result"
    }
   ],
   "source": [
    "with open('../0_data/count_tag.pkl', 'rb') as f:\n",
    "    count_tag = pickle.load(f)\n",
    "\n",
    "len(count_tag)"
   ]
  },
  {
   "cell_type": "code",
   "execution_count": 135,
   "metadata": {},
   "outputs": [
    {
     "data": {
      "text/html": [
       "<div>\n",
       "<style scoped>\n",
       "    .dataframe tbody tr th:only-of-type {\n",
       "        vertical-align: middle;\n",
       "    }\n",
       "\n",
       "    .dataframe tbody tr th {\n",
       "        vertical-align: top;\n",
       "    }\n",
       "\n",
       "    .dataframe thead th {\n",
       "        text-align: right;\n",
       "    }\n",
       "</style>\n",
       "<table border=\"1\" class=\"dataframe\">\n",
       "  <thead>\n",
       "    <tr style=\"text-align: right;\">\n",
       "      <th></th>\n",
       "      <th>id</th>\n",
       "      <th>songs</th>\n",
       "      <th>tags</th>\n",
       "    </tr>\n",
       "  </thead>\n",
       "  <tbody>\n",
       "    <tr>\n",
       "      <th>0</th>\n",
       "      <td>110887</td>\n",
       "      <td>[144663, 675115, 8719, 116573, 64052, 125822, ...</td>\n",
       "      <td>[기분전환, 발라드, 매장음악, 밤, 잔잔한, 아이돌, 드라이브, 힐링, 휴식, 가을]</td>\n",
       "    </tr>\n",
       "    <tr>\n",
       "      <th>1</th>\n",
       "      <td>113079</td>\n",
       "      <td>[146989, 76888, 360825, 459256, 493762, 115808...</td>\n",
       "      <td>[휴식, 감성, 팝송, 신나는, 명곡, 잔잔한, 추억, 여행, 매장음악, 밤]</td>\n",
       "    </tr>\n",
       "    <tr>\n",
       "      <th>2</th>\n",
       "      <td>80316</td>\n",
       "      <td>[418935, 8719, 531820, 116573, 473514, 449244,...</td>\n",
       "      <td>[발라드, 밤, 기분전환, 여름, 새벽, 드라이브, 가을, 잔잔한, 댄스, 겨울]</td>\n",
       "    </tr>\n",
       "    <tr>\n",
       "      <th>3</th>\n",
       "      <td>32338</td>\n",
       "      <td>[253755, 366786, 497066, 620800, 116573, 14086...</td>\n",
       "      <td>[이별, 비오는날, 발라드, 사랑, 감성, 인디, 밤, 댄스, 드라이브, 추억]</td>\n",
       "    </tr>\n",
       "    <tr>\n",
       "      <th>4</th>\n",
       "      <td>91698</td>\n",
       "      <td>[38832, 620800, 205179, 642526, 144663, 634998...</td>\n",
       "      <td>[기분전환, 발라드, 팝, 댄스, 매장음악, 락, 비오는날, 일렉, 인디, 드라이브]</td>\n",
       "    </tr>\n",
       "  </tbody>\n",
       "</table>\n",
       "</div>"
      ],
      "text/plain": [
       "       id                                              songs  \\\n",
       "0  110887  [144663, 675115, 8719, 116573, 64052, 125822, ...   \n",
       "1  113079  [146989, 76888, 360825, 459256, 493762, 115808...   \n",
       "2   80316  [418935, 8719, 531820, 116573, 473514, 449244,...   \n",
       "3   32338  [253755, 366786, 497066, 620800, 116573, 14086...   \n",
       "4   91698  [38832, 620800, 205179, 642526, 144663, 634998...   \n",
       "\n",
       "                                               tags  \n",
       "0  [기분전환, 발라드, 매장음악, 밤, 잔잔한, 아이돌, 드라이브, 힐링, 휴식, 가을]  \n",
       "1       [휴식, 감성, 팝송, 신나는, 명곡, 잔잔한, 추억, 여행, 매장음악, 밤]  \n",
       "2     [발라드, 밤, 기분전환, 여름, 새벽, 드라이브, 가을, 잔잔한, 댄스, 겨울]  \n",
       "3      [이별, 비오는날, 발라드, 사랑, 감성, 인디, 밤, 댄스, 드라이브, 추억]  \n",
       "4   [기분전환, 발라드, 팝, 댄스, 매장음악, 락, 비오는날, 일렉, 인디, 드라이브]  "
      ]
     },
     "execution_count": 135,
     "metadata": {},
     "output_type": "execute_result"
    }
   ],
   "source": [
    "results = pd.read_json('./results/result_model_7_rs.json', typ = 'frame', encoding='utf-8')\n",
    "results.head()"
   ]
  },
  {
   "cell_type": "code",
   "execution_count": 147,
   "metadata": {},
   "outputs": [
    {
     "data": {
      "text/plain": [
       "(11456, 11456, 11456)"
      ]
     },
     "execution_count": 147,
     "metadata": {},
     "output_type": "execute_result"
    }
   ],
   "source": [
    "pl_ids = results['id']\n",
    "p_songs = results['songs']\n",
    "p_tags = results['tags']\n",
    "\n",
    "len(pl_ids), len(p_songs), len(p_songs)"
   ]
  },
  {
   "cell_type": "code",
   "execution_count": 138,
   "metadata": {},
   "outputs": [
    {
     "data": {
      "text/plain": [
       "['기분전환', '발라드', '매장음악', '밤', '잔잔한', '아이돌', '드라이브', '힐링', '휴식', '가을']"
      ]
     },
     "execution_count": 138,
     "metadata": {},
     "output_type": "execute_result"
    }
   ],
   "source": [
    "p_tags[0]"
   ]
  },
  {
   "cell_type": "code",
   "execution_count": 148,
   "metadata": {},
   "outputs": [
    {
     "data": {
      "text/plain": [
       "11456"
      ]
     },
     "execution_count": 148,
     "metadata": {},
     "output_type": "execute_result"
    }
   ],
   "source": [
    "p_songs_reranked = []\n",
    "for p_song in p_songs :\n",
    "    score = []\n",
    "    for song in p_song :\n",
    "        score.append(count_song[song])\n",
    "    p_song_reranked = np.array(p_song)[np.array(score).argsort()].tolist()\n",
    "    p_songs_reranked.append(p_song_reranked[::-1])\n",
    "len(p_songs_reranked)"
   ]
  },
  {
   "cell_type": "code",
   "execution_count": 149,
   "metadata": {},
   "outputs": [
    {
     "data": {
      "text/plain": [
       "11456"
      ]
     },
     "execution_count": 149,
     "metadata": {},
     "output_type": "execute_result"
    }
   ],
   "source": [
    "p_tags_reranked = []\n",
    "for p_tag in p_tags :\n",
    "    score = []\n",
    "    for tag in p_tag :\n",
    "        score.append(count_tag[tag])\n",
    "    p_tag_reranked = np.array(p_tag)[np.array(score).argsort()].tolist()\n",
    "    p_tags_reranked.append(p_tag_reranked[::-1])\n",
    "len(p_tags_reranked)"
   ]
  },
  {
   "cell_type": "code",
   "execution_count": 154,
   "metadata": {},
   "outputs": [
    {
     "data": {
      "text/plain": [
       "1"
      ]
     },
     "execution_count": 154,
     "metadata": {},
     "output_type": "execute_result"
    }
   ],
   "source": [
    "p_tags_reranked = []\n",
    "for p_tag in p_tags :\n",
    "    score = []\n",
    "    for tag in p_tag :\n",
    "        score.append(count_tag[tag])\n",
    "    p_tag_reranked = np.array(p_tag)[np.array(score).argsort()].tolist()\n",
    "    p_tags_reranked.append(p_tag_reranked[::-1])\n",
    "    break\n",
    "len(p_tags_reranked)"
   ]
  },
  {
   "cell_type": "code",
   "execution_count": 155,
   "metadata": {},
   "outputs": [
    {
     "data": {
      "text/plain": [
       "[['기분전환', '드라이브', '휴식', '잔잔한', '힐링', '발라드', '밤', '매장음악', '가을', '아이돌']]"
      ]
     },
     "execution_count": 155,
     "metadata": {},
     "output_type": "execute_result"
    }
   ],
   "source": [
    "p_tags_reranked"
   ]
  },
  {
   "cell_type": "code",
   "execution_count": 150,
   "metadata": {},
   "outputs": [],
   "source": [
    "result=[]\n",
    "for i in range(len(pl_ids)) :\n",
    "    dic={}\n",
    "    dic['id']=pl_ids[i]\n",
    "    dic['songs']=p_songs_reranked[i]\n",
    "    dic['tags']=p_tags_reranked[i]\n",
    "    result.append(dic)"
   ]
  },
  {
   "cell_type": "code",
   "execution_count": 151,
   "metadata": {},
   "outputs": [],
   "source": [
    "write_json(result,'./results/result_model_7_rs_rrk.json')"
   ]
  },
  {
   "cell_type": "code",
   "execution_count": 152,
   "metadata": {},
   "outputs": [],
   "source": [
    "result = load_json('./results/result_model_7_rs_rrk.json')"
   ]
  },
  {
   "cell_type": "code",
   "execution_count": 156,
   "metadata": {},
   "outputs": [
    {
     "name": "stdout",
     "output_type": "stream",
     "text": [
      "Music nDCG: 0.0806131\n",
      "Tag nDCG: 0.282053\n",
      "Score: 0.110829\n"
     ]
    }
   ],
   "source": [
    "gt_fname = '../0_data/a_test.json'\n",
    "rec_fname = 'results/result_model_7_rs_rrk.json'\n",
    "arena_evaluator = ArenaEvaluator()\n",
    "arena_evaluator.evaluate(gt_fname, rec_fname)"
   ]
  },
  {
   "cell_type": "markdown",
   "metadata": {},
   "source": [
    "- rerank 전\n",
    "    - ['기분전환', '발라드', '매장음악', '밤', '잔잔한', '아이돌', '드라이브', '힐링', '휴식', '가을']\n",
    "\n",
    "- rerank 후\n",
    "    - ['기분전환', '드라이브', '휴식', '잔잔한', '힐링', '발라드', '밤', '매장음악', '가을', '아이돌']\n",
    "\n",
    "- 결론: 확률로 뽑은 결과값이 더 정확함"
   ]
  },
  {
   "cell_type": "code",
   "execution_count": null,
   "metadata": {},
   "outputs": [],
   "source": [
    "# 5위코드 참고\n",
    "        # if mode == 0:\n",
    "        #     if epoch % check_every == 0:\n",
    "        #         if os.path.exists(tmp_result_file_path):\n",
    "        #             os.remove(tmp_result_file_path)\n",
    "        #         elements = []\n",
    "        #         for idx, (_id, _data) in enumerate(tqdm(q_data_loader, desc='testing...')):\n",
    "        #             with torch.no_grad():\n",
    "        #                 _data = _data.to(device)\n",
    "        #                 output = model(_data)\n",
    "\n",
    "        #                 songs_input, tags_input = torch.split(_data, num_songs, dim=1)\n",
    "        #                 songs_output, tags_output = torch.split(output, num_songs, dim=1)\n",
    "\n",
    "        #                 songs_ids = binary_songs2ids(songs_input, songs_output, id2prep_song_dict)\n",
    "        #                 tag_ids = binary_tags2ids(tags_input, tags_output, id2tag_dict)\n",
    "\n",
    "        #                 _id = list(map(int, _id))\n",
    "        #                 for i in range(len(_id)):\n",
    "        #                     element = {'id': _id[i], 'songs': list(songs_ids[i]), 'tags': tag_ids[i]}\n",
    "        #                     elements.append(element)\n",
    "\n",
    "        #         write_json(elements, tmp_result_file_path)\n",
    "        #         evaluator.evaluate(answer_file_path, tmp_result_file_path)\n",
    "        #         os.remove(tmp_result_file_path)"
   ]
  },
  {
   "cell_type": "code",
   "execution_count": null,
   "metadata": {},
   "outputs": [],
   "source": [
    "# binary_songs2ids()\n",
    "# songs_idxes = output.argsort(axis=1)[:, ::-1][:, :100]"
   ]
  },
  {
   "cell_type": "code",
   "execution_count": null,
   "metadata": {},
   "outputs": [],
   "source": [
    "# 5위는 오토인코더 그냥 버전, 장르 있는 버전으로 두개의 임베딩? 결과? 가 나왔을때 question 이랑 비교해서 유사도가 높은 걸로 줌\n",
    "# 여러개의 상황 (song만 있는 경우 등)을 나눠서 함\n",
    "# 결국 그냥 오토인코더 만의 성능을 알고 싶으면 train.py 만 돌려서 평가하면 됌"
   ]
  }
 ],
 "metadata": {
  "kernelspec": {
   "display_name": "base",
   "language": "python",
   "name": "python3"
  },
  "language_info": {
   "codemirror_mode": {
    "name": "ipython",
    "version": 3
   },
   "file_extension": ".py",
   "mimetype": "text/x-python",
   "name": "python",
   "nbconvert_exporter": "python",
   "pygments_lexer": "ipython3",
   "version": "3.11.5"
  },
  "orig_nbformat": 4
 },
 "nbformat": 4,
 "nbformat_minor": 2
}
