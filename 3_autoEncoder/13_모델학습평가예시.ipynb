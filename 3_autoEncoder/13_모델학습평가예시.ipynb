{
 "cells": [
  {
   "cell_type": "code",
   "execution_count": 1,
   "metadata": {},
   "outputs": [],
   "source": [
    "import pickle\n",
    "import pandas as pd\n",
    "from pling_evaluate import write_json, generate_result, ArenaEvaluator\n",
    "import numpy as np"
   ]
  },
  {
   "cell_type": "markdown",
   "metadata": {},
   "source": [
    "# Modeling"
   ]
  },
  {
   "cell_type": "markdown",
   "metadata": {},
   "source": [
    "> Data Load"
   ]
  },
  {
   "cell_type": "code",
   "execution_count": 2,
   "metadata": {},
   "outputs": [
    {
     "name": "stdout",
     "output_type": "stream",
     "text": [
      "mfl_col 개수: 24666\n",
      "song_len 개수: 22798\n",
      "q_test 행 개수: 11456\n",
      "train_onehot.shape: (45824, 24666)\n",
      "q_test_onehot.shape: (11456, 24666)\n"
     ]
    }
   ],
   "source": [
    "with open('../0_data/mfl_col.pkl', 'rb') as f:\n",
    "    mfl_col = pickle.load(f)\n",
    "\n",
    "print(f'mfl_col 개수: {len(mfl_col)}')\n",
    "\n",
    "song_len = 22798\n",
    "print(f'song_len 개수: {song_len}')\n",
    "# song = 22798, tag = 1868\n",
    "\n",
    "q_test = pd.read_json('../0_data/q_test.json')\n",
    "print(f'q_test 행 개수: {len(q_test)}')\n",
    "\n",
    "with open('../0_data/train_onehot.pkl', 'rb') as f:\n",
    "    train_onehot = pickle.load(f)\n",
    "\n",
    "print(f'train_onehot.shape: {train_onehot.shape}')\n",
    "\n",
    "with open('../0_data/q_test_onehot.pkl', 'rb') as f:\n",
    "    q_test_onehot = pickle.load(f)\n",
    "\n",
    "print(f'q_test_onehot.shape: {q_test_onehot.shape}')"
   ]
  },
  {
   "cell_type": "markdown",
   "metadata": {},
   "source": [
    "> Modeling"
   ]
  },
  {
   "cell_type": "code",
   "execution_count": 3,
   "metadata": {},
   "outputs": [],
   "source": [
    "import tensorflow as tf\n",
    "from tensorflow.keras.models import Model\n",
    "from tensorflow.keras.layers import Dense, Input, Dropout, BatchNormalization, LeakyReLU\n",
    "from tensorflow.keras.optimizers import Adam"
   ]
  },
  {
   "cell_type": "markdown",
   "metadata": {},
   "source": [
    "> model_1\n",
    "- input_dim = 24666 #len(mfl_col)\n",
    "- hidden_dim = 64\n",
    "- dropout = 0.2\n",
    "- BatchNormalization(input_shape=(hidden_dim,))\n",
    "- LeakyReLU(alpha=0.01)\n",
    "- epoch = 10\n",
    "- batch_size = 64\n",
    "- loss_function = binary_crossentropy\n",
    "- learning_rate = 0.0005\n",
    "- optimizer = adam(learning_rate=learning_rate)"
   ]
  },
  {
   "cell_type": "code",
   "execution_count": 14,
   "metadata": {},
   "outputs": [],
   "source": [
    "model_name = 'model_1' # 저장될 모델 이름"
   ]
  },
  {
   "cell_type": "code",
   "execution_count": 5,
   "metadata": {},
   "outputs": [
    {
     "name": "stdout",
     "output_type": "stream",
     "text": [
      "Model: \"model_1\"\n",
      "_________________________________________________________________\n",
      " Layer (type)                Output Shape              Param #   \n",
      "=================================================================\n",
      " input_2 (InputLayer)        [(None, 24666)]           0         \n",
      "                                                                 \n",
      " dropout_1 (Dropout)         (None, 24666)             0         \n",
      "                                                                 \n",
      " dense_2 (Dense)             (None, 64)                1578688   \n",
      "                                                                 \n",
      " batch_normalization_1 (Bat  (None, 64)                256       \n",
      " chNormalization)                                                \n",
      "                                                                 \n",
      " leaky_re_lu_1 (LeakyReLU)   (None, 64)                0         \n",
      "                                                                 \n",
      " dense_3 (Dense)             (None, 24666)             1603290   \n",
      "                                                                 \n",
      "=================================================================\n",
      "Total params: 3182234 (12.14 MB)\n",
      "Trainable params: 3182106 (12.14 MB)\n",
      "Non-trainable params: 128 (512.00 Byte)\n",
      "_________________________________________________________________\n"
     ]
    }
   ],
   "source": [
    "# model_1\n",
    "input_dim = len(mfl_col)\n",
    "hidden_dim = 64\n",
    "dropout_rate = 0.2\n",
    "\n",
    "input_layer = Input(shape=(input_dim,))\n",
    "encoded = Dropout(0.2)(input_layer)\n",
    "encoded = Dense(hidden_dim)(encoded)\n",
    "encoded = BatchNormalization(input_shape=(hidden_dim,))(encoded)\n",
    "encoded = LeakyReLU(alpha=0.01)(encoded)\n",
    "\n",
    "decoded = Dense(input_dim, activation='sigmoid')(encoded)\n",
    "\n",
    "model = Model(inputs=input_layer, outputs=decoded)\n",
    "\n",
    "# 모델 요약 출력\n",
    "model.summary()"
   ]
  },
  {
   "cell_type": "code",
   "execution_count": 11,
   "metadata": {},
   "outputs": [],
   "source": [
    "learning_rate = 0.0005\n",
    "optimizer = Adam(learning_rate=learning_rate)\n",
    "model.compile(optimizer=optimizer,loss='binary_crossentropy')"
   ]
  },
  {
   "cell_type": "code",
   "execution_count": null,
   "metadata": {},
   "outputs": [],
   "source": [
    "model.fit(train_onehot, train_onehot, epochs=10, batch_size=64, validation_split=0.2, verbose=1)"
   ]
  },
  {
   "cell_type": "code",
   "execution_count": 13,
   "metadata": {},
   "outputs": [
    {
     "name": "stderr",
     "output_type": "stream",
     "text": [
      "c:\\Users\\Playdata\\anaconda3\\Lib\\site-packages\\keras\\src\\engine\\training.py:3079: UserWarning: You are saving your model as an HDF5 file via `model.save()`. This file format is considered legacy. We recommend using instead the native Keras format, e.g. `model.save('my_model.keras')`.\n",
      "  saving_api.save_model(\n"
     ]
    }
   ],
   "source": [
    "model.save(f'results/{model_name}.h5')"
   ]
  },
  {
   "cell_type": "code",
   "execution_count": 15,
   "metadata": {},
   "outputs": [],
   "source": [
    "model = tf.keras.models.load_model(f'results/{model_name}.h5')"
   ]
  },
  {
   "cell_type": "code",
   "execution_count": 16,
   "metadata": {},
   "outputs": [
    {
     "name": "stdout",
     "output_type": "stream",
     "text": [
      "358/358 [==============================] - 6s 15ms/step\n"
     ]
    }
   ],
   "source": [
    "predict_plist=model.predict(q_test_onehot)"
   ]
  },
  {
   "cell_type": "markdown",
   "metadata": {},
   "source": [
    "> 결과 추출"
   ]
  },
  {
   "cell_type": "code",
   "execution_count": 17,
   "metadata": {},
   "outputs": [],
   "source": [
    "result = generate_result(q_test, mfl_col, song_len, predict_plist)"
   ]
  },
  {
   "cell_type": "code",
   "execution_count": 18,
   "metadata": {},
   "outputs": [],
   "source": [
    "write_json(result,f'results/result_{model_name}_rs.json')"
   ]
  },
  {
   "cell_type": "markdown",
   "metadata": {},
   "source": [
    "> 평가"
   ]
  },
  {
   "cell_type": "code",
   "execution_count": 19,
   "metadata": {},
   "outputs": [
    {
     "name": "stdout",
     "output_type": "stream",
     "text": [
      "Music nDCG: 0.104066\n",
      "Tag nDCG: 0.36423\n",
      "Score: 0.14309\n"
     ]
    }
   ],
   "source": [
    "gt_fname = '../0_data/a_test.json'\n",
    "rec_fname = f'results/result_{model_name}_rs.json'\n",
    "arena_evaluator = ArenaEvaluator()\n",
    "arena_evaluator.evaluate(gt_fname, rec_fname)"
   ]
  },
  {
   "cell_type": "code",
   "execution_count": null,
   "metadata": {},
   "outputs": [],
   "source": []
  }
 ],
 "metadata": {
  "kernelspec": {
   "display_name": "base",
   "language": "python",
   "name": "python3"
  },
  "language_info": {
   "codemirror_mode": {
    "name": "ipython",
    "version": 3
   },
   "file_extension": ".py",
   "mimetype": "text/x-python",
   "name": "python",
   "nbconvert_exporter": "python",
   "pygments_lexer": "ipython3",
   "version": "3.11.5"
  },
  "orig_nbformat": 4
 },
 "nbformat": 4,
 "nbformat_minor": 2
}
