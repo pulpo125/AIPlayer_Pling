{
 "cells": [
  {
   "cell_type": "code",
   "execution_count": 68,
   "metadata": {},
   "outputs": [],
   "source": [
    "import io\n",
    "import os\n",
    "import json\n",
    "import pandas as pd\n",
    "import numpy as np\n",
    "import random\n",
    "import distutils.dir_util\n",
    "from matplotlib import pyplot as plt"
   ]
  },
  {
   "cell_type": "markdown",
   "metadata": {},
   "source": [
    "## 데이터 로드"
   ]
  },
  {
   "cell_type": "code",
   "execution_count": 69,
   "metadata": {},
   "outputs": [],
   "source": [
    "data = pd.read_json('../0_data/data.json', typ = 'frame', encoding='utf-8')"
   ]
  },
  {
   "cell_type": "code",
   "execution_count": 70,
   "metadata": {},
   "outputs": [
    {
     "data": {
      "text/html": [
       "<div>\n",
       "<style scoped>\n",
       "    .dataframe tbody tr th:only-of-type {\n",
       "        vertical-align: middle;\n",
       "    }\n",
       "\n",
       "    .dataframe tbody tr th {\n",
       "        vertical-align: top;\n",
       "    }\n",
       "\n",
       "    .dataframe thead th {\n",
       "        text-align: right;\n",
       "    }\n",
       "</style>\n",
       "<table border=\"1\" class=\"dataframe\">\n",
       "  <thead>\n",
       "    <tr style=\"text-align: right;\">\n",
       "      <th></th>\n",
       "      <th>tags</th>\n",
       "      <th>id</th>\n",
       "      <th>plylst_title</th>\n",
       "      <th>songs</th>\n",
       "      <th>like_cnt</th>\n",
       "      <th>updt_date</th>\n",
       "    </tr>\n",
       "  </thead>\n",
       "  <tbody>\n",
       "    <tr>\n",
       "      <th>0</th>\n",
       "      <td>[팝]</td>\n",
       "      <td>50564</td>\n",
       "      <td>1 HITS OF DECADE SPECIAL 2</td>\n",
       "      <td>[60025, 326802, 82991, 533287, 132109, 298235,...</td>\n",
       "      <td>5</td>\n",
       "      <td>2009-07-11 21:37:42.000</td>\n",
       "    </tr>\n",
       "    <tr>\n",
       "      <th>1</th>\n",
       "      <td>[기분좋은]</td>\n",
       "      <td>148495</td>\n",
       "      <td>100번 들어도 기분좋은 가요</td>\n",
       "      <td>[208186, 155952, 669617, 438439, 397412, 60398...</td>\n",
       "      <td>4</td>\n",
       "      <td>2016-10-31 13:59:41.000</td>\n",
       "    </tr>\n",
       "    <tr>\n",
       "      <th>2</th>\n",
       "      <td>[겨울, 크리스마스]</td>\n",
       "      <td>117162</td>\n",
       "      <td>12월의 재즈</td>\n",
       "      <td>[407630, 235568, 352044, 294512, 309377, 17965...</td>\n",
       "      <td>353</td>\n",
       "      <td>2016-12-26 12:33:33.000</td>\n",
       "    </tr>\n",
       "    <tr>\n",
       "      <th>3</th>\n",
       "      <td>[발라드]</td>\n",
       "      <td>151638</td>\n",
       "      <td>12월의 크리스마스를 yeah</td>\n",
       "      <td>[290351, 404382, 18938, 676958, 374448, 62388,...</td>\n",
       "      <td>29</td>\n",
       "      <td>2009-12-22 09:11:45.000</td>\n",
       "    </tr>\n",
       "    <tr>\n",
       "      <th>4</th>\n",
       "      <td>[일렉]</td>\n",
       "      <td>27984</td>\n",
       "      <td>1월의 최신 EDM 소식</td>\n",
       "      <td>[34851, 596152, 650671, 16261]</td>\n",
       "      <td>84</td>\n",
       "      <td>2015-01-29 16:22:19.000</td>\n",
       "    </tr>\n",
       "  </tbody>\n",
       "</table>\n",
       "</div>"
      ],
      "text/plain": [
       "          tags      id                plylst_title  \\\n",
       "0          [팝]   50564  1 HITS OF DECADE SPECIAL 2   \n",
       "1       [기분좋은]  148495            100번 들어도 기분좋은 가요   \n",
       "2  [겨울, 크리스마스]  117162                     12월의 재즈   \n",
       "3        [발라드]  151638            12월의 크리스마스를 yeah   \n",
       "4         [일렉]   27984               1월의 최신 EDM 소식   \n",
       "\n",
       "                                               songs  like_cnt  \\\n",
       "0  [60025, 326802, 82991, 533287, 132109, 298235,...         5   \n",
       "1  [208186, 155952, 669617, 438439, 397412, 60398...         4   \n",
       "2  [407630, 235568, 352044, 294512, 309377, 17965...       353   \n",
       "3  [290351, 404382, 18938, 676958, 374448, 62388,...        29   \n",
       "4                     [34851, 596152, 650671, 16261]        84   \n",
       "\n",
       "                 updt_date  \n",
       "0  2009-07-11 21:37:42.000  \n",
       "1  2016-10-31 13:59:41.000  \n",
       "2  2016-12-26 12:33:33.000  \n",
       "3  2009-12-22 09:11:45.000  \n",
       "4  2015-01-29 16:22:19.000  "
      ]
     },
     "execution_count": 70,
     "metadata": {},
     "output_type": "execute_result"
    }
   ],
   "source": [
    "data.head()"
   ]
  },
  {
   "cell_type": "code",
   "execution_count": 71,
   "metadata": {},
   "outputs": [
    {
     "name": "stdout",
     "output_type": "stream",
     "text": [
      "<class 'pandas.core.frame.DataFrame'>\n",
      "RangeIndex: 76309 entries, 0 to 76308\n",
      "Data columns (total 6 columns):\n",
      " #   Column        Non-Null Count  Dtype \n",
      "---  ------        --------------  ----- \n",
      " 0   tags          76309 non-null  object\n",
      " 1   id            76309 non-null  int64 \n",
      " 2   plylst_title  76309 non-null  object\n",
      " 3   songs         76309 non-null  object\n",
      " 4   like_cnt      76309 non-null  int64 \n",
      " 5   updt_date     76309 non-null  object\n",
      "dtypes: int64(2), object(4)\n",
      "memory usage: 3.5+ MB\n"
     ]
    }
   ],
   "source": [
    "data.info()"
   ]
  },
  {
   "cell_type": "markdown",
   "metadata": {},
   "source": [
    "## Split data"
   ]
  },
  {
   "cell_type": "code",
   "execution_count": 80,
   "metadata": {},
   "outputs": [],
   "source": [
    "# json write & load 함수 정의\n",
    "def write_json(data, fname):\n",
    "    def _conv(o):\n",
    "        if isinstance(o, (np.int64, np.int32)):\n",
    "            return int(o)\n",
    "        raise TypeError\n",
    "\n",
    "    parent = os.path.dirname(fname)\n",
    "    distutils.dir_util.mkpath(parent)\n",
    "    with io.open(fname, \"w\", encoding=\"utf-8\") as f:\n",
    "        json_str = json.dumps(data, ensure_ascii=False, default=_conv)\n",
    "        f.write(json_str)\n",
    "        \n",
    "def load_json(fname):\n",
    "    with open(fname, encoding='utf-8') as f:\n",
    "        json_obj = json.load(f)\n",
    "\n",
    "    return json_obj"
   ]
  },
  {
   "cell_type": "code",
   "execution_count": 81,
   "metadata": {},
   "outputs": [],
   "source": [
    "playlists = load_json('../0_data/data.json')"
   ]
  },
  {
   "cell_type": "code",
   "execution_count": 82,
   "metadata": {},
   "outputs": [
    {
     "data": {
      "text/plain": [
       "(45824, 11456)"
      ]
     },
     "execution_count": 82,
     "metadata": {},
     "output_type": "execute_result"
    }
   ],
   "source": [
    "# 무작위로 데이터 섞기\n",
    "random.seed(777)\n",
    "random.shuffle(playlists)\n",
    "\n",
    "# 80:20 비율로 split 하기\n",
    "tot = len(playlists)\n",
    "train = playlists[:int(tot*0.80)]\n",
    "test = playlists[int(tot*0.80):]\n",
    "\n",
    "# 데이터 확인\n",
    "len(train), len(test)"
   ]
  },
  {
   "cell_type": "code",
   "execution_count": 83,
   "metadata": {},
   "outputs": [],
   "source": [
    "# 데이터 저장\n",
    "write_json(train, \"../0_data/train.json\")\n",
    "write_json(test, \"../0_data/test.json\")"
   ]
  }
 ],
 "metadata": {
  "kernelspec": {
   "display_name": "base",
   "language": "python",
   "name": "python3"
  },
  "language_info": {
   "codemirror_mode": {
    "name": "ipython",
    "version": 3
   },
   "file_extension": ".py",
   "mimetype": "text/x-python",
   "name": "python",
   "nbconvert_exporter": "python",
   "pygments_lexer": "ipython3",
   "version": "3.10.9"
  },
  "orig_nbformat": 4
 },
 "nbformat": 4,
 "nbformat_minor": 2
}
