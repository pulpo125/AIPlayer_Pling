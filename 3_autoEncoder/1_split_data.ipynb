{
 "cells": [
  {
   "cell_type": "markdown",
   "metadata": {},
   "source": [
    "# 1. Split Data"
   ]
  },
  {
   "cell_type": "code",
   "execution_count": 1,
   "metadata": {},
   "outputs": [],
   "source": [
    "import io\n",
    "import os\n",
    "import json\n",
    "import pandas as pd\n",
    "import numpy as np\n",
    "import random\n",
    "import distutils.dir_util\n",
    "from matplotlib import pyplot as plt"
   ]
  },
  {
   "cell_type": "markdown",
   "metadata": {},
   "source": [
    "## 데이터 로드"
   ]
  },
  {
   "cell_type": "code",
   "execution_count": 2,
   "metadata": {},
   "outputs": [],
   "source": [
    "data = pd.read_json('../0_data/data.json', typ = 'frame', encoding='utf-8')"
   ]
  },
  {
   "cell_type": "code",
   "execution_count": 3,
   "metadata": {},
   "outputs": [
    {
     "data": {
      "text/html": [
       "<div>\n",
       "<style scoped>\n",
       "    .dataframe tbody tr th:only-of-type {\n",
       "        vertical-align: middle;\n",
       "    }\n",
       "\n",
       "    .dataframe tbody tr th {\n",
       "        vertical-align: top;\n",
       "    }\n",
       "\n",
       "    .dataframe thead th {\n",
       "        text-align: right;\n",
       "    }\n",
       "</style>\n",
       "<table border=\"1\" class=\"dataframe\">\n",
       "  <thead>\n",
       "    <tr style=\"text-align: right;\">\n",
       "      <th></th>\n",
       "      <th>tags</th>\n",
       "      <th>id</th>\n",
       "      <th>plylst_title</th>\n",
       "      <th>songs</th>\n",
       "      <th>like_cnt</th>\n",
       "      <th>updt_date</th>\n",
       "    </tr>\n",
       "  </thead>\n",
       "  <tbody>\n",
       "    <tr>\n",
       "      <th>0</th>\n",
       "      <td>[노동요, 취향저격, 드라이브, Pop, 기분전환, 트렌디, 스트레스, 신나는]</td>\n",
       "      <td>74220</td>\n",
       "      <td>HOT TRENDY POP  놓쳐선 안될  POP   매주 업데이트</td>\n",
       "      <td>[643023, 452196, 424328, 380410, 248200, 20419...</td>\n",
       "      <td>53211</td>\n",
       "      <td>2020-04-17 14:32:23.000</td>\n",
       "    </tr>\n",
       "    <tr>\n",
       "      <th>1</th>\n",
       "      <td>[흥겨운, 드라이브, Pop, 기분전환, 경쾌한, 외출, 내적댄스, 기분업, 충전,...</td>\n",
       "      <td>72658</td>\n",
       "      <td>약속 있어  외출 전  기분 UP 하고 싶을 때 들어봐   매주 목요일</td>\n",
       "      <td>[111779, 129878, 357770, 348795, 55397, 225765...</td>\n",
       "      <td>23965</td>\n",
       "      <td>2020-04-22 16:05:39.000</td>\n",
       "    </tr>\n",
       "    <tr>\n",
       "      <th>2</th>\n",
       "      <td>[카페]</td>\n",
       "      <td>38507</td>\n",
       "      <td>중독성강한음악들</td>\n",
       "      <td>[487343, 434533, 105845, 455833, 269000, 24470...</td>\n",
       "      <td>21045</td>\n",
       "      <td>2019-11-29 09:10:58.000</td>\n",
       "    </tr>\n",
       "    <tr>\n",
       "      <th>3</th>\n",
       "      <td>[휴식, 카페, 매장, 드라이브, 몽환, 여행, 묘니3, 기분전환, 스트레스, 분위기]</td>\n",
       "      <td>20007</td>\n",
       "      <td>100번 넘게 들어도 좋은 100곡</td>\n",
       "      <td>[464051, 11657, 623820, 7605, 211063, 563620, ...</td>\n",
       "      <td>18810</td>\n",
       "      <td>2017-08-16 10:44:39.000</td>\n",
       "    </tr>\n",
       "    <tr>\n",
       "      <th>4</th>\n",
       "      <td>[팝]</td>\n",
       "      <td>56212</td>\n",
       "      <td>내가 뽑은 최고의 팝송 TOP 100</td>\n",
       "      <td>[672232, 430846, 588165, 668733, 428272, 28455...</td>\n",
       "      <td>18403</td>\n",
       "      <td>2012-03-19 10:49:17.000</td>\n",
       "    </tr>\n",
       "  </tbody>\n",
       "</table>\n",
       "</div>"
      ],
      "text/plain": [
       "                                                tags     id  \\\n",
       "0       [노동요, 취향저격, 드라이브, Pop, 기분전환, 트렌디, 스트레스, 신나는]  74220   \n",
       "1  [흥겨운, 드라이브, Pop, 기분전환, 경쾌한, 외출, 내적댄스, 기분업, 충전,...  72658   \n",
       "2                                               [카페]  38507   \n",
       "3   [휴식, 카페, 매장, 드라이브, 몽환, 여행, 묘니3, 기분전환, 스트레스, 분위기]  20007   \n",
       "4                                                [팝]  56212   \n",
       "\n",
       "                              plylst_title  \\\n",
       "0    HOT TRENDY POP  놓쳐선 안될  POP   매주 업데이트   \n",
       "1  약속 있어  외출 전  기분 UP 하고 싶을 때 들어봐   매주 목요일   \n",
       "2                                 중독성강한음악들   \n",
       "3                      100번 넘게 들어도 좋은 100곡   \n",
       "4                     내가 뽑은 최고의 팝송 TOP 100   \n",
       "\n",
       "                                               songs  like_cnt  \\\n",
       "0  [643023, 452196, 424328, 380410, 248200, 20419...     53211   \n",
       "1  [111779, 129878, 357770, 348795, 55397, 225765...     23965   \n",
       "2  [487343, 434533, 105845, 455833, 269000, 24470...     21045   \n",
       "3  [464051, 11657, 623820, 7605, 211063, 563620, ...     18810   \n",
       "4  [672232, 430846, 588165, 668733, 428272, 28455...     18403   \n",
       "\n",
       "                 updt_date  \n",
       "0  2020-04-17 14:32:23.000  \n",
       "1  2020-04-22 16:05:39.000  \n",
       "2  2019-11-29 09:10:58.000  \n",
       "3  2017-08-16 10:44:39.000  \n",
       "4  2012-03-19 10:49:17.000  "
      ]
     },
     "execution_count": 3,
     "metadata": {},
     "output_type": "execute_result"
    }
   ],
   "source": [
    "data.head()"
   ]
  },
  {
   "cell_type": "code",
   "execution_count": 4,
   "metadata": {},
   "outputs": [
    {
     "name": "stdout",
     "output_type": "stream",
     "text": [
      "<class 'pandas.core.frame.DataFrame'>\n",
      "RangeIndex: 57280 entries, 0 to 57279\n",
      "Data columns (total 6 columns):\n",
      " #   Column        Non-Null Count  Dtype \n",
      "---  ------        --------------  ----- \n",
      " 0   tags          57280 non-null  object\n",
      " 1   id            57280 non-null  int64 \n",
      " 2   plylst_title  57280 non-null  object\n",
      " 3   songs         57280 non-null  object\n",
      " 4   like_cnt      57280 non-null  int64 \n",
      " 5   updt_date     57280 non-null  object\n",
      "dtypes: int64(2), object(4)\n",
      "memory usage: 2.6+ MB\n"
     ]
    }
   ],
   "source": [
    "data.info()"
   ]
  },
  {
   "cell_type": "markdown",
   "metadata": {},
   "source": [
    "## Split data"
   ]
  },
  {
   "cell_type": "code",
   "execution_count": 80,
   "metadata": {},
   "outputs": [],
   "source": [
    "# json write & load 함수 정의\n",
    "def write_json(data, fname):\n",
    "    def _conv(o):\n",
    "        if isinstance(o, (np.int64, np.int32)):\n",
    "            return int(o)\n",
    "        raise TypeError\n",
    "\n",
    "    parent = os.path.dirname(fname)\n",
    "    distutils.dir_util.mkpath(parent)\n",
    "    with io.open(fname, \"w\", encoding=\"utf-8\") as f:\n",
    "        json_str = json.dumps(data, ensure_ascii=False, default=_conv)\n",
    "        f.write(json_str)\n",
    "        \n",
    "def load_json(fname):\n",
    "    with open(fname, encoding='utf-8') as f:\n",
    "        json_obj = json.load(f)\n",
    "\n",
    "    return json_obj"
   ]
  },
  {
   "cell_type": "code",
   "execution_count": 81,
   "metadata": {},
   "outputs": [],
   "source": [
    "playlists = load_json('../0_data/data.json')"
   ]
  },
  {
   "cell_type": "code",
   "execution_count": 82,
   "metadata": {},
   "outputs": [
    {
     "data": {
      "text/plain": [
       "(45824, 11456)"
      ]
     },
     "execution_count": 82,
     "metadata": {},
     "output_type": "execute_result"
    }
   ],
   "source": [
    "# 무작위로 데이터 섞기\n",
    "random.seed(777)\n",
    "random.shuffle(playlists)\n",
    "\n",
    "# 80:20 비율로 split 하기\n",
    "tot = len(playlists)\n",
    "train = playlists[:int(tot*0.80)]\n",
    "test = playlists[int(tot*0.80):]\n",
    "\n",
    "# 데이터 확인\n",
    "len(train), len(test)"
   ]
  },
  {
   "cell_type": "code",
   "execution_count": 83,
   "metadata": {},
   "outputs": [],
   "source": [
    "# 데이터 저장\n",
    "write_json(train, \"../0_data/train.json\")\n",
    "write_json(test, \"../0_data/test.json\")"
   ]
  }
 ],
 "metadata": {
  "kernelspec": {
   "display_name": "base",
   "language": "python",
   "name": "python3"
  },
  "language_info": {
   "codemirror_mode": {
    "name": "ipython",
    "version": 3
   },
   "file_extension": ".py",
   "mimetype": "text/x-python",
   "name": "python",
   "nbconvert_exporter": "python",
   "pygments_lexer": "ipython3",
   "version": "3.11.5"
  },
  "orig_nbformat": 4
 },
 "nbformat": 4,
 "nbformat_minor": 2
}
