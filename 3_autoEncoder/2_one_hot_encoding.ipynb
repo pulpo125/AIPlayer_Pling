{
 "cells": [
  {
   "cell_type": "code",
   "execution_count": 1,
   "metadata": {},
   "outputs": [],
   "source": [
    "import json\n",
    "import pandas as pd\n",
    "import numpy as np\n",
    "from collections import Counter\n",
    "import distutils.dir_util\n",
    "import pickle\n",
    "import io\n",
    "import os"
   ]
  },
  {
   "cell_type": "markdown",
   "metadata": {},
   "source": [
    "# 데이터 로드"
   ]
  },
  {
   "cell_type": "code",
   "execution_count": 2,
   "metadata": {},
   "outputs": [],
   "source": [
    "# json write & load 함수 정의\n",
    "def write_json(data, fname):\n",
    "    def _conv(o):\n",
    "        if isinstance(o, (np.int64, np.int32)):\n",
    "            return int(o)\n",
    "        raise TypeError\n",
    "\n",
    "    parent = os.path.dirname(fname)\n",
    "    distutils.dir_util.mkpath(parent)\n",
    "    with io.open(fname, \"w\", encoding=\"utf-8\") as f:\n",
    "        json_str = json.dumps(data, ensure_ascii=False, default=_conv)\n",
    "        f.write(json_str)\n",
    "        \n",
    "def load_json(fname):\n",
    "    with open(fname, encoding='utf-8') as f:\n",
    "        json_obj = json.load(f)\n",
    "\n",
    "    return json_obj"
   ]
  },
  {
   "cell_type": "code",
   "execution_count": 5,
   "metadata": {},
   "outputs": [],
   "source": [
    "# 데이터 로드\n",
    "train = pd.read_json(\"../0_data/train.json\")\n",
    "test = pd.read_json(\"../0_data/test.json\")"
   ]
  },
  {
   "cell_type": "code",
   "execution_count": 6,
   "metadata": {},
   "outputs": [
    {
     "name": "stdout",
     "output_type": "stream",
     "text": [
      "<class 'pandas.core.frame.DataFrame'>\n",
      "RangeIndex: 45824 entries, 0 to 45823\n",
      "Data columns (total 6 columns):\n",
      " #   Column        Non-Null Count  Dtype \n",
      "---  ------        --------------  ----- \n",
      " 0   tags          45824 non-null  object\n",
      " 1   id            45824 non-null  int64 \n",
      " 2   plylst_title  45824 non-null  object\n",
      " 3   songs         45824 non-null  object\n",
      " 4   like_cnt      45824 non-null  int64 \n",
      " 5   updt_date     45824 non-null  object\n",
      "dtypes: int64(2), object(4)\n",
      "memory usage: 2.1+ MB\n",
      "<class 'pandas.core.frame.DataFrame'>\n",
      "RangeIndex: 11456 entries, 0 to 11455\n",
      "Data columns (total 6 columns):\n",
      " #   Column        Non-Null Count  Dtype \n",
      "---  ------        --------------  ----- \n",
      " 0   tags          11456 non-null  object\n",
      " 1   id            11456 non-null  int64 \n",
      " 2   plylst_title  11456 non-null  object\n",
      " 3   songs         11456 non-null  object\n",
      " 4   like_cnt      11456 non-null  int64 \n",
      " 5   updt_date     11456 non-null  object\n",
      "dtypes: int64(2), object(4)\n",
      "memory usage: 537.1+ KB\n"
     ]
    },
    {
     "data": {
      "text/plain": [
       "(None, None)"
      ]
     },
     "execution_count": 6,
     "metadata": {},
     "output_type": "execute_result"
    }
   ],
   "source": [
    "train.info(), test.info()"
   ]
  },
  {
   "cell_type": "markdown",
   "metadata": {},
   "source": [
    "# One-Hot Encoding"
   ]
  },
  {
   "cell_type": "markdown",
   "metadata": {},
   "source": [
    "> Song, tag 빈도 수에 따른 의미있는 feature 선정"
   ]
  },
  {
   "cell_type": "code",
   "execution_count": 7,
   "metadata": {},
   "outputs": [],
   "source": [
    "# 플레이리스트 내 song id 리스트\n",
    "t_song = train['songs']\n",
    "# 플레이리스트 내 tag 리스트\n",
    "t_tag = train['tags']\n",
    "# 플레이리스트 내 song id 리스트 전체 나열\n",
    "song_list = [song for ply in t_song for song in ply]\n",
    "# 플레이리스트 내 tag 리스트 전체 나열\n",
    "tag_list = [tag for ply in t_tag for tag in ply]"
   ]
  },
  {
   "cell_type": "code",
   "execution_count": 8,
   "metadata": {},
   "outputs": [],
   "source": [
    "# 전체 나열 리스트 중 각 song의 개수\n",
    "count_song = Counter(song_list)\n",
    "# 전체 나열 리스트 중 각 tag의 개수\n",
    "count_tag = Counter(tag_list)"
   ]
  },
  {
   "cell_type": "code",
   "execution_count": 9,
   "metadata": {},
   "outputs": [],
   "source": [
    "# with open('../0_data/count_song.pkl', 'wb') as f:\n",
    "#     pickle.dump(count_song, f)"
   ]
  },
  {
   "cell_type": "code",
   "execution_count": 10,
   "metadata": {},
   "outputs": [],
   "source": [
    "# with open('../0_data/count_tag.pkl', 'wb') as f:\n",
    "#     pickle.dump(count_tag, f)"
   ]
  },
  {
   "cell_type": "code",
   "execution_count": 7,
   "metadata": {},
   "outputs": [
    {
     "data": {
      "text/plain": [
       "count    44674.000000\n",
       "mean        25.668286\n",
       "std         36.829526\n",
       "min          1.000000\n",
       "25%          9.000000\n",
       "50%         14.000000\n",
       "75%         26.000000\n",
       "max        848.000000\n",
       "dtype: float64"
      ]
     },
     "execution_count": 7,
     "metadata": {},
     "output_type": "execute_result"
    }
   ],
   "source": [
    "pd.Series(count_song).describe()"
   ]
  },
  {
   "cell_type": "markdown",
   "metadata": {},
   "source": [
    "=> 곡의 빈도수 편차가 심하다. 때문에, 50% 미만 사용된 곡은 마이너 하다고 해석할 수 있으므로 해당 곡을 학습에 사용하지 않는다."
   ]
  },
  {
   "cell_type": "code",
   "execution_count": 8,
   "metadata": {},
   "outputs": [
    {
     "data": {
      "text/plain": [
       "count    3400.000000\n",
       "mean       55.305588\n",
       "std       292.691021\n",
       "min         1.000000\n",
       "25%         5.000000\n",
       "50%         8.000000\n",
       "75%        20.000000\n",
       "max      6743.000000\n",
       "dtype: float64"
      ]
     },
     "execution_count": 8,
     "metadata": {},
     "output_type": "execute_result"
    }
   ],
   "source": [
    "pd.Series(count_tag).describe()"
   ]
  },
  {
   "cell_type": "markdown",
   "metadata": {},
   "source": [
    "=> 태그의 빈도수는 편차가 더욱 심하다. 때문에, 50% 미만 사용된 태그는 일반적인 태그가 아니라고 해석할 수 있으므로 해당 태그는 학습에 사용하지 않는다."
   ]
  },
  {
   "cell_type": "markdown",
   "metadata": {},
   "source": [
    "- count_song <= 14 인 song은 학습에서 제외\n",
    "- count_tag <= 8 인 tag는 학습에서 제외"
   ]
  },
  {
   "cell_type": "code",
   "execution_count": 9,
   "metadata": {},
   "outputs": [
    {
     "data": {
      "text/plain": [
       "22798"
      ]
     },
     "execution_count": 9,
     "metadata": {},
     "output_type": "execute_result"
    }
   ],
   "source": [
    "song_thr = 14\n",
    "mfl={}  # meaningful\n",
    "for key, value in count_song.items():\n",
    "    if value >= song_thr:\n",
    "        mfl[key]=value\n",
    "song_len = len(mfl)\n",
    "song_len"
   ]
  },
  {
   "cell_type": "code",
   "execution_count": 10,
   "metadata": {},
   "outputs": [
    {
     "data": {
      "text/plain": [
       "1868"
      ]
     },
     "execution_count": 10,
     "metadata": {},
     "output_type": "execute_result"
    }
   ],
   "source": [
    "tag_thr = 8\n",
    "for key, value in count_tag.items():\n",
    "    if value>=tag_thr:\n",
    "        mfl[key]=value\n",
    "tag_len=len(mfl)-song_len\n",
    "tag_len"
   ]
  },
  {
   "cell_type": "code",
   "execution_count": 12,
   "metadata": {},
   "outputs": [
    {
     "data": {
      "text/plain": [
       "24666"
      ]
     },
     "execution_count": 12,
     "metadata": {},
     "output_type": "execute_result"
    }
   ],
   "source": [
    "mfl_col = list(mfl.keys())\n",
    "len(mfl_col) # 유의미한 song과 tag의 총 개수 (song_len+tag_len)"
   ]
  },
  {
   "cell_type": "code",
   "execution_count": 27,
   "metadata": {},
   "outputs": [],
   "source": [
    "with open('../0_data/mfl_col.pkl', 'wb') as f:\n",
    "    pickle.dump(mfl_col, f)"
   ]
  },
  {
   "cell_type": "code",
   "execution_count": 29,
   "metadata": {},
   "outputs": [
    {
     "data": {
      "text/plain": [
       "24666"
      ]
     },
     "execution_count": 29,
     "metadata": {},
     "output_type": "execute_result"
    }
   ],
   "source": [
    "with open('../0_data/mfl_col.pkl', 'rb') as f:\n",
    "    mfl_col = pickle.load(f)\n",
    "\n",
    "len(mfl_col)"
   ]
  },
  {
   "cell_type": "markdown",
   "metadata": {},
   "source": [
    "> zero matrix 생성"
   ]
  },
  {
   "cell_type": "code",
   "execution_count": 13,
   "metadata": {},
   "outputs": [
    {
     "data": {
      "text/plain": [
       "(45824, 24666)"
      ]
     },
     "execution_count": 13,
     "metadata": {},
     "output_type": "execute_result"
    }
   ],
   "source": [
    "# 전체 플레이리스트를 row, 유의미한 song과 tag를 column으로 하는 zero matrix 생성\n",
    "zero_matrix = np.zeros((len(train),len(mfl_col)))\n",
    "zero_matrix.shape"
   ]
  },
  {
   "cell_type": "code",
   "execution_count": 14,
   "metadata": {},
   "outputs": [
    {
     "data": {
      "text/html": [
       "<div>\n",
       "<style scoped>\n",
       "    .dataframe tbody tr th:only-of-type {\n",
       "        vertical-align: middle;\n",
       "    }\n",
       "\n",
       "    .dataframe tbody tr th {\n",
       "        vertical-align: top;\n",
       "    }\n",
       "\n",
       "    .dataframe thead th {\n",
       "        text-align: right;\n",
       "    }\n",
       "</style>\n",
       "<table border=\"1\" class=\"dataframe\">\n",
       "  <thead>\n",
       "    <tr style=\"text-align: right;\">\n",
       "      <th></th>\n",
       "      <th>649965</th>\n",
       "      <th>143660</th>\n",
       "      <th>640591</th>\n",
       "      <th>411147</th>\n",
       "      <th>497957</th>\n",
       "      <th>222610</th>\n",
       "      <th>6054</th>\n",
       "      <th>146449</th>\n",
       "      <th>509038</th>\n",
       "      <th>200182</th>\n",
       "      <th>...</th>\n",
       "      <th>이국적인</th>\n",
       "      <th>음식</th>\n",
       "      <th>질리지않는</th>\n",
       "      <th>여름음악</th>\n",
       "      <th>흐린</th>\n",
       "      <th>색다른</th>\n",
       "      <th>deep</th>\n",
       "      <th>교향곡</th>\n",
       "      <th>히트</th>\n",
       "      <th>어버이날</th>\n",
       "    </tr>\n",
       "    <tr>\n",
       "      <th>id</th>\n",
       "      <th></th>\n",
       "      <th></th>\n",
       "      <th></th>\n",
       "      <th></th>\n",
       "      <th></th>\n",
       "      <th></th>\n",
       "      <th></th>\n",
       "      <th></th>\n",
       "      <th></th>\n",
       "      <th></th>\n",
       "      <th></th>\n",
       "      <th></th>\n",
       "      <th></th>\n",
       "      <th></th>\n",
       "      <th></th>\n",
       "      <th></th>\n",
       "      <th></th>\n",
       "      <th></th>\n",
       "      <th></th>\n",
       "      <th></th>\n",
       "      <th></th>\n",
       "    </tr>\n",
       "  </thead>\n",
       "  <tbody>\n",
       "    <tr>\n",
       "      <th>55946</th>\n",
       "      <td>0.0</td>\n",
       "      <td>0.0</td>\n",
       "      <td>0.0</td>\n",
       "      <td>0.0</td>\n",
       "      <td>0.0</td>\n",
       "      <td>0.0</td>\n",
       "      <td>0.0</td>\n",
       "      <td>0.0</td>\n",
       "      <td>0.0</td>\n",
       "      <td>0.0</td>\n",
       "      <td>...</td>\n",
       "      <td>0.0</td>\n",
       "      <td>0.0</td>\n",
       "      <td>0.0</td>\n",
       "      <td>0.0</td>\n",
       "      <td>0.0</td>\n",
       "      <td>0.0</td>\n",
       "      <td>0.0</td>\n",
       "      <td>0.0</td>\n",
       "      <td>0.0</td>\n",
       "      <td>0.0</td>\n",
       "    </tr>\n",
       "    <tr>\n",
       "      <th>33931</th>\n",
       "      <td>0.0</td>\n",
       "      <td>0.0</td>\n",
       "      <td>0.0</td>\n",
       "      <td>0.0</td>\n",
       "      <td>0.0</td>\n",
       "      <td>0.0</td>\n",
       "      <td>0.0</td>\n",
       "      <td>0.0</td>\n",
       "      <td>0.0</td>\n",
       "      <td>0.0</td>\n",
       "      <td>...</td>\n",
       "      <td>0.0</td>\n",
       "      <td>0.0</td>\n",
       "      <td>0.0</td>\n",
       "      <td>0.0</td>\n",
       "      <td>0.0</td>\n",
       "      <td>0.0</td>\n",
       "      <td>0.0</td>\n",
       "      <td>0.0</td>\n",
       "      <td>0.0</td>\n",
       "      <td>0.0</td>\n",
       "    </tr>\n",
       "    <tr>\n",
       "      <th>87053</th>\n",
       "      <td>0.0</td>\n",
       "      <td>0.0</td>\n",
       "      <td>0.0</td>\n",
       "      <td>0.0</td>\n",
       "      <td>0.0</td>\n",
       "      <td>0.0</td>\n",
       "      <td>0.0</td>\n",
       "      <td>0.0</td>\n",
       "      <td>0.0</td>\n",
       "      <td>0.0</td>\n",
       "      <td>...</td>\n",
       "      <td>0.0</td>\n",
       "      <td>0.0</td>\n",
       "      <td>0.0</td>\n",
       "      <td>0.0</td>\n",
       "      <td>0.0</td>\n",
       "      <td>0.0</td>\n",
       "      <td>0.0</td>\n",
       "      <td>0.0</td>\n",
       "      <td>0.0</td>\n",
       "      <td>0.0</td>\n",
       "    </tr>\n",
       "    <tr>\n",
       "      <th>17412</th>\n",
       "      <td>0.0</td>\n",
       "      <td>0.0</td>\n",
       "      <td>0.0</td>\n",
       "      <td>0.0</td>\n",
       "      <td>0.0</td>\n",
       "      <td>0.0</td>\n",
       "      <td>0.0</td>\n",
       "      <td>0.0</td>\n",
       "      <td>0.0</td>\n",
       "      <td>0.0</td>\n",
       "      <td>...</td>\n",
       "      <td>0.0</td>\n",
       "      <td>0.0</td>\n",
       "      <td>0.0</td>\n",
       "      <td>0.0</td>\n",
       "      <td>0.0</td>\n",
       "      <td>0.0</td>\n",
       "      <td>0.0</td>\n",
       "      <td>0.0</td>\n",
       "      <td>0.0</td>\n",
       "      <td>0.0</td>\n",
       "    </tr>\n",
       "    <tr>\n",
       "      <th>129649</th>\n",
       "      <td>0.0</td>\n",
       "      <td>0.0</td>\n",
       "      <td>0.0</td>\n",
       "      <td>0.0</td>\n",
       "      <td>0.0</td>\n",
       "      <td>0.0</td>\n",
       "      <td>0.0</td>\n",
       "      <td>0.0</td>\n",
       "      <td>0.0</td>\n",
       "      <td>0.0</td>\n",
       "      <td>...</td>\n",
       "      <td>0.0</td>\n",
       "      <td>0.0</td>\n",
       "      <td>0.0</td>\n",
       "      <td>0.0</td>\n",
       "      <td>0.0</td>\n",
       "      <td>0.0</td>\n",
       "      <td>0.0</td>\n",
       "      <td>0.0</td>\n",
       "      <td>0.0</td>\n",
       "      <td>0.0</td>\n",
       "    </tr>\n",
       "  </tbody>\n",
       "</table>\n",
       "<p>5 rows × 24666 columns</p>\n",
       "</div>"
      ],
      "text/plain": [
       "        649965  143660  640591  411147  497957  222610  6054  146449  509038  \\\n",
       "id                                                                             \n",
       "55946      0.0     0.0     0.0     0.0     0.0     0.0   0.0     0.0     0.0   \n",
       "33931      0.0     0.0     0.0     0.0     0.0     0.0   0.0     0.0     0.0   \n",
       "87053      0.0     0.0     0.0     0.0     0.0     0.0   0.0     0.0     0.0   \n",
       "17412      0.0     0.0     0.0     0.0     0.0     0.0   0.0     0.0     0.0   \n",
       "129649     0.0     0.0     0.0     0.0     0.0     0.0   0.0     0.0     0.0   \n",
       "\n",
       "        200182  ...  이국적인   음식  질리지않는  여름음악   흐린  색다른  deep  교향곡   히트  어버이날  \n",
       "id              ...                                                          \n",
       "55946      0.0  ...   0.0  0.0    0.0   0.0  0.0  0.0   0.0  0.0  0.0   0.0  \n",
       "33931      0.0  ...   0.0  0.0    0.0   0.0  0.0  0.0   0.0  0.0  0.0   0.0  \n",
       "87053      0.0  ...   0.0  0.0    0.0   0.0  0.0  0.0   0.0  0.0  0.0   0.0  \n",
       "17412      0.0  ...   0.0  0.0    0.0   0.0  0.0  0.0   0.0  0.0  0.0   0.0  \n",
       "129649     0.0  ...   0.0  0.0    0.0   0.0  0.0  0.0   0.0  0.0  0.0   0.0  \n",
       "\n",
       "[5 rows x 24666 columns]"
      ]
     },
     "execution_count": 14,
     "metadata": {},
     "output_type": "execute_result"
    }
   ],
   "source": [
    "df_zero = pd.DataFrame(zero_matrix,columns=mfl_col,index=train['id'])\n",
    "df_zero.head() # matrix >> dataframe 변환"
   ]
  },
  {
   "cell_type": "markdown",
   "metadata": {},
   "source": [
    "> One-Hot Encoding"
   ]
  },
  {
   "cell_type": "markdown",
   "metadata": {},
   "source": [
    "- train"
   ]
  },
  {
   "cell_type": "code",
   "execution_count": 15,
   "metadata": {},
   "outputs": [],
   "source": [
    "# 각 플레이리스트에 해당하는 곡, 태그 좌표에 1 부여\n",
    "\n",
    "def create_onehot(df,column_name):\n",
    "    zero_matrix=np.zeros((len(df),len(column_name)))\n",
    "    zero_df=pd.DataFrame(zero_matrix,columns=column_name,index=df['id'])\n",
    "    for i in range(len(df)):\n",
    "        for j in df.iloc[i,0]+df.iloc[i,3] :\n",
    "            if j in column_name:\n",
    "                zero_df.iloc[i,column_name.index(j)]=1\n",
    "    return zero_df"
   ]
  },
  {
   "cell_type": "code",
   "execution_count": 16,
   "metadata": {},
   "outputs": [
    {
     "data": {
      "text/plain": [
       "(45824, 24666)"
      ]
     },
     "execution_count": 16,
     "metadata": {},
     "output_type": "execute_result"
    }
   ],
   "source": [
    "# create_onehot 함수 활용 train data >> onehot encoding\n",
    "train_onehot = create_onehot(train, mfl_col)\n",
    "train_onehot.shape"
   ]
  },
  {
   "cell_type": "code",
   "execution_count": 18,
   "metadata": {},
   "outputs": [],
   "source": [
    "with open('../0_data/train_onehot.pkl', 'wb') as f:\n",
    "    pickle.dump(train_onehot, f)"
   ]
  },
  {
   "cell_type": "code",
   "execution_count": 24,
   "metadata": {},
   "outputs": [
    {
     "data": {
      "text/plain": [
       "(45824, 24666)"
      ]
     },
     "execution_count": 24,
     "metadata": {},
     "output_type": "execute_result"
    }
   ],
   "source": [
    "with open('../0_data/train_onehot.pkl', 'rb') as f:\n",
    "    train_onehot = pickle.load(f)\n",
    "\n",
    "train_onehot.shape"
   ]
  },
  {
   "cell_type": "markdown",
   "metadata": {},
   "source": [
    "- test"
   ]
  },
  {
   "cell_type": "code",
   "execution_count": 20,
   "metadata": {},
   "outputs": [
    {
     "data": {
      "text/plain": [
       "(11456, 24666)"
      ]
     },
     "execution_count": 20,
     "metadata": {},
     "output_type": "execute_result"
    }
   ],
   "source": [
    "# create_onehot 함수 활용 test data >> onehot encoding\n",
    "test_onehot = create_onehot(test, mfl_col)\n",
    "test_onehot.shape"
   ]
  },
  {
   "cell_type": "code",
   "execution_count": 25,
   "metadata": {},
   "outputs": [],
   "source": [
    "with open('../0_data/test_onehot.pkl', 'wb') as f:\n",
    "    pickle.dump(test_onehot, f)"
   ]
  },
  {
   "cell_type": "code",
   "execution_count": 26,
   "metadata": {},
   "outputs": [
    {
     "data": {
      "text/plain": [
       "(11456, 24666)"
      ]
     },
     "execution_count": 26,
     "metadata": {},
     "output_type": "execute_result"
    }
   ],
   "source": [
    "with open('../0_data/test_onehot.pkl', 'rb') as f:\n",
    "    test_onehot = pickle.load(f)\n",
    "\n",
    "test_onehot.shape"
   ]
  },
  {
   "cell_type": "markdown",
   "metadata": {},
   "source": [
    "---"
   ]
  }
 ],
 "metadata": {
  "kernelspec": {
   "display_name": "base",
   "language": "python",
   "name": "python3"
  },
  "language_info": {
   "codemirror_mode": {
    "name": "ipython",
    "version": 3
   },
   "file_extension": ".py",
   "mimetype": "text/x-python",
   "name": "python",
   "nbconvert_exporter": "python",
   "pygments_lexer": "ipython3",
   "version": "3.11.5"
  },
  "orig_nbformat": 4
 },
 "nbformat": 4,
 "nbformat_minor": 2
}
