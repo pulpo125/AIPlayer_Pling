{
 "cells": [
  {
   "cell_type": "markdown",
   "metadata": {},
   "source": [
    "# 3. Masking data: question, answer data 생성"
   ]
  },
  {
   "cell_type": "code",
   "execution_count": 39,
   "metadata": {},
   "outputs": [],
   "source": [
    "import io\n",
    "import os\n",
    "import json\n",
    "import pandas as pd\n",
    "import numpy as np\n",
    "import random\n",
    "import copy\n",
    "import distutils.dir_util\n",
    "from matplotlib import pyplot as plt"
   ]
  },
  {
   "cell_type": "code",
   "execution_count": 40,
   "metadata": {},
   "outputs": [],
   "source": [
    "# json write & load 함수 정의\n",
    "def write_json(data, fname):\n",
    "    def _conv(o):\n",
    "        if isinstance(o, (np.int64, np.int32)):\n",
    "            return int(o)\n",
    "        raise TypeError\n",
    "\n",
    "    parent = os.path.dirname(fname)\n",
    "    distutils.dir_util.mkpath(parent)\n",
    "    with io.open(fname, \"w\", encoding=\"utf-8\") as f:\n",
    "        json_str = json.dumps(data, ensure_ascii=False, default=_conv)\n",
    "        f.write(json_str)\n",
    "        \n",
    "def load_json(fname):\n",
    "    with open(fname, encoding='utf-8') as f:\n",
    "        json_obj = json.load(f)\n",
    "\n",
    "    return json_obj"
   ]
  },
  {
   "cell_type": "code",
   "execution_count": 42,
   "metadata": {},
   "outputs": [],
   "source": [
    "test = load_json('../0_data/test.json')"
   ]
  },
  {
   "cell_type": "code",
   "execution_count": 43,
   "metadata": {},
   "outputs": [
    {
     "data": {
      "text/plain": [
       "11456"
      ]
     },
     "execution_count": 43,
     "metadata": {},
     "output_type": "execute_result"
    }
   ],
   "source": [
    "playlists = copy.deepcopy(test)\n",
    "tot = len(playlists)\n",
    "tot"
   ]
  },
  {
   "cell_type": "code",
   "execution_count": 44,
   "metadata": {},
   "outputs": [
    {
     "name": "stdout",
     "output_type": "stream",
     "text": [
      "Total: 11456, Song only: 3436, Song & Tags: 5728, Tags only: 1719, Title only: 573\n"
     ]
    }
   ],
   "source": [
    "song_only = playlists[:int(tot * 0.3)] # 0.3\n",
    "song_and_tags = playlists[int(tot * 0.3):int(tot * 0.8)] # 0.5\n",
    "tags_only = playlists[int(tot * 0.8):int(tot * 0.95)] # 0.15\n",
    "title_only = playlists[int(tot * 0.95):] # 0.05\n",
    "\n",
    "print(f\"Total: {len(playlists)}, \"\n",
    "        f\"Song only: {len(song_only)}, \"\n",
    "        f\"Song & Tags: {len(song_and_tags)}, \"\n",
    "        f\"Tags only: {len(tags_only)}, \"\n",
    "        f\"Title only: {len(title_only)}\")"
   ]
  },
  {
   "cell_type": "code",
   "execution_count": null,
   "metadata": {},
   "outputs": [],
   "source": [
    "song_only = playlists[:int(tot * 0.3)] # 0.3\n",
    "song_and_tags = playlists[:int(tot)] # 0.5\n",
    "tags_only = playlists[int(tot * 0.8):int(tot * 0.95)] # 0.15\n",
    "title_only = playlists[int(tot * 0.95):] # 0.05\n",
    "\n",
    "print(f\"Total: {len(playlists)}, \"\n",
    "        f\"Song & Tags: {len(song_and_tags)}\")"
   ]
  },
  {
   "cell_type": "code",
   "execution_count": 45,
   "metadata": {},
   "outputs": [],
   "source": [
    "def mask(playlists, mask_cols, del_cols):\n",
    "    q_pl = copy.deepcopy(playlists)\n",
    "    a_pl = copy.deepcopy(playlists)\n",
    "\n",
    "    for i in range(len(playlists)):\n",
    "        for del_col in del_cols:\n",
    "            q_pl[i][del_col] = []\n",
    "            if del_col == 'songs':\n",
    "                a_pl[i][del_col] = a_pl[i][del_col][:100]\n",
    "            elif del_col == 'tags':\n",
    "                a_pl[i][del_col] = a_pl[i][del_col][:10]\n",
    "\n",
    "        for col in mask_cols:\n",
    "            mask_len = len(playlists[i][col])\n",
    "            mask = np.full(mask_len, False) # mask_len 만큼 False로 채워진 행렬 생성\n",
    "            mask[:mask_len//2] = True # mask_len의 절반을 True로 바꿈\n",
    "            np.random.shuffle(mask) \n",
    "\n",
    "            q_pl[i][col] = list(np.array(q_pl[i][col])[mask])\n",
    "            a_pl[i][col] = list(np.array(a_pl[i][col])[np.invert(mask)])\n",
    "            \n",
    "    return q_pl, a_pl"
   ]
  },
  {
   "cell_type": "code",
   "execution_count": null,
   "metadata": {},
   "outputs": [],
   "source": [
    "song_q, song_a = mask(song_only, ['songs'], ['tags'])\n",
    "songtag_q, songtag_a = mask(song_and_tags, ['songs', 'tags'], [])\n",
    "tag_q, tag_a = mask(tags_only, ['tags'], ['songs'])\n",
    "title_q, title_a = mask(title_only, [], ['songs', 'tags'])\n",
    "\n",
    "q = song_q + songtag_q + tag_q + title_q\n",
    "a = song_a + songtag_a + tag_a + title_a\n",
    "\n",
    "shuffle_indices = np.arange(len(q))\n",
    "np.random.shuffle(shuffle_indices)\n",
    "\n",
    "q = list(np.array(q)[shuffle_indices])\n",
    "a = list(np.array(a)[shuffle_indices])"
   ]
  },
  {
   "cell_type": "code",
   "execution_count": 46,
   "metadata": {},
   "outputs": [],
   "source": [
    "song_q, song_a = mask(song_only, ['songs'], ['tags'])\n",
    "songtag_q, songtag_a = mask(song_and_tags, ['songs', 'tags'], [])\n",
    "tag_q, tag_a = mask(tags_only, ['tags'], ['songs'])\n",
    "title_q, title_a = mask(title_only, [], ['songs', 'tags'])\n",
    "\n",
    "q = song_q + songtag_q + tag_q + title_q\n",
    "a = song_a + songtag_a + tag_a + title_a\n",
    "\n",
    "shuffle_indices = np.arange(len(q))\n",
    "np.random.shuffle(shuffle_indices)\n",
    "\n",
    "q = list(np.array(q)[shuffle_indices])\n",
    "a = list(np.array(a)[shuffle_indices])"
   ]
  },
  {
   "cell_type": "code",
   "execution_count": 47,
   "metadata": {},
   "outputs": [],
   "source": [
    "write_json(q, \"../0_data/q_test.json\")\n",
    "write_json(a, \"../0_data/a_test.json\")"
   ]
  }
 ],
 "metadata": {
  "kernelspec": {
   "display_name": "base",
   "language": "python",
   "name": "python3"
  },
  "language_info": {
   "codemirror_mode": {
    "name": "ipython",
    "version": 3
   },
   "file_extension": ".py",
   "mimetype": "text/x-python",
   "name": "python",
   "nbconvert_exporter": "python",
   "pygments_lexer": "ipython3",
   "version": "3.11.5"
  },
  "orig_nbformat": 4
 },
 "nbformat": 4,
 "nbformat_minor": 2
}
