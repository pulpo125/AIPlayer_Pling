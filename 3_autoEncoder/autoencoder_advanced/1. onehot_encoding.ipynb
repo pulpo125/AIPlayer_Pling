{
 "cells": [
  {
   "cell_type": "code",
   "execution_count": 1,
   "metadata": {},
   "outputs": [],
   "source": [
    "import pandas as pd\n",
    "import numpy as np\n",
    "import pickle\n",
    "import io\n",
    "import os\n",
    "import json\n",
    "import distutils.dir_util\n",
    "from collections import Counter\n",
    "from tqdm import tqdm"
   ]
  },
  {
   "cell_type": "code",
   "execution_count": 2,
   "metadata": {},
   "outputs": [
    {
     "data": {
      "text/html": [
       "<div>\n",
       "<style scoped>\n",
       "    .dataframe tbody tr th:only-of-type {\n",
       "        vertical-align: middle;\n",
       "    }\n",
       "\n",
       "    .dataframe tbody tr th {\n",
       "        vertical-align: top;\n",
       "    }\n",
       "\n",
       "    .dataframe thead th {\n",
       "        text-align: right;\n",
       "    }\n",
       "</style>\n",
       "<table border=\"1\" class=\"dataframe\">\n",
       "  <thead>\n",
       "    <tr style=\"text-align: right;\">\n",
       "      <th></th>\n",
       "      <th>tags</th>\n",
       "      <th>id</th>\n",
       "      <th>plylst_title</th>\n",
       "      <th>songs</th>\n",
       "      <th>like_cnt</th>\n",
       "      <th>updt_date</th>\n",
       "    </tr>\n",
       "  </thead>\n",
       "  <tbody>\n",
       "    <tr>\n",
       "      <th>0</th>\n",
       "      <td>[팝]</td>\n",
       "      <td>64292</td>\n",
       "      <td>첫 곡부터  중독</td>\n",
       "      <td>[341760, 406529, 101063, 181321, 367817, 96395...</td>\n",
       "      <td>10</td>\n",
       "      <td>2016-06-12 17:43:48.000</td>\n",
       "    </tr>\n",
       "    <tr>\n",
       "      <th>1</th>\n",
       "      <td>[위로]</td>\n",
       "      <td>32376</td>\n",
       "      <td>당신을 위로 해줄 뮤직 테라피 위로Song</td>\n",
       "      <td>[598532, 285708, 681614, 549392, 532114, 34280...</td>\n",
       "      <td>22</td>\n",
       "      <td>2016-02-24 15:49:15.000</td>\n",
       "    </tr>\n",
       "    <tr>\n",
       "      <th>2</th>\n",
       "      <td>[추억, 밤, 새벽, 회상]</td>\n",
       "      <td>54886</td>\n",
       "      <td>생각나는사람이있다면 들어보세요</td>\n",
       "      <td>[271235, 124293, 385543, 290571, 157965, 44084...</td>\n",
       "      <td>52</td>\n",
       "      <td>2016-07-10 00:13:36.000</td>\n",
       "    </tr>\n",
       "  </tbody>\n",
       "</table>\n",
       "</div>"
      ],
      "text/plain": [
       "              tags     id             plylst_title  \\\n",
       "0              [팝]  64292                첫 곡부터  중독   \n",
       "1             [위로]  32376  당신을 위로 해줄 뮤직 테라피 위로Song   \n",
       "2  [추억, 밤, 새벽, 회상]  54886         생각나는사람이있다면 들어보세요   \n",
       "\n",
       "                                               songs  like_cnt  \\\n",
       "0  [341760, 406529, 101063, 181321, 367817, 96395...        10   \n",
       "1  [598532, 285708, 681614, 549392, 532114, 34280...        22   \n",
       "2  [271235, 124293, 385543, 290571, 157965, 44084...        52   \n",
       "\n",
       "                 updt_date  \n",
       "0  2016-06-12 17:43:48.000  \n",
       "1  2016-02-24 15:49:15.000  \n",
       "2  2016-07-10 00:13:36.000  "
      ]
     },
     "execution_count": 2,
     "metadata": {},
     "output_type": "execute_result"
    }
   ],
   "source": [
    "# train data 준비\n",
    "f_train = pd.read_json('data/train_cnt3.json' ,typ = 'frame', encoding='utf-8')\n",
    "df_train = pd.DataFrame(f_train)\n",
    "df_train.head(3)"
   ]
  },
  {
   "cell_type": "code",
   "execution_count": 3,
   "metadata": {},
   "outputs": [
    {
     "name": "stdout",
     "output_type": "stream",
     "text": [
      "<class 'pandas.core.frame.DataFrame'>\n",
      "RangeIndex: 37406 entries, 0 to 37405\n",
      "Data columns (total 6 columns):\n",
      " #   Column        Non-Null Count  Dtype \n",
      "---  ------        --------------  ----- \n",
      " 0   tags          37406 non-null  object\n",
      " 1   id            37406 non-null  int64 \n",
      " 2   plylst_title  37406 non-null  object\n",
      " 3   songs         37406 non-null  object\n",
      " 4   like_cnt      37406 non-null  int64 \n",
      " 5   updt_date     37406 non-null  object\n",
      "dtypes: int64(2), object(4)\n",
      "memory usage: 1.7+ MB\n"
     ]
    }
   ],
   "source": [
    "df_train.info()"
   ]
  },
  {
   "cell_type": "code",
   "execution_count": 4,
   "metadata": {},
   "outputs": [],
   "source": [
    "# 플레이리스트 내 song id 리스트\n",
    "train_song = df_train['songs']\n",
    "# 플레이리스트 내 tag 리스트\n",
    "train_tag = df_train['tags']\n",
    "# 플레이리스트 내 song id 리스트 전체 나열\n",
    "song_list = [song for plist in train_song for song in plist]\n",
    "# 플레이리스트 내 tag 리스트 전체 나열\n",
    "tag_list = [tag for plist in train_tag for tag in plist]"
   ]
  },
  {
   "cell_type": "code",
   "execution_count": 5,
   "metadata": {},
   "outputs": [],
   "source": [
    "# 전체 나열 리스트 중 각 song의 개수\n",
    "count_song = Counter(song_list)\n",
    "# 전체 나열 리스트 중 각 tag의 개수\n",
    "count_tag = Counter(tag_list)"
   ]
  },
  {
   "cell_type": "code",
   "execution_count": 6,
   "metadata": {},
   "outputs": [
    {
     "data": {
      "text/plain": [
       "88146"
      ]
     },
     "execution_count": 6,
     "metadata": {},
     "output_type": "execute_result"
    }
   ],
   "source": [
    "# 전체 플레이리스트 내 song을 dictionary에 추가\n",
    "mfl={}  # meaningful\n",
    "for key, value in count_song.items():\n",
    "    mfl[key]=value\n",
    "song_len = len(mfl)"
   ]
  },
  {
   "cell_type": "code",
   "execution_count": 7,
   "metadata": {},
   "outputs": [
    {
     "data": {
      "text/plain": [
       "3551"
      ]
     },
     "execution_count": 7,
     "metadata": {},
     "output_type": "execute_result"
    }
   ],
   "source": [
    "# 전체 플레이리스트 내 10회 넘게 담긴 tag을 dictionary에 추가\n",
    "for key, value in count_tag.items():\n",
    "     mfl[key]=value\n",
    "tag_len=len(mfl)-song_len\n",
    "tag_len"
   ]
  },
  {
   "cell_type": "code",
   "execution_count": 8,
   "metadata": {},
   "outputs": [
    {
     "data": {
      "text/plain": [
       "91697"
      ]
     },
     "execution_count": 8,
     "metadata": {},
     "output_type": "execute_result"
    }
   ],
   "source": [
    "mfl_col = list(mfl.keys())\n",
    "len(mfl_col) # 유의미한 song과 tag의 총 개수 (song_len+tag_len)"
   ]
  },
  {
   "cell_type": "code",
   "execution_count": 33,
   "metadata": {},
   "outputs": [],
   "source": [
    "with open('pickle/mfl_col.pkl', 'wb') as f :\n",
    "    pickle.dump(mfl_col, f)"
   ]
  },
  {
   "cell_type": "code",
   "execution_count": 9,
   "metadata": {},
   "outputs": [],
   "source": [
    "# 각 플레이리스트에 해당하는 곡, 태그 좌표에 1 부여\n",
    "\n",
    "def create_onehot(df,column_name):\n",
    "    zero_matrix=np.zeros((len(df),len(column_name)))\n",
    "    zero_df=pd.DataFrame(zero_matrix,columns=column_name,index=df['id'])\n",
    "    for i in tqdm(range(len(df))):\n",
    "        for j in df.iloc[i,0]+df.iloc[i,3] :\n",
    "            if j in column_name:\n",
    "                zero_df.iloc[i,column_name.index(j)]=1\n",
    "    return zero_df"
   ]
  },
  {
   "cell_type": "code",
   "execution_count": null,
   "metadata": {},
   "outputs": [],
   "source": [
    "# create_onehot 함수 활용 train data >> onehot encoding\n",
    "train_onehot = create_onehot(df_train, mfl_col)\n",
    "train_onehot.shape"
   ]
  },
  {
   "cell_type": "code",
   "execution_count": 11,
   "metadata": {},
   "outputs": [],
   "source": [
    "train_onehot.to_pickle('pickle/train_onehot.pkl')"
   ]
  },
  {
   "cell_type": "code",
   "execution_count": 35,
   "metadata": {},
   "outputs": [
    {
     "data": {
      "text/html": [
       "<div>\n",
       "<style scoped>\n",
       "    .dataframe tbody tr th:only-of-type {\n",
       "        vertical-align: middle;\n",
       "    }\n",
       "\n",
       "    .dataframe tbody tr th {\n",
       "        vertical-align: top;\n",
       "    }\n",
       "\n",
       "    .dataframe thead th {\n",
       "        text-align: right;\n",
       "    }\n",
       "</style>\n",
       "<table border=\"1\" class=\"dataframe\">\n",
       "  <thead>\n",
       "    <tr style=\"text-align: right;\">\n",
       "      <th></th>\n",
       "      <th>tags</th>\n",
       "      <th>id</th>\n",
       "      <th>plylst_title</th>\n",
       "      <th>songs</th>\n",
       "      <th>like_cnt</th>\n",
       "      <th>updt_date</th>\n",
       "    </tr>\n",
       "  </thead>\n",
       "  <tbody>\n",
       "    <tr>\n",
       "      <th>0</th>\n",
       "      <td>[알앤비, 몽환]</td>\n",
       "      <td>5931</td>\n",
       "      <td>당신의 감성을 건들일 CHILL하면서 감각적인 비트들 PBR&amp;B</td>\n",
       "      <td>[126214, 142857, 574222, 216846, 310802, 11138...</td>\n",
       "      <td>70</td>\n",
       "      <td>2016-12-06 14:12:37.000</td>\n",
       "    </tr>\n",
       "    <tr>\n",
       "      <th>1</th>\n",
       "      <td>[]</td>\n",
       "      <td>142923</td>\n",
       "      <td>슬플 때 들으면 더 슬픈 뉴에이지</td>\n",
       "      <td>[]</td>\n",
       "      <td>9</td>\n",
       "      <td>2013-06-01 21:14:06.000</td>\n",
       "    </tr>\n",
       "    <tr>\n",
       "      <th>2</th>\n",
       "      <td>[연주음악, 주말]</td>\n",
       "      <td>23236</td>\n",
       "      <td>주말의 여유를 산뜻한 연주음악과 함께</td>\n",
       "      <td>[330397, 533663, 497256, 436847, 136567]</td>\n",
       "      <td>13</td>\n",
       "      <td>2019-05-08 13:22:45.000</td>\n",
       "    </tr>\n",
       "  </tbody>\n",
       "</table>\n",
       "</div>"
      ],
      "text/plain": [
       "         tags      id                         plylst_title  \\\n",
       "0   [알앤비, 몽환]    5931  당신의 감성을 건들일 CHILL하면서 감각적인 비트들 PBR&B   \n",
       "1          []  142923                   슬플 때 들으면 더 슬픈 뉴에이지   \n",
       "2  [연주음악, 주말]   23236                 주말의 여유를 산뜻한 연주음악과 함께   \n",
       "\n",
       "                                               songs  like_cnt  \\\n",
       "0  [126214, 142857, 574222, 216846, 310802, 11138...        70   \n",
       "1                                                 []         9   \n",
       "2           [330397, 533663, 497256, 436847, 136567]        13   \n",
       "\n",
       "                 updt_date  \n",
       "0  2016-12-06 14:12:37.000  \n",
       "1  2013-06-01 21:14:06.000  \n",
       "2  2019-05-08 13:22:45.000  "
      ]
     },
     "execution_count": 35,
     "metadata": {},
     "output_type": "execute_result"
    }
   ],
   "source": [
    "# test data 준비\n",
    "f_test_q = pd.read_json('data/test_cnt3_q.json' ,typ = 'frame', encoding='utf-8')\n",
    "df_test_q = pd.DataFrame(f_test_q)\n",
    "df_test_q.head(3)"
   ]
  },
  {
   "cell_type": "code",
   "execution_count": 36,
   "metadata": {},
   "outputs": [
    {
     "name": "stdout",
     "output_type": "stream",
     "text": [
      "<class 'pandas.core.frame.DataFrame'>\n",
      "RangeIndex: 9352 entries, 0 to 9351\n",
      "Data columns (total 6 columns):\n",
      " #   Column        Non-Null Count  Dtype \n",
      "---  ------        --------------  ----- \n",
      " 0   tags          9352 non-null   object\n",
      " 1   id            9352 non-null   int64 \n",
      " 2   plylst_title  9352 non-null   object\n",
      " 3   songs         9352 non-null   object\n",
      " 4   like_cnt      9352 non-null   int64 \n",
      " 5   updt_date     9352 non-null   object\n",
      "dtypes: int64(2), object(4)\n",
      "memory usage: 438.5+ KB\n"
     ]
    }
   ],
   "source": [
    "df_test_q.info()"
   ]
  },
  {
   "cell_type": "code",
   "execution_count": 37,
   "metadata": {},
   "outputs": [
    {
     "name": "stderr",
     "output_type": "stream",
     "text": [
      "100%|██████████| 9352/9352 [02:53<00:00, 53.95it/s]\n"
     ]
    },
    {
     "data": {
      "text/plain": [
       "(9352, 91697)"
      ]
     },
     "execution_count": 37,
     "metadata": {},
     "output_type": "execute_result"
    }
   ],
   "source": [
    "# create_onehot 함수 활용 test data >> onehot encoding\n",
    "test_q_onehot = create_onehot(df_test_q, mfl_col)\n",
    "test_q_onehot.shape"
   ]
  },
  {
   "cell_type": "code",
   "execution_count": 39,
   "metadata": {},
   "outputs": [],
   "source": [
    "test_q_onehot.to_pickle('pickle/test_q_onehot.pkl')"
   ]
  },
  {
   "cell_type": "markdown",
   "metadata": {},
   "source": [
    "--------------"
   ]
  },
  {
   "cell_type": "markdown",
   "metadata": {},
   "source": [
    "## Arena data 원핫인코딩 (평가용)"
   ]
  },
  {
   "cell_type": "code",
   "execution_count": 10,
   "metadata": {},
   "outputs": [
    {
     "data": {
      "text/html": [
       "<div>\n",
       "<style scoped>\n",
       "    .dataframe tbody tr th:only-of-type {\n",
       "        vertical-align: middle;\n",
       "    }\n",
       "\n",
       "    .dataframe tbody tr th {\n",
       "        vertical-align: top;\n",
       "    }\n",
       "\n",
       "    .dataframe thead th {\n",
       "        text-align: right;\n",
       "    }\n",
       "</style>\n",
       "<table border=\"1\" class=\"dataframe\">\n",
       "  <thead>\n",
       "    <tr style=\"text-align: right;\">\n",
       "      <th></th>\n",
       "      <th>tags</th>\n",
       "      <th>id</th>\n",
       "      <th>plylst_title</th>\n",
       "      <th>songs</th>\n",
       "      <th>like_cnt</th>\n",
       "      <th>updt_date</th>\n",
       "    </tr>\n",
       "  </thead>\n",
       "  <tbody>\n",
       "    <tr>\n",
       "      <th>0</th>\n",
       "      <td>[힐링]</td>\n",
       "      <td>112148</td>\n",
       "      <td>평온한 하루를 만들며 듣는 편안한 음악</td>\n",
       "      <td>[201175, 72649, 136416, 128673, 69515, 330081,...</td>\n",
       "      <td>6</td>\n",
       "      <td>2015-10-21 09:35:56.000</td>\n",
       "    </tr>\n",
       "    <tr>\n",
       "      <th>1</th>\n",
       "      <td>[]</td>\n",
       "      <td>121792</td>\n",
       "      <td>상쾌한 주말을 위한 밝은느낌의 뉴에이지</td>\n",
       "      <td>[389367, 632305, 201036, 617935, 688453, 66422...</td>\n",
       "      <td>7</td>\n",
       "      <td>2015-09-13 12:24:53.000</td>\n",
       "    </tr>\n",
       "    <tr>\n",
       "      <th>2</th>\n",
       "      <td>[]</td>\n",
       "      <td>30753</td>\n",
       "      <td>신나는 휴가철 !!!!</td>\n",
       "      <td>[451948, 227121, 324428, 75469, 519168, 472311...</td>\n",
       "      <td>1</td>\n",
       "      <td>2017-08-03 09:31:57.000</td>\n",
       "    </tr>\n",
       "  </tbody>\n",
       "</table>\n",
       "</div>"
      ],
      "text/plain": [
       "   tags      id           plylst_title  \\\n",
       "0  [힐링]  112148  평온한 하루를 만들며 듣는 편안한 음악   \n",
       "1    []  121792  상쾌한 주말을 위한 밝은느낌의 뉴에이지   \n",
       "2    []   30753           신나는 휴가철 !!!!   \n",
       "\n",
       "                                               songs  like_cnt  \\\n",
       "0  [201175, 72649, 136416, 128673, 69515, 330081,...         6   \n",
       "1  [389367, 632305, 201036, 617935, 688453, 66422...         7   \n",
       "2  [451948, 227121, 324428, 75469, 519168, 472311...         1   \n",
       "\n",
       "                 updt_date  \n",
       "0  2015-10-21 09:35:56.000  \n",
       "1  2015-09-13 12:24:53.000  \n",
       "2  2017-08-03 09:31:57.000  "
      ]
     },
     "execution_count": 10,
     "metadata": {},
     "output_type": "execute_result"
    }
   ],
   "source": [
    "# arena data 준비\n",
    "f_arena_q = pd.read_json('../kakao_arena_melon/arena_data/questions/val.json' ,typ = 'frame', encoding='utf-8')\n",
    "df_arena_q = pd.DataFrame(f_arena_q)\n",
    "df_arena_q.head(3)"
   ]
  },
  {
   "cell_type": "code",
   "execution_count": 11,
   "metadata": {},
   "outputs": [
    {
     "name": "stdout",
     "output_type": "stream",
     "text": [
      "<class 'pandas.core.frame.DataFrame'>\n",
      "RangeIndex: 23015 entries, 0 to 23014\n",
      "Data columns (total 6 columns):\n",
      " #   Column        Non-Null Count  Dtype \n",
      "---  ------        --------------  ----- \n",
      " 0   tags          23015 non-null  object\n",
      " 1   id            23015 non-null  int64 \n",
      " 2   plylst_title  23015 non-null  object\n",
      " 3   songs         23015 non-null  object\n",
      " 4   like_cnt      23015 non-null  int64 \n",
      " 5   updt_date     23015 non-null  object\n",
      "dtypes: int64(2), object(4)\n",
      "memory usage: 1.1+ MB\n"
     ]
    }
   ],
   "source": [
    "df_arena_q.info()"
   ]
  },
  {
   "cell_type": "code",
   "execution_count": 12,
   "metadata": {},
   "outputs": [
    {
     "name": "stderr",
     "output_type": "stream",
     "text": [
      "100%|██████████| 23015/23015 [08:02<00:00, 47.70it/s]\n"
     ]
    },
    {
     "data": {
      "text/plain": [
       "(23015, 91697)"
      ]
     },
     "execution_count": 12,
     "metadata": {},
     "output_type": "execute_result"
    }
   ],
   "source": [
    "# create_onehot 함수 활용 test data >> onehot encoding\n",
    "arena_q_onehot = create_onehot(df_arena_q, mfl_col)\n",
    "arena_q_onehot.shape"
   ]
  },
  {
   "cell_type": "code",
   "execution_count": 13,
   "metadata": {},
   "outputs": [],
   "source": [
    "arena_q_onehot.to_pickle('pickle/arena_q_onehot.pkl')"
   ]
  }
 ],
 "metadata": {
  "kernelspec": {
   "display_name": "final_project",
   "language": "python",
   "name": "python3"
  },
  "language_info": {
   "codemirror_mode": {
    "name": "ipython",
    "version": 3
   },
   "file_extension": ".py",
   "mimetype": "text/x-python",
   "name": "python",
   "nbconvert_exporter": "python",
   "pygments_lexer": "ipython3",
   "version": "3.11.5"
  },
  "orig_nbformat": 4
 },
 "nbformat": 4,
 "nbformat_minor": 2
}
