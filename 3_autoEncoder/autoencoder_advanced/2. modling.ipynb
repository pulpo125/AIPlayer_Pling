{
 "cells": [
  {
   "cell_type": "code",
   "execution_count": 1,
   "metadata": {},
   "outputs": [],
   "source": [
    "import sys\n",
    "sys.path.append('C:/ROOT_final/final_project')\n",
    "from pling_evaluate import write_json, generate_result, ArenaEvaluator"
   ]
  },
  {
   "cell_type": "code",
   "execution_count": 2,
   "metadata": {},
   "outputs": [],
   "source": [
    "import pickle\n",
    "import pandas as pd\n",
    "import os\n",
    "import io\n",
    "import json\n",
    "import distutils.dir_util\n",
    "import numpy as np\n",
    "from pling_evaluate import write_json, generate_result, ArenaEvaluator"
   ]
  },
  {
   "cell_type": "markdown",
   "metadata": {},
   "source": [
    "# AutoEncoder Basic"
   ]
  },
  {
   "cell_type": "markdown",
   "metadata": {},
   "source": [
    "> Data Load"
   ]
  },
  {
   "cell_type": "code",
   "execution_count": 4,
   "metadata": {},
   "outputs": [
    {
     "data": {
      "text/plain": [
       "(37406, 91697)"
      ]
     },
     "execution_count": 4,
     "metadata": {},
     "output_type": "execute_result"
    }
   ],
   "source": [
    "with open('pickle/train_onehot.pkl', 'rb') as f:\n",
    "    train_onehot = pickle.load(f)\n",
    "\n",
    "train_onehot.shape"
   ]
  },
  {
   "cell_type": "code",
   "execution_count": 3,
   "metadata": {},
   "outputs": [
    {
     "data": {
      "text/plain": [
       "(9352, 91697)"
      ]
     },
     "execution_count": 3,
     "metadata": {},
     "output_type": "execute_result"
    }
   ],
   "source": [
    "with open('pickle/test_q_onehot.pkl', 'rb') as f:\n",
    "    test_q_onehot = pickle.load(f)\n",
    "\n",
    "test_q_onehot.shape"
   ]
  },
  {
   "cell_type": "code",
   "execution_count": 4,
   "metadata": {},
   "outputs": [
    {
     "data": {
      "text/plain": [
       "91697"
      ]
     },
     "execution_count": 4,
     "metadata": {},
     "output_type": "execute_result"
    }
   ],
   "source": [
    "with open('pickle/mfl_col.pkl', 'rb') as f:\n",
    "    mfl_col = pickle.load(f)\n",
    "\n",
    "len(mfl_col)"
   ]
  },
  {
   "cell_type": "code",
   "execution_count": 5,
   "metadata": {},
   "outputs": [],
   "source": [
    "song_len = 88146\n",
    "# song = 88146, tag = 3551"
   ]
  },
  {
   "cell_type": "code",
   "execution_count": 6,
   "metadata": {},
   "outputs": [
    {
     "name": "stdout",
     "output_type": "stream",
     "text": [
      "<class 'pandas.core.frame.DataFrame'>\n",
      "RangeIndex: 9352 entries, 0 to 9351\n",
      "Data columns (total 6 columns):\n",
      " #   Column        Non-Null Count  Dtype \n",
      "---  ------        --------------  ----- \n",
      " 0   tags          9352 non-null   object\n",
      " 1   id            9352 non-null   int64 \n",
      " 2   plylst_title  9352 non-null   object\n",
      " 3   songs         9352 non-null   object\n",
      " 4   like_cnt      9352 non-null   int64 \n",
      " 5   updt_date     9352 non-null   object\n",
      "dtypes: int64(2), object(4)\n",
      "memory usage: 438.5+ KB\n"
     ]
    }
   ],
   "source": [
    "test_q = pd.read_json('data/test_cnt3_q.json')\n",
    "test_q.info()"
   ]
  },
  {
   "cell_type": "markdown",
   "metadata": {},
   "source": [
    "> Modeling"
   ]
  },
  {
   "cell_type": "code",
   "execution_count": 7,
   "metadata": {},
   "outputs": [],
   "source": [
    "import tensorflow as tf\n",
    "from tensorflow.keras.models import Model\n",
    "from tensorflow.keras.layers import Dense, Input, Dropout, BatchNormalization, LeakyReLU\n",
    "from tensorflow.keras.optimizers import Adam"
   ]
  },
  {
   "cell_type": "markdown",
   "metadata": {},
   "source": [
    "> model_7\n",
    "- input_dim = 91697 #len(mfl_col)\n",
    "- hidden_dim = 450\n",
    "- dropout = 0.2\n",
    "- BatchNormalization(input_shape=(hidden_dim,))\n",
    "- LeakyReLU()\n",
    "- epoch = 20\n",
    "- batch_size = 256\n",
    "- loss_function = binary_crossentropy\n",
    "- learning_rate = 0.0005\n",
    "- optimizer = adam(learning_rate=learning_rate)"
   ]
  },
  {
   "cell_type": "markdown",
   "metadata": {},
   "source": [
    "---"
   ]
  },
  {
   "cell_type": "code",
   "execution_count": 44,
   "metadata": {},
   "outputs": [
    {
     "name": "stdout",
     "output_type": "stream",
     "text": [
      "Model: \"autoencoder\"\n",
      "_________________________________________________________________\n",
      " Layer (type)                Output Shape              Param #   \n",
      "=================================================================\n",
      " input_1 (InputLayer)        [(None, 91697)]           0         \n",
      "                                                                 \n",
      " dropout (Dropout)           (None, 91697)             0         \n",
      "                                                                 \n",
      " dense (Dense)               (None, 450)               41264100  \n",
      "                                                                 \n",
      " batch_normalization (Batch  (None, 450)               1800      \n",
      " Normalization)                                                  \n",
      "                                                                 \n",
      " leaky_re_lu (LeakyReLU)     (None, 450)               0         \n",
      "                                                                 \n",
      " dense_1 (Dense)             (None, 91697)             41355347  \n",
      "                                                                 \n",
      "=================================================================\n",
      "Total params: 82621247 (315.18 MB)\n",
      "Trainable params: 82620347 (315.17 MB)\n",
      "Non-trainable params: 900 (3.52 KB)\n",
      "_________________________________________________________________\n"
     ]
    }
   ],
   "source": [
    "input_dim = 91697 #len(mfl_col)\n",
    "hidden_dim = 450\n",
    "dropout_rate = 0.2\n",
    "\n",
    "inputs = Input(shape=(input_dim,))\n",
    "encoded = Dropout(0.2)(inputs)\n",
    "encoded = Dense(hidden_dim)(encoded)\n",
    "encoded = BatchNormalization(input_shape=(hidden_dim,))(encoded)\n",
    "encoded = LeakyReLU()(encoded)\n",
    "\n",
    "decoded = Dense(input_dim,activation='sigmoid')(encoded)\n",
    "model = Model(inputs, decoded, name='autoencoder')\n",
    "model.summary()"
   ]
  },
  {
   "cell_type": "code",
   "execution_count": 8,
   "metadata": {},
   "outputs": [],
   "source": [
    "model = tf.keras.models.load_model('results/model_ad_e30.h5')"
   ]
  },
  {
   "cell_type": "code",
   "execution_count": 7,
   "metadata": {},
   "outputs": [],
   "source": [
    "learning_rate = 0.0005\n",
    "optimizer = Adam(learning_rate=learning_rate)\n",
    "model.compile(optimizer=optimizer,loss='binary_crossentropy')"
   ]
  },
  {
   "cell_type": "code",
   "execution_count": 8,
   "metadata": {},
   "outputs": [
    {
     "name": "stdout",
     "output_type": "stream",
     "text": [
      "Epoch 1/5\n",
      "117/117 [==============================] - 379s 3s/step - loss: 0.0019 - val_loss: 0.0022\n",
      "Epoch 2/5\n",
      "117/117 [==============================] - 345s 3s/step - loss: 0.0019 - val_loss: 0.0022\n",
      "Epoch 3/5\n",
      "117/117 [==============================] - 345s 3s/step - loss: 0.0019 - val_loss: 0.0022\n",
      "Epoch 4/5\n",
      "117/117 [==============================] - 348s 3s/step - loss: 0.0018 - val_loss: 0.0022\n",
      "Epoch 5/5\n",
      "117/117 [==============================] - 339s 3s/step - loss: 0.0018 - val_loss: 0.0022\n"
     ]
    },
    {
     "data": {
      "text/plain": [
       "<keras.src.callbacks.History at 0x27fe864cd50>"
      ]
     },
     "execution_count": 8,
     "metadata": {},
     "output_type": "execute_result"
    }
   ],
   "source": [
    "model.fit(train_onehot, train_onehot, epochs=5, batch_size=256, validation_split=0.2, verbose=1)"
   ]
  },
  {
   "cell_type": "code",
   "execution_count": 9,
   "metadata": {},
   "outputs": [
    {
     "name": "stderr",
     "output_type": "stream",
     "text": [
      "C:\\Users\\SV\\AppData\\Roaming\\Python\\Python311\\site-packages\\keras\\src\\engine\\training.py:3000: UserWarning: You are saving your model as an HDF5 file via `model.save()`. This file format is considered legacy. We recommend using instead the native Keras format, e.g. `model.save('my_model.keras')`.\n",
      "  saving_api.save_model(\n"
     ]
    }
   ],
   "source": [
    "model.save('results/model_ad_e30.h5')"
   ]
  },
  {
   "cell_type": "code",
   "execution_count": 9,
   "metadata": {},
   "outputs": [
    {
     "name": "stdout",
     "output_type": "stream",
     "text": [
      "293/293 [==============================] - 21s 70ms/step\n"
     ]
    }
   ],
   "source": [
    "predict_plist=model.predict(test_q_onehot)"
   ]
  },
  {
   "cell_type": "code",
   "execution_count": 10,
   "metadata": {},
   "outputs": [],
   "source": [
    "result = generate_result(test_q, mfl_col, song_len, predict_plist)"
   ]
  },
  {
   "cell_type": "code",
   "execution_count": 11,
   "metadata": {},
   "outputs": [],
   "source": [
    "write_json(result,'results/results_ad_e30.json')"
   ]
  },
  {
   "cell_type": "markdown",
   "metadata": {},
   "source": [
    "---"
   ]
  },
  {
   "cell_type": "markdown",
   "metadata": {},
   "source": [
    "# 평가"
   ]
  },
  {
   "cell_type": "code",
   "execution_count": 12,
   "metadata": {},
   "outputs": [
    {
     "name": "stdout",
     "output_type": "stream",
     "text": [
      "Music nDCG: 0.137726\n",
      "Tag nDCG: 0.419714\n",
      "Score: 0.180024\n"
     ]
    }
   ],
   "source": [
    "gt_fname = 'data/test_cnt3_a.json'\n",
    "rec_fname = 'results/results_ad_e30.json'\n",
    "arena_evaluator = ArenaEvaluator()\n",
    "arena_evaluator.evaluate(gt_fname, rec_fname)"
   ]
  }
 ],
 "metadata": {
  "kernelspec": {
   "display_name": "base",
   "language": "python",
   "name": "python3"
  },
  "language_info": {
   "codemirror_mode": {
    "name": "ipython",
    "version": 3
   },
   "file_extension": ".py",
   "mimetype": "text/x-python",
   "name": "python",
   "nbconvert_exporter": "python",
   "pygments_lexer": "ipython3",
   "version": "3.11.5"
  },
  "orig_nbformat": 4
 },
 "nbformat": 4,
 "nbformat_minor": 2
}
