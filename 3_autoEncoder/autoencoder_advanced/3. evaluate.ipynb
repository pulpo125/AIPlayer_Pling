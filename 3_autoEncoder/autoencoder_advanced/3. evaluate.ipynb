{
 "cells": [
  {
   "cell_type": "code",
   "execution_count": 1,
   "metadata": {},
   "outputs": [],
   "source": [
    "import sys\n",
    "sys.path.append('C:/ROOT_final/final_project')\n",
    "from pling_evaluate import write_json, generate_result, ArenaEvaluator"
   ]
  },
  {
   "cell_type": "code",
   "execution_count": 2,
   "metadata": {},
   "outputs": [],
   "source": [
    "import pickle\n",
    "import pandas as pd\n",
    "import os\n",
    "import io\n",
    "import json\n",
    "import distutils.dir_util\n",
    "import numpy as np\n",
    "from pling_evaluate import write_json, generate_result, ArenaEvaluator"
   ]
  },
  {
   "cell_type": "code",
   "execution_count": 3,
   "metadata": {},
   "outputs": [
    {
     "data": {
      "text/plain": [
       "(23015, 91697)"
      ]
     },
     "execution_count": 3,
     "metadata": {},
     "output_type": "execute_result"
    }
   ],
   "source": [
    "with open('pickle/arena_q_onehot.pkl', 'rb') as f:\n",
    "    arena_q_onehot = pickle.load(f)\n",
    "\n",
    "arena_q_onehot.shape"
   ]
  },
  {
   "cell_type": "code",
   "execution_count": 4,
   "metadata": {},
   "outputs": [
    {
     "data": {
      "text/plain": [
       "91697"
      ]
     },
     "execution_count": 4,
     "metadata": {},
     "output_type": "execute_result"
    }
   ],
   "source": [
    "with open('pickle/mfl_col.pkl', 'rb') as f:\n",
    "    mfl_col = pickle.load(f)\n",
    "\n",
    "len(mfl_col)"
   ]
  },
  {
   "cell_type": "code",
   "execution_count": 5,
   "metadata": {},
   "outputs": [],
   "source": [
    "song_len = 88146\n",
    "# song = 88146, tag = 3551"
   ]
  },
  {
   "cell_type": "code",
   "execution_count": 6,
   "metadata": {},
   "outputs": [
    {
     "name": "stdout",
     "output_type": "stream",
     "text": [
      "<class 'pandas.core.frame.DataFrame'>\n",
      "RangeIndex: 23015 entries, 0 to 23014\n",
      "Data columns (total 6 columns):\n",
      " #   Column        Non-Null Count  Dtype \n",
      "---  ------        --------------  ----- \n",
      " 0   tags          23015 non-null  object\n",
      " 1   id            23015 non-null  int64 \n",
      " 2   plylst_title  23015 non-null  object\n",
      " 3   songs         23015 non-null  object\n",
      " 4   like_cnt      23015 non-null  int64 \n",
      " 5   updt_date     23015 non-null  object\n",
      "dtypes: int64(2), object(4)\n",
      "memory usage: 1.1+ MB\n"
     ]
    }
   ],
   "source": [
    "arena_q = pd.read_json('../kakao_arena_melon/arena_data/questions/val.json',typ = 'frame', encoding='utf-8')\n",
    "arena_q.info()"
   ]
  },
  {
   "cell_type": "markdown",
   "metadata": {},
   "source": [
    "-------"
   ]
  },
  {
   "cell_type": "code",
   "execution_count": 7,
   "metadata": {},
   "outputs": [],
   "source": [
    "import tensorflow as tf\n",
    "model = tf.keras.models.load_model('results/model_ad_e30.h5')"
   ]
  },
  {
   "cell_type": "code",
   "execution_count": 8,
   "metadata": {},
   "outputs": [
    {
     "name": "stdout",
     "output_type": "stream",
     "text": [
      "720/720 [==============================] - 70s 97ms/step\n"
     ]
    }
   ],
   "source": [
    "predict_plist = model.predict(arena_q_onehot)"
   ]
  },
  {
   "cell_type": "code",
   "execution_count": 9,
   "metadata": {},
   "outputs": [],
   "source": [
    "result = generate_result(arena_q, mfl_col, song_len, predict_plist)"
   ]
  },
  {
   "cell_type": "code",
   "execution_count": 10,
   "metadata": {},
   "outputs": [],
   "source": [
    "write_json(result,'results/results_ad_e30_arena.json')"
   ]
  },
  {
   "cell_type": "code",
   "execution_count": 11,
   "metadata": {},
   "outputs": [
    {
     "name": "stdout",
     "output_type": "stream",
     "text": [
      "Music nDCG: 0.124358\n",
      "Tag nDCG: 0.413199\n",
      "Score: 0.167684\n"
     ]
    }
   ],
   "source": [
    "gt_fname = '../kakao_arena_melon/arena_data/answers/val.json'\n",
    "rec_fname = 'results/results_ad_e30_arena.json'\n",
    "arena_evaluator = ArenaEvaluator()\n",
    "arena_evaluator.evaluate(gt_fname, rec_fname)"
   ]
  }
 ],
 "metadata": {
  "kernelspec": {
   "display_name": "final_project",
   "language": "python",
   "name": "python3"
  },
  "language_info": {
   "codemirror_mode": {
    "name": "ipython",
    "version": 3
   },
   "file_extension": ".py",
   "mimetype": "text/x-python",
   "name": "python",
   "nbconvert_exporter": "python",
   "pygments_lexer": "ipython3",
   "version": "3.11.5"
  }
 },
 "nbformat": 4,
 "nbformat_minor": 2
}
