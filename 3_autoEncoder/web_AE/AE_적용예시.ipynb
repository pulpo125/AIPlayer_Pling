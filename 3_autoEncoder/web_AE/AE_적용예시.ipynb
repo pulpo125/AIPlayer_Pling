{
 "cells": [
  {
   "cell_type": "code",
   "execution_count": 60,
   "metadata": {},
   "outputs": [],
   "source": [
    "import os\n",
    "import io\n",
    "import json\n",
    "import distutils.dir_util\n",
    "import numpy as np\n",
    "import pandas as pd\n",
    "import pickle\n",
    "import tensorflow as tf\n",
    "from itertools import chain \n",
    "\n",
    "# json write & load 함수 정의\n",
    "def write_json(data, fname):\n",
    "    def _conv(o):\n",
    "        if isinstance(o, (np.int64, np.int32)):\n",
    "            return int(o)\n",
    "        raise TypeError\n",
    "\n",
    "    parent = os.path.dirname(fname)\n",
    "    distutils.dir_util.mkpath(parent)\n",
    "    with io.open(fname, \"w\", encoding=\"utf-8\") as f:\n",
    "        json_str = json.dumps(data, ensure_ascii=False, default=_conv)\n",
    "        f.write(json_str)\n",
    "        \n",
    "def load_json(fname):\n",
    "    with open(fname, encoding='utf-8') as f:\n",
    "        json_obj = json.load(f)\n",
    "\n",
    "    return json_obj"
   ]
  },
  {
   "cell_type": "code",
   "execution_count": 61,
   "metadata": {},
   "outputs": [],
   "source": [
    "# data load\n",
    "with open('./data/mfl_col.pkl', 'rb') as f: # 사용 feature\n",
    "    features = pickle.load(f)\n",
    "\n",
    "data = pd.read_json('./data/data.json') # 전체 플리 데이터\n",
    "\n",
    "model = './data/model_7.h5'\n",
    "\n",
    "autoencoder = tf.keras.models.load_model(model)"
   ]
  },
  {
   "cell_type": "code",
   "execution_count": 62,
   "metadata": {},
   "outputs": [],
   "source": [
    "# 1. ply_id 넣으면 해당 행을 원핫 벡터로 변경\n",
    "def ply_to_onehot(select_ply_lst, features, data):\n",
    "    # ply_id int형 변환\n",
    "    select_ply_lst = list(map(int, select_ply_lst))\n",
    "    # zero_mt 생성\n",
    "    zero_matrix = np.zeros((1,len(features)))\n",
    "    input_onehot = pd.DataFrame(zero_matrix,columns=features)\n",
    "\n",
    "    # input_ply\n",
    "    input_song = []\n",
    "    input_tag = []\n",
    "    for ply_id in select_ply_lst:\n",
    "        input_song.append(data[data['id']==ply_id]['songs'].tolist()[0])\n",
    "        input_tag.append(data[data['id']==ply_id]['tags'].tolist()[0])\n",
    "\n",
    "    input_song = list(chain.from_iterable(input_song))\n",
    "    input_tag = list(chain.from_iterable(input_tag))\n",
    "    input_ply = input_song + input_tag\n",
    "\n",
    "    # one-hot encoding\n",
    "    for ft in input_ply :\n",
    "        if ft in features:\n",
    "            input_onehot.iloc[0,features.index(ft)]=1\n",
    "\n",
    "    return input_song, input_tag, input_onehot"
   ]
  },
  {
   "cell_type": "code",
   "execution_count": 63,
   "metadata": {},
   "outputs": [],
   "source": [
    "# 추천 결과 생성\n",
    "def remove_seen(seen, l):\n",
    "    seen = set(seen)\n",
    "    return [x for x in l if not (x in seen)]\n",
    "\n",
    "def recommendation(input_song, input_tag, input_onehot, song_num, tag_num=5, song_len=22798):\n",
    "    # predict\n",
    "    predict_plist = autoencoder.predict(input_onehot)\n",
    "\n",
    "    # result\n",
    "    ori_song = features[:song_len]\n",
    "    ori_tag = features[song_len:]\n",
    "    song_predict = predict_plist[:,:song_len] # song output(추천곡)\n",
    "    tag_predict = predict_plist[:,song_len:] # tag output(추천태그)\n",
    "\n",
    "    p_song = np.array(ori_song)[song_predict[0].argsort()[::-1][:(song_num*10)]]\n",
    "    p_tag = np.array(ori_tag)[tag_predict[0].argsort()[::-1][:(tag_num*10)]]\n",
    "\n",
    "    rec_song = remove_seen(input_song, p_song)[:song_num] \n",
    "    rec_tag = remove_seen(input_tag, p_tag)[:tag_num]\n",
    "    \n",
    "    return rec_song, rec_tag"
   ]
  },
  {
   "cell_type": "markdown",
   "metadata": {},
   "source": [
    "---"
   ]
  },
  {
   "cell_type": "markdown",
   "metadata": {},
   "source": [
    "적용"
   ]
  },
  {
   "cell_type": "code",
   "execution_count": 64,
   "metadata": {},
   "outputs": [],
   "source": [
    "# 받아오는 값\n",
    "select_ply_lst = ['33931', '19081']\n",
    "song_num = 10\n",
    "# tag_num = 0"
   ]
  },
  {
   "cell_type": "code",
   "execution_count": 65,
   "metadata": {},
   "outputs": [],
   "source": [
    "input_song, input_tag, input_onehot = ply_to_onehot(select_ply_lst, features, data)"
   ]
  },
  {
   "cell_type": "code",
   "execution_count": 66,
   "metadata": {},
   "outputs": [
    {
     "name": "stdout",
     "output_type": "stream",
     "text": [
      "1/1 [==============================] - 0s 55ms/step\n"
     ]
    }
   ],
   "source": [
    "rec_song, rec_tag = recommendation(input_song, input_tag, input_onehot, song_num, tag_num=5, song_len=22798)"
   ]
  },
  {
   "cell_type": "code",
   "execution_count": 67,
   "metadata": {},
   "outputs": [
    {
     "data": {
      "text/plain": [
       "[67655, 169984, 173943, 302646, 531820, 548896, 116573, 675115, 497066, 37748]"
      ]
     },
     "execution_count": 67,
     "metadata": {},
     "output_type": "execute_result"
    }
   ],
   "source": [
    "rec_song"
   ]
  },
  {
   "cell_type": "code",
   "execution_count": 68,
   "metadata": {},
   "outputs": [
    {
     "data": {
      "text/plain": [
       "['스트레스', '노래방', '운동', '알앤비', '새벽']"
      ]
     },
     "execution_count": 68,
     "metadata": {},
     "output_type": "execute_result"
    }
   ],
   "source": [
    "rec_tag"
   ]
  },
  {
   "cell_type": "markdown",
   "metadata": {},
   "source": [
    "---"
   ]
  },
  {
   "cell_type": "code",
   "execution_count": 69,
   "metadata": {},
   "outputs": [],
   "source": [
    "def apply_sim(similarity, input_song, rec_song):\n",
    "    sim_num = round(song_num * (similarity / 100))\n",
    "    rec_song = rec_song[:-sim_num]\n",
    "    sim_song = input_song[:sim_num]\n",
    "    sim_rec_song = sim_song + rec_song\n",
    "    return sim_rec_song"
   ]
  },
  {
   "cell_type": "code",
   "execution_count": 72,
   "metadata": {},
   "outputs": [
    {
     "data": {
      "text/plain": [
       "<function __main__.apply_sim(similarity, input_song, rec_song)>"
      ]
     },
     "execution_count": 72,
     "metadata": {},
     "output_type": "execute_result"
    }
   ],
   "source": [
    "# 유사도 적용\n",
    "similarity = 10\n",
    "apply_sim(similarity, input_song, rec_song)"
   ]
  },
  {
   "cell_type": "code",
   "execution_count": null,
   "metadata": {},
   "outputs": [],
   "source": [
    "# input 곡이 많다면...?\n",
    "# 와 진짜 우짜냨ㅋㅋㅋㅋㅋ\n"
   ]
  }
 ],
 "metadata": {
  "kernelspec": {
   "display_name": "base",
   "language": "python",
   "name": "python3"
  },
  "language_info": {
   "codemirror_mode": {
    "name": "ipython",
    "version": 3
   },
   "file_extension": ".py",
   "mimetype": "text/x-python",
   "name": "python",
   "nbconvert_exporter": "python",
   "pygments_lexer": "ipython3",
   "version": "3.10.9"
  },
  "orig_nbformat": 4
 },
 "nbformat": 4,
 "nbformat_minor": 2
}
