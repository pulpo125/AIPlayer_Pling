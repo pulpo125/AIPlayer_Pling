{
 "cells": [
  {
   "cell_type": "code",
   "execution_count": 1,
   "metadata": {},
   "outputs": [],
   "source": [
    "import os\n",
    "import io\n",
    "import json\n",
    "import distutils.dir_util\n",
    "import numpy as np\n",
    "import pandas as pd\n",
    "import pickle\n",
    "import tensorflow as tf\n",
    "from itertools import chain \n"
   ]
  },
  {
   "cell_type": "code",
   "execution_count": 2,
   "metadata": {},
   "outputs": [],
   "source": [
    "# json write & load 함수 정의\n",
    "def write_json(data, fname):\n",
    "    def _conv(o):\n",
    "        if isinstance(o, (np.int64, np.int32)):\n",
    "            return int(o)\n",
    "        raise TypeError\n",
    "\n",
    "    parent = os.path.dirname(fname)\n",
    "    distutils.dir_util.mkpath(parent)\n",
    "    with io.open(fname, \"w\", encoding=\"utf-8\") as f:\n",
    "        json_str = json.dumps(data, ensure_ascii=False, default=_conv)\n",
    "        f.write(json_str)\n",
    "        \n",
    "def load_json(fname):\n",
    "    with open(fname, encoding='utf-8') as f:\n",
    "        json_obj = json.load(f)\n",
    "\n",
    "    return json_obj\n",
    "\n",
    "\n",
    "# 추천 결과 생성\n",
    "def remove_seen(seen, l):\n",
    "    seen = set(seen)\n",
    "    return [x for x in l if not (x in seen)]"
   ]
  },
  {
   "cell_type": "code",
   "execution_count": 3,
   "metadata": {},
   "outputs": [],
   "source": [
    "mfl_col_path = './data/mfl_col.pkl'\n",
    "data_path = './data/cnt3_playlists.json'\n",
    "model_path = './data/model_ad_e30.h5'\n",
    "\n",
    "with open(mfl_col_path, 'rb') as f: # 사용 feature\n",
    "    features = pickle.load(f)\n",
    "\n",
    "data = pd.read_json(data_path) # 전체 플리 데이터\n",
    "\n",
    "autoencoder = tf.keras.models.load_model(model_path)"
   ]
  },
  {
   "cell_type": "code",
   "execution_count": 196,
   "metadata": {},
   "outputs": [],
   "source": [
    "select_ply_lst = [35469, 85537, 133991]\n",
    "similarity = 10\n",
    "song_num = 10"
   ]
  },
  {
   "cell_type": "code",
   "execution_count": 197,
   "metadata": {},
   "outputs": [],
   "source": [
    "# # 1. ply_id 넣으면 해당 행을 원핫 벡터로 변경\n",
    "# def ply_to_onehot(select_ply_lst):\n",
    "#     # ply_id int형 변환\n",
    "#     # select_ply_lst = list(map(int, select_ply_lst))\n",
    "#     # zero_mt 생성\n",
    "#     zero_matrix = np.zeros((1,len(features)))\n",
    "#     input_onehot = pd.DataFrame(zero_matrix,columns=features)\n",
    "\n",
    "#     # input_ply\n",
    "#     input_song = []\n",
    "#     input_tag = []\n",
    "#     for ply_id in select_ply_lst:\n",
    "#         input_song.append(data[data['id']==ply_id]['songs'].tolist()[0])\n",
    "#         input_tag.append(data[data['id']==ply_id]['tags'].tolist()[0])\n",
    "\n",
    "#     input_song = list(chain.from_iterable(input_song))\n",
    "#     input_tag = list(chain.from_iterable(input_tag))\n",
    "#     input_ply = input_song + input_tag\n",
    "\n",
    "#     # one-hot encoding\n",
    "#     for ft in input_ply :\n",
    "#         if ft in features:\n",
    "#             input_onehot.iloc[0,features.index(ft)]=1\n",
    "\n",
    "#     return input_song, input_tag, input_onehot"
   ]
  },
  {
   "cell_type": "code",
   "execution_count": 198,
   "metadata": {},
   "outputs": [],
   "source": [
    "input_song, input_tag, input_onehot = ply_to_onehot(select_ply_lst)"
   ]
  },
  {
   "cell_type": "code",
   "execution_count": 199,
   "metadata": {},
   "outputs": [
    {
     "name": "stdout",
     "output_type": "stream",
     "text": [
      "1/1 [==============================] - 0s 50ms/step\n"
     ]
    }
   ],
   "source": [
    "predict_plist = autoencoder.predict(input_onehot)"
   ]
  },
  {
   "cell_type": "code",
   "execution_count": 200,
   "metadata": {},
   "outputs": [],
   "source": [
    "# song_len = 88146\n",
    "# song_num = 10\n",
    "# tag_num = 5\n",
    "# ori_song = features[:song_len]\n",
    "# ori_tag = features[song_len:]\n",
    "# song_predict = predict_plist[:,:song_len] # song output(추천곡)\n",
    "# tag_predict = predict_plist[:,song_len:] # tag output(추천태그)\n",
    "\n",
    "# p_song = np.array(ori_song)[song_predict[0].argsort()[::-1][:(song_num*10)]]\n",
    "# p_tag = np.array(ori_tag)[tag_predict[0].argsort()[::-1][:(tag_num*10)]]"
   ]
  },
  {
   "cell_type": "code",
   "execution_count": 201,
   "metadata": {},
   "outputs": [],
   "source": [
    "# def recommendation(input_song, input_tag, input_onehot, song_num, tag_num=5, song_len=88146):\n",
    "#     # predict\n",
    "#     predict_plist = autoencoder.predict(input_onehot)\n",
    "\n",
    "#     # result\n",
    "#     ori_song = features[:song_len]\n",
    "#     ori_tag = features[song_len:]\n",
    "#     song_predict = predict_plist[:,:song_len] # song output(추천곡)\n",
    "#     tag_predict = predict_plist[:,song_len:] # tag output(추천태그)\n",
    "\n",
    "#     p_song = np.array(ori_song)[song_predict[0].argsort()[::-1][:(song_num*10)]]\n",
    "#     p_tag = np.array(ori_tag)[tag_predict[0].argsort()[::-1][:(tag_num*10)]]\n",
    "\n",
    "#     rec_song = remove_seen(input_song, p_song)[:song_num] \n",
    "#     rec_tag = remove_seen(input_tag, p_tag)[:tag_num]\n",
    "    \n",
    "#     return rec_song, rec_tag"
   ]
  },
  {
   "cell_type": "code",
   "execution_count": 202,
   "metadata": {},
   "outputs": [
    {
     "name": "stdout",
     "output_type": "stream",
     "text": [
      "1/1 [==============================] - 0s 44ms/step\n"
     ]
    }
   ],
   "source": [
    "rec_song, rec_tag = recommendation(input_song, input_tag, input_onehot, song_num, tag_num=5, song_len=88146)"
   ]
  },
  {
   "cell_type": "code",
   "execution_count": 203,
   "metadata": {},
   "outputs": [
    {
     "data": {
      "text/plain": [
       "[234462, 451946, 678145, 30748, 462092, 658645, 253755, 476469, 506254, 61029]"
      ]
     },
     "execution_count": 203,
     "metadata": {},
     "output_type": "execute_result"
    }
   ],
   "source": [
    "rec_song"
   ]
  },
  {
   "cell_type": "code",
   "execution_count": 204,
   "metadata": {},
   "outputs": [
    {
     "data": {
      "text/plain": [
       "['잔잔한', '우산', 'rain', '비오는날듣기좋은노래', '감수성']"
      ]
     },
     "execution_count": 204,
     "metadata": {},
     "output_type": "execute_result"
    }
   ],
   "source": [
    "rec_tag"
   ]
  },
  {
   "cell_type": "code",
   "execution_count": null,
   "metadata": {},
   "outputs": [],
   "source": []
  },
  {
   "cell_type": "code",
   "execution_count": null,
   "metadata": {},
   "outputs": [],
   "source": []
  }
 ],
 "metadata": {
  "kernelspec": {
   "display_name": "base",
   "language": "python",
   "name": "python3"
  },
  "language_info": {
   "codemirror_mode": {
    "name": "ipython",
    "version": 3
   },
   "file_extension": ".py",
   "mimetype": "text/x-python",
   "name": "python",
   "nbconvert_exporter": "python",
   "pygments_lexer": "ipython3",
   "version": "3.10.9"
  }
 },
 "nbformat": 4,
 "nbformat_minor": 2
}
