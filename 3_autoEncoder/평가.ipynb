{
 "cells": [
  {
   "cell_type": "markdown",
   "metadata": {},
   "source": [
    "# 평가_프리딕트 부터\n",
    "10/02"
   ]
  },
  {
   "cell_type": "code",
   "execution_count": 37,
   "metadata": {},
   "outputs": [],
   "source": [
    "import pickle\n",
    "import pandas as pd\n",
    "from pling_evaluate import write_json, generate_result, ArenaEvaluator"
   ]
  },
  {
   "cell_type": "markdown",
   "metadata": {},
   "source": [
    "> Data Load"
   ]
  },
  {
   "cell_type": "markdown",
   "metadata": {},
   "source": [
    "- 필요한 데이터"
   ]
  },
  {
   "cell_type": "code",
   "execution_count": 32,
   "metadata": {},
   "outputs": [
    {
     "name": "stdout",
     "output_type": "stream",
     "text": [
      "mfl_col 개수: 24666\n",
      "song_len 개수: 22798\n",
      "q_test 행 개수: 11456\n",
      "q_test_onehot.shape: (11456, 24666)\n"
     ]
    }
   ],
   "source": [
    "with open('../0_data/mfl_col.pkl', 'rb') as f:\n",
    "    mfl_col = pickle.load(f)\n",
    "\n",
    "print(f'mfl_col 개수: {len(mfl_col)}')\n",
    "\n",
    "song_len = 22798\n",
    "print(f'song_len 개수: {song_len}')\n",
    "# song = 22798, tag = 1868\n",
    "\n",
    "q_test = pd.read_json('../0_data/q_test.json')\n",
    "print(f'q_test 행 개수: {len(q_test)}')\n",
    "\n",
    "with open('../0_data/q_test_onehot.pkl', 'rb') as f:\n",
    "    q_test_onehot = pickle.load(f)\n",
    "\n",
    "print(f'q_test_onehot.shape: {q_test_onehot.shape}')"
   ]
  },
  {
   "cell_type": "markdown",
   "metadata": {},
   "source": [
    "> predict"
   ]
  },
  {
   "cell_type": "code",
   "execution_count": null,
   "metadata": {},
   "outputs": [],
   "source": [
    "# 가져올 모델 이름 설정!\n",
    "model_name = 'model_7'"
   ]
  },
  {
   "cell_type": "code",
   "execution_count": 6,
   "metadata": {},
   "outputs": [
    {
     "name": "stdout",
     "output_type": "stream",
     "text": [
      "358/358 [==============================] - 6s 15ms/step\n"
     ]
    }
   ],
   "source": [
    "import tensorflow as tf\n",
    "model = tf.keras.models.load_model(f'results/{model_name}.h5')\n",
    "predict_plist=model.predict(q_test_onehot)"
   ]
  },
  {
   "cell_type": "markdown",
   "metadata": {},
   "source": [
    "> 결과 추출"
   ]
  },
  {
   "cell_type": "code",
   "execution_count": 34,
   "metadata": {},
   "outputs": [],
   "source": [
    "result = generate_result(q_test, mfl_col, song_len, predict_plist)"
   ]
  },
  {
   "cell_type": "code",
   "execution_count": 27,
   "metadata": {},
   "outputs": [],
   "source": [
    "write_json(result,f'results/result_{model_name}_rs.json')"
   ]
  },
  {
   "cell_type": "markdown",
   "metadata": {},
   "source": [
    "> 평가"
   ]
  },
  {
   "cell_type": "code",
   "execution_count": 36,
   "metadata": {},
   "outputs": [
    {
     "name": "stdout",
     "output_type": "stream",
     "text": [
      "Music nDCG: 0.107596\n",
      "Tag nDCG: 0.379045\n",
      "Score: 0.148313\n"
     ]
    }
   ],
   "source": [
    "gt_fname = '../0_data/a_test.json'\n",
    "rec_fname = f'results/result_{model_name}_rs.json'\n",
    "arena_evaluator = ArenaEvaluator()\n",
    "arena_evaluator.evaluate(gt_fname, rec_fname)"
   ]
  }
 ],
 "metadata": {
  "kernelspec": {
   "display_name": "base",
   "language": "python",
   "name": "python3"
  },
  "language_info": {
   "codemirror_mode": {
    "name": "ipython",
    "version": 3
   },
   "file_extension": ".py",
   "mimetype": "text/x-python",
   "name": "python",
   "nbconvert_exporter": "python",
   "pygments_lexer": "ipython3",
   "version": "3.11.5"
  },
  "orig_nbformat": 4
 },
 "nbformat": 4,
 "nbformat_minor": 2
}
