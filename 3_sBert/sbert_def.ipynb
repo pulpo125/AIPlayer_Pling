{
 "cells": [
  {
   "cell_type": "code",
   "execution_count": 1,
   "metadata": {},
   "outputs": [],
   "source": [
    "import numpy as np\n",
    "import pandas as pd\n",
    "from numpy import dot\n",
    "from numpy.linalg import norm\n",
    "from sentence_transformers import SentenceTransformer\n",
    "import pymysql"
   ]
  },
  {
   "cell_type": "code",
   "execution_count": 2,
   "metadata": {},
   "outputs": [],
   "source": [
    "model = SentenceTransformer('sentence-transformers/xlm-r-100langs-bert-base-nli-stsb-mean-tokens')"
   ]
  },
  {
   "cell_type": "code",
   "execution_count": 3,
   "metadata": {},
   "outputs": [],
   "source": [
    "# mysql 연동\n",
    "conn = pymysql.connect(host='127.0.0.1'\n",
    "                , port=3306\n",
    "                , user = 'root'\n",
    "                , password='root1234'\n",
    "                , db = 'finaldb'\n",
    "                , charset='utf8'\n",
    "                ) \n",
    "\n",
    "cur = conn.cursor()"
   ]
  },
  {
   "cell_type": "code",
   "execution_count": 7,
   "metadata": {},
   "outputs": [],
   "source": [
    "# input\n",
    "new_title = \"크리스마스에 듣기 좋은 신나는 노래\""
   ]
  },
  {
   "cell_type": "code",
   "execution_count": 8,
   "metadata": {},
   "outputs": [],
   "source": [
    "# 플리 id 마지막 값 가져오기\n",
    "cur = conn.cursor()\n",
    "cur.execute('select ply_id from ply_meta order by ply_id desc limit 1;')\n",
    "last_ply_id = cur.fetchall()\n",
    "new_ply_id = last_ply_id[0][0] + 1"
   ]
  },
  {
   "cell_type": "code",
   "execution_count": 6,
   "metadata": {},
   "outputs": [],
   "source": [
    "# Insert new ply_title \n",
    "# cur.execute(f'INSERT INTO ply_meta (ply_id, ply_title, ply_updt) VALUES ({new_ply_id}, \"{new_title}\", now());')\n",
    "# conn.commit()"
   ]
  },
  {
   "cell_type": "code",
   "execution_count": 9,
   "metadata": {},
   "outputs": [],
   "source": [
    "# input_title embedding 값 만들기\n",
    "new_embedding = model.encode(new_title)"
   ]
  },
  {
   "cell_type": "code",
   "execution_count": 8,
   "metadata": {},
   "outputs": [],
   "source": [
    "# Insert new title embedding\n",
    "# cur.execute(f'INSERT INTO ply_title_embedding (ply_id, ply_title_emd) VALUES ({new_ply_id}, \"{new_embedding}\");')\n",
    "# conn.commit()"
   ]
  },
  {
   "cell_type": "code",
   "execution_count": 11,
   "metadata": {},
   "outputs": [],
   "source": [
    "# 가장 유사한 플레이리스트 추출\n",
    "def cos_sim(A, B):\n",
    "  return dot(A, B)/(norm(A)*norm(B))"
   ]
  },
  {
   "cell_type": "code",
   "execution_count": 23,
   "metadata": {},
   "outputs": [
    {
     "name": "stderr",
     "output_type": "stream",
     "text": [
      "C:\\Users\\k9942\\AppData\\Local\\Temp\\ipykernel_15612\\645151206.py:2: UserWarning: pandas only supports SQLAlchemy connectable (engine/connection) or database string URI or sqlite3 DBAPI2 connection. Other DBAPI2 objects are not tested. Please consider using SQLAlchemy.\n",
      "  ply_title_embedding = pd.read_sql(sql, conn)\n"
     ]
    }
   ],
   "source": [
    "sql = 'SELECT * FROM ply_title_embedding'\n",
    "ply_title_embedding = pd.read_sql(sql, conn)\n",
    "\n",
    "# str -> embedding(array)\n",
    "ply_title_embedding['ply_title_emd'] = ply_title_embedding.apply(lambda x: np.fromstring(x['ply_title_emd'].strip('[]'),dtype=float, sep=' '), axis=1)\n",
    "\n",
    "# cosine similarity 계산\n",
    "ply_title_embedding['cos_sim'] = ply_title_embedding.apply(lambda x: cos_sim(x['ply_title_emd'], new_embedding), axis=1)\n",
    "\n",
    "# 유사한 플리 2개 id 추출\n",
    "sim_ply_id = list(ply_title_embedding.sort_values(by='cos_sim', ascending=False)['ply_id'][:2])"
   ]
  },
  {
   "cell_type": "code",
   "execution_count": 24,
   "metadata": {},
   "outputs": [
    {
     "data": {
      "text/plain": [
       "[2, 0]"
      ]
     },
     "execution_count": 24,
     "metadata": {},
     "output_type": "execute_result"
    }
   ],
   "source": [
    "sim_ply_id"
   ]
  },
  {
   "cell_type": "code",
   "execution_count": 7,
   "metadata": {},
   "outputs": [],
   "source": [
    "conn.commit()"
   ]
  },
  {
   "cell_type": "code",
   "execution_count": 8,
   "metadata": {},
   "outputs": [],
   "source": [
    "conn.close()"
   ]
  }
 ],
 "metadata": {
  "kernelspec": {
   "display_name": "base",
   "language": "python",
   "name": "python3"
  },
  "language_info": {
   "codemirror_mode": {
    "name": "ipython",
    "version": 3
   },
   "file_extension": ".py",
   "mimetype": "text/x-python",
   "name": "python",
   "nbconvert_exporter": "python",
   "pygments_lexer": "ipython3",
   "version": "3.10.9"
  },
  "orig_nbformat": 4
 },
 "nbformat": 4,
 "nbformat_minor": 2
}
