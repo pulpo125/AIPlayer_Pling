{
 "cells": [
  {
   "cell_type": "code",
   "execution_count": 6,
   "metadata": {},
   "outputs": [],
   "source": [
    "import numpy as np\n",
    "import pandas as pd\n",
    "import json"
   ]
  },
  {
   "cell_type": "code",
   "execution_count": 3,
   "metadata": {},
   "outputs": [],
   "source": [
    "def load_json(fname):\n",
    "    with open(fname, encoding=\"utf-8\") as f:\n",
    "        json_obj = json.load(f)\n",
    "\n",
    "    return json_obj"
   ]
  },
  {
   "cell_type": "code",
   "execution_count": 17,
   "metadata": {},
   "outputs": [],
   "source": [
    "path = \"./kakao_arena_melon/arena_data/\"\n",
    "gt_fname = path + \"answers/val.json\"\n",
    "rec_fname = path + \"results/results.json\""
   ]
  },
  {
   "cell_type": "code",
   "execution_count": 18,
   "metadata": {},
   "outputs": [],
   "source": [
    "gt_playlists = load_json(gt_fname) # 정답\n",
    "rec_playlists = load_json(rec_fname) # 추천 결과"
   ]
  },
  {
   "cell_type": "code",
   "execution_count": 20,
   "metadata": {},
   "outputs": [
    {
     "data": {
      "text/plain": [
       "{'tags': ['봄'],\n",
       " 'id': 126990,\n",
       " 'plylst_title': 'ㅇㅅㅇ헤헿',\n",
       " 'songs': [361515,\n",
       "  67882,\n",
       "  367963,\n",
       "  670887,\n",
       "  115289,\n",
       "  598537,\n",
       "  343416,\n",
       "  449244,\n",
       "  670842,\n",
       "  67577,\n",
       "  284992,\n",
       "  615912],\n",
       " 'like_cnt': 1,\n",
       " 'updt_date': '2017-06-28 12:32:20.000'}"
      ]
     },
     "execution_count": 20,
     "metadata": {},
     "output_type": "execute_result"
    }
   ],
   "source": [
    "gt_playlists[0]"
   ]
  },
  {
   "cell_type": "markdown",
   "metadata": {},
   "source": [
    "------"
   ]
  },
  {
   "cell_type": "markdown",
   "metadata": {},
   "source": [
    "> 평가하기 위해 데이터셋 확인\n",
    "- 플레이리스트 수 비교\n",
    "- 추천 곡 결과 개수 비교\n",
    "- 추천 태그 결과 개수 비교\n",
    "- 한 플레이리스트에 중복된 곡 추천 허용 안됨"
   ]
  },
  {
   "cell_type": "code",
   "execution_count": 22,
   "metadata": {},
   "outputs": [
    {
     "data": {
      "text/plain": [
       "{'tags': ['봄'],\n",
       " 'id': 126990,\n",
       " 'plylst_title': 'ㅇㅅㅇ헤헿',\n",
       " 'songs': [361515,\n",
       "  67882,\n",
       "  367963,\n",
       "  670887,\n",
       "  115289,\n",
       "  598537,\n",
       "  343416,\n",
       "  449244,\n",
       "  670842,\n",
       "  67577,\n",
       "  284992,\n",
       "  615912],\n",
       " 'like_cnt': 1,\n",
       " 'updt_date': '2017-06-28 12:32:20.000'}"
      ]
     },
     "execution_count": 22,
     "metadata": {},
     "output_type": "execute_result"
    }
   ],
   "source": [
    "# {plylst id : plylst}\n",
    "gt_dict = {g[\"id\"]: g for g in gt_playlists}\n",
    "gt_dict[126990]"
   ]
  },
  {
   "cell_type": "code",
   "execution_count": 24,
   "metadata": {},
   "outputs": [
    {
     "name": "stdout",
     "output_type": "stream",
     "text": [
      "OK\n"
     ]
    }
   ],
   "source": [
    "# 플레이리스트 수 비교\n",
    "gt_ids = set([g[\"id\"] for g in gt_playlists])\n",
    "rec_ids = set([r[\"id\"] for r in rec_playlists])\n",
    "\n",
    "if gt_ids != rec_ids:\n",
    "    raise Exception(\"결과의 플레이리스트 수가 올바르지 않습니다.\")\n",
    "else:\n",
    "    print(\"플레이리스트 수 일치\")"
   ]
  },
  {
   "cell_type": "code",
   "execution_count": 29,
   "metadata": {},
   "outputs": [
    {
     "name": "stdout",
     "output_type": "stream",
     "text": [
      "추천 곡 결과 수 일치\n",
      "추천 태그 결과 수 일치\n"
     ]
    }
   ],
   "source": [
    "# 각 플레이리스트의 추천 곡, 태그 개수가 100, 10개 인지 확인\n",
    "rec_song_counts = [len(p[\"songs\"]) for p in rec_playlists] # [100, 100, ...]\n",
    "rec_tag_counts = [len(p[\"tags\"]) for p in rec_playlists] # [10, 10, ...]\n",
    "\n",
    "if set(rec_song_counts) != set([100]):\n",
    "    raise Exception(\"추천 곡 결과의 개수가 맞지 않습니다.\")\n",
    "else:\n",
    "    print(\"추천 곡 결과 수 일치\")\n",
    "\n",
    "if set(rec_tag_counts) != set([10]):\n",
    "    raise Exception(\"추천 태그 결과의 개수가 맞지 않습니다.\")\n",
    "else:\n",
    "    print(\"추천 태그 결과 수 일치\")"
   ]
  },
  {
   "cell_type": "code",
   "execution_count": 33,
   "metadata": {},
   "outputs": [
    {
     "name": "stdout",
     "output_type": "stream",
     "text": [
      "중복 곡 없음\n",
      "중복 태그 없음\n"
     ]
    }
   ],
   "source": [
    "# 각 플레이리스트의 중복된 곡, 태그가 있는 지 확인\n",
    "rec_unique_song_counts = [len(set(p[\"songs\"])) for p in rec_playlists]\n",
    "rec_unique_tag_counts = [len(set(p[\"tags\"])) for p in rec_playlists]\n",
    "\n",
    "if set(rec_unique_song_counts) != set([100]):\n",
    "    raise Exception(\"한 플레이리스트에 중복된 곡 추천은 허용되지 않습니다.\")\n",
    "else:\n",
    "    print(\"중복 곡 없음\")\n",
    "\n",
    "if set(rec_unique_tag_counts) != set([10]):\n",
    "    raise Exception(\"한 플레이리스트에 중복된 태그 추천은 허용되지 않습니다.\")\n",
    "else:\n",
    "    print(\"중복 태그 없음\")"
   ]
  },
  {
   "cell_type": "markdown",
   "metadata": {},
   "source": [
    "---"
   ]
  },
  {
   "cell_type": "markdown",
   "metadata": {},
   "source": [
    "> 평가"
   ]
  },
  {
   "cell_type": "markdown",
   "metadata": {},
   "source": [
    "### NDCG는 ranking quality를 측정하는 지표이다\n",
    "- ndcg(normalized Discounted Cumulative Gain) = dcg/idcg \n",
    "<br> -- dcg의 정규화된 지표로, 기존의 dcg는 랭킹 결과의 길이인 p가 커질수록 누적합인 dcg는 커지므로 값이 많이 변하므로 p에 상관없이 일정 스케일의 값을 가지도록 정규화가 필요하여 idcg로 나눈 값을 사용한다. \n",
    "<br> -- 0 <= ndcg <= 1\n",
    "<br> -- 해석: 1 에 가까울 수록 좋은 지표이다."
   ]
  },
  {
   "cell_type": "markdown",
   "metadata": {},
   "source": [
    "- dcg(Discounted Cumulative Gain)\n",
    "<br> -- 상위 p개의 추천 결과들의 관련성을 합한 누적값으로, 랭킹 순서에 따라 점점 비중을 줄여 discounted 된 관련도를 계산하는 방법이다. 랭킹 순서에 대한 로그 함수를 분모로 두면, 하위권으로 갈수록 rel 대비 작은 dcg 값을 가지므로 하위관 결과에 패널티를 주는 방식이다."
   ]
  },
  {
   "cell_type": "markdown",
   "metadata": {},
   "source": [
    "- idcg(Ideal Discounted Cumulative Gain)\n",
    "<br> -- rel가 큰 순서대로 재배열한 후 상위 p개를 선택한 rel_opt에 대해서 DCG를 계산한 결과로 선택된 p개 결과로 가질 수 있는 가장 큰 DCG 값"
   ]
  },
  {
   "cell_type": "code",
   "execution_count": 43,
   "metadata": {},
   "outputs": [],
   "source": [
    "# 평가 함수 정의\n",
    "def idcgs(l):\n",
    "    return sum((1.0 / np.log(i + 2) for i in range(l)))\n",
    "\n",
    "def ndcg(gt, rec):\n",
    "    dcg = 0.0\n",
    "    for i, r in enumerate(rec):\n",
    "        if r in gt:\n",
    "            dcg += 1.0 / np.log(i + 2)\n",
    "\n",
    "    return dcg / idcgs(len(gt))"
   ]
  },
  {
   "cell_type": "code",
   "execution_count": 44,
   "metadata": {},
   "outputs": [
    {
     "data": {
      "text/plain": [
       "(391.83677640995495, 3711.855342228854)"
      ]
     },
     "execution_count": 44,
     "metadata": {},
     "output_type": "execute_result"
    }
   ],
   "source": [
    "music_ndcg = 0.0\n",
    "tag_ndcg = 0.0\n",
    "\n",
    "for rec in rec_playlists:\n",
    "    # gt: 추천 플리의 정답 결과\n",
    "    gt = gt_dict[rec[\"id\"]]\n",
    "\n",
    "    # 정답 곡,태그 리스트와 추천 곡, 태그 리스트(100, 10개)를 ndcg로 계산\n",
    "    music_ndcg += ndcg(gt[\"songs\"], rec[\"songs\"][:100])\n",
    "    tag_ndcg += ndcg(gt[\"tags\"], rec[\"tags\"][:10])\n",
    "\n",
    "music_ndcg, tag_ndcg"
   ]
  },
  {
   "cell_type": "code",
   "execution_count": null,
   "metadata": {},
   "outputs": [],
   "source": [
    "music_ndcg = music_ndcg / len(rec_playlists)\n",
    "tag_ndcg = tag_ndcg / len(rec_playlists)"
   ]
  }
 ],
 "metadata": {
  "kernelspec": {
   "display_name": "base",
   "language": "python",
   "name": "python3"
  },
  "language_info": {
   "codemirror_mode": {
    "name": "ipython",
    "version": 3
   },
   "file_extension": ".py",
   "mimetype": "text/x-python",
   "name": "python",
   "nbconvert_exporter": "python",
   "pygments_lexer": "ipython3",
   "version": "3.10.9"
  },
  "orig_nbformat": 4
 },
 "nbformat": 4,
 "nbformat_minor": 2
}
