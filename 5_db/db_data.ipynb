{
 "cells": [
  {
   "cell_type": "code",
   "execution_count": 1,
   "metadata": {},
   "outputs": [],
   "source": [
    "import pandas as pd"
   ]
  },
  {
   "cell_type": "code",
   "execution_count": 8,
   "metadata": {},
   "outputs": [
    {
     "name": "stdout",
     "output_type": "stream",
     "text": [
      "<class 'pandas.core.frame.DataFrame'>\n",
      "RangeIndex: 46758 entries, 0 to 46757\n",
      "Data columns (total 5 columns):\n",
      " #   Column        Non-Null Count  Dtype \n",
      "---  ------        --------------  ----- \n",
      " 0   ply_id        46758 non-null  int64 \n",
      " 1   ply_title     46758 non-null  object\n",
      " 2   ply_tag_lst   46758 non-null  object\n",
      " 3   ply_like_cnt  46758 non-null  int64 \n",
      " 4   ply_updt      46758 non-null  object\n",
      "dtypes: int64(2), object(3)\n",
      "memory usage: 1.8+ MB\n"
     ]
    }
   ],
   "source": [
    "# ply_meta 테이블:\n",
    "#     ply_id int not null primary key,\n",
    "#     ply_title varchar(500),\n",
    "#     ply_tag_lst TEXT,\n",
    "#     ply_like_cnt int,\n",
    "#     ply_updt varchar(100)\n",
    "\n",
    "ply_meta = pd.read_json('./db_data/ply_meta.json')\n",
    "ply_meta.info()"
   ]
  },
  {
   "cell_type": "code",
   "execution_count": 9,
   "metadata": {},
   "outputs": [
    {
     "data": {
      "text/html": [
       "<div>\n",
       "<style scoped>\n",
       "    .dataframe tbody tr th:only-of-type {\n",
       "        vertical-align: middle;\n",
       "    }\n",
       "\n",
       "    .dataframe tbody tr th {\n",
       "        vertical-align: top;\n",
       "    }\n",
       "\n",
       "    .dataframe thead th {\n",
       "        text-align: right;\n",
       "    }\n",
       "</style>\n",
       "<table border=\"1\" class=\"dataframe\">\n",
       "  <thead>\n",
       "    <tr style=\"text-align: right;\">\n",
       "      <th></th>\n",
       "      <th>ply_id</th>\n",
       "      <th>ply_title</th>\n",
       "      <th>ply_tag_lst</th>\n",
       "      <th>ply_like_cnt</th>\n",
       "      <th>ply_updt</th>\n",
       "    </tr>\n",
       "  </thead>\n",
       "  <tbody>\n",
       "    <tr>\n",
       "      <th>0</th>\n",
       "      <td>117162</td>\n",
       "      <td>12월의 재즈</td>\n",
       "      <td>크리스마스, 겨울</td>\n",
       "      <td>353</td>\n",
       "      <td>2016-12-26 12:33:33.000</td>\n",
       "    </tr>\n",
       "    <tr>\n",
       "      <th>1</th>\n",
       "      <td>151638</td>\n",
       "      <td>12월의 크리스마스를 yeah</td>\n",
       "      <td>발라드</td>\n",
       "      <td>29</td>\n",
       "      <td>2009-12-22 09:11:45.000</td>\n",
       "    </tr>\n",
       "    <tr>\n",
       "      <th>2</th>\n",
       "      <td>27984</td>\n",
       "      <td>1월의 최신 EDM 소식</td>\n",
       "      <td>일렉</td>\n",
       "      <td>84</td>\n",
       "      <td>2015-01-29 16:22:19.000</td>\n",
       "    </tr>\n",
       "    <tr>\n",
       "      <th>3</th>\n",
       "      <td>48636</td>\n",
       "      <td>2000년대 힙합을 부탁해</td>\n",
       "      <td>힙합, 랩</td>\n",
       "      <td>54</td>\n",
       "      <td>2015-06-09 17:25:51.000</td>\n",
       "    </tr>\n",
       "    <tr>\n",
       "      <th>4</th>\n",
       "      <td>30079</td>\n",
       "      <td>2008 그랜드민트 페스티벌</td>\n",
       "      <td>락</td>\n",
       "      <td>12</td>\n",
       "      <td>2008-12-23 19:56:46.000</td>\n",
       "    </tr>\n",
       "  </tbody>\n",
       "</table>\n",
       "</div>"
      ],
      "text/plain": [
       "   ply_id         ply_title ply_tag_lst  ply_like_cnt                 ply_updt\n",
       "0  117162           12월의 재즈   크리스마스, 겨울           353  2016-12-26 12:33:33.000\n",
       "1  151638  12월의 크리스마스를 yeah         발라드            29  2009-12-22 09:11:45.000\n",
       "2   27984     1월의 최신 EDM 소식          일렉            84  2015-01-29 16:22:19.000\n",
       "3   48636    2000년대 힙합을 부탁해       힙합, 랩            54  2015-06-09 17:25:51.000\n",
       "4   30079   2008 그랜드민트 페스티벌           락            12  2008-12-23 19:56:46.000"
      ]
     },
     "execution_count": 9,
     "metadata": {},
     "output_type": "execute_result"
    }
   ],
   "source": [
    "ply_meta.head()"
   ]
  },
  {
   "cell_type": "code",
   "execution_count": 6,
   "metadata": {},
   "outputs": [
    {
     "name": "stdout",
     "output_type": "stream",
     "text": [
      "<class 'pandas.core.frame.DataFrame'>\n",
      "RangeIndex: 46758 entries, 0 to 46757\n",
      "Data columns (total 7 columns):\n",
      " #   Column        Non-Null Count  Dtype \n",
      "---  ------        --------------  ----- \n",
      " 0   tags          46758 non-null  object\n",
      " 1   id            46758 non-null  int64 \n",
      " 2   plylst_title  46758 non-null  object\n",
      " 3   songs         46758 non-null  object\n",
      " 4   like_cnt      46758 non-null  int64 \n",
      " 5   updt_date     46758 non-null  object\n",
      " 6   embedding     46758 non-null  object\n",
      "dtypes: int64(2), object(5)\n",
      "memory usage: 2.5+ MB\n"
     ]
    }
   ],
   "source": [
    "# ply_title_embedding 테이블:\n",
    "# \t  emd_id int not null primary key auto_increment,\n",
    "# \t  ply_id int not null,\n",
    "#     ply_title_emd TEXT,\n",
    "#     FOREIGN KEY(ply_id) REFERENCES ply_meta(ply_id)\n",
    "\n",
    "emd_df = pd.read_json('./db_data/emd_df.json')\n",
    "emd_df.info()"
   ]
  },
  {
   "cell_type": "code",
   "execution_count": 13,
   "metadata": {},
   "outputs": [
    {
     "data": {
      "text/html": [
       "<div>\n",
       "<style scoped>\n",
       "    .dataframe tbody tr th:only-of-type {\n",
       "        vertical-align: middle;\n",
       "    }\n",
       "\n",
       "    .dataframe tbody tr th {\n",
       "        vertical-align: top;\n",
       "    }\n",
       "\n",
       "    .dataframe thead th {\n",
       "        text-align: right;\n",
       "    }\n",
       "</style>\n",
       "<table border=\"1\" class=\"dataframe\">\n",
       "  <thead>\n",
       "    <tr style=\"text-align: right;\">\n",
       "      <th></th>\n",
       "      <th>ply_id</th>\n",
       "      <th>ply_title_emd</th>\n",
       "    </tr>\n",
       "  </thead>\n",
       "  <tbody>\n",
       "    <tr>\n",
       "      <th>0</th>\n",
       "      <td>117162</td>\n",
       "      <td>[-0.6645728946, -0.7428655624, 0.9763435721, -...</td>\n",
       "    </tr>\n",
       "    <tr>\n",
       "      <th>1</th>\n",
       "      <td>151638</td>\n",
       "      <td>[-0.0026101221, 0.1385624856, 1.9987051487, 0....</td>\n",
       "    </tr>\n",
       "    <tr>\n",
       "      <th>2</th>\n",
       "      <td>27984</td>\n",
       "      <td>[-0.4456211329, 0.0304336753, 1.2807025909, -0...</td>\n",
       "    </tr>\n",
       "    <tr>\n",
       "      <th>3</th>\n",
       "      <td>30079</td>\n",
       "      <td>[-0.1292974651, 0.07028008250000001, 1.0626025...</td>\n",
       "    </tr>\n",
       "    <tr>\n",
       "      <th>4</th>\n",
       "      <td>52572</td>\n",
       "      <td>[-0.21672616900000002, -0.0234135706, 1.083109...</td>\n",
       "    </tr>\n",
       "  </tbody>\n",
       "</table>\n",
       "</div>"
      ],
      "text/plain": [
       "   ply_id                                      ply_title_emd\n",
       "0  117162  [-0.6645728946, -0.7428655624, 0.9763435721, -...\n",
       "1  151638  [-0.0026101221, 0.1385624856, 1.9987051487, 0....\n",
       "2   27984  [-0.4456211329, 0.0304336753, 1.2807025909, -0...\n",
       "3   30079  [-0.1292974651, 0.07028008250000001, 1.0626025...\n",
       "4   52572  [-0.21672616900000002, -0.0234135706, 1.083109..."
      ]
     },
     "execution_count": 13,
     "metadata": {},
     "output_type": "execute_result"
    }
   ],
   "source": [
    "emd_df = emd_df[['id', 'embedding']]\n",
    "ply_title_embedding = emd_df.rename(columns={'id':'ply_id', 'embedding':'ply_title_emd'})\n",
    "ply_title_embedding.head()"
   ]
  },
  {
   "cell_type": "code",
   "execution_count": 14,
   "metadata": {},
   "outputs": [
    {
     "name": "stdout",
     "output_type": "stream",
     "text": [
      "<class 'pandas.core.frame.DataFrame'>\n",
      "RangeIndex: 46758 entries, 0 to 46757\n",
      "Data columns (total 2 columns):\n",
      " #   Column         Non-Null Count  Dtype \n",
      "---  ------         --------------  ----- \n",
      " 0   ply_id         46758 non-null  int64 \n",
      " 1   ply_title_emd  46758 non-null  object\n",
      "dtypes: int64(1), object(1)\n",
      "memory usage: 730.7+ KB\n"
     ]
    }
   ],
   "source": [
    "ply_title_embedding.info()"
   ]
  },
  {
   "cell_type": "code",
   "execution_count": 19,
   "metadata": {},
   "outputs": [
    {
     "name": "stdout",
     "output_type": "stream",
     "text": [
      "True\n",
      "True\n"
     ]
    }
   ],
   "source": [
    "# ply_title_embedding와 ply_meta id 비교\n",
    "print(list(ply_meta['ply_id']).sort() == list(ply_title_embedding['ply_id']).sort())\n",
    "print(len(ply_meta) == len(ply_title_embedding))"
   ]
  },
  {
   "cell_type": "code",
   "execution_count": 20,
   "metadata": {},
   "outputs": [],
   "source": [
    "# song_meta 테이블:\n",
    "# \t  song_id int not null primary key,\n",
    "#     song_name varchar(500),\n",
    "#     artist_name_lst text,\n",
    "#     song_gnr_lst text\n",
    "\n",
    "song_meta = pd.read_json('../00_data/db_song_meta_1006.json')"
   ]
  },
  {
   "cell_type": "code",
   "execution_count": 21,
   "metadata": {},
   "outputs": [
    {
     "name": "stdout",
     "output_type": "stream",
     "text": [
      "<class 'pandas.core.frame.DataFrame'>\n",
      "RangeIndex: 703949 entries, 0 to 703948\n",
      "Data columns (total 4 columns):\n",
      " #   Column           Non-Null Count   Dtype \n",
      "---  ------           --------------   ----- \n",
      " 0   song_id          703949 non-null  int64 \n",
      " 1   song_name        703949 non-null  object\n",
      " 2   artist_name_lst  703949 non-null  object\n",
      " 3   song_gnr_lst     703949 non-null  object\n",
      "dtypes: int64(1), object(3)\n",
      "memory usage: 21.5+ MB\n"
     ]
    }
   ],
   "source": [
    "song_meta.info()"
   ]
  },
  {
   "cell_type": "code",
   "execution_count": 22,
   "metadata": {},
   "outputs": [
    {
     "data": {
      "text/html": [
       "<div>\n",
       "<style scoped>\n",
       "    .dataframe tbody tr th:only-of-type {\n",
       "        vertical-align: middle;\n",
       "    }\n",
       "\n",
       "    .dataframe tbody tr th {\n",
       "        vertical-align: top;\n",
       "    }\n",
       "\n",
       "    .dataframe thead th {\n",
       "        text-align: right;\n",
       "    }\n",
       "</style>\n",
       "<table border=\"1\" class=\"dataframe\">\n",
       "  <thead>\n",
       "    <tr style=\"text-align: right;\">\n",
       "      <th></th>\n",
       "      <th>song_id</th>\n",
       "      <th>song_name</th>\n",
       "      <th>artist_name_lst</th>\n",
       "      <th>song_gnr_lst</th>\n",
       "    </tr>\n",
       "  </thead>\n",
       "  <tbody>\n",
       "    <tr>\n",
       "      <th>0</th>\n",
       "      <td>0</td>\n",
       "      <td>Feelings</td>\n",
       "      <td>[Various Artists]</td>\n",
       "      <td>[POP]</td>\n",
       "    </tr>\n",
       "    <tr>\n",
       "      <th>1</th>\n",
       "      <td>1</td>\n",
       "      <td>Bach : Partita No. 4 In D Major, BWV 828 - II....</td>\n",
       "      <td>[Murray Perahia]</td>\n",
       "      <td>[클래식]</td>\n",
       "    </tr>\n",
       "    <tr>\n",
       "      <th>2</th>\n",
       "      <td>2</td>\n",
       "      <td>Solsbury Hill (Remastered 2002)</td>\n",
       "      <td>[Peter Gabriel]</td>\n",
       "      <td>[POP]</td>\n",
       "    </tr>\n",
       "    <tr>\n",
       "      <th>3</th>\n",
       "      <td>3</td>\n",
       "      <td>Feeling Right (Everything Is Nice) (Feat. Popc...</td>\n",
       "      <td>[Matoma]</td>\n",
       "      <td>[일렉트로니카]</td>\n",
       "    </tr>\n",
       "    <tr>\n",
       "      <th>4</th>\n",
       "      <td>4</td>\n",
       "      <td>그남자 그여자</td>\n",
       "      <td>[Jude Law]</td>\n",
       "      <td>[뉴에이지]</td>\n",
       "    </tr>\n",
       "  </tbody>\n",
       "</table>\n",
       "</div>"
      ],
      "text/plain": [
       "   song_id                                          song_name  \\\n",
       "0        0                                           Feelings   \n",
       "1        1  Bach : Partita No. 4 In D Major, BWV 828 - II....   \n",
       "2        2                    Solsbury Hill (Remastered 2002)   \n",
       "3        3  Feeling Right (Everything Is Nice) (Feat. Popc...   \n",
       "4        4                                            그남자 그여자   \n",
       "\n",
       "     artist_name_lst song_gnr_lst  \n",
       "0  [Various Artists]        [POP]  \n",
       "1   [Murray Perahia]        [클래식]  \n",
       "2    [Peter Gabriel]        [POP]  \n",
       "3           [Matoma]     [일렉트로니카]  \n",
       "4         [Jude Law]       [뉴에이지]  "
      ]
     },
     "execution_count": 22,
     "metadata": {},
     "output_type": "execute_result"
    }
   ],
   "source": [
    "song_meta.head()"
   ]
  },
  {
   "cell_type": "code",
   "execution_count": null,
   "metadata": {},
   "outputs": [],
   "source": [
    "# create table song_in_ply 테이블:\n",
    "# \t  songinply_id int not null primary key auto_increment,\n",
    "# \t  ply_id int,\n",
    "#     song_id int,\n",
    "#     FOREIGN KEY(ply_id) REFERENCES ply_meta(ply_id),\n",
    "#     FOREIGN KEY(song_id) REFERENCES song_meta(song_id)"
   ]
  },
  {
   "cell_type": "code",
   "execution_count": 24,
   "metadata": {},
   "outputs": [
    {
     "name": "stdout",
     "output_type": "stream",
     "text": [
      "<class 'pandas.core.frame.DataFrame'>\n",
      "RangeIndex: 46758 entries, 0 to 46757\n",
      "Data columns (total 6 columns):\n",
      " #   Column        Non-Null Count  Dtype \n",
      "---  ------        --------------  ----- \n",
      " 0   tags          46758 non-null  object\n",
      " 1   id            46758 non-null  int64 \n",
      " 2   plylst_title  46758 non-null  object\n",
      " 3   songs         46758 non-null  object\n",
      " 4   like_cnt      46758 non-null  int64 \n",
      " 5   updt_date     46758 non-null  object\n",
      "dtypes: int64(2), object(4)\n",
      "memory usage: 2.1+ MB\n"
     ]
    }
   ],
   "source": [
    "playlists_cnt3 = pd.read_json('../00_data/tag3,song3_playlists.json')\n",
    "playlists_cnt3.info()"
   ]
  },
  {
   "cell_type": "code",
   "execution_count": 26,
   "metadata": {},
   "outputs": [
    {
     "data": {
      "text/html": [
       "<div>\n",
       "<style scoped>\n",
       "    .dataframe tbody tr th:only-of-type {\n",
       "        vertical-align: middle;\n",
       "    }\n",
       "\n",
       "    .dataframe tbody tr th {\n",
       "        vertical-align: top;\n",
       "    }\n",
       "\n",
       "    .dataframe thead th {\n",
       "        text-align: right;\n",
       "    }\n",
       "</style>\n",
       "<table border=\"1\" class=\"dataframe\">\n",
       "  <thead>\n",
       "    <tr style=\"text-align: right;\">\n",
       "      <th></th>\n",
       "      <th>id</th>\n",
       "      <th>songs</th>\n",
       "    </tr>\n",
       "  </thead>\n",
       "  <tbody>\n",
       "    <tr>\n",
       "      <th>0</th>\n",
       "      <td>117162</td>\n",
       "      <td>677632</td>\n",
       "    </tr>\n",
       "    <tr>\n",
       "      <th>0</th>\n",
       "      <td>117162</td>\n",
       "      <td>309377</td>\n",
       "    </tr>\n",
       "    <tr>\n",
       "      <th>0</th>\n",
       "      <td>117162</td>\n",
       "      <td>473793</td>\n",
       "    </tr>\n",
       "    <tr>\n",
       "      <th>0</th>\n",
       "      <td>117162</td>\n",
       "      <td>179652</td>\n",
       "    </tr>\n",
       "    <tr>\n",
       "      <th>0</th>\n",
       "      <td>117162</td>\n",
       "      <td>407630</td>\n",
       "    </tr>\n",
       "    <tr>\n",
       "      <th>...</th>\n",
       "      <td>...</td>\n",
       "      <td>...</td>\n",
       "    </tr>\n",
       "    <tr>\n",
       "      <th>46757</th>\n",
       "      <td>106976</td>\n",
       "      <td>321330</td>\n",
       "    </tr>\n",
       "    <tr>\n",
       "      <th>46757</th>\n",
       "      <td>106976</td>\n",
       "      <td>240306</td>\n",
       "    </tr>\n",
       "    <tr>\n",
       "      <th>46757</th>\n",
       "      <td>106976</td>\n",
       "      <td>216057</td>\n",
       "    </tr>\n",
       "    <tr>\n",
       "      <th>46757</th>\n",
       "      <td>106976</td>\n",
       "      <td>331098</td>\n",
       "    </tr>\n",
       "    <tr>\n",
       "      <th>46757</th>\n",
       "      <td>106976</td>\n",
       "      <td>179583</td>\n",
       "    </tr>\n",
       "  </tbody>\n",
       "</table>\n",
       "<p>1401859 rows × 2 columns</p>\n",
       "</div>"
      ],
      "text/plain": [
       "           id   songs\n",
       "0      117162  677632\n",
       "0      117162  309377\n",
       "0      117162  473793\n",
       "0      117162  179652\n",
       "0      117162  407630\n",
       "...       ...     ...\n",
       "46757  106976  321330\n",
       "46757  106976  240306\n",
       "46757  106976  216057\n",
       "46757  106976  331098\n",
       "46757  106976  179583\n",
       "\n",
       "[1401859 rows x 2 columns]"
      ]
     },
     "execution_count": 26,
     "metadata": {},
     "output_type": "execute_result"
    }
   ],
   "source": [
    "sip = playlists_cnt3.explode('songs')[['id', 'songs']]\n",
    "sip"
   ]
  },
  {
   "cell_type": "code",
   "execution_count": 36,
   "metadata": {},
   "outputs": [
    {
     "name": "stdout",
     "output_type": "stream",
     "text": [
      "True\n"
     ]
    }
   ],
   "source": [
    "# sip playlists_cnt3 id 비교\n",
    "print(list(sip['id']).sort() == list(playlists_cnt3['id']).sort())"
   ]
  },
  {
   "cell_type": "code",
   "execution_count": 44,
   "metadata": {},
   "outputs": [
    {
     "data": {
      "text/plain": [
       "True"
      ]
     },
     "execution_count": 44,
     "metadata": {},
     "output_type": "execute_result"
    }
   ],
   "source": [
    "sip_unique_sort = list(set(sip['id']))\n",
    "sip_unique_sort.sort()\n",
    "\n",
    "playlists_cnt3_unique_sort = list(set(playlists_cnt3['id']))\n",
    "playlists_cnt3_unique_sort.sort()\n",
    "\n",
    "sip_unique_sort == playlists_cnt3_unique_sort"
   ]
  },
  {
   "cell_type": "code",
   "execution_count": 50,
   "metadata": {},
   "outputs": [],
   "source": [
    "song_in_ply = sip.rename(columns={'id':'ply_id', 'songs':'song_id'})\n",
    "song_in_ply.reset_index(drop=True, inplace=True)"
   ]
  },
  {
   "cell_type": "code",
   "execution_count": 51,
   "metadata": {},
   "outputs": [
    {
     "data": {
      "text/html": [
       "<div>\n",
       "<style scoped>\n",
       "    .dataframe tbody tr th:only-of-type {\n",
       "        vertical-align: middle;\n",
       "    }\n",
       "\n",
       "    .dataframe tbody tr th {\n",
       "        vertical-align: top;\n",
       "    }\n",
       "\n",
       "    .dataframe thead th {\n",
       "        text-align: right;\n",
       "    }\n",
       "</style>\n",
       "<table border=\"1\" class=\"dataframe\">\n",
       "  <thead>\n",
       "    <tr style=\"text-align: right;\">\n",
       "      <th></th>\n",
       "      <th>ply_id</th>\n",
       "      <th>song_id</th>\n",
       "    </tr>\n",
       "  </thead>\n",
       "  <tbody>\n",
       "    <tr>\n",
       "      <th>0</th>\n",
       "      <td>117162</td>\n",
       "      <td>677632</td>\n",
       "    </tr>\n",
       "    <tr>\n",
       "      <th>1</th>\n",
       "      <td>117162</td>\n",
       "      <td>309377</td>\n",
       "    </tr>\n",
       "    <tr>\n",
       "      <th>2</th>\n",
       "      <td>117162</td>\n",
       "      <td>473793</td>\n",
       "    </tr>\n",
       "    <tr>\n",
       "      <th>3</th>\n",
       "      <td>117162</td>\n",
       "      <td>179652</td>\n",
       "    </tr>\n",
       "    <tr>\n",
       "      <th>4</th>\n",
       "      <td>117162</td>\n",
       "      <td>407630</td>\n",
       "    </tr>\n",
       "  </tbody>\n",
       "</table>\n",
       "</div>"
      ],
      "text/plain": [
       "   ply_id song_id\n",
       "0  117162  677632\n",
       "1  117162  309377\n",
       "2  117162  473793\n",
       "3  117162  179652\n",
       "4  117162  407630"
      ]
     },
     "execution_count": 51,
     "metadata": {},
     "output_type": "execute_result"
    }
   ],
   "source": [
    "song_in_ply.head()"
   ]
  },
  {
   "cell_type": "code",
   "execution_count": 55,
   "metadata": {},
   "outputs": [
    {
     "data": {
      "text/plain": [
       "False"
      ]
     },
     "execution_count": 55,
     "metadata": {},
     "output_type": "execute_result"
    }
   ],
   "source": [
    "# song_meta 와 비교\n",
    "song_in_ply_unique_sort = list(set(song_in_ply['song_id']))\n",
    "song_in_ply_unique_sort.sort()\n",
    "\n",
    "song_meta_unique_sort = list(set(song_meta['song_id']))\n",
    "song_meta_unique_sort.sort()\n",
    "\n",
    "song_in_ply_unique_sort == song_meta_unique_sort"
   ]
  },
  {
   "cell_type": "code",
   "execution_count": 56,
   "metadata": {},
   "outputs": [
    {
     "name": "stdout",
     "output_type": "stream",
     "text": [
      "<class 'pandas.core.frame.DataFrame'>\n",
      "RangeIndex: 703949 entries, 0 to 703948\n",
      "Data columns (total 4 columns):\n",
      " #   Column           Non-Null Count   Dtype \n",
      "---  ------           --------------   ----- \n",
      " 0   song_id          703949 non-null  int64 \n",
      " 1   song_name        703949 non-null  object\n",
      " 2   artist_name_lst  703949 non-null  object\n",
      " 3   song_gnr_lst     703949 non-null  object\n",
      "dtypes: int64(1), object(3)\n",
      "memory usage: 21.5+ MB\n"
     ]
    }
   ],
   "source": [
    "song_meta.info()"
   ]
  },
  {
   "cell_type": "code",
   "execution_count": 58,
   "metadata": {},
   "outputs": [
    {
     "data": {
      "text/plain": [
       "88178"
      ]
     },
     "execution_count": 58,
     "metadata": {},
     "output_type": "execute_result"
    }
   ],
   "source": [
    "song_in_ply['song_id'].nunique()"
   ]
  },
  {
   "cell_type": "code",
   "execution_count": 77,
   "metadata": {},
   "outputs": [
    {
     "data": {
      "text/plain": [
       "88178"
      ]
     },
     "execution_count": 77,
     "metadata": {},
     "output_type": "execute_result"
    }
   ],
   "source": [
    "# song_meta: song_in_ply에 있는 song_id만 남기기\n",
    "u_song_id = set(song_in_ply['song_id'])\n",
    "u_song_id = list(u_song_id)\n",
    "len(u_song_id)"
   ]
  },
  {
   "cell_type": "code",
   "execution_count": 67,
   "metadata": {},
   "outputs": [
    {
     "data": {
      "text/html": [
       "<div>\n",
       "<style scoped>\n",
       "    .dataframe tbody tr th:only-of-type {\n",
       "        vertical-align: middle;\n",
       "    }\n",
       "\n",
       "    .dataframe tbody tr th {\n",
       "        vertical-align: top;\n",
       "    }\n",
       "\n",
       "    .dataframe thead th {\n",
       "        text-align: right;\n",
       "    }\n",
       "</style>\n",
       "<table border=\"1\" class=\"dataframe\">\n",
       "  <thead>\n",
       "    <tr style=\"text-align: right;\">\n",
       "      <th></th>\n",
       "      <th>song_id</th>\n",
       "      <th>song_name</th>\n",
       "      <th>artist_name_lst</th>\n",
       "      <th>song_gnr_lst</th>\n",
       "    </tr>\n",
       "  </thead>\n",
       "  <tbody>\n",
       "    <tr>\n",
       "      <th>0</th>\n",
       "      <td>0</td>\n",
       "      <td>Feelings</td>\n",
       "      <td>[Various Artists]</td>\n",
       "      <td>[POP]</td>\n",
       "    </tr>\n",
       "    <tr>\n",
       "      <th>1</th>\n",
       "      <td>1</td>\n",
       "      <td>Bach : Partita No. 4 In D Major, BWV 828 - II....</td>\n",
       "      <td>[Murray Perahia]</td>\n",
       "      <td>[클래식]</td>\n",
       "    </tr>\n",
       "    <tr>\n",
       "      <th>2</th>\n",
       "      <td>2</td>\n",
       "      <td>Solsbury Hill (Remastered 2002)</td>\n",
       "      <td>[Peter Gabriel]</td>\n",
       "      <td>[POP]</td>\n",
       "    </tr>\n",
       "    <tr>\n",
       "      <th>3</th>\n",
       "      <td>3</td>\n",
       "      <td>Feeling Right (Everything Is Nice) (Feat. Popc...</td>\n",
       "      <td>[Matoma]</td>\n",
       "      <td>[일렉트로니카]</td>\n",
       "    </tr>\n",
       "    <tr>\n",
       "      <th>4</th>\n",
       "      <td>4</td>\n",
       "      <td>그남자 그여자</td>\n",
       "      <td>[Jude Law]</td>\n",
       "      <td>[뉴에이지]</td>\n",
       "    </tr>\n",
       "  </tbody>\n",
       "</table>\n",
       "</div>"
      ],
      "text/plain": [
       "   song_id                                          song_name  \\\n",
       "0        0                                           Feelings   \n",
       "1        1  Bach : Partita No. 4 In D Major, BWV 828 - II....   \n",
       "2        2                    Solsbury Hill (Remastered 2002)   \n",
       "3        3  Feeling Right (Everything Is Nice) (Feat. Popc...   \n",
       "4        4                                            그남자 그여자   \n",
       "\n",
       "     artist_name_lst song_gnr_lst  \n",
       "0  [Various Artists]        [POP]  \n",
       "1   [Murray Perahia]        [클래식]  \n",
       "2    [Peter Gabriel]        [POP]  \n",
       "3           [Matoma]     [일렉트로니카]  \n",
       "4         [Jude Law]       [뉴에이지]  "
      ]
     },
     "execution_count": 67,
     "metadata": {},
     "output_type": "execute_result"
    }
   ],
   "source": [
    "song_meta.head()"
   ]
  },
  {
   "cell_type": "code",
   "execution_count": 81,
   "metadata": {},
   "outputs": [
    {
     "name": "stdout",
     "output_type": "stream",
     "text": [
      "<class 'pandas.core.frame.DataFrame'>\n",
      "RangeIndex: 88178 entries, 0 to 88177\n",
      "Data columns (total 1 columns):\n",
      " #   Column   Non-Null Count  Dtype\n",
      "---  ------   --------------  -----\n",
      " 0   song_id  88178 non-null  int64\n",
      "dtypes: int64(1)\n",
      "memory usage: 689.0 KB\n"
     ]
    }
   ],
   "source": [
    "# merge\n",
    "u_song_id_df = pd.DataFrame(u_song_id, columns=['song_id'])\n",
    "u_song_id_df.info()"
   ]
  },
  {
   "cell_type": "code",
   "execution_count": 84,
   "metadata": {},
   "outputs": [],
   "source": [
    "last_song_meta = pd.merge(song_meta, u_song_id_df)"
   ]
  },
  {
   "cell_type": "code",
   "execution_count": 85,
   "metadata": {},
   "outputs": [
    {
     "data": {
      "text/html": [
       "<div>\n",
       "<style scoped>\n",
       "    .dataframe tbody tr th:only-of-type {\n",
       "        vertical-align: middle;\n",
       "    }\n",
       "\n",
       "    .dataframe tbody tr th {\n",
       "        vertical-align: top;\n",
       "    }\n",
       "\n",
       "    .dataframe thead th {\n",
       "        text-align: right;\n",
       "    }\n",
       "</style>\n",
       "<table border=\"1\" class=\"dataframe\">\n",
       "  <thead>\n",
       "    <tr style=\"text-align: right;\">\n",
       "      <th></th>\n",
       "      <th>song_id</th>\n",
       "      <th>song_name</th>\n",
       "      <th>artist_name_lst</th>\n",
       "      <th>song_gnr_lst</th>\n",
       "    </tr>\n",
       "  </thead>\n",
       "  <tbody>\n",
       "    <tr>\n",
       "      <th>0</th>\n",
       "      <td>3</td>\n",
       "      <td>Feeling Right (Everything Is Nice) (Feat. Popc...</td>\n",
       "      <td>[Matoma]</td>\n",
       "      <td>[일렉트로니카]</td>\n",
       "    </tr>\n",
       "    <tr>\n",
       "      <th>1</th>\n",
       "      <td>10</td>\n",
       "      <td>Hi (Heyoo)</td>\n",
       "      <td>[Miraa.]</td>\n",
       "      <td>[랩/힙합]</td>\n",
       "    </tr>\n",
       "    <tr>\n",
       "      <th>2</th>\n",
       "      <td>17</td>\n",
       "      <td>Girl Crush</td>\n",
       "      <td>[마마무 (Mamamoo)]</td>\n",
       "      <td>[아이돌, 댄스]</td>\n",
       "    </tr>\n",
       "    <tr>\n",
       "      <th>3</th>\n",
       "      <td>19</td>\n",
       "      <td>무얼 기다리나 (Feat. 조원선)</td>\n",
       "      <td>[이영훈]</td>\n",
       "      <td>[인디음악, 포크/블루스]</td>\n",
       "    </tr>\n",
       "    <tr>\n",
       "      <th>4</th>\n",
       "      <td>28</td>\n",
       "      <td>Paris Sera Toujours Paris</td>\n",
       "      <td>[Zaz]</td>\n",
       "      <td>[POP]</td>\n",
       "    </tr>\n",
       "    <tr>\n",
       "      <th>...</th>\n",
       "      <td>...</td>\n",
       "      <td>...</td>\n",
       "      <td>...</td>\n",
       "      <td>...</td>\n",
       "    </tr>\n",
       "    <tr>\n",
       "      <th>88173</th>\n",
       "      <td>707934</td>\n",
       "      <td>Falling</td>\n",
       "      <td>[HAIM]</td>\n",
       "      <td>[POP, 록/메탈]</td>\n",
       "    </tr>\n",
       "    <tr>\n",
       "      <th>88174</th>\n",
       "      <td>707949</td>\n",
       "      <td>나는 남자다</td>\n",
       "      <td>[김희재]</td>\n",
       "      <td>[성인가요]</td>\n",
       "    </tr>\n",
       "    <tr>\n",
       "      <th>88175</th>\n",
       "      <td>707965</td>\n",
       "      <td>Swim Good</td>\n",
       "      <td>[Frank Ocean]</td>\n",
       "      <td>[R&amp;B/Soul]</td>\n",
       "    </tr>\n",
       "    <tr>\n",
       "      <th>88176</th>\n",
       "      <td>707969</td>\n",
       "      <td>I Decide (Piano Remix)</td>\n",
       "      <td>[헤리티지(Heritage)]</td>\n",
       "      <td>[R&amp;B/Soul]</td>\n",
       "    </tr>\n",
       "    <tr>\n",
       "      <th>88177</th>\n",
       "      <td>707986</td>\n",
       "      <td>스치듯 안녕</td>\n",
       "      <td>[윤종신]</td>\n",
       "      <td>[발라드]</td>\n",
       "    </tr>\n",
       "  </tbody>\n",
       "</table>\n",
       "<p>88178 rows × 4 columns</p>\n",
       "</div>"
      ],
      "text/plain": [
       "       song_id                                          song_name  \\\n",
       "0            3  Feeling Right (Everything Is Nice) (Feat. Popc...   \n",
       "1           10                                         Hi (Heyoo)   \n",
       "2           17                                         Girl Crush   \n",
       "3           19                                무얼 기다리나 (Feat. 조원선)   \n",
       "4           28                          Paris Sera Toujours Paris   \n",
       "...        ...                                                ...   \n",
       "88173   707934                                            Falling   \n",
       "88174   707949                                             나는 남자다   \n",
       "88175   707965                                          Swim Good   \n",
       "88176   707969                             I Decide (Piano Remix)   \n",
       "88177   707986                                             스치듯 안녕   \n",
       "\n",
       "        artist_name_lst    song_gnr_lst  \n",
       "0              [Matoma]        [일렉트로니카]  \n",
       "1              [Miraa.]          [랩/힙합]  \n",
       "2       [마마무 (Mamamoo)]       [아이돌, 댄스]  \n",
       "3                 [이영훈]  [인디음악, 포크/블루스]  \n",
       "4                 [Zaz]           [POP]  \n",
       "...                 ...             ...  \n",
       "88173            [HAIM]     [POP, 록/메탈]  \n",
       "88174             [김희재]          [성인가요]  \n",
       "88175     [Frank Ocean]      [R&B/Soul]  \n",
       "88176  [헤리티지(Heritage)]      [R&B/Soul]  \n",
       "88177             [윤종신]           [발라드]  \n",
       "\n",
       "[88178 rows x 4 columns]"
      ]
     },
     "execution_count": 85,
     "metadata": {},
     "output_type": "execute_result"
    }
   ],
   "source": [
    "last_song_meta['song_id'] "
   ]
  },
  {
   "cell_type": "code",
   "execution_count": 86,
   "metadata": {},
   "outputs": [
    {
     "data": {
      "text/plain": [
       "True"
      ]
     },
     "execution_count": 86,
     "metadata": {},
     "output_type": "execute_result"
    }
   ],
   "source": [
    "# 비교\n",
    "lsm_u = list(set(last_song_meta['song_id']))\n",
    "lsm_u.sort()\n",
    "\n",
    "sip_u = list(set(song_in_ply['song_id']))\n",
    "sip_u.sort()\n",
    "\n",
    "lsm_u == sip_u"
   ]
  },
  {
   "cell_type": "code",
   "execution_count": 92,
   "metadata": {},
   "outputs": [],
   "source": [
    "# 저장\n",
    "ply_meta.to_json('./last_db_data/ply_meta.json')\n",
    "ply_title_embedding.to_json('./last_db_data/ply_title_embedding.json')\n",
    "last_song_meta.to_json('./last_db_data/last_song_meta.json')\n",
    "song_in_ply.to_json('./last_db_data/song_in_ply.json')"
   ]
  },
  {
   "cell_type": "code",
   "execution_count": 87,
   "metadata": {},
   "outputs": [
    {
     "name": "stdout",
     "output_type": "stream",
     "text": [
      "<class 'pandas.core.frame.DataFrame'>\n",
      "RangeIndex: 46758 entries, 0 to 46757\n",
      "Data columns (total 5 columns):\n",
      " #   Column        Non-Null Count  Dtype \n",
      "---  ------        --------------  ----- \n",
      " 0   ply_id        46758 non-null  int64 \n",
      " 1   ply_title     46758 non-null  object\n",
      " 2   ply_tag_lst   46758 non-null  object\n",
      " 3   ply_like_cnt  46758 non-null  int64 \n",
      " 4   ply_updt      46758 non-null  object\n",
      "dtypes: int64(2), object(3)\n",
      "memory usage: 1.8+ MB\n"
     ]
    }
   ],
   "source": [
    "ply_meta.info()"
   ]
  },
  {
   "cell_type": "code",
   "execution_count": 88,
   "metadata": {},
   "outputs": [
    {
     "name": "stdout",
     "output_type": "stream",
     "text": [
      "<class 'pandas.core.frame.DataFrame'>\n",
      "RangeIndex: 46758 entries, 0 to 46757\n",
      "Data columns (total 2 columns):\n",
      " #   Column         Non-Null Count  Dtype \n",
      "---  ------         --------------  ----- \n",
      " 0   ply_id         46758 non-null  int64 \n",
      " 1   ply_title_emd  46758 non-null  object\n",
      "dtypes: int64(1), object(1)\n",
      "memory usage: 730.7+ KB\n"
     ]
    }
   ],
   "source": [
    "ply_title_embedding.info()"
   ]
  },
  {
   "cell_type": "code",
   "execution_count": 89,
   "metadata": {},
   "outputs": [
    {
     "name": "stdout",
     "output_type": "stream",
     "text": [
      "<class 'pandas.core.frame.DataFrame'>\n",
      "Int64Index: 88178 entries, 0 to 88177\n",
      "Data columns (total 4 columns):\n",
      " #   Column           Non-Null Count  Dtype \n",
      "---  ------           --------------  ----- \n",
      " 0   song_id          88178 non-null  int64 \n",
      " 1   song_name        88178 non-null  object\n",
      " 2   artist_name_lst  88178 non-null  object\n",
      " 3   song_gnr_lst     88178 non-null  object\n",
      "dtypes: int64(1), object(3)\n",
      "memory usage: 3.4+ MB\n"
     ]
    }
   ],
   "source": [
    "last_song_meta.info()"
   ]
  },
  {
   "cell_type": "code",
   "execution_count": 91,
   "metadata": {},
   "outputs": [
    {
     "data": {
      "text/plain": [
       "88178"
      ]
     },
     "execution_count": 91,
     "metadata": {},
     "output_type": "execute_result"
    }
   ],
   "source": [
    "song_in_ply['song_id'].nunique()"
   ]
  },
  {
   "cell_type": "code",
   "execution_count": null,
   "metadata": {},
   "outputs": [],
   "source": []
  }
 ],
 "metadata": {
  "kernelspec": {
   "display_name": "base",
   "language": "python",
   "name": "python3"
  },
  "language_info": {
   "codemirror_mode": {
    "name": "ipython",
    "version": 3
   },
   "file_extension": ".py",
   "mimetype": "text/x-python",
   "name": "python",
   "nbconvert_exporter": "python",
   "pygments_lexer": "ipython3",
   "version": "3.11.5"
  },
  "orig_nbformat": 4
 },
 "nbformat": 4,
 "nbformat_minor": 2
}
