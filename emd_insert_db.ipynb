{
 "cells": [
  {
   "cell_type": "code",
   "execution_count": 1,
   "metadata": {},
   "outputs": [],
   "source": [
    "import numpy as np\n",
    "import pandas as pd\n",
    "from numpy import dot\n",
    "from numpy.linalg import norm\n",
    "from sentence_transformers import SentenceTransformer\n",
    "import pymysql"
   ]
  },
  {
   "cell_type": "code",
   "execution_count": 2,
   "metadata": {},
   "outputs": [],
   "source": [
    "model = SentenceTransformer('sentence-transformers/xlm-r-100langs-bert-base-nli-stsb-mean-tokens')"
   ]
  },
  {
   "cell_type": "code",
   "execution_count": 12,
   "metadata": {},
   "outputs": [],
   "source": [
    "# mysql 연동\n",
    "conn = pymysql.connect(host='127.0.0.1'\n",
    "                , port=3306\n",
    "                , user = 'root'\n",
    "                , password='root1234'\n",
    "                , db = 'finaldb'\n",
    "                , charset='utf8'\n",
    "                ) \n",
    "\n",
    "cur = conn.cursor()"
   ]
  },
  {
   "cell_type": "code",
   "execution_count": 18,
   "metadata": {},
   "outputs": [],
   "source": [
    "# 플리 id 리스트 만들어서 플리타이틀임베딩 데이터 프레임 생성\n",
    "cur.execute('SELECT ply_id FROM ply_meta')\n",
    "lst = cur.fetchall()\n",
    "\n",
    "ply_id_lst = []\n",
    "for i in range(len(lst)):\n",
    "    ply_id_lst.append(lst[i][0])\n",
    "\n",
    "ply_title_embedding = pd.DataFrame()\n",
    "ply_title_embedding['ply_id'] = ply_id_lst"
   ]
  },
  {
   "cell_type": "code",
   "execution_count": 20,
   "metadata": {},
   "outputs": [
    {
     "name": "stderr",
     "output_type": "stream",
     "text": [
      "C:\\Users\\k9942\\AppData\\Local\\Temp\\ipykernel_13072\\193671879.py:3: UserWarning: pandas only supports SQLAlchemy connectable (engine/connection) or database string URI or sqlite3 DBAPI2 connection. Other DBAPI2 objects are not tested. Please consider using SQLAlchemy.\n",
      "  ply_meta = pd.read_sql(ply_meta_sql, conn)\n"
     ]
    }
   ],
   "source": [
    "# 플리타이틀 임베딩 변환 후 db에 insert\n",
    "ply_meta_sql = 'SELECT * FROM ply_meta'\n",
    "ply_meta = pd.read_sql(ply_meta_sql, conn)\n",
    "\n",
    "ply_title_embedding['ply_title_emd'] = ply_meta.apply(lambda row: model.encode(row.ply_title), axis = 1) # 인코딩 코드\n",
    "\n",
    "# insert ply_title_embedding  table\n",
    "for i in range(len(ply_title_embedding)):\n",
    "    cur.execute(f'INSERT INTO ply_title_embedding (ply_id, ply_title_emd) VALUES \\\n",
    "                ({ply_title_embedding[\"ply_id\"][i]}, \"{ply_title_embedding[\"ply_title_emd\"][i]}\");')"
   ]
  },
  {
   "cell_type": "code",
   "execution_count": 21,
   "metadata": {},
   "outputs": [],
   "source": [
    "conn.commit()"
   ]
  },
  {
   "cell_type": "code",
   "execution_count": 22,
   "metadata": {},
   "outputs": [],
   "source": [
    "conn.close()"
   ]
  },
  {
   "cell_type": "code",
   "execution_count": null,
   "metadata": {},
   "outputs": [],
   "source": []
  }
 ],
 "metadata": {
  "kernelspec": {
   "display_name": "base",
   "language": "python",
   "name": "python3"
  },
  "language_info": {
   "codemirror_mode": {
    "name": "ipython",
    "version": 3
   },
   "file_extension": ".py",
   "mimetype": "text/x-python",
   "name": "python",
   "nbconvert_exporter": "python",
   "pygments_lexer": "ipython3",
   "version": "3.10.9"
  },
  "orig_nbformat": 4
 },
 "nbformat": 4,
 "nbformat_minor": 2
}
