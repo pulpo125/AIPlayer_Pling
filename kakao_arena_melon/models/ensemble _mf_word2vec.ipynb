{
 "metadata": {
  "language_info": {
   "codemirror_mode": {
    "name": "ipython",
    "version": 3
   },
   "file_extension": ".py",
   "mimetype": "text/x-python",
   "name": "python",
   "nbconvert_exporter": "python",
   "pygments_lexer": "ipython3",
   "version": "3.6.12-final"
  },
  "orig_nbformat": 2,
  "kernelspec": {
   "name": "tf2",
   "display_name": "tf2",
   "language": "python"
  }
 },
 "nbformat": 4,
 "nbformat_minor": 2,
 "cells": [
  {
   "cell_type": "code",
   "execution_count": 61,
   "metadata": {},
   "outputs": [],
   "source": [
    "import os, sys\n",
    "sys.path.append('..')\n",
    "from arena_util import remove_seen\n",
    "import pandas as pd\n",
    "from tqdm import tqdm"
   ]
  },
  {
   "cell_type": "code",
   "execution_count": 99,
   "metadata": {},
   "outputs": [],
   "source": [
    "\n",
    "mf = pd.read_json(\"../arena_data/results/results_mf.json\")\n",
    "w2v = pd.read_json(\"../arena_data/results/results_word2vec.json\")\n"
   ]
  },
  {
   "cell_type": "code",
   "execution_count": 102,
   "metadata": {},
   "outputs": [],
   "source": [
    "df = pd.DataFrame(columns = ['id', 'songs', 'tags'])\n"
   ]
  },
  {
   "cell_type": "code",
   "execution_count": 104,
   "metadata": {},
   "outputs": [],
   "source": [
    "df['id'] = w2v['id']"
   ]
  },
  {
   "cell_type": "code",
   "execution_count": 105,
   "metadata": {},
   "outputs": [
    {
     "output_type": "execute_result",
     "data": {
      "text/plain": [
       "           id songs tags\n",
       "0      118598   NaN  NaN\n",
       "1      131447   NaN  NaN\n",
       "2       51464   NaN  NaN\n",
       "3       45144   NaN  NaN\n",
       "4       79929   NaN  NaN\n",
       "...       ...   ...  ...\n",
       "23010  101722   NaN  NaN\n",
       "23011  122127   NaN  NaN\n",
       "23012   77438   NaN  NaN\n",
       "23013   36231   NaN  NaN\n",
       "23014   65189   NaN  NaN\n",
       "\n",
       "[23015 rows x 3 columns]"
      ],
      "text/html": "<div>\n<style scoped>\n    .dataframe tbody tr th:only-of-type {\n        vertical-align: middle;\n    }\n\n    .dataframe tbody tr th {\n        vertical-align: top;\n    }\n\n    .dataframe thead th {\n        text-align: right;\n    }\n</style>\n<table border=\"1\" class=\"dataframe\">\n  <thead>\n    <tr style=\"text-align: right;\">\n      <th></th>\n      <th>id</th>\n      <th>songs</th>\n      <th>tags</th>\n    </tr>\n  </thead>\n  <tbody>\n    <tr>\n      <th>0</th>\n      <td>118598</td>\n      <td>NaN</td>\n      <td>NaN</td>\n    </tr>\n    <tr>\n      <th>1</th>\n      <td>131447</td>\n      <td>NaN</td>\n      <td>NaN</td>\n    </tr>\n    <tr>\n      <th>2</th>\n      <td>51464</td>\n      <td>NaN</td>\n      <td>NaN</td>\n    </tr>\n    <tr>\n      <th>3</th>\n      <td>45144</td>\n      <td>NaN</td>\n      <td>NaN</td>\n    </tr>\n    <tr>\n      <th>4</th>\n      <td>79929</td>\n      <td>NaN</td>\n      <td>NaN</td>\n    </tr>\n    <tr>\n      <th>...</th>\n      <td>...</td>\n      <td>...</td>\n      <td>...</td>\n    </tr>\n    <tr>\n      <th>23010</th>\n      <td>101722</td>\n      <td>NaN</td>\n      <td>NaN</td>\n    </tr>\n    <tr>\n      <th>23011</th>\n      <td>122127</td>\n      <td>NaN</td>\n      <td>NaN</td>\n    </tr>\n    <tr>\n      <th>23012</th>\n      <td>77438</td>\n      <td>NaN</td>\n      <td>NaN</td>\n    </tr>\n    <tr>\n      <th>23013</th>\n      <td>36231</td>\n      <td>NaN</td>\n      <td>NaN</td>\n    </tr>\n    <tr>\n      <th>23014</th>\n      <td>65189</td>\n      <td>NaN</td>\n      <td>NaN</td>\n    </tr>\n  </tbody>\n</table>\n<p>23015 rows × 3 columns</p>\n</div>"
     },
     "metadata": {},
     "execution_count": 105
    }
   ],
   "source": [
    "df"
   ]
  },
  {
   "cell_type": "code",
   "execution_count": 106,
   "metadata": {
    "tags": []
   },
   "outputs": [
    {
     "output_type": "stream",
     "name": "stderr",
     "text": [
      "100%|██████████| 23015/23015 [00:44<00:00, 514.53it/s]\n"
     ]
    }
   ],
   "source": [
    "for i in tqdm(range(len(df))):\n",
    "    w2v_songs = w2v.loc[i]['songs'][:50]\n",
    "    w2v_tags = w2v.loc[i]['tags'][:5]\n",
    "    mf_songs = remove_seen(w2v_songs, mf.loc[i]['songs'])[:50]\n",
    "    mf_tags = remove_seen(w2v_tags, mf.loc[i]['tags'])[:5]\n",
    "    extra_songs = remove_seen(w2v_songs + mf_songs, w2v.loc[i]['songs'][50:])\n",
    "    extra_tags = remove_seen(w2v_tags + mf_tags, w2v.loc[i]['tags'][5:])\n",
    "\n",
    "    songs = (w2v_songs + mf_songs + extra_songs)[:100]\n",
    "    tags = (w2v_tags + mf_tags + extra_tags)[:10]\n",
    "    df['songs'].loc[i] = songs\n",
    "    df['tags'].loc[i] = tags\n",
    "    \n"
   ]
  },
  {
   "cell_type": "code",
   "execution_count": 107,
   "metadata": {},
   "outputs": [
    {
     "output_type": "execute_result",
     "data": {
      "text/plain": [
       "           id                                              songs  \\\n",
       "0      118598  [207912, 623047, 703323, 422438, 638488, 32221...   \n",
       "1      131447  [144663, 116573, 357367, 366786, 654757, 13314...   \n",
       "2       51464  [291080, 270647, 29532, 193610, 207722, 572932...   \n",
       "3       45144  [144663, 367963, 351888, 357367, 576186, 19533...   \n",
       "4       79929  [211220, 412769, 70314, 445299, 106129, 526037...   \n",
       "...       ...                                                ...   \n",
       "23010  101722  [116573, 473514, 366786, 169984, 42610, 13142,...   \n",
       "23011  122127  [352228, 48209, 138932, 630552, 473514, 4173, ...   \n",
       "23012   77438  [274504, 140867, 679436, 493762, 21125, 360062...   \n",
       "23013   36231  [548041, 50031, 699175, 46497, 236711, 399224,...   \n",
       "23014   65189  [457124, 250, 25012, 104065, 154929, 586556, 1...   \n",
       "\n",
       "                                                    tags  \n",
       "0         [OST, 디즈니, 애니메이션, 영화, 기분전환, 팝, 겨울, 추억, 휴식, 힐링]  \n",
       "1      [기분전환, 감성, 휴식, 발라드, 잔잔한, 지미맥길, 장르음악, r_lum_r, ...  \n",
       "2           [발라드, 슬픔, 이별, 추억, 회상, 설렘, 사랑, 잔잔한, 싸이월드, 가을]  \n",
       "3         [감성, 발라드, 사랑, 이별, 잔잔한, 기분전환, 카페, 드라이브, 새벽, 휴식]  \n",
       "4        [CCM, 찬양, 은혜, 예배, 교회, 사랑, 국내ccm, 은혜로운, 위로, 찬송가]  \n",
       "...                                                  ...  \n",
       "23010         [밤, 새벽, 추억, 회상, 이별, 발라드, 기분전환, 감성, 사랑, 휴식]  \n",
       "23011       [추억, 회상, 사랑, 힐링, 엄마, 휴식, 기분전환, 감성, 잔잔한, 발라드]  \n",
       "23012      [팝, 팝송, Pop, 기분전환, 드라이브, 휴식, 힐링, 감성, 잔잔한, 새벽]  \n",
       "23013     [클래식, 힐링, 피아노, 휴식, 조성진, 잔잔한, 팝, 추억, 기분전환, 올드팝]  \n",
       "23014      [봄, 벚꽃, 사랑, 봄노래, 설렘, 감성, 기분전환, 드라이브, 발라드, 카페]  \n",
       "\n",
       "[23015 rows x 3 columns]"
      ],
      "text/html": "<div>\n<style scoped>\n    .dataframe tbody tr th:only-of-type {\n        vertical-align: middle;\n    }\n\n    .dataframe tbody tr th {\n        vertical-align: top;\n    }\n\n    .dataframe thead th {\n        text-align: right;\n    }\n</style>\n<table border=\"1\" class=\"dataframe\">\n  <thead>\n    <tr style=\"text-align: right;\">\n      <th></th>\n      <th>id</th>\n      <th>songs</th>\n      <th>tags</th>\n    </tr>\n  </thead>\n  <tbody>\n    <tr>\n      <th>0</th>\n      <td>118598</td>\n      <td>[207912, 623047, 703323, 422438, 638488, 32221...</td>\n      <td>[OST, 디즈니, 애니메이션, 영화, 기분전환, 팝, 겨울, 추억, 휴식, 힐링]</td>\n    </tr>\n    <tr>\n      <th>1</th>\n      <td>131447</td>\n      <td>[144663, 116573, 357367, 366786, 654757, 13314...</td>\n      <td>[기분전환, 감성, 휴식, 발라드, 잔잔한, 지미맥길, 장르음악, r_lum_r, ...</td>\n    </tr>\n    <tr>\n      <th>2</th>\n      <td>51464</td>\n      <td>[291080, 270647, 29532, 193610, 207722, 572932...</td>\n      <td>[발라드, 슬픔, 이별, 추억, 회상, 설렘, 사랑, 잔잔한, 싸이월드, 가을]</td>\n    </tr>\n    <tr>\n      <th>3</th>\n      <td>45144</td>\n      <td>[144663, 367963, 351888, 357367, 576186, 19533...</td>\n      <td>[감성, 발라드, 사랑, 이별, 잔잔한, 기분전환, 카페, 드라이브, 새벽, 휴식]</td>\n    </tr>\n    <tr>\n      <th>4</th>\n      <td>79929</td>\n      <td>[211220, 412769, 70314, 445299, 106129, 526037...</td>\n      <td>[CCM, 찬양, 은혜, 예배, 교회, 사랑, 국내ccm, 은혜로운, 위로, 찬송가]</td>\n    </tr>\n    <tr>\n      <th>...</th>\n      <td>...</td>\n      <td>...</td>\n      <td>...</td>\n    </tr>\n    <tr>\n      <th>23010</th>\n      <td>101722</td>\n      <td>[116573, 473514, 366786, 169984, 42610, 13142,...</td>\n      <td>[밤, 새벽, 추억, 회상, 이별, 발라드, 기분전환, 감성, 사랑, 휴식]</td>\n    </tr>\n    <tr>\n      <th>23011</th>\n      <td>122127</td>\n      <td>[352228, 48209, 138932, 630552, 473514, 4173, ...</td>\n      <td>[추억, 회상, 사랑, 힐링, 엄마, 휴식, 기분전환, 감성, 잔잔한, 발라드]</td>\n    </tr>\n    <tr>\n      <th>23012</th>\n      <td>77438</td>\n      <td>[274504, 140867, 679436, 493762, 21125, 360062...</td>\n      <td>[팝, 팝송, Pop, 기분전환, 드라이브, 휴식, 힐링, 감성, 잔잔한, 새벽]</td>\n    </tr>\n    <tr>\n      <th>23013</th>\n      <td>36231</td>\n      <td>[548041, 50031, 699175, 46497, 236711, 399224,...</td>\n      <td>[클래식, 힐링, 피아노, 휴식, 조성진, 잔잔한, 팝, 추억, 기분전환, 올드팝]</td>\n    </tr>\n    <tr>\n      <th>23014</th>\n      <td>65189</td>\n      <td>[457124, 250, 25012, 104065, 154929, 586556, 1...</td>\n      <td>[봄, 벚꽃, 사랑, 봄노래, 설렘, 감성, 기분전환, 드라이브, 발라드, 카페]</td>\n    </tr>\n  </tbody>\n</table>\n<p>23015 rows × 3 columns</p>\n</div>"
     },
     "metadata": {},
     "execution_count": 107
    }
   ],
   "source": [
    "df"
   ]
  },
  {
   "cell_type": "code",
   "execution_count": 109,
   "metadata": {},
   "outputs": [],
   "source": [
    "df.to_json(\"../arena_data/results/results.json\", orient='records')"
   ]
  },
  {
   "cell_type": "code",
   "execution_count": null,
   "metadata": {},
   "outputs": [],
   "source": []
  }
 ]
}