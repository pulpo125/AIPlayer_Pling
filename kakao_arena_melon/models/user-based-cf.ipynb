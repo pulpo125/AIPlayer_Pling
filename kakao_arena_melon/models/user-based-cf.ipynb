{
  "nbformat": 4,
  "nbformat_minor": 0,
  "metadata": {
    "colab": {
      "name": "arena_collabo_upload",
      "provenance": [],
      "collapsed_sections": [],
      "toc_visible": true
    },
    "kernelspec": {
      "name": "python3",
      "display_name": "Python 3",
      "language": "python"
    },
    "accelerator": "GPU"
  },
  "cells": [
    {
      "cell_type": "markdown",
      "metadata": {
        "id": "8Nd5NnqsXuOF",
        "colab_type": "text"
      },
      "source": [
        "# 협업 필터링 (Collaborative filtering)"
      ]
    },
    {
      "cell_type": "code",
      "metadata": {
        "id": "An5xbNYG7hvq",
        "colab_type": "code",
        "colab": {}
      },
      "source": [
        "# arena_util.py\n",
        "# -*- coding: utf-8 -*-\n",
        "\n",
        "import io\n",
        "import os\n",
        "import json\n",
        "import distutils.dir_util\n",
        "from collections import Counter\n",
        "\n",
        "import numpy as np\n",
        "\n",
        "\n",
        "def write_json(data, fname):\n",
        "\n",
        "    def _conv(o):\n",
        "        if isinstance(o, np.int64) or isinstance(o, np.int32):\n",
        "            return int(o)\n",
        "        raise TypeError\n",
        "\n",
        "    parent = os.path.dirname(fname)\n",
        "    distutils.dir_util.mkpath(\"../arena_data/\" + parent)\n",
        "    with io.open(\"../arena_data/\" + fname, \"w\", encoding=\"utf8\") as f:\n",
        "        json_str = json.dumps(data, ensure_ascii=False, default=_conv)\n",
        "        f.write(json_str)\n",
        "\n",
        "\n",
        "def load_json(fname):\n",
        "    with open(fname, encoding='utf8') as f:\n",
        "        json_obj = json.load(f)\n",
        "\n",
        "    return json_obj\n",
        "\n",
        "\n",
        "def debug_json(r):\n",
        "    print(json.dumps(r, ensure_ascii=False, indent=4))\n",
        "\n"
      ],
      "execution_count": 55,
      "outputs": []
    },
    {
      "cell_type": "markdown",
      "metadata": {
        "id": "6wmjd7-uLQpI",
        "colab_type": "text"
      },
      "source": [
        "Custom evaluating (weak)"
      ]
    },
    {
      "cell_type": "code",
      "metadata": {
        "id": "YAVMoJinHq2D",
        "colab_type": "code",
        "colab": {}
      },
      "source": [
        "# evaluate.py\n",
        "# -*- coding: utf-8 -*-\n",
        "# import fire\n",
        "import numpy as np\n",
        "\n",
        "# from arena_util import load_json\n",
        "\n",
        "\n",
        "class CustomEvaluator:\n",
        "    def _idcg(self, l):\n",
        "        return sum((1.0 / np.log(i + 2) for i in range(l)))\n",
        "\n",
        "    def __init__(self):\n",
        "        self._idcgs = [self._idcg(i) for i in range(101)]\n",
        "\n",
        "    def _ndcg(self, gt, rec):\n",
        "        dcg = 0.0\n",
        "        for i, r in enumerate(rec):\n",
        "            if r in gt:\n",
        "                dcg += 1.0 / np.log(i + 2)\n",
        "\n",
        "        return dcg / self._idcgs[len(gt)]\n",
        "\n",
        "    def _eval(self, gt_fname, rec_fname):\n",
        "        gt_playlists = load_json(gt_fname)\n",
        "        gt_dict = {g[\"id\"]: g for g in gt_playlists}\n",
        "        rec_playlists = load_json(rec_fname)\n",
        "        \n",
        "        music_ndcg = 0.0\n",
        "        tag_ndcg = 0.0\n",
        "\n",
        "        for rec in rec_playlists:\n",
        "            gt = gt_dict[rec[\"id\"]]\n",
        "            music_ndcg += self._ndcg(gt[\"songs\"], rec[\"songs\"][:100])\n",
        "            tag_ndcg += self._ndcg(gt[\"tags\"], rec[\"tags\"][:10])\n",
        "\n",
        "        music_ndcg = music_ndcg / len(rec_playlists)\n",
        "        tag_ndcg = tag_ndcg / len(rec_playlists)\n",
        "        score = music_ndcg * 0.85 + tag_ndcg * 0.15\n",
        "\n",
        "        return music_ndcg, tag_ndcg, score\n",
        "\n",
        "    def evaluate(self, gt_fname, rec_fname):\n",
        "        try:\n",
        "            music_ndcg, tag_ndcg, score = self._eval(gt_fname, rec_fname)\n",
        "            print(f\"Music nDCG: {music_ndcg:.6}\")\n",
        "            print(f\"Tag nDCG: {tag_ndcg:.6}\")\n",
        "            print(f\"Score: {score:.6}\")\n",
        "        except Exception as e:\n",
        "            print(e)\n",
        "\n",
        "\n",
        "# if __name__ == \"__main__\":\n",
        "#     fire.Fire(ArenaEvaluator)\n"
      ],
      "execution_count": 56,
      "outputs": []
    },
    {
      "cell_type": "code",
      "metadata": {
        "id": "thW-afcIIrMF",
        "colab_type": "code",
        "colab": {}
      },
      "source": [
        "from collections import Counter\n",
        "\n",
        "import numpy as np\n",
        "import pandas as pd\n",
        "\n",
        "import scipy.sparse as spr\n",
        "import pickle"
      ],
      "execution_count": 57,
      "outputs": []
    },
    {
      "cell_type": "code",
      "metadata": {
        "id": "1J_GnztkIuTv",
        "colab_type": "code",
        "colab": {}
      },
      "source": [
        "path = '/Volumes/Seagate Backup Plus Drive/KIE/dataset/melon/'\n",
        "song_meta = pd.read_json(path + \"song_meta.json\")\n",
        "train = pd.read_json(path + \"train.json\")\n",
        "test = pd.read_json(path + \"val.json\")"
      ],
      "execution_count": 58,
      "outputs": []
    },
    {
      "cell_type": "code",
      "execution_count": null,
      "metadata": {},
      "outputs": [],
      "source": []
    },
    {
      "cell_type": "markdown",
      "metadata": {
        "id": "IP_p3we7Poyq",
        "colab_type": "text"
      },
      "source": [
        "playlist, song, tag의 id(각각 nid, sid, tid)를 새로 생성하는 이유는, 새로 생성할 id를 matrix의 row, column index로 사용할 것이기 때문입니다.\n",
        "\n",
        "- plylst_id_nid : playlist id -> nid\n",
        "- plylst_nid_id : playlist nid -> id\n",
        "- song_id_sid : song id -> sid\n",
        "- song_sid_id : song sid -> id\n",
        "- tag_id_tid : tag id -> tid\n",
        "- tag_tid_id : tag tid -> id\n",
        "- song_dict : song id -> count\n",
        "- tag_dict : tag id -> count"
      ]
    },
    {
      "cell_type": "code",
      "metadata": {
        "id": "AU1b8AwJJ5cR",
        "colab_type": "code",
        "colab": {}
      },
      "source": [
        "train['istrain'] = 1\n",
        "test['istrain'] = 0\n",
        "\n",
        "n_train = len(train)\n",
        "n_test = len(test)\n",
        "\n",
        "# train + test\n",
        "plylst = pd.concat([train, test], ignore_index=True)\n",
        "\n",
        "# playlist id\n",
        "plylst[\"nid\"] = range(n_train + n_test)\n",
        "\n",
        "# id <-> nid\n",
        "plylst_id_nid = dict(zip(plylst[\"id\"],plylst[\"nid\"]))\n",
        "plylst_nid_id = dict(zip(plylst[\"nid\"],plylst[\"id\"]))"
      ],
      "execution_count": 59,
      "outputs": []
    },
    {
      "cell_type": "code",
      "execution_count": 60,
      "metadata": {},
      "outputs": [
        {
          "output_type": "execute_result",
          "data": {
            "text/plain": [
              "                                                tags      id  \\\n",
              "0                                                [락]   61281   \n",
              "1                                           [추억, 회상]   10532   \n",
              "2                                          [까페, 잔잔한]   76951   \n",
              "3  [연말, 눈오는날, 캐럴, 분위기, 따듯한, 크리스마스캐럴, 겨울노래, 크리스마스,...  147456   \n",
              "4                                               [댄스]   27616   \n",
              "\n",
              "            plylst_title                                              songs  \\\n",
              "0                여행같은 음악  [525514, 129701, 383374, 562083, 297861, 13954...   \n",
              "1                요즘 너 말야  [432406, 675945, 497066, 120377, 389529, 24427...   \n",
              "2  편하게, 잔잔하게 들을 수 있는 곡.-  [83116, 276692, 166267, 186301, 354465, 256598...   \n",
              "3  크리스마스 분위기에 흠뻑 취하고 싶을때  [394031, 195524, 540149, 287984, 440773, 10033...   \n",
              "4               추억의 노래 ㅋ  [159327, 553610, 5130, 645103, 294435, 100657,...   \n",
              "\n",
              "   like_cnt                updt_date  istrain  nid  \n",
              "0        71  2013-12-19 18:36:19.000        1    0  \n",
              "1         1  2014-12-02 16:19:42.000        1    1  \n",
              "2        17  2017-08-28 07:09:34.000        1    2  \n",
              "3        33  2019-12-05 15:15:18.000        1    3  \n",
              "4         9  2011-10-25 13:54:56.000        1    4  "
            ],
            "text/html": "<div>\n<style scoped>\n    .dataframe tbody tr th:only-of-type {\n        vertical-align: middle;\n    }\n\n    .dataframe tbody tr th {\n        vertical-align: top;\n    }\n\n    .dataframe thead th {\n        text-align: right;\n    }\n</style>\n<table border=\"1\" class=\"dataframe\">\n  <thead>\n    <tr style=\"text-align: right;\">\n      <th></th>\n      <th>tags</th>\n      <th>id</th>\n      <th>plylst_title</th>\n      <th>songs</th>\n      <th>like_cnt</th>\n      <th>updt_date</th>\n      <th>istrain</th>\n      <th>nid</th>\n    </tr>\n  </thead>\n  <tbody>\n    <tr>\n      <th>0</th>\n      <td>[락]</td>\n      <td>61281</td>\n      <td>여행같은 음악</td>\n      <td>[525514, 129701, 383374, 562083, 297861, 13954...</td>\n      <td>71</td>\n      <td>2013-12-19 18:36:19.000</td>\n      <td>1</td>\n      <td>0</td>\n    </tr>\n    <tr>\n      <th>1</th>\n      <td>[추억, 회상]</td>\n      <td>10532</td>\n      <td>요즘 너 말야</td>\n      <td>[432406, 675945, 497066, 120377, 389529, 24427...</td>\n      <td>1</td>\n      <td>2014-12-02 16:19:42.000</td>\n      <td>1</td>\n      <td>1</td>\n    </tr>\n    <tr>\n      <th>2</th>\n      <td>[까페, 잔잔한]</td>\n      <td>76951</td>\n      <td>편하게, 잔잔하게 들을 수 있는 곡.-</td>\n      <td>[83116, 276692, 166267, 186301, 354465, 256598...</td>\n      <td>17</td>\n      <td>2017-08-28 07:09:34.000</td>\n      <td>1</td>\n      <td>2</td>\n    </tr>\n    <tr>\n      <th>3</th>\n      <td>[연말, 눈오는날, 캐럴, 분위기, 따듯한, 크리스마스캐럴, 겨울노래, 크리스마스,...</td>\n      <td>147456</td>\n      <td>크리스마스 분위기에 흠뻑 취하고 싶을때</td>\n      <td>[394031, 195524, 540149, 287984, 440773, 10033...</td>\n      <td>33</td>\n      <td>2019-12-05 15:15:18.000</td>\n      <td>1</td>\n      <td>3</td>\n    </tr>\n    <tr>\n      <th>4</th>\n      <td>[댄스]</td>\n      <td>27616</td>\n      <td>추억의 노래 ㅋ</td>\n      <td>[159327, 553610, 5130, 645103, 294435, 100657,...</td>\n      <td>9</td>\n      <td>2011-10-25 13:54:56.000</td>\n      <td>1</td>\n      <td>4</td>\n    </tr>\n  </tbody>\n</table>\n</div>"
          },
          "metadata": {},
          "execution_count": 60
        }
      ],
      "source": [
        "plylst.head()"
      ]
    },
    {
      "cell_type": "code",
      "metadata": {
        "id": "0pa3d4wYQpCZ",
        "colab_type": "code",
        "colab": {}
      },
      "source": [
        "plylst_tag = plylst['tags']\n",
        "tag_counter = Counter([tg for tgs in plylst_tag for tg in tgs])\n",
        "tag_dict = {x: tag_counter[x] for x in tag_counter}\n",
        "\n",
        "tag_id_tid = dict()\n",
        "tag_tid_id = dict()\n",
        "for i, t in enumerate(tag_dict):\n",
        "  tag_id_tid[t] = i\n",
        "  tag_tid_id[i] = t\n",
        "\n",
        "n_tags = len(tag_dict)\n",
        "\n",
        "plylst_song = plylst['songs']\n",
        "song_counter = Counter([sg for sgs in plylst_song for sg in sgs])\n",
        "song_dict = {x: song_counter[x] for x in song_counter}\n",
        "\n",
        "song_id_sid = dict()\n",
        "song_sid_id = dict()\n",
        "for i, t in enumerate(song_dict):\n",
        "  song_id_sid[t] = i\n",
        "  song_sid_id[i] = t\n",
        "\n",
        "n_songs = len(song_dict)"
      ],
      "execution_count": 61,
      "outputs": []
    },
    {
      "cell_type": "markdown",
      "metadata": {
        "id": "yasM1px9Rp9q",
        "colab_type": "text"
      },
      "source": [
        "plylst의 songs와 tags를 새로운 id로 변환하여 DataFrame에 추가합니다"
      ]
    },
    {
      "cell_type": "code",
      "metadata": {
        "id": "Bkd8EkxeTXMo",
        "colab_type": "code",
        "colab": {}
      },
      "source": [
        "plylst['songs_id'] = plylst['songs'].map(lambda x: [song_id_sid.get(s) for s in x if song_id_sid.get(s) != None])\n",
        "plylst['tags_id'] = plylst['tags'].map(lambda x: [tag_id_tid.get(t) for t in x if tag_id_tid.get(t) != None])"
      ],
      "execution_count": 62,
      "outputs": []
    },
    {
      "source": [
        "plylst.head()"
      ],
      "cell_type": "code",
      "metadata": {},
      "execution_count": 63,
      "outputs": [
        {
          "output_type": "execute_result",
          "data": {
            "text/plain": [
              "                                                tags      id  \\\n",
              "0                                                [락]   61281   \n",
              "1                                           [추억, 회상]   10532   \n",
              "2                                          [까페, 잔잔한]   76951   \n",
              "3  [연말, 눈오는날, 캐럴, 분위기, 따듯한, 크리스마스캐럴, 겨울노래, 크리스마스,...  147456   \n",
              "4                                               [댄스]   27616   \n",
              "\n",
              "            plylst_title                                              songs  \\\n",
              "0                여행같은 음악  [525514, 129701, 383374, 562083, 297861, 13954...   \n",
              "1                요즘 너 말야  [432406, 675945, 497066, 120377, 389529, 24427...   \n",
              "2  편하게, 잔잔하게 들을 수 있는 곡.-  [83116, 276692, 166267, 186301, 354465, 256598...   \n",
              "3  크리스마스 분위기에 흠뻑 취하고 싶을때  [394031, 195524, 540149, 287984, 440773, 10033...   \n",
              "4               추억의 노래 ㅋ  [159327, 553610, 5130, 645103, 294435, 100657,...   \n",
              "\n",
              "   like_cnt                updt_date  istrain  nid  \\\n",
              "0        71  2013-12-19 18:36:19.000        1    0   \n",
              "1         1  2014-12-02 16:19:42.000        1    1   \n",
              "2        17  2017-08-28 07:09:34.000        1    2   \n",
              "3        33  2019-12-05 15:15:18.000        1    3   \n",
              "4         9  2011-10-25 13:54:56.000        1    4   \n",
              "\n",
              "                                            songs_id  \\\n",
              "0  [0, 1, 2, 3, 4, 5, 6, 7, 8, 9, 10, 11, 12, 13,...   \n",
              "1  [19, 20, 21, 22, 23, 24, 25, 26, 27, 28, 29, 3...   \n",
              "2  [61, 62, 63, 64, 65, 66, 67, 68, 69, 70, 71, 7...   \n",
              "3  [89, 90, 91, 92, 93, 94, 95, 96, 97, 98, 99, 1...   \n",
              "4  [127, 128, 129, 130, 131, 132, 133, 134, 135, ...   \n",
              "\n",
              "                               tags_id  \n",
              "0                                  [0]  \n",
              "1                               [1, 2]  \n",
              "2                               [3, 4]  \n",
              "3  [5, 6, 7, 8, 9, 10, 11, 12, 13, 14]  \n",
              "4                                 [15]  "
            ],
            "text/html": "<div>\n<style scoped>\n    .dataframe tbody tr th:only-of-type {\n        vertical-align: middle;\n    }\n\n    .dataframe tbody tr th {\n        vertical-align: top;\n    }\n\n    .dataframe thead th {\n        text-align: right;\n    }\n</style>\n<table border=\"1\" class=\"dataframe\">\n  <thead>\n    <tr style=\"text-align: right;\">\n      <th></th>\n      <th>tags</th>\n      <th>id</th>\n      <th>plylst_title</th>\n      <th>songs</th>\n      <th>like_cnt</th>\n      <th>updt_date</th>\n      <th>istrain</th>\n      <th>nid</th>\n      <th>songs_id</th>\n      <th>tags_id</th>\n    </tr>\n  </thead>\n  <tbody>\n    <tr>\n      <th>0</th>\n      <td>[락]</td>\n      <td>61281</td>\n      <td>여행같은 음악</td>\n      <td>[525514, 129701, 383374, 562083, 297861, 13954...</td>\n      <td>71</td>\n      <td>2013-12-19 18:36:19.000</td>\n      <td>1</td>\n      <td>0</td>\n      <td>[0, 1, 2, 3, 4, 5, 6, 7, 8, 9, 10, 11, 12, 13,...</td>\n      <td>[0]</td>\n    </tr>\n    <tr>\n      <th>1</th>\n      <td>[추억, 회상]</td>\n      <td>10532</td>\n      <td>요즘 너 말야</td>\n      <td>[432406, 675945, 497066, 120377, 389529, 24427...</td>\n      <td>1</td>\n      <td>2014-12-02 16:19:42.000</td>\n      <td>1</td>\n      <td>1</td>\n      <td>[19, 20, 21, 22, 23, 24, 25, 26, 27, 28, 29, 3...</td>\n      <td>[1, 2]</td>\n    </tr>\n    <tr>\n      <th>2</th>\n      <td>[까페, 잔잔한]</td>\n      <td>76951</td>\n      <td>편하게, 잔잔하게 들을 수 있는 곡.-</td>\n      <td>[83116, 276692, 166267, 186301, 354465, 256598...</td>\n      <td>17</td>\n      <td>2017-08-28 07:09:34.000</td>\n      <td>1</td>\n      <td>2</td>\n      <td>[61, 62, 63, 64, 65, 66, 67, 68, 69, 70, 71, 7...</td>\n      <td>[3, 4]</td>\n    </tr>\n    <tr>\n      <th>3</th>\n      <td>[연말, 눈오는날, 캐럴, 분위기, 따듯한, 크리스마스캐럴, 겨울노래, 크리스마스,...</td>\n      <td>147456</td>\n      <td>크리스마스 분위기에 흠뻑 취하고 싶을때</td>\n      <td>[394031, 195524, 540149, 287984, 440773, 10033...</td>\n      <td>33</td>\n      <td>2019-12-05 15:15:18.000</td>\n      <td>1</td>\n      <td>3</td>\n      <td>[89, 90, 91, 92, 93, 94, 95, 96, 97, 98, 99, 1...</td>\n      <td>[5, 6, 7, 8, 9, 10, 11, 12, 13, 14]</td>\n    </tr>\n    <tr>\n      <th>4</th>\n      <td>[댄스]</td>\n      <td>27616</td>\n      <td>추억의 노래 ㅋ</td>\n      <td>[159327, 553610, 5130, 645103, 294435, 100657,...</td>\n      <td>9</td>\n      <td>2011-10-25 13:54:56.000</td>\n      <td>1</td>\n      <td>4</td>\n      <td>[127, 128, 129, 130, 131, 132, 133, 134, 135, ...</td>\n      <td>[15]</td>\n    </tr>\n  </tbody>\n</table>\n</div>"
          },
          "metadata": {},
          "execution_count": 63
        }
      ]
    },
    {
      "cell_type": "code",
      "metadata": {
        "id": "5OZHqvdZUWI-",
        "colab_type": "code",
        "colab": {}
      },
      "source": [
        "plylst_use = plylst[['istrain','nid','updt_date','songs_id','tags_id']]\n",
        "plylst_use.loc[:,'num_songs'] = plylst_use['songs_id'].map(len)\n",
        "plylst_use.loc[:,'num_tags'] = plylst_use['tags_id'].map(len)\n",
        "plylst_use = plylst_use.set_index('nid')"
      ],
      "execution_count": 64,
      "outputs": []
    },
    {
      "cell_type": "code",
      "execution_count": 65,
      "metadata": {},
      "outputs": [
        {
          "output_type": "execute_result",
          "data": {
            "text/plain": [
              "     istrain                updt_date  \\\n",
              "nid                                     \n",
              "0          1  2013-12-19 18:36:19.000   \n",
              "1          1  2014-12-02 16:19:42.000   \n",
              "2          1  2017-08-28 07:09:34.000   \n",
              "3          1  2019-12-05 15:15:18.000   \n",
              "4          1  2011-10-25 13:54:56.000   \n",
              "\n",
              "                                              songs_id  \\\n",
              "nid                                                      \n",
              "0    [0, 1, 2, 3, 4, 5, 6, 7, 8, 9, 10, 11, 12, 13,...   \n",
              "1    [19, 20, 21, 22, 23, 24, 25, 26, 27, 28, 29, 3...   \n",
              "2    [61, 62, 63, 64, 65, 66, 67, 68, 69, 70, 71, 7...   \n",
              "3    [89, 90, 91, 92, 93, 94, 95, 96, 97, 98, 99, 1...   \n",
              "4    [127, 128, 129, 130, 131, 132, 133, 134, 135, ...   \n",
              "\n",
              "                                 tags_id  num_songs  num_tags  \n",
              "nid                                                            \n",
              "0                                    [0]         19         1  \n",
              "1                                 [1, 2]         42         2  \n",
              "2                                 [3, 4]         28         2  \n",
              "3    [5, 6, 7, 8, 9, 10, 11, 12, 13, 14]         38        10  \n",
              "4                                   [15]         53         1  "
            ],
            "text/html": "<div>\n<style scoped>\n    .dataframe tbody tr th:only-of-type {\n        vertical-align: middle;\n    }\n\n    .dataframe tbody tr th {\n        vertical-align: top;\n    }\n\n    .dataframe thead th {\n        text-align: right;\n    }\n</style>\n<table border=\"1\" class=\"dataframe\">\n  <thead>\n    <tr style=\"text-align: right;\">\n      <th></th>\n      <th>istrain</th>\n      <th>updt_date</th>\n      <th>songs_id</th>\n      <th>tags_id</th>\n      <th>num_songs</th>\n      <th>num_tags</th>\n    </tr>\n    <tr>\n      <th>nid</th>\n      <th></th>\n      <th></th>\n      <th></th>\n      <th></th>\n      <th></th>\n      <th></th>\n    </tr>\n  </thead>\n  <tbody>\n    <tr>\n      <th>0</th>\n      <td>1</td>\n      <td>2013-12-19 18:36:19.000</td>\n      <td>[0, 1, 2, 3, 4, 5, 6, 7, 8, 9, 10, 11, 12, 13,...</td>\n      <td>[0]</td>\n      <td>19</td>\n      <td>1</td>\n    </tr>\n    <tr>\n      <th>1</th>\n      <td>1</td>\n      <td>2014-12-02 16:19:42.000</td>\n      <td>[19, 20, 21, 22, 23, 24, 25, 26, 27, 28, 29, 3...</td>\n      <td>[1, 2]</td>\n      <td>42</td>\n      <td>2</td>\n    </tr>\n    <tr>\n      <th>2</th>\n      <td>1</td>\n      <td>2017-08-28 07:09:34.000</td>\n      <td>[61, 62, 63, 64, 65, 66, 67, 68, 69, 70, 71, 7...</td>\n      <td>[3, 4]</td>\n      <td>28</td>\n      <td>2</td>\n    </tr>\n    <tr>\n      <th>3</th>\n      <td>1</td>\n      <td>2019-12-05 15:15:18.000</td>\n      <td>[89, 90, 91, 92, 93, 94, 95, 96, 97, 98, 99, 1...</td>\n      <td>[5, 6, 7, 8, 9, 10, 11, 12, 13, 14]</td>\n      <td>38</td>\n      <td>10</td>\n    </tr>\n    <tr>\n      <th>4</th>\n      <td>1</td>\n      <td>2011-10-25 13:54:56.000</td>\n      <td>[127, 128, 129, 130, 131, 132, 133, 134, 135, ...</td>\n      <td>[15]</td>\n      <td>53</td>\n      <td>1</td>\n    </tr>\n  </tbody>\n</table>\n</div>"
          },
          "metadata": {},
          "execution_count": 65
        }
      ],
      "source": [
        "plylst_use.head()"
      ]
    },
    {
      "cell_type": "code",
      "metadata": {
        "id": "VeKHBqPawcTA",
        "colab_type": "code",
        "colab": {}
      },
      "source": [
        "plylst_train = plylst_use.iloc[:n_train,:]\n",
        "plylst_test = plylst_use.iloc[n_train:,:]"
      ],
      "execution_count": 66,
      "outputs": []
    },
    {
      "cell_type": "markdown",
      "metadata": {
        "id": "z1OUOX5TXmI5",
        "colab_type": "text"
      },
      "source": [
        "test set에서 샘플 300개만 뽑아 테스트해봅니다."
      ]
    },
    {
      "cell_type": "code",
      "metadata": {
        "id": "vWsuvrTTooAF",
        "colab_type": "code",
        "colab": {}
      },
      "source": [
        "# sample test\n",
        "np.random.seed(33)\n",
        "n_sample = 300\n",
        "\n",
        "test = plylst_test.iloc[np.random.choice(range(n_test), n_sample, replace=False),:]\n",
        "\n",
        "# real test\n",
        "test = plylst_test\n",
        "print(len(test))"
      ],
      "execution_count": 76,
      "outputs": [
        {
          "output_type": "stream",
          "name": "stdout",
          "text": [
            "23015\n"
          ]
        }
      ]
    },
    {
      "cell_type": "code",
      "execution_count": 77,
      "metadata": {},
      "outputs": [
        {
          "output_type": "execute_result",
          "data": {
            "text/plain": [
              "        istrain                updt_date  \\\n",
              "nid                                        \n",
              "115071        0  2019-05-27 14:14:33.000   \n",
              "115072        0  2014-07-16 15:24:24.000   \n",
              "115073        0  2008-06-21 23:26:22.000   \n",
              "115074        0  2017-10-30 18:15:43.000   \n",
              "115075        0  2017-02-07 11:40:42.000   \n",
              "...         ...                      ...   \n",
              "138081        0  2015-12-17 14:06:05.000   \n",
              "138082        0  2020-04-16 21:35:44.000   \n",
              "138083        0  2019-03-27 15:27:40.000   \n",
              "138084        0  2015-11-18 11:49:09.000   \n",
              "138085        0  2017-04-23 16:50:58.000   \n",
              "\n",
              "                                                 songs_id  \\\n",
              "nid                                                         \n",
              "115071  [82770, 73350, 49850, 283466, 38811, 14654, 83...   \n",
              "115072                                                 []   \n",
              "115073  [42084, 86991, 615142, 615143, 66432, 191918, ...   \n",
              "115074  [19289, 156274, 92524, 5729, 9179, 4694, 3233,...   \n",
              "115075  [72186, 47442, 47461, 24939, 209259, 81164, 24...   \n",
              "...                                                   ...   \n",
              "138081  [5607, 1025, 9650, 543806, 1424, 7372, 2234, 2...   \n",
              "138082  [638333, 244876, 108022, 420983, 20258, 595078...   \n",
              "138083  [1435, 718, 2659, 2773, 1359, 8731, 696, 697, ...   \n",
              "138084  [3091, 308295, 428975, 80278, 35027, 234993, 8...   \n",
              "138085  [13816, 3775, 10500, 17947, 8519, 3783, 3795, ...   \n",
              "\n",
              "                               tags_id  num_songs  num_tags  \n",
              "nid                                                          \n",
              "115071                              []         27         0  \n",
              "115072                              []          0         0  \n",
              "115073                              []         14         0  \n",
              "115074                              []         17         0  \n",
              "115075                              []          8         0  \n",
              "...                                ...        ...       ...  \n",
              "138081                             [4]         48         1  \n",
              "138082  [11913, 335, 3162, 455, 23086]        100         5  \n",
              "138083                              []         12         0  \n",
              "138084                              []          9         0  \n",
              "138085                              []         20         0  \n",
              "\n",
              "[23015 rows x 6 columns]"
            ],
            "text/html": "<div>\n<style scoped>\n    .dataframe tbody tr th:only-of-type {\n        vertical-align: middle;\n    }\n\n    .dataframe tbody tr th {\n        vertical-align: top;\n    }\n\n    .dataframe thead th {\n        text-align: right;\n    }\n</style>\n<table border=\"1\" class=\"dataframe\">\n  <thead>\n    <tr style=\"text-align: right;\">\n      <th></th>\n      <th>istrain</th>\n      <th>updt_date</th>\n      <th>songs_id</th>\n      <th>tags_id</th>\n      <th>num_songs</th>\n      <th>num_tags</th>\n    </tr>\n    <tr>\n      <th>nid</th>\n      <th></th>\n      <th></th>\n      <th></th>\n      <th></th>\n      <th></th>\n      <th></th>\n    </tr>\n  </thead>\n  <tbody>\n    <tr>\n      <th>115071</th>\n      <td>0</td>\n      <td>2019-05-27 14:14:33.000</td>\n      <td>[82770, 73350, 49850, 283466, 38811, 14654, 83...</td>\n      <td>[]</td>\n      <td>27</td>\n      <td>0</td>\n    </tr>\n    <tr>\n      <th>115072</th>\n      <td>0</td>\n      <td>2014-07-16 15:24:24.000</td>\n      <td>[]</td>\n      <td>[]</td>\n      <td>0</td>\n      <td>0</td>\n    </tr>\n    <tr>\n      <th>115073</th>\n      <td>0</td>\n      <td>2008-06-21 23:26:22.000</td>\n      <td>[42084, 86991, 615142, 615143, 66432, 191918, ...</td>\n      <td>[]</td>\n      <td>14</td>\n      <td>0</td>\n    </tr>\n    <tr>\n      <th>115074</th>\n      <td>0</td>\n      <td>2017-10-30 18:15:43.000</td>\n      <td>[19289, 156274, 92524, 5729, 9179, 4694, 3233,...</td>\n      <td>[]</td>\n      <td>17</td>\n      <td>0</td>\n    </tr>\n    <tr>\n      <th>115075</th>\n      <td>0</td>\n      <td>2017-02-07 11:40:42.000</td>\n      <td>[72186, 47442, 47461, 24939, 209259, 81164, 24...</td>\n      <td>[]</td>\n      <td>8</td>\n      <td>0</td>\n    </tr>\n    <tr>\n      <th>...</th>\n      <td>...</td>\n      <td>...</td>\n      <td>...</td>\n      <td>...</td>\n      <td>...</td>\n      <td>...</td>\n    </tr>\n    <tr>\n      <th>138081</th>\n      <td>0</td>\n      <td>2015-12-17 14:06:05.000</td>\n      <td>[5607, 1025, 9650, 543806, 1424, 7372, 2234, 2...</td>\n      <td>[4]</td>\n      <td>48</td>\n      <td>1</td>\n    </tr>\n    <tr>\n      <th>138082</th>\n      <td>0</td>\n      <td>2020-04-16 21:35:44.000</td>\n      <td>[638333, 244876, 108022, 420983, 20258, 595078...</td>\n      <td>[11913, 335, 3162, 455, 23086]</td>\n      <td>100</td>\n      <td>5</td>\n    </tr>\n    <tr>\n      <th>138083</th>\n      <td>0</td>\n      <td>2019-03-27 15:27:40.000</td>\n      <td>[1435, 718, 2659, 2773, 1359, 8731, 696, 697, ...</td>\n      <td>[]</td>\n      <td>12</td>\n      <td>0</td>\n    </tr>\n    <tr>\n      <th>138084</th>\n      <td>0</td>\n      <td>2015-11-18 11:49:09.000</td>\n      <td>[3091, 308295, 428975, 80278, 35027, 234993, 8...</td>\n      <td>[]</td>\n      <td>9</td>\n      <td>0</td>\n    </tr>\n    <tr>\n      <th>138085</th>\n      <td>0</td>\n      <td>2017-04-23 16:50:58.000</td>\n      <td>[13816, 3775, 10500, 17947, 8519, 3783, 3795, ...</td>\n      <td>[]</td>\n      <td>20</td>\n      <td>0</td>\n    </tr>\n  </tbody>\n</table>\n<p>23015 rows × 6 columns</p>\n</div>"
          },
          "metadata": {},
          "execution_count": 77
        }
      ],
      "source": [
        "test"
      ]
    },
    {
      "cell_type": "markdown",
      "metadata": {
        "id": "MtsmQyJyjMFu",
        "colab_type": "text"
      },
      "source": [
        "row가 playlist(nid)이고 column이 item(sid or tid)인 sparse matrix A를 만듭니다."
      ]
    },
    {
      "cell_type": "code",
      "metadata": {
        "id": "n3Rz08Xown_e",
        "colab_type": "code",
        "colab": {}
      },
      "source": [
        "row = np.repeat(range(n_train), plylst_train['num_songs'])\n",
        "col = [song for songs in plylst_train['songs_id'] for song in songs]\n",
        "dat = np.repeat(1, plylst_train['num_songs'].sum())\n",
        "train_songs_A = spr.csr_matrix((dat, (row, col)), shape=(n_train, n_songs))\n",
        "\n",
        "row = np.repeat(range(n_train), plylst_train['num_tags'])\n",
        "col = [tag for tags in plylst_train['tags_id'] for tag in tags]\n",
        "dat = np.repeat(1, plylst_train['num_tags'].sum())\n",
        "train_tags_A = spr.csr_matrix((dat, (row, col)), shape=(n_train, n_tags))"
      ],
      "execution_count": 78,
      "outputs": []
    },
    {
      "cell_type": "code",
      "metadata": {
        "id": "7_QIIL2zCIzt",
        "colab_type": "code",
        "colab": {}
      },
      "source": [
        "train_songs_A_T = train_songs_A.T.tocsr()\n",
        "train_tags_A_T = train_tags_A.T.tocsr()"
      ],
      "execution_count": 79,
      "outputs": []
    },
    {
      "cell_type": "code",
      "metadata": {
        "id": "LNsuiuy-CQip",
        "colab_type": "code",
        "outputId": "e68705ad-f6a7-4eeb-d453-f59aba8d81b2",
        "colab": {
          "base_uri": "https://localhost:8080/",
          "height": 52
        }
      },
      "source": [
        "train_songs_A"
      ],
      "execution_count": 80,
      "outputs": [
        {
          "output_type": "execute_result",
          "data": {
            "text/plain": [
              "<115071x638336 sparse matrix of type '<class 'numpy.int64'>'\n",
              "\twith 5285871 stored elements in Compressed Sparse Row format>"
            ]
          },
          "metadata": {},
          "execution_count": 80
        }
      ]
    },
    {
      "cell_type": "code",
      "metadata": {
        "id": "hncUaaz9-ahN",
        "colab_type": "code",
        "colab": {}
      },
      "source": [
        "from tqdm import tqdm\n",
        "import os, sys\n",
        "sys.path.append('..')\n",
        "\n",
        "from arena_util import most_popular\n",
        "from arena_util import remove_seen\n",
        "\n",
        "train = load_json(path + 'train.json')\n",
        "_, song_mp = most_popular(train, \"songs\", 100)\n",
        "\n",
        "def rec(pids):\n",
        "  tt = 1\n",
        "\n",
        "  res = []\n",
        "\n",
        "  for pid in tqdm(pids):\n",
        "    p = np.zeros((n_songs,1))\n",
        "    p[test.loc[pid,'songs_id']] = 1\n",
        "\n",
        "    val = train_songs_A.dot(p).reshape(-1)\n",
        "\n",
        "    songs_already = test.loc[pid, \"songs_id\"]\n",
        "    tags_already = test.loc[pid, \"tags_id\"]\n",
        "\n",
        "    cand_song = train_songs_A_T.dot(val)\n",
        "    cand_song_idx = cand_song.reshape(-1).argsort()[-150:][::-1]\n",
        "\n",
        "    cand_song_idx = cand_song_idx[np.isin(cand_song_idx, songs_already) == False][:100]\n",
        "    rec_song_idx = [song_sid_id[i] for i in cand_song_idx]\n",
        "    rec_song_idx += remove_seen(rec_song_idx + songs_already, song_mp)\n",
        "    rec_song_idx = rec_song_idx[:100]\n",
        "\n",
        "    cand_tag = train_tags_A_T.dot(val)\n",
        "    cand_tag_idx = cand_tag.reshape(-1).argsort()[-15:][::-1]\n",
        "\n",
        "    cand_tag_idx = cand_tag_idx[np.isin(cand_tag_idx, tags_already) == False][:10]\n",
        "    rec_tag_idx = [tag_tid_id[i] for i in cand_tag_idx]\n",
        "\n",
        "    res.append({\n",
        "                \"id\": plylst_nid_id[pid],\n",
        "                \"songs\": rec_song_idx,\n",
        "                \"tags\": rec_tag_idx\n",
        "            })\n",
        "    \n",
        "    if tt % 1000 == 0:\n",
        "      print(tt)\n",
        "\n",
        "    tt += 1\n",
        "  return res"
      ],
      "execution_count": 193,
      "outputs": []
    },
    {
      "cell_type": "code",
      "metadata": {
        "id": "UxfbdCynkN0j",
        "colab_type": "code",
        "colab": {}
      },
      "source": [
        "answers = rec(test.index)"
      ],
      "execution_count": 194,
      "outputs": [
        {
          "output_type": "stream",
          "name": "stderr",
          "text": [
            "  4%|▍         | 1002/23015 [01:36<34:24, 10.66it/s]1000\n",
            "  9%|▊         | 2002/23015 [03:15<33:20, 10.50it/s]2000\n",
            " 13%|█▎        | 3002/23015 [04:48<31:12, 10.69it/s]3000\n",
            " 17%|█▋        | 4000/23015 [06:24<31:02, 10.21it/s]4000\n",
            " 22%|██▏       | 5001/23015 [07:57<27:05, 11.08it/s]5000\n",
            " 26%|██▌       | 6001/23015 [09:33<27:03, 10.48it/s]6000\n",
            " 30%|███       | 7002/23015 [11:08<24:21, 10.96it/s]7000\n",
            " 35%|███▍      | 8002/23015 [12:45<23:16, 10.75it/s]8000\n",
            " 39%|███▉      | 9002/23015 [14:20<22:03, 10.59it/s]9000\n",
            " 43%|████▎     | 10001/23015 [15:54<21:36, 10.04it/s]10000\n",
            " 48%|████▊     | 11002/23015 [17:30<19:11, 10.43it/s]11000\n",
            " 52%|█████▏    | 12001/23015 [19:07<17:37, 10.41it/s]12000\n",
            " 56%|█████▋    | 13001/23015 [20:40<19:10,  8.71it/s]13000\n",
            " 61%|██████    | 14000/23015 [22:16<14:56, 10.05it/s]14000\n",
            " 65%|██████▌   | 15002/23015 [23:54<13:24,  9.95it/s]15000\n",
            " 70%|██████▉   | 16001/23015 [25:32<10:34, 11.05it/s]16000\n",
            " 74%|███████▍  | 17002/23015 [27:04<09:07, 10.98it/s]17000\n",
            " 78%|███████▊  | 18002/23015 [28:33<07:33, 11.07it/s]18000\n",
            " 83%|████████▎ | 19002/23015 [30:03<05:58, 11.20it/s]19000\n",
            " 87%|████████▋ | 20002/23015 [31:31<04:24, 11.40it/s]20000\n",
            " 91%|█████████▏| 21002/23015 [33:00<02:56, 11.39it/s]21000\n",
            " 96%|█████████▌| 22001/23015 [34:29<01:31, 11.04it/s]22000\n",
            "100%|█████████▉| 23001/23015 [35:58<00:01, 10.76it/s]23000\n",
            "100%|██████████| 23015/23015 [35:59<00:00, 10.66it/s]\n"
          ]
        }
      ]
    },
    {
      "cell_type": "code",
      "execution_count": 195,
      "metadata": {},
      "outputs": [],
      "source": [
        "\n",
        "write_json(answers, \"results/results.json\")"
      ]
    },
    {
      "cell_type": "code",
      "execution_count": 128,
      "metadata": {},
      "outputs": [],
      "source": [
        "tmp = answers"
      ]
    },
    {
      "cell_type": "code",
      "execution_count": 141,
      "metadata": {},
      "outputs": [
        {
          "output_type": "error",
          "ename": "TypeError",
          "evalue": "list indices must be integers or slices, not str",
          "traceback": [
            "\u001b[0;31m---------------------------------------------------------------------------\u001b[0m",
            "\u001b[0;31mTypeError\u001b[0m                                 Traceback (most recent call last)",
            "\u001b[0;32m<ipython-input-141-f093c6450a2a>\u001b[0m in \u001b[0;36m<module>\u001b[0;34m\u001b[0m\n\u001b[1;32m      1\u001b[0m \u001b[0;32mfor\u001b[0m \u001b[0midx\u001b[0m\u001b[0;34m,\u001b[0m \u001b[0manswer\u001b[0m \u001b[0;32min\u001b[0m \u001b[0menumerate\u001b[0m\u001b[0;34m(\u001b[0m\u001b[0mtmp\u001b[0m\u001b[0;34m)\u001b[0m\u001b[0;34m:\u001b[0m\u001b[0;34m\u001b[0m\u001b[0;34m\u001b[0m\u001b[0m\n\u001b[0;32m----> 2\u001b[0;31m     \u001b[0manswer\u001b[0m \u001b[0;34m=\u001b[0m \u001b[0manswer\u001b[0m\u001b[0;34m[\u001b[0m\u001b[0;34m'songs'\u001b[0m\u001b[0;34m]\u001b[0m \u001b[0;34m+\u001b[0m \u001b[0msong_mp\u001b[0m\u001b[0;34m\u001b[0m\u001b[0;34m\u001b[0m\u001b[0m\n\u001b[0m\u001b[1;32m      3\u001b[0m     \u001b[0mtmp\u001b[0m\u001b[0;34m[\u001b[0m\u001b[0midx\u001b[0m\u001b[0;34m]\u001b[0m\u001b[0;34m[\u001b[0m\u001b[0;34m'songs'\u001b[0m\u001b[0;34m]\u001b[0m \u001b[0;34m=\u001b[0m \u001b[0manswer\u001b[0m\u001b[0;34m[\u001b[0m\u001b[0;34m:\u001b[0m\u001b[0;36m100\u001b[0m\u001b[0;34m]\u001b[0m\u001b[0;34m\u001b[0m\u001b[0;34m\u001b[0m\u001b[0m\n",
            "\u001b[0;31mTypeError\u001b[0m: list indices must be integers or slices, not str"
          ]
        }
      ],
      "source": [
        "for idx, answer in enumerate(tmp):\n",
        "    answer = answer['songs'] + song_mp\n",
        "    tmp[idx]['songs'] = answer[:100]"
      ]
    },
    {
      "cell_type": "code",
      "metadata": {
        "id": "5u8ehmbhCtm0",
        "colab_type": "code",
        "colab": {}
      },
      "source": [
        "write_json(answers, \"results/results.json\")"
      ],
      "execution_count": 135,
      "outputs": []
    },
    {
      "cell_type": "code",
      "metadata": {
        "id": "i_iddRS7tRBe",
        "colab_type": "code",
        "outputId": "a09499eb-7bf5-4cf4-89ca-238445412934",
        "colab": {
          "base_uri": "https://localhost:8080/",
          "height": 70
        }
      },
      "source": [
        "evaluator = CustomEvaluator()\n",
        "evaluator.evaluate(\"../arena_data/answers/val.json\", \"../arena_data/results/results.json\")"
      ],
      "execution_count": 54,
      "outputs": [
        {
          "output_type": "stream",
          "name": "stdout",
          "text": [
            "28228\n"
          ]
        }
      ]
    },
    {
      "cell_type": "code",
      "execution_count": 154,
      "metadata": {},
      "outputs": [],
      "source": [
        "a = pd.read_json(\"../arena_data/results/tmp_results.json\")"
      ]
    },
    {
      "cell_type": "code",
      "execution_count": 184,
      "metadata": {
        "tags": []
      },
      "outputs": [],
      "source": [
        "arr = []\n",
        "for i in range(len(a)):\n",
        "    tmp = a.loc[i]['songs'][0]\n",
        "    a.loc[i]['songs'] = list(set(tmp))\n",
        "\n",
        "    "
      ]
    },
    {
      "cell_type": "code",
      "execution_count": 189,
      "metadata": {},
      "outputs": [],
      "source": [
        "a['songs'] = a['songs'].apply(lambda x : list(set(x[0]))[:100])"
      ]
    },
    {
      "cell_type": "code",
      "execution_count": 192,
      "metadata": {},
      "outputs": [],
      "source": [
        "a.to_json(\"../arena_data/results/results.json\", orient='records')"
      ]
    },
    {
      "cell_type": "code",
      "execution_count": 191,
      "metadata": {},
      "outputs": [
        {
          "output_type": "stream",
          "name": "stdout",
          "text": [
            "100\n"
          ]
        }
      ],
      "source": [
        "print(len(a.loc[0]['songs']))"
      ]
    },
    {
      "cell_type": "code",
      "execution_count": 190,
      "metadata": {},
      "outputs": [
        {
          "output_type": "execute_result",
          "data": {
            "text/plain": [
              "           id                                              songs  \\\n",
              "0      118598  [585728, 169984, 422915, 21512, 476680, 680970...   \n",
              "1      131447  [169984, 422915, 434694, 341513, 639501, 46615...   \n",
              "2       51464  [585216, 442368, 169984, 422915, 687110, 47258...   \n",
              "3       45144  [169984, 683520, 422915, 118788, 628232, 34151...   \n",
              "4       79929  [412672, 169984, 642051, 494083, 342021, 66919...   \n",
              "...       ...                                                ...   \n",
              "23010  101722  [169984, 422915, 341513, 133143, 261659, 39682...   \n",
              "23011  122127  [169984, 422915, 413189, 341513, 549392, 13314...   \n",
              "23012   77438  [169984, 422915, 380423, 476680, 341513, 67943...   \n",
              "23013   36231  [169984, 422915, 166405, 525830, 269830, 34151...   \n",
              "23014   65189  [585216, 169984, 283138, 422915, 8710, 628232,...   \n",
              "\n",
              "                                                    tags  \n",
              "0         [OST, 기분전환, 디즈니, 애니메이션, 영화, 팝, 겨울, 추억, 휴식, 힐링]  \n",
              "1      [지미맥길, 장르음악, r_lum_r, honne, 네오라인, NAO, 국힙알엔비,...  \n",
              "2           [발라드, 추억, 회상, 이별, 슬픔, 설렘, 사랑, 잔잔한, 싸이월드, 가을]  \n",
              "3         [발라드, 감성, 이별, 기분전환, 사랑, 카페, 드라이브, 잔잔한, 새벽, 휴식]  \n",
              "4        [CCM, 찬양, 은혜, 사랑, 예배, 국내ccm, 은혜로운, 위로, 찬송가, 교회]  \n",
              "...                                                  ...  \n",
              "23010       [발라드, 기분전환, 감성, 사랑, 이별, 새벽, 휴식, 밤, 추억, 드라이브]  \n",
              "23011        [힐링, 휴식, 기분전환, 감성, 잔잔한, 발라드, 새벽, 사랑, 밤, 추억]  \n",
              "23012      [기분전환, 팝, 드라이브, 휴식, 힐링, 감성, Pop, 잔잔한, 팝송, 새벽]  \n",
              "23013      [클래식, 휴식, 힐링, 잔잔한, 팝, 추억, 기분전환, 올드팝, 감성, 피아노]  \n",
              "23014       [봄, 사랑, 감성, 기분전환, 드라이브, 설렘, 발라드, 카페, 휴식, 힐링]  \n",
              "\n",
              "[23015 rows x 3 columns]"
            ],
            "text/html": "<div>\n<style scoped>\n    .dataframe tbody tr th:only-of-type {\n        vertical-align: middle;\n    }\n\n    .dataframe tbody tr th {\n        vertical-align: top;\n    }\n\n    .dataframe thead th {\n        text-align: right;\n    }\n</style>\n<table border=\"1\" class=\"dataframe\">\n  <thead>\n    <tr style=\"text-align: right;\">\n      <th></th>\n      <th>id</th>\n      <th>songs</th>\n      <th>tags</th>\n    </tr>\n  </thead>\n  <tbody>\n    <tr>\n      <th>0</th>\n      <td>118598</td>\n      <td>[585728, 169984, 422915, 21512, 476680, 680970...</td>\n      <td>[OST, 기분전환, 디즈니, 애니메이션, 영화, 팝, 겨울, 추억, 휴식, 힐링]</td>\n    </tr>\n    <tr>\n      <th>1</th>\n      <td>131447</td>\n      <td>[169984, 422915, 434694, 341513, 639501, 46615...</td>\n      <td>[지미맥길, 장르음악, r_lum_r, honne, 네오라인, NAO, 국힙알엔비,...</td>\n    </tr>\n    <tr>\n      <th>2</th>\n      <td>51464</td>\n      <td>[585216, 442368, 169984, 422915, 687110, 47258...</td>\n      <td>[발라드, 추억, 회상, 이별, 슬픔, 설렘, 사랑, 잔잔한, 싸이월드, 가을]</td>\n    </tr>\n    <tr>\n      <th>3</th>\n      <td>45144</td>\n      <td>[169984, 683520, 422915, 118788, 628232, 34151...</td>\n      <td>[발라드, 감성, 이별, 기분전환, 사랑, 카페, 드라이브, 잔잔한, 새벽, 휴식]</td>\n    </tr>\n    <tr>\n      <th>4</th>\n      <td>79929</td>\n      <td>[412672, 169984, 642051, 494083, 342021, 66919...</td>\n      <td>[CCM, 찬양, 은혜, 사랑, 예배, 국내ccm, 은혜로운, 위로, 찬송가, 교회]</td>\n    </tr>\n    <tr>\n      <th>...</th>\n      <td>...</td>\n      <td>...</td>\n      <td>...</td>\n    </tr>\n    <tr>\n      <th>23010</th>\n      <td>101722</td>\n      <td>[169984, 422915, 341513, 133143, 261659, 39682...</td>\n      <td>[발라드, 기분전환, 감성, 사랑, 이별, 새벽, 휴식, 밤, 추억, 드라이브]</td>\n    </tr>\n    <tr>\n      <th>23011</th>\n      <td>122127</td>\n      <td>[169984, 422915, 413189, 341513, 549392, 13314...</td>\n      <td>[힐링, 휴식, 기분전환, 감성, 잔잔한, 발라드, 새벽, 사랑, 밤, 추억]</td>\n    </tr>\n    <tr>\n      <th>23012</th>\n      <td>77438</td>\n      <td>[169984, 422915, 380423, 476680, 341513, 67943...</td>\n      <td>[기분전환, 팝, 드라이브, 휴식, 힐링, 감성, Pop, 잔잔한, 팝송, 새벽]</td>\n    </tr>\n    <tr>\n      <th>23013</th>\n      <td>36231</td>\n      <td>[169984, 422915, 166405, 525830, 269830, 34151...</td>\n      <td>[클래식, 휴식, 힐링, 잔잔한, 팝, 추억, 기분전환, 올드팝, 감성, 피아노]</td>\n    </tr>\n    <tr>\n      <th>23014</th>\n      <td>65189</td>\n      <td>[585216, 169984, 283138, 422915, 8710, 628232,...</td>\n      <td>[봄, 사랑, 감성, 기분전환, 드라이브, 설렘, 발라드, 카페, 휴식, 힐링]</td>\n    </tr>\n  </tbody>\n</table>\n<p>23015 rows × 3 columns</p>\n</div>"
          },
          "metadata": {},
          "execution_count": 190
        }
      ],
      "source": [
        "a"
      ]
    },
    {
      "cell_type": "code",
      "execution_count": null,
      "metadata": {},
      "outputs": [],
      "source": []
    }
  ]
}