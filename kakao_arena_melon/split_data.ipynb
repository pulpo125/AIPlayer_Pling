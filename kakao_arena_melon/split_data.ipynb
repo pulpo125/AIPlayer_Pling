{
 "cells": [
  {
   "cell_type": "markdown",
   "metadata": {},
   "source": [
    "## split_data code 분석"
   ]
  },
  {
   "cell_type": "code",
   "execution_count": 1,
   "metadata": {},
   "outputs": [],
   "source": [
    "import copy\n",
    "import random\n",
    "\n",
    "import fire\n",
    "import numpy as np\n",
    "\n",
    "from arena_util import load_json\n",
    "from arena_util import write_json"
   ]
  },
  {
   "cell_type": "markdown",
   "metadata": {},
   "source": [
    "### dataset load"
   ]
  },
  {
   "cell_type": "code",
   "execution_count": 3,
   "metadata": {},
   "outputs": [
    {
     "name": "stdout",
     "output_type": "stream",
     "text": [
      "Reading data...\n",
      "\n",
      "Total playlists: 115071\n"
     ]
    }
   ],
   "source": [
    "print(\"Reading data...\\n\")\n",
    "playlists = load_json('res/train.json')\n",
    "random.shuffle(playlists)\n",
    "print(f\"Total playlists: {len(playlists)}\")"
   ]
  },
  {
   "cell_type": "code",
   "execution_count": 4,
   "metadata": {},
   "outputs": [],
   "source": [
    "tot = len(playlists)\n",
    "# train:val = 8:2\n",
    "train = playlists[:int(tot*0.80)]\n",
    "val = playlists[int(tot*0.80):]"
   ]
  },
  {
   "cell_type": "code",
   "execution_count": 5,
   "metadata": {},
   "outputs": [
    {
     "name": "stdout",
     "output_type": "stream",
     "text": [
      "Original train...\n",
      "Original val...\n"
     ]
    }
   ],
   "source": [
    "print(\"Original train...\")\n",
    "write_json(train, \"orig/train.json\")\n",
    "print(\"Original val...\")\n",
    "write_json(val, \"orig/val.json\")"
   ]
  },
  {
   "cell_type": "markdown",
   "metadata": {},
   "source": [
    "### masking"
   ]
  },
  {
   "cell_type": "code",
   "execution_count": 6,
   "metadata": {},
   "outputs": [],
   "source": [
    "# 객체 복사\n",
    "playlists = copy.deepcopy(playlists)\n",
    "tot = len(playlists)"
   ]
  },
  {
   "cell_type": "code",
   "execution_count": 7,
   "metadata": {},
   "outputs": [],
   "source": [
    "# playlists 전체를 4개의 part로 구분해서 각각 다르게 전처리\n",
    "song_only = playlists[:int(tot * 0.3)]\n",
    "song_and_tags = playlists[int(tot * 0.3):int(tot * 0.8)]\n",
    "tags_only = playlists[int(tot * 0.8):int(tot * 0.95)]\n",
    "title_only = playlists[int(tot * 0.95):]"
   ]
  },
  {
   "cell_type": "code",
   "execution_count": 8,
   "metadata": {},
   "outputs": [
    {
     "name": "stdout",
     "output_type": "stream",
     "text": [
      "Total: 115071, Song only: 34521, Song & Tags: 57535, Tags only: 17261, Title only: 5754\n"
     ]
    }
   ],
   "source": [
    "# 4개 part별 확인\n",
    "print(f\"Total: {len(playlists)}, \"\n",
    "        f\"Song only: {len(song_only)}, \"\n",
    "        f\"Song & Tags: {len(song_and_tags)}, \"\n",
    "        f\"Tags only: {len(tags_only)}, \"\n",
    "        f\"Title only: {len(title_only)}\")"
   ]
  },
  {
   "cell_type": "markdown",
   "metadata": {},
   "source": [
    "#### masking 함수"
   ]
  },
  {
   "cell_type": "code",
   "execution_count": 9,
   "metadata": {},
   "outputs": [],
   "source": [
    "def mask(playlists, mask_cols, del_cols):\n",
    "    q_pl = copy.deepcopy(playlists)\n",
    "    a_pl = copy.deepcopy(playlists)\n",
    "\n",
    "    for i in range(len(playlists)):\n",
    "        for del_col in del_cols:\n",
    "            q_pl[i][del_col] = []\n",
    "            if del_col == 'songs':\n",
    "                a_pl[i][del_col] = a_pl[i][del_col][:100]\n",
    "            elif del_col == 'tags':\n",
    "                a_pl[i][del_col] = a_pl[i][del_col][:10]\n",
    "\n",
    "        for col in mask_cols:\n",
    "            mask_len = len(playlists[i][col])\n",
    "            mask = np.full(mask_len, False)\n",
    "            mask[:mask_len//2] = True\n",
    "            np.random.shuffle(mask)\n",
    "\n",
    "            q_pl[i][col] = list(np.array(q_pl[i][col])[mask])\n",
    "            a_pl[i][col] = list(np.array(a_pl[i][col])[np.invert(mask)])\n",
    "\n",
    "    return q_pl, a_pl"
   ]
  },
  {
   "cell_type": "code",
   "execution_count": 12,
   "metadata": {},
   "outputs": [],
   "source": [
    "# mask 함수 활용하여\n",
    "# answer의 song, tag 개수 조정\n",
    "# question masking\n",
    "song_q, song_a = mask(song_only, ['songs'], ['tags'])\n",
    "songtag_q, songtag_a = mask(song_and_tags, ['songs', 'tags'], [])\n",
    "tag_q, tag_a = mask(tags_only, ['tags'], ['songs'])\n",
    "title_q, title_a = mask(title_only, [], ['songs', 'tags'])"
   ]
  },
  {
   "cell_type": "code",
   "execution_count": 13,
   "metadata": {},
   "outputs": [],
   "source": [
    "q = song_q + songtag_q + tag_q + title_q\n",
    "a = song_a + songtag_a + tag_a + title_a"
   ]
  },
  {
   "cell_type": "code",
   "execution_count": 15,
   "metadata": {},
   "outputs": [
    {
     "data": {
      "text/plain": [
       "array([     0,      1,      2, ..., 115068, 115069, 115070])"
      ]
     },
     "execution_count": 15,
     "metadata": {},
     "output_type": "execute_result"
    }
   ],
   "source": [
    "shuffle_indices = np.arange(len(q))\n",
    "shuffle_indices"
   ]
  },
  {
   "cell_type": "code",
   "execution_count": 17,
   "metadata": {},
   "outputs": [
    {
     "data": {
      "text/plain": [
       "array([110855,  13207,  14967, ...,  25416,  84238,  61752])"
      ]
     },
     "execution_count": 17,
     "metadata": {},
     "output_type": "execute_result"
    }
   ],
   "source": [
    "np.random.shuffle(shuffle_indices)\n",
    "shuffle_indices"
   ]
  },
  {
   "cell_type": "code",
   "execution_count": 19,
   "metadata": {},
   "outputs": [],
   "source": [
    "q = list(np.array(q)[shuffle_indices])\n",
    "a = list(np.array(a)[shuffle_indices])"
   ]
  },
  {
   "cell_type": "code",
   "execution_count": 21,
   "metadata": {},
   "outputs": [
    {
     "data": {
      "text/plain": [
       "(115071, 115071)"
      ]
     },
     "execution_count": 21,
     "metadata": {},
     "output_type": "execute_result"
    }
   ],
   "source": [
    "len(q), len(a)"
   ]
  },
  {
   "cell_type": "code",
   "execution_count": 24,
   "metadata": {},
   "outputs": [
    {
     "name": "stdout",
     "output_type": "stream",
     "text": [
      "Masked val...\n"
     ]
    },
    {
     "ename": "NameError",
     "evalue": "name '_mask_data' is not defined",
     "output_type": "error",
     "traceback": [
      "\u001b[1;31m---------------------------------------------------------------------------\u001b[0m",
      "\u001b[1;31mNameError\u001b[0m                                 Traceback (most recent call last)",
      "Cell \u001b[1;32mIn[24], line 2\u001b[0m\n\u001b[0;32m      1\u001b[0m \u001b[39mprint\u001b[39m(\u001b[39m\"\u001b[39m\u001b[39mMasked val...\u001b[39m\u001b[39m\"\u001b[39m)\n\u001b[1;32m----> 2\u001b[0m val_q, val_a \u001b[39m=\u001b[39m _mask_data(val)\n\u001b[0;32m      3\u001b[0m write_json(val_q, \u001b[39m\"\u001b[39m\u001b[39mquestions/val.json\u001b[39m\u001b[39m\"\u001b[39m)\n\u001b[0;32m      4\u001b[0m write_json(val_a, \u001b[39m\"\u001b[39m\u001b[39manswers/val.json\u001b[39m\u001b[39m\"\u001b[39m)\n",
      "\u001b[1;31mNameError\u001b[0m: name '_mask_data' is not defined"
     ]
    }
   ],
   "source": [
    "write_json(train_q, \"questions/train_q.json\")\n",
    "write_json(train_a, \"answers/train_a.json\")"
   ]
  },
  {
   "cell_type": "code",
   "execution_count": null,
   "metadata": {},
   "outputs": [],
   "source": [
    "class ArenaSplitter:\n",
    "    def _split_data(self, playlists):\n",
    "        tot = len(playlists)\n",
    "        train = playlists[:int(tot*0.80)]\n",
    "        val = playlists[int(tot*0.80):]\n",
    "\n",
    "        return train, val\n",
    "\n",
    "    def _mask(self, playlists, mask_cols, del_cols):\n",
    "        q_pl = copy.deepcopy(playlists)\n",
    "        a_pl = copy.deepcopy(playlists)\n",
    "\n",
    "        for i in range(len(playlists)):\n",
    "            for del_col in del_cols:\n",
    "                q_pl[i][del_col] = []\n",
    "                if del_col == 'songs':\n",
    "                    a_pl[i][del_col] = a_pl[i][del_col][:100]\n",
    "                elif del_col == 'tags':\n",
    "                    a_pl[i][del_col] = a_pl[i][del_col][:10]\n",
    "\n",
    "            for col in mask_cols:\n",
    "                mask_len = len(playlists[i][col])\n",
    "                mask = np.full(mask_len, False)\n",
    "                mask[:mask_len//2] = True\n",
    "                np.random.shuffle(mask)\n",
    "\n",
    "                q_pl[i][col] = list(np.array(q_pl[i][col])[mask])\n",
    "                a_pl[i][col] = list(np.array(a_pl[i][col])[np.invert(mask)])\n",
    "\n",
    "        return q_pl, a_pl\n",
    "\n",
    "    def _mask_data(self, playlists):\n",
    "        playlists = copy.deepcopy(playlists)\n",
    "        tot = len(playlists)\n",
    "        song_only = playlists[:int(tot * 0.3)]\n",
    "        song_and_tags = playlists[int(tot * 0.3):int(tot * 0.8)]\n",
    "        tags_only = playlists[int(tot * 0.8):int(tot * 0.95)]\n",
    "        title_only = playlists[int(tot * 0.95):]\n",
    "\n",
    "        print(f\"Total: {len(playlists)}, \"\n",
    "              f\"Song only: {len(song_only)}, \"\n",
    "              f\"Song & Tags: {len(song_and_tags)}, \"\n",
    "              f\"Tags only: {len(tags_only)}, \"\n",
    "              f\"Title only: {len(title_only)}\")\n",
    "\n",
    "        song_q, song_a = self._mask(song_only, ['songs'], ['tags'])\n",
    "        songtag_q, songtag_a = self._mask(song_and_tags, ['songs', 'tags'], [])\n",
    "        tag_q, tag_a = self._mask(tags_only, ['tags'], ['songs'])\n",
    "        title_q, title_a = self._mask(title_only, [], ['songs', 'tags'])\n",
    "\n",
    "        q = song_q + songtag_q + tag_q + title_q\n",
    "        a = song_a + songtag_a + tag_a + title_a\n",
    "\n",
    "        shuffle_indices = np.arange(len(q))\n",
    "        np.random.shuffle(shuffle_indices)\n",
    "\n",
    "        q = list(np.array(q)[shuffle_indices])\n",
    "        a = list(np.array(a)[shuffle_indices])\n",
    "\n",
    "        return q, a\n",
    "\n",
    "    def run(self, fname):\n",
    "        random.seed(777)\n",
    "\n",
    "        print(\"Reading data...\\n\")\n",
    "        playlists = load_json(fname)\n",
    "        random.shuffle(playlists)\n",
    "        print(f\"Total playlists: {len(playlists)}\")\n",
    "\n",
    "        print(\"Splitting data...\")\n",
    "        train, val = self._split_data(playlists)\n",
    "\n",
    "        print(\"Original train...\")\n",
    "        write_json(train, \"orig/train.json\")\n",
    "        print(\"Original val...\")\n",
    "        write_json(val, \"orig/val.json\")\n",
    "\n",
    "        print(\"Masked val...\")\n",
    "        val_q, val_a = self._mask_data(val)\n",
    "        write_json(val_q, \"questions/val.json\")\n",
    "        write_json(val_a, \"answers/val.json\")\n",
    "\n",
    "\n",
    "if __name__ == \"__main__\":\n",
    "    fire.Fire(ArenaSplitter)\n"
   ]
  }
 ],
 "metadata": {
  "kernelspec": {
   "display_name": "base",
   "language": "python",
   "name": "python3"
  },
  "language_info": {
   "codemirror_mode": {
    "name": "ipython",
    "version": 3
   },
   "file_extension": ".py",
   "mimetype": "text/x-python",
   "name": "python",
   "nbconvert_exporter": "python",
   "pygments_lexer": "ipython3",
   "version": "3.10.9"
  },
  "orig_nbformat": 4
 },
 "nbformat": 4,
 "nbformat_minor": 2
}
