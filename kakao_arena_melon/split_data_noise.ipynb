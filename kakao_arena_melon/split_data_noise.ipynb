{
 "cells": [
  {
   "cell_type": "markdown",
   "metadata": {},
   "source": [
    "## split_data code 분석"
   ]
  },
  {
   "cell_type": "code",
   "execution_count": 1,
   "metadata": {},
   "outputs": [],
   "source": [
    "import copy\n",
    "import random\n",
    "\n",
    "import fire\n",
    "import numpy as np\n",
    "\n",
    "from arena_util import load_json\n",
    "from arena_util import write_json"
   ]
  },
  {
   "cell_type": "markdown",
   "metadata": {},
   "source": [
    "### dataset load"
   ]
  },
  {
   "cell_type": "code",
   "execution_count": 2,
   "metadata": {},
   "outputs": [
    {
     "name": "stdout",
     "output_type": "stream",
     "text": [
      "Reading data...\n",
      "\n",
      "Total playlists: 115071\n"
     ]
    }
   ],
   "source": [
    "print(\"Reading data...\\n\")\n",
    "playlists = load_json('res/train.json')\n",
    "random.shuffle(playlists)\n",
    "print(f\"Total playlists: {len(playlists)}\")"
   ]
  },
  {
   "cell_type": "code",
   "execution_count": 3,
   "metadata": {},
   "outputs": [],
   "source": [
    "tot = len(playlists)\n",
    "# train:val = 8:2\n",
    "train = playlists[:int(tot*0.80)]\n",
    "val = playlists[int(tot*0.80):]"
   ]
  },
  {
   "cell_type": "markdown",
   "metadata": {},
   "source": [
    "### masking"
   ]
  },
  {
   "cell_type": "code",
   "execution_count": 5,
   "metadata": {},
   "outputs": [],
   "source": [
    "# 객체 복사\n",
    "playlists = copy.deepcopy(playlists)\n",
    "tot = len(playlists)"
   ]
  },
  {
   "cell_type": "code",
   "execution_count": 6,
   "metadata": {},
   "outputs": [],
   "source": [
    "# playlists 전체를 4개의 part로 구분해서 각각 다르게 전처리\n",
    "song_only = playlists[:int(tot * 0.3)]\n",
    "song_and_tags = playlists[int(tot * 0.3):int(tot * 0.8)]\n",
    "tags_only = playlists[int(tot * 0.8):int(tot * 0.95)]\n",
    "title_only = playlists[int(tot * 0.95):]"
   ]
  },
  {
   "cell_type": "code",
   "execution_count": 7,
   "metadata": {},
   "outputs": [
    {
     "name": "stdout",
     "output_type": "stream",
     "text": [
      "Total: 115071, Song only: 34521, Song & Tags: 57535, Tags only: 17261, Title only: 5754\n"
     ]
    }
   ],
   "source": [
    "# 4개 part별 확인\n",
    "print(f\"Total: {len(playlists)}, \"\n",
    "        f\"Song only: {len(song_only)}, \"\n",
    "        f\"Song & Tags: {len(song_and_tags)}, \"\n",
    "        f\"Tags only: {len(tags_only)}, \"\n",
    "        f\"Title only: {len(title_only)}\")"
   ]
  },
  {
   "cell_type": "markdown",
   "metadata": {},
   "source": [
    "#### masking 함수"
   ]
  },
  {
   "cell_type": "code",
   "execution_count": 8,
   "metadata": {},
   "outputs": [],
   "source": [
    "def mask(playlists, mask_cols, del_cols):\n",
    "    q_pl = copy.deepcopy(playlists)\n",
    "    a_pl = copy.deepcopy(playlists)\n",
    "\n",
    "    for i in range(len(playlists)):\n",
    "        for del_col in del_cols:\n",
    "            q_pl[i][del_col] = []\n",
    "            if del_col == 'songs':\n",
    "                a_pl[i][del_col] = a_pl[i][del_col][:100]\n",
    "            elif del_col == 'tags':\n",
    "                a_pl[i][del_col] = a_pl[i][del_col][:10]\n",
    "\n",
    "        for col in mask_cols:\n",
    "            mask_len = len(playlists[i][col])\n",
    "            mask = np.full(mask_len, False)\n",
    "            mask[:mask_len//2] = True\n",
    "            np.random.shuffle(mask)\n",
    "\n",
    "            q_pl[i][col] = list(np.array(q_pl[i][col])[mask])\n",
    "            a_pl[i][col] = list(np.array(a_pl[i][col])[np.invert(mask)])\n",
    "\n",
    "    return q_pl, a_pl"
   ]
  },
  {
   "cell_type": "code",
   "execution_count": 9,
   "metadata": {},
   "outputs": [],
   "source": [
    "# mask 함수 활용하여\n",
    "# answer의 song, tag 개수 조정\n",
    "# question masking\n",
    "song_q, song_a = mask(song_only, ['songs'], ['tags'])\n",
    "songtag_q, songtag_a = mask(song_and_tags, ['songs', 'tags'], [])\n",
    "tag_q, tag_a = mask(tags_only, ['tags'], ['songs'])\n",
    "title_q, title_a = mask(title_only, [], ['songs', 'tags'])"
   ]
  },
  {
   "cell_type": "code",
   "execution_count": 10,
   "metadata": {},
   "outputs": [],
   "source": [
    "q = song_q + songtag_q + tag_q + title_q\n",
    "a = song_a + songtag_a + tag_a + title_a"
   ]
  },
  {
   "cell_type": "code",
   "execution_count": 11,
   "metadata": {},
   "outputs": [
    {
     "data": {
      "text/plain": [
       "array([     0,      1,      2, ..., 115068, 115069, 115070])"
      ]
     },
     "execution_count": 11,
     "metadata": {},
     "output_type": "execute_result"
    }
   ],
   "source": [
    "shuffle_indices = np.arange(len(q))\n",
    "shuffle_indices"
   ]
  },
  {
   "cell_type": "code",
   "execution_count": 12,
   "metadata": {},
   "outputs": [
    {
     "data": {
      "text/plain": [
       "array([93724, 13917,  2453, ..., 35402,  2068, 84189])"
      ]
     },
     "execution_count": 12,
     "metadata": {},
     "output_type": "execute_result"
    }
   ],
   "source": [
    "np.random.shuffle(shuffle_indices)\n",
    "shuffle_indices"
   ]
  },
  {
   "cell_type": "code",
   "execution_count": 13,
   "metadata": {},
   "outputs": [],
   "source": [
    "q = list(np.array(q)[shuffle_indices])\n",
    "a = list(np.array(a)[shuffle_indices])"
   ]
  },
  {
   "cell_type": "code",
   "execution_count": 14,
   "metadata": {},
   "outputs": [
    {
     "data": {
      "text/plain": [
       "(115071, 115071)"
      ]
     },
     "execution_count": 14,
     "metadata": {},
     "output_type": "execute_result"
    }
   ],
   "source": [
    "len(q), len(a)"
   ]
  },
  {
   "cell_type": "code",
   "execution_count": 15,
   "metadata": {},
   "outputs": [],
   "source": [
    "write_json(q, \"questions/train.json\")\n",
    "write_json(a, \"answers/train.json\")"
   ]
  }
 ],
 "metadata": {
  "kernelspec": {
   "display_name": "base",
   "language": "python",
   "name": "python3"
  },
  "language_info": {
   "codemirror_mode": {
    "name": "ipython",
    "version": 3
   },
   "file_extension": ".py",
   "mimetype": "text/x-python",
   "name": "python",
   "nbconvert_exporter": "python",
   "pygments_lexer": "ipython3",
   "version": "3.8.0"
  },
  "orig_nbformat": 4
 },
 "nbformat": 4,
 "nbformat_minor": 2
}
