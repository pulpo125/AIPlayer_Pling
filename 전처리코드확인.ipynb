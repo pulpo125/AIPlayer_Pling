{
 "cells": [
  {
   "cell_type": "code",
   "execution_count": 2,
   "metadata": {},
   "outputs": [],
   "source": [
    "import json\n",
    "import pandas as pd\n",
    "import numpy as np\n",
    "from emoji import core\n",
    "import re\n",
    "import ast\n",
    "from matplotlib import pyplot as plt"
   ]
  },
  {
   "cell_type": "code",
   "execution_count": 3,
   "metadata": {},
   "outputs": [],
   "source": [
    "playlists = pd.read_json('./0_data/playlists.json', typ = 'frame', encoding='utf-8')"
   ]
  },
  {
   "cell_type": "code",
   "execution_count": 4,
   "metadata": {},
   "outputs": [
    {
     "name": "stdout",
     "output_type": "stream",
     "text": [
      "<class 'pandas.core.frame.DataFrame'>\n",
      "RangeIndex: 115071 entries, 0 to 115070\n",
      "Data columns (total 6 columns):\n",
      " #   Column        Non-Null Count   Dtype \n",
      "---  ------        --------------   ----- \n",
      " 0   tags          115071 non-null  object\n",
      " 1   id            115071 non-null  int64 \n",
      " 2   plylst_title  115071 non-null  object\n",
      " 3   songs         115071 non-null  object\n",
      " 4   like_cnt      115071 non-null  int64 \n",
      " 5   updt_date     115071 non-null  object\n",
      "dtypes: int64(2), object(4)\n",
      "memory usage: 5.3+ MB\n"
     ]
    }
   ],
   "source": [
    "playlists.info()"
   ]
  },
  {
   "cell_type": "code",
   "execution_count": 5,
   "metadata": {},
   "outputs": [
    {
     "data": {
      "text/html": [
       "<div>\n",
       "<style scoped>\n",
       "    .dataframe tbody tr th:only-of-type {\n",
       "        vertical-align: middle;\n",
       "    }\n",
       "\n",
       "    .dataframe tbody tr th {\n",
       "        vertical-align: top;\n",
       "    }\n",
       "\n",
       "    .dataframe thead th {\n",
       "        text-align: right;\n",
       "    }\n",
       "</style>\n",
       "<table border=\"1\" class=\"dataframe\">\n",
       "  <thead>\n",
       "    <tr style=\"text-align: right;\">\n",
       "      <th></th>\n",
       "      <th>tags</th>\n",
       "      <th>id</th>\n",
       "      <th>plylst_title</th>\n",
       "      <th>songs</th>\n",
       "      <th>like_cnt</th>\n",
       "      <th>updt_date</th>\n",
       "    </tr>\n",
       "  </thead>\n",
       "  <tbody>\n",
       "    <tr>\n",
       "      <th>56070</th>\n",
       "      <td>[추천, 아이돌, 새벽, 동공지진, 부끄러운, 노래추천, 엄한가사, 그, 있잖아요]</td>\n",
       "      <td>26975</td>\n",
       "      <td>새벽에 ( ͡° ͜ʖ ͡°) 들으면 좋은 노래</td>\n",
       "      <td>[108003, 386633, 396589, 135825, 334564, 60924...</td>\n",
       "      <td>4</td>\n",
       "      <td>2017-11-12 14:10:56.000</td>\n",
       "    </tr>\n",
       "  </tbody>\n",
       "</table>\n",
       "</div>"
      ],
      "text/plain": [
       "                                                 tags     id  \\\n",
       "56070  [추천, 아이돌, 새벽, 동공지진, 부끄러운, 노래추천, 엄한가사, 그, 있잖아요]  26975   \n",
       "\n",
       "                    plylst_title  \\\n",
       "56070  새벽에 ( ͡° ͜ʖ ͡°) 들으면 좋은 노래   \n",
       "\n",
       "                                                   songs  like_cnt  \\\n",
       "56070  [108003, 386633, 396589, 135825, 334564, 60924...         4   \n",
       "\n",
       "                     updt_date  \n",
       "56070  2017-11-12 14:10:56.000  "
      ]
     },
     "execution_count": 5,
     "metadata": {},
     "output_type": "execute_result"
    }
   ],
   "source": [
    "playlists[playlists['id'] == 26975]"
   ]
  },
  {
   "cell_type": "code",
   "execution_count": 6,
   "metadata": {},
   "outputs": [
    {
     "data": {
      "text/html": [
       "<div>\n",
       "<style scoped>\n",
       "    .dataframe tbody tr th:only-of-type {\n",
       "        vertical-align: middle;\n",
       "    }\n",
       "\n",
       "    .dataframe tbody tr th {\n",
       "        vertical-align: top;\n",
       "    }\n",
       "\n",
       "    .dataframe thead th {\n",
       "        text-align: right;\n",
       "    }\n",
       "</style>\n",
       "<table border=\"1\" class=\"dataframe\">\n",
       "  <thead>\n",
       "    <tr style=\"text-align: right;\">\n",
       "      <th></th>\n",
       "      <th>tags</th>\n",
       "      <th>id</th>\n",
       "      <th>plylst_title</th>\n",
       "      <th>songs</th>\n",
       "      <th>like_cnt</th>\n",
       "      <th>updt_date</th>\n",
       "    </tr>\n",
       "  </thead>\n",
       "  <tbody>\n",
       "    <tr>\n",
       "      <th>83618</th>\n",
       "      <td>[노래, 밤, 감성적인곡, 새벽]</td>\n",
       "      <td>141624</td>\n",
       "      <td>새벽에 들으면 좋은 노래</td>\n",
       "      <td>[275780, 623604, 591944, 624167, 401055, 18440...</td>\n",
       "      <td>12</td>\n",
       "      <td>2016-08-21 18:23:44.000</td>\n",
       "    </tr>\n",
       "  </tbody>\n",
       "</table>\n",
       "</div>"
      ],
      "text/plain": [
       "                     tags      id   plylst_title  \\\n",
       "83618  [노래, 밤, 감성적인곡, 새벽]  141624  새벽에 들으면 좋은 노래   \n",
       "\n",
       "                                                   songs  like_cnt  \\\n",
       "83618  [275780, 623604, 591944, 624167, 401055, 18440...        12   \n",
       "\n",
       "                     updt_date  \n",
       "83618  2016-08-21 18:23:44.000  "
      ]
     },
     "execution_count": 6,
     "metadata": {},
     "output_type": "execute_result"
    }
   ],
   "source": [
    "playlists[playlists['id'] == 141624]"
   ]
  },
  {
   "cell_type": "code",
   "execution_count": 20,
   "metadata": {},
   "outputs": [
    {
     "data": {
      "text/html": [
       "<div>\n",
       "<style scoped>\n",
       "    .dataframe tbody tr th:only-of-type {\n",
       "        vertical-align: middle;\n",
       "    }\n",
       "\n",
       "    .dataframe tbody tr th {\n",
       "        vertical-align: top;\n",
       "    }\n",
       "\n",
       "    .dataframe thead th {\n",
       "        text-align: right;\n",
       "    }\n",
       "</style>\n",
       "<table border=\"1\" class=\"dataframe\">\n",
       "  <thead>\n",
       "    <tr style=\"text-align: right;\">\n",
       "      <th></th>\n",
       "      <th>tags</th>\n",
       "      <th>id</th>\n",
       "      <th>plylst_title</th>\n",
       "      <th>songs</th>\n",
       "      <th>like_cnt</th>\n",
       "      <th>updt_date</th>\n",
       "    </tr>\n",
       "  </thead>\n",
       "  <tbody>\n",
       "    <tr>\n",
       "      <th>50715</th>\n",
       "      <td>[락]</td>\n",
       "      <td>2397</td>\n",
       "      <td>2008 그랜드민트 페스티벌</td>\n",
       "      <td>[101197, 464502, 409059, 24344, 564377, 234096...</td>\n",
       "      <td>8</td>\n",
       "      <td>2008-12-24 13:41:38.000</td>\n",
       "    </tr>\n",
       "    <tr>\n",
       "      <th>67207</th>\n",
       "      <td>[락]</td>\n",
       "      <td>105395</td>\n",
       "      <td>2008 그랜드민트 페스티벌</td>\n",
       "      <td>[400406, 502091, 630188, 115353, 454390, 28740...</td>\n",
       "      <td>11</td>\n",
       "      <td>2008-12-26 15:18:49.000</td>\n",
       "    </tr>\n",
       "    <tr>\n",
       "      <th>101918</th>\n",
       "      <td>[락]</td>\n",
       "      <td>128387</td>\n",
       "      <td>2008 그랜드민트 페스티벌</td>\n",
       "      <td>[572644, 472798, 309282, 153901, 502091, 53885...</td>\n",
       "      <td>14</td>\n",
       "      <td>2008-10-17 14:21:26.000</td>\n",
       "    </tr>\n",
       "    <tr>\n",
       "      <th>109754</th>\n",
       "      <td>[락]</td>\n",
       "      <td>30079</td>\n",
       "      <td>2008 그랜드민트 페스티벌</td>\n",
       "      <td>[4687, 447505, 464502, 409059, 24344, 564377, ...</td>\n",
       "      <td>12</td>\n",
       "      <td>2008-12-23 19:56:46.000</td>\n",
       "    </tr>\n",
       "  </tbody>\n",
       "</table>\n",
       "</div>"
      ],
      "text/plain": [
       "       tags      id     plylst_title  \\\n",
       "50715   [락]    2397  2008 그랜드민트 페스티벌   \n",
       "67207   [락]  105395  2008 그랜드민트 페스티벌   \n",
       "101918  [락]  128387  2008 그랜드민트 페스티벌   \n",
       "109754  [락]   30079  2008 그랜드민트 페스티벌   \n",
       "\n",
       "                                                    songs  like_cnt  \\\n",
       "50715   [101197, 464502, 409059, 24344, 564377, 234096...         8   \n",
       "67207   [400406, 502091, 630188, 115353, 454390, 28740...        11   \n",
       "101918  [572644, 472798, 309282, 153901, 502091, 53885...        14   \n",
       "109754  [4687, 447505, 464502, 409059, 24344, 564377, ...        12   \n",
       "\n",
       "                      updt_date  \n",
       "50715   2008-12-24 13:41:38.000  \n",
       "67207   2008-12-26 15:18:49.000  \n",
       "101918  2008-10-17 14:21:26.000  \n",
       "109754  2008-12-23 19:56:46.000  "
      ]
     },
     "execution_count": 20,
     "metadata": {},
     "output_type": "execute_result"
    }
   ],
   "source": [
    "playlists[playlists['plylst_title'] == '2008 그랜드민트 페스티벌']"
   ]
  },
  {
   "cell_type": "code",
   "execution_count": null,
   "metadata": {},
   "outputs": [],
   "source": [
    "playlists[playlists['id'] == 2397]"
   ]
  },
  {
   "cell_type": "code",
   "execution_count": 5,
   "metadata": {},
   "outputs": [
    {
     "name": "stdout",
     "output_type": "stream",
     "text": [
      "<class 'pandas.core.frame.DataFrame'>\n",
      "RangeIndex: 51479 entries, 0 to 51478\n",
      "Data columns (total 6 columns):\n",
      " #   Column        Non-Null Count  Dtype \n",
      "---  ------        --------------  ----- \n",
      " 0   tags          51479 non-null  object\n",
      " 1   id            51479 non-null  int64 \n",
      " 2   plylst_title  51479 non-null  object\n",
      " 3   songs         51479 non-null  object\n",
      " 4   like_cnt      51479 non-null  int64 \n",
      " 5   updt_date     51479 non-null  object\n",
      "dtypes: int64(2), object(4)\n",
      "memory usage: 2.4+ MB\n"
     ]
    }
   ],
   "source": [
    "ply_filter = pd.read_json('./0_data/tag1,song1_playlists.json', typ = 'frame', encoding='utf-8')\n",
    "ply_filter.info()"
   ]
  },
  {
   "cell_type": "code",
   "execution_count": 15,
   "metadata": {},
   "outputs": [
    {
     "data": {
      "text/html": [
       "<div>\n",
       "<style scoped>\n",
       "    .dataframe tbody tr th:only-of-type {\n",
       "        vertical-align: middle;\n",
       "    }\n",
       "\n",
       "    .dataframe tbody tr th {\n",
       "        vertical-align: top;\n",
       "    }\n",
       "\n",
       "    .dataframe thead th {\n",
       "        text-align: right;\n",
       "    }\n",
       "</style>\n",
       "<table border=\"1\" class=\"dataframe\">\n",
       "  <thead>\n",
       "    <tr style=\"text-align: right;\">\n",
       "      <th></th>\n",
       "      <th>tags</th>\n",
       "      <th>id</th>\n",
       "      <th>plylst_title</th>\n",
       "      <th>songs</th>\n",
       "      <th>like_cnt</th>\n",
       "      <th>updt_date</th>\n",
       "    </tr>\n",
       "  </thead>\n",
       "  <tbody>\n",
       "  </tbody>\n",
       "</table>\n",
       "</div>"
      ],
      "text/plain": [
       "Empty DataFrame\n",
       "Columns: [tags, id, plylst_title, songs, like_cnt, updt_date]\n",
       "Index: []"
      ]
     },
     "execution_count": 15,
     "metadata": {},
     "output_type": "execute_result"
    }
   ],
   "source": [
    "ply_filter[ply_filter['id'] == 2397]"
   ]
  },
  {
   "cell_type": "code",
   "execution_count": 9,
   "metadata": {},
   "outputs": [
    {
     "name": "stdout",
     "output_type": "stream",
     "text": [
      "<class 'pandas.core.frame.DataFrame'>\n",
      "RangeIndex: 46758 entries, 0 to 46757\n",
      "Data columns (total 6 columns):\n",
      " #   Column        Non-Null Count  Dtype \n",
      "---  ------        --------------  ----- \n",
      " 0   tags          46758 non-null  object\n",
      " 1   id            46758 non-null  int64 \n",
      " 2   plylst_title  46758 non-null  object\n",
      " 3   songs         46758 non-null  object\n",
      " 4   like_cnt      46758 non-null  int64 \n",
      " 5   updt_date     46758 non-null  object\n",
      "dtypes: int64(2), object(4)\n",
      "memory usage: 2.1+ MB\n"
     ]
    }
   ],
   "source": [
    "ply_filter2 = pd.read_json('./0_data/tag3,song3_playlists.json', typ = 'frame', encoding='utf-8')\n",
    "ply_filter2.info()"
   ]
  },
  {
   "cell_type": "code",
   "execution_count": 14,
   "metadata": {},
   "outputs": [
    {
     "data": {
      "text/html": [
       "<div>\n",
       "<style scoped>\n",
       "    .dataframe tbody tr th:only-of-type {\n",
       "        vertical-align: middle;\n",
       "    }\n",
       "\n",
       "    .dataframe tbody tr th {\n",
       "        vertical-align: top;\n",
       "    }\n",
       "\n",
       "    .dataframe thead th {\n",
       "        text-align: right;\n",
       "    }\n",
       "</style>\n",
       "<table border=\"1\" class=\"dataframe\">\n",
       "  <thead>\n",
       "    <tr style=\"text-align: right;\">\n",
       "      <th></th>\n",
       "      <th>tags</th>\n",
       "      <th>id</th>\n",
       "      <th>plylst_title</th>\n",
       "      <th>songs</th>\n",
       "      <th>like_cnt</th>\n",
       "      <th>updt_date</th>\n",
       "    </tr>\n",
       "  </thead>\n",
       "  <tbody>\n",
       "  </tbody>\n",
       "</table>\n",
       "</div>"
      ],
      "text/plain": [
       "Empty DataFrame\n",
       "Columns: [tags, id, plylst_title, songs, like_cnt, updt_date]\n",
       "Index: []"
      ]
     },
     "execution_count": 14,
     "metadata": {},
     "output_type": "execute_result"
    }
   ],
   "source": [
    "ply_filter2[ply_filter2['id'] == 2397]"
   ]
  },
  {
   "cell_type": "code",
   "execution_count": 18,
   "metadata": {},
   "outputs": [
    {
     "name": "stdout",
     "output_type": "stream",
     "text": [
      "<class 'pandas.core.frame.DataFrame'>\n",
      "RangeIndex: 57280 entries, 0 to 57279\n",
      "Data columns (total 6 columns):\n",
      " #   Column        Non-Null Count  Dtype \n",
      "---  ------        --------------  ----- \n",
      " 0   tags          57280 non-null  object\n",
      " 1   id            57280 non-null  int64 \n",
      " 2   plylst_title  57280 non-null  object\n",
      " 3   songs         57280 non-null  object\n",
      " 4   like_cnt      57280 non-null  int64 \n",
      " 5   updt_date     57280 non-null  object\n",
      "dtypes: int64(2), object(4)\n",
      "memory usage: 2.6+ MB\n"
     ]
    }
   ],
   "source": [
    "ply_filter0 = pd.read_json('./0_data/data.json', typ = 'frame', encoding='utf-8')\n",
    "ply_filter0.info()"
   ]
  },
  {
   "cell_type": "code",
   "execution_count": 19,
   "metadata": {},
   "outputs": [
    {
     "data": {
      "text/html": [
       "<div>\n",
       "<style scoped>\n",
       "    .dataframe tbody tr th:only-of-type {\n",
       "        vertical-align: middle;\n",
       "    }\n",
       "\n",
       "    .dataframe tbody tr th {\n",
       "        vertical-align: top;\n",
       "    }\n",
       "\n",
       "    .dataframe thead th {\n",
       "        text-align: right;\n",
       "    }\n",
       "</style>\n",
       "<table border=\"1\" class=\"dataframe\">\n",
       "  <thead>\n",
       "    <tr style=\"text-align: right;\">\n",
       "      <th></th>\n",
       "      <th>tags</th>\n",
       "      <th>id</th>\n",
       "      <th>plylst_title</th>\n",
       "      <th>songs</th>\n",
       "      <th>like_cnt</th>\n",
       "      <th>updt_date</th>\n",
       "    </tr>\n",
       "  </thead>\n",
       "  <tbody>\n",
       "    <tr>\n",
       "      <th>41841</th>\n",
       "      <td>[락]</td>\n",
       "      <td>2397</td>\n",
       "      <td>2008 그랜드민트 페스티벌</td>\n",
       "      <td>[564377, 574424, 86502, 264929, 464767, 472798...</td>\n",
       "      <td>8</td>\n",
       "      <td>2008-12-24 13:41:38.000</td>\n",
       "    </tr>\n",
       "  </tbody>\n",
       "</table>\n",
       "</div>"
      ],
      "text/plain": [
       "      tags    id     plylst_title  \\\n",
       "41841  [락]  2397  2008 그랜드민트 페스티벌   \n",
       "\n",
       "                                                   songs  like_cnt  \\\n",
       "41841  [564377, 574424, 86502, 264929, 464767, 472798...         8   \n",
       "\n",
       "                     updt_date  \n",
       "41841  2008-12-24 13:41:38.000  "
      ]
     },
     "execution_count": 19,
     "metadata": {},
     "output_type": "execute_result"
    }
   ],
   "source": [
    "ply_filter0[ply_filter0['id'] == 2397]"
   ]
  },
  {
   "cell_type": "code",
   "execution_count": 7,
   "metadata": {},
   "outputs": [
    {
     "ename": "NameError",
     "evalue": "name 'df' is not defined",
     "output_type": "error",
     "traceback": [
      "\u001b[1;31m---------------------------------------------------------------------------\u001b[0m",
      "\u001b[1;31mNameError\u001b[0m                                 Traceback (most recent call last)",
      "\u001b[1;32mc:\\ROOT_final\\final_project\\전처리코드확인.ipynb 셀 14\u001b[0m line \u001b[0;36m1\n\u001b[1;32m----> <a href='vscode-notebook-cell:/c%3A/ROOT_final/final_project/%EC%A0%84%EC%B2%98%EB%A6%AC%EC%BD%94%EB%93%9C%ED%99%95%EC%9D%B8.ipynb#X14sZmlsZQ%3D%3D?line=0'>1</a>\u001b[0m df\n",
      "\u001b[1;31mNameError\u001b[0m: name 'df' is not defined"
     ]
    }
   ],
   "source": [
    "df"
   ]
  }
 ],
 "metadata": {
  "kernelspec": {
   "display_name": "base",
   "language": "python",
   "name": "python3"
  },
  "language_info": {
   "codemirror_mode": {
    "name": "ipython",
    "version": 3
   },
   "file_extension": ".py",
   "mimetype": "text/x-python",
   "name": "python",
   "nbconvert_exporter": "python",
   "pygments_lexer": "ipython3",
   "version": "3.11.4"
  }
 },
 "nbformat": 4,
 "nbformat_minor": 2
}
